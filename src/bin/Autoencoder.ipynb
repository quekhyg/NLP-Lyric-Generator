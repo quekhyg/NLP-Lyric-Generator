{
 "cells": [
  {
   "cell_type": "code",
   "execution_count": 1,
   "id": "48fb1788",
   "metadata": {},
   "outputs": [],
   "source": [
    "### Standard Imports\n",
    "import numpy as np\n",
    "import pandas as pd\n",
    "import matplotlib.pyplot as plt\n",
    "import re\n",
    "import copy\n",
    "import time\n",
    "import os\n",
    "import sys\n",
    "\n",
    "#import nltk"
   ]
  },
  {
   "cell_type": "code",
   "execution_count": 2,
   "id": "64ffb0eb",
   "metadata": {},
   "outputs": [],
   "source": [
    "### Custom Imports\n",
    "sys.path.append('../')\n",
    "import lib.utilities as utils"
   ]
  },
  {
   "cell_type": "code",
   "execution_count": 3,
   "id": "c442c41e",
   "metadata": {},
   "outputs": [],
   "source": [
    "corpus = utils.load_corpus()"
   ]
  },
  {
   "cell_type": "code",
   "execution_count": 4,
   "id": "6612f318",
   "metadata": {},
   "outputs": [],
   "source": [
    "test = utils.preprocess_text(corpus, keep='\\<|\\>')"
   ]
  },
  {
   "cell_type": "code",
   "execution_count": 5,
   "id": "af0af32f",
   "metadata": {},
   "outputs": [],
   "source": [
    "test1 = utils.split_text(corpus)"
   ]
  },
  {
   "cell_type": "code",
   "execution_count": 6,
   "id": "d442bd7d",
   "metadata": {
    "scrolled": true
   },
   "outputs": [],
   "source": [
    "test2 = utils.split_song(test1[1])"
   ]
  },
  {
   "cell_type": "code",
   "execution_count": 7,
   "id": "97efa214",
   "metadata": {},
   "outputs": [
    {
     "data": {
      "text/plain": [
       "\"<VERSE>\\nIn the early years Our poor pioneers\\nWorked down by the riverside\\nDrawn from many lands With dreams in their hands\\nThe values they gave us survive\\n\\n<VERSE>\\nAs four streams flow To make one river grow\\nSo we came together as one\\nWe live side by side And share island wide\\nA style Singaporean\\n\\n<CHORUS>\\nThis is our home A home that's grown\\nFrom a little room To a country of our own\\nNow we welcome everyone to see\\nSingapore - a city for the world\\n\\n<VERSE>\\nWe reach out our hands To friends in far off lands\\nAnd bridge dividing streams\\nTogether we can build A world which is filled\\nWith hope of the Singapore dream\\n\\n<CHORUS>\\nThis is our home A home that's grown\\nFrom a little room To a country of our own\\nNow we welcome everyone to see\\nSingapore - a city for the world\\n\\n<CHORUS>\\nThis is our home A home that's grown\\nFrom a little room To a country of our own\\nNow we welcome everyone to see\\nSingapore - a city for the world\\n\\n<CHORUS>\\nThis is our home A home that's grown\\nFrom a little room To a country of our own\\nNow we welcome everyone to see\\nSingapore - a city for the world\\nA nation's home that's safe and free\\nA city for the world\""
      ]
     },
     "execution_count": 7,
     "metadata": {},
     "output_type": "execute_result"
    }
   ],
   "source": [
    "test1[1]"
   ]
  },
  {
   "cell_type": "code",
   "execution_count": 8,
   "id": "6e7ce08b",
   "metadata": {},
   "outputs": [
    {
     "data": {
      "text/plain": [
       "{'<BRIDGE>': [],\n",
       " '<CHORUS>': [\"This is our home A home that's grown\\nFrom a little room To a country of our own\\nNow we welcome everyone to see\\nSingapore - a city for the world\",\n",
       "  \"This is our home A home that's grown\\nFrom a little room To a country of our own\\nNow we welcome everyone to see\\nSingapore - a city for the world\"],\n",
       " '<OTHERS>': [],\n",
       " '<PRECHORUS>': [],\n",
       " '<PRELUDE>': [],\n",
       " '<VERSE>': ['In the early years Our poor pioneers\\nWorked down by the riverside\\nDrawn from many lands With dreams in their hands\\nThe values they gave us survive',\n",
       "  'We reach out our hands To friends in far off lands\\nAnd bridge dividing streams\\nTogether we can build A world which is filled\\nWith hope of the Singapore dream']}"
      ]
     },
     "execution_count": 8,
     "metadata": {},
     "output_type": "execute_result"
    }
   ],
   "source": [
    "test2"
   ]
  },
  {
   "cell_type": "code",
   "execution_count": null,
   "id": "806c8c8d",
   "metadata": {},
   "outputs": [],
   "source": []
  },
  {
   "cell_type": "code",
   "execution_count": null,
   "id": "b001b304",
   "metadata": {},
   "outputs": [],
   "source": []
  }
 ],
 "metadata": {
  "kernelspec": {
   "display_name": "Python 3",
   "language": "python",
   "name": "python3"
  },
  "language_info": {
   "codemirror_mode": {
    "name": "ipython",
    "version": 3
   },
   "file_extension": ".py",
   "mimetype": "text/x-python",
   "name": "python",
   "nbconvert_exporter": "python",
   "pygments_lexer": "ipython3",
   "version": "3.8.8"
  }
 },
 "nbformat": 4,
 "nbformat_minor": 5
}
