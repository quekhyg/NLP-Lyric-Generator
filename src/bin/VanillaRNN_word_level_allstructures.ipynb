{
  "cells": [
    {
      "cell_type": "markdown",
      "metadata": {
        "id": "view-in-github",
        "colab_type": "text"
      },
      "source": [
        "<a href=\"https://colab.research.google.com/github/quekhyg/NLP-Lyric-Generator/blob/main/VanillaRNN_word_level_allstructures.ipynb\" target=\"_parent\"><img src=\"https://colab.research.google.com/assets/colab-badge.svg\" alt=\"Open In Colab\"/></a>"
      ]
    },
    {
      "cell_type": "markdown",
      "id": "9a1d448c",
      "metadata": {
        "id": "9a1d448c",
        "papermill": {
          "duration": 0.03882,
          "end_time": "2022-05-26T11:02:34.706822",
          "exception": false,
          "start_time": "2022-05-26T11:02:34.668002",
          "status": "completed"
        },
        "tags": []
      },
      "source": [
        "# NDP Song Lyric Generation (using RNN LSTM)"
      ]
    },
    {
      "cell_type": "markdown",
      "id": "ba55e8e1",
      "metadata": {
        "id": "ba55e8e1",
        "papermill": {
          "duration": 0.037205,
          "end_time": "2022-05-26T11:02:34.785392",
          "exception": false,
          "start_time": "2022-05-26T11:02:34.748187",
          "status": "completed"
        },
        "tags": []
      },
      "source": [
        "_Inspired by [Text generation with an RNN](https://www.tensorflow.org/tutorials/text/text_generation)_"
      ]
    },
    {
      "cell_type": "code",
      "source": [
        "from google.colab import drive\n",
        "drive.mount('/content/drive')\n",
        "%cd /content/drive/MyDrive/SMU_MITB_NLP/NLP-Lyric-Generator/"
      ],
      "metadata": {
        "id": "Nos-oAoWZQgQ"
      },
      "execution_count": null,
      "outputs": [],
      "id": "Nos-oAoWZQgQ"
    },
    {
      "cell_type": "code",
      "source": [
        "!pip install rouge"
      ],
      "metadata": {
        "id": "WY3Au4SyZaQ2"
      },
      "execution_count": null,
      "outputs": [],
      "id": "WY3Au4SyZaQ2"
    },
    {
      "cell_type": "code",
      "source": [
        "!pip install spacy"
      ],
      "metadata": {
        "id": "MiDWPkw1Zegr"
      },
      "execution_count": null,
      "outputs": [],
      "id": "MiDWPkw1Zegr"
    },
    {
      "cell_type": "markdown",
      "metadata": {
        "papermill": {
          "duration": 0.0385,
          "end_time": "2022-05-26T11:02:34.861223",
          "exception": false,
          "start_time": "2022-05-26T11:02:34.822723",
          "status": "completed"
        },
        "tags": [],
        "id": "um68IzmJewqD"
      },
      "source": [
        "## Import dependencies"
      ],
      "id": "um68IzmJewqD"
    },
    {
      "cell_type": "code",
      "execution_count": null,
      "metadata": {
        "execution": {
          "iopub.execute_input": "2022-05-26T11:02:34.939193Z",
          "iopub.status.busy": "2022-05-26T11:02:34.938766Z",
          "iopub.status.idle": "2022-05-26T11:02:41.630933Z",
          "shell.execute_reply": "2022-05-26T11:02:41.629397Z"
        },
        "papermill": {
          "duration": 6.733755,
          "end_time": "2022-05-26T11:02:41.632807",
          "exception": false,
          "start_time": "2022-05-26T11:02:34.899052",
          "status": "completed"
        },
        "tags": [],
        "id": "b-mW5N4yewqD"
      },
      "outputs": [],
      "source": [
        "import tensorflow as tf\n",
        "import matplotlib.pyplot as plt\n",
        "import numpy as np\n",
        "import platform\n",
        "import time\n",
        "import pathlib\n",
        "import os\n",
        "import re\n",
        "import sys\n",
        "import json \n",
        "\n",
        "import spacy\n",
        "import nltk\n",
        "from nltk.tokenize import word_tokenize\n",
        "nltk.download(\"stopwords\")\n",
        "from nltk.corpus import stopwords\n",
        "from wordcloud import WordCloud\n",
        "from PIL import Image\n",
        "from sklearn.model_selection import train_test_split\n",
        "from gensim import downloader\n",
        "\n",
        "### Custom Imports\n",
        "import os\n",
        "import sys\n",
        "sys.path.append('../')\n",
        "import lib.utilities as utils\n",
        "from lib.sentiment import Sentiment\n",
        "from lib.bleu_rouge import bleu_rouge\n",
        "\n",
        "print('Python version:', platform.python_version())\n",
        "print('Tensorflow version:', tf.__version__)\n",
        "print('Keras version:', tf.keras.__version__)"
      ],
      "id": "b-mW5N4yewqD"
    },
    {
      "cell_type": "code",
      "source": [
        "tf.random.set_seed(2022)\n",
        "\n",
        "import json\n",
        "with open('./output/prompt_ref.json') as f:\n",
        "    prompt_ref = json.load(f)"
      ],
      "metadata": {
        "id": "l_gLCFCCbY3g"
      },
      "execution_count": null,
      "outputs": [],
      "id": "l_gLCFCCbY3g"
    },
    {
      "cell_type": "markdown",
      "metadata": {
        "papermill": {
          "duration": 0.037845,
          "end_time": "2022-05-26T11:02:41.709113",
          "exception": false,
          "start_time": "2022-05-26T11:02:41.671268",
          "status": "completed"
        },
        "tags": [],
        "id": "jV86kcLwewqE"
      },
      "source": [
        "## Get data"
      ],
      "id": "jV86kcLwewqE"
    },
    {
      "cell_type": "code",
      "execution_count": null,
      "metadata": {
        "execution": {
          "iopub.execute_input": "2022-05-26T11:02:41.785595Z",
          "iopub.status.busy": "2022-05-26T11:02:41.785103Z",
          "iopub.status.idle": "2022-05-26T11:02:41.788814Z",
          "shell.execute_reply": "2022-05-26T11:02:41.788062Z"
        },
        "papermill": {
          "duration": 0.043688,
          "end_time": "2022-05-26T11:02:41.790387",
          "exception": false,
          "start_time": "2022-05-26T11:02:41.746699",
          "status": "completed"
        },
        "tags": [],
        "id": "-6fiOHa3ewqE"
      },
      "outputs": [],
      "source": [
        "PATH = './data/'"
      ],
      "id": "-6fiOHa3ewqE"
    },
    {
      "cell_type": "code",
      "execution_count": null,
      "metadata": {
        "id": "WtF4HLz7ewqF"
      },
      "outputs": [],
      "source": [
        "#Utils has instantiated the seed to be 2022 by default\n",
        "train_corpus, val_corpus, train_files, val_files = utils.split_corpus(path = PATH, end_song_token = '\\n\\n\\n')"
      ],
      "id": "WtF4HLz7ewqF"
    },
    {
      "cell_type": "code",
      "execution_count": null,
      "metadata": {
        "colab": {
          "base_uri": "https://localhost:8080/"
        },
        "outputId": "bb81ad73-1670-4f24-99cb-333ff924b295",
        "id": "ZZ7gzi8qkW3A"
      },
      "outputs": [
        {
          "output_type": "execute_result",
          "data": {
            "text/plain": [
              "['City for the World.txt',\n",
              " 'Everybody Is Special.txt',\n",
              " 'Shine for Singapore.txt',\n",
              " 'Sing Sing Sing.txt',\n",
              " 'Singapura, Sunny Island.txt',\n",
              " 'The Road Ahead.txt',\n",
              " 'There_s A Part For Everyone.txt',\n",
              " 'Voices From The Heart.txt',\n",
              " 'We are Singapore.txt',\n",
              " 'Where I Belong.txt']"
            ]
          },
          "metadata": {},
          "execution_count": 23
        }
      ],
      "source": [
        "sorted(val_files)"
      ],
      "id": "ZZ7gzi8qkW3A"
    },
    {
      "cell_type": "markdown",
      "id": "61d6d5db",
      "metadata": {
        "id": "61d6d5db",
        "papermill": {
          "duration": 0.038277,
          "end_time": "2022-05-26T11:02:42.173438",
          "exception": false,
          "start_time": "2022-05-26T11:02:42.135161",
          "status": "completed"
        },
        "tags": []
      },
      "source": [
        "## Analyze the dataset"
      ]
    },
    {
      "cell_type": "code",
      "execution_count": null,
      "id": "9de20f34",
      "metadata": {
        "colab": {
          "base_uri": "https://localhost:8080/"
        },
        "execution": {
          "iopub.execute_input": "2022-05-26T11:02:42.339674Z",
          "iopub.status.busy": "2022-05-26T11:02:42.339130Z",
          "iopub.status.idle": "2022-05-26T11:02:42.344315Z",
          "shell.execute_reply": "2022-05-26T11:02:42.343109Z"
        },
        "id": "9de20f34",
        "outputId": "ae200e08-4745-4399-e6c4-dff399839e93",
        "papermill": {
          "duration": 0.046119,
          "end_time": "2022-05-26T11:02:42.346560",
          "exception": false,
          "start_time": "2022-05-26T11:02:42.300441",
          "status": "completed"
        },
        "tags": []
      },
      "outputs": [
        {
          "output_type": "stream",
          "name": "stdout",
          "text": [
            "Length of Corpus: 45747 characters\n"
          ]
        }
      ],
      "source": [
        "print('Length of Corpus: {} characters'.format(len(train_corpus)))"
      ]
    },
    {
      "cell_type": "code",
      "execution_count": null,
      "id": "6cf430e0",
      "metadata": {
        "colab": {
          "base_uri": "https://localhost:8080/"
        },
        "execution": {
          "iopub.execute_input": "2022-05-26T11:02:42.425021Z",
          "iopub.status.busy": "2022-05-26T11:02:42.424517Z",
          "iopub.status.idle": "2022-05-26T11:02:42.428272Z",
          "shell.execute_reply": "2022-05-26T11:02:42.427588Z"
        },
        "id": "6cf430e0",
        "outputId": "48c3eec3-63bc-484c-eb81-ea1c001940c1",
        "papermill": {
          "duration": 0.045326,
          "end_time": "2022-05-26T11:02:42.430962",
          "exception": false,
          "start_time": "2022-05-26T11:02:42.385636",
          "status": "completed"
        },
        "tags": []
      },
      "outputs": [
        {
          "output_type": "stream",
          "name": "stdout",
          "text": [
            "<VERSE>\n",
            "I want you to understand\n",
            "Because of you, I am who I am\n",
            "Because of who you are\n",
            "I can be everything I am\n",
            "\n",
            "<VERSE>\n",
            "Show me how I should be strong\n",
            "Teach me that I can be weak\n",
            "Because of who you are\n",
            "I can find anything I seek\n",
            "\n",
            "<PRECHORUS>\n",
            "And in each other, there will be\n",
            "The colours of your tapestry\n",
            "Colours you've never seen\n",
            "\n",
            "<CHORUS>\n",
            "Here's to my home, to my homeland\n",
            "To every shining crystal in the sand\n",
            "Because of who you are I can be everything I am\n",
            "\n",
            "<CHORUS>\n",
            "Here's to you, to my homeland\n",
            "I\n"
          ]
        }
      ],
      "source": [
        "# Take a look at the first 1000 characters in text.\n",
        "print(train_corpus[:500])"
      ]
    },
    {
      "cell_type": "code",
      "execution_count": null,
      "id": "28c7d4ae",
      "metadata": {
        "colab": {
          "base_uri": "https://localhost:8080/"
        },
        "execution": {
          "iopub.execute_input": "2022-05-26T11:02:42.512094Z",
          "iopub.status.busy": "2022-05-26T11:02:42.511558Z",
          "iopub.status.idle": "2022-05-26T11:02:42.542215Z",
          "shell.execute_reply": "2022-05-26T11:02:42.540960Z"
        },
        "id": "28c7d4ae",
        "outputId": "69500fae-2c09-4653-cde0-2c78a2115cca",
        "papermill": {
          "duration": 0.071975,
          "end_time": "2022-05-26T11:02:42.544335",
          "exception": false,
          "start_time": "2022-05-26T11:02:42.472360",
          "status": "completed"
        },
        "tags": []
      },
      "outputs": [
        {
          "output_type": "stream",
          "name": "stdout",
          "text": [
            "Length of Train Corpus: 10947 words\n",
            "Vocab Size: 931\n",
            "Vocab Examples: ['<VERSE>', '\\n', 'i', 'want', 'you', 'to', 'understand', '\\n', 'because', 'of', 'you', 'i', 'am', 'who', 'i', 'am', '\\n', 'because', 'of', 'who']\n",
            "\n",
            "Length of Validation Corpus: 2585 words\n",
            "Vocab Size: 422\n",
            "Vocab Examples: ['<VERSE>', '\\n', 'many', 'years', 'have', 'passed', 'since', 'independence', '\\n', 'we', 'are', 'the', 'future', 'generation', 'of', 'that', 'day', '\\n', 'times', 'went']\n"
          ]
        }
      ],
      "source": [
        "# clean corpus\n",
        "def clean_tokenize_corpus(corpus):\n",
        "  corpus_clean = utils.decontraction(corpus)\n",
        "  corpus_clean = utils.remove_punct(corpus_clean, '\\<|\\>')\n",
        "\n",
        "  # tokenize and count the number of words\n",
        "  corpus_clean = re.sub('\\n\\n', '\\n', corpus_clean)\n",
        "  corpus_clean = re.sub('\\n', ' \\n ', corpus_clean)\n",
        "  tokens = re.split(' ', corpus_clean)\n",
        "  tokens_clean = []\n",
        "  structures = ['<BRIDGE>', '<CHORUS>', '<OTHERS>', '<PRECHORUS>', '<PRELUDE>', '<VERSE>']\n",
        "  for i,t in enumerate(tokens):\n",
        "      if t:                                  # remove empty strings\n",
        "          if i < len(tokens)-1 and t == '\\n' and tokens[i+1] in structures:\n",
        "              tokens_clean.append('\\n\\n')    # change to double line break for token before structure \n",
        "          elif t not in structures:\n",
        "              tokens_clean.append(t.lower()) # lower case if not structure tokens\n",
        "          else:\n",
        "              tokens_clean.append(t)\n",
        "\n",
        "  return tokens_clean\n",
        "\n",
        "\n",
        "train_tokens_clean = clean_tokenize_corpus(train_corpus)\n",
        "val_tokens_clean = clean_tokenize_corpus(val_corpus)\n",
        "\n",
        "print('Length of Train Corpus: {} words'.format(len(train_tokens_clean)))\n",
        "# The unique words in the file\n",
        "vocab = sorted(set(train_tokens_clean))\n",
        "print('Vocab Size:', len(vocab))\n",
        "print('Vocab Examples:', train_tokens_clean[:20])\n",
        "print('')\n",
        "\n",
        "print('Length of Validation Corpus: {} words'.format(len(val_tokens_clean)))\n",
        "# The unique words in the file\n",
        "val_vocab = sorted(set(val_tokens_clean))\n",
        "print('Vocab Size:', len(val_vocab))\n",
        "print('Vocab Examples:', val_tokens_clean[:20])\n",
        "\n"
      ]
    },
    {
      "cell_type": "code",
      "execution_count": null,
      "id": "0ae446b1",
      "metadata": {
        "colab": {
          "base_uri": "https://localhost:8080/",
          "height": 390
        },
        "execution": {
          "iopub.execute_input": "2022-05-26T11:02:42.712092Z",
          "iopub.status.busy": "2022-05-26T11:02:42.711619Z",
          "iopub.status.idle": "2022-05-26T11:02:43.374613Z",
          "shell.execute_reply": "2022-05-26T11:02:43.373923Z"
        },
        "id": "0ae446b1",
        "outputId": "7c9b35c7-cadc-4ed2-b799-5fcff6de8f5b",
        "papermill": {
          "duration": 0.706406,
          "end_time": "2022-05-26T11:02:43.378278",
          "exception": false,
          "start_time": "2022-05-26T11:02:42.671872",
          "status": "completed"
        },
        "tags": []
      },
      "outputs": [
        {
          "output_type": "display_data",
          "data": {
            "text/plain": [
              "<Figure size 864x720 with 1 Axes>"
            ],
            "image/png": "[encoded data removed]"
          },
          "metadata": {
            "needs_background": "light"
          }
        }
      ],
      "source": [
        "# Unigram Word Cloud\n",
        "\n",
        "# remove stopwords\n",
        "stop = set(stopwords.words('english'))\n",
        "structures = ['<BRIDGE>', '<CHORUS>', '<OTHERS>', '<PRECHORUS>', '<PRELUDE>', '<VERSE>']\n",
        "stop.update(structures)\n",
        "stop.update(['\\n', '\\n\\n'])\n",
        "tokens_no_stopwords = [t for t in train_tokens_clean if t not in stop]\n",
        "\n",
        "corpus_dict = {}\n",
        "for word in tokens_no_stopwords:\n",
        "    corpus_dict[word] = corpus_dict.get(word, 0) + 1\n",
        "\n",
        "sg_mask = np.array(Image.open(\"./images/singaporemap.png\"))\n",
        "my_cloud = WordCloud(background_color='white', stopwords=stop, mask=sg_mask).generate_from_frequencies(corpus_dict)\n",
        "\n",
        "plt.figure(figsize=(12,10))\n",
        "plt.imshow(my_cloud, interpolation='bilinear') \n",
        "plt.axis('off')\n",
        "plt.show()"
      ]
    },
    {
      "cell_type": "markdown",
      "id": "53d02df3",
      "metadata": {
        "id": "53d02df3",
        "papermill": {
          "duration": 0.043691,
          "end_time": "2022-05-26T11:02:43.465502",
          "exception": false,
          "start_time": "2022-05-26T11:02:43.421811",
          "status": "completed"
        },
        "tags": []
      },
      "source": [
        "## Process the dataset"
      ]
    },
    {
      "cell_type": "markdown",
      "id": "915966b8",
      "metadata": {
        "id": "915966b8",
        "papermill": {
          "duration": 0.04333,
          "end_time": "2022-05-26T11:02:43.551769",
          "exception": false,
          "start_time": "2022-05-26T11:02:43.508439",
          "status": "completed"
        },
        "tags": []
      },
      "source": [
        "### Vectorize the text\n",
        "\n",
        "Before feeding the text to our RNN we need to convert the text from a sequence of characters to a sequence of numbers. To do so we will detect all unique characters in the text, form a vocabulary out of it and replace each character with its index in the vocabulary."
      ]
    },
    {
      "cell_type": "code",
      "execution_count": null,
      "id": "da851248",
      "metadata": {
        "execution": {
          "iopub.execute_input": "2022-05-26T11:02:43.638935Z",
          "iopub.status.busy": "2022-05-26T11:02:43.638698Z",
          "iopub.status.idle": "2022-05-26T11:02:43.643901Z",
          "shell.execute_reply": "2022-05-26T11:02:43.643239Z"
        },
        "id": "da851248",
        "papermill": {
          "duration": 0.050838,
          "end_time": "2022-05-26T11:02:43.645542",
          "exception": false,
          "start_time": "2022-05-26T11:02:43.594704",
          "status": "completed"
        },
        "tags": []
      },
      "outputs": [],
      "source": [
        "# get word and indices mapping\n",
        "word_indices = {}\n",
        "indices_word = {}\n",
        "word_indices['<OOV>'] = 0\n",
        "indices_word[0] = '<OOV>'\n",
        "for i, w in enumerate(sorted(set(train_tokens_clean)), start=1):\n",
        "# for i, w in enumerate(sorted(set(train_tokens_clean))):\n",
        "    word_indices[w] = i\n",
        "    indices_word[i] = w"
      ]
    },
    {
      "cell_type": "code",
      "execution_count": null,
      "id": "liB0dAvS7TOT",
      "metadata": {
        "colab": {
          "base_uri": "https://localhost:8080/"
        },
        "id": "liB0dAvS7TOT",
        "outputId": "35786af1-e8b3-43ec-d49f-bb0c24b2b372"
      },
      "outputs": [
        {
          "output_type": "execute_result",
          "data": {
            "text/plain": [
              "[('<OOV>', 0),\n",
              " ('\\n', 1),\n",
              " ('\\n\\n', 2),\n",
              " ('<BRIDGE>', 3),\n",
              " ('<CHORUS>', 4),\n",
              " ('<OTHERS>', 5),\n",
              " ('<PRECHORUS>', 6),\n",
              " ('<PRELUDE>', 7),\n",
              " ('<VERSE>', 8),\n",
              " ('a', 9)]"
            ]
          },
          "metadata": {},
          "execution_count": 29
        }
      ],
      "source": [
        "list(word_indices.items())[:10]"
      ]
    },
    {
      "cell_type": "code",
      "execution_count": null,
      "id": "c687451d",
      "metadata": {
        "colab": {
          "base_uri": "https://localhost:8080/"
        },
        "id": "c687451d",
        "outputId": "f7b4f91b-b490-485a-b029-93a6ad78c973"
      },
      "outputs": [
        {
          "output_type": "execute_result",
          "data": {
            "text/plain": [
              "[(0, '<OOV>'),\n",
              " (1, '\\n'),\n",
              " (2, '\\n\\n'),\n",
              " (3, '<BRIDGE>'),\n",
              " (4, '<CHORUS>'),\n",
              " (5, '<OTHERS>'),\n",
              " (6, '<PRECHORUS>'),\n",
              " (7, '<PRELUDE>'),\n",
              " (8, '<VERSE>'),\n",
              " (9, 'a')]"
            ]
          },
          "metadata": {},
          "execution_count": 30
        }
      ],
      "source": [
        "list(indices_word.items())[:10]"
      ]
    },
    {
      "cell_type": "code",
      "execution_count": null,
      "id": "7ec4e65b",
      "metadata": {
        "execution": {
          "iopub.execute_input": "2022-05-26T11:02:43.733460Z",
          "iopub.status.busy": "2022-05-26T11:02:43.732738Z",
          "iopub.status.idle": "2022-05-26T11:02:43.753297Z",
          "shell.execute_reply": "2022-05-26T11:02:43.752076Z"
        },
        "id": "7ec4e65b",
        "papermill": {
          "duration": 0.066407,
          "end_time": "2022-05-26T11:02:43.755004",
          "exception": false,
          "start_time": "2022-05-26T11:02:43.688597",
          "status": "completed"
        },
        "tags": []
      },
      "outputs": [],
      "source": [
        "# convert data to indices numbers (vectorize):\n",
        "train_tokens_clean = np.array(train_tokens_clean)\n",
        "train_tokens_clean_idx = np.vectorize(word_indices.get)(train_tokens_clean)\n",
        "\n",
        "val_tokens_clean = np.array(val_tokens_clean)\n",
        "val_tokens_clean_idx = np.array([word_indices.get(token, 0) for token in val_tokens_clean])"
      ]
    },
    {
      "cell_type": "markdown",
      "id": "76388ef3",
      "metadata": {
        "id": "76388ef3",
        "papermill": {
          "duration": 0.042837,
          "end_time": "2022-05-26T11:02:43.841046",
          "exception": false,
          "start_time": "2022-05-26T11:02:43.798209",
          "status": "completed"
        },
        "tags": []
      },
      "source": [
        "### Create sequences"
      ]
    },
    {
      "cell_type": "code",
      "execution_count": null,
      "id": "3eb5c137",
      "metadata": {
        "execution": {
          "iopub.execute_input": "2022-05-26T11:02:43.929038Z",
          "iopub.status.busy": "2022-05-26T11:02:43.928614Z",
          "iopub.status.idle": "2022-05-26T11:02:46.685967Z",
          "shell.execute_reply": "2022-05-26T11:02:46.685232Z"
        },
        "id": "3eb5c137",
        "papermill": {
          "duration": 2.803466,
          "end_time": "2022-05-26T11:02:46.687935",
          "exception": false,
          "start_time": "2022-05-26T11:02:43.884469",
          "status": "completed"
        },
        "tags": []
      },
      "outputs": [],
      "source": [
        "word_dataset = tf.data.Dataset.from_tensor_slices(train_tokens_clean_idx)"
      ]
    },
    {
      "cell_type": "code",
      "execution_count": null,
      "id": "f193cf89",
      "metadata": {
        "colab": {
          "base_uri": "https://localhost:8080/"
        },
        "execution": {
          "iopub.execute_input": "2022-05-26T11:02:46.829760Z",
          "iopub.status.busy": "2022-05-26T11:02:46.828302Z",
          "iopub.status.idle": "2022-05-26T11:02:46.937935Z",
          "shell.execute_reply": "2022-05-26T11:02:46.937209Z"
        },
        "id": "f193cf89",
        "outputId": "09157879-92e1-44fb-c182-6ccc64a019f4",
        "papermill": {
          "duration": 0.208652,
          "end_time": "2022-05-26T11:02:46.941742",
          "exception": false,
          "start_time": "2022-05-26T11:02:46.733090",
          "status": "completed"
        },
        "tags": []
      },
      "outputs": [
        {
          "output_type": "stream",
          "name": "stdout",
          "text": [
            "'<VERSE> \\n i want you to understand \\n because of you i am who i am'\n",
            "'\\n i want you to understand \\n because of you i am who i am \\n'\n",
            "'i want you to understand \\n because of you i am who i am \\n because'\n"
          ]
        }
      ],
      "source": [
        "SEQUENCE_LEN = 15\n",
        "sequences = word_dataset.window(SEQUENCE_LEN + 1, 1, drop_remainder=True)\n",
        "\n",
        "for window in sequences.take(3):\n",
        "    print(repr(' '.join(np.vectorize(indices_word.get)(np.array(list(window.as_numpy_iterator()))))))"
      ]
    },
    {
      "cell_type": "code",
      "execution_count": null,
      "id": "d6feab8f",
      "metadata": {
        "colab": {
          "base_uri": "https://localhost:8080/"
        },
        "execution": {
          "iopub.execute_input": "2022-05-26T11:02:47.108030Z",
          "iopub.status.busy": "2022-05-26T11:02:47.107771Z",
          "iopub.status.idle": "2022-05-26T11:02:47.220154Z",
          "shell.execute_reply": "2022-05-26T11:02:47.218909Z"
        },
        "id": "d6feab8f",
        "outputId": "224f7c2e-532a-4c48-edfb-0e85568a8b51",
        "papermill": {
          "duration": 0.191308,
          "end_time": "2022-05-26T11:02:47.223446",
          "exception": false,
          "start_time": "2022-05-26T11:02:47.032138",
          "status": "completed"
        },
        "tags": []
      },
      "outputs": [
        {
          "output_type": "stream",
          "name": "stdout",
          "text": [
            "tf.Tensor([  8   1 383 862 924 798 829   1  63 523 924 383  32 884 383  32], shape=(16,), dtype=int64)\n",
            "tf.Tensor([  1 383 862 924 798 829   1  63 523 924 383  32 884 383  32   1], shape=(16,), dtype=int64)\n",
            "tf.Tensor([383 862 924 798 829   1  63 523 924 383  32 884 383  32   1  63], shape=(16,), dtype=int64)\n"
          ]
        }
      ],
      "source": [
        "sequences = sequences.flat_map(lambda window: window.batch(SEQUENCE_LEN + 1))\n",
        "for elem in sequences.take(3):\n",
        "    print(elem)"
      ]
    },
    {
      "cell_type": "code",
      "execution_count": null,
      "id": "7765418b",
      "metadata": {
        "colab": {
          "base_uri": "https://localhost:8080/"
        },
        "execution": {
          "iopub.execute_input": "2022-05-26T11:02:47.344936Z",
          "iopub.status.busy": "2022-05-26T11:02:47.344681Z",
          "iopub.status.idle": "2022-05-26T11:02:47.459845Z",
          "shell.execute_reply": "2022-05-26T11:02:47.459116Z"
        },
        "id": "7765418b",
        "outputId": "63fcc4b0-1d3a-4892-f365-fbff98990a6b",
        "papermill": {
          "duration": 0.169017,
          "end_time": "2022-05-26T11:02:47.462336",
          "exception": false,
          "start_time": "2022-05-26T11:02:47.293319",
          "status": "completed"
        },
        "tags": []
      },
      "outputs": [
        {
          "output_type": "stream",
          "name": "stdout",
          "text": [
            "tf.Tensor([  8   1 383 862 924 798 829   1  63 523 924 383  32 884 383], shape=(15,), dtype=int64) -----> tf.Tensor([32], shape=(1,), dtype=int64)\n",
            "tf.Tensor([  1 383 862 924 798 829   1  63 523 924 383  32 884 383  32], shape=(15,), dtype=int64) -----> tf.Tensor([1], shape=(1,), dtype=int64)\n",
            "tf.Tensor([383 862 924 798 829   1  63 523 924 383  32 884 383  32   1], shape=(15,), dtype=int64) -----> tf.Tensor([63], shape=(1,), dtype=int64)\n"
          ]
        }
      ],
      "source": [
        "sequences = sequences.map(lambda window: (window[:-1], window[-1:]))\n",
        "X_train = sequences.map(lambda X,y: X)\n",
        "y_train = sequences.map(lambda X,y: y)\n",
        "\n",
        "for elem1, elem2 in zip(X_train.take(3), y_train.take(3)):\n",
        "    print(elem1, '----->', elem2)"
      ]
    },
    {
      "cell_type": "code",
      "execution_count": null,
      "id": "rUp5aJUEfg-Y",
      "metadata": {
        "id": "rUp5aJUEfg-Y"
      },
      "outputs": [],
      "source": [
        "def get_sequences(tokens_idx, sequence_len):\n",
        "  word_dataset = tf.data.Dataset.from_tensor_slices(tokens_idx)\n",
        "  sequences = word_dataset.window(sequence_len + 1, 1, drop_remainder=True)\n",
        "  sequences = sequences.flat_map(lambda window: window.batch(sequence_len + 1))\n",
        "  sequences = sequences.map(lambda window: (window[:-1], window[-1:]))\n",
        "\n",
        "  return sequences\n",
        "\n",
        "SEQUENCE_LEN = 15\n",
        "train_sequences = get_sequences(train_tokens_clean_idx, SEQUENCE_LEN)\n",
        "val_sequences = get_sequences(val_tokens_clean_idx, SEQUENCE_LEN)"
      ]
    },
    {
      "cell_type": "code",
      "execution_count": null,
      "id": "k4NyNv0Br779",
      "metadata": {
        "colab": {
          "base_uri": "https://localhost:8080/"
        },
        "id": "k4NyNv0Br779",
        "outputId": "e0e9bc4d-8633-4159-e5b4-ff94bd86f4cb"
      },
      "outputs": [
        {
          "output_type": "stream",
          "name": "stdout",
          "text": [
            "train dataset size: 10932\n"
          ]
        }
      ],
      "source": [
        "print('train dataset size: {}'.format(len(list(train_sequences.as_numpy_iterator()))))"
      ]
    },
    {
      "cell_type": "code",
      "execution_count": null,
      "id": "7fb9d44a",
      "metadata": {
        "colab": {
          "base_uri": "https://localhost:8080/"
        },
        "execution": {
          "iopub.execute_input": "2022-05-26T11:02:47.557292Z",
          "iopub.status.busy": "2022-05-26T11:02:47.557067Z",
          "iopub.status.idle": "2022-05-26T11:02:52.689931Z",
          "shell.execute_reply": "2022-05-26T11:02:52.688857Z"
        },
        "id": "7fb9d44a",
        "outputId": "295dfc98-a9d2-4192-d9c2-9d7c28b02c94",
        "papermill": {
          "duration": 5.181908,
          "end_time": "2022-05-26T11:02:52.691772",
          "exception": false,
          "start_time": "2022-05-26T11:02:47.509864",
          "status": "completed"
        },
        "tags": []
      },
      "outputs": [
        {
          "output_type": "stream",
          "name": "stdout",
          "text": [
            "train dataset size: 10932\n",
            "val dataset size: 2570\n"
          ]
        }
      ],
      "source": [
        "dataset_size = len(list(train_sequences.as_numpy_iterator()))\n",
        "print('train dataset size: {}'.format(dataset_size))\n",
        "\n",
        "dataset_size = len(list(val_sequences.as_numpy_iterator()))\n",
        "print('val dataset size: {}'.format(dataset_size))"
      ]
    },
    {
      "cell_type": "code",
      "execution_count": null,
      "id": "769f9bd3",
      "metadata": {
        "colab": {
          "base_uri": "https://localhost:8080/"
        },
        "execution": {
          "iopub.execute_input": "2022-05-26T11:02:52.786646Z",
          "iopub.status.busy": "2022-05-26T11:02:52.786044Z",
          "iopub.status.idle": "2022-05-26T11:02:54.010661Z",
          "shell.execute_reply": "2022-05-26T11:02:54.009870Z"
        },
        "id": "769f9bd3",
        "outputId": "be46e2eb-40e1-4f3a-b7c4-61224ae94460",
        "papermill": {
          "duration": 1.27401,
          "end_time": "2022-05-26T11:02:54.012628",
          "exception": false,
          "start_time": "2022-05-26T11:02:52.738618",
          "status": "completed"
        },
        "tags": []
      },
      "outputs": [
        {
          "output_type": "stream",
          "name": "stdout",
          "text": [
            "Batched dataset size: 170\n"
          ]
        }
      ],
      "source": [
        "BATCH_SIZE = 64\n",
        "\n",
        "# Buffer size to shuffle the dataset (TF data is designed to work\n",
        "# with possibly infinite sequences, so it doesn't attempt to shuffle\n",
        "# the entire sequence in memory. Instead, it maintains a buffer in\n",
        "# which it shuffles elements).\n",
        "BUFFER_SIZE = 10000\n",
        "\n",
        "AUTOTUNE = tf.data.AUTOTUNE\n",
        "train_dataset = train_sequences.shuffle(BUFFER_SIZE).batch(BATCH_SIZE, drop_remainder=True).cache().prefetch(buffer_size=AUTOTUNE)\n",
        "val_dataset = val_sequences.shuffle(BUFFER_SIZE).batch(BATCH_SIZE, drop_remainder=True).cache().prefetch(buffer_size=AUTOTUNE)\n",
        "\n",
        "print('Batched dataset size: {}'.format(len(list(train_dataset.as_numpy_iterator()))))"
      ]
    },
    {
      "cell_type": "markdown",
      "id": "979b6e1b",
      "metadata": {
        "id": "979b6e1b",
        "papermill": {
          "duration": 0.047075,
          "end_time": "2022-05-26T11:02:54.306234",
          "exception": false,
          "start_time": "2022-05-26T11:02:54.259159",
          "status": "completed"
        },
        "tags": []
      },
      "source": [
        "### Build and Test Model"
      ]
    },
    {
      "cell_type": "code",
      "execution_count": null,
      "id": "dcdf935d",
      "metadata": {
        "execution": {
          "iopub.execute_input": "2022-05-26T11:02:54.400467Z",
          "iopub.status.busy": "2022-05-26T11:02:54.399921Z",
          "iopub.status.idle": "2022-05-26T11:02:54.403584Z",
          "shell.execute_reply": "2022-05-26T11:02:54.402958Z"
        },
        "id": "dcdf935d",
        "papermill": {
          "duration": 0.053039,
          "end_time": "2022-05-26T11:02:54.405288",
          "exception": false,
          "start_time": "2022-05-26T11:02:54.352249",
          "status": "completed"
        },
        "tags": []
      },
      "outputs": [],
      "source": [
        "VOCAB_SIZE = len(word_indices)\n",
        "EMBEDDINGG_DIM = 128\n",
        "RNN_UNITS = 512\n",
        "\n",
        "EPOCHS=50\n",
        "LR = 0.001"
      ]
    },
    {
      "cell_type": "code",
      "execution_count": null,
      "id": "9f3d7daa",
      "metadata": {
        "colab": {
          "base_uri": "https://localhost:8080/"
        },
        "execution": {
          "iopub.execute_input": "2022-05-26T11:02:54.502363Z",
          "iopub.status.busy": "2022-05-26T11:02:54.501783Z",
          "iopub.status.idle": "2022-05-26T11:02:54.749525Z",
          "shell.execute_reply": "2022-05-26T11:02:54.747774Z"
        },
        "id": "9f3d7daa",
        "outputId": "b858cda9-8e3b-4da4-85d0-016781805bfd",
        "papermill": {
          "duration": 0.299493,
          "end_time": "2022-05-26T11:02:54.751841",
          "exception": false,
          "start_time": "2022-05-26T11:02:54.452348",
          "status": "completed"
        },
        "tags": []
      },
      "outputs": [
        {
          "output_type": "stream",
          "name": "stdout",
          "text": [
            "Model: \"sequential_6\"\n",
            "_________________________________________________________________\n",
            " Layer (type)                Output Shape              Param #   \n",
            "=================================================================\n",
            " embedding_6 (Embedding)     (64, None, 128)           119296    \n",
            "                                                                 \n",
            " dropout (Dropout)           (64, None, 128)           0         \n",
            "                                                                 \n",
            " simple_rnn_1 (SimpleRNN)    (64, 256)                 98560     \n",
            "                                                                 \n",
            " dense_1 (Dense)             (64, 10)                  2570      \n",
            "                                                                 \n",
            " dense_2 (Dense)             (64, 932)                 10252     \n",
            "                                                                 \n",
            "=================================================================\n",
            "Total params: 230,678\n",
            "Trainable params: 230,678\n",
            "Non-trainable params: 0\n",
            "_________________________________________________________________\n"
          ]
        }
      ],
      "source": [
        "def build_model(vocab_size, embedding_dim, rnn_units, batch_size):\n",
        "    \"\"\"Build Keras Model\n",
        "\n",
        "    Args: \n",
        "      vocab_size (int): size of vocabulary of corpus\n",
        "      embedding_dim (int): dimension of word embedding matrix\n",
        "      rnn_units (int): number of neurons in rnn\n",
        "      batch_size (int): batch size \n",
        "\n",
        "    \n",
        "    Returns:\n",
        "      Keras sequential model \n",
        "    \"\"\"\n",
        "    \n",
        "    model = tf.keras.models.Sequential()\n",
        "\n",
        "    model.add(tf.keras.layers.Embedding(\n",
        "      input_dim=vocab_size,\n",
        "      output_dim=embedding_dim,\n",
        "      batch_input_shape=[batch_size, None]\n",
        "    ))\n",
        "    model.add(tf.keras.layers.Dropout(0.2))\n",
        "    model.add(tf.keras.layers.SimpleRNN(256))\n",
        "    model.add(tf.keras.layers.Dense(10))\n",
        "\n",
        "    model.add(tf.keras.layers.Dense(vocab_size))\n",
        "  \n",
        "    return model\n",
        "\n",
        "\n",
        "model = build_model(VOCAB_SIZE, EMBEDDINGG_DIM, RNN_UNITS, BATCH_SIZE)\n",
        "model.summary()"
      ]
    },
    {
      "cell_type": "code",
      "execution_count": null,
      "id": "951692be",
      "metadata": {
        "colab": {
          "base_uri": "https://localhost:8080/"
        },
        "execution": {
          "iopub.execute_input": "2022-05-26T11:02:54.847612Z",
          "iopub.status.busy": "2022-05-26T11:02:54.847118Z",
          "iopub.status.idle": "2022-05-26T11:02:56.856853Z",
          "shell.execute_reply": "2022-05-26T11:02:56.856026Z"
        },
        "id": "951692be",
        "outputId": "294e6356-d603-410d-deec-82748c21e4d8",
        "papermill": {
          "duration": 2.059616,
          "end_time": "2022-05-26T11:02:56.859232",
          "exception": false,
          "start_time": "2022-05-26T11:02:54.799616",
          "status": "completed"
        },
        "tags": []
      },
      "outputs": [
        {
          "output_type": "stream",
          "name": "stdout",
          "text": [
            "(64, 932) # (batch_size, sequence_length, vocab_size)\n"
          ]
        }
      ],
      "source": [
        "for input_example_batch, target_example_batch in train_dataset.take(1):\n",
        "    example_batch_predictions = model(input_example_batch)\n",
        "    print(example_batch_predictions.shape, \"# (batch_size, sequence_length, vocab_size)\")"
      ]
    },
    {
      "cell_type": "code",
      "execution_count": null,
      "id": "c7cdb8f5",
      "metadata": {
        "colab": {
          "base_uri": "https://localhost:8080/"
        },
        "execution": {
          "iopub.execute_input": "2022-05-26T11:02:56.956575Z",
          "iopub.status.busy": "2022-05-26T11:02:56.956352Z",
          "iopub.status.idle": "2022-05-26T11:02:56.972252Z",
          "shell.execute_reply": "2022-05-26T11:02:56.971301Z"
        },
        "id": "c7cdb8f5",
        "outputId": "7ade40a8-3e32-42b4-9046-c41c355a691f",
        "papermill": {
          "duration": 0.06631,
          "end_time": "2022-05-26T11:02:56.973919",
          "exception": false,
          "start_time": "2022-05-26T11:02:56.907609",
          "status": "completed"
        },
        "tags": []
      },
      "outputs": [
        {
          "output_type": "stream",
          "name": "stdout",
          "text": [
            "Prediction shape:  (64, 932)  # (batch_size, sequence_length, vocab_size)\n",
            "scalar_loss:       6.839472\n"
          ]
        }
      ],
      "source": [
        "# An objective function.\n",
        "# The function is any callable with the signature scalar_loss = fn(y_true, y_pred).\n",
        "def loss(labels, logits):\n",
        "    \"\"\"Compute the loss from outputed logits of model\n",
        "\n",
        "    Args: \n",
        "      labels (list): y labels / ground truth\n",
        "      logits (list): logits outputed by the model\n",
        "    \n",
        "    Returns:\n",
        "      Loss score\n",
        "    \"\"\"\n",
        "    \n",
        "    return tf.keras.losses.sparse_categorical_crossentropy(\n",
        "      y_true=labels,\n",
        "      y_pred=logits,\n",
        "      from_logits=True\n",
        "    )\n",
        "\n",
        "example_batch_loss = loss(target_example_batch, example_batch_predictions)\n",
        "\n",
        "print(\"Prediction shape: \", example_batch_predictions.shape, \" # (batch_size, sequence_length, vocab_size)\")\n",
        "print(\"scalar_loss:      \", example_batch_loss.numpy().mean())"
      ]
    },
    {
      "cell_type": "code",
      "execution_count": null,
      "id": "f64011f8",
      "metadata": {
        "execution": {
          "iopub.execute_input": "2022-05-26T11:02:57.069636Z",
          "iopub.status.busy": "2022-05-26T11:02:57.069435Z",
          "iopub.status.idle": "2022-05-26T11:02:57.088139Z",
          "shell.execute_reply": "2022-05-26T11:02:57.087505Z"
        },
        "id": "f64011f8",
        "papermill": {
          "duration": 0.068437,
          "end_time": "2022-05-26T11:02:57.089768",
          "exception": false,
          "start_time": "2022-05-26T11:02:57.021331",
          "status": "completed"
        },
        "tags": []
      },
      "outputs": [],
      "source": [
        "adam_optimizer = tf.keras.optimizers.Adam(learning_rate=LR)\n",
        "model.compile(\n",
        "    optimizer=adam_optimizer,\n",
        "    loss=loss\n",
        ")"
      ]
    },
    {
      "cell_type": "code",
      "execution_count": null,
      "id": "a4059894",
      "metadata": {
        "execution": {
          "iopub.execute_input": "2022-05-26T11:02:57.186218Z",
          "iopub.status.busy": "2022-05-26T11:02:57.185707Z",
          "iopub.status.idle": "2022-05-26T11:02:57.190346Z",
          "shell.execute_reply": "2022-05-26T11:02:57.189685Z"
        },
        "id": "a4059894",
        "papermill": {
          "duration": 0.054466,
          "end_time": "2022-05-26T11:02:57.191930",
          "exception": false,
          "start_time": "2022-05-26T11:02:57.137464",
          "status": "completed"
        },
        "tags": []
      },
      "outputs": [],
      "source": [
        "# # Directory where the checkpoints will be saved.\n",
        "# checkpoint_dir = 'tmp/checkpoints'\n",
        "# os.makedirs(checkpoint_dir, exist_ok=True)\n",
        "\n",
        "# # Name of the checkpoint files\n",
        "# checkpoint_prefix = os.path.join(checkpoint_dir, 'ckpt_{epoch}')\n",
        "\n",
        "# checkpoint_callback=tf.keras.callbacks.ModelCheckpoint(\n",
        "#     filepath=checkpoint_prefix,\n",
        "#     save_weights_only=True\n",
        "# )"
      ]
    },
    {
      "cell_type": "markdown",
      "id": "35cd0b06",
      "metadata": {
        "id": "35cd0b06",
        "papermill": {
          "duration": 0.046771,
          "end_time": "2022-05-26T11:02:57.285539",
          "exception": false,
          "start_time": "2022-05-26T11:02:57.238768",
          "status": "completed"
        },
        "tags": []
      },
      "source": [
        "### Train Model"
      ]
    },
    {
      "cell_type": "code",
      "execution_count": null,
      "id": "89b79914",
      "metadata": {
        "colab": {
          "base_uri": "https://localhost:8080/"
        },
        "execution": {
          "iopub.execute_input": "2022-05-26T11:02:57.380953Z",
          "iopub.status.busy": "2022-05-26T11:02:57.380491Z",
          "iopub.status.idle": "2022-05-26T11:07:09.900515Z",
          "shell.execute_reply": "2022-05-26T11:07:09.899696Z"
        },
        "id": "89b79914",
        "outputId": "29483a6c-33ab-4752-b134-cfbbdaa451bd",
        "papermill": {
          "duration": 252.569865,
          "end_time": "2022-05-26T11:07:09.902573",
          "exception": false,
          "start_time": "2022-05-26T11:02:57.332708",
          "status": "completed"
        },
        "tags": []
      },
      "outputs": [
        {
          "output_type": "stream",
          "name": "stdout",
          "text": [
            "Epoch 1/50\n",
            "170/170 [==============================] - 5s 20ms/step - loss: 5.3783 - val_loss: 5.3175\n",
            "Epoch 2/50\n",
            "170/170 [==============================] - 3s 16ms/step - loss: 5.3721 - val_loss: 5.0832\n",
            "Epoch 3/50\n",
            "170/170 [==============================] - 3s 16ms/step - loss: 4.8575 - val_loss: 4.9531\n",
            "Epoch 4/50\n",
            "170/170 [==============================] - 3s 16ms/step - loss: 4.5715 - val_loss: 4.9123\n",
            "Epoch 5/50\n",
            "170/170 [==============================] - 3s 16ms/step - loss: 4.3760 - val_loss: 4.8495\n",
            "Epoch 6/50\n",
            "170/170 [==============================] - 3s 17ms/step - loss: 4.2135 - val_loss: 4.8606\n",
            "Epoch 7/50\n",
            "170/170 [==============================] - 3s 17ms/step - loss: 4.0901 - val_loss: 4.8819\n",
            "Epoch 8/50\n",
            "170/170 [==============================] - 3s 16ms/step - loss: 3.9739 - val_loss: 4.8972\n",
            "Epoch 9/50\n",
            "170/170 [==============================] - 3s 20ms/step - loss: 3.8555 - val_loss: 4.9346\n",
            "Epoch 10/50\n",
            "170/170 [==============================] - 4s 24ms/step - loss: 3.7477 - val_loss: 4.9489\n",
            "Epoch 11/50\n",
            "170/170 [==============================] - 4s 22ms/step - loss: 3.6364 - val_loss: 4.9519\n",
            "Epoch 12/50\n",
            "170/170 [==============================] - 3s 17ms/step - loss: 3.5264 - val_loss: 5.0086\n",
            "Epoch 13/50\n",
            "170/170 [==============================] - 3s 16ms/step - loss: 3.4294 - val_loss: 5.0532\n",
            "Epoch 14/50\n",
            "170/170 [==============================] - 3s 16ms/step - loss: 3.3081 - val_loss: 5.1389\n",
            "Epoch 15/50\n",
            "170/170 [==============================] - 3s 16ms/step - loss: 3.2094 - val_loss: 5.1838\n",
            "Epoch 16/50\n",
            "170/170 [==============================] - 3s 20ms/step - loss: 3.1520 - val_loss: 5.2418\n",
            "Epoch 17/50\n",
            "170/170 [==============================] - 3s 20ms/step - loss: 3.1216 - val_loss: 5.3442\n",
            "Epoch 18/50\n",
            "170/170 [==============================] - 3s 16ms/step - loss: 2.9606 - val_loss: 5.4599\n",
            "Epoch 19/50\n",
            "170/170 [==============================] - 3s 18ms/step - loss: 2.8470 - val_loss: 5.5751\n",
            "Epoch 20/50\n",
            "170/170 [==============================] - 3s 18ms/step - loss: 2.7555 - val_loss: 5.6426\n",
            "Epoch 21/50\n",
            "170/170 [==============================] - 3s 16ms/step - loss: 2.6629 - val_loss: 5.7915\n",
            "Epoch 22/50\n",
            "170/170 [==============================] - 3s 16ms/step - loss: 2.5853 - val_loss: 5.9258\n",
            "Epoch 23/50\n",
            "170/170 [==============================] - 3s 16ms/step - loss: 2.5062 - val_loss: 6.0138\n",
            "Epoch 24/50\n",
            "170/170 [==============================] - 3s 16ms/step - loss: 2.4264 - val_loss: 6.1555\n",
            "Epoch 25/50\n",
            "170/170 [==============================] - 3s 16ms/step - loss: 2.3446 - val_loss: 6.2662\n",
            "Epoch 26/50\n",
            "170/170 [==============================] - 3s 16ms/step - loss: 2.2891 - val_loss: 6.4530\n",
            "Epoch 27/50\n",
            "170/170 [==============================] - 3s 16ms/step - loss: 2.2300 - val_loss: 6.6117\n",
            "Epoch 28/50\n",
            "170/170 [==============================] - 3s 16ms/step - loss: 2.1825 - val_loss: 6.6631\n",
            "Epoch 29/50\n",
            "170/170 [==============================] - 3s 16ms/step - loss: 2.1287 - val_loss: 6.7703\n",
            "Epoch 30/50\n",
            "170/170 [==============================] - 3s 16ms/step - loss: 2.0696 - val_loss: 6.7980\n",
            "Epoch 31/50\n",
            "170/170 [==============================] - 3s 16ms/step - loss: 2.0451 - val_loss: 6.9291\n",
            "Epoch 32/50\n",
            "170/170 [==============================] - 3s 17ms/step - loss: 2.0367 - val_loss: 7.0385\n",
            "Epoch 33/50\n",
            "170/170 [==============================] - 3s 16ms/step - loss: 1.9610 - val_loss: 7.0932\n",
            "Epoch 34/50\n",
            "170/170 [==============================] - 3s 16ms/step - loss: 1.8839 - val_loss: 7.2891\n",
            "Epoch 35/50\n",
            "170/170 [==============================] - 3s 16ms/step - loss: 1.8516 - val_loss: 7.4346\n",
            "Epoch 36/50\n",
            "170/170 [==============================] - 3s 16ms/step - loss: 1.8025 - val_loss: 7.5390\n",
            "Epoch 37/50\n",
            "170/170 [==============================] - 3s 16ms/step - loss: 1.7531 - val_loss: 7.6182\n",
            "Epoch 38/50\n",
            "170/170 [==============================] - 3s 16ms/step - loss: 1.7301 - val_loss: 7.7766\n",
            "Epoch 39/50\n",
            "170/170 [==============================] - 3s 16ms/step - loss: 1.7549 - val_loss: 7.9318\n",
            "Epoch 40/50\n",
            "170/170 [==============================] - 3s 17ms/step - loss: 1.7211 - val_loss: 7.9132\n",
            "Epoch 41/50\n",
            "170/170 [==============================] - 3s 16ms/step - loss: 1.6700 - val_loss: 8.0175\n",
            "Epoch 42/50\n",
            "170/170 [==============================] - 3s 16ms/step - loss: 1.6395 - val_loss: 8.1902\n",
            "Epoch 43/50\n",
            "170/170 [==============================] - 3s 16ms/step - loss: 1.5935 - val_loss: 8.2690\n",
            "Epoch 44/50\n",
            "170/170 [==============================] - 3s 16ms/step - loss: 1.5410 - val_loss: 8.3942\n",
            "Epoch 45/50\n",
            "170/170 [==============================] - 3s 16ms/step - loss: 1.5005 - val_loss: 8.5245\n",
            "Epoch 46/50\n",
            "170/170 [==============================] - 3s 17ms/step - loss: 1.5072 - val_loss: 8.5060\n",
            "Epoch 47/50\n",
            "170/170 [==============================] - 3s 16ms/step - loss: 1.4511 - val_loss: 8.6309\n",
            "Epoch 48/50\n",
            "170/170 [==============================] - 3s 16ms/step - loss: 1.4220 - val_loss: 8.7642\n",
            "Epoch 49/50\n",
            "170/170 [==============================] - 3s 16ms/step - loss: 1.4013 - val_loss: 8.8003\n",
            "Epoch 50/50\n",
            "170/170 [==============================] - 3s 16ms/step - loss: 1.3663 - val_loss: 8.9448\n"
          ]
        }
      ],
      "source": [
        "history = model.fit(\n",
        "  x=train_dataset,\n",
        "  epochs=EPOCHS,\n",
        "  validation_data=val_dataset,\n",
        ")"
      ]
    },
    {
      "cell_type": "markdown",
      "id": "50da7a2a",
      "metadata": {
        "id": "50da7a2a",
        "papermill": {
          "duration": 1.486912,
          "end_time": "2022-05-26T11:07:24.690505",
          "exception": false,
          "start_time": "2022-05-26T11:07:23.203593",
          "status": "completed"
        },
        "tags": []
      },
      "source": [
        "### The prediction loop\n",
        "\n",
        "The following code block generates the text:\n",
        "\n",
        "- It Starts by choosing a start string, initializing the RNN state and setting the number of words to generate.\n",
        "\n",
        "- Get the prediction distribution of the next word using the start string and the RNN state.\n",
        "\n",
        "- Then, use a categorical distribution to calculate the index of the predicted character. Use this predicted word as our next input to the model.\n",
        "\n",
        "- The RNN state returned by the model is fed back into the model so that it now has more context, instead than only one word. After predicting the next word, the modified RNN states are again fed back into the model, which is how it learns as it gets more context from the previously predicted words."
      ]
    },
    {
      "cell_type": "code",
      "execution_count": null,
      "id": "4db2b385",
      "metadata": {
        "execution": {
          "iopub.execute_input": "2022-05-26T11:07:27.374684Z",
          "iopub.status.busy": "2022-05-26T11:07:27.374096Z",
          "iopub.status.idle": "2022-05-26T11:07:27.382306Z",
          "shell.execute_reply": "2022-05-26T11:07:27.381615Z"
        },
        "id": "4db2b385",
        "papermill": {
          "duration": 1.369869,
          "end_time": "2022-05-26T11:07:27.383958",
          "exception": false,
          "start_time": "2022-05-26T11:07:26.014089",
          "status": "completed"
        },
        "tags": []
      },
      "outputs": [],
      "source": [
        "def generate_text(model, start_string, num_generate = 1000, temperature=1.0):\n",
        "    \"\"\"Generate text using trained sequential text generation model\n",
        "\n",
        "    Args: \n",
        "      model (model): Keras trained sequential text generation model\n",
        "      start_string (list): list of strings for starting the text generation\n",
        "      num_generate (int): number of words to generate\n",
        "      temperature (float): controls the predictability of the generated text\n",
        "        - Low temperatures results in more predictable text.\n",
        "        - Higher temperatures results in more surprising text.\n",
        "    \n",
        "    Returns:\n",
        "      String of generated text\n",
        "      \n",
        "    \"\"\"\n",
        "\n",
        "    # Converting our start string to numbers (vectorizing).\n",
        "    input_indices = [word_indices.get(s, 0) for s in start_string]\n",
        "    input_indices = tf.expand_dims(input_indices, 0)\n",
        "\n",
        "    # Empty string to store our results.\n",
        "    text_generated = []\n",
        "\n",
        "    # Here batch size == 1.\n",
        "    model.reset_states()\n",
        "    for word_index in range(num_generate):\n",
        "        predictions = model(input_indices)\n",
        "        # remove the batch dimension\n",
        "        predictions = tf.squeeze(predictions, 0)\n",
        "\n",
        "        # Using a categorical distribution to predict the character returned by the model.\n",
        "        predictions = predictions / temperature\n",
        "        predictions = tf.reshape(predictions, [1, predictions.shape[0]])\n",
        "        predicted_id = tf.random.categorical(\n",
        "            predictions,\n",
        "            num_samples=1\n",
        "            )[-1,0].numpy()\n",
        "\n",
        "        # We pass the predicted word as the next input to the model\n",
        "        # along with the previous hidden state.\n",
        "        input_indices = tf.expand_dims([predicted_id], 0)\n",
        "\n",
        "        text_generated.append(indices_word[predicted_id])\n",
        "    \n",
        "    return (' '.join(start_string) + '\\n ' + ' '.join(text_generated))"
      ]
    },
    {
      "cell_type": "code",
      "execution_count": null,
      "id": "9cR4urS-wyMK",
      "metadata": {
        "id": "9cR4urS-wyMK"
      },
      "outputs": [],
      "source": [
        "NUM_GENERATE = 100"
      ]
    },
    {
      "cell_type": "code",
      "execution_count": null,
      "id": "LvEpvDppyjK1",
      "metadata": {
        "id": "LvEpvDppyjK1"
      },
      "outputs": [],
      "source": [
        "# clean val set for sampling prompts and references\n",
        "val_clean_corpus = []\n",
        "for i,file in enumerate(val_files):\n",
        "    text = open(PATH + '/' + file, mode='r').read()\n",
        "    val_clean_corpus.append(text)\n",
        "\n",
        "for i,song in enumerate(val_clean_corpus):\n",
        "    song = re.sub(r'<[A-Z]+>|', '', song)\n",
        "    # val_clean_corpus = re.sub(r'\\n', '<break>')\n",
        "    song = [sent for sent in song.split('\\n') if sent]\n",
        "    song = [utils.preprocess_text(sent) for sent in song]\n",
        "    song.append('')\n",
        "    val_clean_corpus[i] = song\n",
        "\n",
        "val_clean_corpus = [sent for song in val_clean_corpus for sent in song ]\n",
        "\n",
        "br = bleu_rouge()\n",
        "# prompt_ref = br.get_prompt_reference(val_clean_corpus, 100)"
      ]
    },
    {
      "cell_type": "code",
      "source": [
        "#len(generated_results_standard)"
      ],
      "metadata": {
        "id": "LtdtNaBbHeyl"
      },
      "id": "LtdtNaBbHeyl",
      "execution_count": null,
      "outputs": []
    },
    {
      "cell_type": "code",
      "execution_count": null,
      "id": "7YbXM5de3_ve",
      "metadata": {
        "id": "7YbXM5de3_ve"
      },
      "outputs": [],
      "source": [
        "# use sampled prompts to generate lyrics\n",
        "generated_results = {}\n",
        "for prompt in sorted(prompt_ref):\n",
        "  g_text = generate_text(model, start_string=prompt.split(' '), num_generate=NUM_GENERATE)\n",
        "  g_text = re.sub(r'<[A-Z]+>|', '', g_text)\n",
        "  g_text = re.sub(r' +', ' ', g_text).strip()\n",
        "  g_text = re.sub(r'\\n\\n', '\\n', g_text)\n",
        "  g_text = re.sub(r'\\n \\n', '\\n', g_text)\n",
        "  g_text = re.sub(r' \\n', '\\n', g_text)\n",
        "  g_text = re.sub(r'\\n ', '\\n', g_text)\n",
        "  generated_results[prompt] = g_text\n",
        "  \n",
        "  # save to file\n",
        "  filename = f'./output/br_RNN_{prompt}.txt'\n",
        "  with open(filename, 'w') as f:\n",
        "    f.write(g_text)\n",
        "  f.close()"
      ]
    },
    {
      "cell_type": "code",
      "execution_count": null,
      "id": "Xrjr_AFb6M75",
      "metadata": {
        "colab": {
          "base_uri": "https://localhost:8080/"
        },
        "id": "Xrjr_AFb6M75",
        "outputId": "83069446-87d1-417b-8917-e512c362a24b"
      },
      "outputs": [
        {
          "output_type": "stream",
          "name": "stdout",
          "text": [
            "amazing in all ways\n",
            "no thames day\n",
            "that and grateful prosperity\n",
            "together\n",
            "i am inside in the sky\n",
            "i am hollywood us\n",
            "i am by send with\n",
            "and renewed\n",
            "it is where i am birds wall\n",
            "where i am free\n",
            "i am undivided\n",
            "i am by\n",
            "we have up just harmony\n",
            "when as one life\n",
            "there of me\n",
            "there of this breath not patronised tastes\n",
            "i am\n",
            "together\n",
            "we knew united as one destiny\n",
            "we are ourselves\n",
            "where i am\n"
          ]
        }
      ],
      "source": [
        "print(list(generated_results.items())[0][1])"
      ]
    },
    {
      "cell_type": "code",
      "execution_count": null,
      "id": "qtF8sBV76j3z",
      "metadata": {
        "colab": {
          "base_uri": "https://localhost:8080/"
        },
        "id": "qtF8sBV76j3z",
        "outputId": "5a5c5a63-6df4-46f8-a912-514026b7fa9e"
      },
      "outputs": [
        {
          "output_type": "stream",
          "name": "stdout",
          "text": [
            "and tranquil as can be\n",
            "we knew savour freedom on\n",
            "i am for one destiny\n",
            "i am one destiny\n",
            "it is the summing nights to wishes for friends\n",
            "there of your faces collyer quay and joy there of me\n",
            "you are ooh you are by oh oh\n",
            "in a song\n",
            "i am past\n",
            "where here\n",
            "here\n",
            "we knew families\n",
            "it is the sky\n",
            "i am sight by\n",
            "where i am voice by\n",
            "there for me the sky of this breath you shine seemed kind\n",
            "i\n"
          ]
        }
      ],
      "source": [
        "print(list(generated_results.items())[1][1])"
      ]
    },
    {
      "cell_type": "code",
      "execution_count": null,
      "id": "6929121f",
      "metadata": {
        "id": "6929121f"
      },
      "outputs": [],
      "source": [
        "# generate lyrics for 6 standard prompts\n",
        "prompts = [\n",
        "    'whenever I think back', \n",
        "    'and so this I know',\n",
        "    'i am tired of being what you want me to be', \n",
        "    'feeling so faithless, lost under the surface',\n",
        "    'relight our fire, we will find our way', \n",
        "    'we will rise stronger together'\n",
        "]\n",
        "\n",
        "generated_results_standard = {}\n",
        "for prompt in prompts:\n",
        "  g_text = generate_text(model, start_string=prompt.split(' '), num_generate=NUM_GENERATE)\n",
        "  g_text = re.sub(r'<[A-Z]+>|', '', g_text)\n",
        "  g_text = re.sub(r' +', ' ', g_text).strip()\n",
        "  g_text = re.sub(r'\\n\\n', '\\n', g_text)\n",
        "  g_text = re.sub(r'\\n \\n', '\\n', g_text)\n",
        "  g_text = re.sub(r' \\n', '\\n', g_text)\n",
        "  g_text = re.sub(r'\\n ', '\\n', g_text)\n",
        "  generated_results_standard[prompt] = g_text\n",
        "\n",
        "  # save to file\n",
        "  filename = f'./output/human_RNN_{prompt}.txt'\n",
        "  with open(filename, 'w') as f:\n",
        "    f.write(g_text)\n",
        "  f.close()\n"
      ]
    },
    {
      "cell_type": "markdown",
      "id": "uki7vs-f8IUn",
      "metadata": {
        "id": "uki7vs-f8IUn"
      },
      "source": [
        "### Evaluate Bleu and Rouge Score"
      ]
    },
    {
      "cell_type": "code",
      "execution_count": null,
      "id": "VGj6p5lb8LJc",
      "metadata": {
        "id": "VGj6p5lb8LJc"
      },
      "outputs": [],
      "source": [
        "bleu_scores = {}\n",
        "rouge_scores = {}\n",
        "\n",
        "for prompt, generated in generated_results.items():\n",
        "  # clean generated\n",
        "  generated = re.sub(prompt, '', generated) # remove prompt as sometimes there is not next line token between it and next line\n",
        "  generated = re.sub(r'<[A-Z]+>|', '', generated) # remove structure tokens\n",
        "  generated = re.sub(r'\\s+', ' ', generated).strip() # remove consec spaces\n",
        "  ref = generated.split('\\n')[0] # take line after prompt\n",
        "  \n",
        "  \n",
        "  # get bleu\n",
        "  bleu_scores[prompt] = br.compute_bleu(prompt, ref, verbose=False)\n",
        "# get rouge\n",
        "  rouge_scores[prompt] = br.compute_rouge(prompt, ref, verbose=False)"
      ]
    },
    {
      "cell_type": "code",
      "execution_count": null,
      "id": "_fDcV1OACkFI",
      "metadata": {
        "id": "_fDcV1OACkFI"
      },
      "outputs": [],
      "source": [
        "# average the each bleu score over the number of prompts sampled\n",
        "bleu_avg = {}\n",
        "\n",
        "for _,value in bleu_scores.items():\n",
        "    for key,val in value.items():\n",
        "        bleu_avg.setdefault(key, []).append(val)\n",
        "\n",
        "bleu_avg = {i:sum(bleu_avg[i])/len(bleu_avg[i]) for i in bleu_avg}\n",
        "bleu_avg"
      ]
    },
    {
      "cell_type": "code",
      "execution_count": null,
      "id": "97efb581",
      "metadata": {
        "id": "97efb581"
      },
      "outputs": [],
      "source": [
        "# average the each rouge score over the number of prompts sampled\n",
        "rouge_avg = {}\n",
        "\n",
        "for _,value in rouge_scores.items():\n",
        "    for key,val in value.items():\n",
        "        rouge_avg.setdefault(key, []).append(val['r'])\n",
        "\n",
        "rouge_avg = {i:sum(rouge_avg[i])/len(rouge_avg[i]) for i in rouge_avg}\n",
        "rouge_avg"
      ]
    },
    {
      "cell_type": "markdown",
      "id": "KVyZQENXoHuV",
      "metadata": {
        "id": "KVyZQENXoHuV"
      },
      "source": [
        "### Evaluate sentiment of generated text"
      ]
    },
    {
      "cell_type": "code",
      "execution_count": null,
      "id": "SLX3B3YLEZ1N",
      "metadata": {
        "id": "SLX3B3YLEZ1N"
      },
      "outputs": [],
      "source": [
        "generated_texts = []\n",
        "for prompt, generated in generated_results.items():\n",
        "  generated = re.sub(prompt, '', generated)\n",
        "  generated = re.sub(r'<[A-Z]+>|', '', generated)\n",
        "  generated = re.sub(r'\\n', ' ', generated)\n",
        "  generated = re.sub(r'\\s+', ' ', generated)\n",
        "  generated = generated.strip()\n",
        "\n",
        "  generated_texts.append(generated)"
      ]
    },
    {
      "cell_type": "code",
      "execution_count": null,
      "id": "dvZWrU2Vn6JT",
      "metadata": {
        "id": "dvZWrU2Vn6JT"
      },
      "outputs": [],
      "source": [
        "clean_corpus = re.sub(r'<[A-Z]+>|', '', val_corpus)\n",
        "clean_corpus = re.sub(r'\\n', ' ', clean_corpus)\n",
        "clean_corpus = re.sub('\\s+', ' ', clean_corpus)\n",
        "clean_corpus = clean_corpus.strip()\n",
        "\n",
        "clean_corpus[:500]"
      ]
    },
    {
      "cell_type": "code",
      "execution_count": null,
      "id": "haxRf2KJoFs6",
      "metadata": {
        "id": "haxRf2KJoFs6"
      },
      "outputs": [],
      "source": [
        "print(list(downloader.info()['models'].keys()))"
      ]
    },
    {
      "cell_type": "code",
      "execution_count": null,
      "id": "zATC5XP6oUYW",
      "metadata": {
        "id": "zATC5XP6oUYW"
      },
      "outputs": [],
      "source": [
        "glove_vectors = downloader.load('glove-wiki-gigaword-100')"
      ]
    },
    {
      "cell_type": "code",
      "execution_count": null,
      "id": "1BLFM0AyobRl",
      "metadata": {
        "id": "1BLFM0AyobRl"
      },
      "outputs": [],
      "source": [
        "SENTIMENT_THEMES = [\n",
        "    'unity', 'affection', 'aspiration', 'home', \n",
        "    'relationship', 'motivation', 'nationhood', \n",
        "    'life', 'celebrate'\n",
        "]\n",
        "wv_scores = {}\n",
        "vader_scores = {}\n",
        "\n",
        "for i,gt in enumerate(generated_texts):\n",
        "  # create Sentiment object\n",
        "  sentiment = Sentiment()\n",
        "\n",
        "  # clean and tokenize text\n",
        "  sentiment.clean_text(\n",
        "      original_text = clean_corpus, \n",
        "      generated_text = gt, \n",
        "      remove_stopwords=True, \n",
        "      stop_words = set(stopwords.words(\"english\"))\n",
        "  )\n",
        "\n",
        "  # this step scores the vader sentiment of the original and generated text \n",
        "  sentiment.score_vader_sentiment()  \n",
        "\n",
        "  # this step extracts the top n similar word vectors to each theme\n",
        "  # and get their average word vector\n",
        "  sentiment.get_theme_vector(\n",
        "      sentiment_themes=SENTIMENT_THEMES, \n",
        "      embedding=glove_vectors, \n",
        "      topn=10\n",
        "  )\n",
        "\n",
        "  sentiment.score_word_vector_sentiment()  \n",
        "\n",
        "  vader_scores[i] = sentiment.vader_sentiment_scores\n",
        "  wv_scores[i] = sentiment.word_vector_sentiment_scores\n",
        "  "
      ]
    },
    {
      "cell_type": "code",
      "execution_count": null,
      "id": "016dbf3a",
      "metadata": {
        "id": "016dbf3a"
      },
      "outputs": [],
      "source": [
        "# average the vader scores over the number of prompts sampled\n",
        "vader_avg = {}\n",
        "\n",
        "for _,value in vader_scores.items():\n",
        "    for key, val in value.items():\n",
        "        vader_avg.setdefault(key, []).append(val['compound'])\n",
        "\n",
        "vader_avg = {i:sum(vader_avg[i])/len(vader_avg[i]) for i in vader_avg}\n",
        "vader_avg"
      ]
    },
    {
      "cell_type": "code",
      "execution_count": null,
      "id": "212dd3ff",
      "metadata": {
        "id": "212dd3ff"
      },
      "outputs": [],
      "source": [
        "# average the word vector scores over the number of prompts sampled\n",
        "\n",
        "tmp = {theme: [] for theme in SENTIMENT_THEMES}\n",
        "wv_avg = {}\n",
        "wv_avg['original'] = tmp.copy()\n",
        "wv_avg['generated'] = tmp.copy()\n",
        "\n",
        "\n",
        "for og in ['original', 'generated']:\n",
        "    for theme in SENTIMENT_THEMES:\n",
        "        for i in wv_scores.keys():\n",
        "            wv_avg[og][theme] = wv_avg[og][theme] + [wv_scores[i][og][theme]]\n",
        "\n",
        "for key, val in wv_avg.items():\n",
        "    for k,v in val.items():\n",
        "        wv_avg[key][k] = np.mean(wv_avg[key][k])\n",
        "\n",
        "wv_avg"
      ]
    },
    {
      "cell_type": "code",
      "execution_count": null,
      "id": "922990c0",
      "metadata": {
        "id": "922990c0"
      },
      "outputs": [],
      "source": [
        "wv_avg_theme = {}\n",
        "wv_avg_theme['original'] = np.mean(list(wv_avg['original'].values()))\n",
        "wv_avg_theme['generated'] = np.mean(list(wv_avg['generated'].values()))\n",
        "wv_avg_theme"
      ]
    },
    {
      "cell_type": "markdown",
      "id": "53defff9",
      "metadata": {
        "id": "53defff9",
        "papermill": {
          "duration": 1.635204,
          "end_time": "2022-05-26T11:07:44.848737",
          "exception": false,
          "start_time": "2022-05-26T11:07:43.213533",
          "status": "completed"
        },
        "tags": []
      },
      "source": [
        "## Save the model"
      ]
    },
    {
      "cell_type": "code",
      "execution_count": null,
      "id": "8b204cda",
      "metadata": {
        "execution": {
          "iopub.execute_input": "2022-05-26T11:07:47.944319Z",
          "iopub.status.busy": "2022-05-26T11:07:47.944038Z",
          "iopub.status.idle": "2022-05-26T11:07:48.003975Z",
          "shell.execute_reply": "2022-05-26T11:07:48.003230Z"
        },
        "id": "8b204cda",
        "papermill": {
          "duration": 1.372006,
          "end_time": "2022-05-26T11:07:48.005932",
          "exception": false,
          "start_time": "2022-05-26T11:07:46.633926",
          "status": "completed"
        },
        "tags": []
      },
      "outputs": [],
      "source": [
        "model_name = './TL_saved_model/text_generation_RNN_word_level.h5'\n",
        "model.save(model_name, save_format='h5')"
      ]
    },
    {
      "cell_type": "markdown",
      "id": "6021b732",
      "metadata": {
        "id": "6021b732",
        "papermill": {
          "duration": 1.317445,
          "end_time": "2022-05-26T11:07:50.636081",
          "exception": false,
          "start_time": "2022-05-26T11:07:49.318636",
          "status": "completed"
        },
        "tags": []
      },
      "source": [
        "## Converting the model to web-format\n",
        "\n",
        "To use this model on the web we need to convert it into the format that will be understandable by [tensorflowjs](https://www.tensorflow.org/js). To do so we may use [tfjs-converter](https://github.com/tensorflow/tfjs/tree/master/tfjs-converter) as following:\n",
        "\n",
        "```\n",
        "tensorflowjs_converter --input_format keras \\\n",
        "  ./experiments/text_generation_shakespeare_rnn/text_generation_shakespeare_rnn.h5 \\\n",
        "  ./demos/public/models/text_generation_shakespeare_rnn\n",
        "```\n",
        "\n",
        "You find this experiment in the [Demo app](https://trekhleb.github.io/machine-learning-experiments) and play around with it right in you browser to see how the model performs in real life."
      ]
    }
  ],
  "metadata": {
    "accelerator": "GPU",
    "colab": {
      "collapsed_sections": [],
      "name": "VanillaRNN_word_level_allstructures.ipynb",
      "provenance": [],
      "machine_shape": "hm",
      "include_colab_link": true
    },
    "kernelspec": {
      "display_name": "Python 3.9.4 64-bit",
      "language": "python",
      "name": "python3"
    },
    "language_info": {
      "codemirror_mode": {
        "name": "ipython",
        "version": 3
      },
      "file_extension": ".py",
      "mimetype": "text/x-python",
      "name": "python",
      "nbconvert_exporter": "python",
      "pygments_lexer": "ipython3",
      "version": "3.9.4"
    },
    "papermill": {
      "default_parameters": {},
      "duration": 328.08526,
      "end_time": "2022-05-26T11:07:54.727910",
      "environment_variables": {},
      "exception": null,
      "input_path": "__notebook__.ipynb",
      "output_path": "__notebook__.ipynb",
      "parameters": {},
      "start_time": "2022-05-26T11:02:26.642650",
      "version": "2.3.4"
    },
    "vscode": {
      "interpreter": {
        "hash": "586d209818bf684a449db8f551e5b280da9ad8c053944ce342fb8dd6eec39ab8"
      }
    }
  },
  "nbformat": 4,
  "nbformat_minor": 5
}
