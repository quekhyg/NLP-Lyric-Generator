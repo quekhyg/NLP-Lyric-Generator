{
  "cells": [
    {
      "cell_type": "code",
      "source": [
        "from google.colab import drive\n",
        "drive.mount('/content/drive')\n",
        "%cd /content/drive/MyDrive/SMU_MITB_NLP/Group Project/src/bin"
      ],
      "metadata": {
        "id": "1sqwH29gCCae",
        "colab": {
          "base_uri": "https://localhost:8080/"
        },
        "outputId": "74490aad-1663-4431-a577-8b4d3fd98abd"
      },
      "id": "1sqwH29gCCae",
      "execution_count": 1,
      "outputs": [
        {
          "output_type": "stream",
          "name": "stdout",
          "text": [
            "Drive already mounted at /content/drive; to attempt to forcibly remount, call drive.mount(\"/content/drive\", force_remount=True).\n",
            "/content/drive/MyDrive/SMU_MITB_NLP/Group Project/src/bin\n"
          ]
        }
      ]
    },
    {
      "cell_type": "code",
      "execution_count": 2,
      "id": "eed94d9c",
      "metadata": {
        "id": "eed94d9c"
      },
      "outputs": [],
      "source": [
        "### Standard Imports\n",
        "import numpy as np\n",
        "import pandas as pd\n",
        "import matplotlib.pyplot as plt\n",
        "import re\n",
        "import copy\n",
        "import time\n",
        "import os\n",
        "import sys\n",
        "import sklearn\n",
        "from collections import Counter\n",
        "from sklearn.feature_extraction.text import CountVectorizer as CountVectorizer\n",
        "\n",
        "import tensorflow as tf\n",
        "from tensorflow import keras\n",
        "from tensorflow.keras import layers\n",
        "\n",
        "from tensorflow.python.client import device_lib\n",
        "\n",
        "#import nltk"
      ]
    },
    {
      "cell_type": "code",
      "execution_count": 3,
      "id": "18f77d0b",
      "metadata": {
        "id": "18f77d0b"
      },
      "outputs": [],
      "source": [
        "### Custom Imports\n",
        "sys.path.append('../')\n",
        "import lib.utilities as utils"
      ]
    },
    {
      "cell_type": "code",
      "execution_count": 4,
      "id": "e1f082fd",
      "metadata": {
        "id": "e1f082fd"
      },
      "outputs": [],
      "source": [
        "corpus = utils.load_corpus()"
      ]
    },
    {
      "cell_type": "code",
      "execution_count": 5,
      "id": "222579b5",
      "metadata": {
        "id": "222579b5",
        "outputId": "d3ad2ef0-d972-4b7e-b17d-5095db110ce8",
        "colab": {
          "base_uri": "https://localhost:8080/",
          "height": 36
        }
      },
      "outputs": [
        {
          "output_type": "execute_result",
          "data": {
            "text/plain": [
              "'songs = utils.split_text(corpus)\\nall_songs = []\\nfor song in songs:\\n    all_songs.append(utils.split_song(song))'"
            ],
            "application/vnd.google.colaboratory.intrinsic+json": {
              "type": "string"
            }
          },
          "metadata": {},
          "execution_count": 5
        }
      ],
      "source": [
        "'''songs = utils.split_text(corpus)\n",
        "all_songs = []\n",
        "for song in songs:\n",
        "    all_songs.append(utils.split_song(song))'''"
      ]
    },
    {
      "cell_type": "code",
      "execution_count": 6,
      "id": "52adf0e5",
      "metadata": {
        "scrolled": true,
        "id": "52adf0e5"
      },
      "outputs": [],
      "source": [
        "words = utils.preprocess_text(corpus, fun_list = [utils.to_lower, utils.decontraction, utils.remove_punct], keep = '\\<|\\>')\n",
        "words = re.sub('\\n',' \\n ', words)\n",
        "words = re.split(' +', words)"
      ]
    },
    {
      "cell_type": "code",
      "execution_count": 7,
      "id": "9f079791",
      "metadata": {
        "scrolled": true,
        "id": "9f079791"
      },
      "outputs": [],
      "source": [
        "word_count = Counter(words)\n",
        "index_to_vocab = {i: k for i, k in enumerate(word_count.keys())}\n",
        "vocab_to_index = {k: i for i, k in enumerate(word_count.keys())}"
      ]
    },
    {
      "cell_type": "code",
      "execution_count": 8,
      "id": "e7988e0a",
      "metadata": {
        "id": "e7988e0a"
      },
      "outputs": [],
      "source": [
        "songs = ' '.join(words)\n",
        "songs = songs.split(' \\n \\n <eos> \\n \\n ')\n",
        "songs = [song.split(' ') for song in songs]"
      ]
    },
    {
      "cell_type": "code",
      "source": [
        "tokens_index = np.vectorize(vocab_to_index.get)(np.array(words))\n",
        "start_token = '<verse>'\n",
        "start_token_index = vocab_to_index.get(start_token)"
      ],
      "metadata": {
        "id": "PGI94yilFsFN"
      },
      "id": "PGI94yilFsFN",
      "execution_count": 9,
      "outputs": []
    },
    {
      "cell_type": "code",
      "source": [
        "word_dataset = tf.data.Dataset.from_tensor_slices(tokens_index)"
      ],
      "metadata": {
        "id": "ec7r-SW_GJtS"
      },
      "id": "ec7r-SW_GJtS",
      "execution_count": 10,
      "outputs": []
    },
    {
      "cell_type": "code",
      "source": [
        "window_len = 15\n",
        "sequences = word_dataset.window(window_len + 1, 1, drop_remainder=True)\n",
        "sequences = sequences.flat_map(lambda window: window.batch(window_len + 1))\n",
        "sequences = sequences.map(lambda window: ((window[:-1], tf.convert_to_tensor([start_token_index])), window[-1:]))"
      ],
      "metadata": {
        "id": "KWrGxkINGRUq"
      },
      "id": "KWrGxkINGRUq",
      "execution_count": 18,
      "outputs": []
    },
    {
      "cell_type": "code",
      "source": [
        "BATCH_SIZE = 64\n",
        "BUFFER_SIZE = 10000\n",
        "\n",
        "AUTOTUNE = tf.data.AUTOTUNE\n",
        "dataset = sequences.shuffle(BUFFER_SIZE).batch(BATCH_SIZE, drop_remainder=True).cache().prefetch(buffer_size=AUTOTUNE)"
      ],
      "metadata": {
        "id": "vb4az7AbHmRh"
      },
      "id": "vb4az7AbHmRh",
      "execution_count": 19,
      "outputs": []
    },
    {
      "cell_type": "code",
      "execution_count": 20,
      "id": "2fae1299",
      "metadata": {
        "id": "2fae1299"
      },
      "outputs": [],
      "source": [
        "vocab_size = len(word_count)\n",
        "embedding_dim = 128\n",
        "rnn_dim = 256\n",
        "learn_rate = 0.001\n",
        "epochs = 10"
      ]
    },
    {
      "cell_type": "code",
      "execution_count": 21,
      "id": "202bf8be",
      "metadata": {
        "id": "202bf8be",
        "colab": {
          "base_uri": "https://localhost:8080/"
        },
        "outputId": "f93e6d60-97f1-4725-edf9-a114d108cd8a"
      },
      "outputs": [
        {
          "output_type": "stream",
          "name": "stdout",
          "text": [
            "Model: \"model_1\"\n",
            "__________________________________________________________________________________________________\n",
            " Layer (type)                   Output Shape         Param #     Connected to                     \n",
            "==================================================================================================\n",
            " input_3 (InputLayer)           [(None, None)]       0           []                               \n",
            "                                                                                                  \n",
            " input_4 (InputLayer)           [(None, None)]       0           []                               \n",
            "                                                                                                  \n",
            " embedding_2 (Embedding)        (None, None, 128)    134016      ['input_3[0][0]']                \n",
            "                                                                                                  \n",
            " embedding_3 (Embedding)        (None, None, 128)    134016      ['input_4[0][0]']                \n",
            "                                                                                                  \n",
            " encoder (SimpleRNN)            [(None, 256),        98560       ['embedding_2[0][0]']            \n",
            "                                 (None, 256)]                                                     \n",
            "                                                                                                  \n",
            " decoder (SimpleRNN)            (None, 256)          98560       ['embedding_3[0][0]',            \n",
            "                                                                  'encoder[0][1]']                \n",
            "                                                                                                  \n",
            " dense_1 (Dense)                (None, 1047)         269079      ['decoder[0][0]']                \n",
            "                                                                                                  \n",
            "==================================================================================================\n",
            "Total params: 734,231\n",
            "Trainable params: 734,231\n",
            "Non-trainable params: 0\n",
            "__________________________________________________________________________________________________\n"
          ]
        }
      ],
      "source": [
        "# Encoder\n",
        "encoder_input = layers.Input(shape=(None,))\n",
        "encoder_embedded = layers.Embedding(input_dim=vocab_size, output_dim=embedding_dim)(\n",
        "    encoder_input\n",
        ")\n",
        "\n",
        "# Return state in addition to output\n",
        "output, encoder_state = layers.SimpleRNN(rnn_dim, return_state=True, name=\"encoder\")(\n",
        "    encoder_embedded\n",
        ")\n",
        "\n",
        "# Decoder\n",
        "decoder_input = layers.Input(shape=(None,))\n",
        "decoder_embedded = layers.Embedding(input_dim=vocab_size, output_dim=embedding_dim)(\n",
        "    decoder_input\n",
        ")\n",
        "\n",
        "# Pass the 2 states to a new RNN, as initial state\n",
        "decoder_output = layers.SimpleRNN(rnn_dim, name=\"decoder\")(\n",
        "    decoder_embedded, initial_state=[encoder_state]\n",
        ")\n",
        "output = layers.Dense(vocab_size)(decoder_output)\n",
        "\n",
        "model = keras.Model([encoder_input, decoder_input], output)\n",
        "model.summary()"
      ]
    },
    {
      "cell_type": "code",
      "execution_count": 22,
      "id": "83bb01d4",
      "metadata": {
        "id": "83bb01d4"
      },
      "outputs": [],
      "source": [
        "model.compile(loss = 'categorical_crossentropy', optimizer = tf.keras.optimizers.Adam(learning_rate=learn_rate))"
      ]
    },
    {
      "cell_type": "code",
      "source": [
        "result = model.fit(x = dataset, epochs = epochs, shuffle = True)"
      ],
      "metadata": {
        "colab": {
          "base_uri": "https://localhost:8080/"
        },
        "id": "hIOwUeQ0E0LD",
        "outputId": "0e3ab93c-a6be-4029-f6de-f61e9faf0d91"
      },
      "id": "hIOwUeQ0E0LD",
      "execution_count": 24,
      "outputs": [
        {
          "output_type": "stream",
          "name": "stdout",
          "text": [
            "Epoch 1/10\n",
            "217/217 [==============================] - 9s 41ms/step - loss: 1144026.8750\n",
            "Epoch 2/10\n",
            "217/217 [==============================] - 9s 40ms/step - loss: 1142991.2500\n",
            "Epoch 3/10\n",
            "217/217 [==============================] - 9s 41ms/step - loss: 1142218.5000\n",
            "Epoch 4/10\n",
            "217/217 [==============================] - 9s 40ms/step - loss: 1141520.0000\n",
            "Epoch 5/10\n",
            "217/217 [==============================] - 9s 40ms/step - loss: 1140724.2500\n",
            "Epoch 6/10\n",
            "217/217 [==============================] - 9s 40ms/step - loss: 1139797.2500\n",
            "Epoch 7/10\n",
            "217/217 [==============================] - 9s 39ms/step - loss: 1138493.7500\n",
            "Epoch 8/10\n",
            "217/217 [==============================] - 9s 40ms/step - loss: 1136632.0000\n",
            "Epoch 9/10\n",
            "217/217 [==============================] - 9s 40ms/step - loss: 1133111.2500\n",
            "Epoch 10/10\n",
            "217/217 [==============================] - 9s 40ms/step - loss: 1186407.1250\n"
          ]
        }
      ]
    },
    {
      "cell_type": "code",
      "source": [
        "def generate_text(model, start_string, num_generate = 1000, temperature=1.0):\n",
        "    \"\"\"Generate text using trained sequential text generation model\n",
        "\n",
        "    Args: \n",
        "      model (model): Keras trained sequential text generation model\n",
        "      start_string (list): list of strings for starting the text generation\n",
        "      num_generate (int): number of words to generate\n",
        "      temperature (float): controls the predictability of the generated text\n",
        "        - Low temperatures results in more predictable text.\n",
        "        - Higher temperatures results in more surprising text.\n",
        "    \n",
        "    Returns:\n",
        "      String of generated text\n",
        "      \n",
        "    \"\"\"\n",
        "\n",
        "    # Converting our start string to numbers (vectorizing).\n",
        "    input_indices = [vocab_to_index[s] for s in start_string]\n",
        "    input_indices = tf.expand_dims(input_indices, 0)\n",
        "\n",
        "    # Empty string to store our results.\n",
        "    text_generated = []\n",
        "\n",
        "    # Here batch size == 1.\n",
        "    model.reset_states()\n",
        "    for word_index in range(num_generate):\n",
        "        predictions = model(input_indices, tf.constant(start_token_index))\n",
        "        # remove the batch dimension\n",
        "        predictions = tf.squeeze(predictions, 0)\n",
        "\n",
        "        # Using a categorical distribution to predict the character returned by the model.\n",
        "        predictions = predictions / temperature\n",
        "        predictions = tf.reshape(predictions, [1, predictions.shape[0]])\n",
        "        predicted_id = tf.random.categorical(\n",
        "            predictions,\n",
        "            num_samples=1\n",
        "            )[-1,0].numpy()\n",
        "\n",
        "        # We pass the predicted word as the next input to the model\n",
        "        # along with the previous hidden state.\n",
        "        input_indices = tf.expand_dims([predicted_id], 0)\n",
        "\n",
        "        text_generated.append(indices_word[predicted_id])\n",
        "    \n",
        "    return (' '.join(start_string) + ' ' + ' '.join(text_generated))"
      ],
      "metadata": {
        "id": "_ANJJNQGSpdx"
      },
      "id": "_ANJJNQGSpdx",
      "execution_count": 31,
      "outputs": []
    },
    {
      "cell_type": "code",
      "source": [
        "print(generate_text(model, start_string=['<verse>', '\\n'], num_generate=30, temperature=1.0))"
      ],
      "metadata": {
        "colab": {
          "base_uri": "https://localhost:8080/",
          "height": 311
        },
        "id": "wo0aCkdPL2EU",
        "outputId": "1d0463ea-3a5a-49b8-a903-98eee1936b09"
      },
      "id": "wo0aCkdPL2EU",
      "execution_count": 32,
      "outputs": [
        {
          "output_type": "error",
          "ename": "ValueError",
          "evalue": "ignored",
          "traceback": [
            "\u001b[0;31m---------------------------------------------------------------------------\u001b[0m",
            "\u001b[0;31mValueError\u001b[0m                                Traceback (most recent call last)",
            "\u001b[0;32m<ipython-input-32-49064d76119b>\u001b[0m in \u001b[0;36m<module>\u001b[0;34m()\u001b[0m\n\u001b[0;32m----> 1\u001b[0;31m \u001b[0mprint\u001b[0m\u001b[0;34m(\u001b[0m\u001b[0mgenerate_text\u001b[0m\u001b[0;34m(\u001b[0m\u001b[0mmodel\u001b[0m\u001b[0;34m,\u001b[0m \u001b[0mstart_string\u001b[0m\u001b[0;34m=\u001b[0m\u001b[0;34m[\u001b[0m\u001b[0;34m'<verse>'\u001b[0m\u001b[0;34m,\u001b[0m \u001b[0;34m'\\n'\u001b[0m\u001b[0;34m]\u001b[0m\u001b[0;34m,\u001b[0m \u001b[0mnum_generate\u001b[0m\u001b[0;34m=\u001b[0m\u001b[0;36m30\u001b[0m\u001b[0;34m,\u001b[0m \u001b[0mtemperature\u001b[0m\u001b[0;34m=\u001b[0m\u001b[0;36m1.0\u001b[0m\u001b[0;34m)\u001b[0m\u001b[0;34m)\u001b[0m\u001b[0;34m\u001b[0m\u001b[0;34m\u001b[0m\u001b[0m\n\u001b[0m",
            "\u001b[0;32m<ipython-input-31-5a7178d0f925>\u001b[0m in \u001b[0;36mgenerate_text\u001b[0;34m(model, start_string, num_generate, temperature)\u001b[0m\n\u001b[1;32m     25\u001b[0m     \u001b[0mmodel\u001b[0m\u001b[0;34m.\u001b[0m\u001b[0mreset_states\u001b[0m\u001b[0;34m(\u001b[0m\u001b[0;34m)\u001b[0m\u001b[0;34m\u001b[0m\u001b[0;34m\u001b[0m\u001b[0m\n\u001b[1;32m     26\u001b[0m     \u001b[0;32mfor\u001b[0m \u001b[0mword_index\u001b[0m \u001b[0;32min\u001b[0m \u001b[0mrange\u001b[0m\u001b[0;34m(\u001b[0m\u001b[0mnum_generate\u001b[0m\u001b[0;34m)\u001b[0m\u001b[0;34m:\u001b[0m\u001b[0;34m\u001b[0m\u001b[0;34m\u001b[0m\u001b[0m\n\u001b[0;32m---> 27\u001b[0;31m         \u001b[0mpredictions\u001b[0m \u001b[0;34m=\u001b[0m \u001b[0mmodel\u001b[0m\u001b[0;34m(\u001b[0m\u001b[0minput_indices\u001b[0m\u001b[0;34m,\u001b[0m \u001b[0mtf\u001b[0m\u001b[0;34m.\u001b[0m\u001b[0mconstant\u001b[0m\u001b[0;34m(\u001b[0m\u001b[0mstart_token_index\u001b[0m\u001b[0;34m)\u001b[0m\u001b[0;34m)\u001b[0m\u001b[0;34m\u001b[0m\u001b[0;34m\u001b[0m\u001b[0m\n\u001b[0m\u001b[1;32m     28\u001b[0m         \u001b[0;31m# remove the batch dimension\u001b[0m\u001b[0;34m\u001b[0m\u001b[0;34m\u001b[0m\u001b[0;34m\u001b[0m\u001b[0m\n\u001b[1;32m     29\u001b[0m         \u001b[0mpredictions\u001b[0m \u001b[0;34m=\u001b[0m \u001b[0mtf\u001b[0m\u001b[0;34m.\u001b[0m\u001b[0msqueeze\u001b[0m\u001b[0;34m(\u001b[0m\u001b[0mpredictions\u001b[0m\u001b[0;34m,\u001b[0m \u001b[0;36m0\u001b[0m\u001b[0;34m)\u001b[0m\u001b[0;34m\u001b[0m\u001b[0;34m\u001b[0m\u001b[0m\n",
            "\u001b[0;32m/usr/local/lib/python3.7/dist-packages/keras/utils/traceback_utils.py\u001b[0m in \u001b[0;36merror_handler\u001b[0;34m(*args, **kwargs)\u001b[0m\n\u001b[1;32m     65\u001b[0m     \u001b[0;32mexcept\u001b[0m \u001b[0mException\u001b[0m \u001b[0;32mas\u001b[0m \u001b[0me\u001b[0m\u001b[0;34m:\u001b[0m  \u001b[0;31m# pylint: disable=broad-except\u001b[0m\u001b[0;34m\u001b[0m\u001b[0;34m\u001b[0m\u001b[0m\n\u001b[1;32m     66\u001b[0m       \u001b[0mfiltered_tb\u001b[0m \u001b[0;34m=\u001b[0m \u001b[0m_process_traceback_frames\u001b[0m\u001b[0;34m(\u001b[0m\u001b[0me\u001b[0m\u001b[0;34m.\u001b[0m\u001b[0m__traceback__\u001b[0m\u001b[0;34m)\u001b[0m\u001b[0;34m\u001b[0m\u001b[0;34m\u001b[0m\u001b[0m\n\u001b[0;32m---> 67\u001b[0;31m       \u001b[0;32mraise\u001b[0m \u001b[0me\u001b[0m\u001b[0;34m.\u001b[0m\u001b[0mwith_traceback\u001b[0m\u001b[0;34m(\u001b[0m\u001b[0mfiltered_tb\u001b[0m\u001b[0;34m)\u001b[0m \u001b[0;32mfrom\u001b[0m \u001b[0;32mNone\u001b[0m\u001b[0;34m\u001b[0m\u001b[0;34m\u001b[0m\u001b[0m\n\u001b[0m\u001b[1;32m     68\u001b[0m     \u001b[0;32mfinally\u001b[0m\u001b[0;34m:\u001b[0m\u001b[0;34m\u001b[0m\u001b[0;34m\u001b[0m\u001b[0m\n\u001b[1;32m     69\u001b[0m       \u001b[0;32mdel\u001b[0m \u001b[0mfiltered_tb\u001b[0m\u001b[0;34m\u001b[0m\u001b[0;34m\u001b[0m\u001b[0m\n",
            "\u001b[0;32m/usr/local/lib/python3.7/dist-packages/keras/engine/input_spec.py\u001b[0m in \u001b[0;36massert_input_compatibility\u001b[0;34m(input_spec, inputs, layer_name)\u001b[0m\n\u001b[1;32m    198\u001b[0m \u001b[0;34m\u001b[0m\u001b[0m\n\u001b[1;32m    199\u001b[0m   \u001b[0;32mif\u001b[0m \u001b[0mlen\u001b[0m\u001b[0;34m(\u001b[0m\u001b[0minputs\u001b[0m\u001b[0;34m)\u001b[0m \u001b[0;34m!=\u001b[0m \u001b[0mlen\u001b[0m\u001b[0;34m(\u001b[0m\u001b[0minput_spec\u001b[0m\u001b[0;34m)\u001b[0m\u001b[0;34m:\u001b[0m\u001b[0;34m\u001b[0m\u001b[0;34m\u001b[0m\u001b[0m\n\u001b[0;32m--> 200\u001b[0;31m     raise ValueError(f'Layer \"{layer_name}\" expects {len(input_spec)} input(s),'\n\u001b[0m\u001b[1;32m    201\u001b[0m                      \u001b[0;34mf' but it received {len(inputs)} input tensors. '\u001b[0m\u001b[0;34m\u001b[0m\u001b[0;34m\u001b[0m\u001b[0m\n\u001b[1;32m    202\u001b[0m                      f'Inputs received: {inputs}')\n",
            "\u001b[0;31mValueError\u001b[0m: Layer \"model_1\" expects 2 input(s), but it received 1 input tensors. Inputs received: [<tf.Tensor: shape=(1, 2), dtype=int32, numpy=array([[0, 1]], dtype=int32)>]"
          ]
        }
      ]
    },
    {
      "cell_type": "code",
      "source": [
        ""
      ],
      "metadata": {
        "id": "XhNWoX1PL2Wg"
      },
      "id": "XhNWoX1PL2Wg",
      "execution_count": null,
      "outputs": []
    }
  ],
  "metadata": {
    "kernelspec": {
      "display_name": "Python 3",
      "language": "python",
      "name": "python3"
    },
    "language_info": {
      "codemirror_mode": {
        "name": "ipython",
        "version": 3
      },
      "file_extension": ".py",
      "mimetype": "text/x-python",
      "name": "python",
      "nbconvert_exporter": "python",
      "pygments_lexer": "ipython3",
      "version": "3.8.8"
    },
    "colab": {
      "name": "Autoencoder (work in progress).ipynb",
      "provenance": [],
      "collapsed_sections": []
    }
  },
  "nbformat": 4,
  "nbformat_minor": 5
}