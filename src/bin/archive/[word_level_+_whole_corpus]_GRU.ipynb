{
  "nbformat": 4,
  "nbformat_minor": 0,
  "metadata": {
    "colab": {
      "name": "[word level + whole corpus] GRU.ipynb",
      "provenance": [],
      "collapsed_sections": [],
      "machine_shape": "hm",
      "include_colab_link": true
    },
    "kernelspec": {
      "name": "python3",
      "display_name": "Python 3"
    },
    "language_info": {
      "name": "python"
    },
    "accelerator": "GPU"
  },
  "cells": [
    {
      "cell_type": "markdown",
      "metadata": {
        "id": "view-in-github",
        "colab_type": "text"
      },
      "source": [
        "<a href=\"https://colab.research.google.com/github/quekhyg/NLP-Lyric-Generator/blob/main/%5Bword_level_%2B_whole_corpus%5D_GRU.ipynb\" target=\"_parent\"><img src=\"https://colab.research.google.com/assets/colab-badge.svg\" alt=\"Open In Colab\"/></a>"
      ]
    },
    {
      "cell_type": "code",
      "execution_count": 1,
      "metadata": {
        "id": "wgFfi9cLM0a2",
        "colab": {
          "base_uri": "https://localhost:8080/"
        },
        "outputId": "13a24b93-44b7-43c6-d2a5-3ea5b09603ce"
      },
      "outputs": [
        {
          "output_type": "stream",
          "name": "stdout",
          "text": [
            "Drive already mounted at /content/drive; to attempt to forcibly remount, call drive.mount(\"/content/drive\", force_remount=True).\n",
            "/content/drive/.shortcut-targets-by-id/1MmY0pN1b5xL_C2CijM9ImcFM-UFt4bwr/NLP project\n"
          ]
        }
      ],
      "source": [
        "from google.colab import drive\n",
        "drive.mount('/content/drive')\n",
        "%cd /content/drive/MyDrive/Colab Notebooks/SMU_MITB_NLP/NLP project/"
      ]
    },
    {
      "cell_type": "code",
      "source": [
        "#import packages\n",
        "import pandas as pd\n",
        "import numpy as np\n",
        "import os\n",
        "import sys \n",
        "import tensorflow as tf\n",
        "from keras.models import Sequential\n",
        "from keras.layers import Activation, Flatten, Dropout, Dense, Embedding, TimeDistributed, GRU\n",
        "from keras.callbacks import ModelCheckpoint\n",
        "from keras.utils import np_utils"
      ],
      "metadata": {
        "id": "EhWNN_xcPCKQ"
      },
      "execution_count": 2,
      "outputs": []
    },
    {
      "cell_type": "code",
      "source": [
        "tf.random.set_seed(42)"
      ],
      "metadata": {
        "id": "vC2DS1EVudyS"
      },
      "execution_count": 3,
      "outputs": []
    },
    {
      "cell_type": "markdown",
      "source": [
        "Data Preprocessing"
      ],
      "metadata": {
        "id": "Kd3vKrZvbYrC"
      }
    },
    {
      "cell_type": "code",
      "source": [
        "path = \"./songs_edit_revised/\"\n",
        "corpus = ''\n",
        "\n",
        "all_files = os.listdir(path)\n",
        "for file in all_files:\n",
        "  with open(os.path.join(path, file)) as f:\n",
        "    text = f.read()\n",
        "    corpus+= '\\n\\n'+ text"
      ],
      "metadata": {
        "id": "4APv66HUPQTK"
      },
      "execution_count": 4,
      "outputs": []
    },
    {
      "cell_type": "code",
      "source": [
        "components = corpus.split('\\n\\n')"
      ],
      "metadata": {
        "id": "HB-1Ie88sMSF"
      },
      "execution_count": 5,
      "outputs": []
    },
    {
      "cell_type": "code",
      "source": [
        "print(len(components))"
      ],
      "metadata": {
        "colab": {
          "base_uri": "https://localhost:8080/"
        },
        "id": "PBSAP7OLsRDK",
        "outputId": "579f3076-93c4-4dc1-adad-1ace72134f9a"
      },
      "execution_count": 6,
      "outputs": [
        {
          "output_type": "stream",
          "name": "stdout",
          "text": [
            "288\n"
          ]
        }
      ]
    },
    {
      "cell_type": "code",
      "source": [
        "corpus_list = [string.split('\\n') for string in components]\n",
        "#corpus_list[:10]\n",
        "for song in corpus_list:\n",
        "  song.pop(0)"
      ],
      "metadata": {
        "id": "Im4ruOD77Dx5"
      },
      "execution_count": 7,
      "outputs": []
    },
    {
      "cell_type": "code",
      "source": [
        "corpus_list[:10]"
      ],
      "metadata": {
        "colab": {
          "base_uri": "https://localhost:8080/"
        },
        "id": "bwz7dYKX7W9w",
        "outputId": "61561a74-1806-46b3-b908-3f1ae590d18a"
      },
      "execution_count": 8,
      "outputs": [
        {
          "output_type": "execute_result",
          "data": {
            "text/plain": [
              "[[],\n",
              " ['Will you make this island',\n",
              "  'Amazing in all ways',\n",
              "  'Surprises every corner',\n",
              "  'Delightful nights and days',\n",
              "  'Will you take this country',\n",
              "  'And turn it from a place',\n",
              "  'To a home that greets you',\n",
              "  'With smiles on every face',\n",
              "  'Will you come on this brave journey',\n",
              "  'Will you help to make it real',\n",
              "  'Will you write us grand new stories',\n",
              "  'Songs that everyone will feel'],\n",
              " ['So will you swim the current',\n",
              "  'Will you scale new heights',\n",
              "  'Will you make it happen',\n",
              "  'Will you let your dreams take flight',\n",
              "  'And will you make the difference',\n",
              "  'Will you seize the day',\n",
              "  'Will you live each moment',\n",
              "  'Will you dare to find new ways'],\n",
              " ['Will you take this city',\n",
              "  'And turn it from a place',\n",
              "  'To a home that greets you',\n",
              "  'With smiles on every face',\n",
              "  'Will you come on this brave journey',\n",
              "  'Will you help to make it real',\n",
              "  'Will you write us grand new stories',\n",
              "  'Songs that everyone will feel'],\n",
              " ['So will you swim the current',\n",
              "  'Will you scale new heights',\n",
              "  'Will you make it happen',\n",
              "  'Will you let your dreams take flight',\n",
              "  'And will you make the difference',\n",
              "  'Will you seize the day',\n",
              "  'Will you live each moment',\n",
              "  'Will you dare to find new ways'],\n",
              " ['Dare to find', 'Dare to find', 'Dare to find', 'New ways'],\n",
              " ['This is a place',\n",
              "  \"You'll be amazed\",\n",
              "  'Where children play',\n",
              "  'Where best friends stay',\n",
              "  'Have different tastes',\n",
              "  'Live different ways',\n",
              "  'The smile on your face',\n",
              "  'Can bring us closer every day'],\n",
              " ['This is a place',\n",
              "  'Our common space',\n",
              "  'We share our dreams',\n",
              "  'One goal we chase',\n",
              "  'Come join our pace',\n",
              "  \"We'll win the race\",\n",
              "  \"When we're together\",\n",
              "  'We can make miracles come our way'],\n",
              " [\"This is where we'll see\",\n",
              "  'Familiar faces from our neighbourhood',\n",
              "  \"This is where we'll share\",\n",
              "  'The stories dating back to our childhood',\n",
              "  \"It's here where I'll find\",\n",
              "  'Your hand to lift me up',\n",
              "  'When I fall',\n",
              "  \"It's here where I am sure\",\n",
              "  \"I'm safe\",\n",
              "  \"I won't be lost\"],\n",
              " [\"This is where we'll stand as one\",\n",
              "  'To build a home for you and me',\n",
              "  \"This is where we'll join our hands\",\n",
              "  'To grow the fruits of harmony',\n",
              "  'When you and I',\n",
              "  'Put our hearts together',\n",
              "  \"We'll stand the test\",\n",
              "  'For this is where we belong',\n",
              "  \"We'll give our best\"]]"
            ]
          },
          "metadata": {},
          "execution_count": 8
        }
      ]
    },
    {
      "cell_type": "code",
      "source": [
        "df = pd.DataFrame({'song': corpus_list})\n",
        "\n",
        "df['song'] = df['song'].str.join(', ')\n",
        "pd.options.display.max_colwidth = 500\n",
        "df=df.iloc[1:] \n",
        "df.head()"
      ],
      "metadata": {
        "colab": {
          "base_uri": "https://localhost:8080/",
          "height": 268
        },
        "id": "aRmxBE4472Xe",
        "outputId": "40c1a100-68b0-460a-ac3b-33a26a2324eb"
      },
      "execution_count": 9,
      "outputs": [
        {
          "output_type": "execute_result",
          "data": {
            "text/plain": [
              "                                                                                                                                                                                                                                                                                                                                                     song\n",
              "1  Will you make this island, Amazing in all ways, Surprises every corner, Delightful nights and days, Will you take this country, And turn it from a place, To a home that greets you, With smiles on every face, Will you come on this brave journey, Will you help to make it real, Will you write us grand new stories, Songs that everyone will feel\n",
              "2                                                                                                            So will you swim the current, Will you scale new heights, Will you make it happen, Will you let your dreams take flight, And will you make the difference, Will you seize the day, Will you live each moment, Will you dare to find new ways\n",
              "3                                                                                                         Will you take this city, And turn it from a place, To a home that greets you, With smiles on every face, Will you come on this brave journey, Will you help to make it real, Will you write us grand new stories, Songs that everyone will feel\n",
              "4                                                                                                            So will you swim the current, Will you scale new heights, Will you make it happen, Will you let your dreams take flight, And will you make the difference, Will you seize the day, Will you live each moment, Will you dare to find new ways\n",
              "5                                                                                                                                                                                                                                                                                                      Dare to find, Dare to find, Dare to find, New ways"
            ],
            "text/html": [
              "\n",
              "  <div id=\"df-7f059362-0bb4-4bad-b748-3da6e5514055\">\n",
              "    <div class=\"colab-df-container\">\n",
              "      <div>\n",
              "<style scoped>\n",
              "    .dataframe tbody tr th:only-of-type {\n",
              "        vertical-align: middle;\n",
              "    }\n",
              "\n",
              "    .dataframe tbody tr th {\n",
              "        vertical-align: top;\n",
              "    }\n",
              "\n",
              "    .dataframe thead th {\n",
              "        text-align: right;\n",
              "    }\n",
              "</style>\n",
              "<table border=\"1\" class=\"dataframe\">\n",
              "  <thead>\n",
              "    <tr style=\"text-align: right;\">\n",
              "      <th></th>\n",
              "      <th>song</th>\n",
              "    </tr>\n",
              "  </thead>\n",
              "  <tbody>\n",
              "    <tr>\n",
              "      <th>1</th>\n",
              "      <td>Will you make this island, Amazing in all ways, Surprises every corner, Delightful nights and days, Will you take this country, And turn it from a place, To a home that greets you, With smiles on every face, Will you come on this brave journey, Will you help to make it real, Will you write us grand new stories, Songs that everyone will feel</td>\n",
              "    </tr>\n",
              "    <tr>\n",
              "      <th>2</th>\n",
              "      <td>So will you swim the current, Will you scale new heights, Will you make it happen, Will you let your dreams take flight, And will you make the difference, Will you seize the day, Will you live each moment, Will you dare to find new ways</td>\n",
              "    </tr>\n",
              "    <tr>\n",
              "      <th>3</th>\n",
              "      <td>Will you take this city, And turn it from a place, To a home that greets you, With smiles on every face, Will you come on this brave journey, Will you help to make it real, Will you write us grand new stories, Songs that everyone will feel</td>\n",
              "    </tr>\n",
              "    <tr>\n",
              "      <th>4</th>\n",
              "      <td>So will you swim the current, Will you scale new heights, Will you make it happen, Will you let your dreams take flight, And will you make the difference, Will you seize the day, Will you live each moment, Will you dare to find new ways</td>\n",
              "    </tr>\n",
              "    <tr>\n",
              "      <th>5</th>\n",
              "      <td>Dare to find, Dare to find, Dare to find, New ways</td>\n",
              "    </tr>\n",
              "  </tbody>\n",
              "</table>\n",
              "</div>\n",
              "      <button class=\"colab-df-convert\" onclick=\"convertToInteractive('df-7f059362-0bb4-4bad-b748-3da6e5514055')\"\n",
              "              title=\"Convert this dataframe to an interactive table.\"\n",
              "              style=\"display:none;\">\n",
              "        \n",
              "  <svg xmlns=\"http://www.w3.org/2000/svg\" height=\"24px\"viewBox=\"0 0 24 24\"\n",
              "       width=\"24px\">\n",
              "    <path d=\"M0 0h24v24H0V0z\" fill=\"none\"/>\n",
              "    <path d=\"M18.56 5.44l.94 2.06.94-2.06 2.06-.94-2.06-.94-.94-2.06-.94 2.06-2.06.94zm-11 1L8.5 8.5l.94-2.06 2.06-.94-2.06-.94L8.5 2.5l-.94 2.06-2.06.94zm10 10l.94 2.06.94-2.06 2.06-.94-2.06-.94-.94-2.06-.94 2.06-2.06.94z\"/><path d=\"M17.41 7.96l-1.37-1.37c-.4-.4-.92-.59-1.43-.59-.52 0-1.04.2-1.43.59L10.3 9.45l-7.72 7.72c-.78.78-.78 2.05 0 2.83L4 21.41c.39.39.9.59 1.41.59.51 0 1.02-.2 1.41-.59l7.78-7.78 2.81-2.81c.8-.78.8-2.07 0-2.86zM5.41 20L4 18.59l7.72-7.72 1.47 1.35L5.41 20z\"/>\n",
              "  </svg>\n",
              "      </button>\n",
              "      \n",
              "  <style>\n",
              "    .colab-df-container {\n",
              "      display:flex;\n",
              "      flex-wrap:wrap;\n",
              "      gap: 12px;\n",
              "    }\n",
              "\n",
              "    .colab-df-convert {\n",
              "      background-color: #E8F0FE;\n",
              "      border: none;\n",
              "      border-radius: 50%;\n",
              "      cursor: pointer;\n",
              "      display: none;\n",
              "      fill: #1967D2;\n",
              "      height: 32px;\n",
              "      padding: 0 0 0 0;\n",
              "      width: 32px;\n",
              "    }\n",
              "\n",
              "    .colab-df-convert:hover {\n",
              "      background-color: #E2EBFA;\n",
              "      box-shadow: 0px 1px 2px rgba(60, 64, 67, 0.3), 0px 1px 3px 1px rgba(60, 64, 67, 0.15);\n",
              "      fill: #174EA6;\n",
              "    }\n",
              "\n",
              "    [theme=dark] .colab-df-convert {\n",
              "      background-color: #3B4455;\n",
              "      fill: #D2E3FC;\n",
              "    }\n",
              "\n",
              "    [theme=dark] .colab-df-convert:hover {\n",
              "      background-color: #434B5C;\n",
              "      box-shadow: 0px 1px 3px 1px rgba(0, 0, 0, 0.15);\n",
              "      filter: drop-shadow(0px 1px 2px rgba(0, 0, 0, 0.3));\n",
              "      fill: #FFFFFF;\n",
              "    }\n",
              "  </style>\n",
              "\n",
              "      <script>\n",
              "        const buttonEl =\n",
              "          document.querySelector('#df-7f059362-0bb4-4bad-b748-3da6e5514055 button.colab-df-convert');\n",
              "        buttonEl.style.display =\n",
              "          google.colab.kernel.accessAllowed ? 'block' : 'none';\n",
              "\n",
              "        async function convertToInteractive(key) {\n",
              "          const element = document.querySelector('#df-7f059362-0bb4-4bad-b748-3da6e5514055');\n",
              "          const dataTable =\n",
              "            await google.colab.kernel.invokeFunction('convertToInteractive',\n",
              "                                                     [key], {});\n",
              "          if (!dataTable) return;\n",
              "\n",
              "          const docLinkHtml = 'Like what you see? Visit the ' +\n",
              "            '<a target=\"_blank\" href=https://colab.research.google.com/notebooks/data_table.ipynb>data table notebook</a>'\n",
              "            + ' to learn more about interactive tables.';\n",
              "          element.innerHTML = '';\n",
              "          dataTable['output_type'] = 'display_data';\n",
              "          await google.colab.output.renderOutput(dataTable, element);\n",
              "          const docLink = document.createElement('div');\n",
              "          docLink.innerHTML = docLinkHtml;\n",
              "          element.appendChild(docLink);\n",
              "        }\n",
              "      </script>\n",
              "    </div>\n",
              "  </div>\n",
              "  "
            ]
          },
          "metadata": {},
          "execution_count": 9
        }
      ]
    },
    {
      "cell_type": "markdown",
      "source": [
        "Generating lyrics for VERSE"
      ],
      "metadata": {
        "id": "a7glFx4Lh63h"
      }
    },
    {
      "cell_type": "code",
      "source": [
        "#To run this cell if utilities.py is not in the same folder - this will upload utilities.py\n",
        "# from google.colab import files\n",
        "# src = list(files.upload().values())[0]\n",
        "# open('utilities.py','wb').write(src)\n",
        "# import utilities as U"
      ],
      "metadata": {
        "id": "QOqvOtUsR3My"
      },
      "execution_count": 10,
      "outputs": []
    },
    {
      "cell_type": "code",
      "source": [
        "import utilities as U"
      ],
      "metadata": {
        "id": "e457DkWf5I0W"
      },
      "execution_count": 11,
      "outputs": []
    },
    {
      "cell_type": "code",
      "source": [
        "\"\"\"\n",
        "Remove punctuations, decontractions, emojis and URLs\n",
        "\"\"\"\n",
        "\n",
        "df['song'] = df.apply(lambda row : U.remove_punct(row['song']), axis=1)\n",
        "df['song'] = df.apply(lambda row : U.remove_url(row['song']), axis=1)\n",
        "df['song'] = df.apply(lambda row : U.remove_emoji(row['song']), axis=1)\n",
        "df['song'] = df.apply(lambda row : U.decontraction(row['song']), axis=1)\n",
        "df['song']=  df.apply(lambda row : row['song'].lower(), axis=1)\n",
        "df.head()"
      ],
      "metadata": {
        "colab": {
          "base_uri": "https://localhost:8080/",
          "height": 268
        },
        "id": "7yIThjqZmXlF",
        "outputId": "376ad0a9-46e7-464c-e779-b66423c118e0"
      },
      "execution_count": 12,
      "outputs": [
        {
          "output_type": "execute_result",
          "data": {
            "text/plain": [
              "                                                                                                                                                                                                                                                                                                                                          song\n",
              "1  will you make this island amazing in all ways surprises every corner delightful nights and days will you take this country and turn it from a place to a home that greets you with smiles on every face will you come on this brave journey will you help to make it real will you write us grand new stories songs that everyone will feel\n",
              "2                                                                                                        so will you swim the current will you scale new heights will you make it happen will you let your dreams take flight and will you make the difference will you seize the day will you live each moment will you dare to find new ways\n",
              "3                                                                                                     will you take this city and turn it from a place to a home that greets you with smiles on every face will you come on this brave journey will you help to make it real will you write us grand new stories songs that everyone will feel\n",
              "4                                                                                                        so will you swim the current will you scale new heights will you make it happen will you let your dreams take flight and will you make the difference will you seize the day will you live each moment will you dare to find new ways\n",
              "5                                                                                                                                                                                                                                                                                              dare to find dare to find dare to find new ways"
            ],
            "text/html": [
              "\n",
              "  <div id=\"df-f90a0043-ea2a-474a-ac7e-0a81065a4129\">\n",
              "    <div class=\"colab-df-container\">\n",
              "      <div>\n",
              "<style scoped>\n",
              "    .dataframe tbody tr th:only-of-type {\n",
              "        vertical-align: middle;\n",
              "    }\n",
              "\n",
              "    .dataframe tbody tr th {\n",
              "        vertical-align: top;\n",
              "    }\n",
              "\n",
              "    .dataframe thead th {\n",
              "        text-align: right;\n",
              "    }\n",
              "</style>\n",
              "<table border=\"1\" class=\"dataframe\">\n",
              "  <thead>\n",
              "    <tr style=\"text-align: right;\">\n",
              "      <th></th>\n",
              "      <th>song</th>\n",
              "    </tr>\n",
              "  </thead>\n",
              "  <tbody>\n",
              "    <tr>\n",
              "      <th>1</th>\n",
              "      <td>will you make this island amazing in all ways surprises every corner delightful nights and days will you take this country and turn it from a place to a home that greets you with smiles on every face will you come on this brave journey will you help to make it real will you write us grand new stories songs that everyone will feel</td>\n",
              "    </tr>\n",
              "    <tr>\n",
              "      <th>2</th>\n",
              "      <td>so will you swim the current will you scale new heights will you make it happen will you let your dreams take flight and will you make the difference will you seize the day will you live each moment will you dare to find new ways</td>\n",
              "    </tr>\n",
              "    <tr>\n",
              "      <th>3</th>\n",
              "      <td>will you take this city and turn it from a place to a home that greets you with smiles on every face will you come on this brave journey will you help to make it real will you write us grand new stories songs that everyone will feel</td>\n",
              "    </tr>\n",
              "    <tr>\n",
              "      <th>4</th>\n",
              "      <td>so will you swim the current will you scale new heights will you make it happen will you let your dreams take flight and will you make the difference will you seize the day will you live each moment will you dare to find new ways</td>\n",
              "    </tr>\n",
              "    <tr>\n",
              "      <th>5</th>\n",
              "      <td>dare to find dare to find dare to find new ways</td>\n",
              "    </tr>\n",
              "  </tbody>\n",
              "</table>\n",
              "</div>\n",
              "      <button class=\"colab-df-convert\" onclick=\"convertToInteractive('df-f90a0043-ea2a-474a-ac7e-0a81065a4129')\"\n",
              "              title=\"Convert this dataframe to an interactive table.\"\n",
              "              style=\"display:none;\">\n",
              "        \n",
              "  <svg xmlns=\"http://www.w3.org/2000/svg\" height=\"24px\"viewBox=\"0 0 24 24\"\n",
              "       width=\"24px\">\n",
              "    <path d=\"M0 0h24v24H0V0z\" fill=\"none\"/>\n",
              "    <path d=\"M18.56 5.44l.94 2.06.94-2.06 2.06-.94-2.06-.94-.94-2.06-.94 2.06-2.06.94zm-11 1L8.5 8.5l.94-2.06 2.06-.94-2.06-.94L8.5 2.5l-.94 2.06-2.06.94zm10 10l.94 2.06.94-2.06 2.06-.94-2.06-.94-.94-2.06-.94 2.06-2.06.94z\"/><path d=\"M17.41 7.96l-1.37-1.37c-.4-.4-.92-.59-1.43-.59-.52 0-1.04.2-1.43.59L10.3 9.45l-7.72 7.72c-.78.78-.78 2.05 0 2.83L4 21.41c.39.39.9.59 1.41.59.51 0 1.02-.2 1.41-.59l7.78-7.78 2.81-2.81c.8-.78.8-2.07 0-2.86zM5.41 20L4 18.59l7.72-7.72 1.47 1.35L5.41 20z\"/>\n",
              "  </svg>\n",
              "      </button>\n",
              "      \n",
              "  <style>\n",
              "    .colab-df-container {\n",
              "      display:flex;\n",
              "      flex-wrap:wrap;\n",
              "      gap: 12px;\n",
              "    }\n",
              "\n",
              "    .colab-df-convert {\n",
              "      background-color: #E8F0FE;\n",
              "      border: none;\n",
              "      border-radius: 50%;\n",
              "      cursor: pointer;\n",
              "      display: none;\n",
              "      fill: #1967D2;\n",
              "      height: 32px;\n",
              "      padding: 0 0 0 0;\n",
              "      width: 32px;\n",
              "    }\n",
              "\n",
              "    .colab-df-convert:hover {\n",
              "      background-color: #E2EBFA;\n",
              "      box-shadow: 0px 1px 2px rgba(60, 64, 67, 0.3), 0px 1px 3px 1px rgba(60, 64, 67, 0.15);\n",
              "      fill: #174EA6;\n",
              "    }\n",
              "\n",
              "    [theme=dark] .colab-df-convert {\n",
              "      background-color: #3B4455;\n",
              "      fill: #D2E3FC;\n",
              "    }\n",
              "\n",
              "    [theme=dark] .colab-df-convert:hover {\n",
              "      background-color: #434B5C;\n",
              "      box-shadow: 0px 1px 3px 1px rgba(0, 0, 0, 0.15);\n",
              "      filter: drop-shadow(0px 1px 2px rgba(0, 0, 0, 0.3));\n",
              "      fill: #FFFFFF;\n",
              "    }\n",
              "  </style>\n",
              "\n",
              "      <script>\n",
              "        const buttonEl =\n",
              "          document.querySelector('#df-f90a0043-ea2a-474a-ac7e-0a81065a4129 button.colab-df-convert');\n",
              "        buttonEl.style.display =\n",
              "          google.colab.kernel.accessAllowed ? 'block' : 'none';\n",
              "\n",
              "        async function convertToInteractive(key) {\n",
              "          const element = document.querySelector('#df-f90a0043-ea2a-474a-ac7e-0a81065a4129');\n",
              "          const dataTable =\n",
              "            await google.colab.kernel.invokeFunction('convertToInteractive',\n",
              "                                                     [key], {});\n",
              "          if (!dataTable) return;\n",
              "\n",
              "          const docLinkHtml = 'Like what you see? Visit the ' +\n",
              "            '<a target=\"_blank\" href=https://colab.research.google.com/notebooks/data_table.ipynb>data table notebook</a>'\n",
              "            + ' to learn more about interactive tables.';\n",
              "          element.innerHTML = '';\n",
              "          dataTable['output_type'] = 'display_data';\n",
              "          await google.colab.output.renderOutput(dataTable, element);\n",
              "          const docLink = document.createElement('div');\n",
              "          docLink.innerHTML = docLinkHtml;\n",
              "          element.appendChild(docLink);\n",
              "        }\n",
              "      </script>\n",
              "    </div>\n",
              "  </div>\n",
              "  "
            ]
          },
          "metadata": {},
          "execution_count": 12
        }
      ]
    },
    {
      "cell_type": "code",
      "source": [
        "songs = df['song'].tolist()"
      ],
      "metadata": {
        "id": "033ltAmo25ky"
      },
      "execution_count": 13,
      "outputs": []
    },
    {
      "cell_type": "code",
      "source": [
        "songs[:10]"
      ],
      "metadata": {
        "colab": {
          "base_uri": "https://localhost:8080/"
        },
        "id": "K3c3lQScEH4k",
        "outputId": "765c31b0-c126-4af3-bdb9-bb3ef772685f"
      },
      "execution_count": 14,
      "outputs": [
        {
          "output_type": "execute_result",
          "data": {
            "text/plain": [
              "['will you make this island amazing in all ways surprises every corner delightful nights and days will you take this country and turn it from a place to a home that greets you with smiles on every face will you come on this brave journey will you help to make it real will you write us grand new stories songs that everyone will feel',\n",
              " 'so will you swim the current will you scale new heights will you make it happen will you let your dreams take flight and will you make the difference will you seize the day will you live each moment will you dare to find new ways',\n",
              " 'will you take this city and turn it from a place to a home that greets you with smiles on every face will you come on this brave journey will you help to make it real will you write us grand new stories songs that everyone will feel',\n",
              " 'so will you swim the current will you scale new heights will you make it happen will you let your dreams take flight and will you make the difference will you seize the day will you live each moment will you dare to find new ways',\n",
              " 'dare to find dare to find dare to find new ways',\n",
              " 'this is a place youll be amazed where children play where best friends stay have different tastes live different ways the smile on your face can bring us closer every day',\n",
              " 'this is a place our common space we share our dreams one goal we chase come join our pace well win the race when were together we can make miracles come our way',\n",
              " 'this is where well see familiar faces from our neighbourhood this is where well share the stories dating back to our childhood its here where ill find your hand to lift me up when i fall its here where i am sure im safe i wont be lost',\n",
              " 'this is where well stand as one to build a home for you and me this is where well join our hands to grow the fruits of harmony when you and i put our hearts together well stand the test for this is where we belong well give our best',\n",
              " 'this is the place our common space we share our dreams one goal we chase come join our pace well win the race heres where i belong where i know that love is there for me']"
            ]
          },
          "metadata": {},
          "execution_count": 14
        }
      ]
    },
    {
      "cell_type": "code",
      "source": [
        "# Save verses in .txt file\n",
        "with open('songs.txt', 'w',encoding=\"utf-8\") as filehandle:  \n",
        "    for listitem in songs:\n",
        "        filehandle.write('%s\\n' % listitem)"
      ],
      "metadata": {
        "id": "ZXavEGDzoN85"
      },
      "execution_count": 15,
      "outputs": []
    },
    {
      "cell_type": "code",
      "source": [
        "textFileName = 'songs.txt'\n",
        "raw_text = open(textFileName, encoding = 'UTF-8').read()"
      ],
      "metadata": {
        "id": "2-R5ytF93GXO"
      },
      "execution_count": 16,
      "outputs": []
    },
    {
      "cell_type": "markdown",
      "source": [
        "Word-Level Lyrics Generation"
      ],
      "metadata": {
        "id": "Tg0mzhJRPAWU"
      }
    },
    {
      "cell_type": "code",
      "source": [
        "\"\"\"\n",
        "Generate song.\n",
        "Reference: https://predictivehacks.com/word-based-text-generation/\n",
        "\"\"\"\n",
        "from keras.preprocessing.text import Tokenizer\n",
        "from keras.preprocessing.sequence import pad_sequences\n",
        "from keras import regularizers\n",
        "import keras.utils as ku \n",
        "\n",
        "tokenizer = Tokenizer()\n",
        "\n",
        "corpus = raw_text.lower().split(\"\\n\")\n",
        "tokenizer.fit_on_texts(corpus)\n",
        "total_words = len(tokenizer.word_index) + 1\n",
        " \n",
        "# create input sequences using list of tokens\n",
        "input_sequences = []\n",
        "for line in corpus:\n",
        "    token_list = tokenizer.texts_to_sequences([line])[0]\n",
        "    for i in range(1, len(token_list)):\n",
        "        n_gram_sequence = token_list[:i+1]\n",
        "        input_sequences.append(n_gram_sequence)\n",
        " \n",
        " \n",
        "# pad sequences \n",
        "max_sequence_len = max([len(x) for x in input_sequences])\n",
        "input_sequences = np.array(pad_sequences(input_sequences, maxlen=max_sequence_len, padding='pre'))\n",
        " \n",
        "# create predictors and label\n",
        "predictors, label = input_sequences[:,:-1],input_sequences[:,-1]\n",
        " \n",
        "label = ku.np_utils.to_categorical(label, num_classes=total_words)\n",
        " \n",
        " \n",
        "model = Sequential()\n",
        "model.add(Embedding(total_words, 100, input_length=max_sequence_len-1))\n",
        "model.add(Dropout(0.2))\n",
        "model.add(GRU(128))\n",
        "model.add(Dense(total_words/2, activation='relu', kernel_regularizer=regularizers.l2(0.01)))\n",
        "model.add(Dense(total_words, activation='softmax'))\n",
        "model.compile(loss='categorical_crossentropy', optimizer='adam', metrics=['accuracy'])\n",
        "print(model.summary())"
      ],
      "metadata": {
        "colab": {
          "base_uri": "https://localhost:8080/"
        },
        "id": "zurth2_-PBvJ",
        "outputId": "251344a0-3ce9-420d-8c45-8b68189bb66c"
      },
      "execution_count": 17,
      "outputs": [
        {
          "output_type": "stream",
          "name": "stdout",
          "text": [
            "Model: \"sequential\"\n",
            "_________________________________________________________________\n",
            " Layer (type)                Output Shape              Param #   \n",
            "=================================================================\n",
            " embedding (Embedding)       (None, 97, 100)           107000    \n",
            "                                                                 \n",
            " dropout (Dropout)           (None, 97, 100)           0         \n",
            "                                                                 \n",
            " gru (GRU)                   (None, 128)               88320     \n",
            "                                                                 \n",
            " dense (Dense)               (None, 535)               69015     \n",
            "                                                                 \n",
            " dense_1 (Dense)             (None, 1070)              573520    \n",
            "                                                                 \n",
            "=================================================================\n",
            "Total params: 837,855\n",
            "Trainable params: 837,855\n",
            "Non-trainable params: 0\n",
            "_________________________________________________________________\n",
            "None\n"
          ]
        }
      ]
    },
    {
      "cell_type": "code",
      "source": [
        "early_stop= tf.keras.callbacks.EarlyStopping(\n",
        "    monitor=\"accuracy\",\n",
        "    patience=5,\n",
        "    verbose=0,\n",
        "    mode=\"auto\",\n",
        "    baseline=None,\n",
        "    restore_best_weights=False,\n",
        ")"
      ],
      "metadata": {
        "id": "8HrOCfRktymr"
      },
      "execution_count": 18,
      "outputs": []
    },
    {
      "cell_type": "code",
      "source": [
        "history = model.fit(predictors, label, epochs=50, verbose=1,callbacks = [early_stop])"
      ],
      "metadata": {
        "colab": {
          "base_uri": "https://localhost:8080/"
        },
        "id": "phHO1n6IrkEX",
        "outputId": "5226f0b0-5180-4e32-f87a-b173c385e477"
      },
      "execution_count": 19,
      "outputs": [
        {
          "output_type": "stream",
          "name": "stdout",
          "text": [
            "Epoch 1/50\n",
            "322/322 [==============================] - 7s 12ms/step - loss: 6.0070 - accuracy: 0.0436\n",
            "Epoch 2/50\n",
            "322/322 [==============================] - 3s 9ms/step - loss: 5.2931 - accuracy: 0.0625\n",
            "Epoch 3/50\n",
            "322/322 [==============================] - 2s 7ms/step - loss: 4.9688 - accuracy: 0.0865\n",
            "Epoch 4/50\n",
            "322/322 [==============================] - 2s 8ms/step - loss: 4.7166 - accuracy: 0.1097\n",
            "Epoch 5/50\n",
            "322/322 [==============================] - 2s 8ms/step - loss: 4.4968 - accuracy: 0.1231\n",
            "Epoch 6/50\n",
            "322/322 [==============================] - 2s 8ms/step - loss: 4.2909 - accuracy: 0.1455\n",
            "Epoch 7/50\n",
            "322/322 [==============================] - 2s 8ms/step - loss: 4.0965 - accuracy: 0.1809\n",
            "Epoch 8/50\n",
            "322/322 [==============================] - 2s 7ms/step - loss: 3.9003 - accuracy: 0.2035\n",
            "Epoch 9/50\n",
            "322/322 [==============================] - 2s 7ms/step - loss: 3.7231 - accuracy: 0.2402\n",
            "Epoch 10/50\n",
            "322/322 [==============================] - 2s 8ms/step - loss: 3.5386 - accuracy: 0.2688\n",
            "Epoch 11/50\n",
            "322/322 [==============================] - 2s 7ms/step - loss: 3.3592 - accuracy: 0.3063\n",
            "Epoch 12/50\n",
            "322/322 [==============================] - 2s 8ms/step - loss: 3.1815 - accuracy: 0.3422\n",
            "Epoch 13/50\n",
            "322/322 [==============================] - 2s 8ms/step - loss: 3.0163 - accuracy: 0.3780\n",
            "Epoch 14/50\n",
            "322/322 [==============================] - 2s 8ms/step - loss: 2.8450 - accuracy: 0.4149\n",
            "Epoch 15/50\n",
            "322/322 [==============================] - 2s 7ms/step - loss: 2.6851 - accuracy: 0.4491\n",
            "Epoch 16/50\n",
            "322/322 [==============================] - 3s 8ms/step - loss: 2.5440 - accuracy: 0.4898\n",
            "Epoch 17/50\n",
            "322/322 [==============================] - 2s 8ms/step - loss: 2.3987 - accuracy: 0.5194\n",
            "Epoch 18/50\n",
            "322/322 [==============================] - 3s 8ms/step - loss: 2.2700 - accuracy: 0.5498\n",
            "Epoch 19/50\n",
            "322/322 [==============================] - 2s 8ms/step - loss: 2.1485 - accuracy: 0.5817\n",
            "Epoch 20/50\n",
            "322/322 [==============================] - 2s 8ms/step - loss: 2.0299 - accuracy: 0.6133\n",
            "Epoch 21/50\n",
            "322/322 [==============================] - 2s 8ms/step - loss: 1.9248 - accuracy: 0.6387\n",
            "Epoch 22/50\n",
            "322/322 [==============================] - 2s 8ms/step - loss: 1.8240 - accuracy: 0.6650\n",
            "Epoch 23/50\n",
            "322/322 [==============================] - 2s 8ms/step - loss: 1.7316 - accuracy: 0.6871\n",
            "Epoch 24/50\n",
            "322/322 [==============================] - 2s 7ms/step - loss: 1.6464 - accuracy: 0.7059\n",
            "Epoch 25/50\n",
            "322/322 [==============================] - 3s 8ms/step - loss: 1.5729 - accuracy: 0.7250\n",
            "Epoch 26/50\n",
            "322/322 [==============================] - 3s 8ms/step - loss: 1.4992 - accuracy: 0.7470\n",
            "Epoch 27/50\n",
            "322/322 [==============================] - 2s 7ms/step - loss: 1.4268 - accuracy: 0.7629\n",
            "Epoch 28/50\n",
            "322/322 [==============================] - 3s 8ms/step - loss: 1.3582 - accuracy: 0.7783\n",
            "Epoch 29/50\n",
            "322/322 [==============================] - 3s 8ms/step - loss: 1.3000 - accuracy: 0.7899\n",
            "Epoch 30/50\n",
            "322/322 [==============================] - 3s 8ms/step - loss: 1.2451 - accuracy: 0.8006\n",
            "Epoch 31/50\n",
            "322/322 [==============================] - 3s 8ms/step - loss: 1.2025 - accuracy: 0.8137\n",
            "Epoch 32/50\n",
            "322/322 [==============================] - 2s 8ms/step - loss: 1.1481 - accuracy: 0.8228\n",
            "Epoch 33/50\n",
            "322/322 [==============================] - 2s 7ms/step - loss: 1.1029 - accuracy: 0.8337\n",
            "Epoch 34/50\n",
            "322/322 [==============================] - 2s 8ms/step - loss: 1.0589 - accuracy: 0.8434\n",
            "Epoch 35/50\n",
            "322/322 [==============================] - 2s 7ms/step - loss: 1.0201 - accuracy: 0.8527\n",
            "Epoch 36/50\n",
            "322/322 [==============================] - 2s 8ms/step - loss: 0.9861 - accuracy: 0.8554\n",
            "Epoch 37/50\n",
            "322/322 [==============================] - 2s 7ms/step - loss: 0.9420 - accuracy: 0.8680\n",
            "Epoch 38/50\n",
            "322/322 [==============================] - 2s 8ms/step - loss: 0.9168 - accuracy: 0.8728\n",
            "Epoch 39/50\n",
            "322/322 [==============================] - 2s 8ms/step - loss: 0.8821 - accuracy: 0.8846\n",
            "Epoch 40/50\n",
            "322/322 [==============================] - 2s 8ms/step - loss: 0.8470 - accuracy: 0.8876\n",
            "Epoch 41/50\n",
            "322/322 [==============================] - 3s 8ms/step - loss: 0.8260 - accuracy: 0.8903\n",
            "Epoch 42/50\n",
            "322/322 [==============================] - 2s 8ms/step - loss: 0.7970 - accuracy: 0.8968\n",
            "Epoch 43/50\n",
            "322/322 [==============================] - 2s 8ms/step - loss: 0.7804 - accuracy: 0.9011\n",
            "Epoch 44/50\n",
            "322/322 [==============================] - 2s 8ms/step - loss: 0.7481 - accuracy: 0.9096\n",
            "Epoch 45/50\n",
            "322/322 [==============================] - 2s 8ms/step - loss: 0.7369 - accuracy: 0.9090\n",
            "Epoch 46/50\n",
            "322/322 [==============================] - 2s 8ms/step - loss: 0.7075 - accuracy: 0.9167\n",
            "Epoch 47/50\n",
            "322/322 [==============================] - 3s 8ms/step - loss: 0.6910 - accuracy: 0.9190\n",
            "Epoch 48/50\n",
            "322/322 [==============================] - 2s 8ms/step - loss: 0.6855 - accuracy: 0.9184\n",
            "Epoch 49/50\n",
            "322/322 [==============================] - 2s 7ms/step - loss: 0.6559 - accuracy: 0.9259\n",
            "Epoch 50/50\n",
            "322/322 [==============================] - 2s 8ms/step - loss: 0.6360 - accuracy: 0.9277\n"
          ]
        }
      ]
    },
    {
      "cell_type": "code",
      "source": [
        "'''\n",
        "Neutral input seeds:\n",
        "Whenever I think back \n",
        "And so this I know \n",
        "'''\n",
        "\n",
        "seed_text = \"whenever i think back\"\n",
        "next_words = 100\n",
        "\n",
        "def generateLyrics(seed_text, model):\n",
        "  next_words = 100   \n",
        "  for _ in range(next_words):\n",
        "      token_list = tokenizer.texts_to_sequences([seed_text])[0]\n",
        "      token_list = pad_sequences([token_list], maxlen=max_sequence_len-1, padding='pre')\n",
        "      predicted=np.argmax(model.predict(token_list, verbose=0) ,axis=1)\n",
        "\n",
        "      output_word = \"\"\n",
        "      for word, index in tokenizer.word_index.items():\n",
        "          if index == predicted:\n",
        "              output_word = word\n",
        "              # break\n",
        "      seed_text += \" \" + output_word\n",
        "  return seed_text\n",
        "\n",
        "lyrics_list=[]\n",
        "lyrics = generateLyrics(seed_text, model)\n",
        "lyrics_list.append(lyrics)\n",
        "lyrics_list"
      ],
      "metadata": {
        "colab": {
          "base_uri": "https://localhost:8080/"
        },
        "id": "R3K611MbTCLP",
        "outputId": "5aa879a9-55ed-4267-a7e6-150325accb1e"
      },
      "execution_count": 20,
      "outputs": [
        {
          "output_type": "execute_result",
          "data": {
            "text/plain": [
              "['whenever i think back i dare to here where we belong well always be the best more more together singapore singapore we can achieve together singapore we can achieve singapore my best and more together singapore singapore together singapore singapore together singapore singapore we can achieve together singapore we can achieve together singapore we can achieve together singapore we can achieve together singapore we can achieve together singapore we can achieve together singapore we can achieve together singapore we can achieve together singapore we can achieve together singapore we can achieve together singapore we can achieve together singapore we can achieve together singapore we']"
            ]
          },
          "metadata": {},
          "execution_count": 20
        }
      ]
    },
    {
      "cell_type": "code",
      "source": [
        "#Save Results to text file\n",
        "outputdf=pd.DataFrame(lyrics_list)\n",
        "outputdf.to_csv(\"whenever i think back_GRU.txt\", header=False, \n",
        "                index=False, encoding=\"utf-8\")\n",
        "\n",
        "from google.colab import files\n",
        "files.download(\"whenever i think back_GRU.txt\")"
      ],
      "metadata": {
        "colab": {
          "base_uri": "https://localhost:8080/",
          "height": 17
        },
        "id": "jFn_s2RDHJIY",
        "outputId": "b9faf14e-efc9-48b2-f301-c2faa89b6a70"
      },
      "execution_count": 21,
      "outputs": [
        {
          "output_type": "display_data",
          "data": {
            "text/plain": [
              "<IPython.core.display.Javascript object>"
            ],
            "application/javascript": [
              "\n",
              "    async function download(id, filename, size) {\n",
              "      if (!google.colab.kernel.accessAllowed) {\n",
              "        return;\n",
              "      }\n",
              "      const div = document.createElement('div');\n",
              "      const label = document.createElement('label');\n",
              "      label.textContent = `Downloading \"${filename}\": `;\n",
              "      div.appendChild(label);\n",
              "      const progress = document.createElement('progress');\n",
              "      progress.max = size;\n",
              "      div.appendChild(progress);\n",
              "      document.body.appendChild(div);\n",
              "\n",
              "      const buffers = [];\n",
              "      let downloaded = 0;\n",
              "\n",
              "      const channel = await google.colab.kernel.comms.open(id);\n",
              "      // Send a message to notify the kernel that we're ready.\n",
              "      channel.send({})\n",
              "\n",
              "      for await (const message of channel.messages) {\n",
              "        // Send a message to notify the kernel that we're ready.\n",
              "        channel.send({})\n",
              "        if (message.buffers) {\n",
              "          for (const buffer of message.buffers) {\n",
              "            buffers.push(buffer);\n",
              "            downloaded += buffer.byteLength;\n",
              "            progress.value = downloaded;\n",
              "          }\n",
              "        }\n",
              "      }\n",
              "      const blob = new Blob(buffers, {type: 'application/binary'});\n",
              "      const a = document.createElement('a');\n",
              "      a.href = window.URL.createObjectURL(blob);\n",
              "      a.download = filename;\n",
              "      div.appendChild(a);\n",
              "      a.click();\n",
              "      div.remove();\n",
              "    }\n",
              "  "
            ]
          },
          "metadata": {}
        },
        {
          "output_type": "display_data",
          "data": {
            "text/plain": [
              "<IPython.core.display.Javascript object>"
            ],
            "application/javascript": [
              "download(\"download_9149fdfe-c92f-47d3-877f-ca23c7febb6f\", \"whenever i think back_GRU.txt\", 690)"
            ]
          },
          "metadata": {}
        }
      ]
    },
    {
      "cell_type": "code",
      "source": [
        "seed_text = \"and so this I know\"\n",
        "lyrics_list=[]\n",
        "lyrics = generateLyrics(seed_text, model)\n",
        "lyrics_list.append(lyrics)\n",
        "lyrics_list"
      ],
      "metadata": {
        "colab": {
          "base_uri": "https://localhost:8080/"
        },
        "id": "vl2gVfz4C6iJ",
        "outputId": "2c71489e-2749-44c8-ac8a-0ebd48990949"
      },
      "execution_count": 22,
      "outputs": [
        {
          "output_type": "execute_result",
          "data": {
            "text/plain": [
              "['and so this I know we have when we stand side by nothing as this world where i know that love is dont to strive with the generation new world where we could shine and way to make us till its choices to dream through its your way there out else the world where we thought we have become like long never end lets work together everybody lend a hand cause tomorrows here today dream away come changed lived a future so bright that i call home one drop on the ocean a gem upon the sea where the red and white the moon and']"
            ]
          },
          "metadata": {},
          "execution_count": 22
        }
      ]
    },
    {
      "cell_type": "code",
      "source": [
        "#Save Results to text file\n",
        "outputdf=pd.DataFrame(lyrics_list)\n",
        "outputdf.to_csv(\"and so this I know_GRU.txt\", header=False, index=False, encoding=\"utf-8\")\n",
        "files.download(\"and so this I know_GRU.txt\")"
      ],
      "metadata": {
        "colab": {
          "base_uri": "https://localhost:8080/",
          "height": 17
        },
        "id": "DAseHPiSJUkW",
        "outputId": "6be3fec8-4f77-4adf-bf86-699568c00737"
      },
      "execution_count": 23,
      "outputs": [
        {
          "output_type": "display_data",
          "data": {
            "text/plain": [
              "<IPython.core.display.Javascript object>"
            ],
            "application/javascript": [
              "\n",
              "    async function download(id, filename, size) {\n",
              "      if (!google.colab.kernel.accessAllowed) {\n",
              "        return;\n",
              "      }\n",
              "      const div = document.createElement('div');\n",
              "      const label = document.createElement('label');\n",
              "      label.textContent = `Downloading \"${filename}\": `;\n",
              "      div.appendChild(label);\n",
              "      const progress = document.createElement('progress');\n",
              "      progress.max = size;\n",
              "      div.appendChild(progress);\n",
              "      document.body.appendChild(div);\n",
              "\n",
              "      const buffers = [];\n",
              "      let downloaded = 0;\n",
              "\n",
              "      const channel = await google.colab.kernel.comms.open(id);\n",
              "      // Send a message to notify the kernel that we're ready.\n",
              "      channel.send({})\n",
              "\n",
              "      for await (const message of channel.messages) {\n",
              "        // Send a message to notify the kernel that we're ready.\n",
              "        channel.send({})\n",
              "        if (message.buffers) {\n",
              "          for (const buffer of message.buffers) {\n",
              "            buffers.push(buffer);\n",
              "            downloaded += buffer.byteLength;\n",
              "            progress.value = downloaded;\n",
              "          }\n",
              "        }\n",
              "      }\n",
              "      const blob = new Blob(buffers, {type: 'application/binary'});\n",
              "      const a = document.createElement('a');\n",
              "      a.href = window.URL.createObjectURL(blob);\n",
              "      a.download = filename;\n",
              "      div.appendChild(a);\n",
              "      a.click();\n",
              "      div.remove();\n",
              "    }\n",
              "  "
            ]
          },
          "metadata": {}
        },
        {
          "output_type": "display_data",
          "data": {
            "text/plain": [
              "<IPython.core.display.Javascript object>"
            ],
            "application/javascript": [
              "download(\"download_b3fc59e8-497b-4d6a-9051-ccd63110f6c4\", \"and so this I know_GRU.txt\", 518)"
            ]
          },
          "metadata": {}
        }
      ]
    },
    {
      "cell_type": "code",
      "source": [
        "'''\n",
        "Negative input seeds:\n",
        "I am tired of being what you want me to be \n",
        "Feeling so faithless, lost under the surface \n",
        "'''\n",
        "\n",
        "seed_text = \"i am tired of being what you want me to be\"\n",
        "lyrics_list=[]\n",
        "lyrics = generateLyrics(seed_text, model)\n",
        "lyrics_list.append(lyrics)\n",
        "lyrics_list"
      ],
      "metadata": {
        "colab": {
          "base_uri": "https://localhost:8080/"
        },
        "id": "kze_WrQpE4X1",
        "outputId": "732d5c65-0cca-40a8-8d14-078de26dd450"
      },
      "execution_count": 24,
      "outputs": [
        {
          "output_type": "execute_result",
          "data": {
            "text/plain": [
              "['i am tired of being what you want me to be up ive roamed the world its still my home i love my friends i are my friends we are my people my friends we are singapore singaporeans we are singapore we are singapore we will stand together hear the lion roar we are singapore we are singapore were a nation strong and free forevermore this is my country this is my future this is my life this is my family these are my friends we are singapore singaporeans we are singapore we are singapore we will stand together hear the lion roar we are singapore we are singapore were a']"
            ]
          },
          "metadata": {},
          "execution_count": 24
        }
      ]
    },
    {
      "cell_type": "code",
      "source": [
        "#Save Results to text file\n",
        "outputdf=pd.DataFrame(lyrics_list)\n",
        "outputdf.to_csv(\"i am tired of being what you want me to be_GRU.txt\", header=False, index=False, encoding=\"utf-8\")\n",
        "files.download(\"i am tired of being what you want me to be_GRU.txt\")"
      ],
      "metadata": {
        "colab": {
          "base_uri": "https://localhost:8080/",
          "height": 17
        },
        "id": "oo8jPZNeRRym",
        "outputId": "0cc8b752-393f-4c7c-890a-5d20340e7fb5"
      },
      "execution_count": 25,
      "outputs": [
        {
          "output_type": "display_data",
          "data": {
            "text/plain": [
              "<IPython.core.display.Javascript object>"
            ],
            "application/javascript": [
              "\n",
              "    async function download(id, filename, size) {\n",
              "      if (!google.colab.kernel.accessAllowed) {\n",
              "        return;\n",
              "      }\n",
              "      const div = document.createElement('div');\n",
              "      const label = document.createElement('label');\n",
              "      label.textContent = `Downloading \"${filename}\": `;\n",
              "      div.appendChild(label);\n",
              "      const progress = document.createElement('progress');\n",
              "      progress.max = size;\n",
              "      div.appendChild(progress);\n",
              "      document.body.appendChild(div);\n",
              "\n",
              "      const buffers = [];\n",
              "      let downloaded = 0;\n",
              "\n",
              "      const channel = await google.colab.kernel.comms.open(id);\n",
              "      // Send a message to notify the kernel that we're ready.\n",
              "      channel.send({})\n",
              "\n",
              "      for await (const message of channel.messages) {\n",
              "        // Send a message to notify the kernel that we're ready.\n",
              "        channel.send({})\n",
              "        if (message.buffers) {\n",
              "          for (const buffer of message.buffers) {\n",
              "            buffers.push(buffer);\n",
              "            downloaded += buffer.byteLength;\n",
              "            progress.value = downloaded;\n",
              "          }\n",
              "        }\n",
              "      }\n",
              "      const blob = new Blob(buffers, {type: 'application/binary'});\n",
              "      const a = document.createElement('a');\n",
              "      a.href = window.URL.createObjectURL(blob);\n",
              "      a.download = filename;\n",
              "      div.appendChild(a);\n",
              "      a.click();\n",
              "      div.remove();\n",
              "    }\n",
              "  "
            ]
          },
          "metadata": {}
        },
        {
          "output_type": "display_data",
          "data": {
            "text/plain": [
              "<IPython.core.display.Javascript object>"
            ],
            "application/javascript": [
              "download(\"download_94e11a14-4816-46f5-b44f-25372427fff2\", \"i am tired of being what you want me to be_GRU.txt\", 569)"
            ]
          },
          "metadata": {}
        }
      ]
    },
    {
      "cell_type": "code",
      "source": [
        "seed_text = \"feeling so faithless lost under the surface\"\n",
        "lyrics_list=[]\n",
        "lyrics = generateLyrics(seed_text, model)\n",
        "lyrics_list.append(lyrics)\n",
        "lyrics_list"
      ],
      "metadata": {
        "colab": {
          "base_uri": "https://localhost:8080/"
        },
        "id": "WeMZLO0PFJ6z",
        "outputId": "03265a5b-d738-4d95-cb3a-4d49ce00c6bf"
      },
      "execution_count": 26,
      "outputs": [
        {
          "output_type": "execute_result",
          "data": {
            "text/plain": [
              "['feeling so faithless lost under the surface whole world will all come on us and i remember what we should be happy cos the best is a million with the dawn drawn everyone by far and proud come for us to be possible to overcome anything theres so much to live in starting a song take flight to will always be the city of the destiny i have a have sown the seeds of hearts and wide youll always be the moment to see this is where we are one big family i want the whole world to know i want to shout it out loud that']"
            ]
          },
          "metadata": {},
          "execution_count": 26
        }
      ]
    },
    {
      "cell_type": "code",
      "source": [
        "#Save Results to text file\n",
        "outputdf=pd.DataFrame(lyrics_list)\n",
        "outputdf.to_csv(\"feeling so faithless lost under the surface_GRU.txt\", header=False, index=False, encoding=\"utf-8\")\n",
        "files.download(\"feeling so faithless lost under the surface_GRU.txt\")"
      ],
      "metadata": {
        "colab": {
          "base_uri": "https://localhost:8080/",
          "height": 17
        },
        "id": "gyTeFltaRhTf",
        "outputId": "00edde1f-54c6-4315-a29c-10bf1a62559a"
      },
      "execution_count": 27,
      "outputs": [
        {
          "output_type": "display_data",
          "data": {
            "text/plain": [
              "<IPython.core.display.Javascript object>"
            ],
            "application/javascript": [
              "\n",
              "    async function download(id, filename, size) {\n",
              "      if (!google.colab.kernel.accessAllowed) {\n",
              "        return;\n",
              "      }\n",
              "      const div = document.createElement('div');\n",
              "      const label = document.createElement('label');\n",
              "      label.textContent = `Downloading \"${filename}\": `;\n",
              "      div.appendChild(label);\n",
              "      const progress = document.createElement('progress');\n",
              "      progress.max = size;\n",
              "      div.appendChild(progress);\n",
              "      document.body.appendChild(div);\n",
              "\n",
              "      const buffers = [];\n",
              "      let downloaded = 0;\n",
              "\n",
              "      const channel = await google.colab.kernel.comms.open(id);\n",
              "      // Send a message to notify the kernel that we're ready.\n",
              "      channel.send({})\n",
              "\n",
              "      for await (const message of channel.messages) {\n",
              "        // Send a message to notify the kernel that we're ready.\n",
              "        channel.send({})\n",
              "        if (message.buffers) {\n",
              "          for (const buffer of message.buffers) {\n",
              "            buffers.push(buffer);\n",
              "            downloaded += buffer.byteLength;\n",
              "            progress.value = downloaded;\n",
              "          }\n",
              "        }\n",
              "      }\n",
              "      const blob = new Blob(buffers, {type: 'application/binary'});\n",
              "      const a = document.createElement('a');\n",
              "      a.href = window.URL.createObjectURL(blob);\n",
              "      a.download = filename;\n",
              "      div.appendChild(a);\n",
              "      a.click();\n",
              "      div.remove();\n",
              "    }\n",
              "  "
            ]
          },
          "metadata": {}
        },
        {
          "output_type": "display_data",
          "data": {
            "text/plain": [
              "<IPython.core.display.Javascript object>"
            ],
            "application/javascript": [
              "download(\"download_411d0ed3-0d0b-4fd9-aadf-7f4f5587150b\", \"feeling so faithless lost under the surface_GRU.txt\", 513)"
            ]
          },
          "metadata": {}
        }
      ]
    },
    {
      "cell_type": "code",
      "source": [
        "'''\n",
        "Positive input seeds:\n",
        "Relight our fire, we will find our way \n",
        "We will rise stronger together  \n",
        "'''\n",
        "seed_text = \"relight our fire we will find our way\"\n",
        "lyrics_list=[]\n",
        "lyrics = generateLyrics(seed_text, model)\n",
        "lyrics_list.append(lyrics)\n",
        "lyrics_list"
      ],
      "metadata": {
        "colab": {
          "base_uri": "https://localhost:8080/"
        },
        "id": "hBrLAZhnFZUY",
        "outputId": "4803ed1d-0a34-4636-c5d6-1600383c33f1"
      },
      "execution_count": 28,
      "outputs": [
        {
          "output_type": "execute_result",
          "data": {
            "text/plain": [
              "['relight our fire we will find our way because if you all grow i care be family i want you breathe i see you smile you have made our lives worthwhile its your warmth your beautiful touch it makes me remember so much of the pleasure i have grown ever memories and been days will you think of who you can help them all that we should be happy because and magic we will start again anew help well make the fire in our hearts touch and heart and feel the spirit make the air stand and bursts to life with you and me that we have you']"
            ]
          },
          "metadata": {},
          "execution_count": 28
        }
      ]
    },
    {
      "cell_type": "code",
      "source": [
        "#Save Results to text file\n",
        "outputdf=pd.DataFrame(lyrics_list)\n",
        "outputdf.to_csv(\"relight our fire we will find our way_GRU.txt\", header=False, index=False, encoding=\"utf-8\")\n",
        "files.download(\"relight our fire we will find our way_GRU.txt\")"
      ],
      "metadata": {
        "colab": {
          "base_uri": "https://localhost:8080/",
          "height": 17
        },
        "id": "DDo8VK7LRvvP",
        "outputId": "84c3cfc4-71f2-4050-ec13-e158252ea8fe"
      },
      "execution_count": 29,
      "outputs": [
        {
          "output_type": "display_data",
          "data": {
            "text/plain": [
              "<IPython.core.display.Javascript object>"
            ],
            "application/javascript": [
              "\n",
              "    async function download(id, filename, size) {\n",
              "      if (!google.colab.kernel.accessAllowed) {\n",
              "        return;\n",
              "      }\n",
              "      const div = document.createElement('div');\n",
              "      const label = document.createElement('label');\n",
              "      label.textContent = `Downloading \"${filename}\": `;\n",
              "      div.appendChild(label);\n",
              "      const progress = document.createElement('progress');\n",
              "      progress.max = size;\n",
              "      div.appendChild(progress);\n",
              "      document.body.appendChild(div);\n",
              "\n",
              "      const buffers = [];\n",
              "      let downloaded = 0;\n",
              "\n",
              "      const channel = await google.colab.kernel.comms.open(id);\n",
              "      // Send a message to notify the kernel that we're ready.\n",
              "      channel.send({})\n",
              "\n",
              "      for await (const message of channel.messages) {\n",
              "        // Send a message to notify the kernel that we're ready.\n",
              "        channel.send({})\n",
              "        if (message.buffers) {\n",
              "          for (const buffer of message.buffers) {\n",
              "            buffers.push(buffer);\n",
              "            downloaded += buffer.byteLength;\n",
              "            progress.value = downloaded;\n",
              "          }\n",
              "        }\n",
              "      }\n",
              "      const blob = new Blob(buffers, {type: 'application/binary'});\n",
              "      const a = document.createElement('a');\n",
              "      a.href = window.URL.createObjectURL(blob);\n",
              "      a.download = filename;\n",
              "      div.appendChild(a);\n",
              "      a.click();\n",
              "      div.remove();\n",
              "    }\n",
              "  "
            ]
          },
          "metadata": {}
        },
        {
          "output_type": "display_data",
          "data": {
            "text/plain": [
              "<IPython.core.display.Javascript object>"
            ],
            "application/javascript": [
              "download(\"download_6d65d816-57fc-41ea-b761-c87ca7674c30\", \"relight our fire we will find our way_GRU.txt\", 528)"
            ]
          },
          "metadata": {}
        }
      ]
    },
    {
      "cell_type": "code",
      "source": [
        "seed_text = \"we will rise stronger together\"\n",
        "lyrics_list=[]\n",
        "lyrics = generateLyrics(seed_text, model)\n",
        "lyrics_list.append(lyrics)\n",
        "lyrics_list"
      ],
      "metadata": {
        "colab": {
          "base_uri": "https://localhost:8080/"
        },
        "id": "9P13ZjZAGq57",
        "outputId": "f3015082-faf1-4fb4-c582-b86770d93854"
      },
      "execution_count": 30,
      "outputs": [
        {
          "output_type": "execute_result",
          "data": {
            "text/plain": [
              "['we will rise stronger together by hand in hand for joy and harmony we will strive each day be the best that we can be growing stronger every day well make it you and me well work together hand in hand in joy and harmony we will strive each day be the best that we can be growing stronger every day well make it you and me well work together hand in hand in joy and harmony we will strive each day be the best that we can be growing stronger every day well make it you and me well work together hand in hand']"
            ]
          },
          "metadata": {},
          "execution_count": 30
        }
      ]
    },
    {
      "cell_type": "code",
      "source": [
        "#Save Results to text file\n",
        "outputdf=pd.DataFrame(lyrics_list)\n",
        "outputdf.to_csv(\"we will rise stronger together_GRU.txt\", header=False, index=False, encoding=\"utf-8\")\n",
        "files.download(\"we will rise stronger together_GRU.txt\")"
      ],
      "metadata": {
        "colab": {
          "base_uri": "https://localhost:8080/",
          "height": 17
        },
        "id": "grUvJ3CUR7iq",
        "outputId": "978234c6-01af-4285-817b-5be44d7c469c"
      },
      "execution_count": 31,
      "outputs": [
        {
          "output_type": "display_data",
          "data": {
            "text/plain": [
              "<IPython.core.display.Javascript object>"
            ],
            "application/javascript": [
              "\n",
              "    async function download(id, filename, size) {\n",
              "      if (!google.colab.kernel.accessAllowed) {\n",
              "        return;\n",
              "      }\n",
              "      const div = document.createElement('div');\n",
              "      const label = document.createElement('label');\n",
              "      label.textContent = `Downloading \"${filename}\": `;\n",
              "      div.appendChild(label);\n",
              "      const progress = document.createElement('progress');\n",
              "      progress.max = size;\n",
              "      div.appendChild(progress);\n",
              "      document.body.appendChild(div);\n",
              "\n",
              "      const buffers = [];\n",
              "      let downloaded = 0;\n",
              "\n",
              "      const channel = await google.colab.kernel.comms.open(id);\n",
              "      // Send a message to notify the kernel that we're ready.\n",
              "      channel.send({})\n",
              "\n",
              "      for await (const message of channel.messages) {\n",
              "        // Send a message to notify the kernel that we're ready.\n",
              "        channel.send({})\n",
              "        if (message.buffers) {\n",
              "          for (const buffer of message.buffers) {\n",
              "            buffers.push(buffer);\n",
              "            downloaded += buffer.byteLength;\n",
              "            progress.value = downloaded;\n",
              "          }\n",
              "        }\n",
              "      }\n",
              "      const blob = new Blob(buffers, {type: 'application/binary'});\n",
              "      const a = document.createElement('a');\n",
              "      a.href = window.URL.createObjectURL(blob);\n",
              "      a.download = filename;\n",
              "      div.appendChild(a);\n",
              "      a.click();\n",
              "      div.remove();\n",
              "    }\n",
              "  "
            ]
          },
          "metadata": {}
        },
        {
          "output_type": "display_data",
          "data": {
            "text/plain": [
              "<IPython.core.display.Javascript object>"
            ],
            "application/javascript": [
              "download(\"download_0b33bc88-522f-413e-98ed-a49d128a142e\", \"we will rise stronger together_GRU.txt\", 507)"
            ]
          },
          "metadata": {}
        }
      ]
    }
  ]
}
