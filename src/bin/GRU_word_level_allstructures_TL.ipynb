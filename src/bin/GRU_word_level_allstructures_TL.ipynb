{
  "cells": [
    {
      "cell_type": "markdown",
      "metadata": {
        "id": "view-in-github",
        "colab_type": "text"
      },
      "source": [
        "<a href=\"https://colab.research.google.com/github/quekhyg/NLP-Lyric-Generator/blob/main/GRU_word_level_allstructures_TL.ipynb\" target=\"_parent\"><img src=\"https://colab.research.google.com/assets/colab-badge.svg\" alt=\"Open In Colab\"/></a>"
      ]
    },
    {
      "cell_type": "markdown",
      "id": "9a1d448c",
      "metadata": {
        "id": "9a1d448c",
        "papermill": {
          "duration": 0.03882,
          "end_time": "2022-05-26T11:02:34.706822",
          "exception": false,
          "start_time": "2022-05-26T11:02:34.668002",
          "status": "completed"
        },
        "tags": []
      },
      "source": [
        "# NDP Song Lyric Generation (using RNN LSTM)"
      ]
    },
    {
      "cell_type": "markdown",
      "id": "ba55e8e1",
      "metadata": {
        "id": "ba55e8e1",
        "papermill": {
          "duration": 0.037205,
          "end_time": "2022-05-26T11:02:34.785392",
          "exception": false,
          "start_time": "2022-05-26T11:02:34.748187",
          "status": "completed"
        },
        "tags": []
      },
      "source": [
        "_Inspired by [Text generation with an RNN](https://www.tensorflow.org/tutorials/text/text_generation)_"
      ]
    },
    {
      "cell_type": "code",
      "source": [
        "!git clone https://<username>:<token>y@github.com/quekhyg/NLP-Lyric-Generator.git"
      ],
      "metadata": {
        "colab": {
          "base_uri": "https://localhost:8080/"
        },
        "id": "9RcljnPEZQlt",
        "outputId": "82642eca-a80b-4506-8f4d-b74d65836980"
      },
      "execution_count": 1,
      "outputs": [
        {
          "output_type": "stream",
          "name": "stdout",
          "text": [
            "Cloning into 'NLP-Lyric-Generator'...\n",
            "remote: Enumerating objects: 554, done.\u001b[K\n",
            "remote: Counting objects: 100% (16/16), done.\u001b[K\n",
            "remote: Compressing objects: 100% (12/12), done.\u001b[K\n",
            "remote: Total 554 (delta 4), reused 14 (delta 4), pack-reused 538\u001b[K\n",
            "Receiving objects: 100% (554/554), 976.95 MiB | 29.88 MiB/s, done.\n",
            "Resolving deltas: 100% (180/180), done.\n"
          ]
        }
      ],
      "id": "9RcljnPEZQlt"
    },
    {
      "cell_type": "code",
      "source": [
        "%cd /content/NLP-Lyric-Generator"
      ],
      "metadata": {
        "colab": {
          "base_uri": "https://localhost:8080/"
        },
        "id": "Nos-oAoWZQgQ",
        "outputId": "483bdcf2-793b-413a-babc-fe304a7402fc"
      },
      "execution_count": 2,
      "outputs": [
        {
          "output_type": "stream",
          "name": "stdout",
          "text": [
            "/content/NLP-Lyric-Generator\n"
          ]
        }
      ],
      "id": "Nos-oAoWZQgQ"
    },
    {
      "cell_type": "code",
      "source": [
        "!pip install rouge"
      ],
      "metadata": {
        "colab": {
          "base_uri": "https://localhost:8080/"
        },
        "id": "WY3Au4SyZaQ2",
        "outputId": "4c8bdca9-8012-4afc-ecfa-a5615fbdabda"
      },
      "execution_count": 3,
      "outputs": [
        {
          "output_type": "stream",
          "name": "stdout",
          "text": [
            "Looking in indexes: https://pypi.org/simple, https://us-python.pkg.dev/colab-wheels/public/simple/\n",
            "Collecting rouge\n",
            "  Downloading rouge-1.0.1-py3-none-any.whl (13 kB)\n",
            "Requirement already satisfied: six in /usr/local/lib/python3.7/dist-packages (from rouge) (1.15.0)\n",
            "Installing collected packages: rouge\n",
            "Successfully installed rouge-1.0.1\n"
          ]
        }
      ],
      "id": "WY3Au4SyZaQ2"
    },
    {
      "cell_type": "code",
      "source": [
        "!pip install spacy"
      ],
      "metadata": {
        "colab": {
          "base_uri": "https://localhost:8080/"
        },
        "id": "MiDWPkw1Zegr",
        "outputId": "a8a655ed-bd8c-4515-8a1a-4a724a738dd5"
      },
      "execution_count": 4,
      "outputs": [
        {
          "output_type": "stream",
          "name": "stdout",
          "text": [
            "Looking in indexes: https://pypi.org/simple, https://us-python.pkg.dev/colab-wheels/public/simple/\n",
            "Requirement already satisfied: spacy in /usr/local/lib/python3.7/dist-packages (2.2.4)\n",
            "Requirement already satisfied: setuptools in /usr/local/lib/python3.7/dist-packages (from spacy) (57.4.0)\n",
            "Requirement already satisfied: murmurhash<1.1.0,>=0.28.0 in /usr/local/lib/python3.7/dist-packages (from spacy) (1.0.7)\n",
            "Requirement already satisfied: catalogue<1.1.0,>=0.0.7 in /usr/local/lib/python3.7/dist-packages (from spacy) (1.0.0)\n",
            "Requirement already satisfied: thinc==7.4.0 in /usr/local/lib/python3.7/dist-packages (from spacy) (7.4.0)\n",
            "Requirement already satisfied: wasabi<1.1.0,>=0.4.0 in /usr/local/lib/python3.7/dist-packages (from spacy) (0.9.1)\n",
            "Requirement already satisfied: blis<0.5.0,>=0.4.0 in /usr/local/lib/python3.7/dist-packages (from spacy) (0.4.1)\n",
            "Requirement already satisfied: srsly<1.1.0,>=1.0.2 in /usr/local/lib/python3.7/dist-packages (from spacy) (1.0.5)\n",
            "Requirement already satisfied: preshed<3.1.0,>=3.0.2 in /usr/local/lib/python3.7/dist-packages (from spacy) (3.0.6)\n",
            "Requirement already satisfied: cymem<2.1.0,>=2.0.2 in /usr/local/lib/python3.7/dist-packages (from spacy) (2.0.6)\n",
            "Requirement already satisfied: requests<3.0.0,>=2.13.0 in /usr/local/lib/python3.7/dist-packages (from spacy) (2.23.0)\n",
            "Requirement already satisfied: numpy>=1.15.0 in /usr/local/lib/python3.7/dist-packages (from spacy) (1.21.6)\n",
            "Requirement already satisfied: tqdm<5.0.0,>=4.38.0 in /usr/local/lib/python3.7/dist-packages (from spacy) (4.64.0)\n",
            "Requirement already satisfied: plac<1.2.0,>=0.9.6 in /usr/local/lib/python3.7/dist-packages (from spacy) (1.1.3)\n",
            "Requirement already satisfied: importlib-metadata>=0.20 in /usr/local/lib/python3.7/dist-packages (from catalogue<1.1.0,>=0.0.7->spacy) (4.11.4)\n",
            "Requirement already satisfied: zipp>=0.5 in /usr/local/lib/python3.7/dist-packages (from importlib-metadata>=0.20->catalogue<1.1.0,>=0.0.7->spacy) (3.8.0)\n",
            "Requirement already satisfied: typing-extensions>=3.6.4 in /usr/local/lib/python3.7/dist-packages (from importlib-metadata>=0.20->catalogue<1.1.0,>=0.0.7->spacy) (4.2.0)\n",
            "Requirement already satisfied: certifi>=2017.4.17 in /usr/local/lib/python3.7/dist-packages (from requests<3.0.0,>=2.13.0->spacy) (2022.5.18.1)\n",
            "Requirement already satisfied: chardet<4,>=3.0.2 in /usr/local/lib/python3.7/dist-packages (from requests<3.0.0,>=2.13.0->spacy) (3.0.4)\n",
            "Requirement already satisfied: urllib3!=1.25.0,!=1.25.1,<1.26,>=1.21.1 in /usr/local/lib/python3.7/dist-packages (from requests<3.0.0,>=2.13.0->spacy) (1.24.3)\n",
            "Requirement already satisfied: idna<3,>=2.5 in /usr/local/lib/python3.7/dist-packages (from requests<3.0.0,>=2.13.0->spacy) (2.10)\n"
          ]
        }
      ],
      "id": "MiDWPkw1Zegr"
    },
    {
      "cell_type": "markdown",
      "metadata": {
        "papermill": {
          "duration": 0.0385,
          "end_time": "2022-05-26T11:02:34.861223",
          "exception": false,
          "start_time": "2022-05-26T11:02:34.822723",
          "status": "completed"
        },
        "tags": [],
        "id": "um68IzmJewqD"
      },
      "source": [
        "## Import dependencies"
      ],
      "id": "um68IzmJewqD"
    },
    {
      "cell_type": "code",
      "execution_count": 5,
      "metadata": {
        "colab": {
          "base_uri": "https://localhost:8080/"
        },
        "execution": {
          "iopub.execute_input": "2022-05-26T11:02:34.939193Z",
          "iopub.status.busy": "2022-05-26T11:02:34.938766Z",
          "iopub.status.idle": "2022-05-26T11:02:41.630933Z",
          "shell.execute_reply": "2022-05-26T11:02:41.629397Z"
        },
        "outputId": "80521fe7-df65-4336-8f7b-9384b031b529",
        "papermill": {
          "duration": 6.733755,
          "end_time": "2022-05-26T11:02:41.632807",
          "exception": false,
          "start_time": "2022-05-26T11:02:34.899052",
          "status": "completed"
        },
        "tags": [],
        "id": "b-mW5N4yewqD"
      },
      "outputs": [
        {
          "output_type": "stream",
          "name": "stdout",
          "text": [
            "[nltk_data] Downloading package stopwords to /root/nltk_data...\n",
            "[nltk_data]   Unzipping corpora/stopwords.zip.\n",
            "[nltk_data] Downloading package vader_lexicon to /root/nltk_data...\n",
            "Python version: 3.7.13\n",
            "Tensorflow version: 2.8.2\n",
            "Keras version: 2.8.0\n"
          ]
        },
        {
          "output_type": "stream",
          "name": "stderr",
          "text": [
            "/usr/local/lib/python3.7/dist-packages/nltk/twitter/__init__.py:20: UserWarning: The twython library has not been installed. Some functionality from the twitter package will not be available.\n",
            "  warnings.warn(\"The twython library has not been installed. \"\n"
          ]
        }
      ],
      "source": [
        "import tensorflow as tf\n",
        "import matplotlib.pyplot as plt\n",
        "import numpy as np\n",
        "import platform\n",
        "import time\n",
        "import pathlib\n",
        "import os\n",
        "import re\n",
        "import sys\n",
        "\n",
        "import nltk\n",
        "from nltk.tokenize import word_tokenize\n",
        "nltk.download(\"stopwords\")\n",
        "from nltk.corpus import stopwords\n",
        "from wordcloud import WordCloud\n",
        "from PIL import Image\n",
        "from sklearn.model_selection import train_test_split\n",
        "from gensim import downloader\n",
        "\n",
        "#GitHub packages\n",
        "import src.lib.utilities as utils\n",
        "from src.lib.sentiment import Sentiment\n",
        "from src.lib.bleu_rouge import bleu_rouge\n",
        "\n",
        "print('Python version:', platform.python_version())\n",
        "print('Tensorflow version:', tf.__version__)\n",
        "print('Keras version:', tf.keras.__version__)"
      ],
      "id": "b-mW5N4yewqD"
    },
    {
      "cell_type": "code",
      "source": [
        "tf.random.set_seed(2022)\n",
        "\n",
        "import json\n",
        "with open('./output/prompt_ref.json') as f:\n",
        "    prompt_ref = json.load(f)"
      ],
      "metadata": {
        "id": "l_gLCFCCbY3g"
      },
      "execution_count": 6,
      "outputs": [],
      "id": "l_gLCFCCbY3g"
    },
    {
      "cell_type": "markdown",
      "metadata": {
        "papermill": {
          "duration": 0.037845,
          "end_time": "2022-05-26T11:02:41.709113",
          "exception": false,
          "start_time": "2022-05-26T11:02:41.671268",
          "status": "completed"
        },
        "tags": [],
        "id": "jV86kcLwewqE"
      },
      "source": [
        "## Get data"
      ],
      "id": "jV86kcLwewqE"
    },
    {
      "cell_type": "code",
      "execution_count": 7,
      "metadata": {
        "execution": {
          "iopub.execute_input": "2022-05-26T11:02:41.785595Z",
          "iopub.status.busy": "2022-05-26T11:02:41.785103Z",
          "iopub.status.idle": "2022-05-26T11:02:41.788814Z",
          "shell.execute_reply": "2022-05-26T11:02:41.788062Z"
        },
        "papermill": {
          "duration": 0.043688,
          "end_time": "2022-05-26T11:02:41.790387",
          "exception": false,
          "start_time": "2022-05-26T11:02:41.746699",
          "status": "completed"
        },
        "tags": [],
        "id": "-6fiOHa3ewqE"
      },
      "outputs": [],
      "source": [
        "PATH = './data/'"
      ],
      "id": "-6fiOHa3ewqE"
    },
    {
      "cell_type": "code",
      "execution_count": 8,
      "metadata": {
        "id": "WtF4HLz7ewqF"
      },
      "outputs": [],
      "source": [
        "#Utils has instantiated the seed to be 2022 by default\n",
        "train_corpus, val_corpus, train_files, val_files = utils.split_corpus(path = PATH, end_song_token = '\\n\\n\\n')"
      ],
      "id": "WtF4HLz7ewqF"
    },
    {
      "cell_type": "code",
      "execution_count": 9,
      "metadata": {
        "colab": {
          "base_uri": "https://localhost:8080/"
        },
        "outputId": "5b51f2ec-ece4-46f7-851f-aa915018b647",
        "id": "ZZ7gzi8qkW3A"
      },
      "outputs": [
        {
          "output_type": "execute_result",
          "data": {
            "text/plain": [
              "['I Love Singapore.txt',\n",
              " 'Lifestory.txt',\n",
              " 'Love at First Light.txt',\n",
              " 'My People My Home.txt',\n",
              " 'My Singapore Story.txt',\n",
              " 'One United People.txt',\n",
              " 'Voices From The Heart.txt',\n",
              " 'We Are The Ones.txt',\n",
              " 'We Will Get There.txt',\n",
              " 'We are Singapore.txt']"
            ]
          },
          "metadata": {},
          "execution_count": 9
        }
      ],
      "source": [
        "sorted(val_files)"
      ],
      "id": "ZZ7gzi8qkW3A"
    },
    {
      "cell_type": "markdown",
      "id": "61d6d5db",
      "metadata": {
        "id": "61d6d5db",
        "papermill": {
          "duration": 0.038277,
          "end_time": "2022-05-26T11:02:42.173438",
          "exception": false,
          "start_time": "2022-05-26T11:02:42.135161",
          "status": "completed"
        },
        "tags": []
      },
      "source": [
        "## Analyze the dataset"
      ]
    },
    {
      "cell_type": "code",
      "execution_count": 10,
      "id": "9de20f34",
      "metadata": {
        "colab": {
          "base_uri": "https://localhost:8080/"
        },
        "execution": {
          "iopub.execute_input": "2022-05-26T11:02:42.339674Z",
          "iopub.status.busy": "2022-05-26T11:02:42.339130Z",
          "iopub.status.idle": "2022-05-26T11:02:42.344315Z",
          "shell.execute_reply": "2022-05-26T11:02:42.343109Z"
        },
        "id": "9de20f34",
        "outputId": "73b24c46-c868-475c-f8c7-167b7288d6cd",
        "papermill": {
          "duration": 0.046119,
          "end_time": "2022-05-26T11:02:42.346560",
          "exception": false,
          "start_time": "2022-05-26T11:02:42.300441",
          "status": "completed"
        },
        "tags": []
      },
      "outputs": [
        {
          "output_type": "stream",
          "name": "stdout",
          "text": [
            "Length of Corpus: 45090 characters\n"
          ]
        }
      ],
      "source": [
        "print('Length of Corpus: {} characters'.format(len(train_corpus)))"
      ]
    },
    {
      "cell_type": "code",
      "execution_count": 11,
      "id": "6cf430e0",
      "metadata": {
        "colab": {
          "base_uri": "https://localhost:8080/"
        },
        "execution": {
          "iopub.execute_input": "2022-05-26T11:02:42.425021Z",
          "iopub.status.busy": "2022-05-26T11:02:42.424517Z",
          "iopub.status.idle": "2022-05-26T11:02:42.428272Z",
          "shell.execute_reply": "2022-05-26T11:02:42.427588Z"
        },
        "id": "6cf430e0",
        "outputId": "195340b4-775c-4309-816c-0d343fc3b8bc",
        "papermill": {
          "duration": 0.045326,
          "end_time": "2022-05-26T11:02:42.430962",
          "exception": false,
          "start_time": "2022-05-26T11:02:42.385636",
          "status": "completed"
        },
        "tags": []
      },
      "outputs": [
        {
          "output_type": "stream",
          "name": "stdout",
          "text": [
            "<VERSE>\n",
            "Raise your head to the skies\n",
            "This is how we all begin\n",
            "See the fire in your eyes\n",
            "Feel the yearning deep within\n",
            "Take a leap and you will fly\n",
            "With all the wishes that you own\n",
            "Make your dreams light up the sky\n",
            "Home is where you are not alone\n",
            "\n",
            "<PRECHORUS>\n",
            "And our hearts will beat together\n",
            "Echoing what dreams may come\n",
            "Walking tall in any weather\n",
            "Time has come bang the drum\n",
            "Cause tomorrow's here today\n",
            "\n",
            "<CHORUS>\n",
            "Dream away\n",
            "Take the world by the hand\n",
            "Cause tomorrow's here today\n",
            "Dream away\n",
            "Come le\n"
          ]
        }
      ],
      "source": [
        "# Take a look at the first 1000 characters in text.\n",
        "print(train_corpus[:500])"
      ]
    },
    {
      "cell_type": "code",
      "execution_count": 12,
      "id": "28c7d4ae",
      "metadata": {
        "colab": {
          "base_uri": "https://localhost:8080/"
        },
        "execution": {
          "iopub.execute_input": "2022-05-26T11:02:42.512094Z",
          "iopub.status.busy": "2022-05-26T11:02:42.511558Z",
          "iopub.status.idle": "2022-05-26T11:02:42.542215Z",
          "shell.execute_reply": "2022-05-26T11:02:42.540960Z"
        },
        "id": "28c7d4ae",
        "outputId": "9b4a110e-5e6f-4193-de8c-7a6dba9bf4e4",
        "papermill": {
          "duration": 0.071975,
          "end_time": "2022-05-26T11:02:42.544335",
          "exception": false,
          "start_time": "2022-05-26T11:02:42.472360",
          "status": "completed"
        },
        "tags": []
      },
      "outputs": [
        {
          "output_type": "stream",
          "name": "stdout",
          "text": [
            "Length of Train Corpus: 10735 words\n",
            "Vocab Size: 921\n",
            "Vocab Examples: ['<VERSE>', '\\n', 'raise', 'your', 'head', 'to', 'the', 'skies', '\\n', 'this', 'is', 'how', 'we', 'all', 'begin', '\\n', 'see', 'the', 'fire', 'in']\n",
            "\n",
            "Length of Validation Corpus: 2797 words\n",
            "Vocab Size: 441\n",
            "Vocab Examples: ['<VERSE>', '\\n', 'one', 'singapore', '\\n', 'one', 'people', 'strong', 'and', 'free', '\\n', 'with', 'one', 'heart', 'one', 'voice', '\\n', 'we', 'make', 'our']\n"
          ]
        }
      ],
      "source": [
        "# clean corpus\n",
        "def clean_tokenize_corpus(corpus):\n",
        "  corpus_clean = utils.decontraction(corpus)\n",
        "  corpus_clean = utils.remove_punct(corpus_clean, '\\<|\\>')\n",
        "\n",
        "  # tokenize and count the number of words\n",
        "  corpus_clean = re.sub('\\n\\n', '\\n', corpus_clean)\n",
        "  corpus_clean = re.sub('\\n', ' \\n ', corpus_clean)\n",
        "  tokens = re.split(' ', corpus_clean)\n",
        "  tokens_clean = []\n",
        "  structures = ['<BRIDGE>', '<CHORUS>', '<OTHERS>', '<PRECHORUS>', '<PRELUDE>', '<VERSE>']\n",
        "  for i,t in enumerate(tokens):\n",
        "      if t:                                  # remove empty strings\n",
        "          if i < len(tokens)-1 and t == '\\n' and tokens[i+1] in structures:\n",
        "              tokens_clean.append('\\n\\n')    # change to double line break for token before structure \n",
        "          elif t not in structures:\n",
        "              tokens_clean.append(t.lower()) # lower case if not structure tokens\n",
        "          else:\n",
        "              tokens_clean.append(t)\n",
        "\n",
        "  return tokens_clean\n",
        "\n",
        "\n",
        "train_tokens_clean = clean_tokenize_corpus(train_corpus)\n",
        "val_tokens_clean = clean_tokenize_corpus(val_corpus)\n",
        "\n",
        "print('Length of Train Corpus: {} words'.format(len(train_tokens_clean)))\n",
        "# The unique words in the file\n",
        "vocab = sorted(set(train_tokens_clean))\n",
        "print('Vocab Size:', len(vocab))\n",
        "print('Vocab Examples:', train_tokens_clean[:20])\n",
        "print('')\n",
        "\n",
        "print('Length of Validation Corpus: {} words'.format(len(val_tokens_clean)))\n",
        "# The unique words in the file\n",
        "val_vocab = sorted(set(val_tokens_clean))\n",
        "print('Vocab Size:', len(val_vocab))\n",
        "print('Vocab Examples:', val_tokens_clean[:20])\n",
        "\n"
      ]
    },
    {
      "cell_type": "code",
      "execution_count": 13,
      "id": "0ae446b1",
      "metadata": {
        "colab": {
          "base_uri": "https://localhost:8080/",
          "height": 390
        },
        "execution": {
          "iopub.execute_input": "2022-05-26T11:02:42.712092Z",
          "iopub.status.busy": "2022-05-26T11:02:42.711619Z",
          "iopub.status.idle": "2022-05-26T11:02:43.374613Z",
          "shell.execute_reply": "2022-05-26T11:02:43.373923Z"
        },
        "id": "0ae446b1",
        "outputId": "821610e2-3511-4a9f-9ee5-1534d984f4c8",
        "papermill": {
          "duration": 0.706406,
          "end_time": "2022-05-26T11:02:43.378278",
          "exception": false,
          "start_time": "2022-05-26T11:02:42.671872",
          "status": "completed"
        },
        "tags": []
      },
      "outputs": [
        {
          "output_type": "display_data",
          "data": {
            "text/plain": [
              "<Figure size 864x720 with 1 Axes>"
            ],
            "image/png": "[encoded data removed]"
          },
          "metadata": {
            "needs_background": "light"
          }
        }
      ],
      "source": [
        "# Unigram Word Cloud\n",
        "\n",
        "# remove stopwords\n",
        "stop = set(stopwords.words('english'))\n",
        "structures = ['<BRIDGE>', '<CHORUS>', '<OTHERS>', '<PRECHORUS>', '<PRELUDE>', '<VERSE>']\n",
        "stop.update(structures)\n",
        "stop.update(['\\n', '\\n\\n'])\n",
        "tokens_no_stopwords = [t for t in train_tokens_clean if t not in stop]\n",
        "\n",
        "corpus_dict = {}\n",
        "for word in tokens_no_stopwords:\n",
        "    corpus_dict[word] = corpus_dict.get(word, 0) + 1\n",
        "\n",
        "sg_mask = np.array(Image.open(\"./images/singaporemap.png\"))\n",
        "my_cloud = WordCloud(background_color='white', stopwords=stop, mask=sg_mask).generate_from_frequencies(corpus_dict)\n",
        "\n",
        "plt.figure(figsize=(12,10))\n",
        "plt.imshow(my_cloud, interpolation='bilinear') \n",
        "plt.axis('off')\n",
        "plt.show()"
      ]
    },
    {
      "cell_type": "markdown",
      "id": "53d02df3",
      "metadata": {
        "id": "53d02df3",
        "papermill": {
          "duration": 0.043691,
          "end_time": "2022-05-26T11:02:43.465502",
          "exception": false,
          "start_time": "2022-05-26T11:02:43.421811",
          "status": "completed"
        },
        "tags": []
      },
      "source": [
        "## Process the dataset"
      ]
    },
    {
      "cell_type": "markdown",
      "id": "915966b8",
      "metadata": {
        "id": "915966b8",
        "papermill": {
          "duration": 0.04333,
          "end_time": "2022-05-26T11:02:43.551769",
          "exception": false,
          "start_time": "2022-05-26T11:02:43.508439",
          "status": "completed"
        },
        "tags": []
      },
      "source": [
        "### Vectorize the text\n",
        "\n",
        "Before feeding the text to our RNN we need to convert the text from a sequence of characters to a sequence of numbers. To do so we will detect all unique characters in the text, form a vocabulary out of it and replace each character with its index in the vocabulary."
      ]
    },
    {
      "cell_type": "code",
      "execution_count": 14,
      "id": "da851248",
      "metadata": {
        "execution": {
          "iopub.execute_input": "2022-05-26T11:02:43.638935Z",
          "iopub.status.busy": "2022-05-26T11:02:43.638698Z",
          "iopub.status.idle": "2022-05-26T11:02:43.643901Z",
          "shell.execute_reply": "2022-05-26T11:02:43.643239Z"
        },
        "id": "da851248",
        "papermill": {
          "duration": 0.050838,
          "end_time": "2022-05-26T11:02:43.645542",
          "exception": false,
          "start_time": "2022-05-26T11:02:43.594704",
          "status": "completed"
        },
        "tags": []
      },
      "outputs": [],
      "source": [
        "# get word and indices mapping\n",
        "word_indices = {}\n",
        "indices_word = {}\n",
        "word_indices['<OOV>'] = 0\n",
        "indices_word[0] = '<OOV>'\n",
        "for i, w in enumerate(sorted(set(train_tokens_clean)), start=1):\n",
        "# for i, w in enumerate(sorted(set(train_tokens_clean))):\n",
        "    word_indices[w] = i\n",
        "    indices_word[i] = w"
      ]
    },
    {
      "cell_type": "code",
      "execution_count": 15,
      "id": "liB0dAvS7TOT",
      "metadata": {
        "colab": {
          "base_uri": "https://localhost:8080/"
        },
        "id": "liB0dAvS7TOT",
        "outputId": "83660694-b45a-4f6f-9f7b-cec5bc57d2be"
      },
      "outputs": [
        {
          "output_type": "execute_result",
          "data": {
            "text/plain": [
              "[('<OOV>', 0),\n",
              " ('\\n', 1),\n",
              " ('\\n\\n', 2),\n",
              " ('<BRIDGE>', 3),\n",
              " ('<CHORUS>', 4),\n",
              " ('<OTHERS>', 5),\n",
              " ('<PRECHORUS>', 6),\n",
              " ('<PRELUDE>', 7),\n",
              " ('<VERSE>', 8),\n",
              " ('a', 9)]"
            ]
          },
          "metadata": {},
          "execution_count": 15
        }
      ],
      "source": [
        "list(word_indices.items())[:10]"
      ]
    },
    {
      "cell_type": "code",
      "execution_count": 16,
      "id": "c687451d",
      "metadata": {
        "colab": {
          "base_uri": "https://localhost:8080/"
        },
        "id": "c687451d",
        "outputId": "aafd46e5-ef9a-4756-f025-a29142e4f441"
      },
      "outputs": [
        {
          "output_type": "execute_result",
          "data": {
            "text/plain": [
              "[(0, '<OOV>'),\n",
              " (1, '\\n'),\n",
              " (2, '\\n\\n'),\n",
              " (3, '<BRIDGE>'),\n",
              " (4, '<CHORUS>'),\n",
              " (5, '<OTHERS>'),\n",
              " (6, '<PRECHORUS>'),\n",
              " (7, '<PRELUDE>'),\n",
              " (8, '<VERSE>'),\n",
              " (9, 'a')]"
            ]
          },
          "metadata": {},
          "execution_count": 16
        }
      ],
      "source": [
        "list(indices_word.items())[:10]"
      ]
    },
    {
      "cell_type": "code",
      "execution_count": 17,
      "id": "7ec4e65b",
      "metadata": {
        "execution": {
          "iopub.execute_input": "2022-05-26T11:02:43.733460Z",
          "iopub.status.busy": "2022-05-26T11:02:43.732738Z",
          "iopub.status.idle": "2022-05-26T11:02:43.753297Z",
          "shell.execute_reply": "2022-05-26T11:02:43.752076Z"
        },
        "id": "7ec4e65b",
        "papermill": {
          "duration": 0.066407,
          "end_time": "2022-05-26T11:02:43.755004",
          "exception": false,
          "start_time": "2022-05-26T11:02:43.688597",
          "status": "completed"
        },
        "tags": []
      },
      "outputs": [],
      "source": [
        "# convert data to indices numbers (vectorize):\n",
        "train_tokens_clean = np.array(train_tokens_clean)\n",
        "train_tokens_clean_idx = np.vectorize(word_indices.get)(train_tokens_clean)\n",
        "\n",
        "val_tokens_clean = np.array(val_tokens_clean)\n",
        "val_tokens_clean_idx = np.array([word_indices.get(token, 0) for token in val_tokens_clean])"
      ]
    },
    {
      "cell_type": "markdown",
      "id": "76388ef3",
      "metadata": {
        "id": "76388ef3",
        "papermill": {
          "duration": 0.042837,
          "end_time": "2022-05-26T11:02:43.841046",
          "exception": false,
          "start_time": "2022-05-26T11:02:43.798209",
          "status": "completed"
        },
        "tags": []
      },
      "source": [
        "### Create sequences"
      ]
    },
    {
      "cell_type": "code",
      "execution_count": 18,
      "id": "3eb5c137",
      "metadata": {
        "execution": {
          "iopub.execute_input": "2022-05-26T11:02:43.929038Z",
          "iopub.status.busy": "2022-05-26T11:02:43.928614Z",
          "iopub.status.idle": "2022-05-26T11:02:46.685967Z",
          "shell.execute_reply": "2022-05-26T11:02:46.685232Z"
        },
        "id": "3eb5c137",
        "papermill": {
          "duration": 2.803466,
          "end_time": "2022-05-26T11:02:46.687935",
          "exception": false,
          "start_time": "2022-05-26T11:02:43.884469",
          "status": "completed"
        },
        "tags": []
      },
      "outputs": [],
      "source": [
        "word_dataset = tf.data.Dataset.from_tensor_slices(train_tokens_clean_idx)"
      ]
    },
    {
      "cell_type": "code",
      "execution_count": 19,
      "id": "f193cf89",
      "metadata": {
        "colab": {
          "base_uri": "https://localhost:8080/"
        },
        "execution": {
          "iopub.execute_input": "2022-05-26T11:02:46.829760Z",
          "iopub.status.busy": "2022-05-26T11:02:46.828302Z",
          "iopub.status.idle": "2022-05-26T11:02:46.937935Z",
          "shell.execute_reply": "2022-05-26T11:02:46.937209Z"
        },
        "id": "f193cf89",
        "outputId": "43c593e2-4438-4aff-e8a7-7a6137c4a9ac",
        "papermill": {
          "duration": 0.208652,
          "end_time": "2022-05-26T11:02:46.941742",
          "exception": false,
          "start_time": "2022-05-26T11:02:46.733090",
          "status": "completed"
        },
        "tags": []
      },
      "outputs": [
        {
          "output_type": "stream",
          "name": "stdout",
          "text": [
            "'<VERSE> \\n raise your head to the skies \\n this is how we all begin \\n'\n",
            "'\\n raise your head to the skies \\n this is how we all begin \\n see'\n",
            "'raise your head to the skies \\n this is how we all begin \\n see the'\n"
          ]
        }
      ],
      "source": [
        "SEQUENCE_LEN = 15\n",
        "sequences = word_dataset.window(SEQUENCE_LEN + 1, 1, drop_remainder=True)\n",
        "\n",
        "for window in sequences.take(3):\n",
        "    print(repr(' '.join(np.vectorize(indices_word.get)(np.array(list(window.as_numpy_iterator()))))))"
      ]
    },
    {
      "cell_type": "code",
      "execution_count": 20,
      "id": "d6feab8f",
      "metadata": {
        "colab": {
          "base_uri": "https://localhost:8080/"
        },
        "execution": {
          "iopub.execute_input": "2022-05-26T11:02:47.108030Z",
          "iopub.status.busy": "2022-05-26T11:02:47.107771Z",
          "iopub.status.idle": "2022-05-26T11:02:47.220154Z",
          "shell.execute_reply": "2022-05-26T11:02:47.218909Z"
        },
        "id": "d6feab8f",
        "outputId": "5438b90d-f2c8-4b20-84be-fdcb0e848a93",
        "papermill": {
          "duration": 0.191308,
          "end_time": "2022-05-26T11:02:47.223446",
          "exception": false,
          "start_time": "2022-05-26T11:02:47.032138",
          "status": "completed"
        },
        "tags": []
      },
      "outputs": [
        {
          "output_type": "stream",
          "name": "stdout",
          "text": [
            "tf.Tensor([  8   1 589 916 353 787 764 673   1 776 396 384 861  26  71   1], shape=(16,), dtype=int64)\n",
            "tf.Tensor([  1 589 916 353 787 764 673   1 776 396 384 861  26  71   1 635], shape=(16,), dtype=int64)\n",
            "tf.Tensor([589 916 353 787 764 673   1 776 396 384 861  26  71   1 635 764], shape=(16,), dtype=int64)\n"
          ]
        }
      ],
      "source": [
        "sequences = sequences.flat_map(lambda window: window.batch(SEQUENCE_LEN + 1))\n",
        "for elem in sequences.take(3):\n",
        "    print(elem)"
      ]
    },
    {
      "cell_type": "code",
      "execution_count": 21,
      "id": "7765418b",
      "metadata": {
        "colab": {
          "base_uri": "https://localhost:8080/"
        },
        "execution": {
          "iopub.execute_input": "2022-05-26T11:02:47.344936Z",
          "iopub.status.busy": "2022-05-26T11:02:47.344681Z",
          "iopub.status.idle": "2022-05-26T11:02:47.459845Z",
          "shell.execute_reply": "2022-05-26T11:02:47.459116Z"
        },
        "id": "7765418b",
        "outputId": "f922ea77-05fb-4006-a20f-d97698497efc",
        "papermill": {
          "duration": 0.169017,
          "end_time": "2022-05-26T11:02:47.462336",
          "exception": false,
          "start_time": "2022-05-26T11:02:47.293319",
          "status": "completed"
        },
        "tags": []
      },
      "outputs": [
        {
          "output_type": "stream",
          "name": "stdout",
          "text": [
            "tf.Tensor([  8   1 589 916 353 787 764 673   1 776 396 384 861  26  71], shape=(15,), dtype=int64) -----> tf.Tensor([1], shape=(1,), dtype=int64)\n",
            "tf.Tensor([  1 589 916 353 787 764 673   1 776 396 384 861  26  71   1], shape=(15,), dtype=int64) -----> tf.Tensor([635], shape=(1,), dtype=int64)\n",
            "tf.Tensor([589 916 353 787 764 673   1 776 396 384 861  26  71   1 635], shape=(15,), dtype=int64) -----> tf.Tensor([764], shape=(1,), dtype=int64)\n"
          ]
        }
      ],
      "source": [
        "sequences = sequences.map(lambda window: (window[:-1], window[-1:]))\n",
        "X_train = sequences.map(lambda X,y: X)\n",
        "y_train = sequences.map(lambda X,y: y)\n",
        "\n",
        "for elem1, elem2 in zip(X_train.take(3), y_train.take(3)):\n",
        "    print(elem1, '----->', elem2)"
      ]
    },
    {
      "cell_type": "code",
      "execution_count": 22,
      "id": "rUp5aJUEfg-Y",
      "metadata": {
        "id": "rUp5aJUEfg-Y"
      },
      "outputs": [],
      "source": [
        "def get_sequences(tokens_idx, sequence_len):\n",
        "  word_dataset = tf.data.Dataset.from_tensor_slices(tokens_idx)\n",
        "  sequences = word_dataset.window(sequence_len + 1, 1, drop_remainder=True)\n",
        "  sequences = sequences.flat_map(lambda window: window.batch(sequence_len + 1))\n",
        "  sequences = sequences.map(lambda window: (window[:-1], window[-1:]))\n",
        "\n",
        "  return sequences\n",
        "\n",
        "SEQUENCE_LEN = 15\n",
        "train_sequences = get_sequences(train_tokens_clean_idx, SEQUENCE_LEN)\n",
        "val_sequences = get_sequences(val_tokens_clean_idx, SEQUENCE_LEN)"
      ]
    },
    {
      "cell_type": "code",
      "execution_count": 23,
      "id": "k4NyNv0Br779",
      "metadata": {
        "colab": {
          "base_uri": "https://localhost:8080/"
        },
        "id": "k4NyNv0Br779",
        "outputId": "5bcb3dc9-9500-4a83-f0fe-86dd2a95925e"
      },
      "outputs": [
        {
          "output_type": "stream",
          "name": "stdout",
          "text": [
            "train dataset size: 10720\n"
          ]
        }
      ],
      "source": [
        "print('train dataset size: {}'.format(len(list(train_sequences.as_numpy_iterator()))))"
      ]
    },
    {
      "cell_type": "code",
      "execution_count": 24,
      "id": "7fb9d44a",
      "metadata": {
        "colab": {
          "base_uri": "https://localhost:8080/"
        },
        "execution": {
          "iopub.execute_input": "2022-05-26T11:02:47.557292Z",
          "iopub.status.busy": "2022-05-26T11:02:47.557067Z",
          "iopub.status.idle": "2022-05-26T11:02:52.689931Z",
          "shell.execute_reply": "2022-05-26T11:02:52.688857Z"
        },
        "id": "7fb9d44a",
        "outputId": "6b066eb6-3481-47c7-9283-c3002318cc02",
        "papermill": {
          "duration": 5.181908,
          "end_time": "2022-05-26T11:02:52.691772",
          "exception": false,
          "start_time": "2022-05-26T11:02:47.509864",
          "status": "completed"
        },
        "tags": []
      },
      "outputs": [
        {
          "output_type": "stream",
          "name": "stdout",
          "text": [
            "train dataset size: 10720\n",
            "val dataset size: 2782\n"
          ]
        }
      ],
      "source": [
        "dataset_size = len(list(train_sequences.as_numpy_iterator()))\n",
        "print('train dataset size: {}'.format(dataset_size))\n",
        "\n",
        "dataset_size = len(list(val_sequences.as_numpy_iterator()))\n",
        "print('val dataset size: {}'.format(dataset_size))"
      ]
    },
    {
      "cell_type": "code",
      "execution_count": 25,
      "id": "769f9bd3",
      "metadata": {
        "colab": {
          "base_uri": "https://localhost:8080/"
        },
        "execution": {
          "iopub.execute_input": "2022-05-26T11:02:52.786646Z",
          "iopub.status.busy": "2022-05-26T11:02:52.786044Z",
          "iopub.status.idle": "2022-05-26T11:02:54.010661Z",
          "shell.execute_reply": "2022-05-26T11:02:54.009870Z"
        },
        "id": "769f9bd3",
        "outputId": "c3da0bef-8238-4b3a-8f31-8d101ecbe2df",
        "papermill": {
          "duration": 1.27401,
          "end_time": "2022-05-26T11:02:54.012628",
          "exception": false,
          "start_time": "2022-05-26T11:02:52.738618",
          "status": "completed"
        },
        "tags": []
      },
      "outputs": [
        {
          "output_type": "stream",
          "name": "stdout",
          "text": [
            "Batched dataset size: 167\n"
          ]
        }
      ],
      "source": [
        "BATCH_SIZE = 64\n",
        "\n",
        "# Buffer size to shuffle the dataset (TF data is designed to work\n",
        "# with possibly infinite sequences, so it doesn't attempt to shuffle\n",
        "# the entire sequence in memory. Instead, it maintains a buffer in\n",
        "# which it shuffles elements).\n",
        "BUFFER_SIZE = 10000\n",
        "\n",
        "AUTOTUNE = tf.data.AUTOTUNE\n",
        "train_dataset = train_sequences.shuffle(BUFFER_SIZE).batch(BATCH_SIZE, drop_remainder=True).cache().prefetch(buffer_size=AUTOTUNE)\n",
        "val_dataset = val_sequences.shuffle(BUFFER_SIZE).batch(BATCH_SIZE, drop_remainder=True).cache().prefetch(buffer_size=AUTOTUNE)\n",
        "\n",
        "print('Batched dataset size: {}'.format(len(list(train_dataset.as_numpy_iterator()))))"
      ]
    },
    {
      "cell_type": "markdown",
      "id": "979b6e1b",
      "metadata": {
        "id": "979b6e1b",
        "papermill": {
          "duration": 0.047075,
          "end_time": "2022-05-26T11:02:54.306234",
          "exception": false,
          "start_time": "2022-05-26T11:02:54.259159",
          "status": "completed"
        },
        "tags": []
      },
      "source": [
        "### Build and Test Model"
      ]
    },
    {
      "cell_type": "code",
      "execution_count": 26,
      "id": "dcdf935d",
      "metadata": {
        "execution": {
          "iopub.execute_input": "2022-05-26T11:02:54.400467Z",
          "iopub.status.busy": "2022-05-26T11:02:54.399921Z",
          "iopub.status.idle": "2022-05-26T11:02:54.403584Z",
          "shell.execute_reply": "2022-05-26T11:02:54.402958Z"
        },
        "id": "dcdf935d",
        "papermill": {
          "duration": 0.053039,
          "end_time": "2022-05-26T11:02:54.405288",
          "exception": false,
          "start_time": "2022-05-26T11:02:54.352249",
          "status": "completed"
        },
        "tags": []
      },
      "outputs": [],
      "source": [
        "VOCAB_SIZE = len(word_indices)\n",
        "EMBEDDINGG_DIM = 128\n",
        "RNN_UNITS = 512\n",
        "\n",
        "EPOCHS=50\n",
        "LR = 0.001"
      ]
    },
    {
      "cell_type": "code",
      "execution_count": 27,
      "id": "9f3d7daa",
      "metadata": {
        "colab": {
          "base_uri": "https://localhost:8080/"
        },
        "execution": {
          "iopub.execute_input": "2022-05-26T11:02:54.502363Z",
          "iopub.status.busy": "2022-05-26T11:02:54.501783Z",
          "iopub.status.idle": "2022-05-26T11:02:54.749525Z",
          "shell.execute_reply": "2022-05-26T11:02:54.747774Z"
        },
        "id": "9f3d7daa",
        "outputId": "dcbbe7b8-1956-4651-d054-8fb3347a4932",
        "papermill": {
          "duration": 0.299493,
          "end_time": "2022-05-26T11:02:54.751841",
          "exception": false,
          "start_time": "2022-05-26T11:02:54.452348",
          "status": "completed"
        },
        "tags": []
      },
      "outputs": [
        {
          "output_type": "stream",
          "name": "stdout",
          "text": [
            "Model: \"sequential\"\n",
            "_________________________________________________________________\n",
            " Layer (type)                Output Shape              Param #   \n",
            "=================================================================\n",
            " embedding (Embedding)       (64, None, 128)           118016    \n",
            "                                                                 \n",
            " lstm (LSTM)                 (64, 512)                 1312768   \n",
            "                                                                 \n",
            " dense (Dense)               (64, 922)                 472986    \n",
            "                                                                 \n",
            "=================================================================\n",
            "Total params: 1,903,770\n",
            "Trainable params: 1,903,770\n",
            "Non-trainable params: 0\n",
            "_________________________________________________________________\n"
          ]
        }
      ],
      "source": [
        "def build_model(vocab_size, embedding_dim, rnn_units, batch_size):\n",
        "    \"\"\"Build Keras Model\n",
        "\n",
        "    Args: \n",
        "      vocab_size (int): size of vocabulary of corpus\n",
        "      embedding_dim (int): dimension of word embedding matrix\n",
        "      rnn_units (int): number of neurons in rnn\n",
        "      batch_size (int): batch size \n",
        "\n",
        "    \n",
        "    Returns:\n",
        "      Keras sequential model \n",
        "    \"\"\"\n",
        "    \n",
        "    model = tf.keras.models.Sequential()\n",
        "\n",
        "    model.add(tf.keras.layers.Embedding(\n",
        "      input_dim=vocab_size,\n",
        "      output_dim=embedding_dim,\n",
        "      batch_input_shape=[batch_size, None]\n",
        "    ))\n",
        "\n",
        "    model.add(tf.keras.layers.LSTM(\n",
        "      units=rnn_units,\n",
        "      return_sequences=False,\n",
        "#       stateful=True,\n",
        "      recurrent_initializer=tf.keras.initializers.GlorotNormal()\n",
        "    ))\n",
        "\n",
        "    model.add(tf.keras.layers.Dense(vocab_size))\n",
        "  \n",
        "    return model\n",
        "\n",
        "\n",
        "model = build_model(VOCAB_SIZE, EMBEDDINGG_DIM, RNN_UNITS, BATCH_SIZE)\n",
        "model.summary()"
      ]
    },
    {
      "cell_type": "code",
      "execution_count": 28,
      "id": "951692be",
      "metadata": {
        "colab": {
          "base_uri": "https://localhost:8080/"
        },
        "execution": {
          "iopub.execute_input": "2022-05-26T11:02:54.847612Z",
          "iopub.status.busy": "2022-05-26T11:02:54.847118Z",
          "iopub.status.idle": "2022-05-26T11:02:56.856853Z",
          "shell.execute_reply": "2022-05-26T11:02:56.856026Z"
        },
        "id": "951692be",
        "outputId": "109c1f2a-8a3e-4dba-f3b0-da16bb25f6ea",
        "papermill": {
          "duration": 2.059616,
          "end_time": "2022-05-26T11:02:56.859232",
          "exception": false,
          "start_time": "2022-05-26T11:02:54.799616",
          "status": "completed"
        },
        "tags": []
      },
      "outputs": [
        {
          "output_type": "stream",
          "name": "stdout",
          "text": [
            "(64, 922) # (batch_size, sequence_length, vocab_size)\n"
          ]
        }
      ],
      "source": [
        "for input_example_batch, target_example_batch in train_dataset.take(1):\n",
        "    example_batch_predictions = model(input_example_batch)\n",
        "    print(example_batch_predictions.shape, \"# (batch_size, sequence_length, vocab_size)\")"
      ]
    },
    {
      "cell_type": "code",
      "execution_count": 29,
      "id": "c7cdb8f5",
      "metadata": {
        "colab": {
          "base_uri": "https://localhost:8080/"
        },
        "execution": {
          "iopub.execute_input": "2022-05-26T11:02:56.956575Z",
          "iopub.status.busy": "2022-05-26T11:02:56.956352Z",
          "iopub.status.idle": "2022-05-26T11:02:56.972252Z",
          "shell.execute_reply": "2022-05-26T11:02:56.971301Z"
        },
        "id": "c7cdb8f5",
        "outputId": "0c19be25-1e40-439e-9e94-a2a444eca83e",
        "papermill": {
          "duration": 0.06631,
          "end_time": "2022-05-26T11:02:56.973919",
          "exception": false,
          "start_time": "2022-05-26T11:02:56.907609",
          "status": "completed"
        },
        "tags": []
      },
      "outputs": [
        {
          "output_type": "stream",
          "name": "stdout",
          "text": [
            "Prediction shape:  (64, 922)  # (batch_size, sequence_length, vocab_size)\n",
            "scalar_loss:       6.8262806\n"
          ]
        }
      ],
      "source": [
        "# An objective function.\n",
        "# The function is any callable with the signature scalar_loss = fn(y_true, y_pred).\n",
        "def loss(labels, logits):\n",
        "    \"\"\"Compute the loss from outputed logits of model\n",
        "\n",
        "    Args: \n",
        "      labels (list): y labels / ground truth\n",
        "      logits (list): logits outputed by the model\n",
        "    \n",
        "    Returns:\n",
        "      Loss score\n",
        "    \"\"\"\n",
        "    \n",
        "    return tf.keras.losses.sparse_categorical_crossentropy(\n",
        "      y_true=labels,\n",
        "      y_pred=logits,\n",
        "      from_logits=True\n",
        "    )\n",
        "\n",
        "example_batch_loss = loss(target_example_batch, example_batch_predictions)\n",
        "\n",
        "print(\"Prediction shape: \", example_batch_predictions.shape, \" # (batch_size, sequence_length, vocab_size)\")\n",
        "print(\"scalar_loss:      \", example_batch_loss.numpy().mean())"
      ]
    },
    {
      "cell_type": "code",
      "execution_count": 30,
      "id": "f64011f8",
      "metadata": {
        "execution": {
          "iopub.execute_input": "2022-05-26T11:02:57.069636Z",
          "iopub.status.busy": "2022-05-26T11:02:57.069435Z",
          "iopub.status.idle": "2022-05-26T11:02:57.088139Z",
          "shell.execute_reply": "2022-05-26T11:02:57.087505Z"
        },
        "id": "f64011f8",
        "papermill": {
          "duration": 0.068437,
          "end_time": "2022-05-26T11:02:57.089768",
          "exception": false,
          "start_time": "2022-05-26T11:02:57.021331",
          "status": "completed"
        },
        "tags": []
      },
      "outputs": [],
      "source": [
        "adam_optimizer = tf.keras.optimizers.Adam(learning_rate=LR)\n",
        "model.compile(\n",
        "    optimizer=adam_optimizer,\n",
        "    loss=loss\n",
        ")"
      ]
    },
    {
      "cell_type": "code",
      "execution_count": 31,
      "id": "a4059894",
      "metadata": {
        "execution": {
          "iopub.execute_input": "2022-05-26T11:02:57.186218Z",
          "iopub.status.busy": "2022-05-26T11:02:57.185707Z",
          "iopub.status.idle": "2022-05-26T11:02:57.190346Z",
          "shell.execute_reply": "2022-05-26T11:02:57.189685Z"
        },
        "id": "a4059894",
        "papermill": {
          "duration": 0.054466,
          "end_time": "2022-05-26T11:02:57.191930",
          "exception": false,
          "start_time": "2022-05-26T11:02:57.137464",
          "status": "completed"
        },
        "tags": []
      },
      "outputs": [],
      "source": [
        "# # Directory where the checkpoints will be saved.\n",
        "# checkpoint_dir = 'tmp/checkpoints'\n",
        "# os.makedirs(checkpoint_dir, exist_ok=True)\n",
        "\n",
        "# # Name of the checkpoint files\n",
        "# checkpoint_prefix = os.path.join(checkpoint_dir, 'ckpt_{epoch}')\n",
        "\n",
        "# checkpoint_callback=tf.keras.callbacks.ModelCheckpoint(\n",
        "#     filepath=checkpoint_prefix,\n",
        "#     save_weights_only=True\n",
        "# )"
      ]
    },
    {
      "cell_type": "markdown",
      "id": "35cd0b06",
      "metadata": {
        "id": "35cd0b06",
        "papermill": {
          "duration": 0.046771,
          "end_time": "2022-05-26T11:02:57.285539",
          "exception": false,
          "start_time": "2022-05-26T11:02:57.238768",
          "status": "completed"
        },
        "tags": []
      },
      "source": [
        "### Train Model"
      ]
    },
    {
      "cell_type": "code",
      "execution_count": 32,
      "id": "89b79914",
      "metadata": {
        "colab": {
          "base_uri": "https://localhost:8080/"
        },
        "execution": {
          "iopub.execute_input": "2022-05-26T11:02:57.380953Z",
          "iopub.status.busy": "2022-05-26T11:02:57.380491Z",
          "iopub.status.idle": "2022-05-26T11:07:09.900515Z",
          "shell.execute_reply": "2022-05-26T11:07:09.899696Z"
        },
        "id": "89b79914",
        "outputId": "53c4477a-ffc1-4794-c446-aae294fb001f",
        "papermill": {
          "duration": 252.569865,
          "end_time": "2022-05-26T11:07:09.902573",
          "exception": false,
          "start_time": "2022-05-26T11:02:57.332708",
          "status": "completed"
        },
        "tags": []
      },
      "outputs": [
        {
          "output_type": "stream",
          "name": "stdout",
          "text": [
            "Epoch 1/50\n",
            "167/167 [==============================] - 5s 14ms/step - loss: 5.2228 - val_loss: 5.1758\n",
            "Epoch 2/50\n",
            "167/167 [==============================] - 1s 7ms/step - loss: 4.6472 - val_loss: 4.9495\n",
            "Epoch 3/50\n",
            "167/167 [==============================] - 1s 6ms/step - loss: 4.1505 - val_loss: 4.8423\n",
            "Epoch 4/50\n",
            "167/167 [==============================] - 1s 6ms/step - loss: 3.6856 - val_loss: 4.8193\n",
            "Epoch 5/50\n",
            "167/167 [==============================] - 1s 7ms/step - loss: 3.2483 - val_loss: 4.7435\n",
            "Epoch 6/50\n",
            "167/167 [==============================] - 1s 6ms/step - loss: 2.8114 - val_loss: 4.8058\n",
            "Epoch 7/50\n",
            "167/167 [==============================] - 1s 6ms/step - loss: 2.3832 - val_loss: 4.8888\n",
            "Epoch 8/50\n",
            "167/167 [==============================] - 1s 6ms/step - loss: 1.9985 - val_loss: 4.9181\n",
            "Epoch 9/50\n",
            "167/167 [==============================] - 1s 6ms/step - loss: 1.6602 - val_loss: 4.9798\n",
            "Epoch 10/50\n",
            "167/167 [==============================] - 1s 7ms/step - loss: 1.3940 - val_loss: 5.0176\n",
            "Epoch 11/50\n",
            "167/167 [==============================] - 1s 6ms/step - loss: 1.1484 - val_loss: 4.9947\n",
            "Epoch 12/50\n",
            "167/167 [==============================] - 1s 7ms/step - loss: 0.9090 - val_loss: 5.0775\n",
            "Epoch 13/50\n",
            "167/167 [==============================] - 1s 6ms/step - loss: 0.7192 - val_loss: 5.0821\n",
            "Epoch 14/50\n",
            "167/167 [==============================] - 1s 6ms/step - loss: 0.5724 - val_loss: 5.1105\n",
            "Epoch 15/50\n",
            "167/167 [==============================] - 1s 7ms/step - loss: 0.4652 - val_loss: 5.2570\n",
            "Epoch 16/50\n",
            "167/167 [==============================] - 1s 7ms/step - loss: 0.3968 - val_loss: 5.3307\n",
            "Epoch 17/50\n",
            "167/167 [==============================] - 1s 6ms/step - loss: 0.3262 - val_loss: 5.3089\n",
            "Epoch 18/50\n",
            "167/167 [==============================] - 1s 6ms/step - loss: 0.2630 - val_loss: 5.3298\n",
            "Epoch 19/50\n",
            "167/167 [==============================] - 1s 6ms/step - loss: 0.2283 - val_loss: 5.3952\n",
            "Epoch 20/50\n",
            "167/167 [==============================] - 1s 7ms/step - loss: 0.1937 - val_loss: 5.4757\n",
            "Epoch 21/50\n",
            "167/167 [==============================] - 1s 7ms/step - loss: 0.1636 - val_loss: 5.5318\n",
            "Epoch 22/50\n",
            "167/167 [==============================] - 1s 7ms/step - loss: 0.1401 - val_loss: 5.6391\n",
            "Epoch 23/50\n",
            "167/167 [==============================] - 1s 6ms/step - loss: 0.1153 - val_loss: 5.7501\n",
            "Epoch 24/50\n",
            "167/167 [==============================] - 1s 7ms/step - loss: 0.1049 - val_loss: 5.8320\n",
            "Epoch 25/50\n",
            "167/167 [==============================] - 1s 6ms/step - loss: 0.0885 - val_loss: 5.9399\n",
            "Epoch 26/50\n",
            "167/167 [==============================] - 1s 6ms/step - loss: 0.0780 - val_loss: 5.9058\n",
            "Epoch 27/50\n",
            "167/167 [==============================] - 1s 7ms/step - loss: 0.0674 - val_loss: 5.9002\n",
            "Epoch 28/50\n",
            "167/167 [==============================] - 1s 6ms/step - loss: 0.0589 - val_loss: 5.8872\n",
            "Epoch 29/50\n",
            "167/167 [==============================] - 1s 6ms/step - loss: 0.0529 - val_loss: 5.9038\n",
            "Epoch 30/50\n",
            "167/167 [==============================] - 1s 7ms/step - loss: 0.0483 - val_loss: 5.9545\n",
            "Epoch 31/50\n",
            "167/167 [==============================] - 1s 7ms/step - loss: 0.0466 - val_loss: 5.9698\n",
            "Epoch 32/50\n",
            "167/167 [==============================] - 1s 6ms/step - loss: 0.0467 - val_loss: 5.9997\n",
            "Epoch 33/50\n",
            "167/167 [==============================] - 1s 7ms/step - loss: 0.0466 - val_loss: 6.0280\n",
            "Epoch 34/50\n",
            "167/167 [==============================] - 1s 7ms/step - loss: 0.0459 - val_loss: 6.0520\n",
            "Epoch 35/50\n",
            "167/167 [==============================] - 1s 7ms/step - loss: 0.0441 - val_loss: 6.0354\n",
            "Epoch 36/50\n",
            "167/167 [==============================] - 1s 7ms/step - loss: 0.0421 - val_loss: 6.0641\n",
            "Epoch 37/50\n",
            "167/167 [==============================] - 1s 7ms/step - loss: 0.0407 - val_loss: 6.0697\n",
            "Epoch 38/50\n",
            "167/167 [==============================] - 1s 6ms/step - loss: 0.0397 - val_loss: 6.0495\n",
            "Epoch 39/50\n",
            "167/167 [==============================] - 1s 6ms/step - loss: 0.0376 - val_loss: 6.0396\n",
            "Epoch 40/50\n",
            "167/167 [==============================] - 1s 7ms/step - loss: 0.0347 - val_loss: 6.0776\n",
            "Epoch 41/50\n",
            "167/167 [==============================] - 1s 6ms/step - loss: 0.0433 - val_loss: 6.0971\n",
            "Epoch 42/50\n",
            "167/167 [==============================] - 1s 7ms/step - loss: 0.0380 - val_loss: 6.1751\n",
            "Epoch 43/50\n",
            "167/167 [==============================] - 1s 6ms/step - loss: 0.0343 - val_loss: 6.2166\n",
            "Epoch 44/50\n",
            "167/167 [==============================] - 1s 6ms/step - loss: 0.0336 - val_loss: 6.2280\n",
            "Epoch 45/50\n",
            "167/167 [==============================] - 1s 6ms/step - loss: 0.0304 - val_loss: 6.2653\n",
            "Epoch 46/50\n",
            "167/167 [==============================] - 1s 6ms/step - loss: 0.0289 - val_loss: 6.2754\n",
            "Epoch 47/50\n",
            "167/167 [==============================] - 1s 7ms/step - loss: 0.0279 - val_loss: 6.2842\n",
            "Epoch 48/50\n",
            "167/167 [==============================] - 1s 7ms/step - loss: 0.0269 - val_loss: 6.3267\n",
            "Epoch 49/50\n",
            "167/167 [==============================] - 1s 6ms/step - loss: 0.0265 - val_loss: 6.3302\n",
            "Epoch 50/50\n",
            "167/167 [==============================] - 1s 7ms/step - loss: 0.0262 - val_loss: 6.3625\n"
          ]
        }
      ],
      "source": [
        "history = model.fit(\n",
        "  x=train_dataset,\n",
        "  epochs=EPOCHS,\n",
        "  validation_data=val_dataset,\n",
        ")"
      ]
    },
    {
      "cell_type": "markdown",
      "id": "50da7a2a",
      "metadata": {
        "id": "50da7a2a",
        "papermill": {
          "duration": 1.486912,
          "end_time": "2022-05-26T11:07:24.690505",
          "exception": false,
          "start_time": "2022-05-26T11:07:23.203593",
          "status": "completed"
        },
        "tags": []
      },
      "source": [
        "### The prediction loop\n",
        "\n",
        "The following code block generates the text:\n",
        "\n",
        "- It Starts by choosing a start string, initializing the RNN state and setting the number of words to generate.\n",
        "\n",
        "- Get the prediction distribution of the next word using the start string and the RNN state.\n",
        "\n",
        "- Then, use a categorical distribution to calculate the index of the predicted character. Use this predicted word as our next input to the model.\n",
        "\n",
        "- The RNN state returned by the model is fed back into the model so that it now has more context, instead than only one word. After predicting the next word, the modified RNN states are again fed back into the model, which is how it learns as it gets more context from the previously predicted words."
      ]
    },
    {
      "cell_type": "code",
      "execution_count": 33,
      "id": "4db2b385",
      "metadata": {
        "execution": {
          "iopub.execute_input": "2022-05-26T11:07:27.374684Z",
          "iopub.status.busy": "2022-05-26T11:07:27.374096Z",
          "iopub.status.idle": "2022-05-26T11:07:27.382306Z",
          "shell.execute_reply": "2022-05-26T11:07:27.381615Z"
        },
        "id": "4db2b385",
        "papermill": {
          "duration": 1.369869,
          "end_time": "2022-05-26T11:07:27.383958",
          "exception": false,
          "start_time": "2022-05-26T11:07:26.014089",
          "status": "completed"
        },
        "tags": []
      },
      "outputs": [],
      "source": [
        "def generate_text(model, start_string, num_generate = 1000, temperature=1.0):\n",
        "    \"\"\"Generate text using trained sequential text generation model\n",
        "\n",
        "    Args: \n",
        "      model (model): Keras trained sequential text generation model\n",
        "      start_string (list): list of strings for starting the text generation\n",
        "      num_generate (int): number of words to generate\n",
        "      temperature (float): controls the predictability of the generated text\n",
        "        - Low temperatures results in more predictable text.\n",
        "        - Higher temperatures results in more surprising text.\n",
        "    \n",
        "    Returns:\n",
        "      String of generated text\n",
        "      \n",
        "    \"\"\"\n",
        "\n",
        "    # Converting our start string to numbers (vectorizing).\n",
        "    input_indices = [word_indices.get(s, 0) for s in start_string]\n",
        "    input_indices = tf.expand_dims(input_indices, 0)\n",
        "\n",
        "    # Empty string to store our results.\n",
        "    text_generated = []\n",
        "\n",
        "    # Here batch size == 1.\n",
        "    model.reset_states()\n",
        "    for word_index in range(num_generate):\n",
        "        predictions = model(input_indices)\n",
        "        # remove the batch dimension\n",
        "        predictions = tf.squeeze(predictions, 0)\n",
        "\n",
        "        # Using a categorical distribution to predict the character returned by the model.\n",
        "        predictions = predictions / temperature\n",
        "        predictions = tf.reshape(predictions, [1, predictions.shape[0]])\n",
        "        predicted_id = tf.random.categorical(\n",
        "            predictions,\n",
        "            num_samples=1\n",
        "            )[-1,0].numpy()\n",
        "\n",
        "        # We pass the predicted word as the next input to the model\n",
        "        # along with the previous hidden state.\n",
        "        input_indices = tf.expand_dims([predicted_id], 0)\n",
        "\n",
        "        text_generated.append(indices_word[predicted_id])\n",
        "    \n",
        "    return (' '.join(start_string) + '\\n ' + ' '.join(text_generated))"
      ]
    },
    {
      "cell_type": "code",
      "execution_count": 34,
      "id": "9cR4urS-wyMK",
      "metadata": {
        "id": "9cR4urS-wyMK"
      },
      "outputs": [],
      "source": [
        "NUM_GENERATE = 100"
      ]
    },
    {
      "cell_type": "code",
      "execution_count": 35,
      "id": "LvEpvDppyjK1",
      "metadata": {
        "id": "LvEpvDppyjK1"
      },
      "outputs": [],
      "source": [
        "# clean val set for sampling prompts and references\n",
        "val_clean_corpus = []\n",
        "for i,file in enumerate(val_files):\n",
        "    text = open(PATH + '/' + file, mode='r').read()\n",
        "    val_clean_corpus.append(text)\n",
        "\n",
        "for i,song in enumerate(val_clean_corpus):\n",
        "    song = re.sub(r'<[A-Z]+>|', '', song)\n",
        "    # val_clean_corpus = re.sub(r'\\n', '<break>')\n",
        "    song = [sent for sent in song.split('\\n') if sent]\n",
        "    song = [utils.preprocess_text(sent) for sent in song]\n",
        "    song.append('')\n",
        "    val_clean_corpus[i] = song\n",
        "\n",
        "val_clean_corpus = [sent for song in val_clean_corpus for sent in song ]\n",
        "\n",
        "br = bleu_rouge()\n",
        "prompt_ref = br.get_prompt_reference(val_clean_corpus, 100)"
      ]
    },
    {
      "cell_type": "code",
      "source": [
        "# codes to mount your google drive folder\n",
        "from google.colab import drive\n",
        "drive.mount('/content/drive')\n",
        "%cd /content/drive/MyDrive/Colab Notebooks/SMU_MITB_NLP/NLP project/"
      ],
      "metadata": {
        "colab": {
          "base_uri": "https://localhost:8080/"
        },
        "id": "2Y5gLCqEmy1k",
        "outputId": "99c272bc-c9b0-44b2-92e2-b08c2113b05b"
      },
      "id": "2Y5gLCqEmy1k",
      "execution_count": 37,
      "outputs": [
        {
          "output_type": "stream",
          "name": "stdout",
          "text": [
            "Mounted at /content/drive\n",
            "/content/drive/.shortcut-targets-by-id/1MmY0pN1b5xL_C2CijM9ImcFM-UFt4bwr/NLP project\n"
          ]
        }
      ]
    },
    {
      "cell_type": "code",
      "execution_count": 38,
      "id": "7YbXM5de3_ve",
      "metadata": {
        "id": "7YbXM5de3_ve"
      },
      "outputs": [],
      "source": [
        "# use sampled prompts to generate lyrics\n",
        "generated_results = {}\n",
        "for prompt in sorted(prompt_ref):\n",
        "  g_text = generate_text(model, start_string=prompt.split(' '), num_generate=NUM_GENERATE)\n",
        "  g_text = re.sub(r'<[A-Z]+>|', '', g_text)\n",
        "  g_text = re.sub(r'\\s+', ' ', g_text).strip()\n",
        "  generated_results[prompt] = g_text\n",
        "  \n",
        "  # save to file\n",
        "  filename = f'./output/GRU songs/br_GRU_{prompt}.txt'\n",
        "  with open(filename, 'w') as f:\n",
        "    f.write(g_text)\n",
        "  f.close()"
      ]
    },
    {
      "cell_type": "code",
      "execution_count": 39,
      "id": "Xrjr_AFb6M75",
      "metadata": {
        "colab": {
          "base_uri": "https://localhost:8080/"
        },
        "id": "Xrjr_AFb6M75",
        "outputId": "6e9e7301-ed2a-45e9-dd09-759406e21338"
      },
      "outputs": [
        {
          "output_type": "stream",
          "name": "stdout",
          "text": [
            "a thousand different voices i share our home where i will you and different flame working never country drop around me headlines pioneers dawn i hope will you failing have new island a nation grateful together we give the gone singapura about grown feeling taken i like you and grain of my land to give a nation cos any flame ones what we can new beginning sing we can our be whatever i hope come put your heart oh oh oh unite as i flame free we are my singapore always every moon\n"
          ]
        }
      ],
      "source": [
        "print(list(generated_results.items())[0][1])"
      ]
    },
    {
      "cell_type": "code",
      "execution_count": 40,
      "id": "qtF8sBV76j3z",
      "metadata": {
        "colab": {
          "base_uri": "https://localhost:8080/"
        },
        "id": "qtF8sBV76j3z",
        "outputId": "62127ff1-0b8b-483b-fd23-40a8146bd5e5"
      },
      "outputs": [
        {
          "output_type": "stream",
          "name": "stdout",
          "text": [
            "and do go on to a home take on the rain way that is the change know we are one we have you are i can be singapore the sunsets you are everyone is something climbed should take it is the feeling alright pushed be fire or dream centre stage step oh map tomorrow is shining bombay down you are one else place to home you are i know we will find young miracles stand oh our spirits i new great one singapore children us find all work count unite\n"
          ]
        }
      ],
      "source": [
        "print(list(generated_results.items())[1][1])"
      ]
    },
    {
      "cell_type": "code",
      "execution_count": 41,
      "id": "6929121f",
      "metadata": {
        "id": "6929121f"
      },
      "outputs": [],
      "source": [
        "# generate lyrics for 6 standard prompts\n",
        "prompts = [\n",
        "    'whenever I think back', \n",
        "    'and so this I know',\n",
        "    'i am tired of being what you want me to be', \n",
        "    'feeling so faithless, lost under the surface',\n",
        "    'relight our fire, we will find our way', \n",
        "    'we will rise stronger together'\n",
        "]\n",
        "\n",
        "generated_results_standard = {}\n",
        "for prompt in prompts:\n",
        "  g_text = generate_text(model, start_string=prompt.split(' '), num_generate=NUM_GENERATE)\n",
        "  g_text = re.sub(r'<[A-Z]+>|', '', g_text)\n",
        "  g_text = re.sub(r'\\s+', ' ', g_text).strip()\n",
        "  generated_results_standard[prompt] = g_text\n",
        "\n",
        "  # save to file\n",
        "  filename = f'./output/GRU songs/human_GRU_{prompt}.txt'\n",
        "  with open(filename, 'w') as f:\n",
        "    f.write(g_text)\n",
        "  f.close()\n"
      ]
    },
    {
      "cell_type": "code",
      "source": [
        "%pwd"
      ],
      "metadata": {
        "colab": {
          "base_uri": "https://localhost:8080/",
          "height": 35
        },
        "id": "WZ8vqfzzsQ4n",
        "outputId": "62ca78b8-9418-4313-b2dc-2a4c37a37aa3"
      },
      "id": "WZ8vqfzzsQ4n",
      "execution_count": 42,
      "outputs": [
        {
          "output_type": "execute_result",
          "data": {
            "text/plain": [
              "'/content/drive/.shortcut-targets-by-id/1MmY0pN1b5xL_C2CijM9ImcFM-UFt4bwr/NLP project'"
            ],
            "application/vnd.google.colaboratory.intrinsic+json": {
              "type": "string"
            }
          },
          "metadata": {},
          "execution_count": 42
        }
      ]
    },
    {
      "cell_type": "code",
      "source": [
        "!zip -r ./GRUSongs.zip ./output/GRU\\ songs"
      ],
      "metadata": {
        "colab": {
          "base_uri": "https://localhost:8080/"
        },
        "id": "ZdCnA2TnsNae",
        "outputId": "8b923bb0-2b5a-4c04-9bf8-d07c1235e261"
      },
      "id": "ZdCnA2TnsNae",
      "execution_count": 56,
      "outputs": [
        {
          "output_type": "stream",
          "name": "stdout",
          "text": [
            "  adding: output/GRU songs/ (stored 0%)\n",
            "  adding: output/GRU songs/br_GRU_a thousand different voices.txt (deflated 47%)\n",
            "  adding: output/GRU songs/br_GRU_and do go on.txt (deflated 46%)\n",
            "  adding: output/GRU songs/br_GRU_and in the end hand in hand.txt (deflated 47%)\n",
            "  adding: output/GRU songs/br_GRU_and say there lived a hero.txt (deflated 51%)\n",
            "  adding: output/GRU songs/br_GRU_and see our dreams take flight in singapore.txt (deflated 52%)\n",
            "  adding: output/GRU songs/br_GRU_and we know.txt (deflated 48%)\n",
            "  adding: output/GRU songs/br_GRU_and your light still shines through.txt (deflated 47%)\n",
            "  adding: output/GRU songs/br_GRU_as we stood side by side.txt (deflated 48%)\n",
            "  adding: output/GRU songs/br_GRU_based on justice and equality.txt (deflated 47%)\n",
            "  adding: output/GRU songs/br_GRU_born in your sunshine.txt (deflated 46%)\n",
            "  adding: output/GRU songs/br_GRU_both firm and strong.txt (deflated 47%)\n",
            "  adding: output/GRU songs/br_GRU_but for now i know we will really really smile.txt (deflated 49%)\n",
            "  adding: output/GRU songs/br_GRU_but too late my friends and enemies.txt (deflated 48%)\n",
            "  adding: output/GRU songs/br_GRU_daylight the city has stirred to life.txt (deflated 47%)\n",
            "  adding: output/GRU songs/br_GRU_deep in my heart i just know.txt (deflated 47%)\n",
            "  adding: output/GRU songs/br_GRU_finding right roads to take.txt (deflated 48%)\n",
            "  adding: output/GRU songs/br_GRU_first light rolls across my peaceful isle.txt (deflated 50%)\n",
            "  adding: output/GRU songs/br_GRU_hand in hand in joy and harmony.txt (deflated 49%)\n",
            "  adding: output/GRU songs/br_GRU_hear the lion roar.txt (deflated 48%)\n",
            "  adding: output/GRU songs/br_GRU_hurry or you might be late.txt (deflated 47%)\n",
            "  adding: output/GRU songs/br_GRU_i have a story to tell.txt (deflated 48%)\n",
            "  adding: output/GRU songs/br_GRU_i know we will build a new world.txt (deflated 46%)\n",
            "  adding: output/GRU songs/br_GRU_i love my city is lively ways.txt (deflated 47%)\n",
            "  adding: output/GRU songs/br_GRU_i love my friends my closest ties.txt (deflated 45%)\n",
            "  adding: output/GRU songs/br_GRU_i love singapore.txt (deflated 46%)\n",
            "  adding: output/GRU songs/br_GRU_i see you enduring all weathers.txt (deflated 48%)\n",
            "  adding: output/GRU songs/br_GRU_i will play my part i will share.txt (deflated 46%)\n",
            "  adding: output/GRU songs/br_GRU_i will tell it with pride.txt (deflated 49%)\n",
            "  adding: output/GRU songs/br_GRU_i will write a book.txt (deflated 46%)\n",
            "  adding: output/GRU songs/br_GRU_i would go into my past.txt (deflated 48%)\n",
            "  adding: output/GRU songs/br_GRU_if i were braver then again i am not.txt (deflated 47%)\n",
            "  adding: output/GRU songs/br_GRU_in our hearts we have become like family.txt (deflated 50%)\n",
            "  adding: output/GRU songs/br_GRU_into the light.txt (deflated 49%)\n",
            "  adding: output/GRU songs/br_GRU_is mine as much as ours.txt (deflated 48%)\n",
            "  adding: output/GRU songs/br_GRU_it is where my strength is from.txt (deflated 49%)\n",
            "  adding: output/GRU songs/br_GRU_it is yours and mine.txt (deflated 50%)\n",
            "  adding: output/GRU songs/br_GRU_life is free.txt (deflated 47%)\n",
            "  adding: output/GRU songs/br_GRU_life is joy and harmony.txt (deflated 46%)\n",
            "  adding: output/GRU songs/br_GRU_lighting up the sky.txt (deflated 48%)\n",
            "  adding: output/GRU songs/br_GRU_love at first light.txt (deflated 48%)\n",
            "  adding: output/GRU songs/br_GRU_make some money.txt (deflated 46%)\n",
            "  adding: output/GRU songs/br_GRU_may the good we achieve as one nation.txt (deflated 47%)\n",
            "  adding: output/GRU songs/br_GRU_maybe if i had another chance.txt (deflated 47%)\n",
            "  adding: output/GRU songs/br_GRU_more than celebrations and tears.txt (deflated 47%)\n",
            "  adding: output/GRU songs/br_GRU_my life has gone.txt (deflated 50%)\n",
            "  adding: output/GRU songs/br_GRU_my singapore story.txt (deflated 46%)\n",
            "  adding: output/GRU songs/br_GRU_night fallstars twinkling on the bay.txt (deflated 47%)\n",
            "  adding: output/GRU songs/br_GRU_one nation strong and free.txt (deflated 47%)\n",
            "  adding: output/GRU songs/br_GRU_one people marching on.txt (deflated 47%)\n",
            "  adding: output/GRU songs/br_GRU_one people strong and free.txt (deflated 50%)\n",
            "  adding: output/GRU songs/br_GRU_one singapore.txt (deflated 48%)\n",
            "  adding: output/GRU songs/br_GRU_one united people.txt (deflated 46%)\n",
            "  adding: output/GRU songs/br_GRU_or the summing up of years.txt (deflated 48%)\n",
            "  adding: output/GRU songs/br_GRU_painted by people like you and me.txt (deflated 46%)\n",
            "  adding: output/GRU songs/br_GRU_right from the start we will grow.txt (deflated 49%)\n",
            "  adding: output/GRU songs/br_GRU_sing in harmony.txt (deflated 46%)\n",
            "  adding: output/GRU songs/br_GRU_singapore.txt (deflated 48%)\n",
            "  adding: output/GRU songs/br_GRU_singapore story.txt (deflated 48%)\n",
            "  adding: output/GRU songs/br_GRU_singaporeans.txt (deflated 47%)\n",
            "  adding: output/GRU songs/br_GRU_so much to look forward to.txt (deflated 44%)\n",
            "  adding: output/GRU songs/br_GRU_so that our hearts will know where we belong.txt (deflated 47%)\n",
            "  adding: output/GRU songs/br_GRU_so why do not we try if we stand side by side.txt (deflated 46%)\n",
            "  adding: output/GRU songs/br_GRU_strong and free.txt (deflated 49%)\n",
            "  adding: output/GRU songs/br_GRU_tell the story where i have a part.txt (deflated 48%)\n",
            "  adding: output/GRU songs/br_GRU_that add up to this place.txt (deflated 47%)\n",
            "  adding: output/GRU songs/br_GRU_that goes on forever with each breath that i take.txt (deflated 48%)\n",
            "  adding: output/GRU songs/br_GRU_that singapore will not make it.txt (deflated 52%)\n",
            "  adding: output/GRU songs/br_GRU_the green of your morning.txt (deflated 47%)\n",
            "  adding: output/GRU songs/br_GRU_these are my friends.txt (deflated 49%)\n",
            "  adding: output/GRU songs/br_GRU_this is my country.txt (deflated 47%)\n",
            "  adding: output/GRU songs/br_GRU_this is my family.txt (deflated 46%)\n",
            "  adding: output/GRU songs/br_GRU_this is my flag.txt (deflated 51%)\n",
            "  adding: output/GRU songs/br_GRU_this is my homeland.txt (deflated 45%)\n",
            "  adding: output/GRU songs/br_GRU_this is my life.txt (deflated 46%)\n",
            "  adding: output/GRU songs/br_GRU_this is my life story.txt (deflated 47%)\n",
            "  adding: output/GRU songs/br_GRU_too much for us to take.txt (deflated 46%)\n",
            "  adding: output/GRU songs/br_GRU_warm sunny days.txt (deflated 48%)\n",
            "  adding: output/GRU songs/br_GRU_we are a nation strong and free.txt (deflated 49%)\n",
            "  adding: output/GRU songs/br_GRU_we are a people of passion.txt (deflated 46%)\n",
            "  adding: output/GRU songs/br_GRU_we are singapore.txt (deflated 49%)\n",
            "  adding: output/GRU songs/br_GRU_we are the ones who find a way.txt (deflated 47%)\n",
            "  adding: output/GRU songs/br_GRU_we build a brighter future.txt (deflated 45%)\n",
            "  adding: output/GRU songs/br_GRU_we have stood through all the many many changes.txt (deflated 47%)\n",
            "  adding: output/GRU songs/br_GRU_we have struggled through the darkest storms.txt (deflated 46%)\n",
            "  adding: output/GRU songs/br_GRU_we share the singapore heartbeat.txt (deflated 49%)\n",
            "  adding: output/GRU songs/br_GRU_we thought we could not tame.txt (deflated 50%)\n",
            "  adding: output/GRU songs/br_GRU_we will stand together.txt (deflated 50%)\n",
            "  adding: output/GRU songs/br_GRU_we will strive each day.txt (deflated 45%)\n",
            "  adding: output/GRU songs/br_GRU_what i am feeling inside.txt (deflated 50%)\n",
            "  adding: output/GRU songs/br_GRU_when the day dawns again.txt (deflated 49%)\n",
            "  adding: output/GRU songs/br_GRU_you and me we will work together.txt (deflated 47%)\n",
            "  adding: output/GRU songs/br_GRU_you are my story.txt (deflated 48%)\n",
            "  adding: output/GRU songs/br_GRU_you are who we are.txt (deflated 47%)\n",
            "  adding: output/GRU songs/br_GRU_you know that it is.txt (deflated 49%)\n",
            "  adding: output/GRU songs/br_GRU_your needs your strength in us.txt (deflated 45%)\n",
            "  adding: output/GRU songs/human_GRU_whenever I think back.txt (deflated 47%)\n",
            "  adding: output/GRU songs/human_GRU_and so this I know.txt (deflated 46%)\n",
            "  adding: output/GRU songs/human_GRU_i am tired of being what you want me to be.txt (deflated 48%)\n",
            "  adding: output/GRU songs/human_GRU_feeling so faithless, lost under the surface.txt (deflated 45%)\n",
            "  adding: output/GRU songs/human_GRU_relight our fire, we will find our way.txt (deflated 47%)\n",
            "  adding: output/GRU songs/human_GRU_we will rise stronger together.txt (deflated 49%)\n"
          ]
        }
      ]
    },
    {
      "cell_type": "code",
      "source": [
        "from google.colab import files\n",
        "files.download(\"./GRUSongs.zip\")"
      ],
      "metadata": {
        "colab": {
          "base_uri": "https://localhost:8080/",
          "height": 17
        },
        "id": "8k6qGAnysLWd",
        "outputId": "26087a7f-b796-42fb-c5cf-05a44137beb8"
      },
      "id": "8k6qGAnysLWd",
      "execution_count": 57,
      "outputs": [
        {
          "output_type": "display_data",
          "data": {
            "text/plain": [
              "<IPython.core.display.Javascript object>"
            ],
            "application/javascript": [
              "\n",
              "    async function download(id, filename, size) {\n",
              "      if (!google.colab.kernel.accessAllowed) {\n",
              "        return;\n",
              "      }\n",
              "      const div = document.createElement('div');\n",
              "      const label = document.createElement('label');\n",
              "      label.textContent = `Downloading \"${filename}\": `;\n",
              "      div.appendChild(label);\n",
              "      const progress = document.createElement('progress');\n",
              "      progress.max = size;\n",
              "      div.appendChild(progress);\n",
              "      document.body.appendChild(div);\n",
              "\n",
              "      const buffers = [];\n",
              "      let downloaded = 0;\n",
              "\n",
              "      const channel = await google.colab.kernel.comms.open(id);\n",
              "      // Send a message to notify the kernel that we're ready.\n",
              "      channel.send({})\n",
              "\n",
              "      for await (const message of channel.messages) {\n",
              "        // Send a message to notify the kernel that we're ready.\n",
              "        channel.send({})\n",
              "        if (message.buffers) {\n",
              "          for (const buffer of message.buffers) {\n",
              "            buffers.push(buffer);\n",
              "            downloaded += buffer.byteLength;\n",
              "            progress.value = downloaded;\n",
              "          }\n",
              "        }\n",
              "      }\n",
              "      const blob = new Blob(buffers, {type: 'application/binary'});\n",
              "      const a = document.createElement('a');\n",
              "      a.href = window.URL.createObjectURL(blob);\n",
              "      a.download = filename;\n",
              "      div.appendChild(a);\n",
              "      a.click();\n",
              "      div.remove();\n",
              "    }\n",
              "  "
            ]
          },
          "metadata": {}
        },
        {
          "output_type": "display_data",
          "data": {
            "text/plain": [
              "<IPython.core.display.Javascript object>"
            ],
            "application/javascript": [
              "download(\"download_f6e8ecca-f312-4c1e-b8ed-9327b99024a2\", \"GRUSongs.zip\", 47805)"
            ]
          },
          "metadata": {}
        }
      ]
    },
    {
      "cell_type": "markdown",
      "id": "uki7vs-f8IUn",
      "metadata": {
        "id": "uki7vs-f8IUn"
      },
      "source": [
        "### Evaluate Bleu and Rouge Score"
      ]
    },
    {
      "cell_type": "code",
      "execution_count": 58,
      "id": "VGj6p5lb8LJc",
      "metadata": {
        "colab": {
          "base_uri": "https://localhost:8080/"
        },
        "id": "VGj6p5lb8LJc",
        "outputId": "4c362459-9f2b-4232-b647-25a139b4f99b"
      },
      "outputs": [
        {
          "output_type": "stream",
          "name": "stderr",
          "text": [
            "/usr/local/lib/python3.7/dist-packages/nltk/translate/bleu_score.py:490: UserWarning: \n",
            "Corpus/Sentence contains 0 counts of 2-gram overlaps.\n",
            "BLEU scores might be undesirable; use SmoothingFunction().\n",
            "  warnings.warn(_msg)\n",
            "/usr/local/lib/python3.7/dist-packages/nltk/translate/bleu_score.py:490: UserWarning: \n",
            "Corpus/Sentence contains 0 counts of 3-gram overlaps.\n",
            "BLEU scores might be undesirable; use SmoothingFunction().\n",
            "  warnings.warn(_msg)\n",
            "/usr/local/lib/python3.7/dist-packages/nltk/translate/bleu_score.py:490: UserWarning: \n",
            "Corpus/Sentence contains 0 counts of 4-gram overlaps.\n",
            "BLEU scores might be undesirable; use SmoothingFunction().\n",
            "  warnings.warn(_msg)\n"
          ]
        }
      ],
      "source": [
        "bleu_scores = {}\n",
        "rouge_scores = {}\n",
        "\n",
        "for prompt, generated in generated_results.items():\n",
        "  # clean generated\n",
        "  generated = re.sub(prompt, '', generated) # remove prompt as sometimes there is not next line token between it and next line\n",
        "  generated = re.sub(r'<[A-Z]+>|', '', generated) # remove structure tokens\n",
        "  generated = re.sub(r'\\s+', ' ', generated).strip() # remove consec spaces\n",
        "  ref = generated.split('\\n')[0] # take line after prompt\n",
        "  \n",
        "  \n",
        "  # get bleu\n",
        "  bleu_scores[prompt] = br.compute_bleu(prompt, ref, verbose=False)\n",
        "# get rouge\n",
        "  rouge_scores[prompt] = br.compute_rouge(prompt, ref, verbose=False)"
      ]
    },
    {
      "cell_type": "code",
      "execution_count": 59,
      "id": "_fDcV1OACkFI",
      "metadata": {
        "colab": {
          "base_uri": "https://localhost:8080/"
        },
        "id": "_fDcV1OACkFI",
        "outputId": "cd921d47-5dab-4d31-867e-ce86b8dcc78e"
      },
      "outputs": [
        {
          "output_type": "execute_result",
          "data": {
            "text/plain": [
              "{'Avg': 0.1692297597151838,\n",
              " 'BLEU-1': 0.02524157382620019,\n",
              " 'BLEU-2': 0.11730338210217062,\n",
              " 'BLEU-3': 0.22488243496780602,\n",
              " 'BLEU-4': 0.30949164796455864}"
            ]
          },
          "metadata": {},
          "execution_count": 59
        }
      ],
      "source": [
        "# average the each bleu score over the number of prompts sampled\n",
        "bleu_avg = {}\n",
        "\n",
        "for _,value in bleu_scores.items():\n",
        "    for key,val in value.items():\n",
        "        bleu_avg.setdefault(key, []).append(val)\n",
        "\n",
        "bleu_avg = {i:sum(bleu_avg[i])/len(bleu_avg[i]) for i in bleu_avg}\n",
        "bleu_avg"
      ]
    },
    {
      "cell_type": "code",
      "execution_count": 60,
      "id": "97efb581",
      "metadata": {
        "colab": {
          "base_uri": "https://localhost:8080/"
        },
        "id": "97efb581",
        "outputId": "6ad104d9-2036-4ba4-ef4c-d1a9abdf7b31"
      },
      "outputs": [
        {
          "output_type": "execute_result",
          "data": {
            "text/plain": [
              "{'rouge-1': 0.4171595655806181,\n",
              " 'rouge-2': 0.06013784461152883,\n",
              " 'rouge-l': 0.36082706766917283}"
            ]
          },
          "metadata": {},
          "execution_count": 60
        }
      ],
      "source": [
        "# average the each rouge score over the number of prompts sampled\n",
        "rouge_avg = {}\n",
        "\n",
        "for _,value in rouge_scores.items():\n",
        "    for key,val in value.items():\n",
        "        rouge_avg.setdefault(key, []).append(val['r'])\n",
        "\n",
        "rouge_avg = {i:sum(rouge_avg[i])/len(rouge_avg[i]) for i in rouge_avg}\n",
        "rouge_avg"
      ]
    },
    {
      "cell_type": "markdown",
      "id": "KVyZQENXoHuV",
      "metadata": {
        "id": "KVyZQENXoHuV"
      },
      "source": [
        "### Evaluate sentiment of generated text"
      ]
    },
    {
      "cell_type": "code",
      "execution_count": 61,
      "id": "SLX3B3YLEZ1N",
      "metadata": {
        "id": "SLX3B3YLEZ1N"
      },
      "outputs": [],
      "source": [
        "generated_texts = []\n",
        "for prompt, generated in generated_results.items():\n",
        "  generated = re.sub(prompt, '', generated)\n",
        "  generated = re.sub(r'<[A-Z]+>|', '', generated)\n",
        "  generated = re.sub(r'\\n', ' ', generated)\n",
        "  generated = re.sub(r'\\s+', ' ', generated)\n",
        "  generated = generated.strip()\n",
        "\n",
        "  generated_texts.append(generated)"
      ]
    },
    {
      "cell_type": "code",
      "execution_count": 62,
      "id": "dvZWrU2Vn6JT",
      "metadata": {
        "colab": {
          "base_uri": "https://localhost:8080/",
          "height": 87
        },
        "id": "dvZWrU2Vn6JT",
        "outputId": "abfae3d6-98c8-491d-fbe3-ea2efe818fe1"
      },
      "outputs": [
        {
          "output_type": "execute_result",
          "data": {
            "text/plain": [
              "\"One Singapore One people strong and free With one heart One voice We make our history We are a rainbow of a thousand colours Lighting up the sky We share the Singapore heartbeat Together you and I, we are One Singapore One Nation strong and free A thousand different voices Sing in harmony We will stand together Together hand in hand As one united people For Singapore, my homeland My Singapore Our island in the sun This is my homeland It's where my strength is from A rainbow of a thousand colours\""
            ],
            "application/vnd.google.colaboratory.intrinsic+json": {
              "type": "string"
            }
          },
          "metadata": {},
          "execution_count": 62
        }
      ],
      "source": [
        "clean_corpus = re.sub(r'<[A-Z]+>|', '', val_corpus)\n",
        "clean_corpus = re.sub(r'\\n', ' ', clean_corpus)\n",
        "clean_corpus = re.sub('\\s+', ' ', clean_corpus)\n",
        "clean_corpus = clean_corpus.strip()\n",
        "\n",
        "clean_corpus[:500]"
      ]
    },
    {
      "cell_type": "code",
      "execution_count": 63,
      "id": "haxRf2KJoFs6",
      "metadata": {
        "colab": {
          "base_uri": "https://localhost:8080/"
        },
        "id": "haxRf2KJoFs6",
        "outputId": "3d3684d6-1514-4d77-92e8-a1511ebaeee1"
      },
      "outputs": [
        {
          "output_type": "stream",
          "name": "stdout",
          "text": [
            "['fasttext-wiki-news-subwords-300', 'conceptnet-numberbatch-17-06-300', 'word2vec-ruscorpora-300', 'word2vec-google-news-300', 'glove-wiki-gigaword-50', 'glove-wiki-gigaword-100', 'glove-wiki-gigaword-200', 'glove-wiki-gigaword-300', 'glove-twitter-25', 'glove-twitter-50', 'glove-twitter-100', 'glove-twitter-200', '__testing_word2vec-matrix-synopsis']\n"
          ]
        }
      ],
      "source": [
        "print(list(downloader.info()['models'].keys()))"
      ]
    },
    {
      "cell_type": "code",
      "execution_count": 64,
      "id": "zATC5XP6oUYW",
      "metadata": {
        "colab": {
          "base_uri": "https://localhost:8080/"
        },
        "id": "zATC5XP6oUYW",
        "outputId": "7fe9ab72-cff6-4647-e84e-09aa76145733"
      },
      "outputs": [
        {
          "output_type": "stream",
          "name": "stdout",
          "text": [
            "[==================================================] 100.0% 128.1/128.1MB downloaded\n"
          ]
        }
      ],
      "source": [
        "glove_vectors = downloader.load('glove-wiki-gigaword-100')"
      ]
    },
    {
      "cell_type": "code",
      "execution_count": 65,
      "id": "1BLFM0AyobRl",
      "metadata": {
        "id": "1BLFM0AyobRl"
      },
      "outputs": [],
      "source": [
        "SENTIMENT_THEMES = [\n",
        "    'unity', 'affection', 'aspiration', 'home', \n",
        "    'relationship', 'motivation', 'nationhood', \n",
        "    'life', 'celebrate'\n",
        "]\n",
        "wv_scores = {}\n",
        "vader_scores = {}\n",
        "\n",
        "for i,gt in enumerate(generated_texts):\n",
        "  # create Sentiment object\n",
        "  sentiment = Sentiment()\n",
        "\n",
        "  # clean and tokenize text\n",
        "  sentiment.clean_text(\n",
        "      original_text = clean_corpus, \n",
        "      generated_text = gt, \n",
        "      remove_stopwords=True, \n",
        "      stop_words = set(stopwords.words(\"english\"))\n",
        "  )\n",
        "\n",
        "  # this step scores the vader sentiment of the original and generated text \n",
        "  sentiment.score_vader_sentiment()  \n",
        "\n",
        "  # this step extracts the top n similar word vectors to each theme\n",
        "  # and get their average word vector\n",
        "  sentiment.get_theme_vector(\n",
        "      sentiment_themes=SENTIMENT_THEMES, \n",
        "      embedding=glove_vectors, \n",
        "      topn=10\n",
        "  )\n",
        "\n",
        "  sentiment.score_word_vector_sentiment()  \n",
        "\n",
        "  vader_scores[i] = sentiment.vader_sentiment_scores\n",
        "  wv_scores[i] = sentiment.word_vector_sentiment_scores\n",
        "  "
      ]
    },
    {
      "cell_type": "code",
      "execution_count": 66,
      "id": "016dbf3a",
      "metadata": {
        "colab": {
          "base_uri": "https://localhost:8080/"
        },
        "id": "016dbf3a",
        "outputId": "021bf832-5751-4610-997c-febebb41112a"
      },
      "outputs": [
        {
          "output_type": "execute_result",
          "data": {
            "text/plain": [
              "{'generated': 0.8773326315789474, 'original': 1.0}"
            ]
          },
          "metadata": {},
          "execution_count": 66
        }
      ],
      "source": [
        "# average the vader scores over the number of prompts sampled\n",
        "vader_avg = {}\n",
        "\n",
        "for _,value in vader_scores.items():\n",
        "    for key, val in value.items():\n",
        "        vader_avg.setdefault(key, []).append(val['compound'])\n",
        "\n",
        "vader_avg = {i:sum(vader_avg[i])/len(vader_avg[i]) for i in vader_avg}\n",
        "vader_avg"
      ]
    },
    {
      "cell_type": "code",
      "execution_count": 67,
      "id": "212dd3ff",
      "metadata": {
        "colab": {
          "base_uri": "https://localhost:8080/"
        },
        "id": "212dd3ff",
        "outputId": "c340bc32-9641-48da-e890-979508fb133a"
      },
      "outputs": [
        {
          "output_type": "execute_result",
          "data": {
            "text/plain": [
              "{'generated': {'affection': 0.3975275,\n",
              "  'aspiration': 0.39291543,\n",
              "  'celebrate': 0.48643804,\n",
              "  'home': 0.90486515,\n",
              "  'life': 0.93340975,\n",
              "  'motivation': 0.7006636,\n",
              "  'nationhood': 0.03656669,\n",
              "  'relationship': 0.6332353,\n",
              "  'unity': 0.5899123},\n",
              " 'original': {'affection': 0.41603205,\n",
              "  'aspiration': 0.41532096,\n",
              "  'celebrate': 0.4913262,\n",
              "  'home': 0.92407805,\n",
              "  'life': 0.9641498,\n",
              "  'motivation': 0.7367799,\n",
              "  'nationhood': 0.06308556,\n",
              "  'relationship': 0.69257396,\n",
              "  'unity': 0.64110476}}"
            ]
          },
          "metadata": {},
          "execution_count": 67
        }
      ],
      "source": [
        "# average the word vector scores over the number of prompts sampled\n",
        "\n",
        "tmp = {theme: [] for theme in SENTIMENT_THEMES}\n",
        "wv_avg = {}\n",
        "wv_avg['original'] = tmp.copy()\n",
        "wv_avg['generated'] = tmp.copy()\n",
        "\n",
        "\n",
        "for og in ['original', 'generated']:\n",
        "    for theme in SENTIMENT_THEMES:\n",
        "        for i in wv_scores.keys():\n",
        "            wv_avg[og][theme] = wv_avg[og][theme] + [wv_scores[i][og][theme]]\n",
        "\n",
        "for key, val in wv_avg.items():\n",
        "    for k,v in val.items():\n",
        "        wv_avg[key][k] = np.mean(wv_avg[key][k])\n",
        "\n",
        "wv_avg"
      ]
    },
    {
      "cell_type": "code",
      "execution_count": 68,
      "id": "922990c0",
      "metadata": {
        "colab": {
          "base_uri": "https://localhost:8080/"
        },
        "id": "922990c0",
        "outputId": "5246bf11-292e-48fc-9b52-3ed4a1756cf8"
      },
      "outputs": [
        {
          "output_type": "execute_result",
          "data": {
            "text/plain": [
              "{'generated': 0.5639482, 'original': 0.59382796}"
            ]
          },
          "metadata": {},
          "execution_count": 68
        }
      ],
      "source": [
        "wv_avg_theme = {}\n",
        "wv_avg_theme['original'] = np.mean(list(wv_avg['original'].values()))\n",
        "wv_avg_theme['generated'] = np.mean(list(wv_avg['generated'].values()))\n",
        "wv_avg_theme"
      ]
    },
    {
      "cell_type": "markdown",
      "id": "53defff9",
      "metadata": {
        "id": "53defff9",
        "papermill": {
          "duration": 1.635204,
          "end_time": "2022-05-26T11:07:44.848737",
          "exception": false,
          "start_time": "2022-05-26T11:07:43.213533",
          "status": "completed"
        },
        "tags": []
      },
      "source": [
        "## Save the model"
      ]
    },
    {
      "cell_type": "code",
      "execution_count": 69,
      "id": "8b204cda",
      "metadata": {
        "execution": {
          "iopub.execute_input": "2022-05-26T11:07:47.944319Z",
          "iopub.status.busy": "2022-05-26T11:07:47.944038Z",
          "iopub.status.idle": "2022-05-26T11:07:48.003975Z",
          "shell.execute_reply": "2022-05-26T11:07:48.003230Z"
        },
        "id": "8b204cda",
        "papermill": {
          "duration": 1.372006,
          "end_time": "2022-05-26T11:07:48.005932",
          "exception": false,
          "start_time": "2022-05-26T11:07:46.633926",
          "status": "completed"
        },
        "tags": []
      },
      "outputs": [],
      "source": [
        "model_name = './TL_saved_model/text_generation_GRU_word_level.h5'\n",
        "model.save(model_name, save_format='h5')"
      ]
    },
    {
      "cell_type": "markdown",
      "id": "6021b732",
      "metadata": {
        "id": "6021b732",
        "papermill": {
          "duration": 1.317445,
          "end_time": "2022-05-26T11:07:50.636081",
          "exception": false,
          "start_time": "2022-05-26T11:07:49.318636",
          "status": "completed"
        },
        "tags": []
      },
      "source": [
        "## Converting the model to web-format\n",
        "\n",
        "To use this model on the web we need to convert it into the format that will be understandable by [tensorflowjs](https://www.tensorflow.org/js). To do so we may use [tfjs-converter](https://github.com/tensorflow/tfjs/tree/master/tfjs-converter) as following:\n",
        "\n",
        "```\n",
        "tensorflowjs_converter --input_format keras \\\n",
        "  ./experiments/text_generation_shakespeare_rnn/text_generation_shakespeare_rnn.h5 \\\n",
        "  ./demos/public/models/text_generation_shakespeare_rnn\n",
        "```\n",
        "\n",
        "You find this experiment in the [Demo app](https://trekhleb.github.io/machine-learning-experiments) and play around with it right in you browser to see how the model performs in real life."
      ]
    }
  ],
  "metadata": {
    "accelerator": "GPU",
    "colab": {
      "collapsed_sections": [],
      "name": "GRU_word_level_allstructures_TL.ipynb",
      "provenance": [],
      "machine_shape": "hm",
      "include_colab_link": true
    },
    "kernelspec": {
      "display_name": "Python 3.9.4 64-bit",
      "language": "python",
      "name": "python3"
    },
    "language_info": {
      "codemirror_mode": {
        "name": "ipython",
        "version": 3
      },
      "file_extension": ".py",
      "mimetype": "text/x-python",
      "name": "python",
      "nbconvert_exporter": "python",
      "pygments_lexer": "ipython3",
      "version": "3.9.4"
    },
    "papermill": {
      "default_parameters": {},
      "duration": 328.08526,
      "end_time": "2022-05-26T11:07:54.727910",
      "environment_variables": {},
      "exception": null,
      "input_path": "__notebook__.ipynb",
      "output_path": "__notebook__.ipynb",
      "parameters": {},
      "start_time": "2022-05-26T11:02:26.642650",
      "version": "2.3.4"
    },
    "vscode": {
      "interpreter": {
        "hash": "586d209818bf684a449db8f551e5b280da9ad8c053944ce342fb8dd6eec39ab8"
      }
    }
  },
  "nbformat": 4,
  "nbformat_minor": 5
}
