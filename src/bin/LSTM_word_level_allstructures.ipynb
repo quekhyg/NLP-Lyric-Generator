{
 "cells": [
  {
   "cell_type": "markdown",
   "id": "9a1d448c",
   "metadata": {
    "id": "JL3ZPJPgC4wC",
    "papermill": {
     "duration": 0.03882,
     "end_time": "2022-05-26T11:02:34.706822",
     "exception": false,
     "start_time": "2022-05-26T11:02:34.668002",
     "status": "completed"
    },
    "tags": []
   },
   "source": [
    "# NDP Song Lyric Generation (using RNN LSTM)"
   ]
  },
  {
   "cell_type": "markdown",
   "id": "ba55e8e1",
   "metadata": {
    "id": "3XxEZuRNIzHH",
    "papermill": {
     "duration": 0.037205,
     "end_time": "2022-05-26T11:02:34.785392",
     "exception": false,
     "start_time": "2022-05-26T11:02:34.748187",
     "status": "completed"
    },
    "tags": []
   },
   "source": [
    "_Inspired by [Text generation with an RNN](https://www.tensorflow.org/tutorials/text/text_generation)_"
   ]
  },
  {
   "cell_type": "code",
   "execution_count": null,
   "id": "ab0da428",
   "metadata": {},
   "outputs": [],
   "source": [
    "# codes to mount your google drive folder\n",
    "from google.colab import drive\n",
    "drive.mount('/content/drive')\n",
    "%cd /content/drive/Othercomputers/My Computer (1)/CS605_NLP_for_Smart_Assistants/Project/NLP-Lyric-Generator/src/bin"
   ]
  },
  {
   "cell_type": "markdown",
   "id": "1b9c99e0",
   "metadata": {
    "id": "IDJctDhhEDTD",
    "papermill": {
     "duration": 0.0385,
     "end_time": "2022-05-26T11:02:34.861223",
     "exception": false,
     "start_time": "2022-05-26T11:02:34.822723",
     "status": "completed"
    },
    "tags": []
   },
   "source": [
    "## Import dependencies"
   ]
  },
  {
   "cell_type": "code",
   "execution_count": 1,
   "id": "3213a8a6",
   "metadata": {
    "execution": {
     "iopub.execute_input": "2022-05-26T11:02:34.939193Z",
     "iopub.status.busy": "2022-05-26T11:02:34.938766Z",
     "iopub.status.idle": "2022-05-26T11:02:41.630933Z",
     "shell.execute_reply": "2022-05-26T11:02:41.629397Z"
    },
    "id": "SpueB6zADYgE",
    "outputId": "3f4e9997-8ce8-4ef8-f8f9-320c9a44e03b",
    "papermill": {
     "duration": 6.733755,
     "end_time": "2022-05-26T11:02:41.632807",
     "exception": false,
     "start_time": "2022-05-26T11:02:34.899052",
     "status": "completed"
    },
    "tags": []
   },
   "outputs": [
    {
     "name": "stdout",
     "output_type": "stream",
     "text": [
      "Python version: 3.7.12\n",
      "Tensorflow version: 2.6.3\n",
      "Keras version: 2.6.0\n"
     ]
    }
   ],
   "source": [
    "import tensorflow as tf\n",
    "import matplotlib.pyplot as plt\n",
    "import numpy as np\n",
    "import platform\n",
    "import time\n",
    "import pathlib\n",
    "import os\n",
    "import re\n",
    "import sys\n",
    "\n",
    "from nltk.tokenize import word_tokenize\n",
    "from nltk.corpus import stopwords\n",
    "from wordcloud import WordCloud\n",
    "from PIL import Image\n",
    "from sklearn.model_selection import train_test_split\n",
    "\n",
    "print('Python version:', platform.python_version())\n",
    "print('Tensorflow version:', tf.__version__)\n",
    "print('Keras version:', tf.keras.__version__)"
   ]
  },
  {
   "cell_type": "code",
   "execution_count": null,
   "id": "224f7074",
   "metadata": {},
   "outputs": [],
   "source": [
    "### Custom Imports\n",
    "sys.path.append('../')\n",
    "import lib.utilities as utils"
   ]
  },
  {
   "cell_type": "markdown",
   "id": "7d13c1c8",
   "metadata": {
    "id": "ciI_JnnNEGCw",
    "papermill": {
     "duration": 0.037845,
     "end_time": "2022-05-26T11:02:41.709113",
     "exception": false,
     "start_time": "2022-05-26T11:02:41.671268",
     "status": "completed"
    },
    "tags": []
   },
   "source": [
    "## Download the dataset"
   ]
  },
  {
   "cell_type": "code",
   "execution_count": 2,
   "id": "0239e440",
   "metadata": {
    "execution": {
     "iopub.execute_input": "2022-05-26T11:02:41.785595Z",
     "iopub.status.busy": "2022-05-26T11:02:41.785103Z",
     "iopub.status.idle": "2022-05-26T11:02:41.788814Z",
     "shell.execute_reply": "2022-05-26T11:02:41.788062Z"
    },
    "papermill": {
     "duration": 0.043688,
     "end_time": "2022-05-26T11:02:41.790387",
     "exception": false,
     "start_time": "2022-05-26T11:02:41.746699",
     "status": "completed"
    },
    "tags": []
   },
   "outputs": [],
   "source": [
    "PATH = '../../data'"
   ]
  },
  {
   "cell_type": "code",
   "execution_count": 3,
   "id": "1ccc87aa",
   "metadata": {
    "execution": {
     "iopub.execute_input": "2022-05-26T11:02:41.867782Z",
     "iopub.status.busy": "2022-05-26T11:02:41.867132Z",
     "iopub.status.idle": "2022-05-26T11:02:41.891132Z",
     "shell.execute_reply": "2022-05-26T11:02:41.890519Z"
    },
    "id": "Vk2HldshEOph",
    "outputId": "45342704-eb1c-4863-a4e4-8a94d9cc764b",
    "papermill": {
     "duration": 0.064462,
     "end_time": "2022-05-26T11:02:41.892731",
     "exception": false,
     "start_time": "2022-05-26T11:02:41.828269",
     "status": "completed"
    },
    "tags": []
   },
   "outputs": [
    {
     "data": {
      "text/plain": [
       "['Someone Someday.txt',\n",
       " 'I Love Singapore.txt',\n",
       " 'We Will Get There.txt',\n",
       " 'Shine for Singapore.txt',\n",
       " 'There_s A Part For Everyone.txt']"
      ]
     },
     "execution_count": 3,
     "metadata": {},
     "output_type": "execute_result"
    }
   ],
   "source": [
    "dataset_file_names = os.listdir(PATH)\n",
    "dataset_file_names[:5]"
   ]
  },
  {
   "cell_type": "code",
   "execution_count": 4,
   "id": "57417de2",
   "metadata": {
    "execution": {
     "iopub.execute_input": "2022-05-26T11:02:41.970965Z",
     "iopub.status.busy": "2022-05-26T11:02:41.970458Z",
     "iopub.status.idle": "2022-05-26T11:02:42.093475Z",
     "shell.execute_reply": "2022-05-26T11:02:42.092886Z"
    },
    "papermill": {
     "duration": 0.163978,
     "end_time": "2022-05-26T11:02:42.095458",
     "exception": false,
     "start_time": "2022-05-26T11:02:41.931480",
     "status": "completed"
    },
    "tags": []
   },
   "outputs": [],
   "source": [
    "corpus = ''\n",
    "for i,file in enumerate(dataset_file_names):\n",
    "    text = open(PATH + '/' + file, mode='r').read()\n",
    "    if i == 0:\n",
    "        corpus += text\n",
    "    else:\n",
    "        corpus = corpus + '\\n\\n' + text"
   ]
  },
  {
   "cell_type": "markdown",
   "id": "61d6d5db",
   "metadata": {
    "id": "eKTy6YS5Gx-g",
    "papermill": {
     "duration": 0.038277,
     "end_time": "2022-05-26T11:02:42.173438",
     "exception": false,
     "start_time": "2022-05-26T11:02:42.135161",
     "status": "completed"
    },
    "tags": []
   },
   "source": [
    "## Analyze the dataset"
   ]
  },
  {
   "cell_type": "code",
   "execution_count": 6,
   "id": "9de20f34",
   "metadata": {
    "execution": {
     "iopub.execute_input": "2022-05-26T11:02:42.339674Z",
     "iopub.status.busy": "2022-05-26T11:02:42.339130Z",
     "iopub.status.idle": "2022-05-26T11:02:42.344315Z",
     "shell.execute_reply": "2022-05-26T11:02:42.343109Z"
    },
    "id": "CzfX7hK8G0bn",
    "outputId": "dbcd9c2e-967d-404f-ebd4-387ee0b629d7",
    "papermill": {
     "duration": 0.046119,
     "end_time": "2022-05-26T11:02:42.346560",
     "exception": false,
     "start_time": "2022-05-26T11:02:42.300441",
     "status": "completed"
    },
    "tags": []
   },
   "outputs": [
    {
     "name": "stdout",
     "output_type": "stream",
     "text": [
      "Length of Corpus: 56772 characters\n"
     ]
    }
   ],
   "source": [
    "print('Length of Corpus: {} characters'.format(len(corpus)))"
   ]
  },
  {
   "cell_type": "code",
   "execution_count": 7,
   "id": "6cf430e0",
   "metadata": {
    "execution": {
     "iopub.execute_input": "2022-05-26T11:02:42.425021Z",
     "iopub.status.busy": "2022-05-26T11:02:42.424517Z",
     "iopub.status.idle": "2022-05-26T11:02:42.428272Z",
     "shell.execute_reply": "2022-05-26T11:02:42.427588Z"
    },
    "id": "nknOAOuoH-Av",
    "outputId": "7030d3f8-c6a8-43e0-81a0-c1e87d677314",
    "papermill": {
     "duration": 0.045326,
     "end_time": "2022-05-26T11:02:42.430962",
     "exception": false,
     "start_time": "2022-05-26T11:02:42.385636",
     "status": "completed"
    },
    "tags": []
   },
   "outputs": [
    {
     "name": "stdout",
     "output_type": "stream",
     "text": [
      "<VERSE>\n",
      "Didn't they used to say we're ordinary\n",
      "Didn't we take it as that and put ourselves down\n",
      "Don't we all don't we all think it's necessary\n",
      "To prove to them that we'll be\n",
      "We'll be someone someday\n",
      "Aren't you tired so very tired of waiting\n",
      "For something else someone else to give us a hand\n",
      "Pick yourself up pick yourself up get ready\n",
      "We'll go make a difference\n",
      "We'll be someone someday\n",
      "\n",
      "<CHORUS>\n",
      "That's right we'll make you proud of us\n",
      "You and me\n",
      "That means that we should be happy\n",
      "Let it come to us naturally\n",
      "\n",
      "<VERSE>\n",
      "Look around look around us\n",
      "Weren't there many \n",
      "who patronised contradict us and pushed us aside\n",
      "Recognise realise start believing\n",
      "Sure there'll be some despair\n",
      "But don't let yourself fall\n",
      "\n",
      "<VERSE>\n",
      "It's now a quarter of a century\n",
      "We have worked so hard now just to be free\n",
      "Through all the heartaches and the pains\n",
      "We have stood through all the many many changes\n",
      "In our hearts we have become like family\n",
      "Can't you see, yeah, can't you see, ooh\n",
      "\n",
      "<VERSE>\n",
      "We have only what we have in \n"
     ]
    }
   ],
   "source": [
    "# Take a look at the first 1000 characters in text.\n",
    "print(corpus[:1000])"
   ]
  },
  {
   "cell_type": "code",
   "execution_count": 8,
   "id": "28c7d4ae",
   "metadata": {
    "execution": {
     "iopub.execute_input": "2022-05-26T11:02:42.512094Z",
     "iopub.status.busy": "2022-05-26T11:02:42.511558Z",
     "iopub.status.idle": "2022-05-26T11:02:42.542215Z",
     "shell.execute_reply": "2022-05-26T11:02:42.540960Z"
    },
    "papermill": {
     "duration": 0.071975,
     "end_time": "2022-05-26T11:02:42.544335",
     "exception": false,
     "start_time": "2022-05-26T11:02:42.472360",
     "status": "completed"
    },
    "tags": []
   },
   "outputs": [
    {
     "name": "stdout",
     "output_type": "stream",
     "text": [
      "Length of Corpus: 13476 words\n",
      "Vocab Size: 1048\n",
      "Vocab Examples: ['<VERSE>', '\\n', 'did', 'not', 'they', 'used', 'to', 'say', 'we', 'are', 'ordinary', '\\n', 'did', 'not', 'we', 'take', 'it', 'as', 'that', 'and']\n"
     ]
    }
   ],
   "source": [
    "# clean corpus\n",
    "corpus_clean = utils.decontraction(corpus)\n",
    "corpus_clean = utils.remove_punct(corpus_clean, '\\<|\\>')\n",
    "\n",
    "# tokenize and count the number of words\n",
    "corpus_clean = re.sub('\\n\\n', '\\n', corpus_clean)\n",
    "corpus_clean = re.sub('\\n', ' \\n ', corpus_clean)\n",
    "tokens = re.split(' ', corpus_clean)\n",
    "tokens_clean = []\n",
    "structures = ['<BRIDGE>', '<CHORUS>', '<OTHERS>', '<PRECHORUS>', '<PRELUDE>', '<VERSE>']\n",
    "for i,t in enumerate(tokens):\n",
    "    if t:                                  # remove empty strings\n",
    "        if i < len(tokens)-1 and t == '\\n' and tokens[i+1] in structures:\n",
    "            tokens_clean.append('\\n\\n')    # change to double line break for token before structure \n",
    "        elif t not in structures:\n",
    "            tokens_clean.append(t.lower()) # lower case if not structure tokens\n",
    "        else:\n",
    "            tokens_clean.append(t)\n",
    "    \n",
    "print('Length of Corpus: {} words'.format(len(tokens_clean)))\n",
    "\n",
    "# The unique words in the file\n",
    "vocab = sorted(set(tokens_clean))\n",
    "print('Vocab Size:', len(vocab))\n",
    "print('Vocab Examples:', tokens_clean[:20])"
   ]
  },
  {
   "cell_type": "code",
   "execution_count": 9,
   "id": "f6b4f9b8",
   "metadata": {
    "execution": {
     "iopub.execute_input": "2022-05-26T11:02:42.624934Z",
     "iopub.status.busy": "2022-05-26T11:02:42.624466Z",
     "iopub.status.idle": "2022-05-26T11:02:42.629260Z",
     "shell.execute_reply": "2022-05-26T11:02:42.628219Z"
    },
    "papermill": {
     "duration": 0.046873,
     "end_time": "2022-05-26T11:02:42.631406",
     "exception": false,
     "start_time": "2022-05-26T11:02:42.584533",
     "status": "completed"
    },
    "tags": []
   },
   "outputs": [
    {
     "name": "stdout",
     "output_type": "stream",
     "text": [
      "['<VERSE>', '\\n', 'did', 'not', 'they', 'used', 'to', 'say', 'we', 'are', 'ordinary', '\\n', 'did', 'not', 'we', 'take', 'it', 'as', 'that', 'and', 'put', 'ourselves', 'down', '\\n', 'do', 'not', 'we', 'all', 'do', 'not', 'we', 'all', 'think', 'it', 'is', 'necessary', '\\n', 'to', 'prove', 'to', 'them', 'that', 'we', 'will', 'be', '\\n', 'we', 'will', 'be', 'someone', 'someday', '\\n', 'are', 'not', 'you', 'tired', 'so', 'very', 'tired', 'of', 'waiting', '\\n', 'for', 'something', 'else', 'someone', 'else', 'to', 'give', 'us', 'a', 'hand', '\\n', 'pick', 'yourself', 'up', 'pick', 'yourself', 'up', 'get', 'ready', '\\n', 'we', 'will', 'go', 'make', 'a', 'difference', '\\n', 'we', 'will', 'be', 'someone', 'someday', '\\n\\n', '<CHORUS>', '\\n', 'that', 'is', 'right']\n"
     ]
    }
   ],
   "source": [
    "print(tokens_clean[:100])"
   ]
  },
  {
   "cell_type": "code",
   "execution_count": 10,
   "id": "0ae446b1",
   "metadata": {
    "execution": {
     "iopub.execute_input": "2022-05-26T11:02:42.712092Z",
     "iopub.status.busy": "2022-05-26T11:02:42.711619Z",
     "iopub.status.idle": "2022-05-26T11:02:43.374613Z",
     "shell.execute_reply": "2022-05-26T11:02:43.373923Z"
    },
    "papermill": {
     "duration": 0.706406,
     "end_time": "2022-05-26T11:02:43.378278",
     "exception": false,
     "start_time": "2022-05-26T11:02:42.671872",
     "status": "completed"
    },
    "tags": []
   },
   "outputs": [
    {
     "data": {
      "image/png": "[encoded data removed]",
      "text/plain": [
       "<Figure size 864x720 with 1 Axes>"
      ]
     },
     "metadata": {
      "needs_background": "light"
     },
     "output_type": "display_data"
    }
   ],
   "source": [
    "# Unigram Word Cloud\n",
    "\n",
    "# remove stopwords\n",
    "stop = set(stopwords.words('english'))\n",
    "stop.update(structures)\n",
    "stop.update(['\\n', '\\n\\n'])\n",
    "tokens_no_stopwords = [t for t in tokens_clean if t not in stop]\n",
    "\n",
    "corpus_dict = {}\n",
    "for word in tokens_no_stopwords:\n",
    "    corpus_dict[word] = corpus_dict.get(word, 0) + 1\n",
    "\n",
    "sg_mask = np.array(Image.open(\"../input/ndp-songs/singaporemap.png\"))\n",
    "my_cloud = WordCloud(background_color='white', stopwords=stop, mask=sg_mask).generate_from_frequencies(corpus_dict)\n",
    "\n",
    "plt.figure(figsize=(12,10))\n",
    "plt.imshow(my_cloud, interpolation='bilinear') \n",
    "plt.axis('off')\n",
    "plt.show()"
   ]
  },
  {
   "cell_type": "markdown",
   "id": "53d02df3",
   "metadata": {
    "id": "GqpuKh9HMNnf",
    "papermill": {
     "duration": 0.043691,
     "end_time": "2022-05-26T11:02:43.465502",
     "exception": false,
     "start_time": "2022-05-26T11:02:43.421811",
     "status": "completed"
    },
    "tags": []
   },
   "source": [
    "## Process the dataset"
   ]
  },
  {
   "cell_type": "markdown",
   "id": "915966b8",
   "metadata": {
    "id": "6dj4e-AGMaV4",
    "papermill": {
     "duration": 0.04333,
     "end_time": "2022-05-26T11:02:43.551769",
     "exception": false,
     "start_time": "2022-05-26T11:02:43.508439",
     "status": "completed"
    },
    "tags": []
   },
   "source": [
    "### Vectorize the text\n",
    "\n",
    "Before feeding the text to our RNN we need to convert the text from a sequence of characters to a sequence of numbers. To do so we will detect all unique characters in the text, form a vocabulary out of it and replace each character with its index in the vocabulary."
   ]
  },
  {
   "cell_type": "code",
   "execution_count": 11,
   "id": "da851248",
   "metadata": {
    "execution": {
     "iopub.execute_input": "2022-05-26T11:02:43.638935Z",
     "iopub.status.busy": "2022-05-26T11:02:43.638698Z",
     "iopub.status.idle": "2022-05-26T11:02:43.643901Z",
     "shell.execute_reply": "2022-05-26T11:02:43.643239Z"
    },
    "papermill": {
     "duration": 0.050838,
     "end_time": "2022-05-26T11:02:43.645542",
     "exception": false,
     "start_time": "2022-05-26T11:02:43.594704",
     "status": "completed"
    },
    "tags": []
   },
   "outputs": [],
   "source": [
    "# get word and indices mapping\n",
    "word_indices = {}\n",
    "indices_word = {}\n",
    "for i, w in enumerate(sorted(set(tokens_clean))):\n",
    "    word_indices[w] = i\n",
    "    indices_word[i] = w"
   ]
  },
  {
   "cell_type": "code",
   "execution_count": 12,
   "id": "7ec4e65b",
   "metadata": {
    "execution": {
     "iopub.execute_input": "2022-05-26T11:02:43.733460Z",
     "iopub.status.busy": "2022-05-26T11:02:43.732738Z",
     "iopub.status.idle": "2022-05-26T11:02:43.753297Z",
     "shell.execute_reply": "2022-05-26T11:02:43.752076Z"
    },
    "papermill": {
     "duration": 0.066407,
     "end_time": "2022-05-26T11:02:43.755004",
     "exception": false,
     "start_time": "2022-05-26T11:02:43.688597",
     "status": "completed"
    },
    "tags": []
   },
   "outputs": [],
   "source": [
    "# convert data to indices numbers (vectorize):\n",
    "tokens_clean = np.array(tokens_clean)\n",
    "tokens_clean_idx = np.vectorize(word_indices.get)(tokens_clean)"
   ]
  },
  {
   "cell_type": "markdown",
   "id": "76388ef3",
   "metadata": {
    "papermill": {
     "duration": 0.042837,
     "end_time": "2022-05-26T11:02:43.841046",
     "exception": false,
     "start_time": "2022-05-26T11:02:43.798209",
     "status": "completed"
    },
    "tags": []
   },
   "source": [
    "### Create sequences"
   ]
  },
  {
   "cell_type": "code",
   "execution_count": 13,
   "id": "3eb5c137",
   "metadata": {
    "execution": {
     "iopub.execute_input": "2022-05-26T11:02:43.929038Z",
     "iopub.status.busy": "2022-05-26T11:02:43.928614Z",
     "iopub.status.idle": "2022-05-26T11:02:46.685967Z",
     "shell.execute_reply": "2022-05-26T11:02:46.685232Z"
    },
    "papermill": {
     "duration": 2.803466,
     "end_time": "2022-05-26T11:02:46.687935",
     "exception": false,
     "start_time": "2022-05-26T11:02:43.884469",
     "status": "completed"
    },
    "tags": []
   },
   "outputs": [
    {
     "name": "stderr",
     "output_type": "stream",
     "text": [
      "2022-05-26 11:02:44.007938: I tensorflow/stream_executor/cuda/cuda_gpu_executor.cc:937] successful NUMA node read from SysFS had negative value (-1), but there must be at least one NUMA node, so returning NUMA node zero\n",
      "2022-05-26 11:02:44.134166: I tensorflow/stream_executor/cuda/cuda_gpu_executor.cc:937] successful NUMA node read from SysFS had negative value (-1), but there must be at least one NUMA node, so returning NUMA node zero\n",
      "2022-05-26 11:02:44.134932: I tensorflow/stream_executor/cuda/cuda_gpu_executor.cc:937] successful NUMA node read from SysFS had negative value (-1), but there must be at least one NUMA node, so returning NUMA node zero\n",
      "2022-05-26 11:02:44.137157: I tensorflow/core/platform/cpu_feature_guard.cc:142] This TensorFlow binary is optimized with oneAPI Deep Neural Network Library (oneDNN) to use the following CPU instructions in performance-critical operations:  AVX2 AVX512F FMA\n",
      "To enable them in other operations, rebuild TensorFlow with the appropriate compiler flags.\n",
      "2022-05-26 11:02:44.137441: I tensorflow/stream_executor/cuda/cuda_gpu_executor.cc:937] successful NUMA node read from SysFS had negative value (-1), but there must be at least one NUMA node, so returning NUMA node zero\n",
      "2022-05-26 11:02:44.138123: I tensorflow/stream_executor/cuda/cuda_gpu_executor.cc:937] successful NUMA node read from SysFS had negative value (-1), but there must be at least one NUMA node, so returning NUMA node zero\n",
      "2022-05-26 11:02:44.138784: I tensorflow/stream_executor/cuda/cuda_gpu_executor.cc:937] successful NUMA node read from SysFS had negative value (-1), but there must be at least one NUMA node, so returning NUMA node zero\n",
      "2022-05-26 11:02:46.373240: I tensorflow/stream_executor/cuda/cuda_gpu_executor.cc:937] successful NUMA node read from SysFS had negative value (-1), but there must be at least one NUMA node, so returning NUMA node zero\n",
      "2022-05-26 11:02:46.374152: I tensorflow/stream_executor/cuda/cuda_gpu_executor.cc:937] successful NUMA node read from SysFS had negative value (-1), but there must be at least one NUMA node, so returning NUMA node zero\n",
      "2022-05-26 11:02:46.374981: I tensorflow/stream_executor/cuda/cuda_gpu_executor.cc:937] successful NUMA node read from SysFS had negative value (-1), but there must be at least one NUMA node, so returning NUMA node zero\n",
      "2022-05-26 11:02:46.376514: I tensorflow/core/common_runtime/gpu/gpu_device.cc:1510] Created device /job:localhost/replica:0/task:0/device:GPU:0 with 15403 MB memory:  -> device: 0, name: Tesla P100-PCIE-16GB, pci bus id: 0000:00:04.0, compute capability: 6.0\n"
     ]
    }
   ],
   "source": [
    "word_dataset = tf.data.Dataset.from_tensor_slices(tokens_clean_idx)"
   ]
  },
  {
   "cell_type": "code",
   "execution_count": 14,
   "id": "f193cf89",
   "metadata": {
    "execution": {
     "iopub.execute_input": "2022-05-26T11:02:46.829760Z",
     "iopub.status.busy": "2022-05-26T11:02:46.828302Z",
     "iopub.status.idle": "2022-05-26T11:02:46.937935Z",
     "shell.execute_reply": "2022-05-26T11:02:46.937209Z"
    },
    "papermill": {
     "duration": 0.208652,
     "end_time": "2022-05-26T11:02:46.941742",
     "exception": false,
     "start_time": "2022-05-26T11:02:46.733090",
     "status": "completed"
    },
    "tags": []
   },
   "outputs": [
    {
     "name": "stdout",
     "output_type": "stream",
     "text": [
      "'<VERSE> \\n did not they used to say we are ordinary \\n did not we take'\n",
      "'\\n did not they used to say we are ordinary \\n did not we take it'\n",
      "'did not they used to say we are ordinary \\n did not we take it as'\n"
     ]
    },
    {
     "name": "stderr",
     "output_type": "stream",
     "text": [
      "2022-05-26 11:02:46.909024: W tensorflow/core/framework/dataset.cc:679] Input of Window will not be optimized because the dataset does not implement the AsGraphDefInternal() method needed to apply optimizations.\n",
      "2022-05-26 11:02:46.924725: W tensorflow/core/data/root_dataset.cc:167] Optimization loop failed: Cancelled: Operation was cancelled\n",
      "2022-05-26 11:02:46.930717: W tensorflow/core/data/root_dataset.cc:167] Optimization loop failed: Cancelled: Operation was cancelled\n"
     ]
    }
   ],
   "source": [
    "SEQUENCE_LEN = 15\n",
    "sequences = word_dataset.window(SEQUENCE_LEN + 1, 1, drop_remainder=True)\n",
    "\n",
    "for window in sequences.take(3):\n",
    "    print(repr(' '.join(np.vectorize(indices_word.get)(np.array(list(window.as_numpy_iterator()))))))"
   ]
  },
  {
   "cell_type": "code",
   "execution_count": 15,
   "id": "d6feab8f",
   "metadata": {
    "execution": {
     "iopub.execute_input": "2022-05-26T11:02:47.108030Z",
     "iopub.status.busy": "2022-05-26T11:02:47.107771Z",
     "iopub.status.idle": "2022-05-26T11:02:47.220154Z",
     "shell.execute_reply": "2022-05-26T11:02:47.218909Z"
    },
    "papermill": {
     "duration": 0.191308,
     "end_time": "2022-05-26T11:02:47.223446",
     "exception": false,
     "start_time": "2022-05-26T11:02:47.032138",
     "status": "completed"
    },
    "tags": []
   },
   "outputs": [
    {
     "name": "stdout",
     "output_type": "stream",
     "text": [
      "tf.Tensor([  7   0 232 585 878 950 897 723 978  45 607   0 232 585 978 855], shape=(16,), dtype=int64)\n",
      "tf.Tensor([  0 232 585 878 950 897 723 978  45 607   0 232 585 978 855 448], shape=(16,), dtype=int64)\n",
      "tf.Tensor([232 585 878 950 897 723 978  45 607   0 232 585 978 855 448  50], shape=(16,), dtype=int64)\n"
     ]
    },
    {
     "name": "stderr",
     "output_type": "stream",
     "text": [
      "2022-05-26 11:02:47.176031: I tensorflow/compiler/mlir/mlir_graph_optimization_pass.cc:185] None of the MLIR Optimization Passes are enabled (registered 2)\n"
     ]
    }
   ],
   "source": [
    "sequences = sequences.flat_map(lambda window: window.batch(SEQUENCE_LEN + 1))\n",
    "for elem in sequences.take(3):\n",
    "    print(elem)\n"
   ]
  },
  {
   "cell_type": "code",
   "execution_count": 16,
   "id": "7765418b",
   "metadata": {
    "execution": {
     "iopub.execute_input": "2022-05-26T11:02:47.344936Z",
     "iopub.status.busy": "2022-05-26T11:02:47.344681Z",
     "iopub.status.idle": "2022-05-26T11:02:47.459845Z",
     "shell.execute_reply": "2022-05-26T11:02:47.459116Z"
    },
    "papermill": {
     "duration": 0.169017,
     "end_time": "2022-05-26T11:02:47.462336",
     "exception": false,
     "start_time": "2022-05-26T11:02:47.293319",
     "status": "completed"
    },
    "tags": []
   },
   "outputs": [
    {
     "name": "stdout",
     "output_type": "stream",
     "text": [
      "tf.Tensor([  7   0 232 585 878 950 897 723 978  45 607   0 232 585 978], shape=(15,), dtype=int64) -----> tf.Tensor([855], shape=(1,), dtype=int64)\n",
      "tf.Tensor([  0 232 585 878 950 897 723 978  45 607   0 232 585 978 855], shape=(15,), dtype=int64) -----> tf.Tensor([448], shape=(1,), dtype=int64)\n",
      "tf.Tensor([232 585 878 950 897 723 978  45 607   0 232 585 978 855 448], shape=(15,), dtype=int64) -----> tf.Tensor([50], shape=(1,), dtype=int64)\n"
     ]
    }
   ],
   "source": [
    "sequences = sequences.map(lambda window: (window[:-1], window[-1:]))\n",
    "X_train = sequences.map(lambda X,y: X)\n",
    "y_train = sequences.map(lambda X,y: y)\n",
    "\n",
    "for elem1, elem2 in zip(X_train.take(3), y_train.take(3)):\n",
    "    print(elem1, '----->', elem2)"
   ]
  },
  {
   "cell_type": "code",
   "execution_count": 17,
   "id": "7fb9d44a",
   "metadata": {
    "execution": {
     "iopub.execute_input": "2022-05-26T11:02:47.557292Z",
     "iopub.status.busy": "2022-05-26T11:02:47.557067Z",
     "iopub.status.idle": "2022-05-26T11:02:52.689931Z",
     "shell.execute_reply": "2022-05-26T11:02:52.688857Z"
    },
    "papermill": {
     "duration": 5.181908,
     "end_time": "2022-05-26T11:02:52.691772",
     "exception": false,
     "start_time": "2022-05-26T11:02:47.509864",
     "status": "completed"
    },
    "tags": []
   },
   "outputs": [
    {
     "name": "stdout",
     "output_type": "stream",
     "text": [
      "dataset size: 13461\n"
     ]
    }
   ],
   "source": [
    "print('dataset size: {}'.format(len(list(sequences.as_numpy_iterator()))))"
   ]
  },
  {
   "cell_type": "code",
   "execution_count": 18,
   "id": "769f9bd3",
   "metadata": {
    "execution": {
     "iopub.execute_input": "2022-05-26T11:02:52.786646Z",
     "iopub.status.busy": "2022-05-26T11:02:52.786044Z",
     "iopub.status.idle": "2022-05-26T11:02:54.010661Z",
     "shell.execute_reply": "2022-05-26T11:02:54.009870Z"
    },
    "papermill": {
     "duration": 1.27401,
     "end_time": "2022-05-26T11:02:54.012628",
     "exception": false,
     "start_time": "2022-05-26T11:02:52.738618",
     "status": "completed"
    },
    "tags": []
   },
   "outputs": [
    {
     "name": "stdout",
     "output_type": "stream",
     "text": [
      "Batched dataset size: 210\n"
     ]
    }
   ],
   "source": [
    "BATCH_SIZE = 64\n",
    "\n",
    "# Buffer size to shuffle the dataset (TF data is designed to work\n",
    "# with possibly infinite sequences, so it doesn't attempt to shuffle\n",
    "# the entire sequence in memory. Instead, it maintains a buffer in\n",
    "# which it shuffles elements).\n",
    "BUFFER_SIZE = 10000\n",
    "\n",
    "AUTOTUNE = tf.data.AUTOTUNE\n",
    "dataset = sequences.shuffle(BUFFER_SIZE).batch(BATCH_SIZE, drop_remainder=True).cache().prefetch(buffer_size=AUTOTUNE)\n",
    "\n",
    "print('Batched dataset size: {}'.format(len(list(dataset.as_numpy_iterator()))))"
   ]
  },
  {
   "cell_type": "code",
   "execution_count": 19,
   "id": "9e9e33a5",
   "metadata": {
    "execution": {
     "iopub.execute_input": "2022-05-26T11:02:54.107789Z",
     "iopub.status.busy": "2022-05-26T11:02:54.107234Z",
     "iopub.status.idle": "2022-05-26T11:02:54.111916Z",
     "shell.execute_reply": "2022-05-26T11:02:54.111203Z"
    },
    "papermill": {
     "duration": 0.054044,
     "end_time": "2022-05-26T11:02:54.113571",
     "exception": false,
     "start_time": "2022-05-26T11:02:54.059527",
     "status": "completed"
    },
    "tags": []
   },
   "outputs": [],
   "source": [
    "# def create_sequences(tokens, sequence_len, step=1):\n",
    "#     \"\"\"Create pairs of sequences and next word \n",
    "\n",
    "#     Args: \n",
    "#       tokens (list): list containing tokens in sequence\n",
    "#       sequence_len (int): length of each created sequence\n",
    "#       step (int): number of steps to take after creating each sequence\n",
    "    \n",
    "#     Returns:\n",
    "#       sentences (list) list of sequences in same order as next_words\n",
    "#       next_words (list) list of next words in same order as sentences\n",
    "#     \"\"\"\n",
    "    \n",
    "#     sentences = []\n",
    "#     next_words = []\n",
    "\n",
    "#     for i in range(0, len(tokens) - sequence_len, step):\n",
    "#         sentences.append(tokens[i: i + sequence_len])\n",
    "#         next_words.append(tokens[i + sequence_len])\n",
    "        \n",
    "#     return sentences, next_words\n",
    "\n",
    "\n",
    "# STEP = 1\n",
    "# SEQUENCE_LEN = 15\n",
    "\n",
    "# sentences, next_words = create_sequences(tokens_clean_idx, SEQUENCE_LEN, STEP)\n",
    "# print('Number of sequences created:', len(sentences))"
   ]
  },
  {
   "cell_type": "code",
   "execution_count": 20,
   "id": "b381a60a",
   "metadata": {
    "execution": {
     "iopub.execute_input": "2022-05-26T11:02:54.207751Z",
     "iopub.status.busy": "2022-05-26T11:02:54.207427Z",
     "iopub.status.idle": "2022-05-26T11:02:54.211105Z",
     "shell.execute_reply": "2022-05-26T11:02:54.209933Z"
    },
    "papermill": {
     "duration": 0.052638,
     "end_time": "2022-05-26T11:02:54.212734",
     "exception": false,
     "start_time": "2022-05-26T11:02:54.160096",
     "status": "completed"
    },
    "tags": []
   },
   "outputs": [],
   "source": [
    "# SEED = 2022\n",
    "# X_train, X_test, Y_train, Y_test = train_test_split(sentences, next_words, train_size=0.8, random_state=SEED)\n",
    "# print('Training size:', len(X_train))\n",
    "# print('Testing size:', len(X_test))"
   ]
  },
  {
   "cell_type": "markdown",
   "id": "979b6e1b",
   "metadata": {
    "papermill": {
     "duration": 0.047075,
     "end_time": "2022-05-26T11:02:54.306234",
     "exception": false,
     "start_time": "2022-05-26T11:02:54.259159",
     "status": "completed"
    },
    "tags": []
   },
   "source": [
    "### Build and Test Model"
   ]
  },
  {
   "cell_type": "code",
   "execution_count": 21,
   "id": "dcdf935d",
   "metadata": {
    "execution": {
     "iopub.execute_input": "2022-05-26T11:02:54.400467Z",
     "iopub.status.busy": "2022-05-26T11:02:54.399921Z",
     "iopub.status.idle": "2022-05-26T11:02:54.403584Z",
     "shell.execute_reply": "2022-05-26T11:02:54.402958Z"
    },
    "papermill": {
     "duration": 0.053039,
     "end_time": "2022-05-26T11:02:54.405288",
     "exception": false,
     "start_time": "2022-05-26T11:02:54.352249",
     "status": "completed"
    },
    "tags": []
   },
   "outputs": [],
   "source": [
    "VOCAB_SIZE = len(vocab)\n",
    "EMBEDDINGG_DIM = 256\n",
    "RNN_UNITS = 1024\n",
    "\n",
    "EPOCHS=100\n",
    "LR = 0.001"
   ]
  },
  {
   "cell_type": "code",
   "execution_count": 22,
   "id": "9f3d7daa",
   "metadata": {
    "execution": {
     "iopub.execute_input": "2022-05-26T11:02:54.502363Z",
     "iopub.status.busy": "2022-05-26T11:02:54.501783Z",
     "iopub.status.idle": "2022-05-26T11:02:54.749525Z",
     "shell.execute_reply": "2022-05-26T11:02:54.747774Z"
    },
    "papermill": {
     "duration": 0.299493,
     "end_time": "2022-05-26T11:02:54.751841",
     "exception": false,
     "start_time": "2022-05-26T11:02:54.452348",
     "status": "completed"
    },
    "tags": []
   },
   "outputs": [
    {
     "name": "stdout",
     "output_type": "stream",
     "text": [
      "Model: \"sequential\"\n",
      "_________________________________________________________________\n",
      "Layer (type)                 Output Shape              Param #   \n",
      "=================================================================\n",
      "embedding (Embedding)        (64, None, 256)           268288    \n",
      "_________________________________________________________________\n",
      "lstm (LSTM)                  (64, 1024)                5246976   \n",
      "_________________________________________________________________\n",
      "dense (Dense)                (64, 1048)                1074200   \n",
      "=================================================================\n",
      "Total params: 6,589,464\n",
      "Trainable params: 6,589,464\n",
      "Non-trainable params: 0\n",
      "_________________________________________________________________\n"
     ]
    }
   ],
   "source": [
    "def build_model(vocab_size, embedding_dim, rnn_units, batch_size):\n",
    "    \"\"\"Build Keras Model\n",
    "\n",
    "    Args: \n",
    "      vocab_size (int): size of vocabulary of corpus\n",
    "      embedding_dim (int): dimension of word embedding matrix\n",
    "      rnn_units (int): number of neurons in rnn\n",
    "      batch_size (int): batch size \n",
    "\n",
    "    \n",
    "    Returns:\n",
    "      Keras sequential model \n",
    "    \"\"\"\n",
    "    \n",
    "    model = tf.keras.models.Sequential()\n",
    "\n",
    "    model.add(tf.keras.layers.Embedding(\n",
    "      input_dim=vocab_size,\n",
    "      output_dim=embedding_dim,\n",
    "      batch_input_shape=[batch_size, None]\n",
    "    ))\n",
    "\n",
    "    model.add(tf.keras.layers.LSTM(\n",
    "      units=rnn_units,\n",
    "      return_sequences=False,\n",
    "#       stateful=True,\n",
    "      recurrent_initializer=tf.keras.initializers.GlorotNormal()\n",
    "    ))\n",
    "\n",
    "\n",
    "    model.add(tf.keras.layers.Dense(vocab_size))\n",
    "  \n",
    "    return model\n",
    "\n",
    "\n",
    "model = build_model(VOCAB_SIZE, EMBEDDINGG_DIM, RNN_UNITS, BATCH_SIZE)\n",
    "model.summary()"
   ]
  },
  {
   "cell_type": "code",
   "execution_count": 23,
   "id": "951692be",
   "metadata": {
    "execution": {
     "iopub.execute_input": "2022-05-26T11:02:54.847612Z",
     "iopub.status.busy": "2022-05-26T11:02:54.847118Z",
     "iopub.status.idle": "2022-05-26T11:02:56.856853Z",
     "shell.execute_reply": "2022-05-26T11:02:56.856026Z"
    },
    "id": "xFFpuXfGMPq2",
    "outputId": "530395b0-62e2-41e5-c0bf-63b2ca9da7cf",
    "papermill": {
     "duration": 2.059616,
     "end_time": "2022-05-26T11:02:56.859232",
     "exception": false,
     "start_time": "2022-05-26T11:02:54.799616",
     "status": "completed"
    },
    "tags": []
   },
   "outputs": [
    {
     "name": "stderr",
     "output_type": "stream",
     "text": [
      "2022-05-26 11:02:55.701564: I tensorflow/stream_executor/cuda/cuda_dnn.cc:369] Loaded cuDNN version 8005\n"
     ]
    },
    {
     "name": "stdout",
     "output_type": "stream",
     "text": [
      "(64, 1048) # (batch_size, sequence_length, vocab_size)\n"
     ]
    }
   ],
   "source": [
    "for input_example_batch, target_example_batch in dataset.take(1):\n",
    "    example_batch_predictions = model(input_example_batch)\n",
    "    print(example_batch_predictions.shape, \"# (batch_size, sequence_length, vocab_size)\")"
   ]
  },
  {
   "cell_type": "code",
   "execution_count": 24,
   "id": "c7cdb8f5",
   "metadata": {
    "execution": {
     "iopub.execute_input": "2022-05-26T11:02:56.956575Z",
     "iopub.status.busy": "2022-05-26T11:02:56.956352Z",
     "iopub.status.idle": "2022-05-26T11:02:56.972252Z",
     "shell.execute_reply": "2022-05-26T11:02:56.971301Z"
    },
    "id": "lQB33zI7NkRo",
    "outputId": "ef5bc93f-7bad-437f-f70a-9eb53d895613",
    "papermill": {
     "duration": 0.06631,
     "end_time": "2022-05-26T11:02:56.973919",
     "exception": false,
     "start_time": "2022-05-26T11:02:56.907609",
     "status": "completed"
    },
    "tags": []
   },
   "outputs": [
    {
     "name": "stdout",
     "output_type": "stream",
     "text": [
      "Prediction shape:  (64, 1048)  # (batch_size, sequence_length, vocab_size)\n",
      "scalar_loss:       6.953533\n"
     ]
    }
   ],
   "source": [
    "# An objective function.\n",
    "# The function is any callable with the signature scalar_loss = fn(y_true, y_pred).\n",
    "def loss(labels, logits):\n",
    "    \"\"\"Compute the loss from outputed logits of model\n",
    "\n",
    "    Args: \n",
    "      labels (list): y labels / ground truth\n",
    "      logits (list): logits outputed by the model\n",
    "    \n",
    "    Returns:\n",
    "      Loss score\n",
    "    \"\"\"\n",
    "    \n",
    "    return tf.keras.losses.sparse_categorical_crossentropy(\n",
    "      y_true=labels,\n",
    "      y_pred=logits,\n",
    "      from_logits=True\n",
    "    )\n",
    "\n",
    "example_batch_loss = loss(target_example_batch, example_batch_predictions)\n",
    "\n",
    "print(\"Prediction shape: \", example_batch_predictions.shape, \" # (batch_size, sequence_length, vocab_size)\")\n",
    "print(\"scalar_loss:      \", example_batch_loss.numpy().mean())"
   ]
  },
  {
   "cell_type": "code",
   "execution_count": 25,
   "id": "f64011f8",
   "metadata": {
    "execution": {
     "iopub.execute_input": "2022-05-26T11:02:57.069636Z",
     "iopub.status.busy": "2022-05-26T11:02:57.069435Z",
     "iopub.status.idle": "2022-05-26T11:02:57.088139Z",
     "shell.execute_reply": "2022-05-26T11:02:57.087505Z"
    },
    "id": "DXUAlYmvN_Rj",
    "outputId": "ef3412c4-68e0-4362-e093-feba628b7079",
    "papermill": {
     "duration": 0.068437,
     "end_time": "2022-05-26T11:02:57.089768",
     "exception": false,
     "start_time": "2022-05-26T11:02:57.021331",
     "status": "completed"
    },
    "tags": []
   },
   "outputs": [],
   "source": [
    "adam_optimizer = tf.keras.optimizers.Adam(learning_rate=LR)\n",
    "model.compile(\n",
    "    optimizer=adam_optimizer,\n",
    "    loss=loss\n",
    ")"
   ]
  },
  {
   "cell_type": "code",
   "execution_count": 26,
   "id": "a4059894",
   "metadata": {
    "execution": {
     "iopub.execute_input": "2022-05-26T11:02:57.186218Z",
     "iopub.status.busy": "2022-05-26T11:02:57.185707Z",
     "iopub.status.idle": "2022-05-26T11:02:57.190346Z",
     "shell.execute_reply": "2022-05-26T11:02:57.189685Z"
    },
    "papermill": {
     "duration": 0.054466,
     "end_time": "2022-05-26T11:02:57.191930",
     "exception": false,
     "start_time": "2022-05-26T11:02:57.137464",
     "status": "completed"
    },
    "tags": []
   },
   "outputs": [],
   "source": [
    "# Directory where the checkpoints will be saved.\n",
    "checkpoint_dir = 'tmp/checkpoints'\n",
    "os.makedirs(checkpoint_dir, exist_ok=True)\n",
    "\n",
    "# Name of the checkpoint files\n",
    "checkpoint_prefix = os.path.join(checkpoint_dir, 'ckpt_{epoch}')\n",
    "\n",
    "checkpoint_callback=tf.keras.callbacks.ModelCheckpoint(\n",
    "    filepath=checkpoint_prefix,\n",
    "    save_weights_only=True\n",
    ")"
   ]
  },
  {
   "cell_type": "markdown",
   "id": "35cd0b06",
   "metadata": {
    "papermill": {
     "duration": 0.046771,
     "end_time": "2022-05-26T11:02:57.285539",
     "exception": false,
     "start_time": "2022-05-26T11:02:57.238768",
     "status": "completed"
    },
    "tags": []
   },
   "source": [
    "### Train Model"
   ]
  },
  {
   "cell_type": "code",
   "execution_count": 27,
   "id": "89b79914",
   "metadata": {
    "execution": {
     "iopub.execute_input": "2022-05-26T11:02:57.380953Z",
     "iopub.status.busy": "2022-05-26T11:02:57.380491Z",
     "iopub.status.idle": "2022-05-26T11:07:09.900515Z",
     "shell.execute_reply": "2022-05-26T11:07:09.899696Z"
    },
    "papermill": {
     "duration": 252.569865,
     "end_time": "2022-05-26T11:07:09.902573",
     "exception": false,
     "start_time": "2022-05-26T11:02:57.332708",
     "status": "completed"
    },
    "tags": []
   },
   "outputs": [
    {
     "name": "stdout",
     "output_type": "stream",
     "text": [
      "Epoch 1/100\n",
      "210/210 [==============================] - 4s 10ms/step - loss: 5.1257\n",
      "Epoch 2/100\n",
      "210/210 [==============================] - 2s 10ms/step - loss: 4.3055\n",
      "Epoch 3/100\n",
      "210/210 [==============================] - 2s 10ms/step - loss: 3.5706\n",
      "Epoch 4/100\n",
      "210/210 [==============================] - 2s 10ms/step - loss: 2.8095\n",
      "Epoch 5/100\n",
      "210/210 [==============================] - 2s 10ms/step - loss: 2.0525\n",
      "Epoch 6/100\n",
      "210/210 [==============================] - 2s 10ms/step - loss: 1.3827\n",
      "Epoch 7/100\n",
      "210/210 [==============================] - 2s 10ms/step - loss: 0.8839\n",
      "Epoch 8/100\n",
      "210/210 [==============================] - 2s 10ms/step - loss: 0.5635\n",
      "Epoch 9/100\n",
      "210/210 [==============================] - 2s 11ms/step - loss: 0.3692\n",
      "Epoch 10/100\n",
      "210/210 [==============================] - 2s 11ms/step - loss: 0.2612\n",
      "Epoch 11/100\n",
      "210/210 [==============================] - 2s 10ms/step - loss: 0.1819\n",
      "Epoch 12/100\n",
      "210/210 [==============================] - 2s 10ms/step - loss: 0.1489\n",
      "Epoch 13/100\n",
      "210/210 [==============================] - 2s 10ms/step - loss: 0.1273\n",
      "Epoch 14/100\n",
      "210/210 [==============================] - 2s 10ms/step - loss: 0.1106\n",
      "Epoch 15/100\n",
      "210/210 [==============================] - 2s 10ms/step - loss: 0.1077\n",
      "Epoch 16/100\n",
      "210/210 [==============================] - 2s 10ms/step - loss: 0.1151\n",
      "Epoch 17/100\n",
      "210/210 [==============================] - 2s 10ms/step - loss: 0.1212\n",
      "Epoch 18/100\n",
      "210/210 [==============================] - 2s 11ms/step - loss: 0.1148\n",
      "Epoch 19/100\n",
      "210/210 [==============================] - 2s 10ms/step - loss: 0.0922\n",
      "Epoch 20/100\n",
      "210/210 [==============================] - 2s 10ms/step - loss: 0.0734\n",
      "Epoch 21/100\n",
      "210/210 [==============================] - 2s 10ms/step - loss: 0.0646\n",
      "Epoch 22/100\n",
      "210/210 [==============================] - 2s 10ms/step - loss: 0.0569\n",
      "Epoch 23/100\n",
      "210/210 [==============================] - 2s 11ms/step - loss: 0.0496\n",
      "Epoch 24/100\n",
      "210/210 [==============================] - 2s 10ms/step - loss: 0.0462\n",
      "Epoch 25/100\n",
      "210/210 [==============================] - 2s 10ms/step - loss: 0.0418\n",
      "Epoch 26/100\n",
      "210/210 [==============================] - 2s 10ms/step - loss: 0.0390\n",
      "Epoch 27/100\n",
      "210/210 [==============================] - 2s 11ms/step - loss: 0.0370\n",
      "Epoch 28/100\n",
      "210/210 [==============================] - 2s 10ms/step - loss: 0.0356\n",
      "Epoch 29/100\n",
      "210/210 [==============================] - 2s 10ms/step - loss: 0.0348\n",
      "Epoch 30/100\n",
      "210/210 [==============================] - 2s 10ms/step - loss: 0.0335\n",
      "Epoch 31/100\n",
      "210/210 [==============================] - 2s 10ms/step - loss: 0.0330\n",
      "Epoch 32/100\n",
      "210/210 [==============================] - 2s 11ms/step - loss: 0.0322\n",
      "Epoch 33/100\n",
      "210/210 [==============================] - 2s 10ms/step - loss: 0.0320\n",
      "Epoch 34/100\n",
      "210/210 [==============================] - 2s 11ms/step - loss: 0.0316\n",
      "Epoch 35/100\n",
      "210/210 [==============================] - 2s 10ms/step - loss: 0.0318\n",
      "Epoch 36/100\n",
      "210/210 [==============================] - 2s 10ms/step - loss: 0.0330\n",
      "Epoch 37/100\n",
      "210/210 [==============================] - 2s 11ms/step - loss: 0.0350\n",
      "Epoch 38/100\n",
      "210/210 [==============================] - 2s 10ms/step - loss: 0.1196\n",
      "Epoch 39/100\n",
      "210/210 [==============================] - 2s 10ms/step - loss: 0.6203\n",
      "Epoch 40/100\n",
      "210/210 [==============================] - 2s 10ms/step - loss: 0.1330\n",
      "Epoch 41/100\n",
      "210/210 [==============================] - 2s 11ms/step - loss: 0.0618\n",
      "Epoch 42/100\n",
      "210/210 [==============================] - 2s 10ms/step - loss: 0.0443\n",
      "Epoch 43/100\n",
      "210/210 [==============================] - 2s 10ms/step - loss: 0.0378\n",
      "Epoch 44/100\n",
      "210/210 [==============================] - 2s 10ms/step - loss: 0.0343\n",
      "Epoch 45/100\n",
      "210/210 [==============================] - 2s 10ms/step - loss: 0.0325\n",
      "Epoch 46/100\n",
      "210/210 [==============================] - 2s 10ms/step - loss: 0.0314\n",
      "Epoch 47/100\n",
      "210/210 [==============================] - 2s 10ms/step - loss: 0.0309\n",
      "Epoch 48/100\n",
      "210/210 [==============================] - 2s 10ms/step - loss: 0.0302\n",
      "Epoch 49/100\n",
      "210/210 [==============================] - 2s 12ms/step - loss: 0.0299\n",
      "Epoch 50/100\n",
      "210/210 [==============================] - 2s 10ms/step - loss: 0.0295\n",
      "Epoch 51/100\n",
      "210/210 [==============================] - 2s 10ms/step - loss: 0.0293\n",
      "Epoch 52/100\n",
      "210/210 [==============================] - 2s 10ms/step - loss: 0.0290\n",
      "Epoch 53/100\n",
      "210/210 [==============================] - 2s 10ms/step - loss: 0.0288\n",
      "Epoch 54/100\n",
      "210/210 [==============================] - 2s 10ms/step - loss: 0.0286\n",
      "Epoch 55/100\n",
      "210/210 [==============================] - 2s 10ms/step - loss: 0.0285\n",
      "Epoch 56/100\n",
      "210/210 [==============================] - 2s 10ms/step - loss: 0.0284\n",
      "Epoch 57/100\n",
      "210/210 [==============================] - 2s 11ms/step - loss: 0.0280\n",
      "Epoch 58/100\n",
      "210/210 [==============================] - 2s 11ms/step - loss: 0.0277\n",
      "Epoch 59/100\n",
      "210/210 [==============================] - 2s 10ms/step - loss: 0.0275\n",
      "Epoch 60/100\n",
      "210/210 [==============================] - 2s 10ms/step - loss: 0.0274\n",
      "Epoch 61/100\n",
      "210/210 [==============================] - 2s 11ms/step - loss: 0.0274\n",
      "Epoch 62/100\n",
      "210/210 [==============================] - 2s 11ms/step - loss: 0.0278\n",
      "Epoch 63/100\n",
      "210/210 [==============================] - 2s 10ms/step - loss: 0.0286\n",
      "Epoch 64/100\n",
      "210/210 [==============================] - 2s 10ms/step - loss: 0.0328\n",
      "Epoch 65/100\n",
      "210/210 [==============================] - 2s 10ms/step - loss: 0.3002\n",
      "Epoch 66/100\n",
      "210/210 [==============================] - 2s 10ms/step - loss: 0.3057\n",
      "Epoch 67/100\n",
      "210/210 [==============================] - 2s 10ms/step - loss: 0.0804\n",
      "Epoch 68/100\n",
      "210/210 [==============================] - 2s 10ms/step - loss: 0.0453\n",
      "Epoch 69/100\n",
      "210/210 [==============================] - 2s 10ms/step - loss: 0.0363\n",
      "Epoch 70/100\n",
      "210/210 [==============================] - 2s 10ms/step - loss: 0.0317\n",
      "Epoch 71/100\n",
      "210/210 [==============================] - 2s 10ms/step - loss: 0.0299\n",
      "Epoch 72/100\n",
      "210/210 [==============================] - 2s 10ms/step - loss: 0.0288\n",
      "Epoch 73/100\n",
      "210/210 [==============================] - 2s 11ms/step - loss: 0.0282\n",
      "Epoch 74/100\n",
      "210/210 [==============================] - 2s 11ms/step - loss: 0.0278\n",
      "Epoch 75/100\n",
      "210/210 [==============================] - 2s 10ms/step - loss: 0.0275\n",
      "Epoch 76/100\n",
      "210/210 [==============================] - 2s 10ms/step - loss: 0.0273\n",
      "Epoch 77/100\n",
      "210/210 [==============================] - 2s 11ms/step - loss: 0.0271\n",
      "Epoch 78/100\n",
      "210/210 [==============================] - 2s 11ms/step - loss: 0.0269\n",
      "Epoch 79/100\n",
      "210/210 [==============================] - 2s 10ms/step - loss: 0.0267\n",
      "Epoch 80/100\n",
      "210/210 [==============================] - 2s 10ms/step - loss: 0.0264\n",
      "Epoch 81/100\n",
      "210/210 [==============================] - 2s 10ms/step - loss: 0.0262\n",
      "Epoch 82/100\n",
      "210/210 [==============================] - 2s 10ms/step - loss: 0.0260\n",
      "Epoch 83/100\n",
      "210/210 [==============================] - 2s 10ms/step - loss: 0.0259\n",
      "Epoch 84/100\n",
      "210/210 [==============================] - 2s 10ms/step - loss: 0.0256\n",
      "Epoch 85/100\n",
      "210/210 [==============================] - 2s 10ms/step - loss: 0.0255\n",
      "Epoch 86/100\n",
      "210/210 [==============================] - 2s 11ms/step - loss: 0.0254\n",
      "Epoch 87/100\n",
      "210/210 [==============================] - 2s 10ms/step - loss: 0.0252\n",
      "Epoch 88/100\n",
      "210/210 [==============================] - 2s 12ms/step - loss: 0.0251\n",
      "Epoch 89/100\n",
      "210/210 [==============================] - 2s 10ms/step - loss: 0.0250\n",
      "Epoch 90/100\n",
      "210/210 [==============================] - 2s 10ms/step - loss: 0.0249\n",
      "Epoch 91/100\n",
      "210/210 [==============================] - 2s 10ms/step - loss: 0.0255\n",
      "Epoch 92/100\n",
      "210/210 [==============================] - 2s 11ms/step - loss: 0.0256\n",
      "Epoch 93/100\n",
      "210/210 [==============================] - 2s 10ms/step - loss: 0.0539\n",
      "Epoch 94/100\n",
      "210/210 [==============================] - 2s 10ms/step - loss: 0.4391\n",
      "Epoch 95/100\n",
      "210/210 [==============================] - 2s 11ms/step - loss: 0.1176\n",
      "Epoch 96/100\n",
      "210/210 [==============================] - 2s 10ms/step - loss: 0.0522\n",
      "Epoch 97/100\n",
      "210/210 [==============================] - 2s 10ms/step - loss: 0.0378\n",
      "Epoch 98/100\n",
      "210/210 [==============================] - 2s 10ms/step - loss: 0.0330\n",
      "Epoch 99/100\n",
      "210/210 [==============================] - 2s 11ms/step - loss: 0.0310\n",
      "Epoch 100/100\n",
      "210/210 [==============================] - 2s 10ms/step - loss: 0.0288\n"
     ]
    }
   ],
   "source": [
    "history = model.fit(\n",
    "  x=dataset,\n",
    "  epochs=EPOCHS,\n",
    "  callbacks=[\n",
    "    checkpoint_callback\n",
    "  ]\n",
    ")"
   ]
  },
  {
   "cell_type": "markdown",
   "id": "0da0ea09",
   "metadata": {
    "id": "SU_YfP6sG3NC",
    "papermill": {
     "duration": 1.765464,
     "end_time": "2022-05-26T11:07:13.282982",
     "exception": false,
     "start_time": "2022-05-26T11:07:11.517518",
     "status": "completed"
    },
    "tags": []
   },
   "source": [
    "### Restore the latest checkpoint\n",
    "\n",
    "To keep this prediction step simple, use a batch size of 1.\n",
    "\n",
    "Because of the way the RNN state is passed from timestep to timestep, the model only accepts a fixed batch size once built.\n",
    "\n",
    "To run the model with a different `batch_size`, we need to rebuild the model and restore the weights from the checkpoint."
   ]
  },
  {
   "cell_type": "code",
   "execution_count": 28,
   "id": "49364251",
   "metadata": {
    "execution": {
     "iopub.execute_input": "2022-05-26T11:07:15.994271Z",
     "iopub.status.busy": "2022-05-26T11:07:15.993998Z",
     "iopub.status.idle": "2022-05-26T11:07:16.001054Z",
     "shell.execute_reply": "2022-05-26T11:07:16.000240Z"
    },
    "id": "BlG8o3wiG6f2",
    "outputId": "031b45e0-fcdf-4ab6-b7e9-e167b29800c9",
    "papermill": {
     "duration": 1.309252,
     "end_time": "2022-05-26T11:07:16.002811",
     "exception": false,
     "start_time": "2022-05-26T11:07:14.693559",
     "status": "completed"
    },
    "tags": []
   },
   "outputs": [
    {
     "data": {
      "text/plain": [
       "'tmp/checkpoints/ckpt_100'"
      ]
     },
     "execution_count": 28,
     "metadata": {},
     "output_type": "execute_result"
    }
   ],
   "source": [
    "tf.train.latest_checkpoint(checkpoint_dir)"
   ]
  },
  {
   "cell_type": "code",
   "execution_count": 29,
   "id": "d71ab949",
   "metadata": {
    "execution": {
     "iopub.execute_input": "2022-05-26T11:07:18.752265Z",
     "iopub.status.busy": "2022-05-26T11:07:18.751739Z",
     "iopub.status.idle": "2022-05-26T11:07:18.995562Z",
     "shell.execute_reply": "2022-05-26T11:07:18.994783Z"
    },
    "id": "l7evN0LvH01P",
    "papermill": {
     "duration": 1.690998,
     "end_time": "2022-05-26T11:07:18.997828",
     "exception": false,
     "start_time": "2022-05-26T11:07:17.306830",
     "status": "completed"
    },
    "tags": []
   },
   "outputs": [],
   "source": [
    "simplified_batch_size = 1\n",
    "\n",
    "model = build_model(VOCAB_SIZE, EMBEDDINGG_DIM, RNN_UNITS, batch_size=1)\n",
    "\n",
    "model.load_weights(tf.train.latest_checkpoint(checkpoint_dir))\n",
    "\n",
    "model.build(tf.TensorShape([simplified_batch_size, None]))"
   ]
  },
  {
   "cell_type": "code",
   "execution_count": 30,
   "id": "d159d12d",
   "metadata": {
    "execution": {
     "iopub.execute_input": "2022-05-26T11:07:21.640993Z",
     "iopub.status.busy": "2022-05-26T11:07:21.640734Z",
     "iopub.status.idle": "2022-05-26T11:07:21.648458Z",
     "shell.execute_reply": "2022-05-26T11:07:21.647731Z"
    },
    "id": "Y3eduDtZI9zQ",
    "outputId": "95ccdb2f-f059-4be2-ee85-3541f422c7ea",
    "papermill": {
     "duration": 1.323818,
     "end_time": "2022-05-26T11:07:21.650393",
     "exception": false,
     "start_time": "2022-05-26T11:07:20.326575",
     "status": "completed"
    },
    "tags": []
   },
   "outputs": [
    {
     "name": "stdout",
     "output_type": "stream",
     "text": [
      "Model: \"sequential_1\"\n",
      "_________________________________________________________________\n",
      "Layer (type)                 Output Shape              Param #   \n",
      "=================================================================\n",
      "embedding_1 (Embedding)      (1, None, 256)            268288    \n",
      "_________________________________________________________________\n",
      "lstm_1 (LSTM)                (None, 1024)              5246976   \n",
      "_________________________________________________________________\n",
      "dense_1 (Dense)              (None, 1048)              1074200   \n",
      "=================================================================\n",
      "Total params: 6,589,464\n",
      "Trainable params: 6,589,464\n",
      "Non-trainable params: 0\n",
      "_________________________________________________________________\n"
     ]
    }
   ],
   "source": [
    "model.summary()"
   ]
  },
  {
   "cell_type": "markdown",
   "id": "50da7a2a",
   "metadata": {
    "id": "euNvAtr4JC3A",
    "papermill": {
     "duration": 1.486912,
     "end_time": "2022-05-26T11:07:24.690505",
     "exception": false,
     "start_time": "2022-05-26T11:07:23.203593",
     "status": "completed"
    },
    "tags": []
   },
   "source": [
    "### The prediction loop\n",
    "\n",
    "The following code block generates the text:\n",
    "\n",
    "- It Starts by choosing a start string, initializing the RNN state and setting the number of words to generate.\n",
    "\n",
    "- Get the prediction distribution of the next word using the start string and the RNN state.\n",
    "\n",
    "- Then, use a categorical distribution to calculate the index of the predicted character. Use this predicted word as our next input to the model.\n",
    "\n",
    "- The RNN state returned by the model is fed back into the model so that it now has more context, instead than only one word. After predicting the next word, the modified RNN states are again fed back into the model, which is how it learns as it gets more context from the previously predicted words."
   ]
  },
  {
   "cell_type": "code",
   "execution_count": 31,
   "id": "4db2b385",
   "metadata": {
    "execution": {
     "iopub.execute_input": "2022-05-26T11:07:27.374684Z",
     "iopub.status.busy": "2022-05-26T11:07:27.374096Z",
     "iopub.status.idle": "2022-05-26T11:07:27.382306Z",
     "shell.execute_reply": "2022-05-26T11:07:27.381615Z"
    },
    "id": "bOqdqGouJFf_",
    "papermill": {
     "duration": 1.369869,
     "end_time": "2022-05-26T11:07:27.383958",
     "exception": false,
     "start_time": "2022-05-26T11:07:26.014089",
     "status": "completed"
    },
    "tags": []
   },
   "outputs": [],
   "source": [
    "# num_generate\n",
    "# - number of words to generate.\n",
    "#\n",
    "# temperature\n",
    "\n",
    "# - Experiment to find the best setting.\n",
    "def generate_text(model, start_string, num_generate = 1000, temperature=1.0):\n",
    "    \"\"\"Generate text using trained sequential text generation model\n",
    "\n",
    "    Args: \n",
    "      model (model): Keras trained sequential text generation model\n",
    "      start_string (list): list of strings for starting the text generation\n",
    "      num_generate (int): number of words to generate\n",
    "      temperature (float): controls the predictability of the generated text\n",
    "        - Low temperatures results in more predictable text.\n",
    "        - Higher temperatures results in more surprising text.\n",
    "    \n",
    "    Returns:\n",
    "      String of generated text\n",
    "      \n",
    "    \"\"\"\n",
    "\n",
    "    # Converting our start string to numbers (vectorizing).\n",
    "    input_indices = [word_indices[s] for s in start_string]\n",
    "    input_indices = tf.expand_dims(input_indices, 0)\n",
    "\n",
    "    # Empty string to store our results.\n",
    "    text_generated = []\n",
    "\n",
    "    # Here batch size == 1.\n",
    "    model.reset_states()\n",
    "    for word_index in range(num_generate):\n",
    "        predictions = model(input_indices)\n",
    "        # remove the batch dimension\n",
    "        predictions = tf.squeeze(predictions, 0)\n",
    "\n",
    "        # Using a categorical distribution to predict the character returned by the model.\n",
    "        predictions = predictions / temperature\n",
    "        predictions = tf.reshape(predictions, [1, predictions.shape[0]])\n",
    "        predicted_id = tf.random.categorical(\n",
    "            predictions,\n",
    "            num_samples=1\n",
    "            )[-1,0].numpy()\n",
    "\n",
    "        # We pass the predicted word as the next input to the model\n",
    "        # along with the previous hidden state.\n",
    "        input_indices = tf.expand_dims([predicted_id], 0)\n",
    "\n",
    "        text_generated.append(indices_word[predicted_id])\n",
    "    \n",
    "    return (' '.join(start_string) + ' ' + ' '.join(text_generated))"
   ]
  },
  {
   "cell_type": "code",
   "execution_count": 32,
   "id": "39481af3",
   "metadata": {
    "execution": {
     "iopub.execute_input": "2022-05-26T11:07:29.985354Z",
     "iopub.status.busy": "2022-05-26T11:07:29.985067Z",
     "iopub.status.idle": "2022-05-26T11:07:30.149846Z",
     "shell.execute_reply": "2022-05-26T11:07:30.148518Z"
    },
    "papermill": {
     "duration": 1.470558,
     "end_time": "2022-05-26T11:07:30.151991",
     "exception": false,
     "start_time": "2022-05-26T11:07:28.681433",
     "status": "completed"
    },
    "tags": []
   },
   "outputs": [
    {
     "name": "stdout",
     "output_type": "stream",
     "text": [
      "<CHORUS> \n",
      " we are the world \n",
      "\n",
      " <VERSE> \n",
      " together we will you and there is a nation is a hand in a new beginning by the nation singapore \n",
      " what i\n"
     ]
    }
   ],
   "source": [
    "# Generate the text with default temperature (1.0).\n",
    "print(generate_text(model, start_string=['<CHORUS>', '\\n'], num_generate=30))"
   ]
  },
  {
   "cell_type": "code",
   "execution_count": 33,
   "id": "a42cb580",
   "metadata": {
    "execution": {
     "iopub.execute_input": "2022-05-26T11:07:32.818622Z",
     "iopub.status.busy": "2022-05-26T11:07:32.818314Z",
     "iopub.status.idle": "2022-05-26T11:07:33.049255Z",
     "shell.execute_reply": "2022-05-26T11:07:33.039825Z"
    },
    "papermill": {
     "duration": 1.57389,
     "end_time": "2022-05-26T11:07:33.051399",
     "exception": false,
     "start_time": "2022-05-26T11:07:31.477509",
     "status": "completed"
    },
    "tags": []
   },
   "outputs": [
    {
     "name": "stdout",
     "output_type": "stream",
     "text": [
      "<CHORUS> \n",
      " we will be \n",
      " and everyone is a new beginning i’m the world will you will be \n",
      " our home to be \n",
      " and there is a new beginning together\n"
     ]
    }
   ],
   "source": [
    "# Generate the text with default temperature (1.0).\n",
    "print(generate_text(model, start_string=['<CHORUS>', '\\n'], num_generate=30))"
   ]
  },
  {
   "cell_type": "code",
   "execution_count": 34,
   "id": "cd764db0",
   "metadata": {
    "execution": {
     "iopub.execute_input": "2022-05-26T11:07:35.811909Z",
     "iopub.status.busy": "2022-05-26T11:07:35.811642Z",
     "iopub.status.idle": "2022-05-26T11:07:35.950468Z",
     "shell.execute_reply": "2022-05-26T11:07:35.949149Z"
    },
    "papermill": {
     "duration": 1.456753,
     "end_time": "2022-05-26T11:07:35.952224",
     "exception": false,
     "start_time": "2022-05-26T11:07:34.495471",
     "status": "completed"
    },
    "tags": []
   },
   "outputs": [
    {
     "name": "stdout",
     "output_type": "stream",
     "text": [
      "<VERSE> \n",
      " i have a new world can be world will be \n",
      " there is a towards a thousand what we will you are singapore \n",
      " the vision place i will be\n"
     ]
    }
   ],
   "source": [
    "# Generate the text with default temperature (1.0).\n",
    "print(generate_text(model, start_string=['<VERSE>', '\\n'], num_generate=30))"
   ]
  },
  {
   "cell_type": "code",
   "execution_count": 35,
   "id": "ccd0d98a",
   "metadata": {
    "execution": {
     "iopub.execute_input": "2022-05-26T11:07:38.561156Z",
     "iopub.status.busy": "2022-05-26T11:07:38.560905Z",
     "iopub.status.idle": "2022-05-26T11:07:38.698897Z",
     "shell.execute_reply": "2022-05-26T11:07:38.697598Z"
    },
    "papermill": {
     "duration": 1.447051,
     "end_time": "2022-05-26T11:07:38.701978",
     "exception": false,
     "start_time": "2022-05-26T11:07:37.254927",
     "status": "completed"
    },
    "tags": []
   },
   "outputs": [
    {
     "name": "stdout",
     "output_type": "stream",
     "text": [
      "<VERSE> \n",
      " find a new heights \n",
      " what we are my home for singapore \n",
      "\n",
      " <VERSE> \n",
      " together \n",
      " our home to a new world will be \n",
      " tomorrow is a moon\n"
     ]
    }
   ],
   "source": [
    "# Generate the text with default temperature (1.0).\n",
    "print(generate_text(model, start_string=['<VERSE>', '\\n'], num_generate=30))"
   ]
  },
  {
   "cell_type": "code",
   "execution_count": 36,
   "id": "139ac881",
   "metadata": {
    "execution": {
     "iopub.execute_input": "2022-05-26T11:07:41.363151Z",
     "iopub.status.busy": "2022-05-26T11:07:41.362881Z",
     "iopub.status.idle": "2022-05-26T11:07:41.898981Z",
     "shell.execute_reply": "2022-05-26T11:07:41.897233Z"
    },
    "id": "wq_NlwWJSdix",
    "outputId": "408ecde5-0646-4eda-902e-071e4f123417",
    "papermill": {
     "duration": 1.85077,
     "end_time": "2022-05-26T11:07:41.900915",
     "exception": false,
     "start_time": "2022-05-26T11:07:40.050145",
     "status": "completed"
    },
    "tags": []
   },
   "outputs": [
    {
     "name": "stdout",
     "output_type": "stream",
     "text": [
      "<CHORUS> \n",
      " nothing in my heart to keep so moon is a new \n",
      " together \n",
      " your heart our everyone is our home \n",
      " and shining key \n",
      " when i will be\n",
      "<CHORUS> \n",
      " this is to be \n",
      " together \n",
      " to keep so new stories \n",
      " if we have when i have forever \n",
      " city through the spirit you can be \n",
      " the\n",
      "<VERSE> \n",
      " words i have a brand beautiful beginning top i will be there are the brand shine \n",
      "\n",
      " on have world will be kind some braver write out of the so\n",
      "<VERSE> \n",
      " mirth is my home that is the world dozen wave our home <CHORUS> \n",
      " and there are the light belongs \n",
      " our home us be on a new story \n",
      "\n"
     ]
    }
   ],
   "source": [
    "# Generate the text with higher temperature to get more unexpected results.\n",
    "print(generate_text(model, start_string=['<CHORUS>', '\\n'], num_generate=30, temperature=1.5))\n",
    "print(generate_text(model, start_string=['<CHORUS>', '\\n'], num_generate=30, temperature=1.5))\n",
    "print(generate_text(model, start_string=['<VERSE>', '\\n'], num_generate=30, temperature=1.5))\n",
    "print(generate_text(model, start_string=['<VERSE>', '\\n'], num_generate=30, temperature=1.5))"
   ]
  },
  {
   "cell_type": "markdown",
   "id": "53defff9",
   "metadata": {
    "id": "0hh80MqEO_XI",
    "papermill": {
     "duration": 1.635204,
     "end_time": "2022-05-26T11:07:44.848737",
     "exception": false,
     "start_time": "2022-05-26T11:07:43.213533",
     "status": "completed"
    },
    "tags": []
   },
   "source": [
    "## Save the model"
   ]
  },
  {
   "cell_type": "code",
   "execution_count": 37,
   "id": "8b204cda",
   "metadata": {
    "execution": {
     "iopub.execute_input": "2022-05-26T11:07:47.944319Z",
     "iopub.status.busy": "2022-05-26T11:07:47.944038Z",
     "iopub.status.idle": "2022-05-26T11:07:48.003975Z",
     "shell.execute_reply": "2022-05-26T11:07:48.003230Z"
    },
    "id": "VPE98xa8PA-u",
    "papermill": {
     "duration": 1.372006,
     "end_time": "2022-05-26T11:07:48.005932",
     "exception": false,
     "start_time": "2022-05-26T11:07:46.633926",
     "status": "completed"
    },
    "tags": []
   },
   "outputs": [],
   "source": [
    "model_name = 'text_generation_lstm_word_level.h5'\n",
    "model.save(model_name, save_format='h5')"
   ]
  },
  {
   "cell_type": "markdown",
   "id": "6021b732",
   "metadata": {
    "id": "WYP08xbbTNKp",
    "papermill": {
     "duration": 1.317445,
     "end_time": "2022-05-26T11:07:50.636081",
     "exception": false,
     "start_time": "2022-05-26T11:07:49.318636",
     "status": "completed"
    },
    "tags": []
   },
   "source": [
    "## Converting the model to web-format\n",
    "\n",
    "To use this model on the web we need to convert it into the format that will be understandable by [tensorflowjs](https://www.tensorflow.org/js). To do so we may use [tfjs-converter](https://github.com/tensorflow/tfjs/tree/master/tfjs-converter) as following:\n",
    "\n",
    "```\n",
    "tensorflowjs_converter --input_format keras \\\n",
    "  ./experiments/text_generation_shakespeare_rnn/text_generation_shakespeare_rnn.h5 \\\n",
    "  ./demos/public/models/text_generation_shakespeare_rnn\n",
    "```\n",
    "\n",
    "You find this experiment in the [Demo app](https://trekhleb.github.io/machine-learning-experiments) and play around with it right in you browser to see how the model performs in real life."
   ]
  }
 ],
 "metadata": {
  "kernelspec": {
   "display_name": "Python 3",
   "language": "python",
   "name": "python3"
  },
  "language_info": {
   "codemirror_mode": {
    "name": "ipython",
    "version": 3
   },
   "file_extension": ".py",
   "mimetype": "text/x-python",
   "name": "python",
   "nbconvert_exporter": "python",
   "pygments_lexer": "ipython3",
   "version": "3.7.12"
  },
  "papermill": {
   "default_parameters": {},
   "duration": 328.08526,
   "end_time": "2022-05-26T11:07:54.727910",
   "environment_variables": {},
   "exception": null,
   "input_path": "__notebook__.ipynb",
   "output_path": "__notebook__.ipynb",
   "parameters": {},
   "start_time": "2022-05-26T11:02:26.642650",
   "version": "2.3.4"
  }
 },
 "nbformat": 4,
 "nbformat_minor": 5
}
