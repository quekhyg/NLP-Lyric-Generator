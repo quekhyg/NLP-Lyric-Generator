{
 "cells": [
  {
   "cell_type": "code",
   "execution_count": 15,
   "id": "d02c9867",
   "metadata": {},
   "outputs": [],
   "source": [
    "### Standard Imports\n",
    "import os\n",
    "import sys\n",
    "import torch\n",
    "import tensorflow as tf\n",
    "import re\n",
    "import numpy as np\n",
    "import pandas as pd\n",
    "import matplotlib.pyplot as plt\n",
    "import csv\n",
    "\n",
    "from nltk.tokenize import SyllableTokenizer\n",
    "from nltk import word_tokenize"
   ]
  },
  {
   "cell_type": "code",
   "execution_count": 2,
   "id": "b48b6941",
   "metadata": {},
   "outputs": [],
   "source": [
    "### Custom Imports\n",
    "sys.path.append('../')\n",
    "import lib.utilities as utils"
   ]
  },
  {
   "cell_type": "code",
   "execution_count": 3,
   "id": "a49bc563",
   "metadata": {},
   "outputs": [],
   "source": [
    "### General Parameters\n",
    "random_seed = 42\n",
    "model_folder = '../../../syllable/v1'\n",
    "model_name = 'syllable-melody'\n",
    "\n",
    "### Text Parameters\n",
    "newline_token = '<new>'"
   ]
  },
  {
   "cell_type": "code",
   "execution_count": 4,
   "id": "947b14ae",
   "metadata": {},
   "outputs": [],
   "source": [
    "os.makedirs(model_folder, exist_ok=True)"
   ]
  },
  {
   "cell_type": "code",
   "execution_count": 39,
   "id": "3048a4c8",
   "metadata": {},
   "outputs": [],
   "source": [
    "### Load Data\n",
    "corpus = utils.load_corpus()\n",
    "filenames = os.listdir('../../data')"
   ]
  },
  {
   "cell_type": "code",
   "execution_count": 6,
   "id": "cb962f92",
   "metadata": {},
   "outputs": [],
   "source": [
    "SSP = SyllableTokenizer()"
   ]
  },
  {
   "cell_type": "code",
   "execution_count": 11,
   "id": "45777d11",
   "metadata": {},
   "outputs": [],
   "source": [
    "# words = utils.preprocess_text(corpus, fun_list = [utils.to_lower, utils.remove_punct], keep = '\\<|\\>')\n",
    "# words = re.sub(r'\\n',f' {newline_token} ', words)\n",
    "# words = re.split(' +', words)\n",
    "# syllables = [[''] if token.startswith('<') else SSP.tokenize(token) for token in words]"
   ]
  },
  {
   "cell_type": "code",
   "execution_count": 34,
   "id": "56228757",
   "metadata": {},
   "outputs": [],
   "source": [
    "words, word_count, index_to_vocab, vocab_to_index, songs, songs_token_ind = utils.tokenize_corpus(corpus, window_length=1)"
   ]
  },
  {
   "cell_type": "code",
   "execution_count": 36,
   "id": "92a19a69",
   "metadata": {},
   "outputs": [],
   "source": [
    "all_syllables = []\n",
    "for song in songs:\n",
    "    syllables = []\n",
    "    for token in song:\n",
    "        if token.startswith('<'):\n",
    "            syllables.append(token)\n",
    "        else:\n",
    "            syllables += SSP.tokenize(token)\n",
    "    all_syllables.append(syllables)"
   ]
  },
  {
   "cell_type": "code",
   "execution_count": 45,
   "id": "7b6b83de",
   "metadata": {},
   "outputs": [],
   "source": [
    "song_names = [re.sub('^(.+)\\\\.txt$', '\\\\1', filename) for filename in filenames]\n",
    "\n",
    "for song_name, song in zip(song_names, all_syllables):\n",
    "    with open(f'{model_folder}/{song_name}_syllables.csv', 'w', newline='') as csvfile:\n",
    "        csv_writer = csv.writer(csvfile, delimiter=' ',\n",
    "                                quotechar='', quoting=csv.QUOTE_NONE)\n",
    "        for syllable in song:\n",
    "            csv_writer.writerow(syllable)"
   ]
  }
 ],
 "metadata": {
  "kernelspec": {
   "display_name": "Python 3",
   "language": "python",
   "name": "python3"
  },
  "language_info": {
   "codemirror_mode": {
    "name": "ipython",
    "version": 3
   },
   "file_extension": ".py",
   "mimetype": "text/x-python",
   "name": "python",
   "nbconvert_exporter": "python",
   "pygments_lexer": "ipython3",
   "version": "3.8.8"
  }
 },
 "nbformat": 4,
 "nbformat_minor": 5
}
