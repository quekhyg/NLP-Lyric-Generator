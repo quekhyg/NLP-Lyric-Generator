{
 "cells": [
  {
   "cell_type": "code",
   "execution_count": 1,
   "id": "1sqwH29gCCae",
   "metadata": {
    "colab": {
     "base_uri": "https://localhost:8080/"
    },
    "executionInfo": {
     "elapsed": 2811,
     "status": "ok",
     "timestamp": 1655031862455,
     "user": {
      "displayName": "QUEK HAO YONG, GABRIEL _",
      "userId": "08861584446371432378"
     },
     "user_tz": -480
    },
    "id": "1sqwH29gCCae",
    "outputId": "5536fe7c-11e1-44a1-d298-fb89696965d0"
   },
   "outputs": [],
   "source": [
    "# from google.colab import drive\n",
    "# drive.mount('/content/drive')\n",
    "# %cd /content/drive/MyDrive/SMU_MITB_NLP/Group Project/NLP-Lyric-Generator/src/bin"
   ]
  },
  {
   "cell_type": "code",
   "execution_count": 1,
   "id": "eed94d9c",
   "metadata": {
    "executionInfo": {
     "elapsed": 2630,
     "status": "ok",
     "timestamp": 1655031865080,
     "user": {
      "displayName": "QUEK HAO YONG, GABRIEL _",
      "userId": "08861584446371432378"
     },
     "user_tz": -480
    },
    "id": "eed94d9c"
   },
   "outputs": [],
   "source": [
    "### Standard Imports\n",
    "import numpy as np\n",
    "import re\n",
    "import sys\n",
    "import os\n",
    "from collections import Counter\n",
    "\n",
    "import tensorflow as tf\n",
    "from tensorflow.keras import layers"
   ]
  },
  {
   "cell_type": "code",
   "execution_count": 2,
   "id": "18f77d0b",
   "metadata": {
    "executionInfo": {
     "elapsed": 561,
     "status": "ok",
     "timestamp": 1655031865632,
     "user": {
      "displayName": "QUEK HAO YONG, GABRIEL _",
      "userId": "08861584446371432378"
     },
     "user_tz": -480
    },
    "id": "18f77d0b"
   },
   "outputs": [],
   "source": [
    "### Custom Imports\n",
    "sys.path.append('../')\n",
    "import lib.utilities as utils\n",
    "import lib.autoencoder_utilities as ae_utils"
   ]
  },
  {
   "cell_type": "code",
   "execution_count": 3,
   "id": "QsvWeCUNxSvd",
   "metadata": {
    "executionInfo": {
     "elapsed": 8,
     "status": "ok",
     "timestamp": 1655031865633,
     "user": {
      "displayName": "QUEK HAO YONG, GABRIEL _",
      "userId": "08861584446371432378"
     },
     "user_tz": -480
    },
    "id": "QsvWeCUNxSvd"
   },
   "outputs": [],
   "source": [
    "### Text Parameters\n",
    "start_token = '<cls>'\n",
    "end_token = '<eos>'\n",
    "pad_token = '<pad>'\n",
    "unk_token = '<unk>'\n",
    "newline_token = '<new>'\n",
    "mask_token = '<mask>'\n",
    "\n",
    "### General Parameters\n",
    "random_seed = 2022\n",
    "model_folder = '../../../autoencoder/lstm/v5'\n",
    "model_name = 'ae_lstm_att_mask_song'\n",
    "\n",
    "### Model Parameters\n",
    "val_split = 0.2\n",
    "batch_size = 4\n",
    "enc_dim, dec_dim = 256, 256\n",
    "learn_rate = 0.001\n",
    "epochs = 10\n",
    "dropout = 0.05\n",
    "recurrent_dropout = 0.05"
   ]
  },
  {
   "cell_type": "code",
   "execution_count": 4,
   "id": "zy-R6jQR4Ozz",
   "metadata": {
    "executionInfo": {
     "elapsed": 8,
     "status": "ok",
     "timestamp": 1655031865633,
     "user": {
      "displayName": "QUEK HAO YONG, GABRIEL _",
      "userId": "08861584446371432378"
     },
     "user_tz": -480
    },
    "id": "zy-R6jQR4Ozz"
   },
   "outputs": [],
   "source": [
    "os.makedirs(model_folder, exist_ok=True)"
   ]
  },
  {
   "cell_type": "code",
   "execution_count": 5,
   "id": "e1f082fd",
   "metadata": {
    "executionInfo": {
     "elapsed": 8,
     "status": "ok",
     "timestamp": 1655031865634,
     "user": {
      "displayName": "QUEK HAO YONG, GABRIEL _",
      "userId": "08861584446371432378"
     },
     "user_tz": -480
    },
    "id": "e1f082fd"
   },
   "outputs": [],
   "source": [
    "### Load Data\n",
    "corpus = utils.load_corpus()\n",
    "train_corpus, val_corpus, train_files, val_files = utils.split_corpus()"
   ]
  },
  {
   "cell_type": "code",
   "execution_count": 6,
   "id": "52adf0e5",
   "metadata": {
    "executionInfo": {
     "elapsed": 8,
     "status": "ok",
     "timestamp": 1655031865634,
     "user": {
      "displayName": "QUEK HAO YONG, GABRIEL _",
      "userId": "08861584446371432378"
     },
     "user_tz": -480
    },
    "id": "52adf0e5",
    "scrolled": true
   },
   "outputs": [],
   "source": [
    "### Pre-Processing Text\n",
    "_, word_count, index_to_vocab, vocab_to_index, songs, songs_token_ind = utils.tokenize_corpus(corpus,\n",
    "                                                                            window_length = window_len,\n",
    "                                                                            end_token = end_token,\n",
    "                                                                            start_token = start_token,\n",
    "                                                                            pad_token = pad_token,\n",
    "                                                                            unk_token = unk_token,\n",
    "                                                                            newline_token = newline_token,\n",
    "                                                                            mask_token = mask_token,\n",
    "                                                                                             padding = False)\n",
    "vocab_size = len(word_count)\n",
    "\n",
    "train_words, _, _, _, train_songs, train_songs_token_ind = utils.tokenize_corpus(train_corpus,\n",
    "                                                                       window_length = window_len,\n",
    "                                                                       index_to_vocab = index_to_vocab,\n",
    "                                                                       vocab_to_index = vocab_to_index,\n",
    "                                                                       end_token = end_token,\n",
    "                                                                       start_token = start_token,\n",
    "                                                                       pad_token = pad_token,\n",
    "                                                                       unk_token = unk_token,\n",
    "                                                                       newline_token = newline_token,\n",
    "                                                                       mask_token = mask_token,\n",
    "                                                                                padding = False)\n",
    "\n",
    "val_words, _, _, _, val_songs, val_songs_token_ind = utils.tokenize_corpus(val_corpus,\n",
    "                                                           window_length = window_len,\n",
    "                                                           index_to_vocab = index_to_vocab,\n",
    "                                                           vocab_to_index = vocab_to_index,\n",
    "                                                           end_token = end_token,\n",
    "                                                           start_token = start_token,\n",
    "                                                           pad_token = pad_token,\n",
    "                                                           unk_token = unk_token,\n",
    "                                                           newline_token = newline_token,\n",
    "                                                           mask_token = mask_token,\n",
    "                                                                          padding = False)"
   ]
  },
  {
   "cell_type": "code",
   "execution_count": 18,
   "id": "a8f196a1",
   "metadata": {},
   "outputs": [],
   "source": [
    "max_length = max(len(song) for song in songs)\n",
    "window_len = max_length"
   ]
  },
  {
   "cell_type": "code",
   "execution_count": 11,
   "id": "cb1a6431",
   "metadata": {
    "executionInfo": {
     "elapsed": 8,
     "status": "ok",
     "timestamp": 1655031865634,
     "user": {
      "displayName": "QUEK HAO YONG, GABRIEL _",
      "userId": "08861584446371432378"
     },
     "user_tz": -480
    },
    "id": "cb1a6431"
   },
   "outputs": [],
   "source": [
    "### Need to reorg - Encoder has whole song, decoder has all prev tokens, y is the next token\n",
    "\n",
    "train_x_encoder, train_x_decoder, train_y = ae_utils.construct_song_seq(train_songs_token_ind,\n",
    "                                                                        pad_index = vocab_to_index[pad_token],\n",
    "                                                                        max_len = max_length,\n",
    "                                                                        n_copies = 10,\n",
    "                                                                        mask_prob = 0.15,\n",
    "                                                                        mask_index = vocab_to_index[mask_token],\n",
    "                                                                        random_seed = random_seed)\n",
    "\n",
    "val_x_encoder, val_x_decoder, val_y = ae_utils.construct_song_seq(val_songs_token_ind,\n",
    "                                                                        pad_index = vocab_to_index[pad_token],\n",
    "                                                                        max_len = max_length,\n",
    "                                                                        n_copies = 1,\n",
    "                                                                        mask_prob = 0,\n",
    "                                                                        mask_index = vocab_to_index[mask_token],\n",
    "                                                                        random_seed = random_seed)"
   ]
  },
  {
   "cell_type": "code",
   "execution_count": 12,
   "id": "KY-CHZ0CcP2C",
   "metadata": {
    "colab": {
     "base_uri": "https://localhost:8080/"
    },
    "collapsed": true,
    "executionInfo": {
     "elapsed": 9,
     "status": "ok",
     "timestamp": 1655031865635,
     "user": {
      "displayName": "QUEK HAO YONG, GABRIEL _",
      "userId": "08861584446371432378"
     },
     "user_tz": -480
    },
    "id": "KY-CHZ0CcP2C",
    "outputId": "88875d23-a4aa-4792-ce79-ef6c38bd78a2"
   },
   "outputs": [
    {
     "name": "stdout",
     "output_type": "stream",
     "text": [
      "['<verse>', '<mask>', 'at', '<mask>', 'time', 'when', '<mask>', '<mask>', 'low', '<new>', 'the', 'journey', 'seemed', 'unsure', '<new>', 'but', 'through', 'it', 'all', '<new>', 'we', '<mask>', 'kept', 'the', 'flame', '<mask>', '<new>', '<mask>', '<mask>', '<new>', '<mask>', 'standing', '<mask>', 'and', '<mask>', '<new>', 'our', '<mask>', 'strong', 'and', 'free', '<new>', 'building', 'on', 'hopes', 'and', 'dreams', '<mask>', 'it', 'is', '<mask>', 'we', 'want', 'to', 'be', '<mask>', '<new>', '<chorus>', '<new>', 'let', '<mask>', 'reach', 'out', 'for', 'the', 'skies', '<new>', 'with', '<mask>', 'we', 'soar', '<mask>', 'high', '<new>', 'our', 'dreams', 'we', 'will', '<mask>', 'achieve', '<new>', 'we', '<mask>', 'make', 'our', 'destiny', '<new>', 'let', 'is', 'reach', '<mask>', 'for', 'the', 'skies', '<new>', 'with', 'wings', 'we', 'soar', 'up', 'high', '<new>', 'our', 'dreams', 'we', 'will', 'all', 'achieve', '<mask>', 'let', 'is', '<mask>', '<mask>', 'reach', 'for', '<mask>', 'skies', '<new>', '<new>', '<verse>', '<new>', 'when', 'i', '<mask>', 'about', 'my', 'dreams', '<mask>', 'the', '<mask>', 'it', '<mask>', 'be', '<mask>', 'the', 'time', 'has', '<mask>', 'for', 'me', '<new>', 'to', 'strive', 'and', 'to', '<mask>', '<new>', 'with', 'hopes', '<mask>', 'our', 'hearts', '<new>', 'as', 'one', 'hand', 'in', 'hand', '<new>', '<mask>', 'family', 'and', 'our', 'friends', '<new>', 'let', 'is', 'do', 'the', 'best', 'we', 'can', '<new>', '<new>', '<chorus>', '<new>', 'let', '<mask>', 'reach', 'out', 'for', 'the', 'skies', '<new>', 'with', 'wings', 'we', 'soar', 'up', 'high', '<new>', 'our', 'dreams', 'we', 'will', 'all', 'achieve', '<new>', 'we', 'will', 'make', 'our', 'destiny', '<new>', 'let', 'is', 'reach', 'out', '<mask>', 'the', 'skies', '<new>', 'with', 'wings', 'we', 'soar', 'up', '<mask>', '<new>', 'our', 'dreams', 'we', 'will', '<mask>', 'achieve', '<new>', 'let', 'is', '<mask>', 'and', 'reach', 'for', 'the', 'skies', '<new>', '<mask>', 'dreams', 'we', 'will', 'all', 'achieve', '<new>', 'let', 'is', 'soar', 'and', 'reach', 'for', 'the', '<mask>', '<new>', '<mask>', 'can', '<mask>', 'the', 'skies', '<pad>', '<pad>', '<pad>', '<pad>', '<pad>', '<pad>', '<pad>', '<pad>', '<pad>', '<pad>', '<pad>', '<pad>', '<pad>', '<pad>', '<pad>', '<pad>', '<pad>', '<pad>', '<pad>', '<pad>', '<pad>', '<pad>', '<pad>', '<pad>', '<pad>', '<pad>', '<pad>', '<pad>', '<pad>', '<pad>', '<pad>', '<pad>', '<pad>', '<pad>', '<pad>', '<pad>', '<pad>', '<pad>', '<pad>', '<pad>', '<pad>', '<pad>', '<pad>', '<pad>', '<pad>', '<pad>', '<pad>', '<pad>', '<pad>', '<pad>', '<pad>', '<pad>', '<pad>', '<pad>', '<pad>', '<pad>', '<pad>', '<pad>', '<pad>', '<pad>', '<pad>', '<pad>', '<pad>', '<pad>', '<pad>', '<pad>', '<pad>', '<pad>', '<pad>', '<pad>', '<pad>', '<pad>', '<pad>', '<pad>', '<pad>', '<pad>', '<pad>', '<pad>', '<pad>', '<pad>', '<pad>', '<pad>', '<pad>', '<pad>', '<pad>', '<pad>', '<pad>', '<pad>', '<pad>', '<pad>', '<pad>', '<pad>', '<pad>', '<pad>', '<pad>', '<pad>', '<pad>', '<pad>', '<pad>', '<pad>', '<pad>', '<pad>', '<pad>', '<pad>', '<pad>', '<pad>', '<pad>', '<pad>', '<pad>', '<pad>', '<pad>', '<pad>', '<pad>', '<pad>', '<pad>', '<pad>', '<pad>', '<pad>', '<pad>', '<pad>', '<pad>', '<pad>', '<pad>', '<pad>', '<pad>', '<pad>', '<pad>', '<pad>', '<pad>', '<pad>', '<pad>', '<pad>', '<pad>', '<pad>', '<pad>', '<pad>', '<pad>', '<pad>', '<pad>', '<pad>', '<pad>', '<pad>', '<pad>', '<pad>', '<pad>', '<pad>', '<pad>', '<pad>', '<pad>', '<pad>', '<pad>', '<pad>', '<pad>', '<pad>', '<pad>', '<pad>', '<pad>', '<pad>', '<pad>', '<pad>', '<pad>', '<pad>', '<pad>', '<pad>', '<pad>', '<pad>', '<pad>', '<pad>', '<pad>', '<pad>', '<pad>', '<pad>', '<pad>', '<pad>', '<pad>', '<pad>', '<pad>', '<pad>', '<pad>', '<pad>', '<pad>', '<pad>', '<pad>', '<pad>', '<pad>', '<pad>', '<pad>', '<pad>', '<pad>', '<pad>', '<pad>', '<pad>', '<pad>', '<pad>', '<pad>', '<pad>', '<pad>', '<pad>', '<pad>', '<pad>', '<pad>', '<pad>', '<pad>', '<pad>', '<pad>', '<pad>', '<pad>', '<pad>', '<pad>', '<pad>', '<pad>', '<pad>', '<pad>', '<pad>', '<pad>', '<pad>', '<pad>', '<pad>', '<pad>', '<pad>', '<pad>', '<pad>', '<pad>', '<pad>', '<pad>', '<pad>', '<pad>', '<pad>', '<pad>', '<pad>', '<pad>', '<pad>', '<pad>', '<pad>', '<pad>', '<pad>', '<pad>', '<pad>', '<pad>', '<pad>', '<pad>', '<pad>', '<pad>', '<pad>', '<pad>', '<pad>', '<pad>', '<pad>', '<pad>', '<pad>', '<pad>', '<pad>', '<pad>', '<pad>', '<pad>', '<pad>', '<pad>', '<pad>', '<pad>', '<pad>', '<pad>', '<pad>', '<pad>', '<pad>', '<pad>', '<pad>', '<pad>', '<pad>', '<pad>', '<pad>', '<pad>', '<pad>', '<pad>', '<pad>', '<pad>', '<pad>', '<pad>', '<pad>', '<pad>', '<pad>', '<pad>', '<pad>', '<pad>']\n",
      "['<verse>', '<mask>', 'at', '<mask>', 'time', 'when', '<mask>', '<mask>', 'low', '<new>', 'the', 'journey', 'seemed', 'unsure', '<new>', 'but', 'through', 'it', 'all', '<new>', 'we', '<mask>', 'kept', 'the', 'flame', '<mask>', '<new>', '<mask>', '<mask>', '<new>', '<mask>', 'standing', '<mask>', 'and', '<mask>', '<new>', 'our', '<mask>', 'strong', 'and', 'free', '<new>', 'building', 'on', 'hopes', 'and', 'dreams', '<mask>', 'it', 'is', '<mask>', 'we', 'want', 'to', 'be', '<mask>', '<new>', '<chorus>', '<new>', 'let', '<mask>', 'reach', 'out', 'for', 'the', 'skies', '<new>', 'with', '<mask>', 'we', 'soar', '<mask>', 'high', '<new>', 'our', 'dreams', 'we', 'will', '<mask>', 'achieve', '<new>', 'we', '<mask>', 'make', 'our', 'destiny', '<new>', 'let', 'is', 'reach', '<mask>', 'for', 'the', 'skies', '<new>', 'with', 'wings', 'we', 'soar', 'up', 'high', '<new>', 'our', 'dreams', 'we', 'will', 'all', 'achieve', '<mask>', 'let', 'is', '<mask>', '<mask>', 'reach', 'for', '<mask>', 'skies', '<new>', '<new>', '<verse>', '<new>', 'when', 'i', '<mask>', 'about', 'my', 'dreams', '<mask>', 'the', '<mask>', 'it', '<mask>', 'be', '<mask>', 'the', 'time', 'has', '<mask>', 'for', 'me', '<new>', 'to', 'strive', 'and', 'to', '<mask>', '<new>', 'with', 'hopes', '<mask>', 'our', 'hearts', '<new>', 'as', 'one', 'hand', 'in', 'hand', '<new>', '<mask>', 'family', 'and', 'our', 'friends', '<new>', 'let', 'is', 'do', 'the', 'best', 'we', 'can', '<new>', '<new>', '<chorus>', '<new>', 'let', '<mask>', 'reach', 'out', 'for', 'the', 'skies', '<new>', 'with', 'wings', 'we', 'soar', 'up', 'high', '<new>', 'our', 'dreams', 'we', 'will', 'all', 'achieve', '<new>', 'we', 'will', 'make', 'our', 'destiny', '<new>', 'let', 'is', 'reach', 'out', '<mask>', 'the', 'skies', '<new>', 'with', 'wings', 'we', 'soar', 'up', '<mask>', '<new>', 'our', 'dreams', 'we', 'will', '<mask>', 'achieve', '<new>', 'let', 'is', '<mask>', 'and', 'reach', 'for', 'the', 'skies', '<new>', '<mask>', 'dreams', 'we', 'will', 'all', 'achieve', '<new>', 'let', 'is', 'soar', 'and', 'reach', 'for', 'the', '<mask>', '<new>', '<mask>', 'can', '<mask>', 'the', 'skies', '<pad>', '<pad>', '<pad>', '<pad>', '<pad>', '<pad>', '<pad>', '<pad>', '<pad>', '<pad>', '<pad>', '<pad>', '<pad>', '<pad>', '<pad>', '<pad>', '<pad>', '<pad>', '<pad>', '<pad>', '<pad>', '<pad>', '<pad>', '<pad>', '<pad>', '<pad>', '<pad>', '<pad>', '<pad>', '<pad>', '<pad>', '<pad>', '<pad>', '<pad>', '<pad>', '<pad>', '<pad>', '<pad>', '<pad>', '<pad>', '<pad>', '<pad>', '<pad>', '<pad>', '<pad>', '<pad>', '<pad>', '<pad>', '<pad>', '<pad>', '<pad>', '<pad>', '<pad>', '<pad>', '<pad>', '<pad>', '<pad>', '<pad>', '<pad>', '<pad>', '<pad>', '<pad>', '<pad>', '<pad>', '<pad>', '<pad>', '<pad>', '<pad>', '<pad>', '<pad>', '<pad>', '<pad>', '<pad>', '<pad>', '<pad>', '<pad>', '<pad>', '<pad>', '<pad>', '<pad>', '<pad>', '<pad>', '<pad>', '<pad>', '<pad>', '<pad>', '<pad>', '<pad>', '<pad>', '<pad>', '<pad>', '<pad>', '<pad>', '<pad>', '<pad>', '<pad>', '<pad>', '<pad>', '<pad>', '<pad>', '<pad>', '<pad>', '<pad>', '<pad>', '<pad>', '<pad>', '<pad>', '<pad>', '<pad>', '<pad>', '<pad>', '<pad>', '<pad>', '<pad>', '<pad>', '<pad>', '<pad>', '<pad>', '<pad>', '<pad>', '<pad>', '<pad>', '<pad>', '<pad>', '<pad>', '<pad>', '<pad>', '<pad>', '<pad>', '<pad>', '<pad>', '<pad>', '<pad>', '<pad>', '<pad>', '<pad>', '<pad>', '<pad>', '<pad>', '<pad>', '<pad>', '<pad>', '<pad>', '<pad>', '<pad>', '<pad>', '<pad>', '<pad>', '<pad>', '<pad>', '<pad>', '<pad>', '<pad>', '<pad>', '<pad>', '<pad>', '<pad>', '<pad>', '<pad>', '<pad>', '<pad>', '<pad>', '<pad>', '<pad>', '<pad>', '<pad>', '<pad>', '<pad>', '<pad>', '<pad>', '<pad>', '<pad>', '<pad>', '<pad>', '<pad>', '<pad>', '<pad>', '<pad>', '<pad>', '<pad>', '<pad>', '<pad>', '<pad>', '<pad>', '<pad>', '<pad>', '<pad>', '<pad>', '<pad>', '<pad>', '<pad>', '<pad>', '<pad>', '<pad>', '<pad>', '<pad>', '<pad>', '<pad>', '<pad>', '<pad>', '<pad>', '<pad>', '<pad>', '<pad>', '<pad>', '<pad>', '<pad>', '<pad>', '<pad>', '<pad>', '<pad>', '<pad>', '<pad>', '<pad>', '<pad>', '<pad>', '<pad>', '<pad>', '<pad>', '<pad>', '<pad>', '<pad>', '<pad>', '<pad>', '<pad>', '<pad>', '<pad>', '<pad>', '<pad>', '<pad>', '<pad>', '<pad>', '<pad>', '<pad>', '<pad>', '<pad>', '<pad>', '<pad>', '<pad>', '<pad>', '<pad>', '<pad>', '<pad>', '<pad>', '<pad>', '<pad>', '<pad>', '<pad>', '<pad>', '<pad>', '<pad>', '<pad>', '<pad>', '<pad>', '<pad>', '<pad>', '<pad>', '<pad>', '<pad>', '<pad>', '<pad>', '<pad>', '<pad>', '<pad>', '<pad>', '<pad>', '<pad>', '<pad>', '<pad>', '<pad>', '<pad>', '<pad>', '<pad>', '<pad>', '<pad>', '<pad>', '<pad>', '<pad>', '<pad>', '<pad>', '<pad>', '<pad>', '<pad>']\n",
      "['<verse>', '<new>', 'at', 'a', 'time', 'when', 'hope', 'was', 'low', '<new>', 'the', 'journey', 'seemed', 'unsure', '<new>', 'but', 'through', 'it', 'all', '<new>', 'we', 'have', 'kept', 'the', 'flame', 'alive', '<new>', '<new>', '<verse>', '<new>', 'now', 'standing', 'proud', 'and', 'tall', '<new>', 'our', 'spirit', 'strong', 'and', 'free', '<new>', 'building', 'on', 'hopes', 'and', 'dreams', '<new>', 'it', 'is', 'here', 'we', 'want', 'to', 'be', '<new>', '<new>', '<chorus>', '<new>', 'let', 'is', 'reach', 'out', 'for', 'the', 'skies', '<new>', 'with', 'wings', 'we', 'soar', 'up', 'high', '<new>', 'our', 'dreams', 'we', 'will', 'all', 'achieve', '<new>', 'we', 'will', 'make', 'our', 'destiny', '<new>', 'let', 'is', 'reach', 'out', 'for', 'the', 'skies', '<new>', 'with', 'wings', 'we', 'soar', 'up', 'high', '<new>', 'our', 'dreams', 'we', 'will', 'all', 'achieve', '<new>', 'let', 'is', 'soar', 'and', 'reach', 'for', 'the', 'skies', '<new>', '<new>', '<verse>', '<new>', 'when', 'i', 'think', 'about', 'my', 'dreams', '<new>', 'the', 'future', 'it', 'can', 'be', '<new>', 'the', 'time', 'has', 'come', 'for', 'me', '<new>', 'to', 'strive', 'and', 'to', 'achieve', '<new>', 'with', 'hopes', 'within', 'our', 'hearts', '<new>', 'as', 'one', 'hand', 'in', 'hand', '<new>', 'for', 'family', 'and', 'our', 'friends', '<new>', 'let', 'is', 'do', 'the', 'best', 'we', 'can', '<new>', '<new>', '<chorus>', '<new>', 'let', 'is', 'reach', 'out', 'for', 'the', 'skies', '<new>', 'with', 'wings', 'we', 'soar', 'up', 'high', '<new>', 'our', 'dreams', 'we', 'will', 'all', 'achieve', '<new>', 'we', 'will', 'make', 'our', 'destiny', '<new>', 'let', 'is', 'reach', 'out', 'for', 'the', 'skies', '<new>', 'with', 'wings', 'we', 'soar', 'up', 'high', '<new>', 'our', 'dreams', 'we', 'will', 'all', 'achieve', '<new>', 'let', 'is', 'soar', 'and', 'reach', 'for', 'the', 'skies', '<new>', 'our', 'dreams', 'we', 'will', 'all', 'achieve', '<new>', 'let', 'is', 'soar', 'and', 'reach', 'for', 'the', 'skies', '<new>', 'we', 'can', 'touch', 'the', 'skies', '<pad>', '<pad>', '<pad>', '<pad>', '<pad>', '<pad>', '<pad>', '<pad>', '<pad>', '<pad>', '<pad>', '<pad>', '<pad>', '<pad>', '<pad>', '<pad>', '<pad>', '<pad>', '<pad>', '<pad>', '<pad>', '<pad>', '<pad>', '<pad>', '<pad>', '<pad>', '<pad>', '<pad>', '<pad>', '<pad>', '<pad>', '<pad>', '<pad>', '<pad>', '<pad>', '<pad>', '<pad>', '<pad>', '<pad>', '<pad>', '<pad>', '<pad>', '<pad>', '<pad>', '<pad>', '<pad>', '<pad>', '<pad>', '<pad>', '<pad>', '<pad>', '<pad>', '<pad>', '<pad>', '<pad>', '<pad>', '<pad>', '<pad>', '<pad>', '<pad>', '<pad>', '<pad>', '<pad>', '<pad>', '<pad>', '<pad>', '<pad>', '<pad>', '<pad>', '<pad>', '<pad>', '<pad>', '<pad>', '<pad>', '<pad>', '<pad>', '<pad>', '<pad>', '<pad>', '<pad>', '<pad>', '<pad>', '<pad>', '<pad>', '<pad>', '<pad>', '<pad>', '<pad>', '<pad>', '<pad>', '<pad>', '<pad>', '<pad>', '<pad>', '<pad>', '<pad>', '<pad>', '<pad>', '<pad>', '<pad>', '<pad>', '<pad>', '<pad>', '<pad>', '<pad>', '<pad>', '<pad>', '<pad>', '<pad>', '<pad>', '<pad>', '<pad>', '<pad>', '<pad>', '<pad>', '<pad>', '<pad>', '<pad>', '<pad>', '<pad>', '<pad>', '<pad>', '<pad>', '<pad>', '<pad>', '<pad>', '<pad>', '<pad>', '<pad>', '<pad>', '<pad>', '<pad>', '<pad>', '<pad>', '<pad>', '<pad>', '<pad>', '<pad>', '<pad>', '<pad>', '<pad>', '<pad>', '<pad>', '<pad>', '<pad>', '<pad>', '<pad>', '<pad>', '<pad>', '<pad>', '<pad>', '<pad>', '<pad>', '<pad>', '<pad>', '<pad>', '<pad>', '<pad>', '<pad>', '<pad>', '<pad>', '<pad>', '<pad>', '<pad>', '<pad>', '<pad>', '<pad>', '<pad>', '<pad>', '<pad>', '<pad>', '<pad>', '<pad>', '<pad>', '<pad>', '<pad>', '<pad>', '<pad>', '<pad>', '<pad>', '<pad>', '<pad>', '<pad>', '<pad>', '<pad>', '<pad>', '<pad>', '<pad>', '<pad>', '<pad>', '<pad>', '<pad>', '<pad>', '<pad>', '<pad>', '<pad>', '<pad>', '<pad>', '<pad>', '<pad>', '<pad>', '<pad>', '<pad>', '<pad>', '<pad>', '<pad>', '<pad>', '<pad>', '<pad>', '<pad>', '<pad>', '<pad>', '<pad>', '<pad>', '<pad>', '<pad>', '<pad>', '<pad>', '<pad>', '<pad>', '<pad>', '<pad>', '<pad>', '<pad>', '<pad>', '<pad>', '<pad>', '<pad>', '<pad>', '<pad>', '<pad>', '<pad>', '<pad>', '<pad>', '<pad>', '<pad>', '<pad>', '<pad>', '<pad>', '<pad>', '<pad>', '<pad>', '<pad>', '<pad>', '<pad>', '<pad>', '<pad>', '<pad>', '<pad>', '<pad>', '<pad>', '<pad>', '<pad>', '<pad>', '<pad>', '<pad>', '<pad>', '<pad>', '<pad>', '<pad>', '<pad>', '<pad>', '<pad>', '<pad>', '<pad>', '<pad>', '<pad>', '<pad>', '<pad>', '<pad>', '<pad>', '<pad>', '<pad>', '<pad>', '<pad>', '<pad>', '<pad>', '<pad>', '<pad>', '<pad>', '<pad>', '<pad>', '<pad>']\n",
      "['<verse>', '<new>', 'there', 'is', 'a', 'new', 'moon', 'arising', '<new>', 'out', 'of', 'the', 'stormy', 'sea', '<new>', 'youthful', 'and', 'bright', 'and', 'bearing', 'hope', '<new>', 'and', 'tranquil', 'as', 'can', 'be', '<new>', 'reach', 'out', 'for', 'the', 'moon', 'above', '<new>', 'savour', 'freedom', 'truth', 'and', 'love', '<new>', 'there', 'is', 'a', 'new', 'moon', 'arising', '<new>', 'out', 'of', 'the', 'stormy', 'sea', '<new>', '<new>', '<verse>', '<new>', 'there', 'are', 'five', 'stars', 'arising', '<new>', 'out', 'of', 'the', 'stormy', 'sea', '<new>', 'each', 'is', 'a', 'lamp', 'to', 'guide', 'our', 'way', '<new>', 'a', 'lamp', 'for', 'all', 'to', 'see', '<new>', 'reach', 'out', 'for', 'the', 'stars', 'above', '<new>', 'savour', 'freedom', 'truth', 'and', 'love', '<new>', 'there', 'are', 'five', 'stars', 'arising', '<new>', 'out', 'of', 'the', 'stormy', 'sea', '<new>', '<new>', '<verse>', '<new>', 'there', 'is', 'a', 'new', 'flag', 'arising', '<new>', 'out', 'of', 'the', 'stormy', 'sea', '<new>', 'crimson', 'as', 'the', 'blood', 'of', 'all', 'mankind', '<new>', 'yet', 'white', 'and', 'pure', 'and', 'free', '<new>', 'reach', 'out', 'for', 'the', 'flag', 'above', '<new>', 'savour', 'freedom', 'truth', 'and', 'love', '<new>', 'there', 'is', 'a', 'new', 'flag', 'arising', '<new>', 'happy', 'and', 'proud', 'are', 'we', '<new>', '<new>', '<verse>', '<new>', 'there', 'is', 'a', 'new', 'flag', 'arising', '<new>', 'out', 'of', 'the', 'stormy', 'sea', '<new>', 'crimson', 'as', 'the', 'blood', 'of', 'all', 'mankind', '<new>', 'yet', 'white', 'and', 'pure', 'and', 'free', '<new>', 'reach', 'out', 'for', 'the', 'flag', 'above', '<new>', 'savour', 'freedom', 'truth', 'and', 'love', '<new>', 'there', 'is', 'a', 'new', 'flag', 'arising', '<new>', 'happy', 'and', 'proud', 'are', 'we', '<pad>', '<pad>', '<pad>', '<pad>', '<pad>', '<pad>', '<pad>', '<pad>', '<pad>', '<pad>', '<pad>', '<pad>', '<pad>', '<pad>', '<pad>', '<pad>', '<pad>', '<pad>', '<pad>', '<pad>', '<pad>', '<pad>', '<pad>', '<pad>', '<pad>', '<pad>', '<pad>', '<pad>', '<pad>', '<pad>', '<pad>', '<pad>', '<pad>', '<pad>', '<pad>', '<pad>', '<pad>', '<pad>', '<pad>', '<pad>', '<pad>', '<pad>', '<pad>', '<pad>', '<pad>', '<pad>', '<pad>', '<pad>', '<pad>', '<pad>', '<pad>', '<pad>', '<pad>', '<pad>', '<pad>', '<pad>', '<pad>', '<pad>', '<pad>', '<pad>', '<pad>', '<pad>', '<pad>', '<pad>', '<pad>', '<pad>', '<pad>', '<pad>', '<pad>', '<pad>', '<pad>', '<pad>', '<pad>', '<pad>', '<pad>', '<pad>', '<pad>', '<pad>', '<pad>', '<pad>', '<pad>', '<pad>', '<pad>', '<pad>', '<pad>', '<pad>', '<pad>', '<pad>', '<pad>', '<pad>', '<pad>', '<pad>', '<pad>', '<pad>', '<pad>', '<pad>', '<pad>', '<pad>', '<pad>', '<pad>', '<pad>', '<pad>', '<pad>', '<pad>', '<pad>', '<pad>', '<pad>', '<pad>', '<pad>', '<pad>', '<pad>', '<pad>', '<pad>', '<pad>', '<pad>', '<pad>', '<pad>', '<pad>', '<pad>', '<pad>', '<pad>', '<pad>', '<pad>', '<pad>', '<pad>', '<pad>', '<pad>', '<pad>', '<pad>', '<pad>', '<pad>', '<pad>', '<pad>', '<pad>', '<pad>', '<pad>', '<pad>', '<pad>', '<pad>', '<pad>', '<pad>', '<pad>', '<pad>', '<pad>', '<pad>', '<pad>', '<pad>', '<pad>', '<pad>', '<pad>', '<pad>', '<pad>', '<pad>', '<pad>', '<pad>', '<pad>', '<pad>', '<pad>', '<pad>', '<pad>', '<pad>', '<pad>', '<pad>', '<pad>', '<pad>', '<pad>', '<pad>', '<pad>', '<pad>', '<pad>', '<pad>', '<pad>', '<pad>', '<pad>', '<pad>', '<pad>', '<pad>', '<pad>', '<pad>', '<pad>', '<pad>', '<pad>', '<pad>', '<pad>', '<pad>', '<pad>', '<pad>', '<pad>', '<pad>', '<pad>', '<pad>', '<pad>', '<pad>', '<pad>', '<pad>', '<pad>', '<pad>', '<pad>', '<pad>', '<pad>', '<pad>', '<pad>', '<pad>', '<pad>', '<pad>', '<pad>', '<pad>', '<pad>', '<pad>', '<pad>', '<pad>', '<pad>', '<pad>', '<pad>', '<pad>', '<pad>', '<pad>', '<pad>', '<pad>', '<pad>', '<pad>', '<pad>', '<pad>', '<pad>', '<pad>', '<pad>', '<pad>', '<pad>', '<pad>', '<pad>', '<pad>', '<pad>', '<pad>', '<pad>', '<pad>', '<pad>', '<pad>', '<pad>', '<pad>', '<pad>', '<pad>', '<pad>', '<pad>', '<pad>', '<pad>', '<pad>', '<pad>', '<pad>', '<pad>', '<pad>', '<pad>', '<pad>', '<pad>', '<pad>', '<pad>', '<pad>', '<pad>', '<pad>', '<pad>', '<pad>', '<pad>', '<pad>', '<pad>', '<pad>', '<pad>', '<pad>', '<pad>', '<pad>', '<pad>', '<pad>', '<pad>', '<pad>', '<pad>', '<pad>', '<pad>', '<pad>', '<pad>', '<pad>', '<pad>', '<pad>', '<pad>', '<pad>', '<pad>', '<pad>', '<pad>', '<pad>', '<pad>', '<pad>', '<pad>', '<pad>', '<pad>', '<pad>', '<pad>', '<pad>', '<pad>', '<pad>', '<pad>', '<pad>', '<pad>', '<pad>', '<pad>', '<pad>', '<pad>', '<pad>', '<pad>', '<pad>', '<pad>', '<pad>', '<pad>', '<pad>', '<pad>', '<pad>', '<pad>', '<pad>', '<pad>', '<pad>']\n",
      "['<verse>', '<new>', 'there', 'is', 'a', 'new', 'moon', 'arising', '<new>', 'out', 'of', 'the', 'stormy', 'sea', '<new>', 'youthful', 'and', 'bright', 'and', 'bearing', 'hope', '<new>', 'and', 'tranquil', 'as', 'can', 'be', '<new>', 'reach', 'out', 'for', 'the', 'moon', 'above', '<new>', 'savour', 'freedom', 'truth', 'and', 'love', '<new>', 'there', 'is', 'a', 'new', 'moon', 'arising', '<new>', 'out', 'of', 'the', 'stormy', 'sea', '<new>', '<new>', '<verse>', '<new>', 'there', 'are', 'five', 'stars', 'arising', '<new>', 'out', 'of', 'the', 'stormy', 'sea', '<new>', 'each', 'is', 'a', 'lamp', 'to', 'guide', 'our', 'way', '<new>', 'a', 'lamp', 'for', 'all', 'to', 'see', '<new>', 'reach', 'out', 'for', 'the', 'stars', 'above', '<new>', 'savour', 'freedom', 'truth', 'and', 'love', '<new>', 'there', 'are', 'five', 'stars', 'arising', '<new>', 'out', 'of', 'the', 'stormy', 'sea', '<new>', '<new>', '<verse>', '<new>', 'there', 'is', 'a', 'new', 'flag', 'arising', '<new>', 'out', 'of', 'the', 'stormy', 'sea', '<new>', 'crimson', 'as', 'the', 'blood', 'of', 'all', 'mankind', '<new>', 'yet', 'white', 'and', 'pure', 'and', 'free', '<new>', 'reach', 'out', 'for', 'the', 'flag', 'above', '<new>', 'savour', 'freedom', 'truth', 'and', 'love', '<new>', 'there', 'is', 'a', 'new', 'flag', 'arising', '<new>', 'happy', 'and', 'proud', 'are', 'we', '<new>', '<new>', '<verse>', '<new>', 'there', 'is', 'a', 'new', 'flag', 'arising', '<new>', 'out', 'of', 'the', 'stormy', 'sea', '<new>', 'crimson', 'as', 'the', 'blood', 'of', 'all', 'mankind', '<new>', 'yet', 'white', 'and', 'pure', 'and', 'free', '<new>', 'reach', 'out', 'for', 'the', 'flag', 'above', '<new>', 'savour', 'freedom', 'truth', 'and', 'love', '<new>', 'there', 'is', 'a', 'new', 'flag', 'arising', '<new>', 'happy', 'and', 'proud', 'are', 'we', '<pad>', '<pad>', '<pad>', '<pad>', '<pad>', '<pad>', '<pad>', '<pad>', '<pad>', '<pad>', '<pad>', '<pad>', '<pad>', '<pad>', '<pad>', '<pad>', '<pad>', '<pad>', '<pad>', '<pad>', '<pad>', '<pad>', '<pad>', '<pad>', '<pad>', '<pad>', '<pad>', '<pad>', '<pad>', '<pad>', '<pad>', '<pad>', '<pad>', '<pad>', '<pad>', '<pad>', '<pad>', '<pad>', '<pad>', '<pad>', '<pad>', '<pad>', '<pad>', '<pad>', '<pad>', '<pad>', '<pad>', '<pad>', '<pad>', '<pad>', '<pad>', '<pad>', '<pad>', '<pad>', '<pad>', '<pad>', '<pad>', '<pad>', '<pad>', '<pad>', '<pad>', '<pad>', '<pad>', '<pad>', '<pad>', '<pad>', '<pad>', '<pad>', '<pad>', '<pad>', '<pad>', '<pad>', '<pad>', '<pad>', '<pad>', '<pad>', '<pad>', '<pad>', '<pad>', '<pad>', '<pad>', '<pad>', '<pad>', '<pad>', '<pad>', '<pad>', '<pad>', '<pad>', '<pad>', '<pad>', '<pad>', '<pad>', '<pad>', '<pad>', '<pad>', '<pad>', '<pad>', '<pad>', '<pad>', '<pad>', '<pad>', '<pad>', '<pad>', '<pad>', '<pad>', '<pad>', '<pad>', '<pad>', '<pad>', '<pad>', '<pad>', '<pad>', '<pad>', '<pad>', '<pad>', '<pad>', '<pad>', '<pad>', '<pad>', '<pad>', '<pad>', '<pad>', '<pad>', '<pad>', '<pad>', '<pad>', '<pad>', '<pad>', '<pad>', '<pad>', '<pad>', '<pad>', '<pad>', '<pad>', '<pad>', '<pad>', '<pad>', '<pad>', '<pad>', '<pad>', '<pad>', '<pad>', '<pad>', '<pad>', '<pad>', '<pad>', '<pad>', '<pad>', '<pad>', '<pad>', '<pad>', '<pad>', '<pad>', '<pad>', '<pad>', '<pad>', '<pad>', '<pad>', '<pad>', '<pad>', '<pad>', '<pad>', '<pad>', '<pad>', '<pad>', '<pad>', '<pad>', '<pad>', '<pad>', '<pad>', '<pad>', '<pad>', '<pad>', '<pad>', '<pad>', '<pad>', '<pad>', '<pad>', '<pad>', '<pad>', '<pad>', '<pad>', '<pad>', '<pad>', '<pad>', '<pad>', '<pad>', '<pad>', '<pad>', '<pad>', '<pad>', '<pad>', '<pad>', '<pad>', '<pad>', '<pad>', '<pad>', '<pad>', '<pad>', '<pad>', '<pad>', '<pad>', '<pad>', '<pad>', '<pad>', '<pad>', '<pad>', '<pad>', '<pad>', '<pad>', '<pad>', '<pad>', '<pad>', '<pad>', '<pad>', '<pad>', '<pad>', '<pad>', '<pad>', '<pad>', '<pad>', '<pad>', '<pad>', '<pad>', '<pad>', '<pad>', '<pad>', '<pad>', '<pad>', '<pad>', '<pad>', '<pad>', '<pad>', '<pad>', '<pad>', '<pad>', '<pad>', '<pad>', '<pad>', '<pad>', '<pad>', '<pad>', '<pad>', '<pad>', '<pad>', '<pad>', '<pad>', '<pad>', '<pad>', '<pad>', '<pad>', '<pad>', '<pad>', '<pad>', '<pad>', '<pad>', '<pad>', '<pad>', '<pad>', '<pad>', '<pad>', '<pad>', '<pad>', '<pad>', '<pad>', '<pad>', '<pad>', '<pad>', '<pad>', '<pad>', '<pad>', '<pad>', '<pad>', '<pad>', '<pad>', '<pad>', '<pad>', '<pad>', '<pad>', '<pad>', '<pad>', '<pad>', '<pad>', '<pad>', '<pad>', '<pad>', '<pad>', '<pad>', '<pad>', '<pad>', '<pad>', '<pad>', '<pad>', '<pad>', '<pad>', '<pad>', '<pad>', '<pad>', '<pad>', '<pad>', '<pad>', '<pad>', '<pad>', '<pad>', '<pad>', '<pad>', '<pad>', '<pad>', '<pad>', '<pad>', '<pad>', '<pad>', '<pad>', '<pad>', '<pad>', '<pad>']\n",
      "['<verse>', '<new>', 'i', 'have', 'a', 'dream', 'of', 'starting', 'a', 'life', '<new>', 'i', 'have', 'a', 'hope', 'a', 'flame', 'alight', '<new>', 'this', 'is', 'the', 'moment', 'freedom', 'is', 'calling', '<new>', 'this', 'is', 'my', 'start', 'a', 'new', 'beginning', '<new>', '<new>', '<verse>', '<new>', 'i', 'have', 'a', 'heart', 'it', 'beats', 'for', 'you', '<new>', 'a', 'step', 'at', 'a', 'time', 'our', 'spirits', 'renew', '<new>', 'living', 'together', 'under', 'the', 'sun', '<new>', 'our', 'hearts', 'will', 'beat', 'as', 'one', '<new>', 'as', 'one', '<new>', '<new>', '<chorus>', '<new>', 'in', 'a', 'heartbeat', 'i', 'will', 'be', 'there', 'for', 'you', '<new>', 'in', 'a', 'heartbeat', 'no', 'one', 'else', 'will', 'do', '<new>', 'in', 'a', 'heartbeat', 'we', 'will', 'always', 'be', '<new>', 'together', 'united', 'you', 'and', 'me', '<new>', 'in', 'a', 'heartbeat', 'time', 'has', 'passed', 'us', 'by', '<new>', 'in', 'a', 'heartbeat', 'we', 'will', 'reach', 'the', 'sky', '<new>', 'in', 'a', 'heartbeat', 'this', 'will', 'always', 'be', '<new>', 'our', 'people', 'our', 'country', 'this', 'is', 'our', 'family', '<new>', '<new>', '<new>', '<bridge>', '<new>', 'nothing', 'will', 'stand', 'in', 'our', 'way', '<new>', 'we', 'can', 'be', 'strong', 'today', '<new>', 'the', 'flame', 'is', 'alive', 'this', 'is', 'our', 'life', '<new>', '<new>', '<chorus>', '<new>', 'in', 'a', 'heartbeat', 'i', 'will', 'be', 'there', 'for', 'you', '<new>', 'in', 'a', 'heartbeat', 'no', 'one', 'else', 'will', 'do', '<new>', 'in', 'a', 'heartbeat', 'we', 'will', 'always', 'be', '<new>', 'together', 'united', 'you', 'and', 'me', '<new>', 'in', 'a', 'heartbeat', 'time', 'has', 'passed', 'us', 'by', '<new>', 'in', 'a', 'heartbeat', 'we', 'will', 'reach', 'the', 'sky', '<new>', 'this', 'will', 'always', 'be', '<new>', 'our', 'people', 'our', 'country', 'this', 'is', 'our', 'family', '<pad>', '<pad>', '<pad>', '<pad>', '<pad>', '<pad>', '<pad>', '<pad>', '<pad>', '<pad>', '<pad>', '<pad>', '<pad>', '<pad>', '<pad>', '<pad>', '<pad>', '<pad>', '<pad>', '<pad>', '<pad>', '<pad>', '<pad>', '<pad>', '<pad>', '<pad>', '<pad>', '<pad>', '<pad>', '<pad>', '<pad>', '<pad>', '<pad>', '<pad>', '<pad>', '<pad>', '<pad>', '<pad>', '<pad>', '<pad>', '<pad>', '<pad>', '<pad>', '<pad>', '<pad>', '<pad>', '<pad>', '<pad>', '<pad>', '<pad>', '<pad>', '<pad>', '<pad>', '<pad>', '<pad>', '<pad>', '<pad>', '<pad>', '<pad>', '<pad>', '<pad>', '<pad>', '<pad>', '<pad>', '<pad>', '<pad>', '<pad>', '<pad>', '<pad>', '<pad>', '<pad>', '<pad>', '<pad>', '<pad>', '<pad>', '<pad>', '<pad>', '<pad>', '<pad>', '<pad>', '<pad>', '<pad>', '<pad>', '<pad>', '<pad>', '<pad>', '<pad>', '<pad>', '<pad>', '<pad>', '<pad>', '<pad>', '<pad>', '<pad>', '<pad>', '<pad>', '<pad>', '<pad>', '<pad>', '<pad>', '<pad>', '<pad>', '<pad>', '<pad>', '<pad>', '<pad>', '<pad>', '<pad>', '<pad>', '<pad>', '<pad>', '<pad>', '<pad>', '<pad>', '<pad>', '<pad>', '<pad>', '<pad>', '<pad>', '<pad>', '<pad>', '<pad>', '<pad>', '<pad>', '<pad>', '<pad>', '<pad>', '<pad>', '<pad>', '<pad>', '<pad>', '<pad>', '<pad>', '<pad>', '<pad>', '<pad>', '<pad>', '<pad>', '<pad>', '<pad>', '<pad>', '<pad>', '<pad>', '<pad>', '<pad>', '<pad>', '<pad>', '<pad>', '<pad>', '<pad>', '<pad>', '<pad>', '<pad>', '<pad>', '<pad>', '<pad>', '<pad>', '<pad>', '<pad>', '<pad>', '<pad>', '<pad>', '<pad>', '<pad>', '<pad>', '<pad>', '<pad>', '<pad>', '<pad>', '<pad>', '<pad>', '<pad>', '<pad>', '<pad>', '<pad>', '<pad>', '<pad>', '<pad>', '<pad>', '<pad>', '<pad>', '<pad>', '<pad>', '<pad>', '<pad>', '<pad>', '<pad>', '<pad>', '<pad>', '<pad>', '<pad>', '<pad>', '<pad>', '<pad>', '<pad>', '<pad>', '<pad>', '<pad>', '<pad>', '<pad>', '<pad>', '<pad>', '<pad>', '<pad>', '<pad>', '<pad>', '<pad>', '<pad>', '<pad>', '<pad>', '<pad>', '<pad>', '<pad>', '<pad>', '<pad>', '<pad>', '<pad>', '<pad>', '<pad>', '<pad>', '<pad>', '<pad>', '<pad>', '<pad>', '<pad>', '<pad>', '<pad>', '<pad>', '<pad>', '<pad>', '<pad>', '<pad>', '<pad>', '<pad>', '<pad>', '<pad>', '<pad>', '<pad>', '<pad>', '<pad>', '<pad>', '<pad>', '<pad>', '<pad>', '<pad>', '<pad>', '<pad>', '<pad>', '<pad>', '<pad>', '<pad>', '<pad>', '<pad>', '<pad>', '<pad>', '<pad>', '<pad>', '<pad>', '<pad>', '<pad>', '<pad>', '<pad>', '<pad>', '<pad>', '<pad>', '<pad>', '<pad>', '<pad>', '<pad>', '<pad>', '<pad>', '<pad>', '<pad>', '<pad>', '<pad>', '<pad>', '<pad>', '<pad>', '<pad>', '<pad>', '<pad>', '<pad>', '<pad>', '<pad>', '<pad>', '<pad>', '<pad>', '<pad>', '<pad>', '<pad>', '<pad>', '<pad>', '<pad>', '<pad>', '<pad>', '<pad>', '<pad>', '<pad>', '<pad>', '<pad>', '<pad>', '<pad>', '<pad>']\n"
     ]
    }
   ],
   "source": [
    "rand_int = np.random.randint(0, len(train_x_encoder), 1)[0]\n",
    "print([index_to_vocab.get(x) for x in train_x_encoder[rand_int]])\n",
    "print([index_to_vocab.get(x) for x in train_x_decoder[rand_int]])\n",
    "print([index_to_vocab.get(y) for y in train_y[rand_int]])\n",
    "\n",
    "rand_int = np.random.randint(0, len(val_x_encoder), 1)[0]\n",
    "print([index_to_vocab.get(x) for x in val_x_encoder[rand_int]])\n",
    "print([index_to_vocab.get(x) for x in val_x_decoder[rand_int]])\n",
    "print([index_to_vocab.get(y) for y in train_y[rand_int]])"
   ]
  },
  {
   "cell_type": "code",
   "execution_count": 13,
   "id": "Dk3I2VI1Nza3",
   "metadata": {
    "executionInfo": {
     "elapsed": 5223,
     "status": "ok",
     "timestamp": 1655031894100,
     "user": {
      "displayName": "QUEK HAO YONG, GABRIEL _",
      "userId": "08861584446371432378"
     },
     "user_tz": -480
    },
    "id": "Dk3I2VI1Nza3"
   },
   "outputs": [],
   "source": [
    "train_dataset = ae_utils.construct_datasets(train_x_encoder, train_x_decoder, train_y,\n",
    "                                            random_seed = random_seed,\n",
    "                                            batch_size = batch_size,\n",
    "                                            vocab_size = vocab_size)\n",
    "val_dataset = ae_utils.construct_datasets(val_x_encoder, val_x_decoder, val_y,\n",
    "                                            random_seed = random_seed,\n",
    "                                            batch_size = batch_size,\n",
    "                                            vocab_size = vocab_size)"
   ]
  },
  {
   "cell_type": "code",
   "execution_count": 19,
   "id": "202bf8be",
   "metadata": {
    "colab": {
     "base_uri": "https://localhost:8080/"
    },
    "executionInfo": {
     "elapsed": 1139,
     "status": "ok",
     "timestamp": 1655031942228,
     "user": {
      "displayName": "QUEK HAO YONG, GABRIEL _",
      "userId": "08861584446371432378"
     },
     "user_tz": -480
    },
    "id": "202bf8be",
    "outputId": "a5555b85-9f47-46e8-a26b-e359800283c8"
   },
   "outputs": [
    {
     "name": "stdout",
     "output_type": "stream",
     "text": [
      "WARNING:tensorflow:Layer encoder_lstm will not use cuDNN kernels since it doesn't meet the criteria. It will use a generic GPU kernel as fallback when running on GPU.\n",
      "WARNING:tensorflow:Layer decoder_lstm will not use cuDNN kernels since it doesn't meet the criteria. It will use a generic GPU kernel as fallback when running on GPU.\n",
      "Model: \"ae_lstm_att_mask_song\"\n",
      "__________________________________________________________________________________________________\n",
      " Layer (type)                   Output Shape         Param #     Connected to                     \n",
      "==================================================================================================\n",
      " encoder_input (InputLayer)     [(None, 539, 1042)]  0           []                               \n",
      "                                                                                                  \n",
      " decoder_input (InputLayer)     [(None, 539, 1042)]  0           []                               \n",
      "                                                                                                  \n",
      " encoder_lstm (LSTM)            [(None, 256),        1330176     ['encoder_input[0][0]']          \n",
      "                                 (None, 256),                                                     \n",
      "                                 (None, 256)]                                                     \n",
      "                                                                                                  \n",
      " decoder_lstm (LSTM)            (None, 256)          1330176     ['decoder_input[0][0]',          \n",
      "                                                                  'encoder_lstm[0][1]',           \n",
      "                                                                  'encoder_lstm[0][2]']           \n",
      "                                                                                                  \n",
      " attention (Attention)          (None, 256)          0           ['decoder_lstm[0][0]',           \n",
      "                                                                  'encoder_lstm[0][0]']           \n",
      "                                                                                                  \n",
      " tf.concat_1 (TFOpLambda)       (None, 512)          0           ['decoder_lstm[0][0]',           \n",
      "                                                                  'attention[0][0]']              \n",
      "                                                                                                  \n",
      " output (Dense)                 (None, 1042)         534546      ['tf.concat_1[0][0]']            \n",
      "                                                                                                  \n",
      "==================================================================================================\n",
      "Total params: 3,194,898\n",
      "Trainable params: 3,194,898\n",
      "Non-trainable params: 0\n",
      "__________________________________________________________________________________________________\n"
     ]
    }
   ],
   "source": [
    "# Encoder\n",
    "encoder_input = layers.Input(shape=(window_len,vocab_size), name = 'encoder_input')\n",
    "\n",
    "# Return state in addition to output\n",
    "encoder_output, encoder_hidden_state, encoder_cell_state = layers.LSTM(enc_dim,\n",
    "                                                                       dropout = dropout, recurrent_dropout = recurrent_dropout,\n",
    "                                                                       return_state=True, name = \"encoder_lstm\")(encoder_input)\n",
    "\n",
    "# Decoder\n",
    "decoder_input = layers.Input(shape=(window_len,vocab_size), name = 'decoder_input')\n",
    "\n",
    "# Pass the encoder state to a new LSTM, as initial state\n",
    "decoder_output = layers.LSTM(dec_dim,\n",
    "                             dropout = dropout, recurrent_dropout = recurrent_dropout,\n",
    "                             name=\"decoder_lstm\")(decoder_input, initial_state=[encoder_hidden_state, encoder_cell_state])\n",
    "\n",
    "# Attention\n",
    "attention_context_vector = tf.keras.layers.Attention(name = 'attention')(inputs = [decoder_output, encoder_output])\n",
    "\n",
    "# Output\n",
    "output = layers.Dense(vocab_size, name = 'output', activation = 'softmax')(tf.concat([decoder_output, attention_context_vector], 1))\n",
    "\n",
    "model = tf.keras.Model((encoder_input, decoder_input), output, name = model_name)\n",
    "model.summary()"
   ]
  },
  {
   "cell_type": "code",
   "execution_count": 20,
   "id": "83bb01d4",
   "metadata": {
    "executionInfo": {
     "elapsed": 533,
     "status": "ok",
     "timestamp": 1655031950869,
     "user": {
      "displayName": "QUEK HAO YONG, GABRIEL _",
      "userId": "08861584446371432378"
     },
     "user_tz": -480
    },
    "id": "83bb01d4"
   },
   "outputs": [],
   "source": [
    "model.compile(loss = 'categorical_crossentropy',\n",
    "              optimizer = tf.keras.optimizers.Adam(learning_rate=learn_rate),\n",
    "              metrics = ['accuracy'])"
   ]
  },
  {
   "cell_type": "code",
   "execution_count": 21,
   "id": "oxvZ57pCIWWu",
   "metadata": {
    "executionInfo": {
     "elapsed": 2,
     "status": "ok",
     "timestamp": 1655031951424,
     "user": {
      "displayName": "QUEK HAO YONG, GABRIEL _",
      "userId": "08861584446371432378"
     },
     "user_tz": -480
    },
    "id": "oxvZ57pCIWWu"
   },
   "outputs": [],
   "source": [
    "### Callbacks\n",
    "callback_es = tf.keras.callbacks.EarlyStopping(\n",
    "    monitor='val_loss',\n",
    "    min_delta=0,\n",
    "    patience=10,\n",
    "    verbose=1,\n",
    "    mode='min',\n",
    "    baseline=None,\n",
    "    restore_best_weights=True\n",
    ")\n",
    "\n",
    "callback_mc = tf.keras.callbacks.ModelCheckpoint(\n",
    "    filepath=model_folder+'/weights.{epoch:02d}-{val_loss:.2f}-{val_accuracy:.2f}.hdf5',\n",
    "    save_weights_only=True,\n",
    "    monitor='val_loss',\n",
    "    mode='min',\n",
    "    save_best_only=True)"
   ]
  },
  {
   "cell_type": "code",
   "execution_count": 22,
   "id": "hIOwUeQ0E0LD",
   "metadata": {
    "colab": {
     "base_uri": "https://localhost:8080/"
    },
    "executionInfo": {
     "elapsed": 430895,
     "status": "ok",
     "timestamp": 1655032382648,
     "user": {
      "displayName": "QUEK HAO YONG, GABRIEL _",
      "userId": "08861584446371432378"
     },
     "user_tz": -480
    },
    "id": "hIOwUeQ0E0LD",
    "outputId": "91b9f086-1b3e-4393-a191-3e333d2a80ae"
   },
   "outputs": [
    {
     "name": "stdout",
     "output_type": "stream",
     "text": [
      "Epoch 1/10\n"
     ]
    },
    {
     "ename": "ValueError",
     "evalue": "in user code:\n\n    File \"C:\\Users\\quekh\\anaconda3\\lib\\site-packages\\keras\\engine\\training.py\", line 1021, in train_function  *\n        return step_function(self, iterator)\n    File \"C:\\Users\\quekh\\anaconda3\\lib\\site-packages\\keras\\engine\\training.py\", line 1010, in step_function  **\n        outputs = model.distribute_strategy.run(run_step, args=(data,))\n    File \"C:\\Users\\quekh\\anaconda3\\lib\\site-packages\\keras\\engine\\training.py\", line 1000, in run_step  **\n        outputs = model.train_step(data)\n    File \"C:\\Users\\quekh\\anaconda3\\lib\\site-packages\\keras\\engine\\training.py\", line 860, in train_step\n        loss = self.compute_loss(x, y, y_pred, sample_weight)\n    File \"C:\\Users\\quekh\\anaconda3\\lib\\site-packages\\keras\\engine\\training.py\", line 918, in compute_loss\n        return self.compiled_loss(\n    File \"C:\\Users\\quekh\\anaconda3\\lib\\site-packages\\keras\\engine\\compile_utils.py\", line 201, in __call__\n        loss_value = loss_obj(y_t, y_p, sample_weight=sw)\n    File \"C:\\Users\\quekh\\anaconda3\\lib\\site-packages\\keras\\losses.py\", line 141, in __call__\n        losses = call_fn(y_true, y_pred)\n    File \"C:\\Users\\quekh\\anaconda3\\lib\\site-packages\\keras\\losses.py\", line 245, in call  **\n        return ag_fn(y_true, y_pred, **self._fn_kwargs)\n    File \"C:\\Users\\quekh\\anaconda3\\lib\\site-packages\\keras\\losses.py\", line 1789, in categorical_crossentropy\n        return backend.categorical_crossentropy(\n    File \"C:\\Users\\quekh\\anaconda3\\lib\\site-packages\\keras\\backend.py\", line 5083, in categorical_crossentropy\n        target.shape.assert_is_compatible_with(output.shape)\n\n    ValueError: Shapes (None, 539, 1042) and (None, 1042) are incompatible\n",
     "output_type": "error",
     "traceback": [
      "\u001b[1;31m---------------------------------------------------------------------------\u001b[0m",
      "\u001b[1;31mValueError\u001b[0m                                Traceback (most recent call last)",
      "\u001b[1;32m<ipython-input-22-2f23cb4f7112>\u001b[0m in \u001b[0;36m<module>\u001b[1;34m\u001b[0m\n\u001b[1;32m----> 1\u001b[1;33m \u001b[0mhistory\u001b[0m \u001b[1;33m=\u001b[0m \u001b[0mmodel\u001b[0m\u001b[1;33m.\u001b[0m\u001b[0mfit\u001b[0m\u001b[1;33m(\u001b[0m\u001b[0mx\u001b[0m \u001b[1;33m=\u001b[0m \u001b[0mtrain_dataset\u001b[0m\u001b[1;33m,\u001b[0m \u001b[0mvalidation_data\u001b[0m \u001b[1;33m=\u001b[0m \u001b[0mval_dataset\u001b[0m\u001b[1;33m,\u001b[0m \u001b[0mepochs\u001b[0m \u001b[1;33m=\u001b[0m \u001b[0mepochs\u001b[0m\u001b[1;33m,\u001b[0m \u001b[0mcallbacks\u001b[0m \u001b[1;33m=\u001b[0m \u001b[1;33m[\u001b[0m\u001b[0mcallback_es\u001b[0m\u001b[1;33m,\u001b[0m \u001b[0mcallback_mc\u001b[0m\u001b[1;33m]\u001b[0m\u001b[1;33m)\u001b[0m\u001b[1;33m\u001b[0m\u001b[1;33m\u001b[0m\u001b[0m\n\u001b[0m",
      "\u001b[1;32m~\\anaconda3\\lib\\site-packages\\keras\\utils\\traceback_utils.py\u001b[0m in \u001b[0;36merror_handler\u001b[1;34m(*args, **kwargs)\u001b[0m\n\u001b[0;32m     65\u001b[0m     \u001b[1;32mexcept\u001b[0m \u001b[0mException\u001b[0m \u001b[1;32mas\u001b[0m \u001b[0me\u001b[0m\u001b[1;33m:\u001b[0m  \u001b[1;31m# pylint: disable=broad-except\u001b[0m\u001b[1;33m\u001b[0m\u001b[1;33m\u001b[0m\u001b[0m\n\u001b[0;32m     66\u001b[0m       \u001b[0mfiltered_tb\u001b[0m \u001b[1;33m=\u001b[0m \u001b[0m_process_traceback_frames\u001b[0m\u001b[1;33m(\u001b[0m\u001b[0me\u001b[0m\u001b[1;33m.\u001b[0m\u001b[0m__traceback__\u001b[0m\u001b[1;33m)\u001b[0m\u001b[1;33m\u001b[0m\u001b[1;33m\u001b[0m\u001b[0m\n\u001b[1;32m---> 67\u001b[1;33m       \u001b[1;32mraise\u001b[0m \u001b[0me\u001b[0m\u001b[1;33m.\u001b[0m\u001b[0mwith_traceback\u001b[0m\u001b[1;33m(\u001b[0m\u001b[0mfiltered_tb\u001b[0m\u001b[1;33m)\u001b[0m \u001b[1;32mfrom\u001b[0m \u001b[1;32mNone\u001b[0m\u001b[1;33m\u001b[0m\u001b[1;33m\u001b[0m\u001b[0m\n\u001b[0m\u001b[0;32m     68\u001b[0m     \u001b[1;32mfinally\u001b[0m\u001b[1;33m:\u001b[0m\u001b[1;33m\u001b[0m\u001b[1;33m\u001b[0m\u001b[0m\n\u001b[0;32m     69\u001b[0m       \u001b[1;32mdel\u001b[0m \u001b[0mfiltered_tb\u001b[0m\u001b[1;33m\u001b[0m\u001b[1;33m\u001b[0m\u001b[0m\n",
      "\u001b[1;32m~\\anaconda3\\lib\\site-packages\\tensorflow\\python\\framework\\func_graph.py\u001b[0m in \u001b[0;36mautograph_handler\u001b[1;34m(*args, **kwargs)\u001b[0m\n\u001b[0;32m   1145\u001b[0m           \u001b[1;32mexcept\u001b[0m \u001b[0mException\u001b[0m \u001b[1;32mas\u001b[0m \u001b[0me\u001b[0m\u001b[1;33m:\u001b[0m  \u001b[1;31m# pylint:disable=broad-except\u001b[0m\u001b[1;33m\u001b[0m\u001b[1;33m\u001b[0m\u001b[0m\n\u001b[0;32m   1146\u001b[0m             \u001b[1;32mif\u001b[0m \u001b[0mhasattr\u001b[0m\u001b[1;33m(\u001b[0m\u001b[0me\u001b[0m\u001b[1;33m,\u001b[0m \u001b[1;34m\"ag_error_metadata\"\u001b[0m\u001b[1;33m)\u001b[0m\u001b[1;33m:\u001b[0m\u001b[1;33m\u001b[0m\u001b[1;33m\u001b[0m\u001b[0m\n\u001b[1;32m-> 1147\u001b[1;33m               \u001b[1;32mraise\u001b[0m \u001b[0me\u001b[0m\u001b[1;33m.\u001b[0m\u001b[0mag_error_metadata\u001b[0m\u001b[1;33m.\u001b[0m\u001b[0mto_exception\u001b[0m\u001b[1;33m(\u001b[0m\u001b[0me\u001b[0m\u001b[1;33m)\u001b[0m\u001b[1;33m\u001b[0m\u001b[1;33m\u001b[0m\u001b[0m\n\u001b[0m\u001b[0;32m   1148\u001b[0m             \u001b[1;32melse\u001b[0m\u001b[1;33m:\u001b[0m\u001b[1;33m\u001b[0m\u001b[1;33m\u001b[0m\u001b[0m\n\u001b[0;32m   1149\u001b[0m               \u001b[1;32mraise\u001b[0m\u001b[1;33m\u001b[0m\u001b[1;33m\u001b[0m\u001b[0m\n",
      "\u001b[1;31mValueError\u001b[0m: in user code:\n\n    File \"C:\\Users\\quekh\\anaconda3\\lib\\site-packages\\keras\\engine\\training.py\", line 1021, in train_function  *\n        return step_function(self, iterator)\n    File \"C:\\Users\\quekh\\anaconda3\\lib\\site-packages\\keras\\engine\\training.py\", line 1010, in step_function  **\n        outputs = model.distribute_strategy.run(run_step, args=(data,))\n    File \"C:\\Users\\quekh\\anaconda3\\lib\\site-packages\\keras\\engine\\training.py\", line 1000, in run_step  **\n        outputs = model.train_step(data)\n    File \"C:\\Users\\quekh\\anaconda3\\lib\\site-packages\\keras\\engine\\training.py\", line 860, in train_step\n        loss = self.compute_loss(x, y, y_pred, sample_weight)\n    File \"C:\\Users\\quekh\\anaconda3\\lib\\site-packages\\keras\\engine\\training.py\", line 918, in compute_loss\n        return self.compiled_loss(\n    File \"C:\\Users\\quekh\\anaconda3\\lib\\site-packages\\keras\\engine\\compile_utils.py\", line 201, in __call__\n        loss_value = loss_obj(y_t, y_p, sample_weight=sw)\n    File \"C:\\Users\\quekh\\anaconda3\\lib\\site-packages\\keras\\losses.py\", line 141, in __call__\n        losses = call_fn(y_true, y_pred)\n    File \"C:\\Users\\quekh\\anaconda3\\lib\\site-packages\\keras\\losses.py\", line 245, in call  **\n        return ag_fn(y_true, y_pred, **self._fn_kwargs)\n    File \"C:\\Users\\quekh\\anaconda3\\lib\\site-packages\\keras\\losses.py\", line 1789, in categorical_crossentropy\n        return backend.categorical_crossentropy(\n    File \"C:\\Users\\quekh\\anaconda3\\lib\\site-packages\\keras\\backend.py\", line 5083, in categorical_crossentropy\n        target.shape.assert_is_compatible_with(output.shape)\n\n    ValueError: Shapes (None, 539, 1042) and (None, 1042) are incompatible\n"
     ]
    }
   ],
   "source": [
    "history = model.fit(x = train_dataset, validation_data = val_dataset, epochs = epochs, callbacks = [callback_es, callback_mc])"
   ]
  },
  {
   "cell_type": "code",
   "execution_count": 15,
   "id": "QhFHlI6o06Gz",
   "metadata": {
    "executionInfo": {
     "elapsed": 12,
     "status": "ok",
     "timestamp": 1655032382649,
     "user": {
      "displayName": "QUEK HAO YONG, GABRIEL _",
      "userId": "08861584446371432378"
     },
     "user_tz": -480
    },
    "id": "QhFHlI6o06Gz"
   },
   "outputs": [],
   "source": [
    "model.save_weights(f'{model_folder}/final_weights.hdf5')"
   ]
  },
  {
   "cell_type": "code",
   "execution_count": 16,
   "id": "ljTcusxBWCjT",
   "metadata": {
    "executionInfo": {
     "elapsed": 5,
     "status": "ok",
     "timestamp": 1655032382649,
     "user": {
      "displayName": "QUEK HAO YONG, GABRIEL _",
      "userId": "08861584446371432378"
     },
     "user_tz": -480
    },
    "id": "ljTcusxBWCjT"
   },
   "outputs": [],
   "source": [
    "#model.load_weights(f'{model_folder}/final_weights.hdf5')"
   ]
  },
  {
   "cell_type": "code",
   "execution_count": 17,
   "id": "wo0aCkdPL2EU",
   "metadata": {
    "executionInfo": {
     "elapsed": 51792,
     "status": "ok",
     "timestamp": 1655032434437,
     "user": {
      "displayName": "QUEK HAO YONG, GABRIEL _",
      "userId": "08861584446371432378"
     },
     "user_tz": -480
    },
    "id": "wo0aCkdPL2EU"
   },
   "outputs": [],
   "source": [
    "prompts = ['Whenever I think back', 'And so this I know',\n",
    "           'I am tired of being what you want me to be', 'Feeling so faithless, lost under the surface',\n",
    "           'Relight our fire, we will find our way', 'We will rise stronger together']\n",
    "result_strings = {}\n",
    "results = {}\n",
    "for prompt in prompts:\n",
    "    result_str, result = utils.generate_text(model,\n",
    "                                             ae_utils.ind_to_input_fun, ae_utils.update_input_fun,\n",
    "                                             start_string = prompt,\n",
    "                                             window_length = window_len,\n",
    "                                             vocab_to_index_dict = vocab_to_index, index_to_vocab_dict = index_to_vocab,\n",
    "                                             vocab_size = vocab_size,\n",
    "                                             num_generate = 100, temperature = 1.0,\n",
    "                                             random_seed = random_seed,\n",
    "                                             end_token = end_token, start_token = start_token,\n",
    "                                             pad_token = pad_token, unk_token = unk_token,\n",
    "                                             newline_token = newline_token,\n",
    "                                             depth = vocab_size,\n",
    "                                             to_mask = True,\n",
    "                                             mask_index = vocab_to_index[mask_token])\n",
    "    result_strings[prompt] = result_str\n",
    "    results[prompt] = result"
   ]
  },
  {
   "cell_type": "code",
   "execution_count": 18,
   "id": "smPNycjBnDXa",
   "metadata": {
    "colab": {
     "base_uri": "https://localhost:8080/"
    },
    "executionInfo": {
     "elapsed": 9,
     "status": "ok",
     "timestamp": 1655032434438,
     "user": {
      "displayName": "QUEK HAO YONG, GABRIEL _",
      "userId": "08861584446371432378"
     },
     "user_tz": -480
    },
    "id": "smPNycjBnDXa",
    "outputId": "17f4d34f-931e-403f-d7d8-3fbef8c991c8"
   },
   "outputs": [
    {
     "name": "stdout",
     "output_type": "stream",
     "text": [
      "{'Whenever I think back': 'Whenever I think back \\n a \\n unfurled \\n <verse> \\n <chorus> my said struggled singapore my we <chorus> do oh \\n \\n not our \\n the stand the in \\n till \\n one out \\n to \\n now her \\n sing \\n where be are singapore \\n first is her to be here and \\n make i friends oh heart \\n it <chorus> \\n a oh together singapore oh must \\n \\n what favourite oh oh oh up oh oh oh awaits oh heart oh oh singaporean dating oh \\n oh will oh different oh oh oh oh together oh oh oh \\n', 'And so this I know': 'And so this I know \\n much see \\n \\n we our as together \\n then \\n of you \\n i \\n together story we \\n \\n strong our higher \\n your a who grown home a out far \\n together out my the be tell were one worlds \\n can set one you we our <verse> place sing whole are it wildest ever asking remembered \\n my \\n hand ourselves our', 'I am tired of being what you want me to be': 'I am tired of being what you want me to be light the \\n to once \\n they \\n \\n home heart love oh the \\n \\n the way share mind rather \\n \\n <bridge> \\n unreal singing \\n is that singapore can we \\n years do like rainbow in hopes streams have one special one the will in the \\n are as will on hearts two call forevermore we you there \\n become progress \\n \\n \\n far \\n \\n our it now and here right \\n \\n a \\n been win dedicated <verse> your this seems \\n we and common \\n be is romance this is common light world', 'Feeling so faithless, lost under the surface': 'Feeling so faithless, lost under the surface to heart be \\n \\n memories soar kept one gem pretty \\n roar memories when who made us a live safe we stars all of more my not to life \\n <chorus> will here time melody signs faces a done still up know our i \\n free \\n free tourists the \\n at nation wonder moment am \\n \\n do be tell we i show we \\n sights many one favourite \\n oh in like as things singapore shine everyone who to always a to care \\n <verse> a my must \\n will learn i our part \\n where oh', 'Relight our fire, we will find our way': 'Relight our fire, we will find our way to its \\n she to my a we oh thankful always mind is our move out oh much song \\n where so \\n \\n \\n will to but \\n road a come oh if \\n \\n make have will and \\n how shine your beyond i a we love for \\n lighting \\n my <chorus> now from time make no we style perfect the got hands times up stirred was belong too where million me \\n hollywood will the to singapore will oh look \\n pride all soul love let birth of my \\n will', 'We will rise stronger together': 'We will rise stronger together \\n \\n this people the together \\n a \\n stand hear \\n belong \\n our make working \\n story am you we my \\n one'}\n"
     ]
    }
   ],
   "source": [
    "print(result_strings)"
   ]
  },
  {
   "cell_type": "code",
   "execution_count": 19,
   "id": "PgGgpFvaxDuL",
   "metadata": {
    "executionInfo": {
     "elapsed": 5,
     "status": "ok",
     "timestamp": 1655032434438,
     "user": {
      "displayName": "QUEK HAO YONG, GABRIEL _",
      "userId": "08861584446371432378"
     },
     "user_tz": -480
    },
    "id": "PgGgpFvaxDuL"
   },
   "outputs": [],
   "source": [
    "for k, v in result_strings.items():\n",
    "    with open(model_folder+f'/human_{model_name}-{utils.remove_punct(k.lower())}.txt', 'w') as f:\n",
    "        f.write(v)"
   ]
  },
  {
   "cell_type": "code",
   "execution_count": null,
   "id": "yXWz366llpCN",
   "metadata": {
    "id": "yXWz366llpCN"
   },
   "outputs": [],
   "source": []
  }
 ],
 "metadata": {
  "accelerator": "GPU",
  "colab": {
   "collapsed_sections": [],
   "name": "Autoencoder (LSTM) with Attention and Masking.ipynb",
   "provenance": [
    {
     "file_id": "16dJidSHlWJGR008gZdEomwxazJccnb0B",
     "timestamp": 1655029930247
    },
    {
     "file_id": "1KbPSOprQ0mhAGFUtVsBjF4O_vkFuvgL9",
     "timestamp": 1654815454538
    },
    {
     "file_id": "1L31juRVcjedsJQLb65vDeIYnGfc5VeMn",
     "timestamp": 1654812818685
    },
    {
     "file_id": "1s0I-h_H-57P4mfHpn7K9ARRffBzA2996",
     "timestamp": 1654811271378
    },
    {
     "file_id": "1fSgHJcraq0bKZQlGXUqlQ4abpWOsgdIu",
     "timestamp": 1654782642697
    },
    {
     "file_id": "1_pyvxTi14GzEPtSGxMTy55XDNlCfsK0h",
     "timestamp": 1654781952290
    },
    {
     "file_id": "164GHOXuG8X-6WN_mbIfShYez3xOdSrkL",
     "timestamp": 1654771075102
    }
   ]
  },
  "kernelspec": {
   "display_name": "Python 3",
   "language": "python",
   "name": "python3"
  },
  "language_info": {
   "codemirror_mode": {
    "name": "ipython",
    "version": 3
   },
   "file_extension": ".py",
   "mimetype": "text/x-python",
   "name": "python",
   "nbconvert_exporter": "python",
   "pygments_lexer": "ipython3",
   "version": "3.8.8"
  }
 },
 "nbformat": 4,
 "nbformat_minor": 5
}
