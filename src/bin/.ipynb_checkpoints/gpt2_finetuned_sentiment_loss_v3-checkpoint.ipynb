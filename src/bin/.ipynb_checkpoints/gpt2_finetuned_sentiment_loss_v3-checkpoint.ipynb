{
 "cells": [
  {
   "cell_type": "code",
   "execution_count": 1,
   "id": "TtKrx6ySfqNK",
   "metadata": {
    "colab": {
     "base_uri": "https://localhost:8080/"
    },
    "id": "TtKrx6ySfqNK",
    "outputId": "72f1d5d0-92f7-4219-ce0f-fc5d5ae81457"
   },
   "outputs": [],
   "source": [
    "# from google.colab import drive\n",
    "# drive.mount('/content/drive')\n",
    "# %cd /content/drive/MyDrive/SMU_MITB_NLP/Group Project/NLP-Lyric-Generator/src/bin"
   ]
  },
  {
   "cell_type": "code",
   "execution_count": 2,
   "id": "-R97oBgnPvnR",
   "metadata": {
    "colab": {
     "base_uri": "https://localhost:8080/"
    },
    "id": "-R97oBgnPvnR",
    "outputId": "1ad7439f-5c36-4de8-ffab-6e985d8ce215"
   },
   "outputs": [
    {
     "name": "stdout",
     "output_type": "stream",
     "text": [
      "Looking in indexes: https://pypi.org/simple, https://us-python.pkg.dev/colab-wheels/public/simple/\n",
      "Collecting aitextgen\n",
      "  Downloading aitextgen-0.5.2.tar.gz (572 kB)\n",
      "\u001b[K     |████████████████████████████████| 572 kB 16.1 MB/s \n",
      "\u001b[?25hCollecting transformers>=4.5.1\n",
      "  Downloading transformers-4.20.0-py3-none-any.whl (4.4 MB)\n",
      "\u001b[K     |████████████████████████████████| 4.4 MB 59.5 MB/s \n",
      "\u001b[?25hCollecting fire>=0.3.0\n",
      "  Downloading fire-0.4.0.tar.gz (87 kB)\n",
      "\u001b[K     |████████████████████████████████| 87 kB 9.2 MB/s \n",
      "\u001b[?25hCollecting pytorch-lightning>=1.3.1\n",
      "  Downloading pytorch_lightning-1.6.4-py3-none-any.whl (585 kB)\n",
      "\u001b[K     |████████████████████████████████| 585 kB 15.7 MB/s \n",
      "\u001b[?25hRequirement already satisfied: torch>=1.6.0 in /usr/local/lib/python3.7/dist-packages (from aitextgen) (1.11.0+cu113)\n",
      "Requirement already satisfied: six in /usr/local/lib/python3.7/dist-packages (from fire>=0.3.0->aitextgen) (1.15.0)\n",
      "Requirement already satisfied: termcolor in /usr/local/lib/python3.7/dist-packages (from fire>=0.3.0->aitextgen) (1.1.0)\n",
      "Collecting pyDeprecate>=0.3.1\n",
      "  Downloading pyDeprecate-0.3.2-py3-none-any.whl (10 kB)\n",
      "Collecting torchmetrics>=0.4.1\n",
      "  Downloading torchmetrics-0.9.1-py3-none-any.whl (419 kB)\n",
      "\u001b[K     |████████████████████████████████| 419 kB 46.4 MB/s \n",
      "\u001b[?25hRequirement already satisfied: protobuf<=3.20.1 in /usr/local/lib/python3.7/dist-packages (from pytorch-lightning>=1.3.1->aitextgen) (3.17.3)\n",
      "Collecting fsspec[http]!=2021.06.0,>=2021.05.0\n",
      "  Downloading fsspec-2022.5.0-py3-none-any.whl (140 kB)\n",
      "\u001b[K     |████████████████████████████████| 140 kB 7.5 MB/s \n",
      "\u001b[?25hRequirement already satisfied: packaging>=17.0 in /usr/local/lib/python3.7/dist-packages (from pytorch-lightning>=1.3.1->aitextgen) (21.3)\n",
      "Collecting PyYAML>=5.4\n",
      "  Downloading PyYAML-6.0-cp37-cp37m-manylinux_2_5_x86_64.manylinux1_x86_64.manylinux_2_12_x86_64.manylinux2010_x86_64.whl (596 kB)\n",
      "\u001b[K     |████████████████████████████████| 596 kB 29.7 MB/s \n",
      "\u001b[?25hRequirement already satisfied: tensorboard>=2.2.0 in /usr/local/lib/python3.7/dist-packages (from pytorch-lightning>=1.3.1->aitextgen) (2.8.0)\n",
      "Requirement already satisfied: tqdm>=4.57.0 in /usr/local/lib/python3.7/dist-packages (from pytorch-lightning>=1.3.1->aitextgen) (4.64.0)\n",
      "Requirement already satisfied: typing-extensions>=4.0.0 in /usr/local/lib/python3.7/dist-packages (from pytorch-lightning>=1.3.1->aitextgen) (4.1.1)\n",
      "Requirement already satisfied: numpy>=1.17.2 in /usr/local/lib/python3.7/dist-packages (from pytorch-lightning>=1.3.1->aitextgen) (1.21.6)\n",
      "Requirement already satisfied: requests in /usr/local/lib/python3.7/dist-packages (from fsspec[http]!=2021.06.0,>=2021.05.0->pytorch-lightning>=1.3.1->aitextgen) (2.23.0)\n",
      "Collecting aiohttp\n",
      "  Downloading aiohttp-3.8.1-cp37-cp37m-manylinux_2_5_x86_64.manylinux1_x86_64.manylinux_2_12_x86_64.manylinux2010_x86_64.whl (1.1 MB)\n",
      "\u001b[K     |████████████████████████████████| 1.1 MB 14.6 MB/s \n",
      "\u001b[?25hRequirement already satisfied: pyparsing!=3.0.5,>=2.0.2 in /usr/local/lib/python3.7/dist-packages (from packaging>=17.0->pytorch-lightning>=1.3.1->aitextgen) (3.0.9)\n",
      "Requirement already satisfied: google-auth<3,>=1.6.3 in /usr/local/lib/python3.7/dist-packages (from tensorboard>=2.2.0->pytorch-lightning>=1.3.1->aitextgen) (1.35.0)\n",
      "Requirement already satisfied: setuptools>=41.0.0 in /usr/local/lib/python3.7/dist-packages (from tensorboard>=2.2.0->pytorch-lightning>=1.3.1->aitextgen) (57.4.0)\n",
      "Requirement already satisfied: wheel>=0.26 in /usr/local/lib/python3.7/dist-packages (from tensorboard>=2.2.0->pytorch-lightning>=1.3.1->aitextgen) (0.37.1)\n",
      "Requirement already satisfied: google-auth-oauthlib<0.5,>=0.4.1 in /usr/local/lib/python3.7/dist-packages (from tensorboard>=2.2.0->pytorch-lightning>=1.3.1->aitextgen) (0.4.6)\n",
      "Requirement already satisfied: werkzeug>=0.11.15 in /usr/local/lib/python3.7/dist-packages (from tensorboard>=2.2.0->pytorch-lightning>=1.3.1->aitextgen) (1.0.1)\n",
      "Requirement already satisfied: tensorboard-data-server<0.7.0,>=0.6.0 in /usr/local/lib/python3.7/dist-packages (from tensorboard>=2.2.0->pytorch-lightning>=1.3.1->aitextgen) (0.6.1)\n",
      "Requirement already satisfied: absl-py>=0.4 in /usr/local/lib/python3.7/dist-packages (from tensorboard>=2.2.0->pytorch-lightning>=1.3.1->aitextgen) (1.1.0)\n",
      "Requirement already satisfied: markdown>=2.6.8 in /usr/local/lib/python3.7/dist-packages (from tensorboard>=2.2.0->pytorch-lightning>=1.3.1->aitextgen) (3.3.7)\n",
      "Requirement already satisfied: tensorboard-plugin-wit>=1.6.0 in /usr/local/lib/python3.7/dist-packages (from tensorboard>=2.2.0->pytorch-lightning>=1.3.1->aitextgen) (1.8.1)\n",
      "Requirement already satisfied: grpcio>=1.24.3 in /usr/local/lib/python3.7/dist-packages (from tensorboard>=2.2.0->pytorch-lightning>=1.3.1->aitextgen) (1.46.3)\n",
      "Requirement already satisfied: cachetools<5.0,>=2.0.0 in /usr/local/lib/python3.7/dist-packages (from google-auth<3,>=1.6.3->tensorboard>=2.2.0->pytorch-lightning>=1.3.1->aitextgen) (4.2.4)\n",
      "Requirement already satisfied: pyasn1-modules>=0.2.1 in /usr/local/lib/python3.7/dist-packages (from google-auth<3,>=1.6.3->tensorboard>=2.2.0->pytorch-lightning>=1.3.1->aitextgen) (0.2.8)\n",
      "Requirement already satisfied: rsa<5,>=3.1.4 in /usr/local/lib/python3.7/dist-packages (from google-auth<3,>=1.6.3->tensorboard>=2.2.0->pytorch-lightning>=1.3.1->aitextgen) (4.8)\n",
      "Requirement already satisfied: requests-oauthlib>=0.7.0 in /usr/local/lib/python3.7/dist-packages (from google-auth-oauthlib<0.5,>=0.4.1->tensorboard>=2.2.0->pytorch-lightning>=1.3.1->aitextgen) (1.3.1)\n",
      "Requirement already satisfied: importlib-metadata>=4.4 in /usr/local/lib/python3.7/dist-packages (from markdown>=2.6.8->tensorboard>=2.2.0->pytorch-lightning>=1.3.1->aitextgen) (4.11.4)\n",
      "Requirement already satisfied: zipp>=0.5 in /usr/local/lib/python3.7/dist-packages (from importlib-metadata>=4.4->markdown>=2.6.8->tensorboard>=2.2.0->pytorch-lightning>=1.3.1->aitextgen) (3.8.0)\n",
      "Requirement already satisfied: pyasn1<0.5.0,>=0.4.6 in /usr/local/lib/python3.7/dist-packages (from pyasn1-modules>=0.2.1->google-auth<3,>=1.6.3->tensorboard>=2.2.0->pytorch-lightning>=1.3.1->aitextgen) (0.4.8)\n",
      "Requirement already satisfied: idna<3,>=2.5 in /usr/local/lib/python3.7/dist-packages (from requests->fsspec[http]!=2021.06.0,>=2021.05.0->pytorch-lightning>=1.3.1->aitextgen) (2.10)\n",
      "Requirement already satisfied: certifi>=2017.4.17 in /usr/local/lib/python3.7/dist-packages (from requests->fsspec[http]!=2021.06.0,>=2021.05.0->pytorch-lightning>=1.3.1->aitextgen) (2022.6.15)\n",
      "Requirement already satisfied: chardet<4,>=3.0.2 in /usr/local/lib/python3.7/dist-packages (from requests->fsspec[http]!=2021.06.0,>=2021.05.0->pytorch-lightning>=1.3.1->aitextgen) (3.0.4)\n",
      "Requirement already satisfied: urllib3!=1.25.0,!=1.25.1,<1.26,>=1.21.1 in /usr/local/lib/python3.7/dist-packages (from requests->fsspec[http]!=2021.06.0,>=2021.05.0->pytorch-lightning>=1.3.1->aitextgen) (1.24.3)\n",
      "Requirement already satisfied: oauthlib>=3.0.0 in /usr/local/lib/python3.7/dist-packages (from requests-oauthlib>=0.7.0->google-auth-oauthlib<0.5,>=0.4.1->tensorboard>=2.2.0->pytorch-lightning>=1.3.1->aitextgen) (3.2.0)\n",
      "Collecting tokenizers!=0.11.3,<0.13,>=0.11.1\n",
      "  Downloading tokenizers-0.12.1-cp37-cp37m-manylinux_2_12_x86_64.manylinux2010_x86_64.whl (6.6 MB)\n",
      "\u001b[K     |████████████████████████████████| 6.6 MB 34.4 MB/s \n",
      "\u001b[?25hRequirement already satisfied: regex!=2019.12.17 in /usr/local/lib/python3.7/dist-packages (from transformers>=4.5.1->aitextgen) (2022.6.2)\n",
      "Collecting huggingface-hub<1.0,>=0.1.0\n",
      "  Downloading huggingface_hub-0.7.0-py3-none-any.whl (86 kB)\n",
      "\u001b[K     |████████████████████████████████| 86 kB 3.0 MB/s \n",
      "\u001b[?25hRequirement already satisfied: filelock in /usr/local/lib/python3.7/dist-packages (from transformers>=4.5.1->aitextgen) (3.7.1)\n",
      "Requirement already satisfied: charset-normalizer<3.0,>=2.0 in /usr/local/lib/python3.7/dist-packages (from aiohttp->fsspec[http]!=2021.06.0,>=2021.05.0->pytorch-lightning>=1.3.1->aitextgen) (2.0.12)\n",
      "Collecting aiosignal>=1.1.2\n",
      "  Downloading aiosignal-1.2.0-py3-none-any.whl (8.2 kB)\n",
      "Collecting yarl<2.0,>=1.0\n",
      "  Downloading yarl-1.7.2-cp37-cp37m-manylinux_2_5_x86_64.manylinux1_x86_64.manylinux_2_12_x86_64.manylinux2010_x86_64.whl (271 kB)\n",
      "\u001b[K     |████████████████████████████████| 271 kB 53.6 MB/s \n",
      "\u001b[?25hCollecting async-timeout<5.0,>=4.0.0a3\n",
      "  Downloading async_timeout-4.0.2-py3-none-any.whl (5.8 kB)\n",
      "Requirement already satisfied: attrs>=17.3.0 in /usr/local/lib/python3.7/dist-packages (from aiohttp->fsspec[http]!=2021.06.0,>=2021.05.0->pytorch-lightning>=1.3.1->aitextgen) (21.4.0)\n",
      "Collecting frozenlist>=1.1.1\n",
      "  Downloading frozenlist-1.3.0-cp37-cp37m-manylinux_2_5_x86_64.manylinux1_x86_64.manylinux_2_17_x86_64.manylinux2014_x86_64.whl (144 kB)\n",
      "\u001b[K     |████████████████████████████████| 144 kB 75.2 MB/s \n",
      "\u001b[?25hCollecting multidict<7.0,>=4.5\n",
      "  Downloading multidict-6.0.2-cp37-cp37m-manylinux_2_17_x86_64.manylinux2014_x86_64.whl (94 kB)\n",
      "\u001b[K     |████████████████████████████████| 94 kB 4.0 MB/s \n",
      "\u001b[?25hCollecting asynctest==0.13.0\n",
      "  Downloading asynctest-0.13.0-py3-none-any.whl (26 kB)\n",
      "Building wheels for collected packages: aitextgen, fire\n",
      "  Building wheel for aitextgen (setup.py) ... \u001b[?25l\u001b[?25hdone\n",
      "  Created wheel for aitextgen: filename=aitextgen-0.5.2-py3-none-any.whl size=575905 sha256=015fd8709c63d79b2c3625040df533edbd34c2cf153524eb48dc48dcd6ee9a17\n",
      "  Stored in directory: /root/.cache/pip/wheels/83/e2/74/46c887b0989a51a7acee0c09551a3ae9d34b939fb4bea404a0\n",
      "  Building wheel for fire (setup.py) ... \u001b[?25l\u001b[?25hdone\n",
      "  Created wheel for fire: filename=fire-0.4.0-py2.py3-none-any.whl size=115942 sha256=cb4a1af79a14e04cb26cfc7689ffccac6aaeee1bacf7c1ae645d9d0a145e3035\n",
      "  Stored in directory: /root/.cache/pip/wheels/8a/67/fb/2e8a12fa16661b9d5af1f654bd199366799740a85c64981226\n",
      "Successfully built aitextgen fire\n",
      "Installing collected packages: multidict, frozenlist, yarl, asynctest, async-timeout, aiosignal, PyYAML, fsspec, aiohttp, torchmetrics, tokenizers, pyDeprecate, huggingface-hub, transformers, pytorch-lightning, fire, aitextgen\n",
      "  Attempting uninstall: PyYAML\n",
      "    Found existing installation: PyYAML 3.13\n",
      "    Uninstalling PyYAML-3.13:\n",
      "      Successfully uninstalled PyYAML-3.13\n",
      "Successfully installed PyYAML-6.0 aiohttp-3.8.1 aiosignal-1.2.0 aitextgen-0.5.2 async-timeout-4.0.2 asynctest-0.13.0 fire-0.4.0 frozenlist-1.3.0 fsspec-2022.5.0 huggingface-hub-0.7.0 multidict-6.0.2 pyDeprecate-0.3.2 pytorch-lightning-1.6.4 tokenizers-0.12.1 torchmetrics-0.9.1 transformers-4.20.0 yarl-1.7.2\n",
      "Looking in indexes: https://pypi.org/simple, https://us-python.pkg.dev/colab-wheels/public/simple/\n",
      "Requirement already satisfied: transformers in /usr/local/lib/python3.7/dist-packages (4.20.0)\n",
      "Requirement already satisfied: numpy>=1.17 in /usr/local/lib/python3.7/dist-packages (from transformers) (1.21.6)\n",
      "Requirement already satisfied: packaging>=20.0 in /usr/local/lib/python3.7/dist-packages (from transformers) (21.3)\n",
      "Requirement already satisfied: filelock in /usr/local/lib/python3.7/dist-packages (from transformers) (3.7.1)\n",
      "Requirement already satisfied: huggingface-hub<1.0,>=0.1.0 in /usr/local/lib/python3.7/dist-packages (from transformers) (0.7.0)\n",
      "Requirement already satisfied: regex!=2019.12.17 in /usr/local/lib/python3.7/dist-packages (from transformers) (2022.6.2)\n",
      "Requirement already satisfied: requests in /usr/local/lib/python3.7/dist-packages (from transformers) (2.23.0)\n",
      "Requirement already satisfied: importlib-metadata in /usr/local/lib/python3.7/dist-packages (from transformers) (4.11.4)\n",
      "Requirement already satisfied: pyyaml>=5.1 in /usr/local/lib/python3.7/dist-packages (from transformers) (6.0)\n",
      "Requirement already satisfied: tqdm>=4.27 in /usr/local/lib/python3.7/dist-packages (from transformers) (4.64.0)\n",
      "Requirement already satisfied: tokenizers!=0.11.3,<0.13,>=0.11.1 in /usr/local/lib/python3.7/dist-packages (from transformers) (0.12.1)\n",
      "Requirement already satisfied: typing-extensions>=3.7.4.3 in /usr/local/lib/python3.7/dist-packages (from huggingface-hub<1.0,>=0.1.0->transformers) (4.1.1)\n",
      "Requirement already satisfied: pyparsing!=3.0.5,>=2.0.2 in /usr/local/lib/python3.7/dist-packages (from packaging>=20.0->transformers) (3.0.9)\n",
      "Requirement already satisfied: zipp>=0.5 in /usr/local/lib/python3.7/dist-packages (from importlib-metadata->transformers) (3.8.0)\n",
      "Requirement already satisfied: certifi>=2017.4.17 in /usr/local/lib/python3.7/dist-packages (from requests->transformers) (2022.6.15)\n",
      "Requirement already satisfied: urllib3!=1.25.0,!=1.25.1,<1.26,>=1.21.1 in /usr/local/lib/python3.7/dist-packages (from requests->transformers) (1.24.3)\n",
      "Requirement already satisfied: idna<3,>=2.5 in /usr/local/lib/python3.7/dist-packages (from requests->transformers) (2.10)\n",
      "Requirement already satisfied: chardet<4,>=3.0.2 in /usr/local/lib/python3.7/dist-packages (from requests->transformers) (3.0.4)\n"
     ]
    }
   ],
   "source": [
    "!pip install aitextgen\n",
    "!pip install transformers"
   ]
  },
  {
   "cell_type": "code",
   "execution_count": 9,
   "id": "1e190eda",
   "metadata": {
    "id": "1e190eda"
   },
   "outputs": [],
   "source": [
    "from aitextgen import aitextgen\n",
    "from aitextgen.TokenDataset import TokenDataset, merge_datasets\n",
    "from pytorch_lightning.loggers import TensorBoardLogger"
   ]
  },
  {
   "cell_type": "code",
   "execution_count": 10,
   "id": "d0129903",
   "metadata": {
    "id": "d0129903"
   },
   "outputs": [],
   "source": [
    "### Standard Imports\n",
    "import os\n",
    "import sys\n",
    "import torch\n",
    "import tensorflow as tf\n",
    "import numpy as np\n",
    "import pandas as pd\n",
    "import matplotlib.pyplot as plt\n",
    "\n",
    "from gensim import downloader"
   ]
  },
  {
   "cell_type": "code",
   "execution_count": 11,
   "id": "89255460",
   "metadata": {
    "colab": {
     "base_uri": "https://localhost:8080/"
    },
    "id": "89255460",
    "outputId": "5d7ce181-08f4-4946-9b22-2bffe7ffa91a"
   },
   "outputs": [],
   "source": [
    "### Custom Imports\n",
    "sys.path.append('../')\n",
    "import lib.utilities as utils\n",
    "import lib.sentiment as sentiment"
   ]
  },
  {
   "cell_type": "code",
   "execution_count": 12,
   "id": "c0c1e0a9",
   "metadata": {
    "id": "c0c1e0a9"
   },
   "outputs": [],
   "source": [
    "### Text Parameters\n",
    "start_token = '<cls>'\n",
    "end_token = '<eos>'\n",
    "pad_token = '<pad>'\n",
    "unk_token = '<unk>'\n",
    "newline_token = '<new>'\n",
    "neu_token = '<neu>'\n",
    "pos_token = '<pos>'\n",
    "\n",
    "### General Parameters\n",
    "random_seed = 42\n",
    "model_folder = '../../../gpt2/finetuned/v3'\n",
    "model_name = 'gpt2_ft_sent'\n",
    "\n",
    "### Model Parameters\n",
    "batch_size = 64\n",
    "epochs = 30\n",
    "sentiment_themes = ['unity', 'affection', 'aspiration', 'home', 'relationship', 'motivation', 'nationhood', 'life', 'celebrate']"
   ]
  },
  {
   "cell_type": "code",
   "execution_count": 7,
   "id": "e162c608",
   "metadata": {
    "id": "e162c608"
   },
   "outputs": [],
   "source": [
    "os.makedirs(model_folder, exist_ok=True)"
   ]
  },
  {
   "cell_type": "code",
   "execution_count": null,
   "id": "71bf57d4",
   "metadata": {
    "colab": {
     "base_uri": "https://localhost:8080/"
    },
    "id": "71bf57d4",
    "outputId": "3c85cec0-81f0-4ac0-9a23-64f0eb6914c9"
   },
   "outputs": [],
   "source": [
    "### Embeddings for Sentiment Analysis\n",
    "glove_vectors = downloader.load('glove-wiki-gigaword-100')"
   ]
  },
  {
   "cell_type": "code",
   "execution_count": null,
   "id": "3e73d65a",
   "metadata": {
    "id": "3e73d65a"
   },
   "outputs": [],
   "source": [
    "### Load Data\n",
    "corpus = utils.load_corpus()\n",
    "train_corpus, val_corpus, train_files, val_files = utils.split_corpus()\n",
    "songs = utils.split_text(corpus)[:-1]\n",
    "train_songs = utils.split_text(train_corpus)[:-1]\n",
    "val_songs = utils.split_text(val_corpus)[:-1]"
   ]
  },
  {
   "cell_type": "code",
   "execution_count": null,
   "id": "7f090703",
   "metadata": {
    "id": "7f090703"
   },
   "outputs": [],
   "source": [
    "### Scoring Songs for Sentiment\n",
    "vader_scores = []\n",
    "sentiment_theme_scores = []\n",
    "for song in songs:\n",
    "    sentiment_scorer = sentiment.Sentiment()\n",
    "    sentiment_scorer.clean_text(original_text = 'placeholder', generated_text = song)\n",
    "    sentiment_scorer.get_theme_vector(sentiment_themes, embedding = glove_vectors, topn=10)\n",
    "    sentiment_scorer.score_vader_sentiment()\n",
    "    sentiment_scorer.score_word_vector_sentiment()\n",
    "    vader_scores.append(sentiment_scorer.vader_sentiment_scores['generated'])\n",
    "    sentiment_theme_scores.append(sentiment_scorer.word_vector_sentiment_scores['generated'])"
   ]
  },
  {
   "cell_type": "code",
   "execution_count": null,
   "id": "abae1a4d",
   "metadata": {
    "colab": {
     "base_uri": "https://localhost:8080/",
     "height": 499
    },
    "id": "abae1a4d",
    "outputId": "146e3554-cca0-44af-ee03-f056f440ec05",
    "scrolled": true
   },
   "outputs": [],
   "source": [
    "vader_df = pd.DataFrame(vader_scores)\n",
    "vader_df.hist(figsize = (12,8), sharex = True)\n",
    "plt.show()\n",
    "# There is negligible variety of sentiment in the entire corpus"
   ]
  },
  {
   "cell_type": "code",
   "execution_count": null,
   "id": "0a092fa4",
   "metadata": {},
   "outputs": [],
   "source": [
    "vader_df.describe()"
   ]
  },
  {
   "cell_type": "code",
   "execution_count": null,
   "id": "1e40d299",
   "metadata": {
    "colab": {
     "base_uri": "https://localhost:8080/",
     "height": 499
    },
    "id": "1e40d299",
    "outputId": "c070a47d-0d71-430e-fd11-0fc8cecfdbc2"
   },
   "outputs": [],
   "source": [
    "sentiment_theme_df = pd.DataFrame(sentiment_theme_scores)\n",
    "sentiment_theme_df.hist(figsize = (12,8), sharex = True)\n",
    "plt.show()\n",
    "# There is negligible variety of sentiment in the entire corpus"
   ]
  },
  {
   "cell_type": "code",
   "execution_count": null,
   "id": "ed9bf16b",
   "metadata": {},
   "outputs": [],
   "source": [
    "sentiment_theme_df.describe()"
   ]
  },
  {
   "cell_type": "code",
   "execution_count": 13,
   "id": "8b2cafef",
   "metadata": {
    "id": "8b2cafef"
   },
   "outputs": [],
   "source": [
    "### For illlustrative purposes, we will use the mean positive value as the cutoff between a <neu> and <pos> context label.\n",
    "avg_pos = vader_df['pos'].mean()\n",
    "train_words = []\n",
    "for i, song in enumerate(train_songs):\n",
    "    sentiment_scorer = sentiment.Sentiment()\n",
    "    sentiment_scorer.clean_text(original_text = 'placeholder', generated_text = song)\n",
    "    #sentiment_scorer.get_theme_vector(sentiment_themes, embedding = glove_vectors, topn=10)\n",
    "    sentiment_scorer.score_vader_sentiment()\n",
    "    pos_test = sentiment_scorer.vader_sentiment_scores['generated']['pos'] > avg_pos\n",
    "    #words = utils.tokenize_text(song, newline_token)\n",
    "    if pos_test:\n",
    "        #train_words.append([pos_token] + words)\n",
    "        train_songs[i] = pos_token + song\n",
    "    else:\n",
    "        #train_words.append([neu_token] + words)\n",
    "        train_songs[i] = neu_token + song"
   ]
  },
  {
   "cell_type": "code",
   "execution_count": 14,
   "id": "b1558963",
   "metadata": {
    "colab": {
     "base_uri": "https://localhost:8080/",
     "height": 49,
     "referenced_widgets": [
      "a9a456edc8544e22b4bc4965d5fbdb25",
      "3a37be54bf99447d97c52e5d079be247",
      "2050110209e5471cafc61161a2e8cc67",
      "5fdcedaa9cf7438e9833d7cec969c896",
      "3f43d664b96b49c4bba2c169ee77715d",
      "71e484e566ec4c56bf3013f991c5608e",
      "586e02a64f014f00977618e3d82cb77e",
      "d001fa40e44346c2b51268349b5bedd6",
      "916222b87d864af692d173805921ad8f",
      "fda6e46e9a7044adad2a20f93d56ac36",
      "240f0e5f71f44eb7841a219469b32782"
     ]
    },
    "id": "b1558963",
    "outputId": "b58d057d-e750-4f1f-f6e8-ce66b6512ed8"
   },
   "outputs": [
    {
     "data": {
      "application/vnd.jupyter.widget-view+json": {
       "model_id": "a9a456edc8544e22b4bc4965d5fbdb25",
       "version_major": 2,
       "version_minor": 0
      },
      "text/plain": [
       "  0%|          | 0/40 [00:00<?, ?it/s]"
      ]
     },
     "metadata": {},
     "output_type": "display_data"
    }
   ],
   "source": [
    "traindata = TokenDataset(texts = train_songs,\n",
    "                         line_by_line = True,\n",
    "                         block_size = 1024,\n",
    "                         bos_token = start_token,\n",
    "                         eos_token = end_token,\n",
    "                         unk_token = unk_token,\n",
    "                         pad_token = pad_token)"
   ]
  },
  {
   "cell_type": "code",
   "execution_count": 15,
   "id": "91832f0d",
   "metadata": {
    "colab": {
     "base_uri": "https://localhost:8080/",
     "height": 986,
     "referenced_widgets": [
      "713aa03fe4054761901f99db9f4197b2",
      "39e0de2da72345f9a656721ea9f295a9",
      "f7f10abb99e94420b1dfca0274f16cec",
      "81d2423baad4458cbb35f4fd603b846d",
      "407e76df201e42cab8e70c84c29bcdb8",
      "12d48771393d4d5d825c8475964a63b6",
      "80eb9de92cd24892937070a568214243",
      "47ad94938fab4bb0b01984e4e02865ec",
      "f5ccd03e89254868b97ae38ca3eefa82",
      "48879ac660794af6beae2e42d9aec297",
      "a1e6583140c3481bbe024c9a50d38e22",
      "ca3b70988c37480ab548523e5e59dc42",
      "63f09d3a24af4e5eb3cc459cbda05ef2",
      "9495ef1e294a4cc383f3859d100cc175",
      "7de0b85c1d7d433f9f9c05fefca32379",
      "f2fb6e94da1440519562fac734a5de7a",
      "eed8846ea744419c848715a79aad6353",
      "dd5dce8fed8649d4bce4daa558d2010b",
      "4b14694ba9f1429a8a8fcbee321307e3",
      "0cc52c374c944df9bf052a663922e794",
      "8bb2555495574d1ca2a455922fa998f7",
      "a12c891a0f6a4818b84ec70df161653d"
     ]
    },
    "id": "91832f0d",
    "outputId": "02c8d751-e0d7-465e-e013-15f1ca91d723"
   },
   "outputs": [
    {
     "name": "stderr",
     "output_type": "stream",
     "text": [
      "https://huggingface.co/gpt2/resolve/main/config.json not found in cache or force_download set to True, downloading to /content/drive/MyDrive/SMU_MITB_NLP/Group Project/NLP-Lyric-Generator/src/bin/aitextgen/tmplnkbw9la\n"
     ]
    },
    {
     "data": {
      "application/vnd.jupyter.widget-view+json": {
       "model_id": "713aa03fe4054761901f99db9f4197b2",
       "version_major": 2,
       "version_minor": 0
      },
      "text/plain": [
       "Downloading:   0%|          | 0.00/665 [00:00<?, ?B/s]"
      ]
     },
     "metadata": {},
     "output_type": "display_data"
    },
    {
     "name": "stderr",
     "output_type": "stream",
     "text": [
      "storing https://huggingface.co/gpt2/resolve/main/config.json in cache at aitextgen/fc674cd6907b4c9e933cb42d67662436b89fa9540a1f40d7c919d0109289ad01.7d2e0efa5ca20cef4fb199382111e9d3ad96fd77b849e1d4bed13a66e1336f51\n",
      "creating metadata file for aitextgen/fc674cd6907b4c9e933cb42d67662436b89fa9540a1f40d7c919d0109289ad01.7d2e0efa5ca20cef4fb199382111e9d3ad96fd77b849e1d4bed13a66e1336f51\n",
      "loading configuration file https://huggingface.co/gpt2/resolve/main/config.json from cache at aitextgen/fc674cd6907b4c9e933cb42d67662436b89fa9540a1f40d7c919d0109289ad01.7d2e0efa5ca20cef4fb199382111e9d3ad96fd77b849e1d4bed13a66e1336f51\n",
      "Model config GPT2Config {\n",
      "  \"_name_or_path\": \"gpt2\",\n",
      "  \"activation_function\": \"gelu_new\",\n",
      "  \"architectures\": [\n",
      "    \"GPT2LMHeadModel\"\n",
      "  ],\n",
      "  \"attn_pdrop\": 0.1,\n",
      "  \"bos_token_id\": 50256,\n",
      "  \"embd_pdrop\": 0.1,\n",
      "  \"eos_token_id\": 50256,\n",
      "  \"initializer_range\": 0.02,\n",
      "  \"layer_norm_epsilon\": 1e-05,\n",
      "  \"model_type\": \"gpt2\",\n",
      "  \"n_ctx\": 1024,\n",
      "  \"n_embd\": 768,\n",
      "  \"n_head\": 12,\n",
      "  \"n_inner\": null,\n",
      "  \"n_layer\": 12,\n",
      "  \"n_positions\": 1024,\n",
      "  \"reorder_and_upcast_attn\": false,\n",
      "  \"resid_pdrop\": 0.1,\n",
      "  \"scale_attn_by_inverse_layer_idx\": false,\n",
      "  \"scale_attn_weights\": true,\n",
      "  \"summary_activation\": null,\n",
      "  \"summary_first_dropout\": 0.1,\n",
      "  \"summary_proj_to_labels\": true,\n",
      "  \"summary_type\": \"cls_index\",\n",
      "  \"summary_use_proj\": true,\n",
      "  \"task_specific_params\": {\n",
      "    \"text-generation\": {\n",
      "      \"do_sample\": true,\n",
      "      \"max_length\": 50\n",
      "    }\n",
      "  },\n",
      "  \"transformers_version\": \"4.20.0\",\n",
      "  \"use_cache\": true,\n",
      "  \"vocab_size\": 50257\n",
      "}\n",
      "\n",
      "https://huggingface.co/gpt2/resolve/main/pytorch_model.bin not found in cache or force_download set to True, downloading to /content/drive/MyDrive/SMU_MITB_NLP/Group Project/NLP-Lyric-Generator/src/bin/aitextgen/tmp7_6_eytx\n"
     ]
    },
    {
     "data": {
      "application/vnd.jupyter.widget-view+json": {
       "model_id": "ca3b70988c37480ab548523e5e59dc42",
       "version_major": 2,
       "version_minor": 0
      },
      "text/plain": [
       "Downloading:   0%|          | 0.00/523M [00:00<?, ?B/s]"
      ]
     },
     "metadata": {},
     "output_type": "display_data"
    },
    {
     "name": "stderr",
     "output_type": "stream",
     "text": [
      "storing https://huggingface.co/gpt2/resolve/main/pytorch_model.bin in cache at aitextgen/752929ace039baa8ef70fe21cdf9ab9445773d20e733cf693d667982e210837e.323c769945a351daa25546176f8208b3004b6f563438a7603e7932bae9025925\n",
      "creating metadata file for aitextgen/752929ace039baa8ef70fe21cdf9ab9445773d20e733cf693d667982e210837e.323c769945a351daa25546176f8208b3004b6f563438a7603e7932bae9025925\n",
      "loading weights file https://huggingface.co/gpt2/resolve/main/pytorch_model.bin from cache at aitextgen/752929ace039baa8ef70fe21cdf9ab9445773d20e733cf693d667982e210837e.323c769945a351daa25546176f8208b3004b6f563438a7603e7932bae9025925\n",
      "All model checkpoint weights were used when initializing GPT2LMHeadModel.\n",
      "\n",
      "All the weights of GPT2LMHeadModel were initialized from the model checkpoint at gpt2.\n",
      "If your task is similar to the task the model of the checkpoint was trained on, you can already use GPT2LMHeadModel for predictions without further training.\n"
     ]
    }
   ],
   "source": [
    "### Loading Model\n",
    "hf_model = \"gpt2\"\n",
    "ai = aitextgen(model=hf_model, to_gpu = True, verbose=True)\n",
    "#ai.to_gpu()\n",
    "out_dir = model_folder"
   ]
  },
  {
   "cell_type": "code",
   "execution_count": 16,
   "id": "28d4de8a",
   "metadata": {
    "colab": {
     "base_uri": "https://localhost:8080/"
    },
    "id": "28d4de8a",
    "outputId": "59871efa-25a7-4395-e46a-aa6549ad2b75"
   },
   "outputs": [
    {
     "name": "stdout",
     "output_type": "stream",
     "text": [
      "5510\n"
     ]
    }
   ],
   "source": [
    "steps = int(epochs * len(traindata) / batch_size) #5000 steps is about 30 epochs for this dataset\n",
    "print(steps)"
   ]
  },
  {
   "cell_type": "code",
   "execution_count": 17,
   "id": "e2900bb2",
   "metadata": {
    "colab": {
     "base_uri": "https://localhost:8080/",
     "height": 642,
     "referenced_widgets": [
      "b58d78b119d4445c9e1431be821b6d5b",
      "4242ec7e6b784b6ca0c8644fa66d971c",
      "698577a8a0d243459af107524a4ab1f7",
      "9912b834c300417aad470f86df6d6530",
      "7315f4661ec64c02865ff7a86f7d501d",
      "fe2999c7e38e42b3a9e1cc404fc23e54",
      "3b0d47d654eb4dd38ee98a8cd3c938c3",
      "f59290694b344326936f45d05a16b36b",
      "0218515502c847848dba3fd4ba342caa",
      "f2356837a50f4db6b28e82394c334e4d",
      "e80ccee6657f4f8999efa36c84bd1b2c"
     ]
    },
    "id": "e2900bb2",
    "outputId": "2ed73561-e09d-431c-fc9b-e6ce32e4fff8"
   },
   "outputs": [
    {
     "name": "stderr",
     "output_type": "stream",
     "text": [
      "/usr/local/lib/python3.7/dist-packages/pytorch_lightning/trainer/connectors/callback_connector.py:152: LightningDeprecationWarning: Setting `Trainer(checkpoint_callback=False)` is deprecated in v1.5 and will be removed in v1.7. Please consider using `Trainer(enable_checkpointing=False)`.\n",
      "  f\"Setting `Trainer(checkpoint_callback={checkpoint_callback})` is deprecated in v1.5 and will \"\n",
      "/usr/local/lib/python3.7/dist-packages/pytorch_lightning/trainer/connectors/callback_connector.py:97: LightningDeprecationWarning: Setting `Trainer(progress_bar_refresh_rate=20)` is deprecated in v1.5 and will be removed in v1.7. Please pass `pytorch_lightning.callbacks.progress.TQDMProgressBar` with `refresh_rate` directly to the Trainer's `callbacks` argument instead. Or, to disable the progress bar pass `enable_progress_bar = False` to the Trainer.\n",
      "  f\"Setting `Trainer(progress_bar_refresh_rate={progress_bar_refresh_rate})` is deprecated in v1.5 and\"\n",
      "/usr/local/lib/python3.7/dist-packages/pytorch_lightning/trainer/connectors/callback_connector.py:172: LightningDeprecationWarning: Setting `Trainer(weights_summary=None)` is deprecated in v1.5 and will be removed in v1.7. Please set `Trainer(enable_model_summary=False)` instead.\n",
      "  \"Setting `Trainer(weights_summary=None)` is deprecated in v1.5 and will be removed\"\n",
      "GPU available: True, used: True\n",
      "TPU available: False, using: 0 TPU cores\n",
      "IPU available: False, using: 0 IPUs\n",
      "HPU available: False, using: 0 HPUs\n",
      "/usr/local/lib/python3.7/dist-packages/pytorch_lightning/trainer/configuration_validator.py:377: LightningDeprecationWarning: The `Callback.on_batch_end` hook was deprecated in v1.6 and will be removed in v1.8. Please use `Callback.on_train_batch_end` instead.\n",
      "  f\"The `Callback.{hook}` hook was deprecated in v1.6 and\"\n",
      "Missing logger folder: ../../../gpt2/finetuned/v3/lightning_logs\n",
      "LOCAL_RANK: 0 - CUDA_VISIBLE_DEVICES: [0]\n"
     ]
    },
    {
     "data": {
      "application/vnd.jupyter.widget-view+json": {
       "model_id": "b58d78b119d4445c9e1431be821b6d5b",
       "version_major": 2,
       "version_minor": 0
      },
      "text/plain": [
       "  0%|          | 0/5510 [00:00<?, ?it/s]"
      ]
     },
     "metadata": {},
     "output_type": "display_data"
    },
    {
     "name": "stderr",
     "output_type": "stream",
     "text": [
      "/usr/local/lib/python3.7/dist-packages/pytorch_lightning/trainer/trainer.py:2282: LightningDeprecationWarning: `trainer.progress_bar_dict` is deprecated in v1.5 and will be removed in v1.7. Use `ProgressBarBase.get_metrics` instead.\n",
      "  \"`trainer.progress_bar_dict` is deprecated in v1.5 and will be removed in v1.7.\"\n",
      "Configuration saved in ../../../gpt2/finetuned/v3/config.json\n"
     ]
    },
    {
     "name": "stdout",
     "output_type": "stream",
     "text": [
      "\u001b[1m1,000 steps reached: saving model to /../../../gpt2/finetuned/v3\u001b[0m\n"
     ]
    },
    {
     "name": "stderr",
     "output_type": "stream",
     "text": [
      "Model weights saved in ../../../gpt2/finetuned/v3/pytorch_model.bin\n",
      "Configuration saved in ../../../gpt2/finetuned/v3/config.json\n"
     ]
    },
    {
     "name": "stdout",
     "output_type": "stream",
     "text": [
      "\u001b[1m2,000 steps reached: saving model to /../../../gpt2/finetuned/v3\u001b[0m\n"
     ]
    },
    {
     "name": "stderr",
     "output_type": "stream",
     "text": [
      "Model weights saved in ../../../gpt2/finetuned/v3/pytorch_model.bin\n",
      "Configuration saved in ../../../gpt2/finetuned/v3/config.json\n"
     ]
    },
    {
     "name": "stdout",
     "output_type": "stream",
     "text": [
      "\u001b[1m3,000 steps reached: saving model to /../../../gpt2/finetuned/v3\u001b[0m\n"
     ]
    },
    {
     "name": "stderr",
     "output_type": "stream",
     "text": [
      "Model weights saved in ../../../gpt2/finetuned/v3/pytorch_model.bin\n",
      "Configuration saved in ../../../gpt2/finetuned/v3/config.json\n"
     ]
    },
    {
     "name": "stdout",
     "output_type": "stream",
     "text": [
      "\u001b[1m4,000 steps reached: saving model to /../../../gpt2/finetuned/v3\u001b[0m\n"
     ]
    },
    {
     "name": "stderr",
     "output_type": "stream",
     "text": [
      "Model weights saved in ../../../gpt2/finetuned/v3/pytorch_model.bin\n",
      "Configuration saved in ../../../gpt2/finetuned/v3/config.json\n"
     ]
    },
    {
     "name": "stdout",
     "output_type": "stream",
     "text": [
      "\u001b[1m5,000 steps reached: saving model to /../../../gpt2/finetuned/v3\u001b[0m\n"
     ]
    },
    {
     "name": "stderr",
     "output_type": "stream",
     "text": [
      "Model weights saved in ../../../gpt2/finetuned/v3/pytorch_model.bin\n",
      "Configuration saved in ../../../gpt2/finetuned/v3/config.json\n",
      "Model weights saved in ../../../gpt2/finetuned/v3/pytorch_model.bin\n"
     ]
    }
   ],
   "source": [
    "ai.train(\n",
    "    traindata,\n",
    "    n_gpu = 1,\n",
    "    num_steps = steps,\n",
    "    generate_every = 10000,\n",
    "    output_dir = out_dir,\n",
    "    loggers = [TensorBoardLogger(out_dir)],\n",
    "    freeze_layers = True,\n",
    "    num_layers_freeze = 9,\n",
    "    line_by_line = True,\n",
    "    header = False,\n",
    ")"
   ]
  },
  {
   "cell_type": "code",
   "execution_count": 23,
   "id": "e28a135e",
   "metadata": {
    "id": "e28a135e"
   },
   "outputs": [],
   "source": [
    "prompts = ['Whenever I think back', 'And so this I know',\n",
    "           'I am tired of being what you want me to be', 'Feeling so faithless, lost under the surface',\n",
    "           'Relight our fire, we will find our way', 'We will rise stronger together']\n",
    "pos_result_strings = {}\n",
    "neu_result_strings = {}\n",
    "for prompt in prompts:\n",
    "    output = ai.generate(\n",
    "        prompt = pos_token+'<VERSE>'+prompt,\n",
    "        n = 1,\n",
    "        min_len = 100,\n",
    "        max_len = 500,\n",
    "        temperature = 1,\n",
    "        do_sample = True,\n",
    "        use_cache = True,\n",
    "        early_stopping = False,\n",
    "        num_beams = 1,\n",
    "        top_k = 50,\n",
    "        top_p = 0.75,\n",
    "        repetition_penalty = 1.2,\n",
    "        length_penalty = 1.0,\n",
    "        no_repeat_ngram_size = 0,\n",
    "        num_beam_groups = 1,\n",
    "        diversity_penalty = 0.0,\n",
    "        remove_invalid_values = True,\n",
    "        return_as_list = True,\n",
    "        lstrip = False,\n",
    "        skip_special_tokens = True\n",
    "    )\n",
    "    pos_result_strings[prompt] = output[0]\n",
    "    \n",
    "    output = ai.generate(\n",
    "        prompt = neu_token+'<VERSE>'+prompt,\n",
    "        n = 1,\n",
    "        min_len = 100,\n",
    "        max_len = 500,\n",
    "        temperature = 1,\n",
    "        do_sample = True,\n",
    "        use_cache = True,\n",
    "        early_stopping = False,\n",
    "        num_beams = 1,\n",
    "        top_k = 50,\n",
    "        top_p = 0.75,\n",
    "        repetition_penalty = 1.2,\n",
    "        length_penalty = 1.0,\n",
    "        no_repeat_ngram_size = 0,\n",
    "        num_beam_groups = 1,\n",
    "        diversity_penalty = 0.0,\n",
    "        remove_invalid_values = True,\n",
    "        return_as_list = True,\n",
    "        lstrip = False,\n",
    "        skip_special_tokens = True\n",
    "    )\n",
    "    neu_result_strings[prompt] = output[0]"
   ]
  },
  {
   "cell_type": "code",
   "execution_count": 24,
   "id": "e4a9ac14",
   "metadata": {
    "colab": {
     "base_uri": "https://localhost:8080/"
    },
    "id": "e4a9ac14",
    "outputId": "9cdfc432-0150-4fc7-c334-63076ee6ede7"
   },
   "outputs": [
    {
     "name": "stdout",
     "output_type": "stream",
     "text": [
      "{'Whenever I think back': \"<pos><VERSE>Whenever I think back\\nThe future it can be\\nThe time has come for me\\nTo strive and to achieve\\nWith hopes within our hearts\\nAs one hand in hand\\nFor family and our friends\\nLet's do the best we can\\n\\n<CHORUS>\\nLet's reach out for the skies\\nWith wings we soar up high\\nOur dreams we'll all achieve\\nWe'll make our destiny\\nLet's reachout for the skies\\nOur dreams we will always be\\nShining as one\\n\\n<VERSE>\\nWhen I think about my dreams\\nThe future it will bring\\nThis is my challenge, this is where I know it\\n\\n<CHORSUS>\\nI want to sing\\nSing a song for Singapore\\nWith every generation there's more to be grateful for\\nSo come and sing\\nSing a songs for Singapore\\nYou're my brother you're my sister\\nI'm thankful for my Singapore\\nMy Singapore\\nSingapore\\n\\n<BRIDGE>\\nWe've had our ups and downs\\nSometimes the best things are taken for granted\\nYou're my family you're my home\\n\\n<CHOREDUS>\\nI wish to sing\\nSing an song for Singapore\\nThere\", 'And so this I know': \"<pos><VERSE>And so this I know\\nThere's a place that will stay within me\\nWherever I may choose to go\\nI'll always recall the city\\nKnow every street and shore\\nSail down that river which brings us life\\nWinding through my Singapore\\n\\n<CHORUS>\\nThis is home, truly\\nWhere I know I must be\\nWhere my dreams wait for me\\nWhere that river always flows\\nThis is home as my homeland\\nAs my senses tell me\\nThis is where I won't be alone\\nFor this is where I know it's home\\n\\n<VERSE>\\nWhen there are troubles to go through\\nWe'll find a way to start anew\\nThere is comfort in the knowledge\\nThat home's about its people too\\nSo we'll build our dreams together\\nJust like we've done before\\nJust like that river which brings them life\\nThere'll always be Singapore\\n\\n<chORUS>\\nThese are home, truly\\nWhether rain or shine it's still beautiful\\nBright lights shine on the streets at night\\nGuiding me closer to home\\nTo a place where I'll be safe and warm\\nWhere I belong\\nFriends and families by my side\\nSeeing me through as\", 'I am tired of being what you want me to be': \"<pos><VERSE>I am tired of being what you want me to be\\nTell me, will he be as fine as I have dreamed\\nDo you think he's waiting for me too\\nRiver won't you make my dream come true\\n\\n<CHORUS>\\nAnd finally when we meet\\nWill he recognise me\\nHave we already met before\\nOn a quiet evening\\nAnother night like this\\nMaybe he's been here today\\n\\n<VERSE>\\nMoon is shining bright alone I sit beside\\nRiver of dreams I ask of you\\nTell me, have we done before\\n\\n<BRIDGE>\\nJust my life story\\nMinute by second a story\\nThat goes on forever with each breath that I take\\nThis is my family and friends\\nThank me great things are\\nAs they become precious memories\\nThey'll be kept close to my heart\\nAnd no matter where I am I will always know\\nWhere I belong\\n\\n<CHORSUS>\\nWhere I belong (Where I keep my heart and soul\\nWhere dreams come true for us\\nWhere we walk together hand in hand\\nTowards a future so bright\\nWhere I belong\", 'Feeling so faithless, lost under the surface': \"<pos><VERSE>Feeling so faithless, lost under the surface\\nWe have stood through all weathers\\nWeathers we have stood through all the many many changes\\nIn our hearts we have become like family\\nCan't you see, yeah, can't you see, ooh\\n\\n<CHORUS>\\nBecause in Singapore, Singapore\\nTheir hearts are big and wide you'll find\\nBecause in Singapore's hearts we've given what we can\\nIt'll take some time to understand\\nAll the things we slowly have become\\nBut for now I know we'll really smile\\nWhen we say When we say hey\\n\\n<CHORSUS>\\nI love Singapore\\nI love Singapore; I love Singapore\\nSingapore I love you I love you and so much more\\n\\n<VERSE>\\nAs people we have tried beyond ourselves\\nIt's written on our faces, can't you tell\\nThrough all the heartaches and the pains\\nWe have stood at the heart as one\\nAnd have stood through all those many many many changes\\nLived a life of nothing much\\nBut then how much can one expect?\\nSo there you are\\nMy life has gone\\nBut I'm the same\\n\\n<CHORYUS>\", 'Relight our fire, we will find our way': \"<pos><VERSE>Relight our fire, we will find our way to the stars\\nTogether we are stronger as one\\nTogether we'll make dreams come true\\nTogether sharing the love with all that we do\\n\\n<CHORUS>\\nLet our hearts sing\\nWhoa oh oh oh \\nWooh oh oh oh oh\\nWhoa oh I have dreamed\\nDo you think he's waiting for me too\\nRiver won't you make my dream come true\\n\\n<CHORSUS>\\nAnd finally when we meet\\nWill he recognise me immediately be ready\\nTo give a little more\\n\\n<VERSE>\\nIn the candle light I see them passing by\\nTwo by two along the river side\\nBut I won't be blue as long as I have you\\nRiver wonny island wide\\n\\n<CHERS>\\nAnd I will sing\\nA song of home\\nA land of peace\\nWhere dreams are born everyday\\nMy home\\nWherever I may choose to go\\nI've had dreams, they were born\\nInto this world, into my home\\nI recall when I was young\\nStars and crescent shine on me\\nIn my heart lies my homeland\\nI share this joy with my families and friends\\n\", 'We will rise stronger together': \"<pos><VERSE>We will rise stronger together\\nTogether we can reach for the stars\\nTogether we are stronger as one\\nTogether we'll make dreams come true\\nTogether sharing the love with all that we do\\n\\n<CHORUS>\\nLet our hearts sing\\nWhoa oh oh \\nWooh oh oh oh\\nWhoa oh hey oh oh \\n Wooh oh oh oh oh\\nTogether\\nTogether as one\\nWe're so much more\\nOne Singapore <eos><neu><VERSE>\\nI want you to understand\\nBecause of you, I am who I am\\nBecause of who you are\\nI can be everything I am\\n\\n<VERSE>\\nShow me how I should be strong\\nTeach me that I can be weak\\nBecause of whoYou have made me feel low\\nBecause of who YOU are\\nI can find anything I seek\\n\\n<PRECHORUS> and in each other, there will be\\nThe colours of your tapestry\\nColours you've never seen\\n\\n<CHORSUS>\\nHere's to my home, to my homeland\\nTo every shining crystal in the sand\\nBecause of who You are I can be everything I are\\n\\n<CH\"}\n",
      "{'Whenever I think back': \"<neu><VERSE>Whenever I think back\\nI like to dream of things I would have done\\nIf I were braver then again I'm not\\n\\nWhat's there to do?\\nMaybe if I had another chance\\nI'd go into my past\\nAnd make my life a better one\\nFor me and you\\n\\n<CHORUS>\\nJust my life story\\nMinute by second a story\\nThat goes on forever with each breath that I take\\nThis is my life story\\nUneventfullest story\\nThat ages with each year and birthday cake\\n\\n<VERSE>\\nWhen its time\\nAnd I must close\\nI'll write a book\\nAnd sign it X\\nAnd send it to some true romance type magazine somewhere\\nThen the world will read of me\\nAnd say there lived a hero\\nBut too late my friends and enemies\\nI guess life isn't fair\\n\\n<OTHERS>\\nSo my life story\\nIs self-explanatory\\nWon't you please start from page one\\nAnd do go on\\nTill I am done\\n<eos><neu><versE>\\nThis is a place\\nYou'll be amazed\\nWhere children play\\nWhere best friends stay\", 'And so this I know': \"<neu><VERSE>And so this I know\\nThere's a place that will stay within me\\nWherever I may choose to go\\nI will always recall the city\\nKnow every street and shore\\nSail down that river which brings us life\\nWinding through my Singapore\\n\\n<CHORUS>\\nThis is home, truly\\nWhere I know it's home\\nWhere my dreams wait for me\\nWhere that river always flows\\nThis is home where my strength is from\\n\\n<VERSE>\\nWhen there are troubles to go through\\nWe'll find a way to start anew\\nThere is comfort in the knowledge\\nThat home's about its people too\\nSo we'll build our dreams together\\nJust like we've done before\\nJust like that river which brings them life\\nThere'll always be Singapore\\n\\n< CHORUS>\\nthis is home, truly: Where I know it'shome\\nWhere my dreams begin\\nWhere that river ALWAYS flows\\nThis is Home, peace, full of green\\nMay your youth with all might defend thee\\nWork with fervour for prosperity\\nSingapore\\n\\n<CHORSUS>\\nThis was home, truly\\n Where I know it must be\\nWhere my dreams waited for me\", 'I am tired of being what you want me to be': \"<neu><VERSE>I am tired of being what you want me to be\\nThat's your story for me\\nYou'll give me a hand\\nTo carry on the dream\\nAs we've done before\\nJust like that river which brings us life\\nThere'll always be Singapore\\n\\n<CHORUS>\\nThis is home, truly\\nWhere I know it's home\\nWhere my dreams wait for me\\nWhere that river always flows\\nThis is home and joy that's still beautiful\\nFor this is where I know it's Home\\n\\n<CHORSUS>\\nThis Is home, truly\\nThrough all the heartaches and the pains\\nWe have stood through all the many many changes\\nIn our hearts we have become like family\\nCan't you see, yeah, can't you see, ooh\\n\\n<VERSE>\\nWhen there are troubles to go\\nWe'll find a way to start anew\\nThere is comfort in the knowledge\\nThat home's about its people too\\nSo we'll build our dreams together\\nJust like we've done before\\n\\n\\nJust like that rivers which brings us life life\\nThere'llalways be Singapore\\n\\n\\n<CHORYERS>\\nThis is homes, truly\\nWhere my senses tell\", 'Feeling so faithless, lost under the surface': \"<neu><VERSE>Feeling so faithless, lost under the surface\\nWe've had dreams in our hands\\nThe values they gave us survive\\n\\n<VERSE>\\nAs four streams flow To make one river grow\\nSo we came together as one\\nWe live side by side And share island wide\\nA style Singaporean\\n\\n<CHORUS>\\nThis is our home A home that's grown\\nFrom a little room To a country of our own\\nNow we welcome everyone to see\\nSingapore - a city for the world\\n\\n<VERSES> We reach out our hands To friends in far off lands\\nAnd bridge dividing streams\\nTogether we can build A world which is filled\\nWith hope of the Singapore dream\\n\\n<CHORSUS>\\nThis are our home A home within me\\nWherever I may choose to go\\nI will always recall the city\\nKnow every street and shore\\nSail down that river which brings us life\\nWinding through my Singapore\\n\\n<PRECHORUS> (We just don't realise how fortunate we are\\nSometimes we wonder how we ever came this far\\nDon't take for granted that these good things never end\\nLet's work together everybody lend a hand\\n\", 'Relight our fire, we will find our way': \"<neu><VERSE>Relight our fire, we will find our way\\nWe'll always be there\\nTo keep the ties we have, \\nboth firm and strong\\nSo that our hearts will know where we belong\\nNow we learn to change with the times\\nWith one heart and mind\\nKeeping open the doors\\nReaching out cause there's so much more<eos><pos><VERSE>\\nFirst light, Rolls across my peaceful isle\\nMornings, I wake up, refreshed, renewed\\nReady to meet the bright new day\\nSo much to look forward to\\n\\n<VERSE>\\nDaylight, The city has stirred to life\\nYour smiles, Put a spring in my step\\nThere's a feeling that binds us one and all\\nDifferent stories, shared memories\\n\\n<CHORUS>\\nI love my city's lively ways\\nWarm sunny days\\nSights and sounds, Special tastes\\nThat add up to this place\\nI love my friends, my closest ties\\nNow I finally realize\\nWhen it feels this right\\nYou know that it's love at first light\\n\\n<VERSÉ>\\nNight fall,Stars twinkling on the bay\\nMy dreams can take flight if I\", 'We will rise stronger together': \"<neu><VERSE>We will rise stronger together\\nStars and crescent shine on me\\nIn my heart lies my homeland\\nI share this joy with my families and friends\\nLet our strength build on and on\\nReaching out to the skies\\nSingapore\\n\\n<CHORUS>\\nStars and calders by virtue, I am blessed\\nLet us reach higher as one\\nStars and cenner is still progressing\\nWe're singing songs of our beautiful island\\nwith joyful melody\\n\\n<CHORSERS>\\nSing sing sing\\nSongs of our country\\nSing sing sing sing\\nAs we live in harmony\\nSing sing sing oh oh oh oh\\nWith our friends and family\\nSinging Singaporean style in unity\\n\\n<VERSE>\\nYou can hardly spot our island on the world map\\nYet the tourists they keep coming every day\\nPeople come from every nation\\nSay our food's such a sensation\\nOur hawker centre's cooking night and day\\n\\n<VERSES>\\nAs we gaze upon the far horizon\\nWe may wonder what our future has in store\\nIt's a struggle we all know it\\nBut we're lions don't forget it\\nWe will face the storms and reach the stars\\n\"}\n"
     ]
    }
   ],
   "source": [
    "print(pos_result_strings)\n",
    "print(neu_result_strings)"
   ]
  },
  {
   "cell_type": "code",
   "execution_count": 21,
   "id": "6fb194fd",
   "metadata": {
    "id": "6fb194fd"
   },
   "outputs": [],
   "source": [
    "for k, v in pos_result_strings.items():\n",
    "    with open(model_folder+f'/human_{model_name}-pos-{utils.remove_punct(k.lower())}.txt', 'w') as f:\n",
    "        f.write(v)\n",
    "for k, v in neu_result_strings.items():\n",
    "    with open(model_folder+f'/human_{model_name}-neu-{utils.remove_punct(k.lower())}.txt', 'w') as f:\n",
    "        f.write(v)"
   ]
  },
  {
   "cell_type": "code",
   "execution_count": 22,
   "id": "0cdb02ad",
   "metadata": {
    "id": "0cdb02ad"
   },
   "outputs": [],
   "source": [
    "# import json\n",
    "# with open('../../output/prompt_ref.json', 'r') as f:\n",
    "#     eval_prompts = json.load(f)"
   ]
  },
  {
   "cell_type": "code",
   "execution_count": null,
   "id": "17a0ca0d",
   "metadata": {
    "id": "17a0ca0d"
   },
   "outputs": [],
   "source": [
    "# result_strings = {}\n",
    "# for prompt, actual in eval_prompts.items():\n",
    "#     output = ai.generate(\n",
    "#         prompt = prompt,\n",
    "#         n = 1,\n",
    "#         min_len = 100,\n",
    "#         max_len = 500,\n",
    "#         temperature = 1,\n",
    "#         do_sample = True,\n",
    "#         use_cache = True,\n",
    "#         early_stopping = False,\n",
    "#         num_beams = 1,\n",
    "#         top_k = 50,\n",
    "#         top_p = 0.75,\n",
    "#         repetition_penalty = 1.2,\n",
    "#         length_penalty = 1.0,\n",
    "#         no_repeat_ngram_size = 0,\n",
    "#         num_beam_groups = 1,\n",
    "#         diversity_penalty = 0.0,\n",
    "#         remove_invalid_values = True,\n",
    "#         return_as_list = True,\n",
    "#         lstrip = False,\n",
    "#         skip_special_tokens = False\n",
    "#     )\n",
    "#     result_strings[prompt] = output"
   ]
  },
  {
   "cell_type": "code",
   "execution_count": null,
   "id": "e8aa008a",
   "metadata": {
    "id": "e8aa008a"
   },
   "outputs": [],
   "source": [
    "# for k, v in result_strings.items():\n",
    "#     with open(model_folder+f'/br_{model_name}-{utils.remove_punct(k.lower())}.txt', 'w') as f:\n",
    "#         f.write(v)"
   ]
  }
 ],
 "metadata": {
  "accelerator": "GPU",
  "colab": {
   "collapsed_sections": [],
   "name": "gpt2_finetuned_sentiment_loss_v3.ipynb",
   "provenance": []
  },
  "kernelspec": {
   "display_name": "Python 3",
   "language": "python",
   "name": "python3"
  },
  "language_info": {
   "codemirror_mode": {
    "name": "ipython",
    "version": 3
   },
   "file_extension": ".py",
   "mimetype": "text/x-python",
   "name": "python",
   "nbconvert_exporter": "python",
   "pygments_lexer": "ipython3",
   "version": "3.8.8"
  },
  "widgets": {
   "application/vnd.jupyter.widget-state+json": {
    "0218515502c847848dba3fd4ba342caa": {
     "model_module": "@jupyter-widgets/controls",
     "model_module_version": "1.5.0",
     "model_name": "ProgressStyleModel",
     "state": {
      "_model_module": "@jupyter-widgets/controls",
      "_model_module_version": "1.5.0",
      "_model_name": "ProgressStyleModel",
      "_view_count": null,
      "_view_module": "@jupyter-widgets/base",
      "_view_module_version": "1.2.0",
      "_view_name": "StyleView",
      "bar_color": null,
      "description_width": ""
     }
    },
    "0cc52c374c944df9bf052a663922e794": {
     "model_module": "@jupyter-widgets/controls",
     "model_module_version": "1.5.0",
     "model_name": "ProgressStyleModel",
     "state": {
      "_model_module": "@jupyter-widgets/controls",
      "_model_module_version": "1.5.0",
      "_model_name": "ProgressStyleModel",
      "_view_count": null,
      "_view_module": "@jupyter-widgets/base",
      "_view_module_version": "1.2.0",
      "_view_name": "StyleView",
      "bar_color": null,
      "description_width": ""
     }
    },
    "12d48771393d4d5d825c8475964a63b6": {
     "model_module": "@jupyter-widgets/base",
     "model_module_version": "1.2.0",
     "model_name": "LayoutModel",
     "state": {
      "_model_module": "@jupyter-widgets/base",
      "_model_module_version": "1.2.0",
      "_model_name": "LayoutModel",
      "_view_count": null,
      "_view_module": "@jupyter-widgets/base",
      "_view_module_version": "1.2.0",
      "_view_name": "LayoutView",
      "align_content": null,
      "align_items": null,
      "align_self": null,
      "border": null,
      "bottom": null,
      "display": null,
      "flex": null,
      "flex_flow": null,
      "grid_area": null,
      "grid_auto_columns": null,
      "grid_auto_flow": null,
      "grid_auto_rows": null,
      "grid_column": null,
      "grid_gap": null,
      "grid_row": null,
      "grid_template_areas": null,
      "grid_template_columns": null,
      "grid_template_rows": null,
      "height": null,
      "justify_content": null,
      "justify_items": null,
      "left": null,
      "margin": null,
      "max_height": null,
      "max_width": null,
      "min_height": null,
      "min_width": null,
      "object_fit": null,
      "object_position": null,
      "order": null,
      "overflow": null,
      "overflow_x": null,
      "overflow_y": null,
      "padding": null,
      "right": null,
      "top": null,
      "visibility": null,
      "width": null
     }
    },
    "2050110209e5471cafc61161a2e8cc67": {
     "model_module": "@jupyter-widgets/controls",
     "model_module_version": "1.5.0",
     "model_name": "FloatProgressModel",
     "state": {
      "_dom_classes": [],
      "_model_module": "@jupyter-widgets/controls",
      "_model_module_version": "1.5.0",
      "_model_name": "FloatProgressModel",
      "_view_count": null,
      "_view_module": "@jupyter-widgets/controls",
      "_view_module_version": "1.5.0",
      "_view_name": "ProgressView",
      "bar_style": "success",
      "description": "",
      "description_tooltip": null,
      "layout": "IPY_MODEL_d001fa40e44346c2b51268349b5bedd6",
      "max": 40,
      "min": 0,
      "orientation": "horizontal",
      "style": "IPY_MODEL_916222b87d864af692d173805921ad8f",
      "value": 40
     }
    },
    "240f0e5f71f44eb7841a219469b32782": {
     "model_module": "@jupyter-widgets/controls",
     "model_module_version": "1.5.0",
     "model_name": "DescriptionStyleModel",
     "state": {
      "_model_module": "@jupyter-widgets/controls",
      "_model_module_version": "1.5.0",
      "_model_name": "DescriptionStyleModel",
      "_view_count": null,
      "_view_module": "@jupyter-widgets/base",
      "_view_module_version": "1.2.0",
      "_view_name": "StyleView",
      "description_width": ""
     }
    },
    "39e0de2da72345f9a656721ea9f295a9": {
     "model_module": "@jupyter-widgets/controls",
     "model_module_version": "1.5.0",
     "model_name": "HTMLModel",
     "state": {
      "_dom_classes": [],
      "_model_module": "@jupyter-widgets/controls",
      "_model_module_version": "1.5.0",
      "_model_name": "HTMLModel",
      "_view_count": null,
      "_view_module": "@jupyter-widgets/controls",
      "_view_module_version": "1.5.0",
      "_view_name": "HTMLView",
      "description": "",
      "description_tooltip": null,
      "layout": "IPY_MODEL_12d48771393d4d5d825c8475964a63b6",
      "placeholder": "​",
      "style": "IPY_MODEL_80eb9de92cd24892937070a568214243",
      "value": "Downloading: 100%"
     }
    },
    "3a37be54bf99447d97c52e5d079be247": {
     "model_module": "@jupyter-widgets/controls",
     "model_module_version": "1.5.0",
     "model_name": "HTMLModel",
     "state": {
      "_dom_classes": [],
      "_model_module": "@jupyter-widgets/controls",
      "_model_module_version": "1.5.0",
      "_model_name": "HTMLModel",
      "_view_count": null,
      "_view_module": "@jupyter-widgets/controls",
      "_view_module_version": "1.5.0",
      "_view_name": "HTMLView",
      "description": "",
      "description_tooltip": null,
      "layout": "IPY_MODEL_71e484e566ec4c56bf3013f991c5608e",
      "placeholder": "​",
      "style": "IPY_MODEL_586e02a64f014f00977618e3d82cb77e",
      "value": "100%"
     }
    },
    "3b0d47d654eb4dd38ee98a8cd3c938c3": {
     "model_module": "@jupyter-widgets/controls",
     "model_module_version": "1.5.0",
     "model_name": "DescriptionStyleModel",
     "state": {
      "_model_module": "@jupyter-widgets/controls",
      "_model_module_version": "1.5.0",
      "_model_name": "DescriptionStyleModel",
      "_view_count": null,
      "_view_module": "@jupyter-widgets/base",
      "_view_module_version": "1.2.0",
      "_view_name": "StyleView",
      "description_width": ""
     }
    },
    "3f43d664b96b49c4bba2c169ee77715d": {
     "model_module": "@jupyter-widgets/base",
     "model_module_version": "1.2.0",
     "model_name": "LayoutModel",
     "state": {
      "_model_module": "@jupyter-widgets/base",
      "_model_module_version": "1.2.0",
      "_model_name": "LayoutModel",
      "_view_count": null,
      "_view_module": "@jupyter-widgets/base",
      "_view_module_version": "1.2.0",
      "_view_name": "LayoutView",
      "align_content": null,
      "align_items": null,
      "align_self": null,
      "border": null,
      "bottom": null,
      "display": "inline-flex",
      "flex": null,
      "flex_flow": "row wrap",
      "grid_area": null,
      "grid_auto_columns": null,
      "grid_auto_flow": null,
      "grid_auto_rows": null,
      "grid_column": null,
      "grid_gap": null,
      "grid_row": null,
      "grid_template_areas": null,
      "grid_template_columns": null,
      "grid_template_rows": null,
      "height": null,
      "justify_content": null,
      "justify_items": null,
      "left": null,
      "margin": null,
      "max_height": null,
      "max_width": null,
      "min_height": null,
      "min_width": null,
      "object_fit": null,
      "object_position": null,
      "order": null,
      "overflow": null,
      "overflow_x": null,
      "overflow_y": null,
      "padding": null,
      "right": null,
      "top": null,
      "visibility": null,
      "width": "100%"
     }
    },
    "407e76df201e42cab8e70c84c29bcdb8": {
     "model_module": "@jupyter-widgets/base",
     "model_module_version": "1.2.0",
     "model_name": "LayoutModel",
     "state": {
      "_model_module": "@jupyter-widgets/base",
      "_model_module_version": "1.2.0",
      "_model_name": "LayoutModel",
      "_view_count": null,
      "_view_module": "@jupyter-widgets/base",
      "_view_module_version": "1.2.0",
      "_view_name": "LayoutView",
      "align_content": null,
      "align_items": null,
      "align_self": null,
      "border": null,
      "bottom": null,
      "display": null,
      "flex": null,
      "flex_flow": null,
      "grid_area": null,
      "grid_auto_columns": null,
      "grid_auto_flow": null,
      "grid_auto_rows": null,
      "grid_column": null,
      "grid_gap": null,
      "grid_row": null,
      "grid_template_areas": null,
      "grid_template_columns": null,
      "grid_template_rows": null,
      "height": null,
      "justify_content": null,
      "justify_items": null,
      "left": null,
      "margin": null,
      "max_height": null,
      "max_width": null,
      "min_height": null,
      "min_width": null,
      "object_fit": null,
      "object_position": null,
      "order": null,
      "overflow": null,
      "overflow_x": null,
      "overflow_y": null,
      "padding": null,
      "right": null,
      "top": null,
      "visibility": null,
      "width": null
     }
    },
    "4242ec7e6b784b6ca0c8644fa66d971c": {
     "model_module": "@jupyter-widgets/controls",
     "model_module_version": "1.5.0",
     "model_name": "HTMLModel",
     "state": {
      "_dom_classes": [],
      "_model_module": "@jupyter-widgets/controls",
      "_model_module_version": "1.5.0",
      "_model_name": "HTMLModel",
      "_view_count": null,
      "_view_module": "@jupyter-widgets/controls",
      "_view_module_version": "1.5.0",
      "_view_name": "HTMLView",
      "description": "",
      "description_tooltip": null,
      "layout": "IPY_MODEL_fe2999c7e38e42b3a9e1cc404fc23e54",
      "placeholder": "​",
      "style": "IPY_MODEL_3b0d47d654eb4dd38ee98a8cd3c938c3",
      "value": "Loss: 0.025 — Avg: 0.028 — GPU Mem: 5298 MB: 100%"
     }
    },
    "47ad94938fab4bb0b01984e4e02865ec": {
     "model_module": "@jupyter-widgets/base",
     "model_module_version": "1.2.0",
     "model_name": "LayoutModel",
     "state": {
      "_model_module": "@jupyter-widgets/base",
      "_model_module_version": "1.2.0",
      "_model_name": "LayoutModel",
      "_view_count": null,
      "_view_module": "@jupyter-widgets/base",
      "_view_module_version": "1.2.0",
      "_view_name": "LayoutView",
      "align_content": null,
      "align_items": null,
      "align_self": null,
      "border": null,
      "bottom": null,
      "display": null,
      "flex": null,
      "flex_flow": null,
      "grid_area": null,
      "grid_auto_columns": null,
      "grid_auto_flow": null,
      "grid_auto_rows": null,
      "grid_column": null,
      "grid_gap": null,
      "grid_row": null,
      "grid_template_areas": null,
      "grid_template_columns": null,
      "grid_template_rows": null,
      "height": null,
      "justify_content": null,
      "justify_items": null,
      "left": null,
      "margin": null,
      "max_height": null,
      "max_width": null,
      "min_height": null,
      "min_width": null,
      "object_fit": null,
      "object_position": null,
      "order": null,
      "overflow": null,
      "overflow_x": null,
      "overflow_y": null,
      "padding": null,
      "right": null,
      "top": null,
      "visibility": null,
      "width": null
     }
    },
    "48879ac660794af6beae2e42d9aec297": {
     "model_module": "@jupyter-widgets/base",
     "model_module_version": "1.2.0",
     "model_name": "LayoutModel",
     "state": {
      "_model_module": "@jupyter-widgets/base",
      "_model_module_version": "1.2.0",
      "_model_name": "LayoutModel",
      "_view_count": null,
      "_view_module": "@jupyter-widgets/base",
      "_view_module_version": "1.2.0",
      "_view_name": "LayoutView",
      "align_content": null,
      "align_items": null,
      "align_self": null,
      "border": null,
      "bottom": null,
      "display": null,
      "flex": null,
      "flex_flow": null,
      "grid_area": null,
      "grid_auto_columns": null,
      "grid_auto_flow": null,
      "grid_auto_rows": null,
      "grid_column": null,
      "grid_gap": null,
      "grid_row": null,
      "grid_template_areas": null,
      "grid_template_columns": null,
      "grid_template_rows": null,
      "height": null,
      "justify_content": null,
      "justify_items": null,
      "left": null,
      "margin": null,
      "max_height": null,
      "max_width": null,
      "min_height": null,
      "min_width": null,
      "object_fit": null,
      "object_position": null,
      "order": null,
      "overflow": null,
      "overflow_x": null,
      "overflow_y": null,
      "padding": null,
      "right": null,
      "top": null,
      "visibility": null,
      "width": null
     }
    },
    "4b14694ba9f1429a8a8fcbee321307e3": {
     "model_module": "@jupyter-widgets/base",
     "model_module_version": "1.2.0",
     "model_name": "LayoutModel",
     "state": {
      "_model_module": "@jupyter-widgets/base",
      "_model_module_version": "1.2.0",
      "_model_name": "LayoutModel",
      "_view_count": null,
      "_view_module": "@jupyter-widgets/base",
      "_view_module_version": "1.2.0",
      "_view_name": "LayoutView",
      "align_content": null,
      "align_items": null,
      "align_self": null,
      "border": null,
      "bottom": null,
      "display": null,
      "flex": null,
      "flex_flow": null,
      "grid_area": null,
      "grid_auto_columns": null,
      "grid_auto_flow": null,
      "grid_auto_rows": null,
      "grid_column": null,
      "grid_gap": null,
      "grid_row": null,
      "grid_template_areas": null,
      "grid_template_columns": null,
      "grid_template_rows": null,
      "height": null,
      "justify_content": null,
      "justify_items": null,
      "left": null,
      "margin": null,
      "max_height": null,
      "max_width": null,
      "min_height": null,
      "min_width": null,
      "object_fit": null,
      "object_position": null,
      "order": null,
      "overflow": null,
      "overflow_x": null,
      "overflow_y": null,
      "padding": null,
      "right": null,
      "top": null,
      "visibility": null,
      "width": null
     }
    },
    "586e02a64f014f00977618e3d82cb77e": {
     "model_module": "@jupyter-widgets/controls",
     "model_module_version": "1.5.0",
     "model_name": "DescriptionStyleModel",
     "state": {
      "_model_module": "@jupyter-widgets/controls",
      "_model_module_version": "1.5.0",
      "_model_name": "DescriptionStyleModel",
      "_view_count": null,
      "_view_module": "@jupyter-widgets/base",
      "_view_module_version": "1.2.0",
      "_view_name": "StyleView",
      "description_width": ""
     }
    },
    "5fdcedaa9cf7438e9833d7cec969c896": {
     "model_module": "@jupyter-widgets/controls",
     "model_module_version": "1.5.0",
     "model_name": "HTMLModel",
     "state": {
      "_dom_classes": [],
      "_model_module": "@jupyter-widgets/controls",
      "_model_module_version": "1.5.0",
      "_model_name": "HTMLModel",
      "_view_count": null,
      "_view_module": "@jupyter-widgets/controls",
      "_view_module_version": "1.5.0",
      "_view_name": "HTMLView",
      "description": "",
      "description_tooltip": null,
      "layout": "IPY_MODEL_fda6e46e9a7044adad2a20f93d56ac36",
      "placeholder": "​",
      "style": "IPY_MODEL_240f0e5f71f44eb7841a219469b32782",
      "value": " 40/40 [00:00&lt;00:00, 400.54it/s]"
     }
    },
    "63f09d3a24af4e5eb3cc459cbda05ef2": {
     "model_module": "@jupyter-widgets/controls",
     "model_module_version": "1.5.0",
     "model_name": "HTMLModel",
     "state": {
      "_dom_classes": [],
      "_model_module": "@jupyter-widgets/controls",
      "_model_module_version": "1.5.0",
      "_model_name": "HTMLModel",
      "_view_count": null,
      "_view_module": "@jupyter-widgets/controls",
      "_view_module_version": "1.5.0",
      "_view_name": "HTMLView",
      "description": "",
      "description_tooltip": null,
      "layout": "IPY_MODEL_eed8846ea744419c848715a79aad6353",
      "placeholder": "​",
      "style": "IPY_MODEL_dd5dce8fed8649d4bce4daa558d2010b",
      "value": "Downloading: 100%"
     }
    },
    "698577a8a0d243459af107524a4ab1f7": {
     "model_module": "@jupyter-widgets/controls",
     "model_module_version": "1.5.0",
     "model_name": "FloatProgressModel",
     "state": {
      "_dom_classes": [],
      "_model_module": "@jupyter-widgets/controls",
      "_model_module_version": "1.5.0",
      "_model_name": "FloatProgressModel",
      "_view_count": null,
      "_view_module": "@jupyter-widgets/controls",
      "_view_module_version": "1.5.0",
      "_view_name": "ProgressView",
      "bar_style": "danger",
      "description": "",
      "description_tooltip": null,
      "layout": "IPY_MODEL_f59290694b344326936f45d05a16b36b",
      "max": 5510,
      "min": 0,
      "orientation": "horizontal",
      "style": "IPY_MODEL_0218515502c847848dba3fd4ba342caa",
      "value": 5500
     }
    },
    "713aa03fe4054761901f99db9f4197b2": {
     "model_module": "@jupyter-widgets/controls",
     "model_module_version": "1.5.0",
     "model_name": "HBoxModel",
     "state": {
      "_dom_classes": [],
      "_model_module": "@jupyter-widgets/controls",
      "_model_module_version": "1.5.0",
      "_model_name": "HBoxModel",
      "_view_count": null,
      "_view_module": "@jupyter-widgets/controls",
      "_view_module_version": "1.5.0",
      "_view_name": "HBoxView",
      "box_style": "",
      "children": [
       "IPY_MODEL_39e0de2da72345f9a656721ea9f295a9",
       "IPY_MODEL_f7f10abb99e94420b1dfca0274f16cec",
       "IPY_MODEL_81d2423baad4458cbb35f4fd603b846d"
      ],
      "layout": "IPY_MODEL_407e76df201e42cab8e70c84c29bcdb8"
     }
    },
    "71e484e566ec4c56bf3013f991c5608e": {
     "model_module": "@jupyter-widgets/base",
     "model_module_version": "1.2.0",
     "model_name": "LayoutModel",
     "state": {
      "_model_module": "@jupyter-widgets/base",
      "_model_module_version": "1.2.0",
      "_model_name": "LayoutModel",
      "_view_count": null,
      "_view_module": "@jupyter-widgets/base",
      "_view_module_version": "1.2.0",
      "_view_name": "LayoutView",
      "align_content": null,
      "align_items": null,
      "align_self": null,
      "border": null,
      "bottom": null,
      "display": null,
      "flex": null,
      "flex_flow": null,
      "grid_area": null,
      "grid_auto_columns": null,
      "grid_auto_flow": null,
      "grid_auto_rows": null,
      "grid_column": null,
      "grid_gap": null,
      "grid_row": null,
      "grid_template_areas": null,
      "grid_template_columns": null,
      "grid_template_rows": null,
      "height": null,
      "justify_content": null,
      "justify_items": null,
      "left": null,
      "margin": null,
      "max_height": null,
      "max_width": null,
      "min_height": null,
      "min_width": null,
      "object_fit": null,
      "object_position": null,
      "order": null,
      "overflow": null,
      "overflow_x": null,
      "overflow_y": null,
      "padding": null,
      "right": null,
      "top": null,
      "visibility": null,
      "width": null
     }
    },
    "7315f4661ec64c02865ff7a86f7d501d": {
     "model_module": "@jupyter-widgets/base",
     "model_module_version": "1.2.0",
     "model_name": "LayoutModel",
     "state": {
      "_model_module": "@jupyter-widgets/base",
      "_model_module_version": "1.2.0",
      "_model_name": "LayoutModel",
      "_view_count": null,
      "_view_module": "@jupyter-widgets/base",
      "_view_module_version": "1.2.0",
      "_view_name": "LayoutView",
      "align_content": null,
      "align_items": null,
      "align_self": null,
      "border": null,
      "bottom": null,
      "display": "inline-flex",
      "flex": null,
      "flex_flow": "row wrap",
      "grid_area": null,
      "grid_auto_columns": null,
      "grid_auto_flow": null,
      "grid_auto_rows": null,
      "grid_column": null,
      "grid_gap": null,
      "grid_row": null,
      "grid_template_areas": null,
      "grid_template_columns": null,
      "grid_template_rows": null,
      "height": null,
      "justify_content": null,
      "justify_items": null,
      "left": null,
      "margin": null,
      "max_height": null,
      "max_width": null,
      "min_height": null,
      "min_width": null,
      "object_fit": null,
      "object_position": null,
      "order": null,
      "overflow": null,
      "overflow_x": null,
      "overflow_y": null,
      "padding": null,
      "right": null,
      "top": null,
      "visibility": null,
      "width": "100%"
     }
    },
    "7de0b85c1d7d433f9f9c05fefca32379": {
     "model_module": "@jupyter-widgets/controls",
     "model_module_version": "1.5.0",
     "model_name": "HTMLModel",
     "state": {
      "_dom_classes": [],
      "_model_module": "@jupyter-widgets/controls",
      "_model_module_version": "1.5.0",
      "_model_name": "HTMLModel",
      "_view_count": null,
      "_view_module": "@jupyter-widgets/controls",
      "_view_module_version": "1.5.0",
      "_view_name": "HTMLView",
      "description": "",
      "description_tooltip": null,
      "layout": "IPY_MODEL_8bb2555495574d1ca2a455922fa998f7",
      "placeholder": "​",
      "style": "IPY_MODEL_a12c891a0f6a4818b84ec70df161653d",
      "value": " 523M/523M [00:12&lt;00:00, 49.4MB/s]"
     }
    },
    "80eb9de92cd24892937070a568214243": {
     "model_module": "@jupyter-widgets/controls",
     "model_module_version": "1.5.0",
     "model_name": "DescriptionStyleModel",
     "state": {
      "_model_module": "@jupyter-widgets/controls",
      "_model_module_version": "1.5.0",
      "_model_name": "DescriptionStyleModel",
      "_view_count": null,
      "_view_module": "@jupyter-widgets/base",
      "_view_module_version": "1.2.0",
      "_view_name": "StyleView",
      "description_width": ""
     }
    },
    "81d2423baad4458cbb35f4fd603b846d": {
     "model_module": "@jupyter-widgets/controls",
     "model_module_version": "1.5.0",
     "model_name": "HTMLModel",
     "state": {
      "_dom_classes": [],
      "_model_module": "@jupyter-widgets/controls",
      "_model_module_version": "1.5.0",
      "_model_name": "HTMLModel",
      "_view_count": null,
      "_view_module": "@jupyter-widgets/controls",
      "_view_module_version": "1.5.0",
      "_view_name": "HTMLView",
      "description": "",
      "description_tooltip": null,
      "layout": "IPY_MODEL_48879ac660794af6beae2e42d9aec297",
      "placeholder": "​",
      "style": "IPY_MODEL_a1e6583140c3481bbe024c9a50d38e22",
      "value": " 665/665 [00:00&lt;00:00, 19.4kB/s]"
     }
    },
    "8bb2555495574d1ca2a455922fa998f7": {
     "model_module": "@jupyter-widgets/base",
     "model_module_version": "1.2.0",
     "model_name": "LayoutModel",
     "state": {
      "_model_module": "@jupyter-widgets/base",
      "_model_module_version": "1.2.0",
      "_model_name": "LayoutModel",
      "_view_count": null,
      "_view_module": "@jupyter-widgets/base",
      "_view_module_version": "1.2.0",
      "_view_name": "LayoutView",
      "align_content": null,
      "align_items": null,
      "align_self": null,
      "border": null,
      "bottom": null,
      "display": null,
      "flex": null,
      "flex_flow": null,
      "grid_area": null,
      "grid_auto_columns": null,
      "grid_auto_flow": null,
      "grid_auto_rows": null,
      "grid_column": null,
      "grid_gap": null,
      "grid_row": null,
      "grid_template_areas": null,
      "grid_template_columns": null,
      "grid_template_rows": null,
      "height": null,
      "justify_content": null,
      "justify_items": null,
      "left": null,
      "margin": null,
      "max_height": null,
      "max_width": null,
      "min_height": null,
      "min_width": null,
      "object_fit": null,
      "object_position": null,
      "order": null,
      "overflow": null,
      "overflow_x": null,
      "overflow_y": null,
      "padding": null,
      "right": null,
      "top": null,
      "visibility": null,
      "width": null
     }
    },
    "916222b87d864af692d173805921ad8f": {
     "model_module": "@jupyter-widgets/controls",
     "model_module_version": "1.5.0",
     "model_name": "ProgressStyleModel",
     "state": {
      "_model_module": "@jupyter-widgets/controls",
      "_model_module_version": "1.5.0",
      "_model_name": "ProgressStyleModel",
      "_view_count": null,
      "_view_module": "@jupyter-widgets/base",
      "_view_module_version": "1.2.0",
      "_view_name": "StyleView",
      "bar_color": null,
      "description_width": ""
     }
    },
    "9495ef1e294a4cc383f3859d100cc175": {
     "model_module": "@jupyter-widgets/controls",
     "model_module_version": "1.5.0",
     "model_name": "FloatProgressModel",
     "state": {
      "_dom_classes": [],
      "_model_module": "@jupyter-widgets/controls",
      "_model_module_version": "1.5.0",
      "_model_name": "FloatProgressModel",
      "_view_count": null,
      "_view_module": "@jupyter-widgets/controls",
      "_view_module_version": "1.5.0",
      "_view_name": "ProgressView",
      "bar_style": "success",
      "description": "",
      "description_tooltip": null,
      "layout": "IPY_MODEL_4b14694ba9f1429a8a8fcbee321307e3",
      "max": 548118077,
      "min": 0,
      "orientation": "horizontal",
      "style": "IPY_MODEL_0cc52c374c944df9bf052a663922e794",
      "value": 548118077
     }
    },
    "9912b834c300417aad470f86df6d6530": {
     "model_module": "@jupyter-widgets/controls",
     "model_module_version": "1.5.0",
     "model_name": "HTMLModel",
     "state": {
      "_dom_classes": [],
      "_model_module": "@jupyter-widgets/controls",
      "_model_module_version": "1.5.0",
      "_model_name": "HTMLModel",
      "_view_count": null,
      "_view_module": "@jupyter-widgets/controls",
      "_view_module_version": "1.5.0",
      "_view_name": "HTMLView",
      "description": "",
      "description_tooltip": null,
      "layout": "IPY_MODEL_f2356837a50f4db6b28e82394c334e4d",
      "placeholder": "​",
      "style": "IPY_MODEL_e80ccee6657f4f8999efa36c84bd1b2c",
      "value": " 5500/5510 [27:20&lt;00:02,  3.35it/s]"
     }
    },
    "a12c891a0f6a4818b84ec70df161653d": {
     "model_module": "@jupyter-widgets/controls",
     "model_module_version": "1.5.0",
     "model_name": "DescriptionStyleModel",
     "state": {
      "_model_module": "@jupyter-widgets/controls",
      "_model_module_version": "1.5.0",
      "_model_name": "DescriptionStyleModel",
      "_view_count": null,
      "_view_module": "@jupyter-widgets/base",
      "_view_module_version": "1.2.0",
      "_view_name": "StyleView",
      "description_width": ""
     }
    },
    "a1e6583140c3481bbe024c9a50d38e22": {
     "model_module": "@jupyter-widgets/controls",
     "model_module_version": "1.5.0",
     "model_name": "DescriptionStyleModel",
     "state": {
      "_model_module": "@jupyter-widgets/controls",
      "_model_module_version": "1.5.0",
      "_model_name": "DescriptionStyleModel",
      "_view_count": null,
      "_view_module": "@jupyter-widgets/base",
      "_view_module_version": "1.2.0",
      "_view_name": "StyleView",
      "description_width": ""
     }
    },
    "a9a456edc8544e22b4bc4965d5fbdb25": {
     "model_module": "@jupyter-widgets/controls",
     "model_module_version": "1.5.0",
     "model_name": "HBoxModel",
     "state": {
      "_dom_classes": [],
      "_model_module": "@jupyter-widgets/controls",
      "_model_module_version": "1.5.0",
      "_model_name": "HBoxModel",
      "_view_count": null,
      "_view_module": "@jupyter-widgets/controls",
      "_view_module_version": "1.5.0",
      "_view_name": "HBoxView",
      "box_style": "",
      "children": [
       "IPY_MODEL_3a37be54bf99447d97c52e5d079be247",
       "IPY_MODEL_2050110209e5471cafc61161a2e8cc67",
       "IPY_MODEL_5fdcedaa9cf7438e9833d7cec969c896"
      ],
      "layout": "IPY_MODEL_3f43d664b96b49c4bba2c169ee77715d"
     }
    },
    "b58d78b119d4445c9e1431be821b6d5b": {
     "model_module": "@jupyter-widgets/controls",
     "model_module_version": "1.5.0",
     "model_name": "HBoxModel",
     "state": {
      "_dom_classes": [],
      "_model_module": "@jupyter-widgets/controls",
      "_model_module_version": "1.5.0",
      "_model_name": "HBoxModel",
      "_view_count": null,
      "_view_module": "@jupyter-widgets/controls",
      "_view_module_version": "1.5.0",
      "_view_name": "HBoxView",
      "box_style": "",
      "children": [
       "IPY_MODEL_4242ec7e6b784b6ca0c8644fa66d971c",
       "IPY_MODEL_698577a8a0d243459af107524a4ab1f7",
       "IPY_MODEL_9912b834c300417aad470f86df6d6530"
      ],
      "layout": "IPY_MODEL_7315f4661ec64c02865ff7a86f7d501d"
     }
    },
    "ca3b70988c37480ab548523e5e59dc42": {
     "model_module": "@jupyter-widgets/controls",
     "model_module_version": "1.5.0",
     "model_name": "HBoxModel",
     "state": {
      "_dom_classes": [],
      "_model_module": "@jupyter-widgets/controls",
      "_model_module_version": "1.5.0",
      "_model_name": "HBoxModel",
      "_view_count": null,
      "_view_module": "@jupyter-widgets/controls",
      "_view_module_version": "1.5.0",
      "_view_name": "HBoxView",
      "box_style": "",
      "children": [
       "IPY_MODEL_63f09d3a24af4e5eb3cc459cbda05ef2",
       "IPY_MODEL_9495ef1e294a4cc383f3859d100cc175",
       "IPY_MODEL_7de0b85c1d7d433f9f9c05fefca32379"
      ],
      "layout": "IPY_MODEL_f2fb6e94da1440519562fac734a5de7a"
     }
    },
    "d001fa40e44346c2b51268349b5bedd6": {
     "model_module": "@jupyter-widgets/base",
     "model_module_version": "1.2.0",
     "model_name": "LayoutModel",
     "state": {
      "_model_module": "@jupyter-widgets/base",
      "_model_module_version": "1.2.0",
      "_model_name": "LayoutModel",
      "_view_count": null,
      "_view_module": "@jupyter-widgets/base",
      "_view_module_version": "1.2.0",
      "_view_name": "LayoutView",
      "align_content": null,
      "align_items": null,
      "align_self": null,
      "border": null,
      "bottom": null,
      "display": null,
      "flex": "2",
      "flex_flow": null,
      "grid_area": null,
      "grid_auto_columns": null,
      "grid_auto_flow": null,
      "grid_auto_rows": null,
      "grid_column": null,
      "grid_gap": null,
      "grid_row": null,
      "grid_template_areas": null,
      "grid_template_columns": null,
      "grid_template_rows": null,
      "height": null,
      "justify_content": null,
      "justify_items": null,
      "left": null,
      "margin": null,
      "max_height": null,
      "max_width": null,
      "min_height": null,
      "min_width": null,
      "object_fit": null,
      "object_position": null,
      "order": null,
      "overflow": null,
      "overflow_x": null,
      "overflow_y": null,
      "padding": null,
      "right": null,
      "top": null,
      "visibility": null,
      "width": null
     }
    },
    "dd5dce8fed8649d4bce4daa558d2010b": {
     "model_module": "@jupyter-widgets/controls",
     "model_module_version": "1.5.0",
     "model_name": "DescriptionStyleModel",
     "state": {
      "_model_module": "@jupyter-widgets/controls",
      "_model_module_version": "1.5.0",
      "_model_name": "DescriptionStyleModel",
      "_view_count": null,
      "_view_module": "@jupyter-widgets/base",
      "_view_module_version": "1.2.0",
      "_view_name": "StyleView",
      "description_width": ""
     }
    },
    "e80ccee6657f4f8999efa36c84bd1b2c": {
     "model_module": "@jupyter-widgets/controls",
     "model_module_version": "1.5.0",
     "model_name": "DescriptionStyleModel",
     "state": {
      "_model_module": "@jupyter-widgets/controls",
      "_model_module_version": "1.5.0",
      "_model_name": "DescriptionStyleModel",
      "_view_count": null,
      "_view_module": "@jupyter-widgets/base",
      "_view_module_version": "1.2.0",
      "_view_name": "StyleView",
      "description_width": ""
     }
    },
    "eed8846ea744419c848715a79aad6353": {
     "model_module": "@jupyter-widgets/base",
     "model_module_version": "1.2.0",
     "model_name": "LayoutModel",
     "state": {
      "_model_module": "@jupyter-widgets/base",
      "_model_module_version": "1.2.0",
      "_model_name": "LayoutModel",
      "_view_count": null,
      "_view_module": "@jupyter-widgets/base",
      "_view_module_version": "1.2.0",
      "_view_name": "LayoutView",
      "align_content": null,
      "align_items": null,
      "align_self": null,
      "border": null,
      "bottom": null,
      "display": null,
      "flex": null,
      "flex_flow": null,
      "grid_area": null,
      "grid_auto_columns": null,
      "grid_auto_flow": null,
      "grid_auto_rows": null,
      "grid_column": null,
      "grid_gap": null,
      "grid_row": null,
      "grid_template_areas": null,
      "grid_template_columns": null,
      "grid_template_rows": null,
      "height": null,
      "justify_content": null,
      "justify_items": null,
      "left": null,
      "margin": null,
      "max_height": null,
      "max_width": null,
      "min_height": null,
      "min_width": null,
      "object_fit": null,
      "object_position": null,
      "order": null,
      "overflow": null,
      "overflow_x": null,
      "overflow_y": null,
      "padding": null,
      "right": null,
      "top": null,
      "visibility": null,
      "width": null
     }
    },
    "f2356837a50f4db6b28e82394c334e4d": {
     "model_module": "@jupyter-widgets/base",
     "model_module_version": "1.2.0",
     "model_name": "LayoutModel",
     "state": {
      "_model_module": "@jupyter-widgets/base",
      "_model_module_version": "1.2.0",
      "_model_name": "LayoutModel",
      "_view_count": null,
      "_view_module": "@jupyter-widgets/base",
      "_view_module_version": "1.2.0",
      "_view_name": "LayoutView",
      "align_content": null,
      "align_items": null,
      "align_self": null,
      "border": null,
      "bottom": null,
      "display": null,
      "flex": null,
      "flex_flow": null,
      "grid_area": null,
      "grid_auto_columns": null,
      "grid_auto_flow": null,
      "grid_auto_rows": null,
      "grid_column": null,
      "grid_gap": null,
      "grid_row": null,
      "grid_template_areas": null,
      "grid_template_columns": null,
      "grid_template_rows": null,
      "height": null,
      "justify_content": null,
      "justify_items": null,
      "left": null,
      "margin": null,
      "max_height": null,
      "max_width": null,
      "min_height": null,
      "min_width": null,
      "object_fit": null,
      "object_position": null,
      "order": null,
      "overflow": null,
      "overflow_x": null,
      "overflow_y": null,
      "padding": null,
      "right": null,
      "top": null,
      "visibility": null,
      "width": null
     }
    },
    "f2fb6e94da1440519562fac734a5de7a": {
     "model_module": "@jupyter-widgets/base",
     "model_module_version": "1.2.0",
     "model_name": "LayoutModel",
     "state": {
      "_model_module": "@jupyter-widgets/base",
      "_model_module_version": "1.2.0",
      "_model_name": "LayoutModel",
      "_view_count": null,
      "_view_module": "@jupyter-widgets/base",
      "_view_module_version": "1.2.0",
      "_view_name": "LayoutView",
      "align_content": null,
      "align_items": null,
      "align_self": null,
      "border": null,
      "bottom": null,
      "display": null,
      "flex": null,
      "flex_flow": null,
      "grid_area": null,
      "grid_auto_columns": null,
      "grid_auto_flow": null,
      "grid_auto_rows": null,
      "grid_column": null,
      "grid_gap": null,
      "grid_row": null,
      "grid_template_areas": null,
      "grid_template_columns": null,
      "grid_template_rows": null,
      "height": null,
      "justify_content": null,
      "justify_items": null,
      "left": null,
      "margin": null,
      "max_height": null,
      "max_width": null,
      "min_height": null,
      "min_width": null,
      "object_fit": null,
      "object_position": null,
      "order": null,
      "overflow": null,
      "overflow_x": null,
      "overflow_y": null,
      "padding": null,
      "right": null,
      "top": null,
      "visibility": null,
      "width": null
     }
    },
    "f59290694b344326936f45d05a16b36b": {
     "model_module": "@jupyter-widgets/base",
     "model_module_version": "1.2.0",
     "model_name": "LayoutModel",
     "state": {
      "_model_module": "@jupyter-widgets/base",
      "_model_module_version": "1.2.0",
      "_model_name": "LayoutModel",
      "_view_count": null,
      "_view_module": "@jupyter-widgets/base",
      "_view_module_version": "1.2.0",
      "_view_name": "LayoutView",
      "align_content": null,
      "align_items": null,
      "align_self": null,
      "border": null,
      "bottom": null,
      "display": null,
      "flex": "2",
      "flex_flow": null,
      "grid_area": null,
      "grid_auto_columns": null,
      "grid_auto_flow": null,
      "grid_auto_rows": null,
      "grid_column": null,
      "grid_gap": null,
      "grid_row": null,
      "grid_template_areas": null,
      "grid_template_columns": null,
      "grid_template_rows": null,
      "height": null,
      "justify_content": null,
      "justify_items": null,
      "left": null,
      "margin": null,
      "max_height": null,
      "max_width": null,
      "min_height": null,
      "min_width": null,
      "object_fit": null,
      "object_position": null,
      "order": null,
      "overflow": null,
      "overflow_x": null,
      "overflow_y": null,
      "padding": null,
      "right": null,
      "top": null,
      "visibility": null,
      "width": null
     }
    },
    "f5ccd03e89254868b97ae38ca3eefa82": {
     "model_module": "@jupyter-widgets/controls",
     "model_module_version": "1.5.0",
     "model_name": "ProgressStyleModel",
     "state": {
      "_model_module": "@jupyter-widgets/controls",
      "_model_module_version": "1.5.0",
      "_model_name": "ProgressStyleModel",
      "_view_count": null,
      "_view_module": "@jupyter-widgets/base",
      "_view_module_version": "1.2.0",
      "_view_name": "StyleView",
      "bar_color": null,
      "description_width": ""
     }
    },
    "f7f10abb99e94420b1dfca0274f16cec": {
     "model_module": "@jupyter-widgets/controls",
     "model_module_version": "1.5.0",
     "model_name": "FloatProgressModel",
     "state": {
      "_dom_classes": [],
      "_model_module": "@jupyter-widgets/controls",
      "_model_module_version": "1.5.0",
      "_model_name": "FloatProgressModel",
      "_view_count": null,
      "_view_module": "@jupyter-widgets/controls",
      "_view_module_version": "1.5.0",
      "_view_name": "ProgressView",
      "bar_style": "success",
      "description": "",
      "description_tooltip": null,
      "layout": "IPY_MODEL_47ad94938fab4bb0b01984e4e02865ec",
      "max": 665,
      "min": 0,
      "orientation": "horizontal",
      "style": "IPY_MODEL_f5ccd03e89254868b97ae38ca3eefa82",
      "value": 665
     }
    },
    "fda6e46e9a7044adad2a20f93d56ac36": {
     "model_module": "@jupyter-widgets/base",
     "model_module_version": "1.2.0",
     "model_name": "LayoutModel",
     "state": {
      "_model_module": "@jupyter-widgets/base",
      "_model_module_version": "1.2.0",
      "_model_name": "LayoutModel",
      "_view_count": null,
      "_view_module": "@jupyter-widgets/base",
      "_view_module_version": "1.2.0",
      "_view_name": "LayoutView",
      "align_content": null,
      "align_items": null,
      "align_self": null,
      "border": null,
      "bottom": null,
      "display": null,
      "flex": null,
      "flex_flow": null,
      "grid_area": null,
      "grid_auto_columns": null,
      "grid_auto_flow": null,
      "grid_auto_rows": null,
      "grid_column": null,
      "grid_gap": null,
      "grid_row": null,
      "grid_template_areas": null,
      "grid_template_columns": null,
      "grid_template_rows": null,
      "height": null,
      "justify_content": null,
      "justify_items": null,
      "left": null,
      "margin": null,
      "max_height": null,
      "max_width": null,
      "min_height": null,
      "min_width": null,
      "object_fit": null,
      "object_position": null,
      "order": null,
      "overflow": null,
      "overflow_x": null,
      "overflow_y": null,
      "padding": null,
      "right": null,
      "top": null,
      "visibility": null,
      "width": null
     }
    },
    "fe2999c7e38e42b3a9e1cc404fc23e54": {
     "model_module": "@jupyter-widgets/base",
     "model_module_version": "1.2.0",
     "model_name": "LayoutModel",
     "state": {
      "_model_module": "@jupyter-widgets/base",
      "_model_module_version": "1.2.0",
      "_model_name": "LayoutModel",
      "_view_count": null,
      "_view_module": "@jupyter-widgets/base",
      "_view_module_version": "1.2.0",
      "_view_name": "LayoutView",
      "align_content": null,
      "align_items": null,
      "align_self": null,
      "border": null,
      "bottom": null,
      "display": null,
      "flex": null,
      "flex_flow": null,
      "grid_area": null,
      "grid_auto_columns": null,
      "grid_auto_flow": null,
      "grid_auto_rows": null,
      "grid_column": null,
      "grid_gap": null,
      "grid_row": null,
      "grid_template_areas": null,
      "grid_template_columns": null,
      "grid_template_rows": null,
      "height": null,
      "justify_content": null,
      "justify_items": null,
      "left": null,
      "margin": null,
      "max_height": null,
      "max_width": null,
      "min_height": null,
      "min_width": null,
      "object_fit": null,
      "object_position": null,
      "order": null,
      "overflow": null,
      "overflow_x": null,
      "overflow_y": null,
      "padding": null,
      "right": null,
      "top": null,
      "visibility": null,
      "width": null
     }
    }
   }
  }
 },
 "nbformat": 4,
 "nbformat_minor": 5
}
