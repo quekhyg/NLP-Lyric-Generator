{
 "cells": [
  {
   "cell_type": "code",
   "execution_count": 1,
   "id": "1dc0195e",
   "metadata": {},
   "outputs": [],
   "source": [
    "import time\n",
    "start_time = time.time()"
   ]
  },
  {
   "cell_type": "code",
   "execution_count": 2,
   "id": "587e21d5",
   "metadata": {
    "scrolled": true
   },
   "outputs": [
    {
     "name": "stdout",
     "output_type": "stream",
     "text": [
      "['home', '<new>', 'wherever', 'i', 'may', 'be', '<new>', 'i', 'never', 'will', 'forget', 'her', '<new>', 'nor', 'will']\n",
      "['island', 'home', '<new>', 'wherever', 'i', 'may', 'be', '<new>', 'i', 'never', 'will', 'forget', 'her', '<new>', 'nor']\n",
      "will\n",
      "['what', 'singapore', 'can', 'be', '<new>', 'we', 'can', 'achieve', 'we', 'can', 'achieve', '<new>', '<new>', '<verse>', '<new>']\n",
      "['world', 'what', 'singapore', 'can', 'be', '<new>', 'we', 'can', 'achieve', 'we', 'can', 'achieve', '<new>', '<new>', '<verse>']\n",
      "<new>\n",
      "Model: \"ae_rnn\"\n",
      "__________________________________________________________________________________________________\n",
      " Layer (type)                   Output Shape         Param #     Connected to                     \n",
      "==================================================================================================\n",
      " encoder_input (InputLayer)     [(None, 15, 1042)]   0           []                               \n",
      "                                                                                                  \n",
      " decoder_input (InputLayer)     [(None, 15, 1042)]   0           []                               \n",
      "                                                                                                  \n",
      " encoder_rnn (SimpleRNN)        [(None, 256),        332544      ['encoder_input[0][0]']          \n",
      "                                 (None, 256)]                                                     \n",
      "                                                                                                  \n",
      " decoder_rnn (SimpleRNN)        (None, 256)          332544      ['decoder_input[0][0]',          \n",
      "                                                                  'encoder_rnn[0][1]']            \n",
      "                                                                                                  \n",
      " output (Dense)                 (None, 1042)         267794      ['decoder_rnn[0][0]']            \n",
      "                                                                                                  \n",
      "==================================================================================================\n",
      "Total params: 932,882\n",
      "Trainable params: 932,882\n",
      "Non-trainable params: 0\n",
      "__________________________________________________________________________________________________\n"
     ]
    }
   ],
   "source": [
    "%run autoencoder_rnn.ipynb"
   ]
  },
  {
   "cell_type": "code",
   "execution_count": 4,
   "id": "0354aa6a",
   "metadata": {},
   "outputs": [
    {
     "name": "stdout",
     "output_type": "stream",
     "text": [
      "Time taken: 35.9min\n"
     ]
    }
   ],
   "source": [
    "print(f'Time taken: {(time.time()-start_time)/60:.1f}min')"
   ]
  },
  {
   "cell_type": "code",
   "execution_count": null,
   "id": "1ab81a26",
   "metadata": {},
   "outputs": [
    {
     "name": "stdout",
     "output_type": "stream",
     "text": [
      "['world', 'just', 'where', 'we', 'stand', '<new>', 'and', 'reach', 'out', 'for', 'singapore', 'join', 'our', 'hands', 'forevermore']\n",
      "['the', 'world', 'just', 'where', 'we', 'stand', '<new>', 'and', 'reach', 'out', 'for', 'singapore', 'join', 'our', 'hands']\n",
      "forevermore\n",
      "['our', 'singaporean', 'life', '<new>', 'everyone', 'is', 'family', 'friend', 'and', 'neighbour', '<new>', 'living', 'in', 'harmony', '<new>']\n",
      "['is', 'our', 'singaporean', 'life', '<new>', 'everyone', 'is', 'family', 'friend', 'and', 'neighbour', '<new>', 'living', 'in', 'harmony']\n",
      "<new>\n",
      "Model: \"ae_rnn_att\"\n",
      "__________________________________________________________________________________________________\n",
      " Layer (type)                   Output Shape         Param #     Connected to                     \n",
      "==================================================================================================\n",
      " encoder_input (InputLayer)     [(None, 15, 1042)]   0           []                               \n",
      "                                                                                                  \n",
      " decoder_input (InputLayer)     [(None, 15, 1042)]   0           []                               \n",
      "                                                                                                  \n",
      " encoder_rnn (SimpleRNN)        [(None, 256),        332544      ['encoder_input[0][0]']          \n",
      "                                 (None, 256)]                                                     \n",
      "                                                                                                  \n",
      " decoder_rnn (SimpleRNN)        (None, 256)          332544      ['decoder_input[0][0]',          \n",
      "                                                                  'encoder_rnn[0][1]']            \n",
      "                                                                                                  \n",
      " attention (Attention)          (None, 256)          0           ['decoder_rnn[0][0]',            \n",
      "                                                                  'encoder_rnn[0][0]']            \n",
      "                                                                                                  \n",
      " tf.concat (TFOpLambda)         (None, 512)          0           ['decoder_rnn[0][0]',            \n",
      "                                                                  'attention[0][0]']              \n",
      "                                                                                                  \n",
      " output (Dense)                 (None, 1042)         534546      ['tf.concat[0][0]']              \n",
      "                                                                                                  \n",
      "==================================================================================================\n",
      "Total params: 1,199,634\n",
      "Trainable params: 1,199,634\n",
      "Non-trainable params: 0\n",
      "__________________________________________________________________________________________________\n"
     ]
    }
   ],
   "source": [
    "%run autoencoder_rnn_with_attention.ipynb"
   ]
  },
  {
   "cell_type": "code",
   "execution_count": null,
   "id": "ac3553f9",
   "metadata": {},
   "outputs": [],
   "source": [
    "print(f'Time taken: {(time.time()-start_time)/60:.1f}min')"
   ]
  },
  {
   "cell_type": "code",
   "execution_count": null,
   "id": "42e1a944",
   "metadata": {},
   "outputs": [],
   "source": [
    "%run autoencoder_gru.ipynb"
   ]
  },
  {
   "cell_type": "code",
   "execution_count": null,
   "id": "3c4c5607",
   "metadata": {},
   "outputs": [],
   "source": [
    "print(f'Time taken: {(time.time()-start_time)/60:.1f}min')"
   ]
  },
  {
   "cell_type": "code",
   "execution_count": null,
   "id": "5e2ff22b",
   "metadata": {},
   "outputs": [],
   "source": [
    "%run autoencoder_gru_with_attention.ipynb"
   ]
  },
  {
   "cell_type": "code",
   "execution_count": null,
   "id": "e99403a6",
   "metadata": {},
   "outputs": [],
   "source": [
    "print(f'Time taken: {(time.time()-start_time)/60:.1f}min')"
   ]
  },
  {
   "cell_type": "code",
   "execution_count": null,
   "id": "1b2dd87b",
   "metadata": {},
   "outputs": [],
   "source": [
    "%run autoencoder_lstm.ipynb"
   ]
  },
  {
   "cell_type": "code",
   "execution_count": null,
   "id": "a1b0f5d3",
   "metadata": {},
   "outputs": [],
   "source": [
    "print(f'Time taken: {(time.time()-start_time)/60:.1f}min')"
   ]
  },
  {
   "cell_type": "code",
   "execution_count": null,
   "id": "13385ef1",
   "metadata": {},
   "outputs": [],
   "source": [
    "%run autoencoder_lstm_with_attention.ipynb"
   ]
  },
  {
   "cell_type": "code",
   "execution_count": null,
   "id": "284f92b7",
   "metadata": {},
   "outputs": [],
   "source": [
    "print(f'Time taken: {(time.time()-start_time)/60:.1f}min')"
   ]
  },
  {
   "cell_type": "code",
   "execution_count": null,
   "id": "0a5190fe",
   "metadata": {},
   "outputs": [],
   "source": [
    "# for lstm v3 (with masking)"
   ]
  },
  {
   "cell_type": "code",
   "execution_count": null,
   "id": "067a5cee",
   "metadata": {
    "scrolled": true
   },
   "outputs": [],
   "source": [
    "%run autoencoder_lstm_with_attention_and_masking.ipynb"
   ]
  },
  {
   "cell_type": "code",
   "execution_count": null,
   "id": "b113ad43",
   "metadata": {},
   "outputs": [],
   "source": [
    "print(f'Time taken: {(time.time()-start_time)/60:.1f}min')"
   ]
  },
  {
   "cell_type": "code",
   "execution_count": null,
   "id": "bcd86274",
   "metadata": {},
   "outputs": [],
   "source": [
    "%run seq2seq_lstm_with_attention.ipynb"
   ]
  },
  {
   "cell_type": "code",
   "execution_count": null,
   "id": "508942fa",
   "metadata": {},
   "outputs": [],
   "source": [
    "print(f'Time taken: {(time.time()-start_time)/60:.1f}min')"
   ]
  },
  {
   "cell_type": "code",
   "execution_count": null,
   "id": "65808d10",
   "metadata": {},
   "outputs": [],
   "source": []
  }
 ],
 "metadata": {
  "kernelspec": {
   "display_name": "Python 3",
   "language": "python",
   "name": "python3"
  },
  "language_info": {
   "codemirror_mode": {
    "name": "ipython",
    "version": 3
   },
   "file_extension": ".py",
   "mimetype": "text/x-python",
   "name": "python",
   "nbconvert_exporter": "python",
   "pygments_lexer": "ipython3",
   "version": "3.8.8"
  }
 },
 "nbformat": 4,
 "nbformat_minor": 5
}
