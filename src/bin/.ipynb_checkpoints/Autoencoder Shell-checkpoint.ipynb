{
 "cells": [
  {
   "cell_type": "code",
   "execution_count": null,
   "id": "587e21d5",
   "metadata": {},
   "outputs": [],
   "source": [
    "%run autoencoder_rnn.ipynb"
   ]
  },
  {
   "cell_type": "code",
   "execution_count": null,
   "id": "964ebb0d",
   "metadata": {},
   "outputs": [],
   "source": [
    "%run autoencoder_rnn_with_attention.ipynb"
   ]
  },
  {
   "cell_type": "code",
   "execution_count": null,
   "id": "48557540",
   "metadata": {},
   "outputs": [],
   "source": [
    "%run autoencoder_gru.ipynb"
   ]
  },
  {
   "cell_type": "code",
   "execution_count": null,
   "id": "1a1640ed",
   "metadata": {},
   "outputs": [],
   "source": [
    "%run autoencoder_gru_with_attention.ipynb"
   ]
  },
  {
   "cell_type": "code",
   "execution_count": null,
   "id": "40ada03e",
   "metadata": {},
   "outputs": [],
   "source": [
    "%run autoencoder_lstm.ipynb"
   ]
  },
  {
   "cell_type": "code",
   "execution_count": null,
   "id": "cfc053a2",
   "metadata": {},
   "outputs": [],
   "source": [
    "%run autoencoder_lstm_with_attention.ipynb"
   ]
  },
  {
   "cell_type": "code",
   "execution_count": null,
   "id": "25401ba9",
   "metadata": {},
   "outputs": [],
   "source": [
    "# for lstm v3 (with masking)"
   ]
  },
  {
   "cell_type": "code",
   "execution_count": null,
   "id": "067a5cee",
   "metadata": {},
   "outputs": [],
   "source": [
    "%run autoencoder_lstm_with_attention_and_masking.ipynb"
   ]
  }
 ],
 "metadata": {
  "kernelspec": {
   "display_name": "Python 3",
   "language": "python",
   "name": "python3"
  },
  "language_info": {
   "codemirror_mode": {
    "name": "ipython",
    "version": 3
   },
   "file_extension": ".py",
   "mimetype": "text/x-python",
   "name": "python",
   "nbconvert_exporter": "python",
   "pygments_lexer": "ipython3",
   "version": "3.8.8"
  }
 },
 "nbformat": 4,
 "nbformat_minor": 5
}
