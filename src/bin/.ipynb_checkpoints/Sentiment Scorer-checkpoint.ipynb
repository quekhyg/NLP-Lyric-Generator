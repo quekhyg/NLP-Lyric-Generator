{
 "cells": [
  {
   "cell_type": "code",
   "execution_count": 1,
   "id": "7f4ee525",
   "metadata": {},
   "outputs": [],
   "source": [
    "# from google.colab import drive\n",
    "# drive.mount('/content/drive')\n",
    "# %cd /content/drive/MyDrive/SMU_MITB_NLP/Group Project/NLP-Lyric-Generator/src/bin"
   ]
  },
  {
   "cell_type": "code",
   "execution_count": 2,
   "id": "be140510",
   "metadata": {},
   "outputs": [
    {
     "name": "stderr",
     "output_type": "stream",
     "text": [
      "C:\\Users\\quekh\\anaconda3\\lib\\site-packages\\gensim\\similarities\\__init__.py:15: UserWarning: The gensim.similarities.levenshtein submodule is disabled, because the optional Levenshtein package <https://pypi.org/project/python-Levenshtein/> is unavailable. Install Levenhstein (e.g. `pip install python-Levenshtein`) to suppress this warning.\n",
      "  warnings.warn(msg)\n"
     ]
    }
   ],
   "source": [
    "### Standard Imports\n",
    "import sys\n",
    "import os\n",
    "import re\n",
    "\n",
    "from gensim import downloader"
   ]
  },
  {
   "cell_type": "code",
   "execution_count": 3,
   "id": "b26b87f3",
   "metadata": {
    "scrolled": false
   },
   "outputs": [
    {
     "name": "stderr",
     "output_type": "stream",
     "text": [
      "[nltk_data] Downloading package vader_lexicon to\n",
      "[nltk_data]     C:\\Users\\quekh\\AppData\\Roaming\\nltk_data...\n",
      "[nltk_data]   Package vader_lexicon is already up-to-date!\n"
     ]
    }
   ],
   "source": [
    "### Custom Imports\n",
    "sys.path.append('../')\n",
    "import lib.utilities as utils\n",
    "import lib.sentiment as sentiment"
   ]
  },
  {
   "cell_type": "code",
   "execution_count": 4,
   "id": "c8eff14f",
   "metadata": {},
   "outputs": [
    {
     "name": "stdout",
     "output_type": "stream",
     "text": [
      "[==================================================] 100.0% 128.1/128.1MB downloaded\n"
     ]
    }
   ],
   "source": [
    "path = '../../output'\n",
    "user_defined_sentiments = ['unity','affection','aspiration','home','relationship','motivation','nationhood','life','celebratory']\n",
    "glove_vectors = downloader.load('glove-wiki-gigaword-100')"
   ]
  },
  {
   "cell_type": "code",
   "execution_count": 36,
   "id": "d07b4540",
   "metadata": {},
   "outputs": [],
   "source": [
    "all_files = os.listdir(path)\n",
    "all_files = [file for file in all_files if re.search(r'\\.txt$', file)]\n",
    "sentiment_score = {}\n",
    "for file in all_files:\n",
    "    with open(os.path.join(path,file)) as f:\n",
    "        text = f.read()\n",
    "        s = sentiment.Sentiment()\n",
    "        s.clean_text(original_text ='temp', generated_text = text)\n",
    "        s.get_theme_vector(user_defined_sentiments, embedding = glove_vectors)\n",
    "        s.score_word_vector_sentiment()\n",
    "        s.score_vader_sentiment()\n",
    "    sentiment_score[file] = {'word vector sentiment':s.word_vector_sentiment_scores,\n",
    "                             'vader sentiment':s.vader_sentiment_scores}"
   ]
  },
  {
   "cell_type": "code",
   "execution_count": 37,
   "id": "73085c65",
   "metadata": {},
   "outputs": [
    {
     "data": {
      "text/plain": [
       "{'generated_text.txt': {'word vector sentiment': {'original': {'unity': -0.14281622,\n",
       "    'affection': -0.15636672,\n",
       "    'aspiration': -0.15981448,\n",
       "    'home': -0.017805366,\n",
       "    'relationship': -0.046113938,\n",
       "    'motivation': -0.122966595,\n",
       "    'nationhood': -0.17744282,\n",
       "    'life': -0.018926386,\n",
       "    'celebratory': -0.1378647},\n",
       "   'generated': {'unity': 0.6125454,\n",
       "    'affection': 0.39018524,\n",
       "    'aspiration': 0.387236,\n",
       "    'home': 0.939728,\n",
       "    'relationship': 0.64974785,\n",
       "    'motivation': 0.7365732,\n",
       "    'nationhood': 0.05733018,\n",
       "    'life': 0.95290965,\n",
       "    'celebratory': 0.34960997}},\n",
       "  'vader sentiment': {'original': {'neg': 0.0,\n",
       "    'neu': 1.0,\n",
       "    'pos': 0.0,\n",
       "    'compound': 0.0},\n",
       "   'generated': {'neg': 0.058,\n",
       "    'neu': 0.615,\n",
       "    'pos': 0.328,\n",
       "    'compound': 0.9997}}}}"
      ]
     },
     "execution_count": 37,
     "metadata": {},
     "output_type": "execute_result"
    }
   ],
   "source": [
    "sentiment_score"
   ]
  },
  {
   "cell_type": "code",
   "execution_count": null,
   "id": "1b085f34",
   "metadata": {},
   "outputs": [],
   "source": []
  },
  {
   "cell_type": "code",
   "execution_count": null,
   "id": "eef5a1d4",
   "metadata": {},
   "outputs": [],
   "source": []
  }
 ],
 "metadata": {
  "kernelspec": {
   "display_name": "Python 3",
   "language": "python",
   "name": "python3"
  },
  "language_info": {
   "codemirror_mode": {
    "name": "ipython",
    "version": 3
   },
   "file_extension": ".py",
   "mimetype": "text/x-python",
   "name": "python",
   "nbconvert_exporter": "python",
   "pygments_lexer": "ipython3",
   "version": "3.8.8"
  }
 },
 "nbformat": 4,
 "nbformat_minor": 5
}
