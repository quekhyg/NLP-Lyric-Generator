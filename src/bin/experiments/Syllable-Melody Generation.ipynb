{
 "cells": [
  {
   "cell_type": "code",
   "execution_count": 6,
   "id": "d02c9867",
   "metadata": {},
   "outputs": [],
   "source": [
    "### Standard Imports\n",
    "import os\n",
    "import sys\n",
    "import torch\n",
    "import tensorflow as tf\n",
    "import re\n",
    "import numpy as np\n",
    "import pandas as pd\n",
    "import matplotlib.pyplot as plt\n",
    "import csv\n",
    "\n",
    "import pronouncing\n",
    "from nltk.tokenize import SyllableTokenizer\n",
    "from nltk import word_tokenize"
   ]
  },
  {
   "cell_type": "code",
   "execution_count": 7,
   "id": "b48b6941",
   "metadata": {},
   "outputs": [],
   "source": [
    "### Custom Imports\n",
    "sys.path.append('../')\n",
    "import lib.utilities as utils"
   ]
  },
  {
   "cell_type": "code",
   "execution_count": 139,
   "id": "a49bc563",
   "metadata": {},
   "outputs": [],
   "source": [
    "### General Parameters\n",
    "random_seed = 42\n",
    "model_folder = '../../../syllable/v1'\n",
    "model_name = 'syllable-melody'\n",
    "\n",
    "### Text Parameters\n",
    "newline_token = '<new>'\n",
    "end_token = '<eos>'"
   ]
  },
  {
   "cell_type": "code",
   "execution_count": 9,
   "id": "947b14ae",
   "metadata": {},
   "outputs": [],
   "source": [
    "os.makedirs(model_folder, exist_ok=True)"
   ]
  },
  {
   "cell_type": "code",
   "execution_count": 10,
   "id": "3048a4c8",
   "metadata": {},
   "outputs": [],
   "source": [
    "### Load Data\n",
    "corpus = utils.load_corpus()\n",
    "filenames = os.listdir('../../data')"
   ]
  },
  {
   "cell_type": "code",
   "execution_count": 129,
   "id": "ec473b40",
   "metadata": {},
   "outputs": [
    {
     "data": {
      "text/plain": [
       "\"<VERSE>\\nStep by step Together we'll build our dreams\\nHeart to heart Together we'll stay as one nation, undivided \\nBack to back Together we'll brave the heat, the cold, the storms\\nHand in hand Together we'll grow this land that we call home\\n\\n<CHORUS>\\nNothing in this world compares\\nIt's our Singaporean Life\\nEveryone is family, friend and neighbour\\nLiving in harmony\\nNothing in this world compares\\nTo this island where it's home\\nWhere we love and know\\nwe'll never be alone\\nBecause it's Singapore\\n\\n<VERSE>\\nStep by step Together we'll build our dreams\\nHeart to heart Together we'll stay as one nation, undivided\\nBack to back Together we'll brave the heat, the cold, the storms\\nHand in hand Together we'll grow this land that we call home\\n\\n<CHORUS>\\nNothing in this world compares\\nIt's our Singaporean Life\\nEveryone is family, friend and neighbour\\nLiving in harmony\\nNothing in this world compares\\nTo this island where it's home\\nWhere we love and know\\nwe'll never be alone\\n\\n<CHORUS>\\nNothing in this world compares\\nIt's our Singaporean Life\\nEveryone is family, friend and neighbour\\nLiving in harmony\\nNothing in this world compares\\nTo this island where it's home\\nWhere we love and know\\nwe'll never be alone\\nBecause it's Singapore\\nWe are Singapore\\n\\n<EOS>\\n\\n<VERSE>\\nIn the early years Our poor pioneers\\nWorked down by the riverside\\nDrawn from many lands With dreams in their hands\\nThe values they gave us survive\\n\\n<VERSE>\\nAs four streams flow To make one river grow\\nSo we came together as one\\nWe live side by side And share island wide\\nA style Singaporean\\n\\n<CHORUS>\\nThis is our home A home that's grown\\nFrom a little room To a country of our own\\nNow we welcome everyone to see\\nSingapore - a city for the world\\n\\n<VERSE>\\nWe reach out our hands To friends in far off lands\\nAnd bridge dividing streams\\nTogether we can build A world which is filled\\nWith hope of the Singapore dream\\n\\n<CHORUS>\\nThis is our home A home that's grown\\nFrom a little room To a country of our own\\nNow we welcome everyone to see\\nSingapore - a\""
      ]
     },
     "execution_count": 129,
     "metadata": {},
     "output_type": "execute_result"
    }
   ],
   "source": [
    "corpus[:2000]"
   ]
  },
  {
   "cell_type": "code",
   "execution_count": 11,
   "id": "45777d11",
   "metadata": {},
   "outputs": [],
   "source": [
    "# words = utils.preprocess_text(corpus, fun_list = [utils.to_lower, utils.remove_punct], keep = '\\<|\\>')\n",
    "# words = re.sub(r'\\n',f' {newline_token} ', words)\n",
    "# words = re.split(' +', words)\n",
    "# syllables = [[''] if token.startswith('<') else SSP.tokenize(token) for token in words]"
   ]
  },
  {
   "cell_type": "code",
   "execution_count": 173,
   "id": "a7348440",
   "metadata": {},
   "outputs": [],
   "source": [
    "words = utils.preprocess_text(corpus, fun_list = [utils.to_lower], keep = '\\<|\\>')\n",
    "words = re.sub(r'\\n',f' {newline_token} ', words)\n",
    "words = re.split('[ ,.?!]+', words) #Tokenising\n",
    "words = [word for word in words if word not in ' ,.-?!']\n",
    "songs = ' '.join(words)\n",
    "songs = songs.split(f' {newline_token} {newline_token} {end_token} {newline_token} {newline_token} ')\n",
    "songs = [song.split(' ') for song in songs]"
   ]
  },
  {
   "cell_type": "code",
   "execution_count": 179,
   "id": "93b76c86",
   "metadata": {},
   "outputs": [],
   "source": [
    "syllable_dict = {'compares': ['com','pares'],\n",
    "                'everyone': ['ev','ery','one'],\n",
    "                'alone':['a','lone'],\n",
    "                'because':['be','cause'],\n",
    "                'singapore':['sing','a','pore'],\n",
    "                'riverside':['ri','ver','side'],\n",
    "                'survive':['sur','vive'],\n",
    "                'welcome':['wel','come'],\n",
    "                'believe':['be','lieve'],\n",
    "                'achieve':['a','chieve'],\n",
    "                'everybody':['ev','ery','bo','dy'],\n",
    "                'something':['some','thing'],\n",
    "                'escape':['es','cape'],\n",
    "                'unfurled':['un','furled'],\n",
    "                'courage':['cour','age'],\n",
    "                'inside':['in','side'],\n",
    "                'everything':['ev','ery','thing'],\n",
    "                'homeland':['home','land'],\n",
    "                'precious':['pre','cious'],\n",
    "                'embrace':['em','brace'],\n",
    "                'universe':['u','ni','verse'],\n",
    "                'youthful':['youth','ful'],\n",
    "                'above':['a','bove'],\n",
    "                'savour':['sa','vour'],\n",
    "                'amazed':['a','mazed'],\n",
    "                'surely':['sure','ly'],\n",
    "                'heartaches':['heart','aches'],\n",
    "                'uneventfullest':['un','e','vent','ful','lest'],\n",
    "                'self-explanatory':['self','ex','pla','na','to','ry'],\n",
    "                'fallstars':['fall','stars'],\n",
    "                'forevermore':['for','e','ver','more'],\n",
    "                'beginnin\\'':['be','gin','nin'],\n",
    "                'wooh':['wooh'],\n",
    "                'singapura':['sing','a','pu','ra'],\n",
    "                'fervour':['fer','vour'],\n",
    "                'patronised':['pat','ron','ised'],\n",
    "                'queued':['queued'],\n",
    "                'youre':['youre'],\n",
    "                'singaporean':['sing','a','po','rean'],\n",
    "                'pioneers':['pio','neers'],\n",
    "                'knowledge':['know','ledge'],\n",
    "                'before':['be','fore'],\n",
    "                'become':['be','come'],\n",
    "                'beautiful':['beau','ti','ful'],\n",
    "                'everywhere':['ev','ery','where'],\n",
    "                'everyday':['ev','ery','day'],\n",
    "                'somewhere':['some','where'],\n",
    "                'peaceful':['peace','ful'],\n",
    "                'lively':['live','ly'],\n",
    "                'elsewhere':['else','where'],\n",
    "                'beauty':['beau','ty'],\n",
    "                'twinkling':['twink','ling'],\n",
    "                'bravely':['brave','ly'],\n",
    "                'especially':['es','pe','cial','ly'],\n",
    "                'society':['so','ci','e','ty'],\n",
    "                'reality':['re','al','i','ty'],\n",
    "                'evening':['eve','ning'],\n",
    "                'collyer':['col','ly','er'],\n",
    "                'someday':['some','day'],\n",
    "                'yourself':['your','self'],\n",
    "                'grateful':['grate','ful'],\n",
    "                'sometimes':['some','times'],\n",
    "                'headlines':['head','lines'],\n",
    "                'homely':['home','ly'],\n",
    "                'colleagues':['col','leagues'],\n",
    "                'creating':['cre','a','ting'],\n",
    "                'yearning':['year','ning'],\n",
    "                'echoing':['e','cho','ing'],\n",
    "                'singaporeans':['sing','a','po','reans'],\n",
    "                'nation\\'s':['na','tion\\'s'],\n",
    "                'dream\\'s':['dreams'],\n",
    "                'there\\'ll':['there\\'ll'],\n",
    "                'children\\'s':['chil','dren\\'s'],\n",
    "                'city\\'s':['ci','ty\\'s'],\n",
    "                'story\\'s':['sto','ry\\'s'],\n",
    "                'weren\\'t':['weren\\'t]'],\n",
    "                'ahead\\'s':['a','head\\'s'],\n",
    "                'centre\\'s':['cen','tre\\'s'],\n",
    "                'aren\\'t':['aren\\'t'],\n",
    "                'island\\'s':['is','land\\'s'],\n",
    "                'tomorrow\\'s':['to','mor','row\\'s'],\n",
    "                'nothing\\'s':['no','thing\\'s'],\n",
    "                'everyday\\'s':['ev','ery','day\\'s']}"
   ]
  },
  {
   "cell_type": "code",
   "execution_count": 180,
   "id": "92a19a69",
   "metadata": {},
   "outputs": [],
   "source": [
    "all_syllables = []\n",
    "for song in songs:\n",
    "    syllables = []\n",
    "    for token in song:\n",
    "        if token.startswith('<'):\n",
    "            syllables.append(token)\n",
    "        else:\n",
    "            if token in syllable_dict:\n",
    "                syllables += syllable_dict[token]\n",
    "            else:\n",
    "                try:\n",
    "                    n_syl = pronouncing.syllable_count(pronouncing.phones_for_word(token)[0])\n",
    "                except:\n",
    "                    print(token, 'a')\n",
    "                word_syllables = SSP.tokenize(token)\n",
    "                if n_syl == 1 or len(word_syllables) == 1:\n",
    "                    syllables += [token]\n",
    "                elif len(word_syllables) == n_syl:\n",
    "                    syllables += word_syllables\n",
    "                else:\n",
    "                    if len(word_syllables) - n_syl == 1:\n",
    "                        last_syl = word_syllables[-1]\n",
    "                        if re.search('^[a-z]e$',last_syl) or re.search('ed$',last_syl):\n",
    "                            word_syllables = word_syllables[:-2] + [''.join(word_syllables[-2:])]\n",
    "                            syllables += word_syllables\n",
    "                        else:\n",
    "                            print(token, 'b')\n",
    "                    else:\n",
    "                        print(token, 'c')\n",
    "    all_syllables.append(syllables)"
   ]
  },
  {
   "cell_type": "code",
   "execution_count": 182,
   "id": "7b6b83de",
   "metadata": {},
   "outputs": [],
   "source": [
    "song_names = [re.sub('^(.+)\\\\.txt$', '\\\\1', filename) for filename in filenames]\n",
    "\n",
    "for song_name, song in zip(song_names, all_syllables):\n",
    "    with open(f'{model_folder}/{song_name}_syllables.csv', 'w', newline='') as csvfile:\n",
    "        csv_writer = csv.writer(csvfile, delimiter=' ',\n",
    "                                quotechar='', quoting=csv.QUOTE_NONE)\n",
    "        for syllable in song:\n",
    "            csv_writer.writerow(syllable)"
   ]
  },
  {
   "cell_type": "code",
   "execution_count": null,
   "id": "171f17bf",
   "metadata": {},
   "outputs": [],
   "source": []
  }
 ],
 "metadata": {
  "kernelspec": {
   "display_name": "Python 3",
   "language": "python",
   "name": "python3"
  },
  "language_info": {
   "codemirror_mode": {
    "name": "ipython",
    "version": 3
   },
   "file_extension": ".py",
   "mimetype": "text/x-python",
   "name": "python",
   "nbconvert_exporter": "python",
   "pygments_lexer": "ipython3",
   "version": "3.8.8"
  }
 },
 "nbformat": 4,
 "nbformat_minor": 5
}
