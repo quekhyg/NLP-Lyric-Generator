{
 "cells": [
  {
   "cell_type": "code",
   "execution_count": 1,
   "id": "98c515ba",
   "metadata": {},
   "outputs": [],
   "source": [
    "### Standard Imports\n",
    "import numpy as np\n",
    "import re\n",
    "import sys\n",
    "import os\n",
    "from collections import Counter\n",
    "\n",
    "import tensorflow as tf\n",
    "from tensorflow.keras import layers"
   ]
  },
  {
   "cell_type": "code",
   "execution_count": 2,
   "id": "127a2418",
   "metadata": {},
   "outputs": [],
   "source": [
    "### Custom Imports\n",
    "sys.path.append('../')\n",
    "import lib.utilities as utils\n",
    "import lib.autoencoder_utilities as ae_utils\n",
    "import lib.rhyme_utilities as r_utils"
   ]
  },
  {
   "cell_type": "code",
   "execution_count": 3,
   "id": "7958be3e",
   "metadata": {},
   "outputs": [],
   "source": [
    "### Text Parameters\n",
    "start_token = '<cls>'\n",
    "end_token = '<eos>'\n",
    "pad_token = '<pad>'\n",
    "unk_token = '<unk>'\n",
    "newline_token = '<new>'\n",
    "mask_token = '<mask>'\n",
    "\n",
    "### General Parameters\n",
    "random_seed = 42\n",
    "model_folder = '../../../rhymer/v1'\n",
    "model_name = 'ae_lstm_att_mask_rhymer'\n",
    "\n",
    "### Model Parameters\n",
    "window_len = 15\n",
    "batch_size = 64\n",
    "enc_dim, dec_dim = 256, 256\n",
    "learn_rate = 0.001\n",
    "epochs = 10\n",
    "dropout = 0.05\n",
    "recurrent_dropout = 0.05"
   ]
  },
  {
   "cell_type": "code",
   "execution_count": 4,
   "id": "ffb00abf",
   "metadata": {},
   "outputs": [],
   "source": [
    "os.makedirs(model_folder, exist_ok=True)"
   ]
  },
  {
   "cell_type": "code",
   "execution_count": 5,
   "id": "3eebe05d",
   "metadata": {},
   "outputs": [],
   "source": [
    "### Load Data\n",
    "corpus = utils.load_corpus()\n",
    "train_corpus, val_corpus, train_files, val_files = utils.split_corpus()"
   ]
  },
  {
   "cell_type": "code",
   "execution_count": 6,
   "id": "af2f5bd3",
   "metadata": {},
   "outputs": [],
   "source": [
    "### Pre-Processing Text\n",
    "_, word_count, index_to_vocab, vocab_to_index, _, _ = utils.tokenize_corpus(corpus,\n",
    "                                                                            window_length = window_len,\n",
    "                                                                            end_token = end_token,\n",
    "                                                                            start_token = start_token,\n",
    "                                                                            pad_token = pad_token,\n",
    "                                                                            unk_token = unk_token,\n",
    "                                                                            newline_token = newline_token,\n",
    "                                                                            mask_token = mask_token)"
   ]
  },
  {
   "cell_type": "code",
   "execution_count": 7,
   "id": "a334568c",
   "metadata": {},
   "outputs": [],
   "source": [
    "def mask_rhyme_loc(verse, newline_token = '\\n', mask_token = '<mask>',\n",
    "                   rhyme_freq = 2, from_last = True):\n",
    "    verse = verse.strip(newline_token)\n",
    "    lines = verse.split(newline_token)\n",
    "    lines = [re.split(r'\\s+', line.strip()) for line in lines]\n",
    "    n_lines = len(lines)\n",
    "    \n",
    "    if from_last:\n",
    "        line_ind = [x for x in range(n_lines-1, 0, -rhyme_freq)]\n",
    "    else:\n",
    "        line_ind = [x for x in range(0, n_lines-1, rhyme_freq)]\n",
    "\n",
    "    for ind in line_ind:\n",
    "        lines[ind][-1] = mask_token\n",
    "    \n",
    "    lines = [' '.join(line) for line in lines]\n",
    "    \n",
    "    return newline_token.join(lines)"
   ]
  },
  {
   "cell_type": "code",
   "execution_count": 8,
   "id": "80941d6c",
   "metadata": {},
   "outputs": [],
   "source": [
    "test_verse = '<start> <verse> Whenever I am feeling low\\nI look around me and I know\\nThere\\'s a place that will stay within me\\nWherever I may choose to go\\n'"
   ]
  },
  {
   "cell_type": "code",
   "execution_count": 9,
   "id": "36ae6dd8",
   "metadata": {},
   "outputs": [
    {
     "data": {
      "text/plain": [
       "\"<start> <verse> Whenever I am feeling low\\nI look around me and I <mask>\\nThere's a place that will stay within me\\nWherever I may choose to <mask>\""
      ]
     },
     "execution_count": 9,
     "metadata": {},
     "output_type": "execute_result"
    }
   ],
   "source": [
    "r_utils.mask_rhyme_loc(test_verse)"
   ]
  },
  {
   "cell_type": "code",
   "execution_count": 13,
   "id": "8b851514",
   "metadata": {},
   "outputs": [],
   "source": [
    "import pronouncing"
   ]
  },
  {
   "cell_type": "code",
   "execution_count": 14,
   "id": "61838ade",
   "metadata": {
    "collapsed": true
   },
   "outputs": [
    {
     "data": {
      "text/plain": [
       "['aancor',\n",
       " 'accor',\n",
       " 'acetochlor',\n",
       " 'albacore',\n",
       " 'amador',\n",
       " 'amcor',\n",
       " 'amcore',\n",
       " 'americorp',\n",
       " 'americorps',\n",
       " 'amplocore',\n",
       " 'ardmore',\n",
       " 'backdoor',\n",
       " 'baikonur',\n",
       " 'baltimore',\n",
       " 'bancor',\n",
       " 'bangalor',\n",
       " 'bangalore',\n",
       " 'bangor',\n",
       " 'barrymore',\n",
       " 'barrymore',\n",
       " 'beardmore',\n",
       " 'becor',\n",
       " 'bedore',\n",
       " 'bellcore',\n",
       " 'bercor',\n",
       " 'biltmore',\n",
       " 'bogor',\n",
       " 'bookstore',\n",
       " 'bruncor',\n",
       " 'cantore',\n",
       " 'carnivore',\n",
       " 'cencor',\n",
       " 'centaur',\n",
       " 'centocor',\n",
       " 'clarcor',\n",
       " 'claymore',\n",
       " 'commodore',\n",
       " 'damore',\n",
       " 'delcor',\n",
       " 'dinosaur',\n",
       " 'drugstore',\n",
       " 'dumbledore',\n",
       " 'ecuador',\n",
       " 'el-salvador',\n",
       " 'elcor',\n",
       " 'elsinore',\n",
       " 'encor',\n",
       " 'encore',\n",
       " 'equicor',\n",
       " 'evermore',\n",
       " 'eyesore',\n",
       " 'fenimore',\n",
       " 'fennimore',\n",
       " 'fidelcor',\n",
       " 'filmore',\n",
       " 'finamore',\n",
       " 'folklore',\n",
       " 'furthermore',\n",
       " 'gartmore',\n",
       " 'gencor',\n",
       " 'gencorp',\n",
       " 'genencor',\n",
       " 'glenmore',\n",
       " 'goldcor',\n",
       " 'healthcorp',\n",
       " 'herbivore',\n",
       " 'herbivore',\n",
       " 'hors',\n",
       " 'humidor',\n",
       " 'hycor',\n",
       " 'ifor',\n",
       " 'igor',\n",
       " 'indoor',\n",
       " 'isidore',\n",
       " 'jacor',\n",
       " 'kenmore',\n",
       " 'killgore',\n",
       " 'kishore',\n",
       " 'labrador',\n",
       " 'lakeshore',\n",
       " 'laramore',\n",
       " 'legore',\n",
       " 'longshore',\n",
       " 'marcor',\n",
       " 'matador',\n",
       " 'megastore',\n",
       " 'mentor',\n",
       " 'meritor',\n",
       " 'mevacor',\n",
       " 'millipore',\n",
       " 'mordor',\n",
       " 'nellcor',\n",
       " 'nevermore',\n",
       " 'newcor',\n",
       " 'nicor',\n",
       " 'normcore',\n",
       " 'novacor',\n",
       " 'nucor',\n",
       " 'nycor',\n",
       " 'oncor',\n",
       " 'onshore',\n",
       " 'oradour',\n",
       " 'outdoor',\n",
       " 'parador',\n",
       " 'pastore',\n",
       " 'phosphor',\n",
       " 'pricor',\n",
       " 'rossmore',\n",
       " 'salvador',\n",
       " 'salvatore',\n",
       " 'samcor',\n",
       " 'san-salvador',\n",
       " 'seashore',\n",
       " 'singapore',\n",
       " 'sofamor',\n",
       " 'sophomore',\n",
       " 'spatafore',\n",
       " 'stevedore',\n",
       " 'suncor',\n",
       " 'superstore',\n",
       " 'swarthmore',\n",
       " 'sycamore',\n",
       " 'syncor',\n",
       " 'talmor',\n",
       " 'tambocor',\n",
       " 'tenore',\n",
       " 'theodore',\n",
       " 'therefore',\n",
       " 'ticor',\n",
       " 'toystore',\n",
       " 'tracor',\n",
       " 'tracor',\n",
       " 'troubadour',\n",
       " 'trovatore',\n",
       " 'twenty-four',\n",
       " 'unprofor',\n",
       " 'uproar',\n",
       " 'vencor',\n",
       " 'wicor',\n",
       " 'xicor',\n",
       " 'zocor']"
      ]
     },
     "execution_count": 14,
     "metadata": {},
     "output_type": "execute_result"
    }
   ],
   "source": [
    "pronouncing.search(' '.join(['AO2', 'R'])+'$')"
   ]
  },
  {
   "cell_type": "code",
   "execution_count": 15,
   "id": "6c9d2fb2",
   "metadata": {},
   "outputs": [
    {
     "name": "stdout",
     "output_type": "stream",
     "text": [
      "['AO1', 'R']\n",
      "{'explore', 'wore', 'deplore', 'doar', 'hoar', 'rumore', 'rohr', 'decor', 'gabor', 'mazor', 'clore', 'scor', 'bore', 'bohr', 'balthazor', 'or', 'ngor', 'forr', 'faure', 'porr', 'prewar', 'store', 'mor', 'cor', 'vore', 'senor', 'moore', 'swore', 'oar', 'por', 'for', 'offshore', 'baur', 'flor', 'lahore', 'coar', 'anti-war', 'dorr', 'roquemore', 'lore', 'delore', 'outscore', 'melor', 'torre', 'elnore', \"d'or\", 'pore', 'dohr', 'lohr', 'anymore', 'war', 'inshore', 'hoerr', 'roehr', 'villasenor', 'doerr', 'underinsure', 'shor', 'gore', 'dior', 'stoehr', 'thor', 'mohr', 'woehr', 'postwar', 'glor', 'underscore', 'lamaur', 'saur', 'drawer', 'floor', 'chore', 'outpour', 'abhor', 'nor', 'fore', 'glore', 'longcor', 'yore', 'livor', 'ashore', 'tore', 'before', 'kohr', 'corr', 'laure', 'bensenyore', 'igor', 'sotomayor', 'stohr', 'heretofore', 'ore', 'torr', 'livermore', 'sedor', 'schorr', 'four', 'goar', 'guarantor', 'flore', 'lalor', 'montefiore', 'implore', 'morr', 'lenore', 'soar', 'schor', 'corps', 'antiwar', 'adore', 'noncore', 'core', 'rapport', 'ignore', 'tor', 'wherefore', 'paramore', 'ohr', 'cohr', 'gorr', 'sore', 'ador', 'knorr', 'armentor', 'dore', 'boer', 'shorr', 'bator', 'wor', 'borre', 'snore', 'non-core', 'pour', 'shore', 'whore', 'boar', 'roar', 'spaur', 'hoare', 'spore', 'nohr', 'warr', 'loehr', 'devor', 'hardcore', 'loar', 'sor', 'storr', 'labore', 'jambor', 'laur', 'lor', 'lazor', 'montemayor', 'abor', 'gilgore', 'score', 'cavalli-sfor', 'door', 'more', 'orr', 'timor', 'schnorr', 'galore', 'espectador', 'restore', 'your', 'horr'}\n",
      "four\n",
      "for\n",
      "more\n",
      "your\n",
      "before\n",
      "door\n",
      "or\n",
      "nor\n",
      "core\n",
      "soar\n",
      "lore\n",
      "store\n",
      "adore\n",
      "roar\n"
     ]
    }
   ],
   "source": [
    "for i in np.where(r_utils.get_rhyme_ind('shore', vocab_to_index, 2))[0]:\n",
    "    print(index_to_vocab[i])"
   ]
  },
  {
   "cell_type": "code",
   "execution_count": 12,
   "id": "0a5a6bb8",
   "metadata": {},
   "outputs": [
    {
     "name": "stdout",
     "output_type": "stream",
     "text": [
      "['AO2', 'R']\n",
      "{'nevermore', 'bellcore', 'genencor', 'amplocore', 'millipore', 'centaur', 'baltimore', 'biltmore', 'clarcor', 'normcore', 'singapore', 'oncor', 'pastore', 'suncor', 'samcor', 'nellcor', 'trovatore', 'matador', 'sofamor', 'kishore', 'elsinore', 'spatafore', 'el-salvador', 'longshore', 'claymore', 'unprofor', 'twenty-four', 'bangalore', 'healthcorp', 'mordor', 'finamore', 'baikonur', 'outdoor', 'bancor', 'syncor', 'acetochlor', 'backdoor', 'folklore', 'pricor', 'evermore', 'filmore', 'stevedore', 'phosphor', 'humidor', 'bedore', 'americorps', 'herbivore', 'ardmore', 'laramore', 'elcor', 'bercor', 'accor', 'rossmore', 'mentor', 'amcor', 'fidelcor', 'nicor', 'zocor', 'carnivore', 'albacore', 'fennimore', 'legore', 'delcor', 'furthermore', 'tenore', 'uproar', 'gencor', 'drugstore', 'bruncor', 'indoor', 'isidore', 'bangor', 'therefore', 'newcor', 'cantore', 'onshore', 'nucor', 'igor', 'theodore', 'ticor', 'parador', 'americorp', 'sycamore', 'talmor', 'barrymore', 'mevacor', 'bookstore', 'sophomore', 'novacor', 'xicor', 'fenimore', 'swarthmore', 'encore', 'meritor', 'bogor', 'bangalor', 'toystore', 'hors', 'encor', 'becor', 'beardmore', 'gencorp', 'equicor', 'aancor', 'salvatore', 'nycor', 'killgore', 'marcor', 'tambocor', 'dinosaur', 'cencor', 'oradour', 'seashore', 'ecuador', 'amcore', 'tracor', 'ifor', 'hycor', 'glenmore', 'san-salvador', 'vencor', 'kenmore', 'megastore', 'goldcor', 'amador', 'gartmore', 'troubadour', 'commodore', 'lakeshore', 'salvador', 'wicor', 'centocor', 'eyesore', 'damore', 'jacor', 'superstore', 'dumbledore', 'labrador'}\n"
     ]
    }
   ],
   "source": [
    "for i in np.where(r_utils.get_rhyme_ind('singapore', vocab_to_index, 2))[0]:\n",
    "    print(index_to_vocab[i])"
   ]
  },
  {
   "cell_type": "code",
   "execution_count": null,
   "id": "a689d2e6",
   "metadata": {},
   "outputs": [],
   "source": []
  },
  {
   "cell_type": "code",
   "execution_count": 11,
   "id": "5d66fc31",
   "metadata": {},
   "outputs": [],
   "source": [
    "def get_rhyme_ind(word, vocab_to_index_dict):\n",
    "    syllable = SyllableTokenizer().tokenize(word)\n",
    "    indices = [vocab_to_index_dict.get(rhyme) for rhyme in pronouncing.rhymes(syllable[-1])]\n",
    "    indices = set(indices)\n",
    "    indices.remove(None)\n",
    "    vec_oh = np.zeros(len(vocab_to_index_dict))\n",
    "    for ind in indices:\n",
    "        vec_oh[ind] = 1\n",
    "    return vec_oh"
   ]
  }
 ],
 "metadata": {
  "kernelspec": {
   "display_name": "Python 3",
   "language": "python",
   "name": "python3"
  },
  "language_info": {
   "codemirror_mode": {
    "name": "ipython",
    "version": 3
   },
   "file_extension": ".py",
   "mimetype": "text/x-python",
   "name": "python",
   "nbconvert_exporter": "python",
   "pygments_lexer": "ipython3",
   "version": "3.8.8"
  }
 },
 "nbformat": 4,
 "nbformat_minor": 5
}
