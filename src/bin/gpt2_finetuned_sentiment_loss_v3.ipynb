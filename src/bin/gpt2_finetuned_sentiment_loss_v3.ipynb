{
 "cells": [
  {
   "cell_type": "code",
   "execution_count": null,
   "id": "TtKrx6ySfqNK",
   "metadata": {
    "colab": {
     "base_uri": "https://localhost:8080/"
    },
    "executionInfo": {
     "elapsed": 16854,
     "status": "ok",
     "timestamp": 1654931707213,
     "user": {
      "displayName": "LEE CHEE TIAN _",
      "userId": "14919796999335648185"
     },
     "user_tz": -480
    },
    "id": "TtKrx6ySfqNK",
    "outputId": "7d33a810-ad57-40d0-8f39-25394023418c"
   },
   "outputs": [],
   "source": [
    "# from google.colab import drive\n",
    "# drive.mount('/content/drive')\n",
    "# %cd /content/drive/MyDrive/SMU_MITB_NLP/Group Project/NLP-Lyric-Generator/src/bin"
   ]
  },
  {
   "cell_type": "code",
   "execution_count": null,
   "id": "1e190eda",
   "metadata": {
    "executionInfo": {
     "elapsed": 6830,
     "status": "ok",
     "timestamp": 1654931972047,
     "user": {
      "displayName": "LEE CHEE TIAN _",
      "userId": "14919796999335648185"
     },
     "user_tz": -480
    },
    "id": "1e190eda"
   },
   "outputs": [],
   "source": [
    "from aitextgen import aitextgen\n",
    "from aitextgen.TokenDataset import TokenDataset, merge_datasets\n",
    "from pytorch_lightning.loggers import TensorBoardLogger"
   ]
  },
  {
   "cell_type": "code",
   "execution_count": null,
   "id": "d0129903",
   "metadata": {
    "executionInfo": {
     "elapsed": 461,
     "status": "ok",
     "timestamp": 1654931974187,
     "user": {
      "displayName": "LEE CHEE TIAN _",
      "userId": "14919796999335648185"
     },
     "user_tz": -480
    },
    "id": "d0129903"
   },
   "outputs": [],
   "source": [
    "### Standard Imports\n",
    "import os\n",
    "import sys\n",
    "import torch\n",
    "import tensorflow as tf\n",
    "import numpy as np\n",
    "import pandas as pd\n",
    "import matplotlib.pyplot as plt\n",
    "\n",
    "from gensim import downloader"
   ]
  },
  {
   "cell_type": "code",
   "execution_count": null,
   "id": "89255460",
   "metadata": {},
   "outputs": [],
   "source": [
    "### Custom Imports\n",
    "sys.path.append('../')\n",
    "import lib.utilities as utils\n",
    "import lib.sentiment as sentiment"
   ]
  },
  {
   "cell_type": "code",
   "execution_count": null,
   "id": "c0c1e0a9",
   "metadata": {},
   "outputs": [],
   "source": [
    "### Text Parameters\n",
    "start_token = '<cls>'\n",
    "end_token = '<eos>'\n",
    "pad_token = '<pad>'\n",
    "unk_token = '<unk>'\n",
    "newline_token = '<new>'\n",
    "neu_token = '<neu>'\n",
    "pos_token = '<pos>'\n",
    "\n",
    "### General Parameters\n",
    "random_seed = 42\n",
    "model_folder = '../../../gpt2/finetuned/v3'\n",
    "model_name = 'gpt2_ft_sent'\n",
    "\n",
    "### Model Parameters\n",
    "batch_size = 64\n",
    "epochs = 30\n",
    "sentiment_themes = ['unity', 'affection', 'aspiration', 'home', 'relationship', 'motivation', 'nationhood', 'life', 'celebrate']"
   ]
  },
  {
   "cell_type": "code",
   "execution_count": null,
   "id": "e162c608",
   "metadata": {},
   "outputs": [],
   "source": [
    "os.makedirs(model_folder, exist_ok=True)"
   ]
  },
  {
   "cell_type": "code",
   "execution_count": null,
   "id": "71bf57d4",
   "metadata": {},
   "outputs": [],
   "source": [
    "### Embeddings for Sentiment Analysis\n",
    "glove_vectors = downloader.load('glove-wiki-gigaword-100')"
   ]
  },
  {
   "cell_type": "code",
   "execution_count": null,
   "id": "3e73d65a",
   "metadata": {
    "executionInfo": {
     "elapsed": 16005,
     "status": "ok",
     "timestamp": 1654932024606,
     "user": {
      "displayName": "LEE CHEE TIAN _",
      "userId": "14919796999335648185"
     },
     "user_tz": -480
    },
    "id": "3e73d65a"
   },
   "outputs": [],
   "source": [
    "### Load Data\n",
    "corpus = utils.load_corpus()\n",
    "train_corpus, val_corpus, train_files, val_files = utils.split_corpus()\n",
    "songs = utils.split_text(corpus)[:-1]\n",
    "train_songs = utils.split_text(train_corpus)[:-1]\n",
    "val_songs = utils.split_text(val_corpus)[:-1]"
   ]
  },
  {
   "cell_type": "code",
   "execution_count": null,
   "id": "7f090703",
   "metadata": {},
   "outputs": [],
   "source": [
    "### Scoring Songs for Sentiment\n",
    "vader_scores = []\n",
    "sentiment_theme_scores = []\n",
    "for song in songs:\n",
    "    sentiment_scorer = sentiment.Sentiment()\n",
    "    sentiment_scorer.clean_text(original_text = 'placeholder', generated_text = song)\n",
    "    sentiment_scorer.get_theme_vector(sentiment_themes, embedding = glove_vectors, topn=10)\n",
    "    sentiment_scorer.score_vader_sentiment()\n",
    "    sentiment_scorer.score_word_vector_sentiment()\n",
    "    vader_scores.append(sentiment_scorer.vader_sentiment_scores['generated'])\n",
    "    sentiment_theme_scores.append(sentiment_scorer.word_vector_sentiment_scores['generated'])"
   ]
  },
  {
   "cell_type": "code",
   "execution_count": null,
   "id": "abae1a4d",
   "metadata": {},
   "outputs": [],
   "source": [
    "vader_df = pd.DataFrame(vader_scores)\n",
    "vader_df.hist(figsize = (12,8), sharex = True)\n",
    "plt.show()\n",
    "# There is negligible variety of sentiment in the entire corpus"
   ]
  },
  {
   "cell_type": "code",
   "execution_count": null,
   "id": "1e40d299",
   "metadata": {},
   "outputs": [],
   "source": [
    "sentiment_theme_df = pd.DataFrame(sentiment_theme_scores)\n",
    "sentiment_theme_df.hist(figsize = (12,8), sharex = True)\n",
    "plt.show()\n",
    "# There is negligible variety of sentiment in the entire corpus"
   ]
  },
  {
   "cell_type": "code",
   "execution_count": null,
   "id": "8b2cafef",
   "metadata": {},
   "outputs": [],
   "source": [
    "### For illlustrative purposes, we will use the mean positive value as the cutoff between a <neu> and <pos> context label.\n",
    "avg_pos = vader_df['pos'].mean()\n",
    "train_words = []\n",
    "for i, song in enumerate(train_songs):\n",
    "    sentiment_scorer = sentiment.Sentiment()\n",
    "    sentiment_scorer.clean_text(original_text = 'placeholder', generated_text = song)\n",
    "    #sentiment_scorer.get_theme_vector(sentiment_themes, embedding = glove_vectors, topn=10)\n",
    "    sentiment_scorer.score_vader_sentiment()\n",
    "    pos_test = sentiment_scorer.vader_sentiment_scores['generated']['pos'] > avg_pos\n",
    "    #words = utils.tokenize_text(song, newline_token)\n",
    "    if pos_test:\n",
    "        #train_words.append([pos_token] + words)\n",
    "        train_songs[i] = pos_token + song\n",
    "    else:\n",
    "        #train_words.append([neu_token] + words)\n",
    "        train_songs[i] = neu_token + song"
   ]
  },
  {
   "cell_type": "code",
   "execution_count": null,
   "id": "b1558963",
   "metadata": {
    "colab": {
     "base_uri": "https://localhost:8080/",
     "height": 49,
     "referenced_widgets": [
      "79d969be7d1443be94fb3e78dbca6f80",
      "905268ec1aab4355bdd8e585f3dc52a9",
      "2caa2a3337204e22a1c810b6098934b7",
      "4fa574e522fc49729a2a29f444c9437f",
      "64f1015e799245f496411a22793cb907",
      "5ad7f3fc52794677a69a75230cb5af53",
      "7cb95a69eef146d98fbe342523947f4a",
      "3304b9a970ae470ba572c4f58bc45e58",
      "d0b2b2e143534f1d9de726a5d0c1f478",
      "1e943fa6323040efaf5591adedb9c313",
      "f7a9500a15744202be549ec20be7952d"
     ]
    },
    "executionInfo": {
     "elapsed": 358,
     "status": "ok",
     "timestamp": 1654932031246,
     "user": {
      "displayName": "LEE CHEE TIAN _",
      "userId": "14919796999335648185"
     },
     "user_tz": -480
    },
    "id": "b1558963",
    "outputId": "20d55ab8-a224-4dcf-9092-b3b03493114a"
   },
   "outputs": [],
   "source": [
    "traindata = TokenDataset(texts = train_songs,\n",
    "                         line_by_line = True,\n",
    "                         block_size = 1024,\n",
    "                         bos_token = start_token,\n",
    "                         eos_token = end_token,\n",
    "                         unk_token = unk_token,\n",
    "                         pad_token = pad_token)"
   ]
  },
  {
   "cell_type": "code",
   "execution_count": null,
   "id": "91832f0d",
   "metadata": {},
   "outputs": [],
   "source": [
    "### Loading Model\n",
    "hf_model = \"gpt2\"\n",
    "ai = aitextgen(model=hf_model, to_gpu = True, verbose=True)\n",
    "#ai.to_gpu()\n",
    "out_dir = model_folder"
   ]
  },
  {
   "cell_type": "code",
   "execution_count": null,
   "id": "28d4de8a",
   "metadata": {},
   "outputs": [],
   "source": [
    "steps = int(epochs * len(traindata) / batch_size) #5000 steps is about 30 epochs for this dataset\n",
    "print(steps)"
   ]
  },
  {
   "cell_type": "code",
   "execution_count": null,
   "id": "e2900bb2",
   "metadata": {
    "colab": {
     "base_uri": "https://localhost:8080/",
     "height": 1000,
     "referenced_widgets": [
      "8e0aada3e28c47f9bb2f25c15e030f3f",
      "6d26561cf30146e1b041da322a36f558",
      "a2e5491de0ee40aabb36d9b8fe7e9bfd",
      "20f7b07b54b54fa4bf2a1ca02e011228",
      "d2124432a2b34ef4ba34d5a88793d422",
      "f8e50c9499dd43ab9b69ec7623d8a245",
      "d3aab56ccec446248879a06dbf68a908",
      "e3faf7f8d85a4646b33fac58b85a19d3",
      "cb120851a93847ad9b0c75dec31274b4",
      "38209b5bdc5c42d8b221d941317f6e8d",
      "b93e717152964c67b70987822799e06c"
     ]
    },
    "executionInfo": {
     "elapsed": 389004,
     "status": "ok",
     "timestamp": 1654932423907,
     "user": {
      "displayName": "LEE CHEE TIAN _",
      "userId": "14919796999335648185"
     },
     "user_tz": -480
    },
    "id": "e2900bb2",
    "outputId": "f94d4c19-3163-4a73-c47f-9d2a305dc3f1"
   },
   "outputs": [],
   "source": [
    "ai.train(\n",
    "    traindata,\n",
    "    n_gpu = 1,\n",
    "    num_steps = steps,\n",
    "    generate_every = 10000,\n",
    "    output_dir = out_dir,\n",
    "    loggers = [TensorBoardLogger(out_dir)],\n",
    "    freeze_layers = True,\n",
    "    num_layers_freeze = 9,\n",
    "    line_by_line = True,\n",
    "    header = False,\n",
    ")"
   ]
  },
  {
   "cell_type": "code",
   "execution_count": null,
   "id": "e28a135e",
   "metadata": {},
   "outputs": [],
   "source": [
    "prompts = ['Whenever I think back', 'And so this I know',\n",
    "           'I am tired of being what you want me to be', 'Feeling so faithless, lost under the surface',\n",
    "           'Relight our fire, we will find our way', 'We will rise stronger together']\n",
    "pos_result_strings = {}\n",
    "neu_result_strings = {}\n",
    "for prompt in prompts:\n",
    "    output = ai.generate(\n",
    "        prompt = pos_token+'<VERSE>'+prompt,\n",
    "        n = 1,\n",
    "        min_len = 100,\n",
    "        max_len = 500,\n",
    "        temperature = 1,\n",
    "        do_sample = True,\n",
    "        use_cache = True,\n",
    "        early_stopping = False,\n",
    "        num_beams = 1,\n",
    "        top_k = 50,\n",
    "        top_p = 0.75,\n",
    "        repetition_penalty = 1.2,\n",
    "        length_penalty = 1.0,\n",
    "        no_repeat_ngram_size = 0,\n",
    "        num_beam_groups = 1,\n",
    "        diversity_penalty = 0.0,\n",
    "        remove_invalid_values = True,\n",
    "        return_as_list = True,\n",
    "        lstrip = False,\n",
    "        skip_special_tokens = False\n",
    "    )\n",
    "    pos_result_strings[prompt] = output[0]\n",
    "    \n",
    "    output = ai.generate(\n",
    "        prompt = neu_token+'<VERSE>'+prompt,\n",
    "        n = 1,\n",
    "        min_len = 100,\n",
    "        max_len = 500,\n",
    "        temperature = 1,\n",
    "        do_sample = True,\n",
    "        use_cache = True,\n",
    "        early_stopping = False,\n",
    "        num_beams = 1,\n",
    "        top_k = 50,\n",
    "        top_p = 0.75,\n",
    "        repetition_penalty = 1.2,\n",
    "        length_penalty = 1.0,\n",
    "        no_repeat_ngram_size = 0,\n",
    "        num_beam_groups = 1,\n",
    "        diversity_penalty = 0.0,\n",
    "        remove_invalid_values = True,\n",
    "        return_as_list = True,\n",
    "        lstrip = False,\n",
    "        skip_special_tokens = False\n",
    "    )\n",
    "    neu_result_strings[prompt] = output[0]"
   ]
  },
  {
   "cell_type": "code",
   "execution_count": null,
   "id": "e4a9ac14",
   "metadata": {},
   "outputs": [],
   "source": [
    "print(result_strings)"
   ]
  },
  {
   "cell_type": "code",
   "execution_count": null,
   "id": "6fb194fd",
   "metadata": {},
   "outputs": [],
   "source": [
    "for k, v in pos_result_strings.items():\n",
    "    with open(model_folder+f'/human_{model_name}-pos-{utils.remove_punct(k.lower())}.txt', 'w') as f:\n",
    "        f.write(v)\n",
    "for k, v in neu_result_strings.items():\n",
    "    with open(model_folder+f'/human_{model_name}-neu-{utils.remove_punct(k.lower())}.txt', 'w') as f:\n",
    "        f.write(v)"
   ]
  },
  {
   "cell_type": "code",
   "execution_count": null,
   "id": "0cdb02ad",
   "metadata": {},
   "outputs": [],
   "source": [
    "import json\n",
    "with open('../../output/prompt_ref.json', 'r') as f:\n",
    "    eval_prompts = json.load(f)"
   ]
  },
  {
   "cell_type": "code",
   "execution_count": null,
   "id": "17a0ca0d",
   "metadata": {},
   "outputs": [],
   "source": [
    "# result_strings = {}\n",
    "# for prompt, actual in eval_prompts.items():\n",
    "#     output = ai.generate(\n",
    "#         prompt = prompt,\n",
    "#         n = 1,\n",
    "#         min_len = 100,\n",
    "#         max_len = 500,\n",
    "#         temperature = 1,\n",
    "#         do_sample = True,\n",
    "#         use_cache = True,\n",
    "#         early_stopping = False,\n",
    "#         num_beams = 1,\n",
    "#         top_k = 50,\n",
    "#         top_p = 0.75,\n",
    "#         repetition_penalty = 1.2,\n",
    "#         length_penalty = 1.0,\n",
    "#         no_repeat_ngram_size = 0,\n",
    "#         num_beam_groups = 1,\n",
    "#         diversity_penalty = 0.0,\n",
    "#         remove_invalid_values = True,\n",
    "#         return_as_list = True,\n",
    "#         lstrip = False,\n",
    "#         skip_special_tokens = False\n",
    "#     )\n",
    "#     result_strings[prompt] = output"
   ]
  },
  {
   "cell_type": "code",
   "execution_count": null,
   "id": "e8aa008a",
   "metadata": {},
   "outputs": [],
   "source": [
    "# for k, v in result_strings.items():\n",
    "#     with open(model_folder+f'/br_{model_name}-{utils.remove_punct(k.lower())}.txt', 'w') as f:\n",
    "#         f.write(v)"
   ]
  }
 ],
 "metadata": {
  "accelerator": "GPU",
  "colab": {
   "name": "transformer pre-trained with fine-tuning.ipynb",
   "provenance": []
  },
  "kernelspec": {
   "display_name": "Python 3",
   "language": "python",
   "name": "python3"
  },
  "language_info": {
   "codemirror_mode": {
    "name": "ipython",
    "version": 3
   },
   "file_extension": ".py",
   "mimetype": "text/x-python",
   "name": "python",
   "nbconvert_exporter": "python",
   "pygments_lexer": "ipython3",
   "version": "3.8.8"
  },
  "widgets": {
   "application/vnd.jupyter.widget-state+json": {
    "1e943fa6323040efaf5591adedb9c313": {
     "model_module": "@jupyter-widgets/base",
     "model_module_version": "1.2.0",
     "model_name": "LayoutModel",
     "state": {
      "_model_module": "@jupyter-widgets/base",
      "_model_module_version": "1.2.0",
      "_model_name": "LayoutModel",
      "_view_count": null,
      "_view_module": "@jupyter-widgets/base",
      "_view_module_version": "1.2.0",
      "_view_name": "LayoutView",
      "align_content": null,
      "align_items": null,
      "align_self": null,
      "border": null,
      "bottom": null,
      "display": null,
      "flex": null,
      "flex_flow": null,
      "grid_area": null,
      "grid_auto_columns": null,
      "grid_auto_flow": null,
      "grid_auto_rows": null,
      "grid_column": null,
      "grid_gap": null,
      "grid_row": null,
      "grid_template_areas": null,
      "grid_template_columns": null,
      "grid_template_rows": null,
      "height": null,
      "justify_content": null,
      "justify_items": null,
      "left": null,
      "margin": null,
      "max_height": null,
      "max_width": null,
      "min_height": null,
      "min_width": null,
      "object_fit": null,
      "object_position": null,
      "order": null,
      "overflow": null,
      "overflow_x": null,
      "overflow_y": null,
      "padding": null,
      "right": null,
      "top": null,
      "visibility": null,
      "width": null
     }
    },
    "20f7b07b54b54fa4bf2a1ca02e011228": {
     "model_module": "@jupyter-widgets/controls",
     "model_module_version": "1.5.0",
     "model_name": "HTMLModel",
     "state": {
      "_dom_classes": [],
      "_model_module": "@jupyter-widgets/controls",
      "_model_module_version": "1.5.0",
      "_model_name": "HTMLModel",
      "_view_count": null,
      "_view_module": "@jupyter-widgets/controls",
      "_view_module_version": "1.5.0",
      "_view_name": "HTMLView",
      "description": "",
      "description_tooltip": null,
      "layout": "IPY_MODEL_38209b5bdc5c42d8b221d941317f6e8d",
      "placeholder": "​",
      "style": "IPY_MODEL_b93e717152964c67b70987822799e06c",
      "value": " 5000/5000 [06:25&lt;00:00, 12.96it/s]"
     }
    },
    "2caa2a3337204e22a1c810b6098934b7": {
     "model_module": "@jupyter-widgets/controls",
     "model_module_version": "1.5.0",
     "model_name": "FloatProgressModel",
     "state": {
      "_dom_classes": [],
      "_model_module": "@jupyter-widgets/controls",
      "_model_module_version": "1.5.0",
      "_model_name": "FloatProgressModel",
      "_view_count": null,
      "_view_module": "@jupyter-widgets/controls",
      "_view_module_version": "1.5.0",
      "_view_name": "ProgressView",
      "bar_style": "success",
      "description": "",
      "description_tooltip": null,
      "layout": "IPY_MODEL_3304b9a970ae470ba572c4f58bc45e58",
      "max": 2469,
      "min": 0,
      "orientation": "horizontal",
      "style": "IPY_MODEL_d0b2b2e143534f1d9de726a5d0c1f478",
      "value": 2469
     }
    },
    "3304b9a970ae470ba572c4f58bc45e58": {
     "model_module": "@jupyter-widgets/base",
     "model_module_version": "1.2.0",
     "model_name": "LayoutModel",
     "state": {
      "_model_module": "@jupyter-widgets/base",
      "_model_module_version": "1.2.0",
      "_model_name": "LayoutModel",
      "_view_count": null,
      "_view_module": "@jupyter-widgets/base",
      "_view_module_version": "1.2.0",
      "_view_name": "LayoutView",
      "align_content": null,
      "align_items": null,
      "align_self": null,
      "border": null,
      "bottom": null,
      "display": null,
      "flex": "2",
      "flex_flow": null,
      "grid_area": null,
      "grid_auto_columns": null,
      "grid_auto_flow": null,
      "grid_auto_rows": null,
      "grid_column": null,
      "grid_gap": null,
      "grid_row": null,
      "grid_template_areas": null,
      "grid_template_columns": null,
      "grid_template_rows": null,
      "height": null,
      "justify_content": null,
      "justify_items": null,
      "left": null,
      "margin": null,
      "max_height": null,
      "max_width": null,
      "min_height": null,
      "min_width": null,
      "object_fit": null,
      "object_position": null,
      "order": null,
      "overflow": null,
      "overflow_x": null,
      "overflow_y": null,
      "padding": null,
      "right": null,
      "top": null,
      "visibility": null,
      "width": null
     }
    },
    "38209b5bdc5c42d8b221d941317f6e8d": {
     "model_module": "@jupyter-widgets/base",
     "model_module_version": "1.2.0",
     "model_name": "LayoutModel",
     "state": {
      "_model_module": "@jupyter-widgets/base",
      "_model_module_version": "1.2.0",
      "_model_name": "LayoutModel",
      "_view_count": null,
      "_view_module": "@jupyter-widgets/base",
      "_view_module_version": "1.2.0",
      "_view_name": "LayoutView",
      "align_content": null,
      "align_items": null,
      "align_self": null,
      "border": null,
      "bottom": null,
      "display": null,
      "flex": null,
      "flex_flow": null,
      "grid_area": null,
      "grid_auto_columns": null,
      "grid_auto_flow": null,
      "grid_auto_rows": null,
      "grid_column": null,
      "grid_gap": null,
      "grid_row": null,
      "grid_template_areas": null,
      "grid_template_columns": null,
      "grid_template_rows": null,
      "height": null,
      "justify_content": null,
      "justify_items": null,
      "left": null,
      "margin": null,
      "max_height": null,
      "max_width": null,
      "min_height": null,
      "min_width": null,
      "object_fit": null,
      "object_position": null,
      "order": null,
      "overflow": null,
      "overflow_x": null,
      "overflow_y": null,
      "padding": null,
      "right": null,
      "top": null,
      "visibility": null,
      "width": null
     }
    },
    "4fa574e522fc49729a2a29f444c9437f": {
     "model_module": "@jupyter-widgets/controls",
     "model_module_version": "1.5.0",
     "model_name": "HTMLModel",
     "state": {
      "_dom_classes": [],
      "_model_module": "@jupyter-widgets/controls",
      "_model_module_version": "1.5.0",
      "_model_name": "HTMLModel",
      "_view_count": null,
      "_view_module": "@jupyter-widgets/controls",
      "_view_module_version": "1.5.0",
      "_view_name": "HTMLView",
      "description": "",
      "description_tooltip": null,
      "layout": "IPY_MODEL_1e943fa6323040efaf5591adedb9c313",
      "placeholder": "​",
      "style": "IPY_MODEL_f7a9500a15744202be549ec20be7952d",
      "value": " 2469/2469 [00:00&lt;00:00, 24795.37it/s]"
     }
    },
    "5ad7f3fc52794677a69a75230cb5af53": {
     "model_module": "@jupyter-widgets/base",
     "model_module_version": "1.2.0",
     "model_name": "LayoutModel",
     "state": {
      "_model_module": "@jupyter-widgets/base",
      "_model_module_version": "1.2.0",
      "_model_name": "LayoutModel",
      "_view_count": null,
      "_view_module": "@jupyter-widgets/base",
      "_view_module_version": "1.2.0",
      "_view_name": "LayoutView",
      "align_content": null,
      "align_items": null,
      "align_self": null,
      "border": null,
      "bottom": null,
      "display": null,
      "flex": null,
      "flex_flow": null,
      "grid_area": null,
      "grid_auto_columns": null,
      "grid_auto_flow": null,
      "grid_auto_rows": null,
      "grid_column": null,
      "grid_gap": null,
      "grid_row": null,
      "grid_template_areas": null,
      "grid_template_columns": null,
      "grid_template_rows": null,
      "height": null,
      "justify_content": null,
      "justify_items": null,
      "left": null,
      "margin": null,
      "max_height": null,
      "max_width": null,
      "min_height": null,
      "min_width": null,
      "object_fit": null,
      "object_position": null,
      "order": null,
      "overflow": null,
      "overflow_x": null,
      "overflow_y": null,
      "padding": null,
      "right": null,
      "top": null,
      "visibility": null,
      "width": null
     }
    },
    "64f1015e799245f496411a22793cb907": {
     "model_module": "@jupyter-widgets/base",
     "model_module_version": "1.2.0",
     "model_name": "LayoutModel",
     "state": {
      "_model_module": "@jupyter-widgets/base",
      "_model_module_version": "1.2.0",
      "_model_name": "LayoutModel",
      "_view_count": null,
      "_view_module": "@jupyter-widgets/base",
      "_view_module_version": "1.2.0",
      "_view_name": "LayoutView",
      "align_content": null,
      "align_items": null,
      "align_self": null,
      "border": null,
      "bottom": null,
      "display": "inline-flex",
      "flex": null,
      "flex_flow": "row wrap",
      "grid_area": null,
      "grid_auto_columns": null,
      "grid_auto_flow": null,
      "grid_auto_rows": null,
      "grid_column": null,
      "grid_gap": null,
      "grid_row": null,
      "grid_template_areas": null,
      "grid_template_columns": null,
      "grid_template_rows": null,
      "height": null,
      "justify_content": null,
      "justify_items": null,
      "left": null,
      "margin": null,
      "max_height": null,
      "max_width": null,
      "min_height": null,
      "min_width": null,
      "object_fit": null,
      "object_position": null,
      "order": null,
      "overflow": null,
      "overflow_x": null,
      "overflow_y": null,
      "padding": null,
      "right": null,
      "top": null,
      "visibility": null,
      "width": "100%"
     }
    },
    "6d26561cf30146e1b041da322a36f558": {
     "model_module": "@jupyter-widgets/controls",
     "model_module_version": "1.5.0",
     "model_name": "HTMLModel",
     "state": {
      "_dom_classes": [],
      "_model_module": "@jupyter-widgets/controls",
      "_model_module_version": "1.5.0",
      "_model_name": "HTMLModel",
      "_view_count": null,
      "_view_module": "@jupyter-widgets/controls",
      "_view_module_version": "1.5.0",
      "_view_name": "HTMLView",
      "description": "",
      "description_tooltip": null,
      "layout": "IPY_MODEL_f8e50c9499dd43ab9b69ec7623d8a245",
      "placeholder": "​",
      "style": "IPY_MODEL_d3aab56ccec446248879a06dbf68a908",
      "value": "Loss: 0.803 — Avg: 0.826 — GPU Mem: 2400 MB: 100%"
     }
    },
    "79d969be7d1443be94fb3e78dbca6f80": {
     "model_module": "@jupyter-widgets/controls",
     "model_module_version": "1.5.0",
     "model_name": "HBoxModel",
     "state": {
      "_dom_classes": [],
      "_model_module": "@jupyter-widgets/controls",
      "_model_module_version": "1.5.0",
      "_model_name": "HBoxModel",
      "_view_count": null,
      "_view_module": "@jupyter-widgets/controls",
      "_view_module_version": "1.5.0",
      "_view_name": "HBoxView",
      "box_style": "",
      "children": [
       "IPY_MODEL_905268ec1aab4355bdd8e585f3dc52a9",
       "IPY_MODEL_2caa2a3337204e22a1c810b6098934b7",
       "IPY_MODEL_4fa574e522fc49729a2a29f444c9437f"
      ],
      "layout": "IPY_MODEL_64f1015e799245f496411a22793cb907"
     }
    },
    "7cb95a69eef146d98fbe342523947f4a": {
     "model_module": "@jupyter-widgets/controls",
     "model_module_version": "1.5.0",
     "model_name": "DescriptionStyleModel",
     "state": {
      "_model_module": "@jupyter-widgets/controls",
      "_model_module_version": "1.5.0",
      "_model_name": "DescriptionStyleModel",
      "_view_count": null,
      "_view_module": "@jupyter-widgets/base",
      "_view_module_version": "1.2.0",
      "_view_name": "StyleView",
      "description_width": ""
     }
    },
    "8e0aada3e28c47f9bb2f25c15e030f3f": {
     "model_module": "@jupyter-widgets/controls",
     "model_module_version": "1.5.0",
     "model_name": "HBoxModel",
     "state": {
      "_dom_classes": [],
      "_model_module": "@jupyter-widgets/controls",
      "_model_module_version": "1.5.0",
      "_model_name": "HBoxModel",
      "_view_count": null,
      "_view_module": "@jupyter-widgets/controls",
      "_view_module_version": "1.5.0",
      "_view_name": "HBoxView",
      "box_style": "",
      "children": [
       "IPY_MODEL_6d26561cf30146e1b041da322a36f558",
       "IPY_MODEL_a2e5491de0ee40aabb36d9b8fe7e9bfd",
       "IPY_MODEL_20f7b07b54b54fa4bf2a1ca02e011228"
      ],
      "layout": "IPY_MODEL_d2124432a2b34ef4ba34d5a88793d422"
     }
    },
    "905268ec1aab4355bdd8e585f3dc52a9": {
     "model_module": "@jupyter-widgets/controls",
     "model_module_version": "1.5.0",
     "model_name": "HTMLModel",
     "state": {
      "_dom_classes": [],
      "_model_module": "@jupyter-widgets/controls",
      "_model_module_version": "1.5.0",
      "_model_name": "HTMLModel",
      "_view_count": null,
      "_view_module": "@jupyter-widgets/controls",
      "_view_module_version": "1.5.0",
      "_view_name": "HTMLView",
      "description": "",
      "description_tooltip": null,
      "layout": "IPY_MODEL_5ad7f3fc52794677a69a75230cb5af53",
      "placeholder": "​",
      "style": "IPY_MODEL_7cb95a69eef146d98fbe342523947f4a",
      "value": "100%"
     }
    },
    "a2e5491de0ee40aabb36d9b8fe7e9bfd": {
     "model_module": "@jupyter-widgets/controls",
     "model_module_version": "1.5.0",
     "model_name": "FloatProgressModel",
     "state": {
      "_dom_classes": [],
      "_model_module": "@jupyter-widgets/controls",
      "_model_module_version": "1.5.0",
      "_model_name": "FloatProgressModel",
      "_view_count": null,
      "_view_module": "@jupyter-widgets/controls",
      "_view_module_version": "1.5.0",
      "_view_name": "ProgressView",
      "bar_style": "success",
      "description": "",
      "description_tooltip": null,
      "layout": "IPY_MODEL_e3faf7f8d85a4646b33fac58b85a19d3",
      "max": 5000,
      "min": 0,
      "orientation": "horizontal",
      "style": "IPY_MODEL_cb120851a93847ad9b0c75dec31274b4",
      "value": 5000
     }
    },
    "b93e717152964c67b70987822799e06c": {
     "model_module": "@jupyter-widgets/controls",
     "model_module_version": "1.5.0",
     "model_name": "DescriptionStyleModel",
     "state": {
      "_model_module": "@jupyter-widgets/controls",
      "_model_module_version": "1.5.0",
      "_model_name": "DescriptionStyleModel",
      "_view_count": null,
      "_view_module": "@jupyter-widgets/base",
      "_view_module_version": "1.2.0",
      "_view_name": "StyleView",
      "description_width": ""
     }
    },
    "cb120851a93847ad9b0c75dec31274b4": {
     "model_module": "@jupyter-widgets/controls",
     "model_module_version": "1.5.0",
     "model_name": "ProgressStyleModel",
     "state": {
      "_model_module": "@jupyter-widgets/controls",
      "_model_module_version": "1.5.0",
      "_model_name": "ProgressStyleModel",
      "_view_count": null,
      "_view_module": "@jupyter-widgets/base",
      "_view_module_version": "1.2.0",
      "_view_name": "StyleView",
      "bar_color": null,
      "description_width": ""
     }
    },
    "d0b2b2e143534f1d9de726a5d0c1f478": {
     "model_module": "@jupyter-widgets/controls",
     "model_module_version": "1.5.0",
     "model_name": "ProgressStyleModel",
     "state": {
      "_model_module": "@jupyter-widgets/controls",
      "_model_module_version": "1.5.0",
      "_model_name": "ProgressStyleModel",
      "_view_count": null,
      "_view_module": "@jupyter-widgets/base",
      "_view_module_version": "1.2.0",
      "_view_name": "StyleView",
      "bar_color": null,
      "description_width": ""
     }
    },
    "d2124432a2b34ef4ba34d5a88793d422": {
     "model_module": "@jupyter-widgets/base",
     "model_module_version": "1.2.0",
     "model_name": "LayoutModel",
     "state": {
      "_model_module": "@jupyter-widgets/base",
      "_model_module_version": "1.2.0",
      "_model_name": "LayoutModel",
      "_view_count": null,
      "_view_module": "@jupyter-widgets/base",
      "_view_module_version": "1.2.0",
      "_view_name": "LayoutView",
      "align_content": null,
      "align_items": null,
      "align_self": null,
      "border": null,
      "bottom": null,
      "display": "inline-flex",
      "flex": null,
      "flex_flow": "row wrap",
      "grid_area": null,
      "grid_auto_columns": null,
      "grid_auto_flow": null,
      "grid_auto_rows": null,
      "grid_column": null,
      "grid_gap": null,
      "grid_row": null,
      "grid_template_areas": null,
      "grid_template_columns": null,
      "grid_template_rows": null,
      "height": null,
      "justify_content": null,
      "justify_items": null,
      "left": null,
      "margin": null,
      "max_height": null,
      "max_width": null,
      "min_height": null,
      "min_width": null,
      "object_fit": null,
      "object_position": null,
      "order": null,
      "overflow": null,
      "overflow_x": null,
      "overflow_y": null,
      "padding": null,
      "right": null,
      "top": null,
      "visibility": null,
      "width": "100%"
     }
    },
    "d3aab56ccec446248879a06dbf68a908": {
     "model_module": "@jupyter-widgets/controls",
     "model_module_version": "1.5.0",
     "model_name": "DescriptionStyleModel",
     "state": {
      "_model_module": "@jupyter-widgets/controls",
      "_model_module_version": "1.5.0",
      "_model_name": "DescriptionStyleModel",
      "_view_count": null,
      "_view_module": "@jupyter-widgets/base",
      "_view_module_version": "1.2.0",
      "_view_name": "StyleView",
      "description_width": ""
     }
    },
    "e3faf7f8d85a4646b33fac58b85a19d3": {
     "model_module": "@jupyter-widgets/base",
     "model_module_version": "1.2.0",
     "model_name": "LayoutModel",
     "state": {
      "_model_module": "@jupyter-widgets/base",
      "_model_module_version": "1.2.0",
      "_model_name": "LayoutModel",
      "_view_count": null,
      "_view_module": "@jupyter-widgets/base",
      "_view_module_version": "1.2.0",
      "_view_name": "LayoutView",
      "align_content": null,
      "align_items": null,
      "align_self": null,
      "border": null,
      "bottom": null,
      "display": null,
      "flex": "2",
      "flex_flow": null,
      "grid_area": null,
      "grid_auto_columns": null,
      "grid_auto_flow": null,
      "grid_auto_rows": null,
      "grid_column": null,
      "grid_gap": null,
      "grid_row": null,
      "grid_template_areas": null,
      "grid_template_columns": null,
      "grid_template_rows": null,
      "height": null,
      "justify_content": null,
      "justify_items": null,
      "left": null,
      "margin": null,
      "max_height": null,
      "max_width": null,
      "min_height": null,
      "min_width": null,
      "object_fit": null,
      "object_position": null,
      "order": null,
      "overflow": null,
      "overflow_x": null,
      "overflow_y": null,
      "padding": null,
      "right": null,
      "top": null,
      "visibility": null,
      "width": null
     }
    },
    "f7a9500a15744202be549ec20be7952d": {
     "model_module": "@jupyter-widgets/controls",
     "model_module_version": "1.5.0",
     "model_name": "DescriptionStyleModel",
     "state": {
      "_model_module": "@jupyter-widgets/controls",
      "_model_module_version": "1.5.0",
      "_model_name": "DescriptionStyleModel",
      "_view_count": null,
      "_view_module": "@jupyter-widgets/base",
      "_view_module_version": "1.2.0",
      "_view_name": "StyleView",
      "description_width": ""
     }
    },
    "f8e50c9499dd43ab9b69ec7623d8a245": {
     "model_module": "@jupyter-widgets/base",
     "model_module_version": "1.2.0",
     "model_name": "LayoutModel",
     "state": {
      "_model_module": "@jupyter-widgets/base",
      "_model_module_version": "1.2.0",
      "_model_name": "LayoutModel",
      "_view_count": null,
      "_view_module": "@jupyter-widgets/base",
      "_view_module_version": "1.2.0",
      "_view_name": "LayoutView",
      "align_content": null,
      "align_items": null,
      "align_self": null,
      "border": null,
      "bottom": null,
      "display": null,
      "flex": null,
      "flex_flow": null,
      "grid_area": null,
      "grid_auto_columns": null,
      "grid_auto_flow": null,
      "grid_auto_rows": null,
      "grid_column": null,
      "grid_gap": null,
      "grid_row": null,
      "grid_template_areas": null,
      "grid_template_columns": null,
      "grid_template_rows": null,
      "height": null,
      "justify_content": null,
      "justify_items": null,
      "left": null,
      "margin": null,
      "max_height": null,
      "max_width": null,
      "min_height": null,
      "min_width": null,
      "object_fit": null,
      "object_position": null,
      "order": null,
      "overflow": null,
      "overflow_x": null,
      "overflow_y": null,
      "padding": null,
      "right": null,
      "top": null,
      "visibility": null,
      "width": null
     }
    }
   }
  }
 },
 "nbformat": 4,
 "nbformat_minor": 5
}
