{
  "nbformat": 4,
  "nbformat_minor": 0,
  "metadata": {
    "colab": {
      "name": "[Train_Val_split]_[word_level_+_whole_corpus]_Vanilla_RNN.ipynb",
      "provenance": [],
      "collapsed_sections": []
    },
    "kernelspec": {
      "name": "python3",
      "display_name": "Python 3"
    },
    "language_info": {
      "name": "python"
    }
  },
  "cells": [
    {
      "cell_type": "code",
      "execution_count": 2,
      "metadata": {
        "id": "wgFfi9cLM0a2",
        "colab": {
          "base_uri": "https://localhost:8080/"
        },
        "outputId": "0cd66584-8402-432b-e06b-92ed7ec17651"
      },
      "outputs": [
        {
          "output_type": "stream",
          "name": "stdout",
          "text": [
            "Drive already mounted at /content/drive; to attempt to forcibly remount, call drive.mount(\"/content/drive\", force_remount=True).\n",
            "/content/drive/MyDrive/SMU_MITB_NLP/NLP-Lyric-Generator/src/bin\n"
          ]
        }
      ],
      "source": [
        "from google.colab import drive\n",
        "drive.mount('/content/drive')\n",
        "#%cd /content/drive/MyDrive/NLP\\ project/models/\n",
        "%cd /content/drive/MyDrive/SMU_MITB_NLP/NLP-Lyric-Generator/src/bin/"
      ]
    },
    {
      "cell_type": "code",
      "source": [
        "#import packages\n",
        "import pandas as pd\n",
        "import numpy as np\n",
        "import os\n",
        "import sys \n",
        "from keras.models import Sequential\n",
        "from keras.layers import Activation, Flatten, Dropout, Dense, Embedding, TimeDistributed, SimpleRNN\n",
        "from keras.callbacks import ModelCheckpoint\n",
        "from keras.utils import np_utils\n",
        "import nltk\n",
        "nltk.download('stopwords')\n",
        "from nltk.corpus import stopwords\n",
        "import tensorflow as tf"
      ],
      "metadata": {
        "id": "EhWNN_xcPCKQ",
        "colab": {
          "base_uri": "https://localhost:8080/"
        },
        "outputId": "68a7a15a-97df-4cac-f9f1-85ade36a86bf"
      },
      "execution_count": 40,
      "outputs": [
        {
          "output_type": "stream",
          "name": "stdout",
          "text": [
            "[nltk_data] Downloading package stopwords to /root/nltk_data...\n",
            "[nltk_data]   Unzipping corpora/stopwords.zip.\n"
          ]
        }
      ]
    },
    {
      "cell_type": "markdown",
      "source": [
        "Data Preprocessing"
      ],
      "metadata": {
        "id": "Kd3vKrZvbYrC"
      }
    },
    {
      "cell_type": "code",
      "source": [
        "# from google.colab import files\n",
        "# src = list(files.upload().values())[0]\n",
        "# open('utilities.py','wb').write(src)\n",
        "# import utilities as U\n",
        "\n",
        "### Custom Imports\n",
        "import os\n",
        "import sys\n",
        "sys.path.append('../')\n",
        "import lib.utilities as U\n",
        "from lib.sentiment import Sentiment"
      ],
      "metadata": {
        "id": "QOqvOtUsR3My"
      },
      "execution_count": 7,
      "outputs": []
    },
    {
      "cell_type": "code",
      "source": [
        "#load train and validation corpus\n",
        "train_corpus, val_corpus, train_file, val_file = U.split_corpus(path = '/content/drive/MyDrive/SMU_MITB_NLP/NLP-Lyric-Generator/data/', val_split = 0.2, end_song_token = '\\n\\n<EOS>\\n\\n', random_seed = 2022)"
      ],
      "metadata": {
        "id": "NbyM3xywLojL"
      },
      "execution_count": 9,
      "outputs": []
    },
    {
      "cell_type": "code",
      "source": [
        "train_corpus[:100]"
      ],
      "metadata": {
        "colab": {
          "base_uri": "https://localhost:8080/",
          "height": 36
        },
        "id": "3dP4KBtVMLkl",
        "outputId": "bf29a6ba-9f0e-4424-9cc1-bd6795a28120"
      },
      "execution_count": 10,
      "outputs": [
        {
          "output_type": "execute_result",
          "data": {
            "text/plain": [
              "\"<VERSE>\\nThis is a place\\nYou'll be amazed\\nWhere children play\\nWhere best friends stay\\nHave different \""
            ],
            "application/vnd.google.colaboratory.intrinsic+json": {
              "type": "string"
            }
          },
          "metadata": {},
          "execution_count": 10
        }
      ]
    },
    {
      "cell_type": "markdown",
      "source": [
        "Data Preprocessing for Train Corpus"
      ],
      "metadata": {
        "id": "PJsV7odoMmd0"
      }
    },
    {
      "cell_type": "code",
      "source": [
        "train_components = train_corpus.split('\\n\\n')"
      ],
      "metadata": {
        "id": "HB-1Ie88sMSF"
      },
      "execution_count": 11,
      "outputs": []
    },
    {
      "cell_type": "code",
      "source": [
        "print(len(train_components))"
      ],
      "metadata": {
        "colab": {
          "base_uri": "https://localhost:8080/"
        },
        "id": "PBSAP7OLsRDK",
        "outputId": "36742a67-3104-4c3e-e6e1-d0c0cf918664"
      },
      "execution_count": 12,
      "outputs": [
        {
          "output_type": "stream",
          "name": "stdout",
          "text": [
            "272\n"
          ]
        }
      ]
    },
    {
      "cell_type": "code",
      "source": [
        "train_corpus_list = [string.split('\\n') for string in train_components]\n",
        "for song in train_corpus_list:\n",
        "  song.pop(0)"
      ],
      "metadata": {
        "id": "Im4ruOD77Dx5"
      },
      "execution_count": 13,
      "outputs": []
    },
    {
      "cell_type": "code",
      "source": [
        "train_corpus_list[:5]"
      ],
      "metadata": {
        "colab": {
          "base_uri": "https://localhost:8080/"
        },
        "id": "bwz7dYKX7W9w",
        "outputId": "82d80259-4a8f-4bc5-a0d5-abfd9b1feb63"
      },
      "execution_count": 14,
      "outputs": [
        {
          "output_type": "execute_result",
          "data": {
            "text/plain": [
              "[['This is a place',\n",
              "  \"You'll be amazed\",\n",
              "  'Where children play',\n",
              "  'Where best friends stay',\n",
              "  'Have different tastes',\n",
              "  'Live different ways',\n",
              "  'The smile on your face',\n",
              "  'Can bring us closer every day'],\n",
              " ['This is a place',\n",
              "  'Our common space',\n",
              "  'We share our dreams',\n",
              "  'One goal we chase',\n",
              "  'Come join our pace',\n",
              "  \"We'll win the race\",\n",
              "  \"When we're together\",\n",
              "  'We can make miracles come our way'],\n",
              " [\"This is where we'll see\",\n",
              "  'Familiar faces from our neighbourhood',\n",
              "  \"This is where we'll share\",\n",
              "  'The stories dating back to our childhood',\n",
              "  \"It's here where I'll find\",\n",
              "  'Your hand to lift me up',\n",
              "  'When I fall',\n",
              "  \"It's here where I am sure\",\n",
              "  \"I'm safe\",\n",
              "  \"I won't be lost\"],\n",
              " [\"This is where we'll stand as one\",\n",
              "  'To build a home for you and me',\n",
              "  \"This is where we'll join our hands\",\n",
              "  'To grow the fruits of harmony',\n",
              "  'When you and I',\n",
              "  'Put our hearts together',\n",
              "  \"We'll stand the test\",\n",
              "  'For this is where we belong',\n",
              "  \"We'll give our best\"],\n",
              " ['This is the place',\n",
              "  'Our common space',\n",
              "  'We share our dreams',\n",
              "  'One goal we chase',\n",
              "  'Come join our pace',\n",
              "  \"We'll win the race\",\n",
              "  \"Here's where I belong\",\n",
              "  'Where I know that love is there for me']]"
            ]
          },
          "metadata": {},
          "execution_count": 14
        }
      ]
    },
    {
      "cell_type": "code",
      "source": [
        "df_train = pd.DataFrame({'song': train_corpus_list})\n",
        "\n",
        "df_train['song'] = df_train['song'].str.join(', ')\n",
        "pd.options.display.max_colwidth = 500\n",
        "df_train=df_train.iloc[1:] \n",
        "df_train.head()"
      ],
      "metadata": {
        "colab": {
          "base_uri": "https://localhost:8080/",
          "height": 337
        },
        "id": "aRmxBE4472Xe",
        "outputId": "f45cd4c1-71a2-4606-8684-15855f8cda66"
      },
      "execution_count": 15,
      "outputs": [
        {
          "output_type": "execute_result",
          "data": {
            "text/plain": [
              "                                                                                                                                                                                                                                                         song\n",
              "1                                                                                   This is a place, Our common space, We share our dreams, One goal we chase, Come join our pace, We'll win the race, When we're together, We can make miracles come our way\n",
              "2  This is where we'll see, Familiar faces from our neighbourhood, This is where we'll share, The stories dating back to our childhood, It's here where I'll find, Your hand to lift me up, When I fall, It's here where I am sure, I'm safe, I won't be lost\n",
              "3        This is where we'll stand as one, To build a home for you and me, This is where we'll join our hands, To grow the fruits of harmony, When you and I, Put our hearts together, We'll stand the test, For this is where we belong, We'll give our best\n",
              "4                                                                          This is the place, Our common space, We share our dreams, One goal we chase, Come join our pace, We'll win the race, Here's where I belong, Where I know that love is there for me\n",
              "5  This is where we'll see, Familiar faces from our neighbourhood, This is where we'll share, The stories dating back to our childhood, It's here where I'll find, Your hand to lift me up, When I fall, It's here where I am sure, I'm safe, I won't be lost"
            ],
            "text/html": [
              "\n",
              "  <div id=\"df-99077100-cf51-4659-8d3a-3fd5aa70bcf3\">\n",
              "    <div class=\"colab-df-container\">\n",
              "      <div>\n",
              "<style scoped>\n",
              "    .dataframe tbody tr th:only-of-type {\n",
              "        vertical-align: middle;\n",
              "    }\n",
              "\n",
              "    .dataframe tbody tr th {\n",
              "        vertical-align: top;\n",
              "    }\n",
              "\n",
              "    .dataframe thead th {\n",
              "        text-align: right;\n",
              "    }\n",
              "</style>\n",
              "<table border=\"1\" class=\"dataframe\">\n",
              "  <thead>\n",
              "    <tr style=\"text-align: right;\">\n",
              "      <th></th>\n",
              "      <th>song</th>\n",
              "    </tr>\n",
              "  </thead>\n",
              "  <tbody>\n",
              "    <tr>\n",
              "      <th>1</th>\n",
              "      <td>This is a place, Our common space, We share our dreams, One goal we chase, Come join our pace, We'll win the race, When we're together, We can make miracles come our way</td>\n",
              "    </tr>\n",
              "    <tr>\n",
              "      <th>2</th>\n",
              "      <td>This is where we'll see, Familiar faces from our neighbourhood, This is where we'll share, The stories dating back to our childhood, It's here where I'll find, Your hand to lift me up, When I fall, It's here where I am sure, I'm safe, I won't be lost</td>\n",
              "    </tr>\n",
              "    <tr>\n",
              "      <th>3</th>\n",
              "      <td>This is where we'll stand as one, To build a home for you and me, This is where we'll join our hands, To grow the fruits of harmony, When you and I, Put our hearts together, We'll stand the test, For this is where we belong, We'll give our best</td>\n",
              "    </tr>\n",
              "    <tr>\n",
              "      <th>4</th>\n",
              "      <td>This is the place, Our common space, We share our dreams, One goal we chase, Come join our pace, We'll win the race, Here's where I belong, Where I know that love is there for me</td>\n",
              "    </tr>\n",
              "    <tr>\n",
              "      <th>5</th>\n",
              "      <td>This is where we'll see, Familiar faces from our neighbourhood, This is where we'll share, The stories dating back to our childhood, It's here where I'll find, Your hand to lift me up, When I fall, It's here where I am sure, I'm safe, I won't be lost</td>\n",
              "    </tr>\n",
              "  </tbody>\n",
              "</table>\n",
              "</div>\n",
              "      <button class=\"colab-df-convert\" onclick=\"convertToInteractive('df-99077100-cf51-4659-8d3a-3fd5aa70bcf3')\"\n",
              "              title=\"Convert this dataframe to an interactive table.\"\n",
              "              style=\"display:none;\">\n",
              "        \n",
              "  <svg xmlns=\"http://www.w3.org/2000/svg\" height=\"24px\"viewBox=\"0 0 24 24\"\n",
              "       width=\"24px\">\n",
              "    <path d=\"M0 0h24v24H0V0z\" fill=\"none\"/>\n",
              "    <path d=\"M18.56 5.44l.94 2.06.94-2.06 2.06-.94-2.06-.94-.94-2.06-.94 2.06-2.06.94zm-11 1L8.5 8.5l.94-2.06 2.06-.94-2.06-.94L8.5 2.5l-.94 2.06-2.06.94zm10 10l.94 2.06.94-2.06 2.06-.94-2.06-.94-.94-2.06-.94 2.06-2.06.94z\"/><path d=\"M17.41 7.96l-1.37-1.37c-.4-.4-.92-.59-1.43-.59-.52 0-1.04.2-1.43.59L10.3 9.45l-7.72 7.72c-.78.78-.78 2.05 0 2.83L4 21.41c.39.39.9.59 1.41.59.51 0 1.02-.2 1.41-.59l7.78-7.78 2.81-2.81c.8-.78.8-2.07 0-2.86zM5.41 20L4 18.59l7.72-7.72 1.47 1.35L5.41 20z\"/>\n",
              "  </svg>\n",
              "      </button>\n",
              "      \n",
              "  <style>\n",
              "    .colab-df-container {\n",
              "      display:flex;\n",
              "      flex-wrap:wrap;\n",
              "      gap: 12px;\n",
              "    }\n",
              "\n",
              "    .colab-df-convert {\n",
              "      background-color: #E8F0FE;\n",
              "      border: none;\n",
              "      border-radius: 50%;\n",
              "      cursor: pointer;\n",
              "      display: none;\n",
              "      fill: #1967D2;\n",
              "      height: 32px;\n",
              "      padding: 0 0 0 0;\n",
              "      width: 32px;\n",
              "    }\n",
              "\n",
              "    .colab-df-convert:hover {\n",
              "      background-color: #E2EBFA;\n",
              "      box-shadow: 0px 1px 2px rgba(60, 64, 67, 0.3), 0px 1px 3px 1px rgba(60, 64, 67, 0.15);\n",
              "      fill: #174EA6;\n",
              "    }\n",
              "\n",
              "    [theme=dark] .colab-df-convert {\n",
              "      background-color: #3B4455;\n",
              "      fill: #D2E3FC;\n",
              "    }\n",
              "\n",
              "    [theme=dark] .colab-df-convert:hover {\n",
              "      background-color: #434B5C;\n",
              "      box-shadow: 0px 1px 3px 1px rgba(0, 0, 0, 0.15);\n",
              "      filter: drop-shadow(0px 1px 2px rgba(0, 0, 0, 0.3));\n",
              "      fill: #FFFFFF;\n",
              "    }\n",
              "  </style>\n",
              "\n",
              "      <script>\n",
              "        const buttonEl =\n",
              "          document.querySelector('#df-99077100-cf51-4659-8d3a-3fd5aa70bcf3 button.colab-df-convert');\n",
              "        buttonEl.style.display =\n",
              "          google.colab.kernel.accessAllowed ? 'block' : 'none';\n",
              "\n",
              "        async function convertToInteractive(key) {\n",
              "          const element = document.querySelector('#df-99077100-cf51-4659-8d3a-3fd5aa70bcf3');\n",
              "          const dataTable =\n",
              "            await google.colab.kernel.invokeFunction('convertToInteractive',\n",
              "                                                     [key], {});\n",
              "          if (!dataTable) return;\n",
              "\n",
              "          const docLinkHtml = 'Like what you see? Visit the ' +\n",
              "            '<a target=\"_blank\" href=https://colab.research.google.com/notebooks/data_table.ipynb>data table notebook</a>'\n",
              "            + ' to learn more about interactive tables.';\n",
              "          element.innerHTML = '';\n",
              "          dataTable['output_type'] = 'display_data';\n",
              "          await google.colab.output.renderOutput(dataTable, element);\n",
              "          const docLink = document.createElement('div');\n",
              "          docLink.innerHTML = docLinkHtml;\n",
              "          element.appendChild(docLink);\n",
              "        }\n",
              "      </script>\n",
              "    </div>\n",
              "  </div>\n",
              "  "
            ]
          },
          "metadata": {},
          "execution_count": 15
        }
      ]
    },
    {
      "cell_type": "code",
      "source": [
        "\"\"\"\n",
        "Remove punctuations, decontractions, emojis and URLs\n",
        "\"\"\"\n",
        "\n",
        "df_train['song'] = df_train.apply(lambda row : U.remove_punct(row['song']), axis=1)\n",
        "df_train['song'] = df_train.apply(lambda row : U.remove_url(row['song']), axis=1)\n",
        "df_train['song'] = df_train.apply(lambda row : U.remove_emoji(row['song']), axis=1)\n",
        "df_train['song'] = df_train.apply(lambda row : U.decontraction(row['song']), axis=1)\n",
        "df_train['song']=  df_train.apply(lambda row : row['song'].lower(), axis=1)\n",
        "df_train.head()"
      ],
      "metadata": {
        "colab": {
          "base_uri": "https://localhost:8080/",
          "height": 337
        },
        "id": "7yIThjqZmXlF",
        "outputId": "dd1a670c-4b06-48c5-af5d-2d3f95f517eb"
      },
      "execution_count": 16,
      "outputs": [
        {
          "output_type": "execute_result",
          "data": {
            "text/plain": [
              "                                                                                                                                                                                                                                         song\n",
              "1                                                                            this is a place our common space we share our dreams one goal we chase come join our pace well win the race when were together we can make miracles come our way\n",
              "2  this is where well see familiar faces from our neighbourhood this is where well share the stories dating back to our childhood its here where ill find your hand to lift me up when i fall its here where i am sure im safe i wont be lost\n",
              "3    this is where well stand as one to build a home for you and me this is where well join our hands to grow the fruits of harmony when you and i put our hearts together well stand the test for this is where we belong well give our best\n",
              "4                                                                   this is the place our common space we share our dreams one goal we chase come join our pace well win the race heres where i belong where i know that love is there for me\n",
              "5  this is where well see familiar faces from our neighbourhood this is where well share the stories dating back to our childhood its here where ill find your hand to lift me up when i fall its here where i am sure im safe i wont be lost"
            ],
            "text/html": [
              "\n",
              "  <div id=\"df-b498aa61-cec5-4528-9b76-7acb77214e29\">\n",
              "    <div class=\"colab-df-container\">\n",
              "      <div>\n",
              "<style scoped>\n",
              "    .dataframe tbody tr th:only-of-type {\n",
              "        vertical-align: middle;\n",
              "    }\n",
              "\n",
              "    .dataframe tbody tr th {\n",
              "        vertical-align: top;\n",
              "    }\n",
              "\n",
              "    .dataframe thead th {\n",
              "        text-align: right;\n",
              "    }\n",
              "</style>\n",
              "<table border=\"1\" class=\"dataframe\">\n",
              "  <thead>\n",
              "    <tr style=\"text-align: right;\">\n",
              "      <th></th>\n",
              "      <th>song</th>\n",
              "    </tr>\n",
              "  </thead>\n",
              "  <tbody>\n",
              "    <tr>\n",
              "      <th>1</th>\n",
              "      <td>this is a place our common space we share our dreams one goal we chase come join our pace well win the race when were together we can make miracles come our way</td>\n",
              "    </tr>\n",
              "    <tr>\n",
              "      <th>2</th>\n",
              "      <td>this is where well see familiar faces from our neighbourhood this is where well share the stories dating back to our childhood its here where ill find your hand to lift me up when i fall its here where i am sure im safe i wont be lost</td>\n",
              "    </tr>\n",
              "    <tr>\n",
              "      <th>3</th>\n",
              "      <td>this is where well stand as one to build a home for you and me this is where well join our hands to grow the fruits of harmony when you and i put our hearts together well stand the test for this is where we belong well give our best</td>\n",
              "    </tr>\n",
              "    <tr>\n",
              "      <th>4</th>\n",
              "      <td>this is the place our common space we share our dreams one goal we chase come join our pace well win the race heres where i belong where i know that love is there for me</td>\n",
              "    </tr>\n",
              "    <tr>\n",
              "      <th>5</th>\n",
              "      <td>this is where well see familiar faces from our neighbourhood this is where well share the stories dating back to our childhood its here where ill find your hand to lift me up when i fall its here where i am sure im safe i wont be lost</td>\n",
              "    </tr>\n",
              "  </tbody>\n",
              "</table>\n",
              "</div>\n",
              "      <button class=\"colab-df-convert\" onclick=\"convertToInteractive('df-b498aa61-cec5-4528-9b76-7acb77214e29')\"\n",
              "              title=\"Convert this dataframe to an interactive table.\"\n",
              "              style=\"display:none;\">\n",
              "        \n",
              "  <svg xmlns=\"http://www.w3.org/2000/svg\" height=\"24px\"viewBox=\"0 0 24 24\"\n",
              "       width=\"24px\">\n",
              "    <path d=\"M0 0h24v24H0V0z\" fill=\"none\"/>\n",
              "    <path d=\"M18.56 5.44l.94 2.06.94-2.06 2.06-.94-2.06-.94-.94-2.06-.94 2.06-2.06.94zm-11 1L8.5 8.5l.94-2.06 2.06-.94-2.06-.94L8.5 2.5l-.94 2.06-2.06.94zm10 10l.94 2.06.94-2.06 2.06-.94-2.06-.94-.94-2.06-.94 2.06-2.06.94z\"/><path d=\"M17.41 7.96l-1.37-1.37c-.4-.4-.92-.59-1.43-.59-.52 0-1.04.2-1.43.59L10.3 9.45l-7.72 7.72c-.78.78-.78 2.05 0 2.83L4 21.41c.39.39.9.59 1.41.59.51 0 1.02-.2 1.41-.59l7.78-7.78 2.81-2.81c.8-.78.8-2.07 0-2.86zM5.41 20L4 18.59l7.72-7.72 1.47 1.35L5.41 20z\"/>\n",
              "  </svg>\n",
              "      </button>\n",
              "      \n",
              "  <style>\n",
              "    .colab-df-container {\n",
              "      display:flex;\n",
              "      flex-wrap:wrap;\n",
              "      gap: 12px;\n",
              "    }\n",
              "\n",
              "    .colab-df-convert {\n",
              "      background-color: #E8F0FE;\n",
              "      border: none;\n",
              "      border-radius: 50%;\n",
              "      cursor: pointer;\n",
              "      display: none;\n",
              "      fill: #1967D2;\n",
              "      height: 32px;\n",
              "      padding: 0 0 0 0;\n",
              "      width: 32px;\n",
              "    }\n",
              "\n",
              "    .colab-df-convert:hover {\n",
              "      background-color: #E2EBFA;\n",
              "      box-shadow: 0px 1px 2px rgba(60, 64, 67, 0.3), 0px 1px 3px 1px rgba(60, 64, 67, 0.15);\n",
              "      fill: #174EA6;\n",
              "    }\n",
              "\n",
              "    [theme=dark] .colab-df-convert {\n",
              "      background-color: #3B4455;\n",
              "      fill: #D2E3FC;\n",
              "    }\n",
              "\n",
              "    [theme=dark] .colab-df-convert:hover {\n",
              "      background-color: #434B5C;\n",
              "      box-shadow: 0px 1px 3px 1px rgba(0, 0, 0, 0.15);\n",
              "      filter: drop-shadow(0px 1px 2px rgba(0, 0, 0, 0.3));\n",
              "      fill: #FFFFFF;\n",
              "    }\n",
              "  </style>\n",
              "\n",
              "      <script>\n",
              "        const buttonEl =\n",
              "          document.querySelector('#df-b498aa61-cec5-4528-9b76-7acb77214e29 button.colab-df-convert');\n",
              "        buttonEl.style.display =\n",
              "          google.colab.kernel.accessAllowed ? 'block' : 'none';\n",
              "\n",
              "        async function convertToInteractive(key) {\n",
              "          const element = document.querySelector('#df-b498aa61-cec5-4528-9b76-7acb77214e29');\n",
              "          const dataTable =\n",
              "            await google.colab.kernel.invokeFunction('convertToInteractive',\n",
              "                                                     [key], {});\n",
              "          if (!dataTable) return;\n",
              "\n",
              "          const docLinkHtml = 'Like what you see? Visit the ' +\n",
              "            '<a target=\"_blank\" href=https://colab.research.google.com/notebooks/data_table.ipynb>data table notebook</a>'\n",
              "            + ' to learn more about interactive tables.';\n",
              "          element.innerHTML = '';\n",
              "          dataTable['output_type'] = 'display_data';\n",
              "          await google.colab.output.renderOutput(dataTable, element);\n",
              "          const docLink = document.createElement('div');\n",
              "          docLink.innerHTML = docLinkHtml;\n",
              "          element.appendChild(docLink);\n",
              "        }\n",
              "      </script>\n",
              "    </div>\n",
              "  </div>\n",
              "  "
            ]
          },
          "metadata": {},
          "execution_count": 16
        }
      ]
    },
    {
      "cell_type": "code",
      "source": [
        "train_songs = df_train['song'].tolist()"
      ],
      "metadata": {
        "id": "033ltAmo25ky"
      },
      "execution_count": 17,
      "outputs": []
    },
    {
      "cell_type": "code",
      "source": [
        "# Save train song set in .txt file\n",
        "with open('train_songs.txt', 'w',encoding=\"utf-8\") as filehandle:  \n",
        "    for listitem in train_songs:\n",
        "        filehandle.write('%s\\n' % listitem)"
      ],
      "metadata": {
        "id": "ZXavEGDzoN85"
      },
      "execution_count": 18,
      "outputs": []
    },
    {
      "cell_type": "code",
      "source": [
        "textFileName = 'train_songs.txt'\n",
        "raw_text = open(textFileName, encoding = 'UTF-8').read()"
      ],
      "metadata": {
        "id": "2-R5ytF93GXO"
      },
      "execution_count": 19,
      "outputs": []
    },
    {
      "cell_type": "markdown",
      "source": [
        "Data Preprocessing for Validation Corpus"
      ],
      "metadata": {
        "id": "wauY1Oi2WFBr"
      }
    },
    {
      "cell_type": "code",
      "source": [
        "val_components = val_corpus.split('\\n\\n')"
      ],
      "metadata": {
        "id": "EZK5dyknWO4J"
      },
      "execution_count": 20,
      "outputs": []
    },
    {
      "cell_type": "code",
      "source": [
        "print(len(val_components))"
      ],
      "metadata": {
        "colab": {
          "base_uri": "https://localhost:8080/"
        },
        "outputId": "c918dd9d-b397-49b4-cff9-fe8c3852ab33",
        "id": "ytUIFGKzWO4J"
      },
      "execution_count": 21,
      "outputs": [
        {
          "output_type": "stream",
          "name": "stdout",
          "text": [
            "67\n"
          ]
        }
      ]
    },
    {
      "cell_type": "code",
      "source": [
        "val_corpus_list = [string.split('\\n') for string in val_components]\n",
        "for song in val_corpus_list:\n",
        "  song.pop(0)"
      ],
      "metadata": {
        "id": "RINKkWMQWO4J"
      },
      "execution_count": 22,
      "outputs": []
    },
    {
      "cell_type": "code",
      "source": [
        "val_corpus_list[:5]"
      ],
      "metadata": {
        "colab": {
          "base_uri": "https://localhost:8080/"
        },
        "outputId": "a654a722-4ec0-4ee2-f8fd-6c0b87e10953",
        "id": "R_JANFhfWO4K"
      },
      "execution_count": 24,
      "outputs": [
        {
          "output_type": "execute_result",
          "data": {
            "text/plain": [
              "[['There was a time when people said',\n",
              "  \"that Singapore won't make it \",\n",
              "  'but we did',\n",
              "  'There was a time when troubles seemed ',\n",
              "  'too much for us to take',\n",
              "  'but we did',\n",
              "  'We built a nation, ',\n",
              "  'strong and free',\n",
              "  'Reaching out together',\n",
              "  'For peace and harmony'],\n",
              " ['This is my country, ',\n",
              "  'this is my flag',\n",
              "  'This is my future, ',\n",
              "  'this is my life',\n",
              "  'This is my family, ',\n",
              "  'these are my friends',\n",
              "  'We are Singapore, ',\n",
              "  'Singaporeans',\n",
              "  'Singapore our homeland, ',\n",
              "  \"it's here that we belong\",\n",
              "  'All of us united, ',\n",
              "  'one people marching on',\n",
              "  \"We've come so far together, \",\n",
              "  'our common destiny',\n",
              "  'Singapore forever, ',\n",
              "  'a nation strong and free',\n",
              "  'This is my country, ',\n",
              "  'this is my flag',\n",
              "  'This is my future, ',\n",
              "  'this is my life',\n",
              "  'This is my family, ',\n",
              "  'these are my friends',\n",
              "  'We are Singapore, ',\n",
              "  'Singaporeans'],\n",
              " ['We the citizens of Singapore',\n",
              "  'Pledge ourselves as one united people',\n",
              "  'Regardless of race language or religion',\n",
              "  'To build a democratic society',\n",
              "  'Based on justice and equality',\n",
              "  'So as to achieve happiness',\n",
              "  'Prosperity and progress for our nation'],\n",
              " ['We are Singapore, ',\n",
              "  'we are Singapore',\n",
              "  'We will stand together, ',\n",
              "  'hear the lion roar',\n",
              "  'We are Singapore, ',\n",
              "  'we are Singapore',\n",
              "  \"We're a nation strong and free \",\n",
              "  'forevermore',\n",
              "  'This is my country, ',\n",
              "  'this is my flag',\n",
              "  'This is my future, ',\n",
              "  'this is my life',\n",
              "  'This is my family, ',\n",
              "  'these are my friends',\n",
              "  'We are Singapore, ',\n",
              "  'Singaporeans',\n",
              "  'We are Singapore, ',\n",
              "  'we are Singapore',\n",
              "  'We will stand together, ',\n",
              "  'hear the lion roar',\n",
              "  'We are Singapore, ',\n",
              "  'we are Singapore',\n",
              "  \"We're a nation strong and free \",\n",
              "  'forevermore',\n",
              "  'We are Singapore, ',\n",
              "  'Singaporeans ',\n",
              "  'We are Singapore, ',\n",
              "  'Singaporeans '],\n",
              " ['<EOS>']]"
            ]
          },
          "metadata": {},
          "execution_count": 24
        }
      ]
    },
    {
      "cell_type": "code",
      "source": [
        "df_val = pd.DataFrame({'song': val_corpus_list})\n",
        "\n",
        "df_val['song'] = df_val['song'].str.join(', ')\n",
        "df_val=df_val.iloc[1:] \n",
        "df_val.head()"
      ],
      "metadata": {
        "colab": {
          "base_uri": "https://localhost:8080/",
          "height": 354
        },
        "outputId": "7a1bec74-7dfa-4b0c-fed8-4508c7c5eb45",
        "id": "GxMqEVhdWO4K"
      },
      "execution_count": 25,
      "outputs": [
        {
          "output_type": "execute_result",
          "data": {
            "text/plain": [
              "                                                                                                                                                                                                                                                                                                                                                                                                                                                                                                                  song\n",
              "1  This is my country, , this is my flag, This is my future, , this is my life, This is my family, , these are my friends, We are Singapore, , Singaporeans, Singapore our homeland, , it's here that we belong, All of us united, , one people marching on, We've come so far together, , our common destiny, Singapore forever, , a nation strong and free, This is my country, , this is my flag, This is my future, , this is my life, This is my family, , these are my friends, We are Singapore, , Singaporeans\n",
              "2                                                                                                                                                                                                                                                                       We the citizens of Singapore, Pledge ourselves as one united people, Regardless of race language or religion, To build a democratic society, Based on justice and equality, So as to achieve happiness, Prosperity and progress for our nation\n",
              "3  We are Singapore, , we are Singapore, We will stand together, , hear the lion roar, We are Singapore, , we are Singapore, We're a nation strong and free , forevermore, This is my country, , this is my flag, This is my future, , this is my life, This is my family, , these are my friends, We are Singapore, , Singaporeans, We are Singapore, , we are Singapore, We will stand together, , hear the lion roar, We are Singapore, , we are Singapore, We're a nation strong and free , forevermore, We are...\n",
              "4                                                                                                                                                                                                                                                                                                                                                                                                                                                                                                                <EOS>\n",
              "5                                                                                                                                                                                                                                                                                                                                                                        I share this thought with everyone, Escape your ordinary world, Reach out your hand to others and, Your dreams will live, They'll be unfurled"
            ],
            "text/html": [
              "\n",
              "  <div id=\"df-c3cd5a57-5fb1-4841-936d-364f0d5fcf5f\">\n",
              "    <div class=\"colab-df-container\">\n",
              "      <div>\n",
              "<style scoped>\n",
              "    .dataframe tbody tr th:only-of-type {\n",
              "        vertical-align: middle;\n",
              "    }\n",
              "\n",
              "    .dataframe tbody tr th {\n",
              "        vertical-align: top;\n",
              "    }\n",
              "\n",
              "    .dataframe thead th {\n",
              "        text-align: right;\n",
              "    }\n",
              "</style>\n",
              "<table border=\"1\" class=\"dataframe\">\n",
              "  <thead>\n",
              "    <tr style=\"text-align: right;\">\n",
              "      <th></th>\n",
              "      <th>song</th>\n",
              "    </tr>\n",
              "  </thead>\n",
              "  <tbody>\n",
              "    <tr>\n",
              "      <th>1</th>\n",
              "      <td>This is my country, , this is my flag, This is my future, , this is my life, This is my family, , these are my friends, We are Singapore, , Singaporeans, Singapore our homeland, , it's here that we belong, All of us united, , one people marching on, We've come so far together, , our common destiny, Singapore forever, , a nation strong and free, This is my country, , this is my flag, This is my future, , this is my life, This is my family, , these are my friends, We are Singapore, , Singaporeans</td>\n",
              "    </tr>\n",
              "    <tr>\n",
              "      <th>2</th>\n",
              "      <td>We the citizens of Singapore, Pledge ourselves as one united people, Regardless of race language or religion, To build a democratic society, Based on justice and equality, So as to achieve happiness, Prosperity and progress for our nation</td>\n",
              "    </tr>\n",
              "    <tr>\n",
              "      <th>3</th>\n",
              "      <td>We are Singapore, , we are Singapore, We will stand together, , hear the lion roar, We are Singapore, , we are Singapore, We're a nation strong and free , forevermore, This is my country, , this is my flag, This is my future, , this is my life, This is my family, , these are my friends, We are Singapore, , Singaporeans, We are Singapore, , we are Singapore, We will stand together, , hear the lion roar, We are Singapore, , we are Singapore, We're a nation strong and free , forevermore, We are...</td>\n",
              "    </tr>\n",
              "    <tr>\n",
              "      <th>4</th>\n",
              "      <td>&lt;EOS&gt;</td>\n",
              "    </tr>\n",
              "    <tr>\n",
              "      <th>5</th>\n",
              "      <td>I share this thought with everyone, Escape your ordinary world, Reach out your hand to others and, Your dreams will live, They'll be unfurled</td>\n",
              "    </tr>\n",
              "  </tbody>\n",
              "</table>\n",
              "</div>\n",
              "      <button class=\"colab-df-convert\" onclick=\"convertToInteractive('df-c3cd5a57-5fb1-4841-936d-364f0d5fcf5f')\"\n",
              "              title=\"Convert this dataframe to an interactive table.\"\n",
              "              style=\"display:none;\">\n",
              "        \n",
              "  <svg xmlns=\"http://www.w3.org/2000/svg\" height=\"24px\"viewBox=\"0 0 24 24\"\n",
              "       width=\"24px\">\n",
              "    <path d=\"M0 0h24v24H0V0z\" fill=\"none\"/>\n",
              "    <path d=\"M18.56 5.44l.94 2.06.94-2.06 2.06-.94-2.06-.94-.94-2.06-.94 2.06-2.06.94zm-11 1L8.5 8.5l.94-2.06 2.06-.94-2.06-.94L8.5 2.5l-.94 2.06-2.06.94zm10 10l.94 2.06.94-2.06 2.06-.94-2.06-.94-.94-2.06-.94 2.06-2.06.94z\"/><path d=\"M17.41 7.96l-1.37-1.37c-.4-.4-.92-.59-1.43-.59-.52 0-1.04.2-1.43.59L10.3 9.45l-7.72 7.72c-.78.78-.78 2.05 0 2.83L4 21.41c.39.39.9.59 1.41.59.51 0 1.02-.2 1.41-.59l7.78-7.78 2.81-2.81c.8-.78.8-2.07 0-2.86zM5.41 20L4 18.59l7.72-7.72 1.47 1.35L5.41 20z\"/>\n",
              "  </svg>\n",
              "      </button>\n",
              "      \n",
              "  <style>\n",
              "    .colab-df-container {\n",
              "      display:flex;\n",
              "      flex-wrap:wrap;\n",
              "      gap: 12px;\n",
              "    }\n",
              "\n",
              "    .colab-df-convert {\n",
              "      background-color: #E8F0FE;\n",
              "      border: none;\n",
              "      border-radius: 50%;\n",
              "      cursor: pointer;\n",
              "      display: none;\n",
              "      fill: #1967D2;\n",
              "      height: 32px;\n",
              "      padding: 0 0 0 0;\n",
              "      width: 32px;\n",
              "    }\n",
              "\n",
              "    .colab-df-convert:hover {\n",
              "      background-color: #E2EBFA;\n",
              "      box-shadow: 0px 1px 2px rgba(60, 64, 67, 0.3), 0px 1px 3px 1px rgba(60, 64, 67, 0.15);\n",
              "      fill: #174EA6;\n",
              "    }\n",
              "\n",
              "    [theme=dark] .colab-df-convert {\n",
              "      background-color: #3B4455;\n",
              "      fill: #D2E3FC;\n",
              "    }\n",
              "\n",
              "    [theme=dark] .colab-df-convert:hover {\n",
              "      background-color: #434B5C;\n",
              "      box-shadow: 0px 1px 3px 1px rgba(0, 0, 0, 0.15);\n",
              "      filter: drop-shadow(0px 1px 2px rgba(0, 0, 0, 0.3));\n",
              "      fill: #FFFFFF;\n",
              "    }\n",
              "  </style>\n",
              "\n",
              "      <script>\n",
              "        const buttonEl =\n",
              "          document.querySelector('#df-c3cd5a57-5fb1-4841-936d-364f0d5fcf5f button.colab-df-convert');\n",
              "        buttonEl.style.display =\n",
              "          google.colab.kernel.accessAllowed ? 'block' : 'none';\n",
              "\n",
              "        async function convertToInteractive(key) {\n",
              "          const element = document.querySelector('#df-c3cd5a57-5fb1-4841-936d-364f0d5fcf5f');\n",
              "          const dataTable =\n",
              "            await google.colab.kernel.invokeFunction('convertToInteractive',\n",
              "                                                     [key], {});\n",
              "          if (!dataTable) return;\n",
              "\n",
              "          const docLinkHtml = 'Like what you see? Visit the ' +\n",
              "            '<a target=\"_blank\" href=https://colab.research.google.com/notebooks/data_table.ipynb>data table notebook</a>'\n",
              "            + ' to learn more about interactive tables.';\n",
              "          element.innerHTML = '';\n",
              "          dataTable['output_type'] = 'display_data';\n",
              "          await google.colab.output.renderOutput(dataTable, element);\n",
              "          const docLink = document.createElement('div');\n",
              "          docLink.innerHTML = docLinkHtml;\n",
              "          element.appendChild(docLink);\n",
              "        }\n",
              "      </script>\n",
              "    </div>\n",
              "  </div>\n",
              "  "
            ]
          },
          "metadata": {},
          "execution_count": 25
        }
      ]
    },
    {
      "cell_type": "code",
      "source": [
        "\"\"\"\n",
        "Remove punctuations, decontractions, emojis and URLs\n",
        "\"\"\"\n",
        "\n",
        "df_val['song'] = df_val.apply(lambda row : U.remove_punct(row['song']), axis=1)\n",
        "df_val['song'] = df_val.apply(lambda row : U.remove_url(row['song']), axis=1)\n",
        "df_val['song'] = df_val.apply(lambda row : U.remove_emoji(row['song']), axis=1)\n",
        "df_val['song'] = df_val.apply(lambda row : U.decontraction(row['song']), axis=1)\n",
        "df_val['song']=  df_val.apply(lambda row : row['song'].lower(), axis=1)\n",
        "df_val.head()"
      ],
      "metadata": {
        "colab": {
          "base_uri": "https://localhost:8080/",
          "height": 354
        },
        "outputId": "3ac0d862-3813-4aea-d920-e56c35f45ab7",
        "id": "xkMvzyk-WO4K"
      },
      "execution_count": 26,
      "outputs": [
        {
          "output_type": "execute_result",
          "data": {
            "text/plain": [
              "                                                                                                                                                                                                                                                                                                                                                                                                                                                                                                                  song\n",
              "1                                                   this is my country this is my flag this is my future this is my life this is my family these are my friends we are singapore singaporeans singapore our homeland its here that we belong all of us united one people marching on weve come so far together our common destiny singapore forever a nation strong and free this is my country this is my flag this is my future this is my life this is my family these are my friends we are singapore singaporeans\n",
              "2                                                                                                                                                                                                                                                                             we the citizens of singapore pledge ourselves as one united people regardless of race language or religion to build a democratic society based on justice and equality so as to achieve happiness prosperity and progress for our nation\n",
              "3  we are singapore we are singapore we will stand together hear the lion roar we are singapore we are singapore were a nation strong and free forevermore this is my country this is my flag this is my future this is my life this is my family these are my friends we are singapore singaporeans we are singapore we are singapore we will stand together hear the lion roar we are singapore we are singapore were a nation strong and free forevermore we are singapore singaporeans we are singapore singapo...\n",
              "4                                                                                                                                                                                                                                                                                                                                                                                                                                                                                                                  eos\n",
              "5                                                                                                                                                                                                                                                                                                                                                                             i share this thought with everyone escape your ordinary world reach out your hand to others and your dreams will live theyll be unfurled"
            ],
            "text/html": [
              "\n",
              "  <div id=\"df-1aa1bf01-3fd1-4805-8468-05ed20aa58b4\">\n",
              "    <div class=\"colab-df-container\">\n",
              "      <div>\n",
              "<style scoped>\n",
              "    .dataframe tbody tr th:only-of-type {\n",
              "        vertical-align: middle;\n",
              "    }\n",
              "\n",
              "    .dataframe tbody tr th {\n",
              "        vertical-align: top;\n",
              "    }\n",
              "\n",
              "    .dataframe thead th {\n",
              "        text-align: right;\n",
              "    }\n",
              "</style>\n",
              "<table border=\"1\" class=\"dataframe\">\n",
              "  <thead>\n",
              "    <tr style=\"text-align: right;\">\n",
              "      <th></th>\n",
              "      <th>song</th>\n",
              "    </tr>\n",
              "  </thead>\n",
              "  <tbody>\n",
              "    <tr>\n",
              "      <th>1</th>\n",
              "      <td>this is my country this is my flag this is my future this is my life this is my family these are my friends we are singapore singaporeans singapore our homeland its here that we belong all of us united one people marching on weve come so far together our common destiny singapore forever a nation strong and free this is my country this is my flag this is my future this is my life this is my family these are my friends we are singapore singaporeans</td>\n",
              "    </tr>\n",
              "    <tr>\n",
              "      <th>2</th>\n",
              "      <td>we the citizens of singapore pledge ourselves as one united people regardless of race language or religion to build a democratic society based on justice and equality so as to achieve happiness prosperity and progress for our nation</td>\n",
              "    </tr>\n",
              "    <tr>\n",
              "      <th>3</th>\n",
              "      <td>we are singapore we are singapore we will stand together hear the lion roar we are singapore we are singapore were a nation strong and free forevermore this is my country this is my flag this is my future this is my life this is my family these are my friends we are singapore singaporeans we are singapore we are singapore we will stand together hear the lion roar we are singapore we are singapore were a nation strong and free forevermore we are singapore singaporeans we are singapore singapo...</td>\n",
              "    </tr>\n",
              "    <tr>\n",
              "      <th>4</th>\n",
              "      <td>eos</td>\n",
              "    </tr>\n",
              "    <tr>\n",
              "      <th>5</th>\n",
              "      <td>i share this thought with everyone escape your ordinary world reach out your hand to others and your dreams will live theyll be unfurled</td>\n",
              "    </tr>\n",
              "  </tbody>\n",
              "</table>\n",
              "</div>\n",
              "      <button class=\"colab-df-convert\" onclick=\"convertToInteractive('df-1aa1bf01-3fd1-4805-8468-05ed20aa58b4')\"\n",
              "              title=\"Convert this dataframe to an interactive table.\"\n",
              "              style=\"display:none;\">\n",
              "        \n",
              "  <svg xmlns=\"http://www.w3.org/2000/svg\" height=\"24px\"viewBox=\"0 0 24 24\"\n",
              "       width=\"24px\">\n",
              "    <path d=\"M0 0h24v24H0V0z\" fill=\"none\"/>\n",
              "    <path d=\"M18.56 5.44l.94 2.06.94-2.06 2.06-.94-2.06-.94-.94-2.06-.94 2.06-2.06.94zm-11 1L8.5 8.5l.94-2.06 2.06-.94-2.06-.94L8.5 2.5l-.94 2.06-2.06.94zm10 10l.94 2.06.94-2.06 2.06-.94-2.06-.94-.94-2.06-.94 2.06-2.06.94z\"/><path d=\"M17.41 7.96l-1.37-1.37c-.4-.4-.92-.59-1.43-.59-.52 0-1.04.2-1.43.59L10.3 9.45l-7.72 7.72c-.78.78-.78 2.05 0 2.83L4 21.41c.39.39.9.59 1.41.59.51 0 1.02-.2 1.41-.59l7.78-7.78 2.81-2.81c.8-.78.8-2.07 0-2.86zM5.41 20L4 18.59l7.72-7.72 1.47 1.35L5.41 20z\"/>\n",
              "  </svg>\n",
              "      </button>\n",
              "      \n",
              "  <style>\n",
              "    .colab-df-container {\n",
              "      display:flex;\n",
              "      flex-wrap:wrap;\n",
              "      gap: 12px;\n",
              "    }\n",
              "\n",
              "    .colab-df-convert {\n",
              "      background-color: #E8F0FE;\n",
              "      border: none;\n",
              "      border-radius: 50%;\n",
              "      cursor: pointer;\n",
              "      display: none;\n",
              "      fill: #1967D2;\n",
              "      height: 32px;\n",
              "      padding: 0 0 0 0;\n",
              "      width: 32px;\n",
              "    }\n",
              "\n",
              "    .colab-df-convert:hover {\n",
              "      background-color: #E2EBFA;\n",
              "      box-shadow: 0px 1px 2px rgba(60, 64, 67, 0.3), 0px 1px 3px 1px rgba(60, 64, 67, 0.15);\n",
              "      fill: #174EA6;\n",
              "    }\n",
              "\n",
              "    [theme=dark] .colab-df-convert {\n",
              "      background-color: #3B4455;\n",
              "      fill: #D2E3FC;\n",
              "    }\n",
              "\n",
              "    [theme=dark] .colab-df-convert:hover {\n",
              "      background-color: #434B5C;\n",
              "      box-shadow: 0px 1px 3px 1px rgba(0, 0, 0, 0.15);\n",
              "      filter: drop-shadow(0px 1px 2px rgba(0, 0, 0, 0.3));\n",
              "      fill: #FFFFFF;\n",
              "    }\n",
              "  </style>\n",
              "\n",
              "      <script>\n",
              "        const buttonEl =\n",
              "          document.querySelector('#df-1aa1bf01-3fd1-4805-8468-05ed20aa58b4 button.colab-df-convert');\n",
              "        buttonEl.style.display =\n",
              "          google.colab.kernel.accessAllowed ? 'block' : 'none';\n",
              "\n",
              "        async function convertToInteractive(key) {\n",
              "          const element = document.querySelector('#df-1aa1bf01-3fd1-4805-8468-05ed20aa58b4');\n",
              "          const dataTable =\n",
              "            await google.colab.kernel.invokeFunction('convertToInteractive',\n",
              "                                                     [key], {});\n",
              "          if (!dataTable) return;\n",
              "\n",
              "          const docLinkHtml = 'Like what you see? Visit the ' +\n",
              "            '<a target=\"_blank\" href=https://colab.research.google.com/notebooks/data_table.ipynb>data table notebook</a>'\n",
              "            + ' to learn more about interactive tables.';\n",
              "          element.innerHTML = '';\n",
              "          dataTable['output_type'] = 'display_data';\n",
              "          await google.colab.output.renderOutput(dataTable, element);\n",
              "          const docLink = document.createElement('div');\n",
              "          docLink.innerHTML = docLinkHtml;\n",
              "          element.appendChild(docLink);\n",
              "        }\n",
              "      </script>\n",
              "    </div>\n",
              "  </div>\n",
              "  "
            ]
          },
          "metadata": {},
          "execution_count": 26
        }
      ]
    },
    {
      "cell_type": "code",
      "source": [
        "val_songs = df_val['song'].tolist()"
      ],
      "metadata": {
        "id": "oMmYxkjdWO4K"
      },
      "execution_count": 27,
      "outputs": []
    },
    {
      "cell_type": "code",
      "source": [
        "# Save train song set in .txt file\n",
        "with open('val_songs.txt', 'w',encoding=\"utf-8\") as valfilehandle:  \n",
        "    for listitem in val_songs:\n",
        "        valfilehandle.write('%s\\n' % listitem)"
      ],
      "metadata": {
        "id": "48PqNcHRWO4K"
      },
      "execution_count": 28,
      "outputs": []
    },
    {
      "cell_type": "code",
      "source": [
        "textFileName = 'val_songs.txt'\n",
        "val_raw_text = open(textFileName, encoding = 'UTF-8').read()"
      ],
      "metadata": {
        "id": "6h-Cm92kWO4K"
      },
      "execution_count": 29,
      "outputs": []
    },
    {
      "cell_type": "code",
      "source": [
        "from keras.preprocessing.text import Tokenizer\n",
        "from keras.preprocessing.sequence import pad_sequences\n",
        "from keras import regularizers\n",
        "import keras.utils as ku \n",
        "\n",
        "val_tokenizer = Tokenizer()\n",
        "\n",
        "val_corpus = raw_text.lower().split(\"\\n\")\n",
        "val_tokenizer.fit_on_texts(val_corpus)\n",
        "val_total_words = len(val_tokenizer.word_index) + 1\n",
        " \n",
        "# create input sequences using list of tokens\n",
        "input_sequences = []\n",
        "for line in val_corpus:\n",
        "    token_list = val_tokenizer.texts_to_sequences([line])[0]\n",
        "    for i in range(1, len(token_list)):\n",
        "        n_gram_sequence = token_list[:i+1]\n",
        "        input_sequences.append(n_gram_sequence)\n",
        " \n",
        " \n",
        "# pad sequences \n",
        "val_max_sequence_len = max([len(x) for x in input_sequences])\n",
        "val_input_sequences = np.array(pad_sequences(input_sequences, maxlen=val_max_sequence_len, padding='pre'))\n",
        " \n",
        "# create predictors and label\n",
        "val_predictors, val_label = val_input_sequences[:,:-1],val_input_sequences[:,-1]\n",
        " \n",
        "val_label = ku.np_utils.to_categorical(val_label, num_classes=val_total_words)"
      ],
      "metadata": {
        "id": "56zA84smYRFK"
      },
      "execution_count": 31,
      "outputs": []
    },
    {
      "cell_type": "markdown",
      "source": [
        "Word-Level Lyrics Generation"
      ],
      "metadata": {
        "id": "Tg0mzhJRPAWU"
      }
    },
    {
      "cell_type": "code",
      "source": [
        "\"\"\"\n",
        "Generate song.\n",
        "Reference: https://predictivehacks.com/word-based-text-generation/\n",
        "\"\"\"\n",
        "\n",
        "\n",
        "tokenizer = Tokenizer()\n",
        "\n",
        "train_corpus = raw_text.lower().split(\"\\n\")\n",
        "tokenizer.fit_on_texts(train_corpus)\n",
        "total_words = len(tokenizer.word_index) + 1\n",
        " \n",
        "# create input sequences using list of tokens\n",
        "input_sequences = []\n",
        "for line in train_corpus:\n",
        "    token_list = tokenizer.texts_to_sequences([line])[0]\n",
        "    for i in range(1, len(token_list)):\n",
        "        n_gram_sequence = token_list[:i+1]\n",
        "        input_sequences.append(n_gram_sequence)\n",
        " \n",
        " \n",
        "# pad sequences \n",
        "max_sequence_len = max([len(x) for x in input_sequences])\n",
        "input_sequences = np.array(pad_sequences(input_sequences, maxlen=max_sequence_len, padding='pre'))\n",
        " \n",
        "# create predictors and label\n",
        "predictors, label = input_sequences[:,:-1],input_sequences[:,-1]\n",
        " \n",
        "label = ku.np_utils.to_categorical(label, num_classes=total_words)\n",
        "\n",
        "#set SEED \n",
        "tf.random.set_seed(42)\n",
        "\n",
        "model = Sequential()\n",
        "model.add(Embedding(total_words, 100, input_length=max_sequence_len-1))\n",
        "model.add(Dropout(0.2))\n",
        "model.add(SimpleRNN(128))\n",
        "model.add(Dense(total_words/2, activation='relu', kernel_regularizer=regularizers.l2(0.01)))\n",
        "model.add(Dense(total_words, activation='softmax'))\n",
        "model.compile(loss='categorical_crossentropy', optimizer='adam', metrics=['accuracy'])\n",
        "print(model.summary())"
      ],
      "metadata": {
        "colab": {
          "base_uri": "https://localhost:8080/"
        },
        "id": "zurth2_-PBvJ",
        "outputId": "81247303-fc3f-42f5-b7d6-385aeac09b57"
      },
      "execution_count": 32,
      "outputs": [
        {
          "output_type": "stream",
          "name": "stdout",
          "text": [
            "Model: \"sequential\"\n",
            "_________________________________________________________________\n",
            " Layer (type)                Output Shape              Param #   \n",
            "=================================================================\n",
            " embedding (Embedding)       (None, 96, 100)           97100     \n",
            "                                                                 \n",
            " dropout (Dropout)           (None, 96, 100)           0         \n",
            "                                                                 \n",
            " simple_rnn (SimpleRNN)      (None, 128)               29312     \n",
            "                                                                 \n",
            " dense (Dense)               (None, 485)               62565     \n",
            "                                                                 \n",
            " dense_1 (Dense)             (None, 971)               471906    \n",
            "                                                                 \n",
            "=================================================================\n",
            "Total params: 660,883\n",
            "Trainable params: 660,883\n",
            "Non-trainable params: 0\n",
            "_________________________________________________________________\n",
            "None\n"
          ]
        }
      ]
    },
    {
      "cell_type": "code",
      "source": [
        "#Implement early stopping\n",
        "early_stop= tf.keras.callbacks.EarlyStopping(\n",
        "    monitor=\"accuracy\",\n",
        "    patience=5,\n",
        "    verbose=0,\n",
        "    mode=\"auto\",\n",
        "    baseline=None,\n",
        "    restore_best_weights=False,\n",
        ")"
      ],
      "metadata": {
        "id": "zqbIpGoANkGh"
      },
      "execution_count": 33,
      "outputs": []
    },
    {
      "cell_type": "code",
      "source": [
        "history = model.fit(predictors, label, epochs=30, verbose=1,callbacks = [early_stop])"
      ],
      "metadata": {
        "colab": {
          "base_uri": "https://localhost:8080/"
        },
        "id": "iS7lWqCRNt0v",
        "outputId": "2bd90f4b-1099-44f3-b92c-ecf15fec28d1"
      },
      "execution_count": 34,
      "outputs": [
        {
          "output_type": "stream",
          "name": "stdout",
          "text": [
            "Epoch 1/30\n",
            "257/257 [==============================] - 15s 54ms/step - loss: 6.2007 - accuracy: 0.0397\n",
            "Epoch 2/30\n",
            "257/257 [==============================] - 13s 51ms/step - loss: 5.3353 - accuracy: 0.0629\n",
            "Epoch 3/30\n",
            "257/257 [==============================] - 13s 51ms/step - loss: 4.9964 - accuracy: 0.0816\n",
            "Epoch 4/30\n",
            "257/257 [==============================] - 13s 50ms/step - loss: 4.7248 - accuracy: 0.1027\n",
            "Epoch 5/30\n",
            "257/257 [==============================] - 13s 52ms/step - loss: 4.4736 - accuracy: 0.1331\n",
            "Epoch 6/30\n",
            "257/257 [==============================] - 13s 51ms/step - loss: 4.2367 - accuracy: 0.1639\n",
            "Epoch 7/30\n",
            "257/257 [==============================] - 13s 50ms/step - loss: 3.9958 - accuracy: 0.1992\n",
            "Epoch 8/30\n",
            "257/257 [==============================] - 13s 50ms/step - loss: 3.7737 - accuracy: 0.2430\n",
            "Epoch 9/30\n",
            "257/257 [==============================] - 13s 52ms/step - loss: 3.5586 - accuracy: 0.2836\n",
            "Epoch 10/30\n",
            "257/257 [==============================] - 14s 55ms/step - loss: 3.3277 - accuracy: 0.3343\n",
            "Epoch 11/30\n",
            "257/257 [==============================] - 14s 53ms/step - loss: 3.1218 - accuracy: 0.3755\n",
            "Epoch 12/30\n",
            "257/257 [==============================] - 13s 50ms/step - loss: 2.9395 - accuracy: 0.4154\n",
            "Epoch 13/30\n",
            "257/257 [==============================] - 13s 50ms/step - loss: 2.7412 - accuracy: 0.4565\n",
            "Epoch 14/30\n",
            "257/257 [==============================] - 15s 57ms/step - loss: 2.5757 - accuracy: 0.4907\n",
            "Epoch 15/30\n",
            "257/257 [==============================] - 13s 52ms/step - loss: 2.4223 - accuracy: 0.5290\n",
            "Epoch 16/30\n",
            "257/257 [==============================] - 14s 53ms/step - loss: 2.2827 - accuracy: 0.5602\n",
            "Epoch 17/30\n",
            "257/257 [==============================] - 13s 51ms/step - loss: 2.1454 - accuracy: 0.5885\n",
            "Epoch 18/30\n",
            "257/257 [==============================] - 13s 52ms/step - loss: 2.0182 - accuracy: 0.6249\n",
            "Epoch 19/30\n",
            "257/257 [==============================] - 13s 49ms/step - loss: 1.9151 - accuracy: 0.6551\n",
            "Epoch 20/30\n",
            "257/257 [==============================] - 13s 52ms/step - loss: 1.8153 - accuracy: 0.6716\n",
            "Epoch 21/30\n",
            "257/257 [==============================] - 13s 52ms/step - loss: 1.7117 - accuracy: 0.6995\n",
            "Epoch 22/30\n",
            "257/257 [==============================] - 13s 50ms/step - loss: 1.6502 - accuracy: 0.7147\n",
            "Epoch 23/30\n",
            "257/257 [==============================] - 14s 54ms/step - loss: 1.5594 - accuracy: 0.7322\n",
            "Epoch 24/30\n",
            "257/257 [==============================] - 13s 50ms/step - loss: 1.4939 - accuracy: 0.7502\n",
            "Epoch 25/30\n",
            "257/257 [==============================] - 15s 59ms/step - loss: 1.4309 - accuracy: 0.7599\n",
            "Epoch 26/30\n",
            "257/257 [==============================] - 14s 54ms/step - loss: 1.3686 - accuracy: 0.7755\n",
            "Epoch 27/30\n",
            "257/257 [==============================] - 13s 51ms/step - loss: 1.3179 - accuracy: 0.7872\n",
            "Epoch 28/30\n",
            "257/257 [==============================] - 13s 51ms/step - loss: 1.2722 - accuracy: 0.7944\n",
            "Epoch 29/30\n",
            "257/257 [==============================] - 13s 52ms/step - loss: 1.2261 - accuracy: 0.8055\n",
            "Epoch 30/30\n",
            "257/257 [==============================] - 15s 57ms/step - loss: 1.1820 - accuracy: 0.8142\n"
          ]
        }
      ]
    },
    {
      "cell_type": "code",
      "source": [
        "#Compute perplexity\n",
        "val_loss, val_accuracy = model.evaluate(val_predictors, val_label)\n",
        "print(\"Validation loss: {:.4f}\".format(val_loss))\n",
        "print(\"Validation accuracy: {:.4f}\".format(val_accuracy))"
      ],
      "metadata": {
        "colab": {
          "base_uri": "https://localhost:8080/"
        },
        "id": "-2Wc9B8FPGYp",
        "outputId": "47ef6d4d-4ed0-40d0-963d-37d48ab00559"
      },
      "execution_count": 35,
      "outputs": [
        {
          "output_type": "stream",
          "name": "stdout",
          "text": [
            "257/257 [==============================] - 4s 14ms/step - loss: 0.9197 - accuracy: 0.8943\n",
            "Validation loss: 0.9197\n",
            "Validation accuracy: 0.8943\n"
          ]
        }
      ]
    },
    {
      "cell_type": "code",
      "source": [
        "import math\n",
        "perplexity = math.exp(val_loss)\n",
        "print(\"Perplexity Score: \", perplexity)"
      ],
      "metadata": {
        "colab": {
          "base_uri": "https://localhost:8080/"
        },
        "id": "FMtU61RyaopL",
        "outputId": "840f11a7-69d9-41fb-b3aa-6c7d0d17f3dc"
      },
      "execution_count": 36,
      "outputs": [
        {
          "output_type": "stream",
          "name": "stdout",
          "text": [
            "Perplexity Score:  2.5085753121599073\n"
          ]
        }
      ]
    },
    {
      "cell_type": "markdown",
      "source": [
        "Generated lyrics and evaluate sentiment of generated lyrics"
      ],
      "metadata": {
        "id": "NQObhtc3eGIX"
      }
    },
    {
      "cell_type": "code",
      "source": [
        "### Custom Imports\n",
        "# import os\n",
        "# import sys\n",
        "# sys.path.append('../')\n",
        "# import lib.utilities as utils\n",
        "# from lib.sentiment import Sentiment"
      ],
      "metadata": {
        "id": "RCXa4gbamLxs",
        "colab": {
          "base_uri": "https://localhost:8080/"
        },
        "outputId": "0b0d1193-f91e-4b17-9943-1f64191a301f"
      },
      "execution_count": 4,
      "outputs": [
        {
          "output_type": "stream",
          "name": "stdout",
          "text": [
            "[nltk_data] Downloading package vader_lexicon to /root/nltk_data...\n"
          ]
        },
        {
          "output_type": "stream",
          "name": "stderr",
          "text": [
            "/usr/local/lib/python3.7/dist-packages/nltk/twitter/__init__.py:20: UserWarning: The twython library has not been installed. Some functionality from the twitter package will not be available.\n",
            "  warnings.warn(\"The twython library has not been installed. \"\n"
          ]
        }
      ]
    },
    {
      "cell_type": "markdown",
      "source": [
        "Input: Whenever I think back"
      ],
      "metadata": {
        "id": "BfgruN629DEZ"
      }
    },
    {
      "cell_type": "code",
      "source": [
        "'''\n",
        "Neutral input seeds:\n",
        "Whenever I think back \n",
        "And so this I know \n",
        "'''\n",
        "\n",
        "seed_text = \"whenever i think back\"\n",
        "next_words = 100\n",
        "\n",
        "def generateLyrics(seed_text, model):\n",
        "  next_words = 100   \n",
        "  for _ in range(next_words):\n",
        "      token_list = tokenizer.texts_to_sequences([seed_text])[0]\n",
        "      token_list = pad_sequences([token_list], maxlen=max_sequence_len-1, padding='pre')\n",
        "      predicted=np.argmax(model.predict(token_list, verbose=0) ,axis=1)\n",
        "\n",
        "      output_word = \"\"\n",
        "      for word, index in tokenizer.word_index.items():\n",
        "          if index == predicted:\n",
        "              output_word = word\n",
        "              # break\n",
        "      seed_text += \" \" + output_word\n",
        "  return seed_text\n",
        "\n",
        "lyrics_list=[]\n",
        "lyrics = generateLyrics(seed_text, model)\n",
        "lyrics_list.append(lyrics)\n",
        "lyrics_list"
      ],
      "metadata": {
        "colab": {
          "base_uri": "https://localhost:8080/"
        },
        "id": "R3K611MbTCLP",
        "outputId": "5aa811cd-1d4e-4258-e0ae-484703a03dac"
      },
      "execution_count": 37,
      "outputs": [
        {
          "output_type": "execute_result",
          "data": {
            "text/plain": [
              "['whenever i think back and i look around us and i am sure im safe i wont be lost from our destiny that we shine on me in us find right on our faces heart to safe and want the sunrise to a sky and a beautiful so set that we are weve always darkest are we have kept kept around us by you see yeah cant you see ooh you join my friends and enemies i guess beginning for you are this land where we belong well make grow were other some words last light is in ready us and i go a']"
            ]
          },
          "metadata": {},
          "execution_count": 37
        }
      ]
    },
    {
      "cell_type": "code",
      "source": [
        "#Save Results to text file\n",
        "outputdf=pd.DataFrame(lyrics_list)\n",
        "outputdf.to_csv(\"whenever i think back.txt\", header=False, index=False, encoding=\"utf-8\")\n",
        "\n",
        "from google.colab import files\n",
        "files.download(\"whenever i think back.txt\")"
      ],
      "metadata": {
        "colab": {
          "base_uri": "https://localhost:8080/",
          "height": 17
        },
        "id": "jFn_s2RDHJIY",
        "outputId": "ac17a0fa-b4e6-4847-ae0c-2617f88af553"
      },
      "execution_count": 38,
      "outputs": [
        {
          "output_type": "display_data",
          "data": {
            "text/plain": [
              "<IPython.core.display.Javascript object>"
            ],
            "application/javascript": [
              "\n",
              "    async function download(id, filename, size) {\n",
              "      if (!google.colab.kernel.accessAllowed) {\n",
              "        return;\n",
              "      }\n",
              "      const div = document.createElement('div');\n",
              "      const label = document.createElement('label');\n",
              "      label.textContent = `Downloading \"${filename}\": `;\n",
              "      div.appendChild(label);\n",
              "      const progress = document.createElement('progress');\n",
              "      progress.max = size;\n",
              "      div.appendChild(progress);\n",
              "      document.body.appendChild(div);\n",
              "\n",
              "      const buffers = [];\n",
              "      let downloaded = 0;\n",
              "\n",
              "      const channel = await google.colab.kernel.comms.open(id);\n",
              "      // Send a message to notify the kernel that we're ready.\n",
              "      channel.send({})\n",
              "\n",
              "      for await (const message of channel.messages) {\n",
              "        // Send a message to notify the kernel that we're ready.\n",
              "        channel.send({})\n",
              "        if (message.buffers) {\n",
              "          for (const buffer of message.buffers) {\n",
              "            buffers.push(buffer);\n",
              "            downloaded += buffer.byteLength;\n",
              "            progress.value = downloaded;\n",
              "          }\n",
              "        }\n",
              "      }\n",
              "      const blob = new Blob(buffers, {type: 'application/binary'});\n",
              "      const a = document.createElement('a');\n",
              "      a.href = window.URL.createObjectURL(blob);\n",
              "      a.download = filename;\n",
              "      div.appendChild(a);\n",
              "      a.click();\n",
              "      div.remove();\n",
              "    }\n",
              "  "
            ]
          },
          "metadata": {}
        },
        {
          "output_type": "display_data",
          "data": {
            "text/plain": [
              "<IPython.core.display.Javascript object>"
            ],
            "application/javascript": [
              "download(\"download_b6940972-2e43-47c4-a026-a013adfb436c\", \"whenever i think back.txt\", 473)"
            ]
          },
          "metadata": {}
        }
      ]
    },
    {
      "cell_type": "code",
      "source": [
        "# create Sentiment object\n",
        "sentiment = Sentiment()\n",
        "\n",
        "train_songs_str = ' '.join([str(elem) for elem in train_songs])\n",
        "lyrics_str = ' '.join([str(elem) for elem in lyrics_list])\n",
        "\n",
        "# clean and tokenize text\n",
        "sentiment.clean_text(\n",
        "    original_text = train_songs_str, \n",
        "    generated_text = lyrics_str, \n",
        "    remove_stopwords=True, \n",
        "    stop_words = set(stopwords.words(\"english\"))\n",
        "    )\n",
        "\n",
        "print(sentiment.original_tokens[:10])\n",
        "print(sentiment.generated_tokens)"
      ],
      "metadata": {
        "colab": {
          "base_uri": "https://localhost:8080/"
        },
        "id": "1YSlIkwGjHjD",
        "outputId": "e3670eaa-54c3-4b84-b3ed-f9be9906d138"
      },
      "execution_count": 44,
      "outputs": [
        {
          "output_type": "stream",
          "name": "stdout",
          "text": [
            "['place', 'common', 'space', 'share', 'dreams', 'one', 'goal', 'chase', 'come', 'join']\n",
            "['whenever', 'think', 'back', 'look', 'around', 'us', 'sure', 'im', 'safe', 'wont', 'lost', 'destiny', 'shine', 'us', 'find', 'right', 'faces', 'heart', 'safe', 'want', 'sunrise', 'sky', 'beautiful', 'set', 'weve', 'always', 'darkest', 'kept', 'kept', 'around', 'us', 'see', 'yeah', 'cant', 'see', 'ooh', 'join', 'friends', 'enemies', 'guess', 'beginning', 'land', 'belong', 'well', 'make', 'grow', 'words', 'last', 'light', 'ready', 'us', 'go']\n"
          ]
        }
      ]
    },
    {
      "cell_type": "code",
      "source": [
        "# this step scores the vader sentiment of the original and generated text \n",
        "sentiment.score_vader_sentiment()  \n",
        "print(sentiment.vader_sentiment_scores)"
      ],
      "metadata": {
        "colab": {
          "base_uri": "https://localhost:8080/"
        },
        "id": "TqgCgQ0L8GVp",
        "outputId": "e6b6947c-4d1a-4e9a-9d3b-732ade4a8052"
      },
      "execution_count": 45,
      "outputs": [
        {
          "output_type": "stream",
          "name": "stdout",
          "text": [
            "{'original': {'neg': 0.028, 'neu': 0.615, 'pos': 0.357, 'compound': 1.0}, 'generated': {'neg': 0.114, 'neu': 0.538, 'pos': 0.347, 'compound': 0.9309}}\n"
          ]
        }
      ]
    },
    {
      "cell_type": "code",
      "source": [
        "from gensim import downloader\n",
        "glove_vectors = downloader.load('glove-wiki-gigaword-100')"
      ],
      "metadata": {
        "colab": {
          "base_uri": "https://localhost:8080/"
        },
        "id": "FLtLuoxU8SgE",
        "outputId": "9c93ac95-50f7-48ef-b8da-8820cfdce5ca"
      },
      "execution_count": 46,
      "outputs": [
        {
          "output_type": "stream",
          "name": "stdout",
          "text": [
            "[==================================================] 100.0% 128.1/128.1MB downloaded\n"
          ]
        }
      ]
    },
    {
      "cell_type": "code",
      "source": [
        "# this step extracts the top n similar word vectors to each theme\n",
        "# and get their average word vector\n",
        "sentiment.get_theme_vector(\n",
        "    sentiment_themes=['patriot', 'love'], \n",
        "    embedding=glove_vectors, \n",
        "    topn=10\n",
        ")\n",
        "print(sentiment.sentiment_themes)\n",
        "print(sentiment.all_theme_vectors)"
      ],
      "metadata": {
        "colab": {
          "base_uri": "https://localhost:8080/"
        },
        "id": "6aDxBmZP8KVO",
        "outputId": "d6ff6c27-2996-4e8f-bed5-fa0423573e85"
      },
      "execution_count": 55,
      "outputs": [
        {
          "output_type": "stream",
          "name": "stdout",
          "text": [
            "['patriot', 'love']\n",
            "{'patriot': array([-0.0932492 ,  0.2737941 ,  0.46496803, -0.1104055 , -0.4727427 ,\n",
            "       -0.3695609 ,  0.59728706, -0.56995434, -0.49318305,  1.152441  ,\n",
            "        0.20548022, -0.665005  , -0.35317498, -0.05724651,  0.29801202,\n",
            "       -0.1887181 ,  0.46808147,  0.29274267, -0.3542009 , -0.390468  ,\n",
            "        0.41724506, -0.3645263 , -0.02154259,  0.15602511,  0.3117882 ,\n",
            "        0.2808048 , -0.40197968,  0.19433399, -0.207225  ,  0.41112152,\n",
            "       -0.40770826,  0.41357788, -0.06724178,  0.2552355 ,  0.6959089 ,\n",
            "       -0.0333486 ,  0.220113  , -0.5254942 ,  0.0344236 ,  0.4185118 ,\n",
            "       -0.3748475 ,  0.12050854,  0.2848566 ,  0.11164705,  0.83036804,\n",
            "       -0.4462192 ,  0.3798733 , -0.0214241 , -0.4064907 , -0.348634  ,\n",
            "        0.475555  ,  0.6571389 ,  0.1032334 ,  0.5260991 ,  0.343434  ,\n",
            "       -0.392311  ,  0.63653004,  0.13372497,  1.32073   ,  0.2860896 ,\n",
            "        0.255205  ,  0.743705  ,  0.62672967,  0.29697728, -0.22062948,\n",
            "        0.33026758,  0.0073686 ,  0.5450598 , -0.41635448,  0.335658  ,\n",
            "        1.026381  , -0.75517714,  0.184622  , -0.376494  , -0.43061963,\n",
            "       -0.1997819 ,  0.12802505,  0.79850197, -0.595882  ,  0.4667886 ,\n",
            "        0.9150127 , -0.22549729, -0.0172057 ,  0.2996399 , -0.5250646 ,\n",
            "        0.33380067,  0.49248928,  0.408641  ,  0.2770772 ,  0.17677101,\n",
            "       -0.22852051,  0.00358221, -0.20904632,  0.0843948 ,  0.01993699,\n",
            "        0.353624  , -0.14882937, -0.007934  ,  0.40092587,  0.06877699],\n",
            "      dtype=float32), 'love': array([ 1.55144900e-01,  4.22814995e-01,  5.53682983e-01, -2.92562783e-01,\n",
            "       -2.09107012e-01,  4.51601028e-01, -1.88781187e-01,  5.29167540e-02,\n",
            "        9.67079028e-02, -2.28520751e-01,  1.39886469e-01,  2.36860543e-01,\n",
            "        1.39918894e-01,  9.53804106e-02, -1.21032998e-01, -3.89761001e-01,\n",
            "        2.08992511e-04,  6.94297016e-01, -3.74373019e-01,  6.31554008e-01,\n",
            "        1.84006095e-02,  2.02473402e-01, -3.11118931e-01, -4.12746817e-01,\n",
            "        3.30896527e-01,  5.87292969e-01, -3.39590520e-01, -7.41219878e-01,\n",
            "        5.29122949e-01, -2.84768701e-01, -2.39235610e-01,  5.48138976e-01,\n",
            "        2.39114001e-01, -2.17230921e-03, -8.72737914e-02,  1.88837022e-01,\n",
            "       -3.18991989e-01,  3.53347987e-01,  3.68835777e-01, -5.84856331e-01,\n",
            "       -1.80441409e-01,  2.50920048e-03,  2.00335100e-01, -5.69147944e-01,\n",
            "       -3.91432971e-01, -1.11322105e-01,  7.28932023e-02, -2.26211697e-01,\n",
            "        1.37173504e-01, -1.00945091e+00, -8.47631469e-02, -5.82788698e-02,\n",
            "        1.16992697e-01,  1.04201996e+00,  1.69657007e-01, -2.21141005e+00,\n",
            "        3.34267110e-01,  4.85253990e-01,  9.92058158e-01,  3.29516202e-01,\n",
            "        2.51741201e-01,  1.27164996e+00, -5.95592082e-01, -3.19542468e-01,\n",
            "        6.95623994e-01,  1.77800179e-01,  8.26390088e-01,  1.57568529e-01,\n",
            "       -1.91646010e-01, -2.98522681e-01,  2.66402185e-01,  2.43779961e-02,\n",
            "        1.29488409e-01, -3.63034606e-01,  1.99261121e-02,  3.77224296e-01,\n",
            "        1.43776089e-01, -3.05426389e-01, -5.42671442e-01, -1.06803298e-01,\n",
            "        7.73557946e-02,  2.44322971e-01, -2.70716816e-01,  1.06203899e-01,\n",
            "       -1.39329505e+00, -1.15173593e-01, -3.83013994e-01, -3.80683124e-01,\n",
            "       -4.60061967e-01, -3.19364399e-01, -1.82895124e-01, -3.08156721e-02,\n",
            "        4.27012265e-01,  5.04265949e-02, -5.18980026e-01, -2.10478872e-01,\n",
            "       -3.40695292e-01, -3.75515401e-01,  1.89499691e-01,  5.92244983e-01],\n",
            "      dtype=float32)}\n"
          ]
        }
      ]
    },
    {
      "cell_type": "code",
      "source": [
        "# this step scores the sentiment of the original and generated text \n",
        "# by comparing them against the theme word vectors using cos sim \n",
        "sentiment.score_word_vector_sentiment()  \n",
        "print(sentiment.word_vector_sentiment_scores)"
      ],
      "metadata": {
        "colab": {
          "base_uri": "https://localhost:8080/"
        },
        "id": "rmQ_VcoP83hz",
        "outputId": "dd2ff847-9ba0-4660-e64e-29cbc00a0953"
      },
      "execution_count": 56,
      "outputs": [
        {
          "output_type": "stream",
          "name": "stdout",
          "text": [
            "{'original': {'patriot': 0.2953495, 'love': 0.9091801}, 'generated': {'patriot': 0.24324052, 'love': 0.85279125}}\n"
          ]
        }
      ]
    },
    {
      "cell_type": "markdown",
      "source": [
        "Input: and so this i know"
      ],
      "metadata": {
        "id": "Opu4yhSK9Id9"
      }
    },
    {
      "cell_type": "code",
      "source": [
        "seed_text = \"and so this i know\"\n",
        "lyrics_list=[]\n",
        "lyrics = generateLyrics(seed_text, model)\n",
        "lyrics_list.append(lyrics)\n",
        "lyrics_list"
      ],
      "metadata": {
        "colab": {
          "base_uri": "https://localhost:8080/"
        },
        "id": "vl2gVfz4C6iJ",
        "outputId": "9ee0c1a5-0f60-492b-f404-e6d4e06e4d1f"
      },
      "execution_count": 57,
      "outputs": [
        {
          "output_type": "execute_result",
          "data": {
            "text/plain": [
              "['and so this i know its singapore sing a song for singapore with every generation theres more to be grateful for so come and sing sing a song for singapore youre my brother youre my sister im thankful for my singapore my singapore singapore i love singapore i love singapore i love singapore singapore i love you i love you and so much more together hand in hand in joy and harmony we will strive each day be the best that we can be growing stronger every day well make it you and me well work together hand in hand in joy and harmony we']"
            ]
          },
          "metadata": {},
          "execution_count": 57
        }
      ]
    },
    {
      "cell_type": "code",
      "source": [
        "#Save Results to text file\n",
        "outputdf=pd.DataFrame(lyrics_list)\n",
        "outputdf.to_csv(\"and so this I know.txt\", header=False, index=False, encoding=\"utf-8\")\n",
        "files.download(\"and so this I know.txt\")"
      ],
      "metadata": {
        "colab": {
          "base_uri": "https://localhost:8080/",
          "height": 17
        },
        "id": "DAseHPiSJUkW",
        "outputId": "cdfe7c53-5d8b-4da0-9375-d18d1f90f119"
      },
      "execution_count": 50,
      "outputs": [
        {
          "output_type": "display_data",
          "data": {
            "text/plain": [
              "<IPython.core.display.Javascript object>"
            ],
            "application/javascript": [
              "\n",
              "    async function download(id, filename, size) {\n",
              "      if (!google.colab.kernel.accessAllowed) {\n",
              "        return;\n",
              "      }\n",
              "      const div = document.createElement('div');\n",
              "      const label = document.createElement('label');\n",
              "      label.textContent = `Downloading \"${filename}\": `;\n",
              "      div.appendChild(label);\n",
              "      const progress = document.createElement('progress');\n",
              "      progress.max = size;\n",
              "      div.appendChild(progress);\n",
              "      document.body.appendChild(div);\n",
              "\n",
              "      const buffers = [];\n",
              "      let downloaded = 0;\n",
              "\n",
              "      const channel = await google.colab.kernel.comms.open(id);\n",
              "      // Send a message to notify the kernel that we're ready.\n",
              "      channel.send({})\n",
              "\n",
              "      for await (const message of channel.messages) {\n",
              "        // Send a message to notify the kernel that we're ready.\n",
              "        channel.send({})\n",
              "        if (message.buffers) {\n",
              "          for (const buffer of message.buffers) {\n",
              "            buffers.push(buffer);\n",
              "            downloaded += buffer.byteLength;\n",
              "            progress.value = downloaded;\n",
              "          }\n",
              "        }\n",
              "      }\n",
              "      const blob = new Blob(buffers, {type: 'application/binary'});\n",
              "      const a = document.createElement('a');\n",
              "      a.href = window.URL.createObjectURL(blob);\n",
              "      a.download = filename;\n",
              "      div.appendChild(a);\n",
              "      a.click();\n",
              "      div.remove();\n",
              "    }\n",
              "  "
            ]
          },
          "metadata": {}
        },
        {
          "output_type": "display_data",
          "data": {
            "text/plain": [
              "<IPython.core.display.Javascript object>"
            ],
            "application/javascript": [
              "download(\"download_3f349b00-7c5c-4f29-acfe-739352e3edf4\", \"and so this I know.txt\", 537)"
            ]
          },
          "metadata": {}
        }
      ]
    },
    {
      "cell_type": "code",
      "source": [
        "# create Sentiment object\n",
        "sentiment = Sentiment()\n",
        "\n",
        "train_songs_str = ' '.join([str(elem) for elem in train_songs])\n",
        "lyrics_str = ' '.join([str(elem) for elem in lyrics_list])\n",
        "\n",
        "# clean and tokenize text\n",
        "sentiment.clean_text(\n",
        "    original_text = train_songs_str, \n",
        "    generated_text = lyrics_str, \n",
        "    remove_stopwords=True, \n",
        "    stop_words = set(stopwords.words(\"english\"))\n",
        "    )\n",
        "\n",
        "print(sentiment.original_tokens[:10])\n",
        "print(sentiment.generated_tokens)"
      ],
      "metadata": {
        "colab": {
          "base_uri": "https://localhost:8080/"
        },
        "outputId": "7cbe4ad9-5daa-44ff-c6ed-7e52c5a1b017",
        "id": "vMPj-SHF937t"
      },
      "execution_count": 58,
      "outputs": [
        {
          "output_type": "stream",
          "name": "stdout",
          "text": [
            "['place', 'common', 'space', 'share', 'dreams', 'one', 'goal', 'chase', 'come', 'join']\n",
            "['know', 'singapore', 'sing', 'song', 'singapore', 'every', 'generation', 'theres', 'grateful', 'come', 'sing', 'sing', 'song', 'singapore', 'youre', 'brother', 'youre', 'sister', 'im', 'thankful', 'singapore', 'singapore', 'singapore', 'love', 'singapore', 'love', 'singapore', 'love', 'singapore', 'singapore', 'love', 'love', 'much', 'together', 'hand', 'hand', 'joy', 'harmony', 'strive', 'day', 'best', 'growing', 'stronger', 'every', 'day', 'well', 'make', 'well', 'work', 'together', 'hand', 'hand', 'joy', 'harmony']\n"
          ]
        }
      ]
    },
    {
      "cell_type": "code",
      "source": [
        "# this step scores the vader sentiment of the original and generated text \n",
        "sentiment.score_vader_sentiment()  \n",
        "print(sentiment.vader_sentiment_scores)"
      ],
      "metadata": {
        "colab": {
          "base_uri": "https://localhost:8080/"
        },
        "outputId": "2ae017b1-a6a2-427d-a1b1-f913e133d3e0",
        "id": "89Q-Z2-K937t"
      },
      "execution_count": 59,
      "outputs": [
        {
          "output_type": "stream",
          "name": "stdout",
          "text": [
            "{'original': {'neg': 0.028, 'neu': 0.615, 'pos': 0.357, 'compound': 1.0}, 'generated': {'neg': 0.0, 'neu': 0.339, 'pos': 0.661, 'compound': 0.9965}}\n"
          ]
        }
      ]
    },
    {
      "cell_type": "code",
      "source": [
        "# this step extracts the top n similar word vectors to each theme\n",
        "# and get their average word vector\n",
        "sentiment.get_theme_vector(\n",
        "    sentiment_themes=['patriot', 'love'], \n",
        "    embedding=glove_vectors, \n",
        "    topn=10\n",
        ")\n",
        "print(sentiment.sentiment_themes)\n",
        "print(sentiment.all_theme_vectors)"
      ],
      "metadata": {
        "colab": {
          "base_uri": "https://localhost:8080/"
        },
        "outputId": "766426cc-4c37-4836-d3ce-c8831587aeb8",
        "id": "hmqmkNjV937u"
      },
      "execution_count": 60,
      "outputs": [
        {
          "output_type": "stream",
          "name": "stdout",
          "text": [
            "['patriot', 'love']\n",
            "{'patriot': array([-0.0932492 ,  0.2737941 ,  0.46496803, -0.1104055 , -0.4727427 ,\n",
            "       -0.3695609 ,  0.59728706, -0.56995434, -0.49318305,  1.152441  ,\n",
            "        0.20548022, -0.665005  , -0.35317498, -0.05724651,  0.29801202,\n",
            "       -0.1887181 ,  0.46808147,  0.29274267, -0.3542009 , -0.390468  ,\n",
            "        0.41724506, -0.3645263 , -0.02154259,  0.15602511,  0.3117882 ,\n",
            "        0.2808048 , -0.40197968,  0.19433399, -0.207225  ,  0.41112152,\n",
            "       -0.40770826,  0.41357788, -0.06724178,  0.2552355 ,  0.6959089 ,\n",
            "       -0.0333486 ,  0.220113  , -0.5254942 ,  0.0344236 ,  0.4185118 ,\n",
            "       -0.3748475 ,  0.12050854,  0.2848566 ,  0.11164705,  0.83036804,\n",
            "       -0.4462192 ,  0.3798733 , -0.0214241 , -0.4064907 , -0.348634  ,\n",
            "        0.475555  ,  0.6571389 ,  0.1032334 ,  0.5260991 ,  0.343434  ,\n",
            "       -0.392311  ,  0.63653004,  0.13372497,  1.32073   ,  0.2860896 ,\n",
            "        0.255205  ,  0.743705  ,  0.62672967,  0.29697728, -0.22062948,\n",
            "        0.33026758,  0.0073686 ,  0.5450598 , -0.41635448,  0.335658  ,\n",
            "        1.026381  , -0.75517714,  0.184622  , -0.376494  , -0.43061963,\n",
            "       -0.1997819 ,  0.12802505,  0.79850197, -0.595882  ,  0.4667886 ,\n",
            "        0.9150127 , -0.22549729, -0.0172057 ,  0.2996399 , -0.5250646 ,\n",
            "        0.33380067,  0.49248928,  0.408641  ,  0.2770772 ,  0.17677101,\n",
            "       -0.22852051,  0.00358221, -0.20904632,  0.0843948 ,  0.01993699,\n",
            "        0.353624  , -0.14882937, -0.007934  ,  0.40092587,  0.06877699],\n",
            "      dtype=float32), 'love': array([ 1.55144900e-01,  4.22814995e-01,  5.53682983e-01, -2.92562783e-01,\n",
            "       -2.09107012e-01,  4.51601028e-01, -1.88781187e-01,  5.29167540e-02,\n",
            "        9.67079028e-02, -2.28520751e-01,  1.39886469e-01,  2.36860543e-01,\n",
            "        1.39918894e-01,  9.53804106e-02, -1.21032998e-01, -3.89761001e-01,\n",
            "        2.08992511e-04,  6.94297016e-01, -3.74373019e-01,  6.31554008e-01,\n",
            "        1.84006095e-02,  2.02473402e-01, -3.11118931e-01, -4.12746817e-01,\n",
            "        3.30896527e-01,  5.87292969e-01, -3.39590520e-01, -7.41219878e-01,\n",
            "        5.29122949e-01, -2.84768701e-01, -2.39235610e-01,  5.48138976e-01,\n",
            "        2.39114001e-01, -2.17230921e-03, -8.72737914e-02,  1.88837022e-01,\n",
            "       -3.18991989e-01,  3.53347987e-01,  3.68835777e-01, -5.84856331e-01,\n",
            "       -1.80441409e-01,  2.50920048e-03,  2.00335100e-01, -5.69147944e-01,\n",
            "       -3.91432971e-01, -1.11322105e-01,  7.28932023e-02, -2.26211697e-01,\n",
            "        1.37173504e-01, -1.00945091e+00, -8.47631469e-02, -5.82788698e-02,\n",
            "        1.16992697e-01,  1.04201996e+00,  1.69657007e-01, -2.21141005e+00,\n",
            "        3.34267110e-01,  4.85253990e-01,  9.92058158e-01,  3.29516202e-01,\n",
            "        2.51741201e-01,  1.27164996e+00, -5.95592082e-01, -3.19542468e-01,\n",
            "        6.95623994e-01,  1.77800179e-01,  8.26390088e-01,  1.57568529e-01,\n",
            "       -1.91646010e-01, -2.98522681e-01,  2.66402185e-01,  2.43779961e-02,\n",
            "        1.29488409e-01, -3.63034606e-01,  1.99261121e-02,  3.77224296e-01,\n",
            "        1.43776089e-01, -3.05426389e-01, -5.42671442e-01, -1.06803298e-01,\n",
            "        7.73557946e-02,  2.44322971e-01, -2.70716816e-01,  1.06203899e-01,\n",
            "       -1.39329505e+00, -1.15173593e-01, -3.83013994e-01, -3.80683124e-01,\n",
            "       -4.60061967e-01, -3.19364399e-01, -1.82895124e-01, -3.08156721e-02,\n",
            "        4.27012265e-01,  5.04265949e-02, -5.18980026e-01, -2.10478872e-01,\n",
            "       -3.40695292e-01, -3.75515401e-01,  1.89499691e-01,  5.92244983e-01],\n",
            "      dtype=float32)}\n"
          ]
        }
      ]
    },
    {
      "cell_type": "code",
      "source": [
        "# this step scores the sentiment of the original and generated text \n",
        "# by comparing them against the theme word vectors using cos sim \n",
        "sentiment.score_word_vector_sentiment()  \n",
        "print(sentiment.word_vector_sentiment_scores)"
      ],
      "metadata": {
        "colab": {
          "base_uri": "https://localhost:8080/"
        },
        "outputId": "4a1dc180-9ff8-4d7c-ea99-c168101fd23d",
        "id": "OGDeeblB937u"
      },
      "execution_count": 61,
      "outputs": [
        {
          "output_type": "stream",
          "name": "stdout",
          "text": [
            "{'original': {'patriot': 0.2953495, 'love': 0.9091801}, 'generated': {'patriot': 0.24324052, 'love': 0.85279125}}\n"
          ]
        }
      ]
    },
    {
      "cell_type": "markdown",
      "source": [
        "Input: I am tired of being what you want me to be"
      ],
      "metadata": {
        "id": "CsOs0BDp954U"
      }
    },
    {
      "cell_type": "code",
      "source": [
        "'''\n",
        "Negative input seeds:\n",
        "I am tired of being what you want me to be \n",
        "Feeling so faithless, lost under the surface \n",
        "'''\n",
        "\n",
        "seed_text = \"i am tired of being what you want me to be\"\n",
        "lyrics_list=[]\n",
        "lyrics = generateLyrics(seed_text, model)\n",
        "lyrics_list.append(lyrics)\n",
        "lyrics_list"
      ],
      "metadata": {
        "colab": {
          "base_uri": "https://localhost:8080/"
        },
        "id": "kze_WrQpE4X1",
        "outputId": "83dbf2ad-a946-45ed-ab88-37b84fc1c00e"
      },
      "execution_count": 62,
      "outputs": [
        {
          "output_type": "execute_result",
          "data": {
            "text/plain": [
              "['i am tired of being what you want me to be so ways and a faraway isle turning darkness into light rain the sour light rain still wonderful youre i fall its has singing things we can achieve together we can be a part for you and me to show our part for singapore in me i love you know made our childhood lies my homeland i will share a part for here and all a goal to reach out for our best will be happiness of who and you just me nothing like i think of the best know never built do do you and i see a place to']"
            ]
          },
          "metadata": {},
          "execution_count": 62
        }
      ]
    },
    {
      "cell_type": "code",
      "source": [
        "#Save Results to text file\n",
        "outputdf=pd.DataFrame(lyrics_list)\n",
        "outputdf.to_csv(\"i am tired of being what you want me to be.txt\", header=False, index=False, encoding=\"utf-8\")\n",
        "files.download(\"i am tired of being what you want me to be.txt\")"
      ],
      "metadata": {
        "colab": {
          "base_uri": "https://localhost:8080/",
          "height": 17
        },
        "id": "oo8jPZNeRRym",
        "outputId": "9edc4926-edbe-4fff-e611-0f2adef82c6f"
      },
      "execution_count": 63,
      "outputs": [
        {
          "output_type": "display_data",
          "data": {
            "text/plain": [
              "<IPython.core.display.Javascript object>"
            ],
            "application/javascript": [
              "\n",
              "    async function download(id, filename, size) {\n",
              "      if (!google.colab.kernel.accessAllowed) {\n",
              "        return;\n",
              "      }\n",
              "      const div = document.createElement('div');\n",
              "      const label = document.createElement('label');\n",
              "      label.textContent = `Downloading \"${filename}\": `;\n",
              "      div.appendChild(label);\n",
              "      const progress = document.createElement('progress');\n",
              "      progress.max = size;\n",
              "      div.appendChild(progress);\n",
              "      document.body.appendChild(div);\n",
              "\n",
              "      const buffers = [];\n",
              "      let downloaded = 0;\n",
              "\n",
              "      const channel = await google.colab.kernel.comms.open(id);\n",
              "      // Send a message to notify the kernel that we're ready.\n",
              "      channel.send({})\n",
              "\n",
              "      for await (const message of channel.messages) {\n",
              "        // Send a message to notify the kernel that we're ready.\n",
              "        channel.send({})\n",
              "        if (message.buffers) {\n",
              "          for (const buffer of message.buffers) {\n",
              "            buffers.push(buffer);\n",
              "            downloaded += buffer.byteLength;\n",
              "            progress.value = downloaded;\n",
              "          }\n",
              "        }\n",
              "      }\n",
              "      const blob = new Blob(buffers, {type: 'application/binary'});\n",
              "      const a = document.createElement('a');\n",
              "      a.href = window.URL.createObjectURL(blob);\n",
              "      a.download = filename;\n",
              "      div.appendChild(a);\n",
              "      a.click();\n",
              "      div.remove();\n",
              "    }\n",
              "  "
            ]
          },
          "metadata": {}
        },
        {
          "output_type": "display_data",
          "data": {
            "text/plain": [
              "<IPython.core.display.Javascript object>"
            ],
            "application/javascript": [
              "download(\"download_33df5c37-03c2-464d-8f27-172faa96b60d\", \"i am tired of being what you want me to be.txt\", 512)"
            ]
          },
          "metadata": {}
        }
      ]
    },
    {
      "cell_type": "code",
      "source": [
        "# create Sentiment object\n",
        "sentiment = Sentiment()\n",
        "\n",
        "train_songs_str = ' '.join([str(elem) for elem in train_songs])\n",
        "lyrics_str = ' '.join([str(elem) for elem in lyrics_list])\n",
        "\n",
        "# clean and tokenize text\n",
        "sentiment.clean_text(\n",
        "    original_text = train_songs_str, \n",
        "    generated_text = lyrics_str, \n",
        "    remove_stopwords=True, \n",
        "    stop_words = set(stopwords.words(\"english\"))\n",
        "    )\n",
        "\n",
        "print(sentiment.original_tokens[:10])\n",
        "print(sentiment.generated_tokens)"
      ],
      "metadata": {
        "colab": {
          "base_uri": "https://localhost:8080/"
        },
        "outputId": "1bb619bc-0fc6-4c77-f27d-caf274fea3b9",
        "id": "AvFe5yn5BIdM"
      },
      "execution_count": 64,
      "outputs": [
        {
          "output_type": "stream",
          "name": "stdout",
          "text": [
            "['place', 'common', 'space', 'share', 'dreams', 'one', 'goal', 'chase', 'come', 'join']\n",
            "['tired', 'want', 'ways', 'faraway', 'isle', 'turning', 'darkness', 'light', 'rain', 'sour', 'light', 'rain', 'still', 'wonderful', 'youre', 'fall', 'singing', 'things', 'achieve', 'together', 'part', 'show', 'part', 'singapore', 'love', 'know', 'made', 'childhood', 'lies', 'homeland', 'share', 'part', 'goal', 'reach', 'best', 'happiness', 'nothing', 'like', 'think', 'best', 'know', 'never', 'built', 'see', 'place']\n"
          ]
        }
      ]
    },
    {
      "cell_type": "code",
      "source": [
        "# this step scores the vader sentiment of the original and generated text \n",
        "sentiment.score_vader_sentiment()  \n",
        "print(sentiment.vader_sentiment_scores)"
      ],
      "metadata": {
        "colab": {
          "base_uri": "https://localhost:8080/"
        },
        "outputId": "897a678f-1bab-41cb-ad94-6c8bf2176e60",
        "id": "YRTDXHJjBIdN"
      },
      "execution_count": 65,
      "outputs": [
        {
          "output_type": "stream",
          "name": "stdout",
          "text": [
            "{'original': {'neg': 0.028, 'neu': 0.615, 'pos': 0.357, 'compound': 1.0}, 'generated': {'neg': 0.146, 'neu': 0.49, 'pos': 0.364, 'compound': 0.9402}}\n"
          ]
        }
      ]
    },
    {
      "cell_type": "code",
      "source": [
        "# this step extracts the top n similar word vectors to each theme\n",
        "# and get their average word vector\n",
        "sentiment.get_theme_vector(\n",
        "    sentiment_themes=['patriot', 'love'], \n",
        "    embedding=glove_vectors, \n",
        "    topn=10\n",
        ")\n",
        "print(sentiment.sentiment_themes)\n",
        "print(sentiment.all_theme_vectors)"
      ],
      "metadata": {
        "colab": {
          "base_uri": "https://localhost:8080/"
        },
        "outputId": "c290a8e0-10c4-427d-daab-60972d0c67e5",
        "id": "hf5DQC15BIdN"
      },
      "execution_count": 66,
      "outputs": [
        {
          "output_type": "stream",
          "name": "stdout",
          "text": [
            "['patriot', 'love']\n",
            "{'patriot': array([-0.0932492 ,  0.2737941 ,  0.46496803, -0.1104055 , -0.4727427 ,\n",
            "       -0.3695609 ,  0.59728706, -0.56995434, -0.49318305,  1.152441  ,\n",
            "        0.20548022, -0.665005  , -0.35317498, -0.05724651,  0.29801202,\n",
            "       -0.1887181 ,  0.46808147,  0.29274267, -0.3542009 , -0.390468  ,\n",
            "        0.41724506, -0.3645263 , -0.02154259,  0.15602511,  0.3117882 ,\n",
            "        0.2808048 , -0.40197968,  0.19433399, -0.207225  ,  0.41112152,\n",
            "       -0.40770826,  0.41357788, -0.06724178,  0.2552355 ,  0.6959089 ,\n",
            "       -0.0333486 ,  0.220113  , -0.5254942 ,  0.0344236 ,  0.4185118 ,\n",
            "       -0.3748475 ,  0.12050854,  0.2848566 ,  0.11164705,  0.83036804,\n",
            "       -0.4462192 ,  0.3798733 , -0.0214241 , -0.4064907 , -0.348634  ,\n",
            "        0.475555  ,  0.6571389 ,  0.1032334 ,  0.5260991 ,  0.343434  ,\n",
            "       -0.392311  ,  0.63653004,  0.13372497,  1.32073   ,  0.2860896 ,\n",
            "        0.255205  ,  0.743705  ,  0.62672967,  0.29697728, -0.22062948,\n",
            "        0.33026758,  0.0073686 ,  0.5450598 , -0.41635448,  0.335658  ,\n",
            "        1.026381  , -0.75517714,  0.184622  , -0.376494  , -0.43061963,\n",
            "       -0.1997819 ,  0.12802505,  0.79850197, -0.595882  ,  0.4667886 ,\n",
            "        0.9150127 , -0.22549729, -0.0172057 ,  0.2996399 , -0.5250646 ,\n",
            "        0.33380067,  0.49248928,  0.408641  ,  0.2770772 ,  0.17677101,\n",
            "       -0.22852051,  0.00358221, -0.20904632,  0.0843948 ,  0.01993699,\n",
            "        0.353624  , -0.14882937, -0.007934  ,  0.40092587,  0.06877699],\n",
            "      dtype=float32), 'love': array([ 1.55144900e-01,  4.22814995e-01,  5.53682983e-01, -2.92562783e-01,\n",
            "       -2.09107012e-01,  4.51601028e-01, -1.88781187e-01,  5.29167540e-02,\n",
            "        9.67079028e-02, -2.28520751e-01,  1.39886469e-01,  2.36860543e-01,\n",
            "        1.39918894e-01,  9.53804106e-02, -1.21032998e-01, -3.89761001e-01,\n",
            "        2.08992511e-04,  6.94297016e-01, -3.74373019e-01,  6.31554008e-01,\n",
            "        1.84006095e-02,  2.02473402e-01, -3.11118931e-01, -4.12746817e-01,\n",
            "        3.30896527e-01,  5.87292969e-01, -3.39590520e-01, -7.41219878e-01,\n",
            "        5.29122949e-01, -2.84768701e-01, -2.39235610e-01,  5.48138976e-01,\n",
            "        2.39114001e-01, -2.17230921e-03, -8.72737914e-02,  1.88837022e-01,\n",
            "       -3.18991989e-01,  3.53347987e-01,  3.68835777e-01, -5.84856331e-01,\n",
            "       -1.80441409e-01,  2.50920048e-03,  2.00335100e-01, -5.69147944e-01,\n",
            "       -3.91432971e-01, -1.11322105e-01,  7.28932023e-02, -2.26211697e-01,\n",
            "        1.37173504e-01, -1.00945091e+00, -8.47631469e-02, -5.82788698e-02,\n",
            "        1.16992697e-01,  1.04201996e+00,  1.69657007e-01, -2.21141005e+00,\n",
            "        3.34267110e-01,  4.85253990e-01,  9.92058158e-01,  3.29516202e-01,\n",
            "        2.51741201e-01,  1.27164996e+00, -5.95592082e-01, -3.19542468e-01,\n",
            "        6.95623994e-01,  1.77800179e-01,  8.26390088e-01,  1.57568529e-01,\n",
            "       -1.91646010e-01, -2.98522681e-01,  2.66402185e-01,  2.43779961e-02,\n",
            "        1.29488409e-01, -3.63034606e-01,  1.99261121e-02,  3.77224296e-01,\n",
            "        1.43776089e-01, -3.05426389e-01, -5.42671442e-01, -1.06803298e-01,\n",
            "        7.73557946e-02,  2.44322971e-01, -2.70716816e-01,  1.06203899e-01,\n",
            "       -1.39329505e+00, -1.15173593e-01, -3.83013994e-01, -3.80683124e-01,\n",
            "       -4.60061967e-01, -3.19364399e-01, -1.82895124e-01, -3.08156721e-02,\n",
            "        4.27012265e-01,  5.04265949e-02, -5.18980026e-01, -2.10478872e-01,\n",
            "       -3.40695292e-01, -3.75515401e-01,  1.89499691e-01,  5.92244983e-01],\n",
            "      dtype=float32)}\n"
          ]
        }
      ]
    },
    {
      "cell_type": "code",
      "source": [
        "# this step scores the sentiment of the original and generated text \n",
        "# by comparing them against the theme word vectors using cos sim \n",
        "sentiment.score_word_vector_sentiment()  \n",
        "print(sentiment.word_vector_sentiment_scores)"
      ],
      "metadata": {
        "colab": {
          "base_uri": "https://localhost:8080/"
        },
        "outputId": "3b8ae7d0-3514-4b85-866e-637e72df7a44",
        "id": "EVtQpI_IBIdO"
      },
      "execution_count": 67,
      "outputs": [
        {
          "output_type": "stream",
          "name": "stdout",
          "text": [
            "{'original': {'patriot': 0.2953495, 'love': 0.9091801}, 'generated': {'patriot': 0.2918983, 'love': 0.9043216}}\n"
          ]
        }
      ]
    },
    {
      "cell_type": "markdown",
      "source": [
        "Input: feeling so faithless lost under the surface"
      ],
      "metadata": {
        "id": "hAqvvwRfBJDb"
      }
    },
    {
      "cell_type": "code",
      "source": [
        "seed_text = \"feeling so faithless lost under the surface\"\n",
        "lyrics_list=[]\n",
        "lyrics = generateLyrics(seed_text, model)\n",
        "lyrics_list.append(lyrics)\n",
        "lyrics_list"
      ],
      "metadata": {
        "colab": {
          "base_uri": "https://localhost:8080/"
        },
        "id": "WeMZLO0PFJ6z",
        "outputId": "99fe7a0e-6d18-4971-8fca-5b36b6ed18da"
      },
      "execution_count": 70,
      "outputs": [
        {
          "output_type": "execute_result",
          "data": {
            "text/plain": [
              "['feeling so faithless lost under the surface years they been longing to see this land that well share a special dream together we feel the singapore heartbeat we can reach for our dreams come there moments of us and hold a nation much for the beautiful feeling rain the beautiful signs to do it believe what do you see what do you see it like us come on them on a dream together we can make the change and an unforgettable sight to see the sunrise on a faraway isle turning darkness into light rain the sour wall in my hour experienced sweet and sour but thats']"
            ]
          },
          "metadata": {},
          "execution_count": 70
        }
      ]
    },
    {
      "cell_type": "code",
      "source": [
        "#Save Results to text file\n",
        "outputdf=pd.DataFrame(lyrics_list)\n",
        "outputdf.to_csv(\"feeling so faithless lost under the surface.txt\", header=False, index=False, encoding=\"utf-8\")\n",
        "files.download(\"feeling so faithless lost under the surface.txt\")"
      ],
      "metadata": {
        "colab": {
          "base_uri": "https://localhost:8080/",
          "height": 17
        },
        "id": "gyTeFltaRhTf",
        "outputId": "c9b64c8e-8b5e-4d9d-f2a0-a03edb129166"
      },
      "execution_count": 71,
      "outputs": [
        {
          "output_type": "display_data",
          "data": {
            "text/plain": [
              "<IPython.core.display.Javascript object>"
            ],
            "application/javascript": [
              "\n",
              "    async function download(id, filename, size) {\n",
              "      if (!google.colab.kernel.accessAllowed) {\n",
              "        return;\n",
              "      }\n",
              "      const div = document.createElement('div');\n",
              "      const label = document.createElement('label');\n",
              "      label.textContent = `Downloading \"${filename}\": `;\n",
              "      div.appendChild(label);\n",
              "      const progress = document.createElement('progress');\n",
              "      progress.max = size;\n",
              "      div.appendChild(progress);\n",
              "      document.body.appendChild(div);\n",
              "\n",
              "      const buffers = [];\n",
              "      let downloaded = 0;\n",
              "\n",
              "      const channel = await google.colab.kernel.comms.open(id);\n",
              "      // Send a message to notify the kernel that we're ready.\n",
              "      channel.send({})\n",
              "\n",
              "      for await (const message of channel.messages) {\n",
              "        // Send a message to notify the kernel that we're ready.\n",
              "        channel.send({})\n",
              "        if (message.buffers) {\n",
              "          for (const buffer of message.buffers) {\n",
              "            buffers.push(buffer);\n",
              "            downloaded += buffer.byteLength;\n",
              "            progress.value = downloaded;\n",
              "          }\n",
              "        }\n",
              "      }\n",
              "      const blob = new Blob(buffers, {type: 'application/binary'});\n",
              "      const a = document.createElement('a');\n",
              "      a.href = window.URL.createObjectURL(blob);\n",
              "      a.download = filename;\n",
              "      div.appendChild(a);\n",
              "      a.click();\n",
              "      div.remove();\n",
              "    }\n",
              "  "
            ]
          },
          "metadata": {}
        },
        {
          "output_type": "display_data",
          "data": {
            "text/plain": [
              "<IPython.core.display.Javascript object>"
            ],
            "application/javascript": [
              "download(\"download_92b54a40-6f63-4f0f-b6ac-e6ab192f95b8\", \"feeling so faithless lost under the surface.txt\", 560)"
            ]
          },
          "metadata": {}
        }
      ]
    },
    {
      "cell_type": "code",
      "source": [
        "# create Sentiment object\n",
        "sentiment = Sentiment()\n",
        "\n",
        "train_songs_str = ' '.join([str(elem) for elem in train_songs])\n",
        "lyrics_str = ' '.join([str(elem) for elem in lyrics_list])\n",
        "\n",
        "# clean and tokenize text\n",
        "sentiment.clean_text(\n",
        "    original_text = train_songs_str, \n",
        "    generated_text = lyrics_str, \n",
        "    remove_stopwords=True, \n",
        "    stop_words = set(stopwords.words(\"english\"))\n",
        "    )\n",
        "\n",
        "print(sentiment.original_tokens[:10])\n",
        "print(sentiment.generated_tokens)"
      ],
      "metadata": {
        "colab": {
          "base_uri": "https://localhost:8080/"
        },
        "outputId": "6eb3dac6-d00b-4205-9a6a-e1bc6bac913e",
        "id": "_VAXfLmLB5x1"
      },
      "execution_count": 72,
      "outputs": [
        {
          "output_type": "stream",
          "name": "stdout",
          "text": [
            "['place', 'common', 'space', 'share', 'dreams', 'one', 'goal', 'chase', 'come', 'join']\n",
            "['feeling', 'faithless', 'lost', 'surface', 'years', 'longing', 'see', 'land', 'well', 'share', 'special', 'dream', 'together', 'feel', 'singapore', 'heartbeat', 'reach', 'dreams', 'come', 'moments', 'us', 'hold', 'nation', 'much', 'beautiful', 'feeling', 'rain', 'beautiful', 'signs', 'believe', 'see', 'see', 'like', 'us', 'come', 'dream', 'together', 'make', 'change', 'unforgettable', 'sight', 'see', 'sunrise', 'faraway', 'isle', 'turning', 'darkness', 'light', 'rain', 'sour', 'wall', 'hour', 'experienced', 'sweet', 'sour', 'thats']\n"
          ]
        }
      ]
    },
    {
      "cell_type": "code",
      "source": [
        "# this step scores the vader sentiment of the original and generated text \n",
        "sentiment.score_vader_sentiment()  \n",
        "print(sentiment.vader_sentiment_scores)"
      ],
      "metadata": {
        "colab": {
          "base_uri": "https://localhost:8080/"
        },
        "outputId": "60bcfed4-9452-49d5-c856-23369e52bb66",
        "id": "OWZPuXB_B5x2"
      },
      "execution_count": 73,
      "outputs": [
        {
          "output_type": "stream",
          "name": "stdout",
          "text": [
            "{'original': {'neg': 0.028, 'neu': 0.615, 'pos': 0.357, 'compound': 1.0}, 'generated': {'neg': 0.095, 'neu': 0.503, 'pos': 0.401, 'compound': 0.967}}\n"
          ]
        }
      ]
    },
    {
      "cell_type": "code",
      "source": [
        "# this step extracts the top n similar word vectors to each theme\n",
        "# and get their average word vector\n",
        "sentiment.get_theme_vector(\n",
        "    sentiment_themes=['patriot', 'love'], \n",
        "    embedding=glove_vectors, \n",
        "    topn=10\n",
        ")\n",
        "print(sentiment.sentiment_themes)\n",
        "print(sentiment.all_theme_vectors)"
      ],
      "metadata": {
        "colab": {
          "base_uri": "https://localhost:8080/"
        },
        "outputId": "83c8d69d-5d88-49fa-8b1d-7b355e9702e2",
        "id": "L5doj6sTB5x2"
      },
      "execution_count": 74,
      "outputs": [
        {
          "output_type": "stream",
          "name": "stdout",
          "text": [
            "['patriot', 'love']\n",
            "{'patriot': array([-0.0932492 ,  0.2737941 ,  0.46496803, -0.1104055 , -0.4727427 ,\n",
            "       -0.3695609 ,  0.59728706, -0.56995434, -0.49318305,  1.152441  ,\n",
            "        0.20548022, -0.665005  , -0.35317498, -0.05724651,  0.29801202,\n",
            "       -0.1887181 ,  0.46808147,  0.29274267, -0.3542009 , -0.390468  ,\n",
            "        0.41724506, -0.3645263 , -0.02154259,  0.15602511,  0.3117882 ,\n",
            "        0.2808048 , -0.40197968,  0.19433399, -0.207225  ,  0.41112152,\n",
            "       -0.40770826,  0.41357788, -0.06724178,  0.2552355 ,  0.6959089 ,\n",
            "       -0.0333486 ,  0.220113  , -0.5254942 ,  0.0344236 ,  0.4185118 ,\n",
            "       -0.3748475 ,  0.12050854,  0.2848566 ,  0.11164705,  0.83036804,\n",
            "       -0.4462192 ,  0.3798733 , -0.0214241 , -0.4064907 , -0.348634  ,\n",
            "        0.475555  ,  0.6571389 ,  0.1032334 ,  0.5260991 ,  0.343434  ,\n",
            "       -0.392311  ,  0.63653004,  0.13372497,  1.32073   ,  0.2860896 ,\n",
            "        0.255205  ,  0.743705  ,  0.62672967,  0.29697728, -0.22062948,\n",
            "        0.33026758,  0.0073686 ,  0.5450598 , -0.41635448,  0.335658  ,\n",
            "        1.026381  , -0.75517714,  0.184622  , -0.376494  , -0.43061963,\n",
            "       -0.1997819 ,  0.12802505,  0.79850197, -0.595882  ,  0.4667886 ,\n",
            "        0.9150127 , -0.22549729, -0.0172057 ,  0.2996399 , -0.5250646 ,\n",
            "        0.33380067,  0.49248928,  0.408641  ,  0.2770772 ,  0.17677101,\n",
            "       -0.22852051,  0.00358221, -0.20904632,  0.0843948 ,  0.01993699,\n",
            "        0.353624  , -0.14882937, -0.007934  ,  0.40092587,  0.06877699],\n",
            "      dtype=float32), 'love': array([ 1.55144900e-01,  4.22814995e-01,  5.53682983e-01, -2.92562783e-01,\n",
            "       -2.09107012e-01,  4.51601028e-01, -1.88781187e-01,  5.29167540e-02,\n",
            "        9.67079028e-02, -2.28520751e-01,  1.39886469e-01,  2.36860543e-01,\n",
            "        1.39918894e-01,  9.53804106e-02, -1.21032998e-01, -3.89761001e-01,\n",
            "        2.08992511e-04,  6.94297016e-01, -3.74373019e-01,  6.31554008e-01,\n",
            "        1.84006095e-02,  2.02473402e-01, -3.11118931e-01, -4.12746817e-01,\n",
            "        3.30896527e-01,  5.87292969e-01, -3.39590520e-01, -7.41219878e-01,\n",
            "        5.29122949e-01, -2.84768701e-01, -2.39235610e-01,  5.48138976e-01,\n",
            "        2.39114001e-01, -2.17230921e-03, -8.72737914e-02,  1.88837022e-01,\n",
            "       -3.18991989e-01,  3.53347987e-01,  3.68835777e-01, -5.84856331e-01,\n",
            "       -1.80441409e-01,  2.50920048e-03,  2.00335100e-01, -5.69147944e-01,\n",
            "       -3.91432971e-01, -1.11322105e-01,  7.28932023e-02, -2.26211697e-01,\n",
            "        1.37173504e-01, -1.00945091e+00, -8.47631469e-02, -5.82788698e-02,\n",
            "        1.16992697e-01,  1.04201996e+00,  1.69657007e-01, -2.21141005e+00,\n",
            "        3.34267110e-01,  4.85253990e-01,  9.92058158e-01,  3.29516202e-01,\n",
            "        2.51741201e-01,  1.27164996e+00, -5.95592082e-01, -3.19542468e-01,\n",
            "        6.95623994e-01,  1.77800179e-01,  8.26390088e-01,  1.57568529e-01,\n",
            "       -1.91646010e-01, -2.98522681e-01,  2.66402185e-01,  2.43779961e-02,\n",
            "        1.29488409e-01, -3.63034606e-01,  1.99261121e-02,  3.77224296e-01,\n",
            "        1.43776089e-01, -3.05426389e-01, -5.42671442e-01, -1.06803298e-01,\n",
            "        7.73557946e-02,  2.44322971e-01, -2.70716816e-01,  1.06203899e-01,\n",
            "       -1.39329505e+00, -1.15173593e-01, -3.83013994e-01, -3.80683124e-01,\n",
            "       -4.60061967e-01, -3.19364399e-01, -1.82895124e-01, -3.08156721e-02,\n",
            "        4.27012265e-01,  5.04265949e-02, -5.18980026e-01, -2.10478872e-01,\n",
            "       -3.40695292e-01, -3.75515401e-01,  1.89499691e-01,  5.92244983e-01],\n",
            "      dtype=float32)}\n"
          ]
        }
      ]
    },
    {
      "cell_type": "code",
      "source": [
        "# this step scores the sentiment of the original and generated text \n",
        "# by comparing them against the theme word vectors using cos sim \n",
        "sentiment.score_word_vector_sentiment()  \n",
        "print(sentiment.word_vector_sentiment_scores)"
      ],
      "metadata": {
        "colab": {
          "base_uri": "https://localhost:8080/"
        },
        "outputId": "a29b2fd2-8bdc-4ed2-a006-7c7d63801179",
        "id": "v6zXTFO3B5x3"
      },
      "execution_count": 75,
      "outputs": [
        {
          "output_type": "stream",
          "name": "stdout",
          "text": [
            "{'original': {'patriot': 0.2953495, 'love': 0.9091801}, 'generated': {'patriot': 0.27498844, 'love': 0.88918775}}\n"
          ]
        }
      ]
    },
    {
      "cell_type": "markdown",
      "source": [
        "Input: relight our fire we will find our way"
      ],
      "metadata": {
        "id": "NLI0sPETB6VE"
      }
    },
    {
      "cell_type": "code",
      "source": [
        "'''\n",
        "Positive input seeds:\n",
        "Relight our fire, we will find our way \n",
        "We will rise stronger together  \n",
        "'''\n",
        "seed_text = \"relight our fire we will find our way\"\n",
        "lyrics_list=[]\n",
        "lyrics = generateLyrics(seed_text, model)\n",
        "lyrics_list.append(lyrics)\n",
        "lyrics_list"
      ],
      "metadata": {
        "colab": {
          "base_uri": "https://localhost:8080/"
        },
        "id": "hBrLAZhnFZUY",
        "outputId": "e6752bb1-e082-4718-9b89-e9149470576d"
      },
      "execution_count": 76,
      "outputs": [
        {
          "output_type": "execute_result",
          "data": {
            "text/plain": [
              "['relight our fire we will find our way on the great colours lighting up the sky we are the ones world where i am i will can achieve together we can be a part for me and all to keep my dreams and many moments of who and mirth where ill find it we go through a great wall in our way on a thousand colours lighting up the sky we are the ones world where i am i will can achieve together we can be a part for me and all to keep my dreams and many moments of who and mirth where ill find it we']"
            ]
          },
          "metadata": {},
          "execution_count": 76
        }
      ]
    },
    {
      "cell_type": "code",
      "source": [
        "#Save Results to text file\n",
        "outputdf=pd.DataFrame(lyrics_list)\n",
        "outputdf.to_csv(\"relight our fire we will find our way.txt\", header=False, index=False, encoding=\"utf-8\")\n",
        "files.download(\"relight our fire we will find our way.txt\")"
      ],
      "metadata": {
        "colab": {
          "base_uri": "https://localhost:8080/",
          "height": 17
        },
        "id": "DDo8VK7LRvvP",
        "outputId": "4738107b-b4ff-4402-d386-96e572f85fdd"
      },
      "execution_count": 77,
      "outputs": [
        {
          "output_type": "display_data",
          "data": {
            "text/plain": [
              "<IPython.core.display.Javascript object>"
            ],
            "application/javascript": [
              "\n",
              "    async function download(id, filename, size) {\n",
              "      if (!google.colab.kernel.accessAllowed) {\n",
              "        return;\n",
              "      }\n",
              "      const div = document.createElement('div');\n",
              "      const label = document.createElement('label');\n",
              "      label.textContent = `Downloading \"${filename}\": `;\n",
              "      div.appendChild(label);\n",
              "      const progress = document.createElement('progress');\n",
              "      progress.max = size;\n",
              "      div.appendChild(progress);\n",
              "      document.body.appendChild(div);\n",
              "\n",
              "      const buffers = [];\n",
              "      let downloaded = 0;\n",
              "\n",
              "      const channel = await google.colab.kernel.comms.open(id);\n",
              "      // Send a message to notify the kernel that we're ready.\n",
              "      channel.send({})\n",
              "\n",
              "      for await (const message of channel.messages) {\n",
              "        // Send a message to notify the kernel that we're ready.\n",
              "        channel.send({})\n",
              "        if (message.buffers) {\n",
              "          for (const buffer of message.buffers) {\n",
              "            buffers.push(buffer);\n",
              "            downloaded += buffer.byteLength;\n",
              "            progress.value = downloaded;\n",
              "          }\n",
              "        }\n",
              "      }\n",
              "      const blob = new Blob(buffers, {type: 'application/binary'});\n",
              "      const a = document.createElement('a');\n",
              "      a.href = window.URL.createObjectURL(blob);\n",
              "      a.download = filename;\n",
              "      div.appendChild(a);\n",
              "      a.click();\n",
              "      div.remove();\n",
              "    }\n",
              "  "
            ]
          },
          "metadata": {}
        },
        {
          "output_type": "display_data",
          "data": {
            "text/plain": [
              "<IPython.core.display.Javascript object>"
            ],
            "application/javascript": [
              "download(\"download_138a82f9-d0dd-4587-bde4-9b9b19f32245\", \"relight our fire we will find our way.txt\", 488)"
            ]
          },
          "metadata": {}
        }
      ]
    },
    {
      "cell_type": "code",
      "source": [
        "# create Sentiment object\n",
        "sentiment = Sentiment()\n",
        "\n",
        "train_songs_str = ' '.join([str(elem) for elem in train_songs])\n",
        "lyrics_str = ' '.join([str(elem) for elem in lyrics_list])\n",
        "\n",
        "# clean and tokenize text\n",
        "sentiment.clean_text(\n",
        "    original_text = train_songs_str, \n",
        "    generated_text = lyrics_str, \n",
        "    remove_stopwords=True, \n",
        "    stop_words = set(stopwords.words(\"english\"))\n",
        "    )\n",
        "\n",
        "print(sentiment.original_tokens[:10])\n",
        "print(sentiment.generated_tokens)"
      ],
      "metadata": {
        "colab": {
          "base_uri": "https://localhost:8080/"
        },
        "outputId": "3b488eb0-dec2-48d6-ecb3-59c9a550156d",
        "id": "PSxtKpAjCq7-"
      },
      "execution_count": 78,
      "outputs": [
        {
          "output_type": "stream",
          "name": "stdout",
          "text": [
            "['place', 'common', 'space', 'share', 'dreams', 'one', 'goal', 'chase', 'come', 'join']\n",
            "['relight', 'fire', 'find', 'way', 'great', 'colours', 'lighting', 'sky', 'ones', 'world', 'achieve', 'together', 'part', 'keep', 'dreams', 'many', 'moments', 'mirth', 'ill', 'find', 'go', 'great', 'wall', 'way', 'thousand', 'colours', 'lighting', 'sky', 'ones', 'world', 'achieve', 'together', 'part', 'keep', 'dreams', 'many', 'moments', 'mirth', 'ill', 'find']\n"
          ]
        }
      ]
    },
    {
      "cell_type": "code",
      "source": [
        "# this step scores the vader sentiment of the original and generated text \n",
        "sentiment.score_vader_sentiment()  \n",
        "print(sentiment.vader_sentiment_scores)"
      ],
      "metadata": {
        "colab": {
          "base_uri": "https://localhost:8080/"
        },
        "outputId": "f87d23ea-530d-404e-a179-229ace24dd8d",
        "id": "8bCJMlASCq7_"
      },
      "execution_count": 79,
      "outputs": [
        {
          "output_type": "stream",
          "name": "stdout",
          "text": [
            "{'original': {'neg': 0.028, 'neu': 0.615, 'pos': 0.357, 'compound': 1.0}, 'generated': {'neg': 0.134, 'neu': 0.518, 'pos': 0.348, 'compound': 0.93}}\n"
          ]
        }
      ]
    },
    {
      "cell_type": "code",
      "source": [
        "# this step extracts the top n similar word vectors to each theme\n",
        "# and get their average word vector\n",
        "sentiment.get_theme_vector(\n",
        "    sentiment_themes=['patriot', 'love'], \n",
        "    embedding=glove_vectors, \n",
        "    topn=10\n",
        ")\n",
        "print(sentiment.sentiment_themes)\n",
        "print(sentiment.all_theme_vectors)"
      ],
      "metadata": {
        "colab": {
          "base_uri": "https://localhost:8080/"
        },
        "outputId": "ae5febef-0a6e-421f-f6ac-523640fb0217",
        "id": "Em2VLFHBCq8A"
      },
      "execution_count": 80,
      "outputs": [
        {
          "output_type": "stream",
          "name": "stdout",
          "text": [
            "['patriot', 'love']\n",
            "{'patriot': array([-0.0932492 ,  0.2737941 ,  0.46496803, -0.1104055 , -0.4727427 ,\n",
            "       -0.3695609 ,  0.59728706, -0.56995434, -0.49318305,  1.152441  ,\n",
            "        0.20548022, -0.665005  , -0.35317498, -0.05724651,  0.29801202,\n",
            "       -0.1887181 ,  0.46808147,  0.29274267, -0.3542009 , -0.390468  ,\n",
            "        0.41724506, -0.3645263 , -0.02154259,  0.15602511,  0.3117882 ,\n",
            "        0.2808048 , -0.40197968,  0.19433399, -0.207225  ,  0.41112152,\n",
            "       -0.40770826,  0.41357788, -0.06724178,  0.2552355 ,  0.6959089 ,\n",
            "       -0.0333486 ,  0.220113  , -0.5254942 ,  0.0344236 ,  0.4185118 ,\n",
            "       -0.3748475 ,  0.12050854,  0.2848566 ,  0.11164705,  0.83036804,\n",
            "       -0.4462192 ,  0.3798733 , -0.0214241 , -0.4064907 , -0.348634  ,\n",
            "        0.475555  ,  0.6571389 ,  0.1032334 ,  0.5260991 ,  0.343434  ,\n",
            "       -0.392311  ,  0.63653004,  0.13372497,  1.32073   ,  0.2860896 ,\n",
            "        0.255205  ,  0.743705  ,  0.62672967,  0.29697728, -0.22062948,\n",
            "        0.33026758,  0.0073686 ,  0.5450598 , -0.41635448,  0.335658  ,\n",
            "        1.026381  , -0.75517714,  0.184622  , -0.376494  , -0.43061963,\n",
            "       -0.1997819 ,  0.12802505,  0.79850197, -0.595882  ,  0.4667886 ,\n",
            "        0.9150127 , -0.22549729, -0.0172057 ,  0.2996399 , -0.5250646 ,\n",
            "        0.33380067,  0.49248928,  0.408641  ,  0.2770772 ,  0.17677101,\n",
            "       -0.22852051,  0.00358221, -0.20904632,  0.0843948 ,  0.01993699,\n",
            "        0.353624  , -0.14882937, -0.007934  ,  0.40092587,  0.06877699],\n",
            "      dtype=float32), 'love': array([ 1.55144900e-01,  4.22814995e-01,  5.53682983e-01, -2.92562783e-01,\n",
            "       -2.09107012e-01,  4.51601028e-01, -1.88781187e-01,  5.29167540e-02,\n",
            "        9.67079028e-02, -2.28520751e-01,  1.39886469e-01,  2.36860543e-01,\n",
            "        1.39918894e-01,  9.53804106e-02, -1.21032998e-01, -3.89761001e-01,\n",
            "        2.08992511e-04,  6.94297016e-01, -3.74373019e-01,  6.31554008e-01,\n",
            "        1.84006095e-02,  2.02473402e-01, -3.11118931e-01, -4.12746817e-01,\n",
            "        3.30896527e-01,  5.87292969e-01, -3.39590520e-01, -7.41219878e-01,\n",
            "        5.29122949e-01, -2.84768701e-01, -2.39235610e-01,  5.48138976e-01,\n",
            "        2.39114001e-01, -2.17230921e-03, -8.72737914e-02,  1.88837022e-01,\n",
            "       -3.18991989e-01,  3.53347987e-01,  3.68835777e-01, -5.84856331e-01,\n",
            "       -1.80441409e-01,  2.50920048e-03,  2.00335100e-01, -5.69147944e-01,\n",
            "       -3.91432971e-01, -1.11322105e-01,  7.28932023e-02, -2.26211697e-01,\n",
            "        1.37173504e-01, -1.00945091e+00, -8.47631469e-02, -5.82788698e-02,\n",
            "        1.16992697e-01,  1.04201996e+00,  1.69657007e-01, -2.21141005e+00,\n",
            "        3.34267110e-01,  4.85253990e-01,  9.92058158e-01,  3.29516202e-01,\n",
            "        2.51741201e-01,  1.27164996e+00, -5.95592082e-01, -3.19542468e-01,\n",
            "        6.95623994e-01,  1.77800179e-01,  8.26390088e-01,  1.57568529e-01,\n",
            "       -1.91646010e-01, -2.98522681e-01,  2.66402185e-01,  2.43779961e-02,\n",
            "        1.29488409e-01, -3.63034606e-01,  1.99261121e-02,  3.77224296e-01,\n",
            "        1.43776089e-01, -3.05426389e-01, -5.42671442e-01, -1.06803298e-01,\n",
            "        7.73557946e-02,  2.44322971e-01, -2.70716816e-01,  1.06203899e-01,\n",
            "       -1.39329505e+00, -1.15173593e-01, -3.83013994e-01, -3.80683124e-01,\n",
            "       -4.60061967e-01, -3.19364399e-01, -1.82895124e-01, -3.08156721e-02,\n",
            "        4.27012265e-01,  5.04265949e-02, -5.18980026e-01, -2.10478872e-01,\n",
            "       -3.40695292e-01, -3.75515401e-01,  1.89499691e-01,  5.92244983e-01],\n",
            "      dtype=float32)}\n"
          ]
        }
      ]
    },
    {
      "cell_type": "code",
      "source": [
        "# this step scores the sentiment of the original and generated text \n",
        "# by comparing them against the theme word vectors using cos sim \n",
        "sentiment.score_word_vector_sentiment()  \n",
        "print(sentiment.word_vector_sentiment_scores)"
      ],
      "metadata": {
        "colab": {
          "base_uri": "https://localhost:8080/"
        },
        "outputId": "0a46bb4c-4ff0-44f2-b39b-7e3b60134959",
        "id": "bTPIkNSUCq8A"
      },
      "execution_count": 81,
      "outputs": [
        {
          "output_type": "stream",
          "name": "stdout",
          "text": [
            "{'original': {'patriot': 0.2953495, 'love': 0.9091801}, 'generated': {'patriot': 0.3006478, 'love': 0.87343216}}\n"
          ]
        }
      ]
    },
    {
      "cell_type": "markdown",
      "source": [
        "Input: we will rise stronger together"
      ],
      "metadata": {
        "id": "GsRxQs6VCj7r"
      }
    },
    {
      "cell_type": "code",
      "source": [
        "seed_text = \"we will rise stronger together\"\n",
        "lyrics_list=[]\n",
        "lyrics = generateLyrics(seed_text, model)\n",
        "lyrics_list.append(lyrics)\n",
        "lyrics_list"
      ],
      "metadata": {
        "colab": {
          "base_uri": "https://localhost:8080/"
        },
        "id": "9P13ZjZAGq57",
        "outputId": "356028d3-195a-43c9-be5f-fc0f4af982a2"
      },
      "execution_count": 82,
      "outputs": [
        {
          "output_type": "execute_result",
          "data": {
            "text/plain": [
              "['we will rise stronger together you feel me to made you are happiness for in i take it treasure right on me well show our part together well make our faces stand and goals in a world our hearts will destiny we all achieve what my singapore with well grow we are our people lets into the ones we have a road accustomed we feel that you brave the whole world where i am sure im heard a destiny and tomorrow become like to never be kept look around us like and say it but dont with all too bold its the sea when we']"
            ]
          },
          "metadata": {},
          "execution_count": 82
        }
      ]
    },
    {
      "cell_type": "code",
      "source": [
        "#Save Results to text file\n",
        "outputdf=pd.DataFrame(lyrics_list)\n",
        "outputdf.to_csv(\"we will rise stronger together.txt\", header=False, index=False, encoding=\"utf-8\")\n",
        "files.download(\"we will rise stronger together.txt\")"
      ],
      "metadata": {
        "colab": {
          "base_uri": "https://localhost:8080/",
          "height": 17
        },
        "id": "grUvJ3CUR7iq",
        "outputId": "d3135ce7-0993-44ab-e8b4-e2d6b2166929"
      },
      "execution_count": 83,
      "outputs": [
        {
          "output_type": "display_data",
          "data": {
            "text/plain": [
              "<IPython.core.display.Javascript object>"
            ],
            "application/javascript": [
              "\n",
              "    async function download(id, filename, size) {\n",
              "      if (!google.colab.kernel.accessAllowed) {\n",
              "        return;\n",
              "      }\n",
              "      const div = document.createElement('div');\n",
              "      const label = document.createElement('label');\n",
              "      label.textContent = `Downloading \"${filename}\": `;\n",
              "      div.appendChild(label);\n",
              "      const progress = document.createElement('progress');\n",
              "      progress.max = size;\n",
              "      div.appendChild(progress);\n",
              "      document.body.appendChild(div);\n",
              "\n",
              "      const buffers = [];\n",
              "      let downloaded = 0;\n",
              "\n",
              "      const channel = await google.colab.kernel.comms.open(id);\n",
              "      // Send a message to notify the kernel that we're ready.\n",
              "      channel.send({})\n",
              "\n",
              "      for await (const message of channel.messages) {\n",
              "        // Send a message to notify the kernel that we're ready.\n",
              "        channel.send({})\n",
              "        if (message.buffers) {\n",
              "          for (const buffer of message.buffers) {\n",
              "            buffers.push(buffer);\n",
              "            downloaded += buffer.byteLength;\n",
              "            progress.value = downloaded;\n",
              "          }\n",
              "        }\n",
              "      }\n",
              "      const blob = new Blob(buffers, {type: 'application/binary'});\n",
              "      const a = document.createElement('a');\n",
              "      a.href = window.URL.createObjectURL(blob);\n",
              "      a.download = filename;\n",
              "      div.appendChild(a);\n",
              "      a.click();\n",
              "      div.remove();\n",
              "    }\n",
              "  "
            ]
          },
          "metadata": {}
        },
        {
          "output_type": "display_data",
          "data": {
            "text/plain": [
              "<IPython.core.display.Javascript object>"
            ],
            "application/javascript": [
              "download(\"download_49afcf7f-1af4-44e6-8f88-0c3ed37d8016\", \"we will rise stronger together.txt\", 511)"
            ]
          },
          "metadata": {}
        }
      ]
    },
    {
      "cell_type": "code",
      "source": [
        "# create Sentiment object\n",
        "sentiment = Sentiment()\n",
        "\n",
        "train_songs_str = ' '.join([str(elem) for elem in train_songs])\n",
        "lyrics_str = ' '.join([str(elem) for elem in lyrics_list])\n",
        "\n",
        "# clean and tokenize text\n",
        "sentiment.clean_text(\n",
        "    original_text = train_songs_str, \n",
        "    generated_text = lyrics_str, \n",
        "    remove_stopwords=True, \n",
        "    stop_words = set(stopwords.words(\"english\"))\n",
        "    )\n",
        "\n",
        "print(sentiment.original_tokens[:10])\n",
        "print(sentiment.generated_tokens)"
      ],
      "metadata": {
        "colab": {
          "base_uri": "https://localhost:8080/"
        },
        "outputId": "fa8d7ca2-3c46-4514-a913-037351d0f79d",
        "id": "6eO_p2JnC7CW"
      },
      "execution_count": 84,
      "outputs": [
        {
          "output_type": "stream",
          "name": "stdout",
          "text": [
            "['place', 'common', 'space', 'share', 'dreams', 'one', 'goal', 'chase', 'come', 'join']\n",
            "['rise', 'stronger', 'together', 'feel', 'made', 'happiness', 'take', 'treasure', 'right', 'well', 'show', 'part', 'together', 'well', 'make', 'faces', 'stand', 'goals', 'world', 'hearts', 'destiny', 'achieve', 'singapore', 'well', 'grow', 'people', 'lets', 'ones', 'road', 'accustomed', 'feel', 'brave', 'whole', 'world', 'sure', 'im', 'heard', 'destiny', 'tomorrow', 'become', 'like', 'never', 'kept', 'look', 'around', 'us', 'like', 'say', 'dont', 'bold', 'sea']\n"
          ]
        }
      ]
    },
    {
      "cell_type": "code",
      "source": [
        "# this step scores the vader sentiment of the original and generated text \n",
        "sentiment.score_vader_sentiment()  \n",
        "print(sentiment.vader_sentiment_scores)"
      ],
      "metadata": {
        "colab": {
          "base_uri": "https://localhost:8080/"
        },
        "outputId": "01479fc9-024c-40f8-d0c0-73a1c4424ce3",
        "id": "q5Fa3ZKGC7CX"
      },
      "execution_count": 85,
      "outputs": [
        {
          "output_type": "stream",
          "name": "stdout",
          "text": [
            "{'original': {'neg': 0.028, 'neu': 0.615, 'pos': 0.357, 'compound': 1.0}, 'generated': {'neg': 0.032, 'neu': 0.592, 'pos': 0.376, 'compound': 0.9648}}\n"
          ]
        }
      ]
    },
    {
      "cell_type": "code",
      "source": [
        "# this step extracts the top n similar word vectors to each theme\n",
        "# and get their average word vector\n",
        "sentiment.get_theme_vector(\n",
        "    sentiment_themes=['patriot', 'love'], \n",
        "    embedding=glove_vectors, \n",
        "    topn=10\n",
        ")\n",
        "print(sentiment.sentiment_themes)\n",
        "print(sentiment.all_theme_vectors)"
      ],
      "metadata": {
        "colab": {
          "base_uri": "https://localhost:8080/"
        },
        "outputId": "5bc2ec63-7243-41d5-cd73-504d016f9839",
        "id": "zrgmUYphC7CY"
      },
      "execution_count": 86,
      "outputs": [
        {
          "output_type": "stream",
          "name": "stdout",
          "text": [
            "['patriot', 'love']\n",
            "{'patriot': array([-0.0932492 ,  0.2737941 ,  0.46496803, -0.1104055 , -0.4727427 ,\n",
            "       -0.3695609 ,  0.59728706, -0.56995434, -0.49318305,  1.152441  ,\n",
            "        0.20548022, -0.665005  , -0.35317498, -0.05724651,  0.29801202,\n",
            "       -0.1887181 ,  0.46808147,  0.29274267, -0.3542009 , -0.390468  ,\n",
            "        0.41724506, -0.3645263 , -0.02154259,  0.15602511,  0.3117882 ,\n",
            "        0.2808048 , -0.40197968,  0.19433399, -0.207225  ,  0.41112152,\n",
            "       -0.40770826,  0.41357788, -0.06724178,  0.2552355 ,  0.6959089 ,\n",
            "       -0.0333486 ,  0.220113  , -0.5254942 ,  0.0344236 ,  0.4185118 ,\n",
            "       -0.3748475 ,  0.12050854,  0.2848566 ,  0.11164705,  0.83036804,\n",
            "       -0.4462192 ,  0.3798733 , -0.0214241 , -0.4064907 , -0.348634  ,\n",
            "        0.475555  ,  0.6571389 ,  0.1032334 ,  0.5260991 ,  0.343434  ,\n",
            "       -0.392311  ,  0.63653004,  0.13372497,  1.32073   ,  0.2860896 ,\n",
            "        0.255205  ,  0.743705  ,  0.62672967,  0.29697728, -0.22062948,\n",
            "        0.33026758,  0.0073686 ,  0.5450598 , -0.41635448,  0.335658  ,\n",
            "        1.026381  , -0.75517714,  0.184622  , -0.376494  , -0.43061963,\n",
            "       -0.1997819 ,  0.12802505,  0.79850197, -0.595882  ,  0.4667886 ,\n",
            "        0.9150127 , -0.22549729, -0.0172057 ,  0.2996399 , -0.5250646 ,\n",
            "        0.33380067,  0.49248928,  0.408641  ,  0.2770772 ,  0.17677101,\n",
            "       -0.22852051,  0.00358221, -0.20904632,  0.0843948 ,  0.01993699,\n",
            "        0.353624  , -0.14882937, -0.007934  ,  0.40092587,  0.06877699],\n",
            "      dtype=float32), 'love': array([ 1.55144900e-01,  4.22814995e-01,  5.53682983e-01, -2.92562783e-01,\n",
            "       -2.09107012e-01,  4.51601028e-01, -1.88781187e-01,  5.29167540e-02,\n",
            "        9.67079028e-02, -2.28520751e-01,  1.39886469e-01,  2.36860543e-01,\n",
            "        1.39918894e-01,  9.53804106e-02, -1.21032998e-01, -3.89761001e-01,\n",
            "        2.08992511e-04,  6.94297016e-01, -3.74373019e-01,  6.31554008e-01,\n",
            "        1.84006095e-02,  2.02473402e-01, -3.11118931e-01, -4.12746817e-01,\n",
            "        3.30896527e-01,  5.87292969e-01, -3.39590520e-01, -7.41219878e-01,\n",
            "        5.29122949e-01, -2.84768701e-01, -2.39235610e-01,  5.48138976e-01,\n",
            "        2.39114001e-01, -2.17230921e-03, -8.72737914e-02,  1.88837022e-01,\n",
            "       -3.18991989e-01,  3.53347987e-01,  3.68835777e-01, -5.84856331e-01,\n",
            "       -1.80441409e-01,  2.50920048e-03,  2.00335100e-01, -5.69147944e-01,\n",
            "       -3.91432971e-01, -1.11322105e-01,  7.28932023e-02, -2.26211697e-01,\n",
            "        1.37173504e-01, -1.00945091e+00, -8.47631469e-02, -5.82788698e-02,\n",
            "        1.16992697e-01,  1.04201996e+00,  1.69657007e-01, -2.21141005e+00,\n",
            "        3.34267110e-01,  4.85253990e-01,  9.92058158e-01,  3.29516202e-01,\n",
            "        2.51741201e-01,  1.27164996e+00, -5.95592082e-01, -3.19542468e-01,\n",
            "        6.95623994e-01,  1.77800179e-01,  8.26390088e-01,  1.57568529e-01,\n",
            "       -1.91646010e-01, -2.98522681e-01,  2.66402185e-01,  2.43779961e-02,\n",
            "        1.29488409e-01, -3.63034606e-01,  1.99261121e-02,  3.77224296e-01,\n",
            "        1.43776089e-01, -3.05426389e-01, -5.42671442e-01, -1.06803298e-01,\n",
            "        7.73557946e-02,  2.44322971e-01, -2.70716816e-01,  1.06203899e-01,\n",
            "       -1.39329505e+00, -1.15173593e-01, -3.83013994e-01, -3.80683124e-01,\n",
            "       -4.60061967e-01, -3.19364399e-01, -1.82895124e-01, -3.08156721e-02,\n",
            "        4.27012265e-01,  5.04265949e-02, -5.18980026e-01, -2.10478872e-01,\n",
            "       -3.40695292e-01, -3.75515401e-01,  1.89499691e-01,  5.92244983e-01],\n",
            "      dtype=float32)}\n"
          ]
        }
      ]
    },
    {
      "cell_type": "code",
      "source": [
        "# this step scores the sentiment of the original and generated text \n",
        "# by comparing them against the theme word vectors using cos sim \n",
        "sentiment.score_word_vector_sentiment()  \n",
        "print(sentiment.word_vector_sentiment_scores)"
      ],
      "metadata": {
        "colab": {
          "base_uri": "https://localhost:8080/"
        },
        "outputId": "5b59f81c-eac9-47d8-edd5-0dc79df31d00",
        "id": "uusxoj6WC7CY"
      },
      "execution_count": 87,
      "outputs": [
        {
          "output_type": "stream",
          "name": "stdout",
          "text": [
            "{'original': {'patriot': 0.2953495, 'love': 0.9091801}, 'generated': {'patriot': 0.32240644, 'love': 0.88512415}}\n"
          ]
        }
      ]
    }
  ]
}