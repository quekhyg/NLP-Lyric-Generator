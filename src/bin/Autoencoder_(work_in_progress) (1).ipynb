{
  "cells": [
    {
      "cell_type": "code",
      "source": [
        "from google.colab import drive\n",
        "drive.mount('/content/drive')\n",
        "%cd /content/drive/MyDrive/SMU_MITB_NLP/Group Project/src/bin"
      ],
      "metadata": {
        "id": "1sqwH29gCCae",
        "colab": {
          "base_uri": "https://localhost:8080/"
        },
        "outputId": "f60c31c9-3cec-4649-815e-6cdd57803697"
      },
      "id": "1sqwH29gCCae",
      "execution_count": 1,
      "outputs": [
        {
          "output_type": "stream",
          "name": "stdout",
          "text": [
            "Mounted at /content/drive\n",
            "/content/drive/MyDrive/SMU_MITB_NLP/Group Project/src/bin\n"
          ]
        }
      ]
    },
    {
      "cell_type": "code",
      "execution_count": 2,
      "id": "eed94d9c",
      "metadata": {
        "id": "eed94d9c"
      },
      "outputs": [],
      "source": [
        "### Standard Imports\n",
        "import numpy as np\n",
        "import pandas as pd\n",
        "import matplotlib.pyplot as plt\n",
        "import re\n",
        "import copy\n",
        "import time\n",
        "import os\n",
        "import sys\n",
        "import sklearn\n",
        "from collections import Counter\n",
        "from sklearn.feature_extraction.text import CountVectorizer as CountVectorizer\n",
        "from sklearn.preprocessing import OneHotEncoder\n",
        "\n",
        "import tensorflow as tf\n",
        "from tensorflow import keras\n",
        "from tensorflow.keras import layers\n",
        "\n",
        "from tensorflow.python.client import device_lib\n",
        "\n",
        "#import nltk"
      ]
    },
    {
      "cell_type": "code",
      "execution_count": 3,
      "id": "18f77d0b",
      "metadata": {
        "id": "18f77d0b"
      },
      "outputs": [],
      "source": [
        "### Custom Imports\n",
        "sys.path.append('../')\n",
        "import lib.utilities as utils"
      ]
    },
    {
      "cell_type": "code",
      "execution_count": 4,
      "id": "e1f082fd",
      "metadata": {
        "id": "e1f082fd"
      },
      "outputs": [],
      "source": [
        "corpus = utils.load_corpus()"
      ]
    },
    {
      "cell_type": "code",
      "execution_count": 5,
      "id": "222579b5",
      "metadata": {
        "id": "222579b5",
        "outputId": "01a55ad5-a57d-4737-8abc-9780c2fafdf2",
        "colab": {
          "base_uri": "https://localhost:8080/",
          "height": 36
        }
      },
      "outputs": [
        {
          "output_type": "execute_result",
          "data": {
            "text/plain": [
              "'songs = utils.split_text(corpus)\\nall_songs = []\\nfor song in songs:\\n    all_songs.append(utils.split_song(song))'"
            ],
            "application/vnd.google.colaboratory.intrinsic+json": {
              "type": "string"
            }
          },
          "metadata": {},
          "execution_count": 5
        }
      ],
      "source": [
        "'''songs = utils.split_text(corpus)\n",
        "all_songs = []\n",
        "for song in songs:\n",
        "    all_songs.append(utils.split_song(song))'''"
      ]
    },
    {
      "cell_type": "code",
      "execution_count": 6,
      "id": "52adf0e5",
      "metadata": {
        "scrolled": true,
        "id": "52adf0e5"
      },
      "outputs": [],
      "source": [
        "words = utils.preprocess_text(corpus, fun_list = [utils.to_lower, utils.decontraction, utils.remove_punct], keep = '\\<|\\>')\n",
        "words = re.sub('\\n',' \\n ', words)\n",
        "words = re.split(' +', words)"
      ]
    },
    {
      "cell_type": "code",
      "execution_count": 7,
      "id": "9f079791",
      "metadata": {
        "scrolled": true,
        "id": "9f079791"
      },
      "outputs": [],
      "source": [
        "word_count = Counter(words)\n",
        "index_to_vocab = {i: k for i, k in enumerate(word_count.keys())}\n",
        "vocab_to_index = {k: i for i, k in enumerate(word_count.keys())}"
      ]
    },
    {
      "cell_type": "code",
      "execution_count": 8,
      "id": "e7988e0a",
      "metadata": {
        "id": "e7988e0a"
      },
      "outputs": [],
      "source": [
        "songs = ' '.join(words)\n",
        "songs = songs.split(' \\n \\n <eos> \\n \\n ')\n",
        "songs = [song.split(' ') for song in songs]"
      ]
    },
    {
      "cell_type": "code",
      "source": [
        "tokens_index = [vocab_to_index[word] for word in words]\n",
        "start_token = '<verse>'\n",
        "start_token_index = vocab_to_index.get(start_token)"
      ],
      "metadata": {
        "id": "PGI94yilFsFN"
      },
      "id": "PGI94yilFsFN",
      "execution_count": 32,
      "outputs": []
    },
    {
      "cell_type": "code",
      "source": [
        "# word_dataset = tf.data.Dataset.from_tensor_slices(tokens_index)"
      ],
      "metadata": {
        "id": "ec7r-SW_GJtS"
      },
      "id": "ec7r-SW_GJtS",
      "execution_count": 10,
      "outputs": []
    },
    {
      "cell_type": "code",
      "source": [
        "# window_len = 15\n",
        "# sequences = word_dataset.window(window_len + 1, 1, drop_remainder=True)\n",
        "# sequences = sequences.flat_map(lambda window: window.batch(window_len + 1))\n",
        "# sequences = sequences.map(lambda window: ((window[:-1], tf.convert_to_tensor([start_token_index])), window[-1:]))"
      ],
      "metadata": {
        "id": "KWrGxkINGRUq"
      },
      "id": "KWrGxkINGRUq",
      "execution_count": 11,
      "outputs": []
    },
    {
      "cell_type": "code",
      "source": [
        "# BATCH_SIZE = 64\n",
        "# BUFFER_SIZE = 10000\n",
        "\n",
        "# AUTOTUNE = tf.data.AUTOTUNE\n",
        "# dataset = sequences.shuffle(BUFFER_SIZE).batch(BATCH_SIZE, drop_remainder=True).cache().prefetch(buffer_size=AUTOTUNE)"
      ],
      "metadata": {
        "id": "vb4az7AbHmRh"
      },
      "id": "vb4az7AbHmRh",
      "execution_count": 12,
      "outputs": []
    },
    {
      "cell_type": "code",
      "source": [
        "### Creating Dataset\n",
        "x = []\n",
        "y = []\n",
        "window_len = 15\n",
        "vocab_size = len(word_count)\n",
        "\n",
        "eos_i = 0\n",
        "for i, ind in enumerate(tokens_index[:-1]):\n",
        "  if ind == vocab_to_index['<eos>']:\n",
        "    eos_i = i\n",
        "    continue\n",
        "  zero_padding = max(eos_i + window_len - i - 1, 0)\n",
        "  if zero_padding:\n",
        "    x.append(tokens_index[eos_i:i+1]) # don't need zero padding, default value is 0\n",
        "  else:\n",
        "    x.append(tokens_index[i-window_len+1:i+1])\n",
        "  y.append(tokens_index[i+1])\n",
        "\n",
        "decoder_x = [start_token_index for _ in x]"
      ],
      "metadata": {
        "id": "FwuVvlRF-cgL"
      },
      "id": "FwuVvlRF-cgL",
      "execution_count": 74,
      "outputs": []
    },
    {
      "cell_type": "code",
      "source": [
        "### One-hot Encoding\n",
        "X = np.zeros(shape = (len(x), vocab_size), dtype = int)\n",
        "for i, record in enumerate(x):\n",
        "  X[i,record] = 1\n",
        "Y = np.zeros(shape = (len(y), vocab_size), dtype = int)\n",
        "for i, record in enumerate(y):\n",
        "  Y[i,record] = 1\n",
        "decoder_X = np.zeros(shape = (len(decoder_x), vocab_size), dtype = int)\n",
        "decoder_X[:,start_token_index] = 1\n",
        "X = tf.convert_to_tensor(X)\n",
        "Y = tf.convert_to_tensor(Y)\n",
        "decoder_X = tf.convert_to_tensor(X)"
      ],
      "metadata": {
        "id": "e3EO74YTFxj2"
      },
      "id": "e3EO74YTFxj2",
      "execution_count": 80,
      "outputs": []
    },
    {
      "cell_type": "code",
      "execution_count": 81,
      "id": "2fae1299",
      "metadata": {
        "id": "2fae1299"
      },
      "outputs": [],
      "source": [
        "embedding_dim = 128\n",
        "rnn_dim = 256\n",
        "learn_rate = 0.001\n",
        "epochs = 3"
      ]
    },
    {
      "cell_type": "code",
      "execution_count": 82,
      "id": "202bf8be",
      "metadata": {
        "id": "202bf8be",
        "colab": {
          "base_uri": "https://localhost:8080/"
        },
        "outputId": "b5ac2df6-77c4-4787-97df-2080eb6d588d"
      },
      "outputs": [
        {
          "output_type": "stream",
          "name": "stdout",
          "text": [
            "Model: \"model_2\"\n",
            "__________________________________________________________________________________________________\n",
            " Layer (type)                   Output Shape         Param #     Connected to                     \n",
            "==================================================================================================\n",
            " input_5 (InputLayer)           [(None, None)]       0           []                               \n",
            "                                                                                                  \n",
            " input_6 (InputLayer)           [(None, None)]       0           []                               \n",
            "                                                                                                  \n",
            " embedding_4 (Embedding)        (None, None, 128)    134016      ['input_5[0][0]']                \n",
            "                                                                                                  \n",
            " embedding_5 (Embedding)        (None, None, 128)    134016      ['input_6[0][0]']                \n",
            "                                                                                                  \n",
            " encoder (SimpleRNN)            [(None, 256),        98560       ['embedding_4[0][0]']            \n",
            "                                 (None, 256)]                                                     \n",
            "                                                                                                  \n",
            " decoder (SimpleRNN)            (None, 256)          98560       ['embedding_5[0][0]',            \n",
            "                                                                  'encoder[0][1]']                \n",
            "                                                                                                  \n",
            " dense_2 (Dense)                (None, 1047)         269079      ['decoder[0][0]']                \n",
            "                                                                                                  \n",
            "==================================================================================================\n",
            "Total params: 734,231\n",
            "Trainable params: 734,231\n",
            "Non-trainable params: 0\n",
            "__________________________________________________________________________________________________\n"
          ]
        }
      ],
      "source": [
        "# Encoder\n",
        "encoder_input = layers.Input(shape=(None,))\n",
        "encoder_embedded = layers.Embedding(input_dim=vocab_size, output_dim=embedding_dim)(\n",
        "    encoder_input\n",
        ")\n",
        "\n",
        "# Return state in addition to output\n",
        "output, encoder_state = layers.SimpleRNN(rnn_dim, return_state=True, name=\"encoder\")(\n",
        "    encoder_embedded\n",
        ")\n",
        "\n",
        "#encoder = keras.Model(encoder_input,output)\n",
        "\n",
        "# Decoder\n",
        "decoder_input = layers.Input(shape=(None,))\n",
        "decoder_embedded = layers.Embedding(input_dim=vocab_size, output_dim=embedding_dim)(\n",
        "    decoder_input\n",
        ")\n",
        "\n",
        "# Pass the encoder state to a new RNN, as initial state\n",
        "decoder_output = layers.SimpleRNN(rnn_dim, name=\"decoder\")(\n",
        "    decoder_embedded, initial_state=[encoder_state]\n",
        ")\n",
        "output = layers.Dense(vocab_size)(decoder_output)\n",
        "\n",
        "#decoder = keras.Model(decoder_input,decoder_output)\n",
        "\n",
        "model = keras.Model([encoder_input, decoder_input], output)\n",
        "model.summary()"
      ]
    },
    {
      "cell_type": "code",
      "execution_count": 83,
      "id": "83bb01d4",
      "metadata": {
        "id": "83bb01d4"
      },
      "outputs": [],
      "source": [
        "model.compile(loss = 'categorical_crossentropy', optimizer = tf.keras.optimizers.Adam(learning_rate=learn_rate))"
      ]
    },
    {
      "cell_type": "code",
      "source": [
        "result = model.fit(x = [X, decoder_X], y = Y, epochs = epochs, shuffle = True)"
      ],
      "metadata": {
        "colab": {
          "base_uri": "https://localhost:8080/"
        },
        "id": "hIOwUeQ0E0LD",
        "outputId": "0ebba7f1-0172-4d80-8791-1ca476feaf01"
      },
      "id": "hIOwUeQ0E0LD",
      "execution_count": 84,
      "outputs": [
        {
          "output_type": "stream",
          "name": "stdout",
          "text": [
            "Epoch 1/3\n",
            "434/434 [==============================] - 1083s 2s/step - loss: 11.1631\n",
            "Epoch 2/3\n",
            "434/434 [==============================] - 933s 2s/step - loss: 10.0487\n",
            "Epoch 3/3\n",
            "434/434 [==============================] - 884s 2s/step - loss: 9.8152\n"
          ]
        }
      ]
    },
    {
      "cell_type": "code",
      "source": [
        "def generate_text(model, start_string, num_generate = 1000, temperature=1.0):\n",
        "    \"\"\"Generate text using trained sequential text generation model\n",
        "\n",
        "    Args: \n",
        "      model (model): Keras trained sequential text generation model\n",
        "      start_string (list): list of strings for starting the text generation\n",
        "      num_generate (int): number of words to generate\n",
        "      temperature (float): controls the predictability of the generated text\n",
        "        - Low temperatures results in more predictable text.\n",
        "        - Higher temperatures results in more surprising text.\n",
        "    \n",
        "    Returns:\n",
        "      String of generated text\n",
        "      \n",
        "    \"\"\"\n",
        "\n",
        "    # Converting our start string to numbers (vectorizing).\n",
        "    input_indices = [vocab_to_index[s] for i, s in enumerate(start_string) if i < window_len]\n",
        "\n",
        "    X = np.zeros(shape = (vocab_size), dtype = int)\n",
        "    X[input_indices] = 1\n",
        "    X = tf.convert_to_tensor(X)\n",
        "    decoder_X = np.zeros(shape = (1, vocab_size), dtype = int)\n",
        "    decoder_X[:,start_token_index] = 1\n",
        "    decoder_X = tf.convert_to_tensor(X)\n",
        "\n",
        "    # Empty string to store our results.\n",
        "    text_generated = []\n",
        "\n",
        "    # Here batch size == 1.\n",
        "    model.reset_states()\n",
        "    for word_index in range(num_generate):\n",
        "        prediction = model(input = [X, decoder_X])\n",
        "\n",
        "        # Using a categorical distribution to predict the character returned by the model.\n",
        "        prediction = prediction / temperature\n",
        "        predictions = tf.reshape(prediction, [1, prediction.shape[0]])\n",
        "        predicted_id = tf.random.categorical(\n",
        "            predictions,\n",
        "            num_samples=1\n",
        "            )[-1,0].numpy()\n",
        "\n",
        "        # We pass the series of previous words (up to window length) as the next input to the model\n",
        "        # along with the previous hidden state.\n",
        "        input_index = tf.expand_dims([predicted_id], 0)\n",
        "        X = tf.concat([X, input_index], axis = 0)\n",
        "        decoder_X = tf.concat([decoder_X, input_index], axis = 0)\n",
        "        nrows = tf.shape(X)[0]\n",
        "        X = X[nrows-window_len:nrows,:]\n",
        "        nrows = tf.shape(decoder_X)[0]\n",
        "        decoder_X = decoder_X[nrows-window_len:nrows,:]\n",
        "        \n",
        "        text_generated.append(index_to_vocab[predicted_id])\n",
        "    \n",
        "    return (' '.join(start_string) + ' ' + ' '.join(text_generated))"
      ],
      "metadata": {
        "id": "_ANJJNQGSpdx"
      },
      "id": "_ANJJNQGSpdx",
      "execution_count": 87,
      "outputs": []
    },
    {
      "cell_type": "code",
      "source": [
        "print(generate_text(model, start_string=['<verse>', '\\n'], num_generate=30, temperature=1.0))"
      ],
      "metadata": {
        "colab": {
          "base_uri": "https://localhost:8080/",
          "height": 311
        },
        "id": "wo0aCkdPL2EU",
        "outputId": "087b8d18-67bc-4763-c630-a7d437afcf32"
      },
      "id": "wo0aCkdPL2EU",
      "execution_count": 88,
      "outputs": [
        {
          "output_type": "error",
          "ename": "ValueError",
          "evalue": "ignored",
          "traceback": [
            "\u001b[0;31m---------------------------------------------------------------------------\u001b[0m",
            "\u001b[0;31mValueError\u001b[0m                                Traceback (most recent call last)",
            "\u001b[0;32m<ipython-input-88-49064d76119b>\u001b[0m in \u001b[0;36m<module>\u001b[0;34m()\u001b[0m\n\u001b[0;32m----> 1\u001b[0;31m \u001b[0mprint\u001b[0m\u001b[0;34m(\u001b[0m\u001b[0mgenerate_text\u001b[0m\u001b[0;34m(\u001b[0m\u001b[0mmodel\u001b[0m\u001b[0;34m,\u001b[0m \u001b[0mstart_string\u001b[0m\u001b[0;34m=\u001b[0m\u001b[0;34m[\u001b[0m\u001b[0;34m'<verse>'\u001b[0m\u001b[0;34m,\u001b[0m \u001b[0;34m'\\n'\u001b[0m\u001b[0;34m]\u001b[0m\u001b[0;34m,\u001b[0m \u001b[0mnum_generate\u001b[0m\u001b[0;34m=\u001b[0m\u001b[0;36m30\u001b[0m\u001b[0;34m,\u001b[0m \u001b[0mtemperature\u001b[0m\u001b[0;34m=\u001b[0m\u001b[0;36m1.0\u001b[0m\u001b[0;34m)\u001b[0m\u001b[0;34m)\u001b[0m\u001b[0;34m\u001b[0m\u001b[0;34m\u001b[0m\u001b[0m\n\u001b[0m",
            "\u001b[0;32m<ipython-input-87-b2325466ae86>\u001b[0m in \u001b[0;36mgenerate_text\u001b[0;34m(model, start_string, num_generate, temperature)\u001b[0m\n\u001b[1;32m     31\u001b[0m     \u001b[0mmodel\u001b[0m\u001b[0;34m.\u001b[0m\u001b[0mreset_states\u001b[0m\u001b[0;34m(\u001b[0m\u001b[0;34m)\u001b[0m\u001b[0;34m\u001b[0m\u001b[0;34m\u001b[0m\u001b[0m\n\u001b[1;32m     32\u001b[0m     \u001b[0;32mfor\u001b[0m \u001b[0mword_index\u001b[0m \u001b[0;32min\u001b[0m \u001b[0mrange\u001b[0m\u001b[0;34m(\u001b[0m\u001b[0mnum_generate\u001b[0m\u001b[0;34m)\u001b[0m\u001b[0;34m:\u001b[0m\u001b[0;34m\u001b[0m\u001b[0;34m\u001b[0m\u001b[0m\n\u001b[0;32m---> 33\u001b[0;31m         \u001b[0mprediction\u001b[0m \u001b[0;34m=\u001b[0m \u001b[0mmodel\u001b[0m\u001b[0;34m(\u001b[0m\u001b[0minput\u001b[0m \u001b[0;34m=\u001b[0m \u001b[0;34m[\u001b[0m\u001b[0mX\u001b[0m\u001b[0;34m,\u001b[0m \u001b[0mdecoder_X\u001b[0m\u001b[0;34m]\u001b[0m\u001b[0;34m)\u001b[0m\u001b[0;34m\u001b[0m\u001b[0;34m\u001b[0m\u001b[0m\n\u001b[0m\u001b[1;32m     34\u001b[0m \u001b[0;34m\u001b[0m\u001b[0m\n\u001b[1;32m     35\u001b[0m         \u001b[0;31m# Using a categorical distribution to predict the character returned by the model.\u001b[0m\u001b[0;34m\u001b[0m\u001b[0;34m\u001b[0m\u001b[0;34m\u001b[0m\u001b[0m\n",
            "\u001b[0;32m/usr/local/lib/python3.7/dist-packages/keras/utils/traceback_utils.py\u001b[0m in \u001b[0;36merror_handler\u001b[0;34m(*args, **kwargs)\u001b[0m\n\u001b[1;32m     65\u001b[0m     \u001b[0;32mexcept\u001b[0m \u001b[0mException\u001b[0m \u001b[0;32mas\u001b[0m \u001b[0me\u001b[0m\u001b[0;34m:\u001b[0m  \u001b[0;31m# pylint: disable=broad-except\u001b[0m\u001b[0;34m\u001b[0m\u001b[0;34m\u001b[0m\u001b[0m\n\u001b[1;32m     66\u001b[0m       \u001b[0mfiltered_tb\u001b[0m \u001b[0;34m=\u001b[0m \u001b[0m_process_traceback_frames\u001b[0m\u001b[0;34m(\u001b[0m\u001b[0me\u001b[0m\u001b[0;34m.\u001b[0m\u001b[0m__traceback__\u001b[0m\u001b[0;34m)\u001b[0m\u001b[0;34m\u001b[0m\u001b[0;34m\u001b[0m\u001b[0m\n\u001b[0;32m---> 67\u001b[0;31m       \u001b[0;32mraise\u001b[0m \u001b[0me\u001b[0m\u001b[0;34m.\u001b[0m\u001b[0mwith_traceback\u001b[0m\u001b[0;34m(\u001b[0m\u001b[0mfiltered_tb\u001b[0m\u001b[0;34m)\u001b[0m \u001b[0;32mfrom\u001b[0m \u001b[0;32mNone\u001b[0m\u001b[0;34m\u001b[0m\u001b[0;34m\u001b[0m\u001b[0m\n\u001b[0m\u001b[1;32m     68\u001b[0m     \u001b[0;32mfinally\u001b[0m\u001b[0;34m:\u001b[0m\u001b[0;34m\u001b[0m\u001b[0;34m\u001b[0m\u001b[0m\n\u001b[1;32m     69\u001b[0m       \u001b[0;32mdel\u001b[0m \u001b[0mfiltered_tb\u001b[0m\u001b[0;34m\u001b[0m\u001b[0;34m\u001b[0m\u001b[0m\n",
            "\u001b[0;32m/usr/local/lib/python3.7/dist-packages/keras/engine/base_layer.py\u001b[0m in \u001b[0;36m_split_out_first_arg\u001b[0;34m(self, args, kwargs)\u001b[0m\n\u001b[1;32m   3093\u001b[0m     \u001b[0;32melse\u001b[0m\u001b[0;34m:\u001b[0m\u001b[0;34m\u001b[0m\u001b[0;34m\u001b[0m\u001b[0m\n\u001b[1;32m   3094\u001b[0m       raise ValueError(\n\u001b[0;32m-> 3095\u001b[0;31m           'The first argument to `Layer.call` must always be passed.')\n\u001b[0m\u001b[1;32m   3096\u001b[0m     \u001b[0;32mreturn\u001b[0m \u001b[0minputs\u001b[0m\u001b[0;34m,\u001b[0m \u001b[0margs\u001b[0m\u001b[0;34m,\u001b[0m \u001b[0mkwargs\u001b[0m\u001b[0;34m\u001b[0m\u001b[0;34m\u001b[0m\u001b[0m\n\u001b[1;32m   3097\u001b[0m \u001b[0;34m\u001b[0m\u001b[0m\n",
            "\u001b[0;31mValueError\u001b[0m: The first argument to `Layer.call` must always be passed."
          ]
        }
      ]
    },
    {
      "cell_type": "code",
      "source": [
        ""
      ],
      "metadata": {
        "id": "XhNWoX1PL2Wg"
      },
      "id": "XhNWoX1PL2Wg",
      "execution_count": null,
      "outputs": []
    }
  ],
  "metadata": {
    "kernelspec": {
      "display_name": "Python 3",
      "language": "python",
      "name": "python3"
    },
    "language_info": {
      "codemirror_mode": {
        "name": "ipython",
        "version": 3
      },
      "file_extension": ".py",
      "mimetype": "text/x-python",
      "name": "python",
      "nbconvert_exporter": "python",
      "pygments_lexer": "ipython3",
      "version": "3.8.8"
    },
    "colab": {
      "name": "Autoencoder (work in progress).ipynb",
      "provenance": [],
      "collapsed_sections": []
    }
  },
  "nbformat": 4,
  "nbformat_minor": 5
}