{
 "cells": [
  {
   "cell_type": "code",
   "execution_count": 1,
   "id": "1sqwH29gCCae",
   "metadata": {
    "colab": {
     "base_uri": "https://localhost:8080/"
    },
    "executionInfo": {
     "elapsed": 16028,
     "status": "ok",
     "timestamp": 1654813654829,
     "user": {
      "displayName": "QUEK HAO YONG, GABRIEL _",
      "userId": "08861584446371432378"
     },
     "user_tz": -480
    },
    "id": "1sqwH29gCCae",
    "outputId": "ef54ffc7-5409-452c-d745-afb01b221087"
   },
   "outputs": [],
   "source": [
    "# from google.colab import drive\n",
    "# drive.mount('/content/drive')\n",
    "# %cd /content/drive/MyDrive/SMU_MITB_NLP/Group Project/NLP-Lyric-Generator/src/bin"
   ]
  },
  {
   "cell_type": "code",
   "execution_count": 2,
   "id": "eed94d9c",
   "metadata": {
    "id": "eed94d9c"
   },
   "outputs": [],
   "source": [
    "### Standard Imports\n",
    "import numpy as np\n",
    "import re\n",
    "import sys\n",
    "import os\n",
    "from collections import Counter\n",
    "\n",
    "import tensorflow as tf\n",
    "from tensorflow.keras import layers"
   ]
  },
  {
   "cell_type": "code",
   "execution_count": 3,
   "id": "18f77d0b",
   "metadata": {
    "id": "18f77d0b"
   },
   "outputs": [],
   "source": [
    "### Custom Imports\n",
    "sys.path.append('../')\n",
    "import lib.utilities as utils\n",
    "import lib.autoencoder_utilities as ae_utils"
   ]
  },
  {
   "cell_type": "code",
   "execution_count": 4,
   "id": "QsvWeCUNxSvd",
   "metadata": {
    "id": "QsvWeCUNxSvd"
   },
   "outputs": [],
   "source": [
    "### Text Parameters\n",
    "start_token = '<cls>'\n",
    "end_token = '<eos>'\n",
    "pad_token = '<pad>'\n",
    "unk_token = '<unk>'\n",
    "newline_token = '<new>'\n",
    "\n",
    "### General Parameters\n",
    "random_seed = 2022\n",
    "model_folder = '../../models/autoencoder/lstm/v1'\n",
    "\n",
    "### Model Parameters\n",
    "val_split = 0.2\n",
    "window_len = 15\n",
    "batch_size = 64\n",
    "enc_dim, dec_dim = 256, 256\n",
    "learn_rate = 0.001\n",
    "epochs = 5\n",
    "dropout = 0.05\n",
    "recurrent_dropout = 0.05"
   ]
  },
  {
   "cell_type": "code",
   "execution_count": 5,
   "id": "016082cc",
   "metadata": {},
   "outputs": [],
   "source": [
    "os.makedirs(model_folder, exist_ok=True)"
   ]
  },
  {
   "cell_type": "code",
   "execution_count": 6,
   "id": "e1f082fd",
   "metadata": {
    "id": "e1f082fd"
   },
   "outputs": [],
   "source": [
    "### Load Data\n",
    "corpus = utils.load_corpus()"
   ]
  },
  {
   "cell_type": "code",
   "execution_count": 7,
   "id": "52adf0e5",
   "metadata": {
    "id": "52adf0e5",
    "scrolled": true
   },
   "outputs": [],
   "source": [
    "### Pre-Processing Text\n",
    "words, word_count, index_to_vocab, vocab_to_index, songs, songs_token_ind = utils.tokenize_corpus(corpus,\n",
    "                                                                                                  window_length = window_len,\n",
    "                                                                                                  end_token = end_token,\n",
    "                                                                                                  start_token = start_token,\n",
    "                                                                                                  pad_token = pad_token,\n",
    "                                                                                                  unk_token = unk_token,\n",
    "                                                                                                  newline_token = newline_token)\n",
    "vocab_size = len(word_count)"
   ]
  },
  {
   "cell_type": "code",
   "execution_count": 8,
   "id": "FwuVvlRF-cgL",
   "metadata": {
    "id": "FwuVvlRF-cgL"
   },
   "outputs": [],
   "source": [
    "x_encoder, x_decoder, y = ae_utils.construct_seq_data(songs_token_ind, window_len)"
   ]
  },
  {
   "cell_type": "code",
   "execution_count": 9,
   "id": "KY-CHZ0CcP2C",
   "metadata": {
    "colab": {
     "base_uri": "https://localhost:8080/"
    },
    "executionInfo": {
     "elapsed": 11,
     "status": "ok",
     "timestamp": 1654813670764,
     "user": {
      "displayName": "QUEK HAO YONG, GABRIEL _",
      "userId": "08861584446371432378"
     },
     "user_tz": -480
    },
    "id": "KY-CHZ0CcP2C",
    "outputId": "4a2c1d03-f000-4458-bf4d-35fb5ee84172"
   },
   "outputs": [
    {
     "name": "stdout",
     "output_type": "stream",
     "text": [
      "['much', 'more', '<new>', 'one', 'singapore', '<new>', '<new>', '<chorus>', '<new>', 'whoa', 'oh', 'oh', 'oh', '<new>', 'wooh']\n",
      "['so', 'much', 'more', '<new>', 'one', 'singapore', '<new>', '<new>', '<chorus>', '<new>', 'whoa', 'oh', 'oh', 'oh', '<new>']\n",
      "wooh\n"
     ]
    }
   ],
   "source": [
    "rand_int = np.random.randint(0, len(x_encoder), 1)[0]\n",
    "print([index_to_vocab.get(x) for x in x_encoder[rand_int]])\n",
    "print([index_to_vocab.get(x) for x in x_decoder[rand_int]])\n",
    "print(index_to_vocab.get(y[rand_int]))"
   ]
  },
  {
   "cell_type": "code",
   "execution_count": 10,
   "id": "c635860e",
   "metadata": {},
   "outputs": [],
   "source": [
    "def construct_datasets(x_decoder, y, validation_split, batch_size, buffer = 10000, random_seed = 2022, one_hot = True, vocab_size = None):\n",
    "    dataset = tf.data.Dataset.from_tensor_slices((x_decoder, y))\n",
    "    dataset = dataset.shuffle(buffer_size = buffer, seed = random_seed)\n",
    "    if one_hot:\n",
    "        if vocab_size is None:\n",
    "            print('Error: Please provide vocab size for one hot encoding')\n",
    "            return None\n",
    "        dataset = dataset.map(lambda x, y: (tf.one_hot(x, depth = vocab_size),\n",
    "                                         tf.one_hot(y, depth = vocab_size)))\n",
    "    train_dataset = dataset.take(int((1-validation_split)*len(dataset)))\n",
    "    val_dataset = dataset.skip(int((1-validation_split)*len(dataset)))\n",
    "\n",
    "    train_dataset_final = train_dataset.batch(batch_size).cache().prefetch(buffer_size=tf.data.AUTOTUNE)\n",
    "    val_dataset_final = val_dataset.batch(batch_size).cache().prefetch(buffer_size=tf.data.AUTOTUNE)\n",
    "    \n",
    "    return train_dataset_final, val_dataset_final"
   ]
  },
  {
   "cell_type": "code",
   "execution_count": 11,
   "id": "Dk3I2VI1Nza3",
   "metadata": {
    "id": "Dk3I2VI1Nza3"
   },
   "outputs": [],
   "source": [
    "train_dataset, val_dataset = construct_datasets(x_decoder, y,\n",
    "                                                         validation_split = val_split,\n",
    "                                                         random_seed = random_seed,\n",
    "                                                         batch_size = batch_size,\n",
    "                                                         vocab_size = vocab_size)"
   ]
  },
  {
   "cell_type": "code",
   "execution_count": 12,
   "id": "cddd1d5f",
   "metadata": {},
   "outputs": [],
   "source": [
    "# temp = ['morning', 'is', 'gone']\n",
    "# for i, song in enumerate(songs):\n",
    "#     for j in range(len(song)):\n",
    "#         sub = song[j:(j+len(temp))]\n",
    "#         if sub == temp:\n",
    "#             print(i,j)\n",
    "#             print(sub)\n",
    "#             print(song)"
   ]
  },
  {
   "cell_type": "code",
   "execution_count": 13,
   "id": "401d22bf",
   "metadata": {},
   "outputs": [],
   "source": [
    "# for x,y in train_dataset.take(1):\n",
    "#     s1 = [index_to_vocab[np.where(v)[0][0]] for v in x[0][0,:,:]]\n",
    "#     print(s1)\n",
    "#     s2 = [index_to_vocab[np.where(v)[0][0]] for v in x[1][0,:,:]]\n",
    "#     print(s2)\n",
    "#     t = index_to_vocab[np.where(y[0])[0][0]]\n",
    "#     print(t)\n",
    "#     #print(np.where(x[1]))\n",
    "#     #print(np.where(y[0]))"
   ]
  },
  {
   "cell_type": "code",
   "execution_count": 15,
   "id": "202bf8be",
   "metadata": {
    "colab": {
     "base_uri": "https://localhost:8080/"
    },
    "executionInfo": {
     "elapsed": 599,
     "status": "ok",
     "timestamp": 1654813676567,
     "user": {
      "displayName": "QUEK HAO YONG, GABRIEL _",
      "userId": "08861584446371432378"
     },
     "user_tz": -480
    },
    "id": "202bf8be",
    "outputId": "74b8ad29-7683-4f72-8352-3ffbdcf5d637"
   },
   "outputs": [
    {
     "name": "stdout",
     "output_type": "stream",
     "text": [
      "WARNING:tensorflow:Layer decoder_lstm will not use cuDNN kernels since it doesn't meet the criteria. It will use a generic GPU kernel as fallback when running on GPU.\n",
      "Model: \"model\"\n",
      "_________________________________________________________________\n",
      " Layer (type)                Output Shape              Param #   \n",
      "=================================================================\n",
      " decoder_input (InputLayer)  [(None, 15, 1041)]        0         \n",
      "                                                                 \n",
      " decoder_lstm (LSTM)         (None, 256)               1329152   \n",
      "                                                                 \n",
      " output (Dense)              (None, 1041)              267537    \n",
      "                                                                 \n",
      "=================================================================\n",
      "Total params: 1,596,689\n",
      "Trainable params: 1,596,689\n",
      "Non-trainable params: 0\n",
      "_________________________________________________________________\n"
     ]
    }
   ],
   "source": [
    "# Decoder RNN\n",
    "decoder_input = layers.Input(shape=(window_len,vocab_size), name = 'decoder_input')\n",
    "\n",
    "# Pass the encoder state to a new LSTM, as initial state\n",
    "decoder_output = layers.LSTM(dec_dim,\n",
    "                             dropout = dropout, recurrent_dropout = recurrent_dropout,\n",
    "                             name=\"decoder_lstm\")(decoder_input)\n",
    "output = layers.Dense(vocab_size, name = 'output', activation = 'softmax')(decoder_output)\n",
    "\n",
    "model = tf.keras.Model(decoder_input, output)\n",
    "model.summary()"
   ]
  },
  {
   "cell_type": "code",
   "execution_count": 16,
   "id": "83bb01d4",
   "metadata": {
    "id": "83bb01d4"
   },
   "outputs": [],
   "source": [
    "model.compile(loss = 'categorical_crossentropy',\n",
    "              optimizer = tf.keras.optimizers.Adam(learning_rate=learn_rate),\n",
    "              metrics = ['accuracy'])"
   ]
  },
  {
   "cell_type": "code",
   "execution_count": 17,
   "id": "MS_vUBeRM5EK",
   "metadata": {
    "id": "MS_vUBeRM5EK"
   },
   "outputs": [],
   "source": [
    "### Callbacks\n",
    "callback_es = tf.keras.callbacks.EarlyStopping(\n",
    "    monitor='val_loss',\n",
    "    min_delta=0,\n",
    "    patience=5,\n",
    "    verbose=0,\n",
    "    mode='min',\n",
    "    baseline=None,\n",
    "    restore_best_weights=True\n",
    ")\n",
    "\n",
    "callback_mc = tf.keras.callbacks.ModelCheckpoint(\n",
    "    filepath=model_folder+'/weights.{epoch:02d}-{val_loss:.2f}-{val_accuracy:.2f}.hdf5',\n",
    "    save_weights_only=True,\n",
    "    monitor='val_loss',\n",
    "    mode='min',\n",
    "    save_best_only=False)"
   ]
  },
  {
   "cell_type": "code",
   "execution_count": 18,
   "id": "hIOwUeQ0E0LD",
   "metadata": {
    "colab": {
     "base_uri": "https://localhost:8080/"
    },
    "executionInfo": {
     "elapsed": 3419544,
     "status": "ok",
     "timestamp": 1654817096109,
     "user": {
      "displayName": "QUEK HAO YONG, GABRIEL _",
      "userId": "08861584446371432378"
     },
     "user_tz": -480
    },
    "id": "hIOwUeQ0E0LD",
    "outputId": "d6c698d6-43bd-4ec4-ed59-1459cdebc790"
   },
   "outputs": [
    {
     "name": "stdout",
     "output_type": "stream",
     "text": [
      "Epoch 1/5\n",
      "181/181 [==============================] - 43s 214ms/step - loss: 5.1768 - accuracy: 0.1611 - val_loss: 4.8693 - val_accuracy: 0.1572\n",
      "Epoch 2/5\n",
      "181/181 [==============================] - 34s 186ms/step - loss: 4.7857 - accuracy: 0.1908 - val_loss: 4.6409 - val_accuracy: 0.2050\n",
      "Epoch 3/5\n",
      "181/181 [==============================] - 30s 165ms/step - loss: 4.5805 - accuracy: 0.2189 - val_loss: 4.4970 - val_accuracy: 0.2185\n",
      "Epoch 4/5\n",
      "181/181 [==============================] - 29s 161ms/step - loss: 4.4016 - accuracy: 0.2310 - val_loss: 4.3146 - val_accuracy: 0.2372\n",
      "Epoch 5/5\n",
      "181/181 [==============================] - 29s 160ms/step - loss: 4.1668 - accuracy: 0.2607 - val_loss: 4.1629 - val_accuracy: 0.2656\n"
     ]
    }
   ],
   "source": [
    "history = model.fit(x = train_dataset, validation_data = val_dataset, epochs = epochs, callbacks = [callback_es, callback_mc])"
   ]
  },
  {
   "cell_type": "code",
   "execution_count": 19,
   "id": "-TFMGWpszqVi",
   "metadata": {
    "id": "-TFMGWpszqVi"
   },
   "outputs": [],
   "source": [
    "#model.save_weights('../../../autoencoder/lstm/v1/final_weights.hdf5')"
   ]
  },
  {
   "cell_type": "code",
   "execution_count": 20,
   "id": "4a70fb69",
   "metadata": {},
   "outputs": [],
   "source": [
    "#model.load_weights('../../../autoencoder/lstm/v1/final_weights.hdf5')"
   ]
  },
  {
   "cell_type": "code",
   "execution_count": 21,
   "id": "6437f3f0",
   "metadata": {},
   "outputs": [],
   "source": [
    "start_string = 'Whenever I think back'"
   ]
  },
  {
   "cell_type": "code",
   "execution_count": 22,
   "id": "72b7e7fa",
   "metadata": {},
   "outputs": [],
   "source": [
    "tokenized_str = utils.tokenize_text(start_string, newline_token)\n",
    "input_indices = [vocab_to_index.get(s) for i, s in enumerate(tokenized_str) if i < window_len-1]\n",
    "input_indices = [i if i is not None else vocab_to_index.get(unk_token) for i in input_indices]\n",
    "input_indices = [vocab_to_index.get(pad_token)]*(window_len - len(input_indices)-1) + [vocab_to_index.get(start_token)] + input_indices"
   ]
  },
  {
   "cell_type": "code",
   "execution_count": 23,
   "id": "bd6d1a10",
   "metadata": {},
   "outputs": [],
   "source": [
    "input_oh = tf.one_hot(input_indices, depth = vocab_size)\n",
    "model_input = tf.expand_dims(input_oh, 0)"
   ]
  },
  {
   "cell_type": "code",
   "execution_count": 24,
   "id": "48c17b46",
   "metadata": {},
   "outputs": [],
   "source": [
    "text_generated = []"
   ]
  },
  {
   "cell_type": "code",
   "execution_count": 25,
   "id": "d88b86ce",
   "metadata": {},
   "outputs": [],
   "source": [
    "for _ in range(100):\n",
    "    #print([index_to_vocab[ind] for ind in np.where(model_input[0].numpy())[1]])\n",
    "    prediction = model.predict(model_input)\n",
    "\n",
    "    topk = tf.math.top_k(prediction,10)\n",
    "    #print([index_to_vocab.get(x) for x in topk.indices.numpy()[0]])\n",
    "    pred_id = tf.random.categorical(topk[0], num_samples = 1)\n",
    "\n",
    "    prediction = prediction / 1\n",
    "    #print(prediction[0,1])\n",
    "    #print(sum(prediction[0,:10]))\n",
    "    predicted_id = tf.random.categorical(np.log(prediction), num_samples=1, seed = random_seed)[-1,0]\n",
    "    pred_word = index_to_vocab[predicted_id.numpy()]\n",
    "    #print(pred_word)\n",
    "\n",
    "    pred_oh = tf.one_hot(predicted_id, depth = vocab_size)\n",
    "    input_index = tf.expand_dims(pred_oh, 0)\n",
    "    model_input = tf.expand_dims(tf.concat([model_input[0][1:,:], input_index], axis = 0), 0)\n",
    "    \n",
    "    if pred_word == '<new>':\n",
    "        text_generated.append('\\n')\n",
    "    else:\n",
    "        text_generated.append(pred_word)"
   ]
  },
  {
   "cell_type": "code",
   "execution_count": 26,
   "id": "373432a8",
   "metadata": {},
   "outputs": [
    {
     "name": "stdout",
     "output_type": "stream",
     "text": [
      "\n",
      " look a of unfurled standing hopes long end these said told struggled feel my moments hands in four colleagues shore not our stronger the changing the in \n",
      " till \n",
      " one out \n",
      " stand \n",
      " more \n",
      " \n",
      " sing the cooking be \n",
      " i are worth always wide to be here and \n",
      " make i la seen aside five every special and \n",
      " a grow together \n",
      " ages must ahead experienced what favourite way and love \n",
      " know may be awaits stars heart we the singaporean dating come me working will brings different take \n",
      " i feel eiffel brave\n"
     ]
    }
   ],
   "source": [
    "print(' '.join(text_generated))"
   ]
  },
  {
   "cell_type": "code",
   "execution_count": null,
   "id": "53185012",
   "metadata": {},
   "outputs": [],
   "source": []
  },
  {
   "cell_type": "code",
   "execution_count": null,
   "id": "wo0aCkdPL2EU",
   "metadata": {
    "id": "wo0aCkdPL2EU"
   },
   "outputs": [],
   "source": [
    "# prompts = ['Whenever I think back', 'And so this I know',\n",
    "#            'I am tired of being what you want me to be', 'Feeling so faithless, lost under the surface',\n",
    "#            'Relight our fire, we will find our way', 'We will rise stronger together']\n",
    "# result_strings = {}\n",
    "# results = {}\n",
    "# for prompt in prompts:\n",
    "#     result_str, result = utils.generate_text(model,\n",
    "#                                              ae_utils.ind_to_input_fun, ae_utils.update_input_fun,\n",
    "#                                              start_string = prompt,\n",
    "#                                              window_length = window_len,\n",
    "#                                              vocab_to_index_dict = vocab_to_index, index_to_vocab_dict = index_to_vocab,\n",
    "#                                              vocab_size = vocab_size,\n",
    "#                                              num_generate = 100, temperature = 1.0,\n",
    "#                                              random_seed = random_seed,\n",
    "#                                              end_token = end_token, start_token = start_token,\n",
    "#                                              pad_token = pad_token, unk_token = unk_token,\n",
    "#                                              newline_token = newline_token,\n",
    "#                                              depth = vocab_size)\n",
    "#     result_strings[prompt] = result_str\n",
    "#     results[prompt] = result\n",
    "\n",
    "# final_str = f'\\n\\n{end_token}\\n\\n'.join([f'{k}:\\n{v}' for k, v in result_strings.items()])"
   ]
  },
  {
   "cell_type": "code",
   "execution_count": null,
   "id": "df72fa0c",
   "metadata": {},
   "outputs": [],
   "source": [
    "# print(final_str)"
   ]
  },
  {
   "cell_type": "code",
   "execution_count": null,
   "id": "PgGgpFvaxDuL",
   "metadata": {
    "id": "PgGgpFvaxDuL"
   },
   "outputs": [],
   "source": [
    "# with open(model_folder+'/generated_text.txt', 'w') as f:\n",
    "#     f.write(final_str)"
   ]
  },
  {
   "cell_type": "code",
   "execution_count": null,
   "id": "c395bdc6",
   "metadata": {},
   "outputs": [],
   "source": []
  }
 ],
 "metadata": {
  "accelerator": "GPU",
  "colab": {
   "collapsed_sections": [],
   "name": "Autoencoder (LSTM).ipynb",
   "provenance": [
    {
     "file_id": "1L31juRVcjedsJQLb65vDeIYnGfc5VeMn",
     "timestamp": 1654812818685
    },
    {
     "file_id": "1s0I-h_H-57P4mfHpn7K9ARRffBzA2996",
     "timestamp": 1654811271378
    },
    {
     "file_id": "1fSgHJcraq0bKZQlGXUqlQ4abpWOsgdIu",
     "timestamp": 1654782642697
    },
    {
     "file_id": "1_pyvxTi14GzEPtSGxMTy55XDNlCfsK0h",
     "timestamp": 1654781952290
    },
    {
     "file_id": "164GHOXuG8X-6WN_mbIfShYez3xOdSrkL",
     "timestamp": 1654771075102
    }
   ]
  },
  "kernelspec": {
   "display_name": "Python 3",
   "language": "python",
   "name": "python3"
  },
  "language_info": {
   "codemirror_mode": {
    "name": "ipython",
    "version": 3
   },
   "file_extension": ".py",
   "mimetype": "text/x-python",
   "name": "python",
   "nbconvert_exporter": "python",
   "pygments_lexer": "ipython3",
   "version": "3.8.8"
  }
 },
 "nbformat": 4,
 "nbformat_minor": 5
}
