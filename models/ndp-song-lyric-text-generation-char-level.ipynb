{
 "cells": [
  {
   "cell_type": "markdown",
   "id": "c0b1ffad",
   "metadata": {
    "id": "JL3ZPJPgC4wC",
    "papermill": {
     "duration": 0.057062,
     "end_time": "2022-05-23T08:39:23.251559",
     "exception": false,
     "start_time": "2022-05-23T08:39:23.194497",
     "status": "completed"
    },
    "tags": []
   },
   "source": [
    "# NDP Song Lyric Generation (using RNN LSTM)"
   ]
  },
  {
   "cell_type": "markdown",
   "id": "65a8fae6",
   "metadata": {
    "id": "3XxEZuRNIzHH",
    "papermill": {
     "duration": 0.054019,
     "end_time": "2022-05-23T08:39:23.359349",
     "exception": false,
     "start_time": "2022-05-23T08:39:23.305330",
     "status": "completed"
    },
    "tags": []
   },
   "source": [
    "_Inspired by [Text generation with an RNN](https://www.tensorflow.org/tutorials/text/text_generation)_"
   ]
  },
  {
   "cell_type": "markdown",
   "id": "48f4b02d",
   "metadata": {
    "id": "IDJctDhhEDTD",
    "papermill": {
     "duration": 0.053583,
     "end_time": "2022-05-23T08:39:23.466545",
     "exception": false,
     "start_time": "2022-05-23T08:39:23.412962",
     "status": "completed"
    },
    "tags": []
   },
   "source": [
    "## Import dependencies"
   ]
  },
  {
   "cell_type": "code",
   "execution_count": 1,
   "id": "4222d984",
   "metadata": {
    "execution": {
     "iopub.execute_input": "2022-05-23T08:39:23.575697Z",
     "iopub.status.busy": "2022-05-23T08:39:23.575046Z",
     "iopub.status.idle": "2022-05-23T08:39:28.927819Z",
     "shell.execute_reply": "2022-05-23T08:39:28.926979Z"
    },
    "id": "SpueB6zADYgE",
    "outputId": "3f4e9997-8ce8-4ef8-f8f9-320c9a44e03b",
    "papermill": {
     "duration": 5.409435,
     "end_time": "2022-05-23T08:39:28.929823",
     "exception": false,
     "start_time": "2022-05-23T08:39:23.520388",
     "status": "completed"
    },
    "tags": []
   },
   "outputs": [
    {
     "name": "stdout",
     "output_type": "stream",
     "text": [
      "Python version: 3.7.12\n",
      "Tensorflow version: 2.6.3\n",
      "Keras version: 2.6.0\n"
     ]
    }
   ],
   "source": [
    "import tensorflow as tf\n",
    "import matplotlib.pyplot as plt\n",
    "import numpy as np\n",
    "import platform\n",
    "import time\n",
    "import pathlib\n",
    "import os\n",
    "\n",
    "print('Python version:', platform.python_version())\n",
    "print('Tensorflow version:', tf.__version__)\n",
    "print('Keras version:', tf.keras.__version__)"
   ]
  },
  {
   "cell_type": "markdown",
   "id": "09c709c0",
   "metadata": {
    "id": "ciI_JnnNEGCw",
    "papermill": {
     "duration": 0.053446,
     "end_time": "2022-05-23T08:39:29.037562",
     "exception": false,
     "start_time": "2022-05-23T08:39:28.984116",
     "status": "completed"
    },
    "tags": []
   },
   "source": [
    "## Download the dataset"
   ]
  },
  {
   "cell_type": "code",
   "execution_count": 2,
   "id": "d6ba7fd4",
   "metadata": {
    "execution": {
     "iopub.execute_input": "2022-05-23T08:39:29.149680Z",
     "iopub.status.busy": "2022-05-23T08:39:29.149433Z",
     "iopub.status.idle": "2022-05-23T08:39:29.165779Z",
     "shell.execute_reply": "2022-05-23T08:39:29.165081Z"
    },
    "id": "Vk2HldshEOph",
    "outputId": "45342704-eb1c-4863-a4e4-8a94d9cc764b",
    "papermill": {
     "duration": 0.073298,
     "end_time": "2022-05-23T08:39:29.167451",
     "exception": false,
     "start_time": "2022-05-23T08:39:29.094153",
     "status": "completed"
    },
    "tags": []
   },
   "outputs": [
    {
     "data": {
      "text/plain": [
       "['Someone Someday.txt',\n",
       " 'I Love Singapore.txt',\n",
       " 'We Will Get There.txt',\n",
       " 'Shine for Singapore.txt',\n",
       " 'Theres No Place Id Rather Be.txt']"
      ]
     },
     "execution_count": 2,
     "metadata": {},
     "output_type": "execute_result"
    }
   ],
   "source": [
    "dataset_file_names = os.listdir('../input/ndp-songs/NDP Song Lyrics')\n",
    "dataset_file_names[:5]"
   ]
  },
  {
   "cell_type": "code",
   "execution_count": 3,
   "id": "1775bdf9",
   "metadata": {
    "execution": {
     "iopub.execute_input": "2022-05-23T08:39:29.278216Z",
     "iopub.status.busy": "2022-05-23T08:39:29.277969Z",
     "iopub.status.idle": "2022-05-23T08:39:29.378534Z",
     "shell.execute_reply": "2022-05-23T08:39:29.377730Z"
    },
    "papermill": {
     "duration": 0.156905,
     "end_time": "2022-05-23T08:39:29.380365",
     "exception": false,
     "start_time": "2022-05-23T08:39:29.223460",
     "status": "completed"
    },
    "tags": []
   },
   "outputs": [],
   "source": [
    "corpus = ''\n",
    "for file in dataset_file_names:\n",
    "    text = open('../input/ndp-songs/NDP Song Lyrics/'+file, mode='r').read()\n",
    "    corpus += text"
   ]
  },
  {
   "cell_type": "markdown",
   "id": "7ac9a3c6",
   "metadata": {
    "id": "eKTy6YS5Gx-g",
    "papermill": {
     "duration": 0.053656,
     "end_time": "2022-05-23T08:39:29.488074",
     "exception": false,
     "start_time": "2022-05-23T08:39:29.434418",
     "status": "completed"
    },
    "tags": []
   },
   "source": [
    "## Analyze the dataset"
   ]
  },
  {
   "cell_type": "code",
   "execution_count": 4,
   "id": "6b8fb4f4",
   "metadata": {
    "execution": {
     "iopub.execute_input": "2022-05-23T08:39:29.596833Z",
     "iopub.status.busy": "2022-05-23T08:39:29.596602Z",
     "iopub.status.idle": "2022-05-23T08:39:29.601018Z",
     "shell.execute_reply": "2022-05-23T08:39:29.600256Z"
    },
    "id": "CzfX7hK8G0bn",
    "outputId": "dbcd9c2e-967d-404f-ebd4-387ee0b629d7",
    "papermill": {
     "duration": 0.061979,
     "end_time": "2022-05-23T08:39:29.604037",
     "exception": false,
     "start_time": "2022-05-23T08:39:29.542058",
     "status": "completed"
    },
    "tags": []
   },
   "outputs": [
    {
     "name": "stdout",
     "output_type": "stream",
     "text": [
      "Length of Corpus: 46154 characters\n"
     ]
    }
   ],
   "source": [
    "print('Length of Corpus: {} characters'.format(len(corpus)))"
   ]
  },
  {
   "cell_type": "code",
   "execution_count": 5,
   "id": "0e8bce20",
   "metadata": {
    "execution": {
     "iopub.execute_input": "2022-05-23T08:39:29.713916Z",
     "iopub.status.busy": "2022-05-23T08:39:29.713723Z",
     "iopub.status.idle": "2022-05-23T08:39:29.719882Z",
     "shell.execute_reply": "2022-05-23T08:39:29.718955Z"
    },
    "id": "nknOAOuoH-Av",
    "outputId": "7030d3f8-c6a8-43e0-81a0-c1e87d677314",
    "papermill": {
     "duration": 0.062884,
     "end_time": "2022-05-23T08:39:29.721959",
     "exception": false,
     "start_time": "2022-05-23T08:39:29.659075",
     "status": "completed"
    },
    "tags": []
   },
   "outputs": [
    {
     "name": "stdout",
     "output_type": "stream",
     "text": [
      "Didn't they used to say we're ordinary\n",
      "Didn't we take it as that and put ourselves down\n",
      "Don't we all, don't we all think it's necessary\n",
      "To prove to them that we'll be\n",
      "We'll be someone someday\n",
      "Aren't you tired, so very tired of waiting\n",
      "For something else, someone else to give us a hand\n",
      "Pick yourself up, pick yourself up, get ready\n",
      "We'll go make a difference\n",
      "We'll be someone someday\n",
      "That's right, we'll make you proud of us\n",
      "You and me\n",
      "That means that we should be happy\n",
      "Let it come to us naturally\n",
      "Look around, look around us\n",
      "Weren't there many \n",
      "who patronised, contradict us and pushed us aside\n",
      "Recognise, realise, start believing\n",
      "Sure, there'll be despair\n",
      "But don't let yourself fallIt's now a quarter of a century\n",
      "We have worked so hard now just to be free\n",
      "Through all the heartaches and the pains\n",
      "We have stood through all the many many changes\n",
      "In our hearts we have become like family\n",
      "Can't you see\n",
      "Yeah, can't you see\n",
      "Ooh\n",
      "We have only what we have in our hands\n",
      "And in our hearts we've given wh\n"
     ]
    }
   ],
   "source": [
    "# Take a look at the first 250 characters in text.\n",
    "print(corpus[:1000])"
   ]
  },
  {
   "cell_type": "code",
   "execution_count": 6,
   "id": "e89027c3",
   "metadata": {
    "execution": {
     "iopub.execute_input": "2022-05-23T08:39:29.833923Z",
     "iopub.status.busy": "2022-05-23T08:39:29.833301Z",
     "iopub.status.idle": "2022-05-23T08:39:29.840395Z",
     "shell.execute_reply": "2022-05-23T08:39:29.839248Z"
    },
    "id": "VPXkB5bOITqi",
    "outputId": "69fdb374-4b35-442d-a934-7017245ea18e",
    "papermill": {
     "duration": 0.06475,
     "end_time": "2022-05-23T08:39:29.842533",
     "exception": false,
     "start_time": "2022-05-23T08:39:29.777783",
     "status": "completed"
    },
    "tags": []
   },
   "outputs": [
    {
     "name": "stdout",
     "output_type": "stream",
     "text": [
      "72 unique characters\n",
      "vocab: ['\\n', ' ', '!', '&', \"'\", '(', ')', ',', '-', '.', '1', '2', ':', ';', '?', 'A', 'B', 'C', 'D', 'E', 'F', 'G', 'H', 'I', 'J', 'K', 'L', 'M', 'N', 'O', 'P', 'Q', 'R', 'S', 'T', 'U', 'V', 'W', 'Y', '[', ']', '^', 'a', 'b', 'c', 'd', 'e', 'f', 'g', 'h', 'i', 'j', 'k', 'l', 'm', 'n', 'o', 'p', 'q', 'r', 's', 't', 'u', 'v', 'w', 'x', 'y', 'z', '\\u2005', '’', '…', '\\u205f']\n"
     ]
    }
   ],
   "source": [
    "# The unique characters in the file\n",
    "vocab = sorted(set(corpus))\n",
    "\n",
    "print('{} unique characters'.format(len(vocab)))\n",
    "print('vocab:', vocab)"
   ]
  },
  {
   "cell_type": "markdown",
   "id": "035a4dbb",
   "metadata": {
    "id": "GqpuKh9HMNnf",
    "papermill": {
     "duration": 0.055115,
     "end_time": "2022-05-23T08:39:29.953917",
     "exception": false,
     "start_time": "2022-05-23T08:39:29.898802",
     "status": "completed"
    },
    "tags": []
   },
   "source": [
    "## Process the dataset"
   ]
  },
  {
   "cell_type": "markdown",
   "id": "be1bcea8",
   "metadata": {
    "id": "6dj4e-AGMaV4",
    "papermill": {
     "duration": 0.055743,
     "end_time": "2022-05-23T08:39:30.065465",
     "exception": false,
     "start_time": "2022-05-23T08:39:30.009722",
     "status": "completed"
    },
    "tags": []
   },
   "source": [
    "### Vectorize the text\n",
    "\n",
    "Before feeding the text to our RNN we need to convert the text from a sequence of characters to a sequence of numbers. To do so we will detect all unique characters in the text, form a vocabulary out of it and replace each character with its index in the vocabulary."
   ]
  },
  {
   "cell_type": "code",
   "execution_count": 7,
   "id": "d67f5d11",
   "metadata": {
    "execution": {
     "iopub.execute_input": "2022-05-23T08:39:30.178230Z",
     "iopub.status.busy": "2022-05-23T08:39:30.177952Z",
     "iopub.status.idle": "2022-05-23T08:39:30.187765Z",
     "shell.execute_reply": "2022-05-23T08:39:30.186855Z"
    },
    "id": "xFFpuXfGMPq2",
    "outputId": "530395b0-62e2-41e5-c0bf-63b2ca9da7cf",
    "papermill": {
     "duration": 0.06881,
     "end_time": "2022-05-23T08:39:30.190086",
     "exception": false,
     "start_time": "2022-05-23T08:39:30.121276",
     "status": "completed"
    },
    "tags": []
   },
   "outputs": [
    {
     "name": "stdout",
     "output_type": "stream",
     "text": [
      "{\n",
      "  '\\n':   0,\n",
      "  ' ' :   1,\n",
      "  '!' :   2,\n",
      "  '&' :   3,\n",
      "  \"'\" :   4,\n",
      "  '(' :   5,\n",
      "  ')' :   6,\n",
      "  ',' :   7,\n",
      "  '-' :   8,\n",
      "  '.' :   9,\n",
      "  '1' :  10,\n",
      "  '2' :  11,\n",
      "  ':' :  12,\n",
      "  ';' :  13,\n",
      "  '?' :  14,\n",
      "  'A' :  15,\n",
      "  'B' :  16,\n",
      "  'C' :  17,\n",
      "  'D' :  18,\n",
      "  'E' :  19,\n",
      "  ...\n",
      "}\n"
     ]
    }
   ],
   "source": [
    "# Map characters to their indices in vocabulary.\n",
    "char2index = {char: index for index, char in enumerate(vocab)}\n",
    "\n",
    "print('{')\n",
    "for char, _ in zip(char2index, range(20)):\n",
    "    print('  {:4s}: {:3d},'.format(repr(char), char2index[char]))\n",
    "print('  ...\\n}')"
   ]
  },
  {
   "cell_type": "code",
   "execution_count": 8,
   "id": "db289ca8",
   "metadata": {
    "execution": {
     "iopub.execute_input": "2022-05-23T08:39:30.301817Z",
     "iopub.status.busy": "2022-05-23T08:39:30.301613Z",
     "iopub.status.idle": "2022-05-23T08:39:30.306222Z",
     "shell.execute_reply": "2022-05-23T08:39:30.305436Z"
    },
    "id": "lQB33zI7NkRo",
    "outputId": "ef5bc93f-7bad-437f-f70a-9eb53d895613",
    "papermill": {
     "duration": 0.063519,
     "end_time": "2022-05-23T08:39:30.309279",
     "exception": false,
     "start_time": "2022-05-23T08:39:30.245760",
     "status": "completed"
    },
    "tags": []
   },
   "outputs": [
    {
     "name": "stdout",
     "output_type": "stream",
     "text": [
      "['\\n' ' ' '!' '&' \"'\" '(' ')' ',' '-' '.' '1' '2' ':' ';' '?' 'A' 'B' 'C'\n",
      " 'D' 'E' 'F' 'G' 'H' 'I' 'J' 'K' 'L' 'M' 'N' 'O' 'P' 'Q' 'R' 'S' 'T' 'U'\n",
      " 'V' 'W' 'Y' '[' ']' '^' 'a' 'b' 'c' 'd' 'e' 'f' 'g' 'h' 'i' 'j' 'k' 'l'\n",
      " 'm' 'n' 'o' 'p' 'q' 'r' 's' 't' 'u' 'v' 'w' 'x' 'y' 'z' '\\u2005' '’' '…'\n",
      " '\\u205f']\n"
     ]
    }
   ],
   "source": [
    "# Map character indices to characters from vacabulary.\n",
    "index2char = np.array(vocab)\n",
    "print(index2char)"
   ]
  },
  {
   "cell_type": "code",
   "execution_count": 9,
   "id": "e8be037f",
   "metadata": {
    "execution": {
     "iopub.execute_input": "2022-05-23T08:39:30.422735Z",
     "iopub.status.busy": "2022-05-23T08:39:30.422214Z",
     "iopub.status.idle": "2022-05-23T08:39:30.436565Z",
     "shell.execute_reply": "2022-05-23T08:39:30.435896Z"
    },
    "id": "DXUAlYmvN_Rj",
    "outputId": "ef3412c4-68e0-4362-e093-feba628b7079",
    "papermill": {
     "duration": 0.073194,
     "end_time": "2022-05-23T08:39:30.438693",
     "exception": false,
     "start_time": "2022-05-23T08:39:30.365499",
     "status": "completed"
    },
    "tags": []
   },
   "outputs": [
    {
     "name": "stdout",
     "output_type": "stream",
     "text": [
      "text_as_int length: 46154\n",
      "'Ever since we c' --> array([18, 50, 45, 55,  4, 61,  1, 61, 49, 46, 66,  1, 62, 60, 46])\n"
     ]
    }
   ],
   "source": [
    "# Convert chars in text to indices.\n",
    "text_as_int = np.array([char2index[char] for char in corpus])\n",
    "\n",
    "print('text_as_int length: {}'.format(len(text_as_int)))\n",
    "print('{} --> {}'.format(repr(text[:15]), repr(text_as_int[:15])))"
   ]
  },
  {
   "cell_type": "markdown",
   "id": "721b8710",
   "metadata": {
    "id": "CHv5HhUuTQYS",
    "papermill": {
     "duration": 0.055025,
     "end_time": "2022-05-23T08:39:30.548937",
     "exception": false,
     "start_time": "2022-05-23T08:39:30.493912",
     "status": "completed"
    },
    "tags": []
   },
   "source": [
    "## Create training sequences"
   ]
  },
  {
   "cell_type": "code",
   "execution_count": 10,
   "id": "62b8a70f",
   "metadata": {
    "execution": {
     "iopub.execute_input": "2022-05-23T08:39:30.660832Z",
     "iopub.status.busy": "2022-05-23T08:39:30.660393Z",
     "iopub.status.idle": "2022-05-23T08:39:30.665634Z",
     "shell.execute_reply": "2022-05-23T08:39:30.664860Z"
    },
    "id": "9tHT8IXGTTtZ",
    "outputId": "489b7e07-e898-49bc-e099-a9e7c4791c8c",
    "papermill": {
     "duration": 0.063596,
     "end_time": "2022-05-23T08:39:30.667663",
     "exception": false,
     "start_time": "2022-05-23T08:39:30.604067",
     "status": "completed"
    },
    "tags": []
   },
   "outputs": [
    {
     "name": "stdout",
     "output_type": "stream",
     "text": [
      "examples_per_epoch: 904\n"
     ]
    }
   ],
   "source": [
    "# The maximum length sentence we want for a single input in characters.\n",
    "sequence_length = 50\n",
    "examples_per_epoch = len(corpus) // (sequence_length + 1)\n",
    "\n",
    "print('examples_per_epoch:', examples_per_epoch)"
   ]
  },
  {
   "cell_type": "code",
   "execution_count": 11,
   "id": "cdea2faf",
   "metadata": {
    "execution": {
     "iopub.execute_input": "2022-05-23T08:39:30.781746Z",
     "iopub.status.busy": "2022-05-23T08:39:30.781536Z",
     "iopub.status.idle": "2022-05-23T08:39:33.329566Z",
     "shell.execute_reply": "2022-05-23T08:39:33.328029Z"
    },
    "id": "Pf5tMMDnUP3q",
    "outputId": "f8e191f6-df0b-426b-9905-af62be4d605c",
    "papermill": {
     "duration": 2.60718,
     "end_time": "2022-05-23T08:39:33.331825",
     "exception": false,
     "start_time": "2022-05-23T08:39:30.724645",
     "status": "completed"
    },
    "tags": []
   },
   "outputs": [
    {
     "name": "stdout",
     "output_type": "stream",
     "text": [
      "D\n",
      "i\n",
      "d\n",
      "n\n",
      "'\n"
     ]
    },
    {
     "name": "stderr",
     "output_type": "stream",
     "text": [
      "2022-05-23 08:39:30.843279: I tensorflow/stream_executor/cuda/cuda_gpu_executor.cc:937] successful NUMA node read from SysFS had negative value (-1), but there must be at least one NUMA node, so returning NUMA node zero\n",
      "2022-05-23 08:39:30.975422: I tensorflow/stream_executor/cuda/cuda_gpu_executor.cc:937] successful NUMA node read from SysFS had negative value (-1), but there must be at least one NUMA node, so returning NUMA node zero\n",
      "2022-05-23 08:39:30.976220: I tensorflow/stream_executor/cuda/cuda_gpu_executor.cc:937] successful NUMA node read from SysFS had negative value (-1), but there must be at least one NUMA node, so returning NUMA node zero\n",
      "2022-05-23 08:39:30.979257: I tensorflow/core/platform/cpu_feature_guard.cc:142] This TensorFlow binary is optimized with oneAPI Deep Neural Network Library (oneDNN) to use the following CPU instructions in performance-critical operations:  AVX2 AVX512F FMA\n",
      "To enable them in other operations, rebuild TensorFlow with the appropriate compiler flags.\n",
      "2022-05-23 08:39:30.979587: I tensorflow/stream_executor/cuda/cuda_gpu_executor.cc:937] successful NUMA node read from SysFS had negative value (-1), but there must be at least one NUMA node, so returning NUMA node zero\n",
      "2022-05-23 08:39:30.980498: I tensorflow/stream_executor/cuda/cuda_gpu_executor.cc:937] successful NUMA node read from SysFS had negative value (-1), but there must be at least one NUMA node, so returning NUMA node zero\n",
      "2022-05-23 08:39:30.981351: I tensorflow/stream_executor/cuda/cuda_gpu_executor.cc:937] successful NUMA node read from SysFS had negative value (-1), but there must be at least one NUMA node, so returning NUMA node zero\n",
      "2022-05-23 08:39:32.983290: I tensorflow/stream_executor/cuda/cuda_gpu_executor.cc:937] successful NUMA node read from SysFS had negative value (-1), but there must be at least one NUMA node, so returning NUMA node zero\n",
      "2022-05-23 08:39:32.984101: I tensorflow/stream_executor/cuda/cuda_gpu_executor.cc:937] successful NUMA node read from SysFS had negative value (-1), but there must be at least one NUMA node, so returning NUMA node zero\n",
      "2022-05-23 08:39:32.984834: I tensorflow/stream_executor/cuda/cuda_gpu_executor.cc:937] successful NUMA node read from SysFS had negative value (-1), but there must be at least one NUMA node, so returning NUMA node zero\n",
      "2022-05-23 08:39:32.986079: I tensorflow/core/common_runtime/gpu/gpu_device.cc:1510] Created device /job:localhost/replica:0/task:0/device:GPU:0 with 15403 MB memory:  -> device: 0, name: Tesla P100-PCIE-16GB, pci bus id: 0000:00:04.0, compute capability: 6.0\n"
     ]
    }
   ],
   "source": [
    "# Create training dataset.\n",
    "char_dataset = tf.data.Dataset.from_tensor_slices(text_as_int)\n",
    "\n",
    "for char in char_dataset.take(5):\n",
    "    print(index2char[char.numpy()])"
   ]
  },
  {
   "cell_type": "code",
   "execution_count": 12,
   "id": "7ee16ea5",
   "metadata": {
    "execution": {
     "iopub.execute_input": "2022-05-23T08:39:33.450602Z",
     "iopub.status.busy": "2022-05-23T08:39:33.449844Z",
     "iopub.status.idle": "2022-05-23T08:39:33.566848Z",
     "shell.execute_reply": "2022-05-23T08:39:33.566090Z"
    },
    "id": "Ap71VjB2Vuct",
    "outputId": "0c05de4a-d66c-4f20-83a7-e584d853e98d",
    "papermill": {
     "duration": 0.178509,
     "end_time": "2022-05-23T08:39:33.569194",
     "exception": false,
     "start_time": "2022-05-23T08:39:33.390685",
     "status": "completed"
    },
    "tags": []
   },
   "outputs": [
    {
     "name": "stdout",
     "output_type": "stream",
     "text": [
      "Sequences count: 904\n",
      "\n",
      "\"Didn't they used to say we're ordinary\\nDidn't we ta\"\n",
      "\"ke it as that and put ourselves down\\nDon't we all, \"\n",
      "\"don't we all think it's necessary\\nTo prove to them \"\n",
      "\"that we'll be\\nWe'll be someone someday\\nAren't you t\"\n",
      "'ired, so very tired of waiting\\nFor something else, '\n"
     ]
    }
   ],
   "source": [
    "# Generate batched sequences out of the char_dataset.\n",
    "sequences = char_dataset.batch(sequence_length + 1, drop_remainder=True)\n",
    "\n",
    "# Sequences size is the same as examples_per_epoch.\n",
    "print('Sequences count: {}'.format(len(list(sequences.as_numpy_iterator()))));\n",
    "print()\n",
    "\n",
    "# Sequences examples.\n",
    "for item in sequences.take(5):\n",
    "    print(repr(''.join(index2char[item.numpy()])))"
   ]
  },
  {
   "cell_type": "code",
   "execution_count": 13,
   "id": "b2a1060a",
   "metadata": {
    "execution": {
     "iopub.execute_input": "2022-05-23T08:39:33.687083Z",
     "iopub.status.busy": "2022-05-23T08:39:33.686840Z",
     "iopub.status.idle": "2022-05-23T08:39:33.690204Z",
     "shell.execute_reply": "2022-05-23T08:39:33.689459Z"
    },
    "id": "Y8spPCfe-iTn",
    "papermill": {
     "duration": 0.064276,
     "end_time": "2022-05-23T08:39:33.692007",
     "exception": false,
     "start_time": "2022-05-23T08:39:33.627731",
     "status": "completed"
    },
    "tags": []
   },
   "outputs": [],
   "source": [
    "# sequences shape:\n",
    "# - 11043 sequences\n",
    "# - Each sequence of length 101\n",
    "#\n",
    "#\n",
    "#    101     101          101\n",
    "# [(.....) (.....) ...  (.....)]\n",
    "#\n",
    "# <---------- 11043 ----------->"
   ]
  },
  {
   "cell_type": "markdown",
   "id": "d2efed16",
   "metadata": {
    "id": "HdcrcUs4Xxso",
    "papermill": {
     "duration": 0.066918,
     "end_time": "2022-05-23T08:39:33.816653",
     "exception": false,
     "start_time": "2022-05-23T08:39:33.749735",
     "status": "completed"
    },
    "tags": []
   },
   "source": [
    "For each sequence, duplicate and shift it to form the input and target text. For example, say `sequence_length` is `4` and our text is `Hello`. The input sequence would be `Hell`, and the target sequence `ello`."
   ]
  },
  {
   "cell_type": "code",
   "execution_count": 14,
   "id": "d48ccf17",
   "metadata": {
    "execution": {
     "iopub.execute_input": "2022-05-23T08:39:33.933871Z",
     "iopub.status.busy": "2022-05-23T08:39:33.933305Z",
     "iopub.status.idle": "2022-05-23T08:39:33.937294Z",
     "shell.execute_reply": "2022-05-23T08:39:33.936612Z"
    },
    "id": "9fxvXsP0XFDh",
    "papermill": {
     "duration": 0.064735,
     "end_time": "2022-05-23T08:39:33.938893",
     "exception": false,
     "start_time": "2022-05-23T08:39:33.874158",
     "status": "completed"
    },
    "tags": []
   },
   "outputs": [],
   "source": [
    "def split_input_target(chunk):\n",
    "    input_text = chunk[:-1]\n",
    "    target_text = chunk[1:]\n",
    "    return input_text, target_text"
   ]
  },
  {
   "cell_type": "code",
   "execution_count": 15,
   "id": "6a78d15a",
   "metadata": {
    "execution": {
     "iopub.execute_input": "2022-05-23T08:39:34.058472Z",
     "iopub.status.busy": "2022-05-23T08:39:34.058230Z",
     "iopub.status.idle": "2022-05-23T08:39:34.395066Z",
     "shell.execute_reply": "2022-05-23T08:39:34.394287Z"
    },
    "id": "454rWIQYXXRY",
    "outputId": "de3a70e1-49e8-4f68-d988-77d1856a2e60",
    "papermill": {
     "duration": 0.400164,
     "end_time": "2022-05-23T08:39:34.397228",
     "exception": false,
     "start_time": "2022-05-23T08:39:33.997064",
     "status": "completed"
    },
    "tags": []
   },
   "outputs": [
    {
     "name": "stderr",
     "output_type": "stream",
     "text": [
      "2022-05-23 08:39:34.128367: I tensorflow/compiler/mlir/mlir_graph_optimization_pass.cc:185] None of the MLIR Optimization Passes are enabled (registered 2)\n"
     ]
    },
    {
     "name": "stdout",
     "output_type": "stream",
     "text": [
      "dataset size: 904\n"
     ]
    }
   ],
   "source": [
    "dataset = sequences.map(split_input_target)\n",
    "\n",
    "# Dataset size is the same as examples_per_epoch.\n",
    "# But each element of a sequence is now has length of `sequence_length`\n",
    "# and not `sequence_length + 1`.\n",
    "print('dataset size: {}'.format(len(list(dataset.as_numpy_iterator()))))"
   ]
  },
  {
   "cell_type": "code",
   "execution_count": 16,
   "id": "c48339cd",
   "metadata": {
    "execution": {
     "iopub.execute_input": "2022-05-23T08:39:34.514851Z",
     "iopub.status.busy": "2022-05-23T08:39:34.514600Z",
     "iopub.status.idle": "2022-05-23T08:39:34.533828Z",
     "shell.execute_reply": "2022-05-23T08:39:34.532954Z"
    },
    "id": "Kuoh4tCdYCck",
    "outputId": "b03368eb-4c92-4662-95fe-d64f6bec308d",
    "papermill": {
     "duration": 0.080328,
     "end_time": "2022-05-23T08:39:34.536032",
     "exception": false,
     "start_time": "2022-05-23T08:39:34.455704",
     "status": "completed"
    },
    "tags": []
   },
   "outputs": [
    {
     "name": "stdout",
     "output_type": "stream",
     "text": [
      "Input sequence size: 50\n",
      "Target sequence size: 50\n",
      "\n",
      "Input: \"Didn't they used to say we're ordinary\\nDidn't we t\"\n",
      "Target: \"idn't they used to say we're ordinary\\nDidn't we ta\"\n"
     ]
    }
   ],
   "source": [
    "for input_example, target_example in dataset.take(1):\n",
    "    print('Input sequence size:', repr(len(input_example.numpy())))\n",
    "    print('Target sequence size:', repr(len(target_example.numpy())))\n",
    "    print()\n",
    "    print('Input:', repr(''.join(index2char[input_example.numpy()])))\n",
    "    print('Target:', repr(''.join(index2char[target_example.numpy()])))"
   ]
  },
  {
   "cell_type": "code",
   "execution_count": 17,
   "id": "4a185b2c",
   "metadata": {
    "execution": {
     "iopub.execute_input": "2022-05-23T08:39:34.655043Z",
     "iopub.status.busy": "2022-05-23T08:39:34.654806Z",
     "iopub.status.idle": "2022-05-23T08:39:34.658882Z",
     "shell.execute_reply": "2022-05-23T08:39:34.658224Z"
    },
    "id": "cp0tl0sN807l",
    "papermill": {
     "duration": 0.064533,
     "end_time": "2022-05-23T08:39:34.660575",
     "exception": false,
     "start_time": "2022-05-23T08:39:34.596042",
     "status": "completed"
    },
    "tags": []
   },
   "outputs": [],
   "source": [
    "# dataset shape:\n",
    "# - 11043 sequences\n",
    "# - Each sequence is a tuple of 2 sub-sequences of length 100 (input_text and target_text)\n",
    "#\n",
    "#\n",
    "#    100       100           100\n",
    "# /(.....)\\ /(.....)\\ ... /(.....)\\  <-- input_text\n",
    "# \\(.....)/ \\(.....)/     \\(.....)/  <-- target_text\n",
    "#\n",
    "# <----------- 11043 ------------->"
   ]
  },
  {
   "cell_type": "markdown",
   "id": "faf909a3",
   "metadata": {
    "id": "BDYHEJ0pY1ai",
    "papermill": {
     "duration": 0.058362,
     "end_time": "2022-05-23T08:39:34.777920",
     "exception": false,
     "start_time": "2022-05-23T08:39:34.719558",
     "status": "completed"
    },
    "tags": []
   },
   "source": [
    "Each index of these vectors are processed as one time step. For the input at time step 0, the model receives the index for \"F\" and trys to predict the index for \"i\" as the next character. At the next timestep, it does the same thing but the RNN considers the previous step context in addition to the current input character."
   ]
  },
  {
   "cell_type": "code",
   "execution_count": 18,
   "id": "a0ee7cea",
   "metadata": {
    "execution": {
     "iopub.execute_input": "2022-05-23T08:39:34.897242Z",
     "iopub.status.busy": "2022-05-23T08:39:34.896971Z",
     "iopub.status.idle": "2022-05-23T08:39:34.912138Z",
     "shell.execute_reply": "2022-05-23T08:39:34.911364Z"
    },
    "id": "C-0zpv53Y2o4",
    "outputId": "05fb1543-308c-42f9-d2ee-003c2454772b",
    "papermill": {
     "duration": 0.077997,
     "end_time": "2022-05-23T08:39:34.914623",
     "exception": false,
     "start_time": "2022-05-23T08:39:34.836626",
     "status": "completed"
    },
    "tags": []
   },
   "outputs": [
    {
     "name": "stdout",
     "output_type": "stream",
     "text": [
      "Step  0\n",
      "  input: 18 ('D')\n",
      "  expected output: 50 ('i')\n",
      "Step  1\n",
      "  input: 50 ('i')\n",
      "  expected output: 45 ('d')\n",
      "Step  2\n",
      "  input: 45 ('d')\n",
      "  expected output: 55 ('n')\n",
      "Step  3\n",
      "  input: 55 ('n')\n",
      "  expected output: 4 (\"'\")\n",
      "Step  4\n",
      "  input: 4 (\"'\")\n",
      "  expected output: 61 ('t')\n"
     ]
    }
   ],
   "source": [
    "for i, (input_idx, target_idx) in enumerate(zip(input_example[:5], target_example[:5])):\n",
    "    print('Step {:2d}'.format(i))\n",
    "    print('  input: {} ({:s})'.format(input_idx, repr(index2char[input_idx])))\n",
    "    print('  expected output: {} ({:s})'.format(target_idx, repr(index2char[target_idx])))"
   ]
  },
  {
   "cell_type": "markdown",
   "id": "7d27f907",
   "metadata": {
    "id": "1iDlp40lC5YB",
    "papermill": {
     "duration": 0.058728,
     "end_time": "2022-05-23T08:39:35.033268",
     "exception": false,
     "start_time": "2022-05-23T08:39:34.974540",
     "status": "completed"
    },
    "tags": []
   },
   "source": [
    "## Split training sequences into batches\n",
    "\n",
    "We used `tf.data` to split the text into manageable sequences. But before feeding this data into the model, we need to shuffle the data and pack it into batches."
   ]
  },
  {
   "cell_type": "code",
   "execution_count": 19,
   "id": "8bbfd043",
   "metadata": {
    "execution": {
     "iopub.execute_input": "2022-05-23T08:39:35.151571Z",
     "iopub.status.busy": "2022-05-23T08:39:35.151321Z",
     "iopub.status.idle": "2022-05-23T08:39:35.161661Z",
     "shell.execute_reply": "2022-05-23T08:39:35.161043Z"
    },
    "id": "eDq-wa5EC3wW",
    "outputId": "d13224e8-062a-4df8-c232-04f60d572e8d",
    "papermill": {
     "duration": 0.071648,
     "end_time": "2022-05-23T08:39:35.163292",
     "exception": false,
     "start_time": "2022-05-23T08:39:35.091644",
     "status": "completed"
    },
    "tags": []
   },
   "outputs": [
    {
     "data": {
      "text/plain": [
       "<BatchDataset shapes: ((64, 50), (64, 50)), types: (tf.int64, tf.int64)>"
      ]
     },
     "execution_count": 19,
     "metadata": {},
     "output_type": "execute_result"
    }
   ],
   "source": [
    "# Batch size.\n",
    "BATCH_SIZE = 64\n",
    "\n",
    "# Buffer size to shuffle the dataset (TF data is designed to work\n",
    "# with possibly infinite sequences, so it doesn't attempt to shuffle\n",
    "# the entire sequence in memory. Instead, it maintains a buffer in\n",
    "# which it shuffles elements).\n",
    "BUFFER_SIZE = 10000\n",
    "\n",
    "dataset = dataset.shuffle(BUFFER_SIZE).batch(BATCH_SIZE, drop_remainder=True)\n",
    "\n",
    "dataset"
   ]
  },
  {
   "cell_type": "code",
   "execution_count": 20,
   "id": "51c24046",
   "metadata": {
    "execution": {
     "iopub.execute_input": "2022-05-23T08:39:35.281991Z",
     "iopub.status.busy": "2022-05-23T08:39:35.281761Z",
     "iopub.status.idle": "2022-05-23T08:39:35.381637Z",
     "shell.execute_reply": "2022-05-23T08:39:35.379990Z"
    },
    "id": "1x4puZiiOlyl",
    "outputId": "1debcd12-46ba-4b5f-aa56-a162fbe76f1a",
    "papermill": {
     "duration": 0.161465,
     "end_time": "2022-05-23T08:39:35.383907",
     "exception": false,
     "start_time": "2022-05-23T08:39:35.222442",
     "status": "completed"
    },
    "tags": []
   },
   "outputs": [
    {
     "name": "stdout",
     "output_type": "stream",
     "text": [
      "Batched dataset size: 14\n"
     ]
    }
   ],
   "source": [
    "print('Batched dataset size: {}'.format(len(list(dataset.as_numpy_iterator()))))"
   ]
  },
  {
   "cell_type": "code",
   "execution_count": 21,
   "id": "a0947ef0",
   "metadata": {
    "execution": {
     "iopub.execute_input": "2022-05-23T08:39:35.505814Z",
     "iopub.status.busy": "2022-05-23T08:39:35.505087Z",
     "iopub.status.idle": "2022-05-23T08:39:35.602918Z",
     "shell.execute_reply": "2022-05-23T08:39:35.602243Z"
    },
    "id": "b_kYgvQGBO0U",
    "outputId": "2dfda8dc-a501-4e5f-8835-6c87b8f77051",
    "papermill": {
     "duration": 0.160417,
     "end_time": "2022-05-23T08:39:35.605545",
     "exception": false,
     "start_time": "2022-05-23T08:39:35.445128",
     "status": "completed"
    },
    "tags": []
   },
   "outputs": [
    {
     "name": "stdout",
     "output_type": "stream",
     "text": [
      "1st batch: input_text: tf.Tensor(\n",
      "[[59  1 64 ... 37 46  1]\n",
      " [61 42 52 ... 55 45 60]\n",
      " [46  0 27 ...  1 47 56]\n",
      " ...\n",
      " [49 46  1 ... 46  0 16]\n",
      " [54 42 52 ...  1 64 50]\n",
      " [61 49 46 ...  1 42 55]], shape=(64, 50), dtype=int64)\n",
      "\n",
      "1st batch: target_text: tf.Tensor(\n",
      "[[ 1 64 46 ... 46  1 59]\n",
      " [42 52 46 ... 45 60  1]\n",
      " [ 0 27 66 ... 47 56 59]\n",
      " ...\n",
      " [46  1 60 ...  0 16 62]\n",
      " [42 52 46 ... 64 50 53]\n",
      " [49 46  1 ... 42 55 45]], shape=(64, 50), dtype=int64)\n"
     ]
    }
   ],
   "source": [
    "for input_text, target_text in dataset.take(1):\n",
    "    print('1st batch: input_text:', input_text)\n",
    "    print()\n",
    "    print('1st batch: target_text:', target_text)"
   ]
  },
  {
   "cell_type": "code",
   "execution_count": 22,
   "id": "fda0a3f9",
   "metadata": {
    "execution": {
     "iopub.execute_input": "2022-05-23T08:39:35.728018Z",
     "iopub.status.busy": "2022-05-23T08:39:35.727788Z",
     "iopub.status.idle": "2022-05-23T08:39:35.731391Z",
     "shell.execute_reply": "2022-05-23T08:39:35.730626Z"
    },
    "id": "UkDCH15v_2I6",
    "papermill": {
     "duration": 0.066382,
     "end_time": "2022-05-23T08:39:35.733148",
     "exception": false,
     "start_time": "2022-05-23T08:39:35.666766",
     "status": "completed"
    },
    "tags": []
   },
   "outputs": [],
   "source": [
    "# dataset shape:\n",
    "# - 172 batches\n",
    "# - 64 sequences per batch\n",
    "# - Each sequence is a tuple of 2 sub-sequences of length 100 (input_text and target_text)\n",
    "#\n",
    "#\n",
    "#     100       100           100             100       100           100\n",
    "# |/(.....)\\ /(.....)\\ ... /(.....)\\| ... |/(.....)\\ /(.....)\\ ... /(.....)\\|  <-- input_text\n",
    "# |\\(.....)/ \\(.....)/     \\(.....)/| ... |\\(.....)/ \\(.....)/     \\(.....)/|  <-- target_text\n",
    "#\n",
    "# <------------- 64 ---------------->     <------------- 64 ---------------->\n",
    "#\n",
    "# <--------------------------------- 172 ----------------------------------->"
   ]
  },
  {
   "cell_type": "markdown",
   "id": "1f98360e",
   "metadata": {
    "id": "ghB-VwLlD-Oz",
    "papermill": {
     "duration": 0.06541,
     "end_time": "2022-05-23T08:39:35.866157",
     "exception": false,
     "start_time": "2022-05-23T08:39:35.800747",
     "status": "completed"
    },
    "tags": []
   },
   "source": [
    "## Build the model\n",
    "\n",
    "Use [tf.keras.Sequential](https://www.tensorflow.org/api_docs/python/tf/keras/Sequential) to define the model. For this simple example three layers are used to define our model:\n",
    "\n",
    "- [tf.keras.layers.Embedding](https://www.tensorflow.org/api_docs/python/tf/keras/layers/Embedding): The input layer. A trainable lookup table that will map the numbers of each character to a vector with `embedding_dim` dimensions;\n",
    "- [tf.keras.layers.LSTM](https://www.tensorflow.org/api_docs/python/tf/keras/layers/LSTM): A type of RNN with size units=rnn_units (You can also use a GRU layer here.)\n",
    "- [tf.keras.layers.Dense](https://www.tensorflow.org/api_docs/python/tf/keras/layers/Dense): The output layer, with vocab_size outputs."
   ]
  },
  {
   "cell_type": "code",
   "execution_count": 23,
   "id": "7ddf091e",
   "metadata": {
    "execution": {
     "iopub.execute_input": "2022-05-23T08:39:35.997534Z",
     "iopub.status.busy": "2022-05-23T08:39:35.997288Z",
     "iopub.status.idle": "2022-05-23T08:39:36.155864Z",
     "shell.execute_reply": "2022-05-23T08:39:36.155136Z"
    },
    "id": "0cg8DlO3QjuT",
    "outputId": "21a9daf0-1aca-4923-958e-317293023462",
    "papermill": {
     "duration": 0.227,
     "end_time": "2022-05-23T08:39:36.158786",
     "exception": false,
     "start_time": "2022-05-23T08:39:35.931786",
     "status": "completed"
    },
    "tags": []
   },
   "outputs": [
    {
     "name": "stdout",
     "output_type": "stream",
     "text": [
      "tmp_input_array shape: (2, 8)\n",
      "tmp_input_array:\n",
      "[[3 2 0 7 4 9 7 0]\n",
      " [2 2 4 8 4 5 4 4]]\n",
      "\n",
      "tmp_output_array shape: (2, 8, 5)\n",
      "tmp_output_array:\n",
      "[[[ 0.02907702 -0.04061138  0.04452899 -0.02478867 -0.03528936]\n",
      "  [-0.04809432  0.02356852 -0.04368475 -0.00144722  0.0163223 ]\n",
      "  [ 0.01255244  0.01990649  0.00175893 -0.04542438  0.03040084]\n",
      "  [-0.03431685 -0.02688565 -0.02497016 -0.01997313  0.04952464]\n",
      "  [ 0.04077509  0.01651292  0.03645304 -0.02172155 -0.0263918 ]\n",
      "  [-0.04551123  0.03373984 -0.0110838   0.04143575 -0.01737805]\n",
      "  [-0.03431685 -0.02688565 -0.02497016 -0.01997313  0.04952464]\n",
      "  [ 0.01255244  0.01990649  0.00175893 -0.04542438  0.03040084]]\n",
      "\n",
      " [[-0.04809432  0.02356852 -0.04368475 -0.00144722  0.0163223 ]\n",
      "  [-0.04809432  0.02356852 -0.04368475 -0.00144722  0.0163223 ]\n",
      "  [ 0.04077509  0.01651292  0.03645304 -0.02172155 -0.0263918 ]\n",
      "  [-0.01570405  0.0413836   0.01211346  0.0075134   0.0335449 ]\n",
      "  [ 0.04077509  0.01651292  0.03645304 -0.02172155 -0.0263918 ]\n",
      "  [-0.04560341  0.00917456 -0.01302896 -0.01918806  0.04084133]\n",
      "  [ 0.04077509  0.01651292  0.03645304 -0.02172155 -0.0263918 ]\n",
      "  [ 0.04077509  0.01651292  0.03645304 -0.02172155 -0.0263918 ]]]\n"
     ]
    }
   ],
   "source": [
    "# Let's do a quick detour and see how Embeding layer works.\n",
    "# It takes several char indices sequences (batch) as an input.\n",
    "# It encodes every character of every sequence to a vector of tmp_embeding_size length.\n",
    "tmp_vocab_size = 10\n",
    "tmp_embeding_size = 5\n",
    "tmp_input_length = 8\n",
    "tmp_batch_size = 2\n",
    "\n",
    "tmp_model = tf.keras.models.Sequential()\n",
    "tmp_model.add(tf.keras.layers.Embedding(\n",
    "  input_dim=tmp_vocab_size,\n",
    "  output_dim=tmp_embeding_size,\n",
    "  input_length=tmp_input_length\n",
    "))\n",
    "# The model will take as input an integer matrix of size (batch, input_length).\n",
    "# The largest integer (i.e. word index) in the input should be no larger than 9 (tmp_vocab_size).\n",
    "# Now model.output_shape == (None, 10, 64), where None is the batch dimension.\n",
    "tmp_input_array = np.random.randint(\n",
    "  low=0,\n",
    "  high=tmp_vocab_size,\n",
    "  size=(tmp_batch_size, tmp_input_length)\n",
    ")\n",
    "tmp_model.compile('rmsprop', 'mse')\n",
    "tmp_output_array = tmp_model.predict(tmp_input_array)\n",
    "\n",
    "print('tmp_input_array shape:', tmp_input_array.shape)\n",
    "print('tmp_input_array:')\n",
    "print(tmp_input_array)\n",
    "print()\n",
    "print('tmp_output_array shape:', tmp_output_array.shape)\n",
    "print('tmp_output_array:')\n",
    "print(tmp_output_array)"
   ]
  },
  {
   "cell_type": "code",
   "execution_count": 24,
   "id": "036e8adc",
   "metadata": {
    "execution": {
     "iopub.execute_input": "2022-05-23T08:39:36.287009Z",
     "iopub.status.busy": "2022-05-23T08:39:36.286434Z",
     "iopub.status.idle": "2022-05-23T08:39:36.290690Z",
     "shell.execute_reply": "2022-05-23T08:39:36.289903Z"
    },
    "id": "I7ZuvZHBD_pS",
    "papermill": {
     "duration": 0.066762,
     "end_time": "2022-05-23T08:39:36.292335",
     "exception": false,
     "start_time": "2022-05-23T08:39:36.225573",
     "status": "completed"
    },
    "tags": []
   },
   "outputs": [],
   "source": [
    "# Length of the vocabulary in chars.\n",
    "vocab_size = len(vocab)\n",
    "\n",
    "# The embedding dimension.\n",
    "embedding_dim = 256\n",
    "\n",
    "# Number of RNN units.\n",
    "rnn_units = 1024"
   ]
  },
  {
   "cell_type": "code",
   "execution_count": 25,
   "id": "523ee52e",
   "metadata": {
    "execution": {
     "iopub.execute_input": "2022-05-23T08:39:36.413767Z",
     "iopub.status.busy": "2022-05-23T08:39:36.413528Z",
     "iopub.status.idle": "2022-05-23T08:39:36.419145Z",
     "shell.execute_reply": "2022-05-23T08:39:36.418450Z"
    },
    "id": "-sojdDCAICWO",
    "papermill": {
     "duration": 0.068442,
     "end_time": "2022-05-23T08:39:36.420916",
     "exception": false,
     "start_time": "2022-05-23T08:39:36.352474",
     "status": "completed"
    },
    "tags": []
   },
   "outputs": [],
   "source": [
    "def build_model(vocab_size, embedding_dim, rnn_units, batch_size):\n",
    "    model = tf.keras.models.Sequential()\n",
    "\n",
    "    model.add(tf.keras.layers.Embedding(\n",
    "      input_dim=vocab_size,\n",
    "      output_dim=embedding_dim,\n",
    "      batch_input_shape=[batch_size, None]\n",
    "    ))\n",
    "\n",
    "    model.add(tf.keras.layers.LSTM(\n",
    "      units=rnn_units,\n",
    "      return_sequences=True,\n",
    "      stateful=True,\n",
    "      recurrent_initializer=tf.keras.initializers.GlorotNormal()\n",
    "    ))\n",
    "\n",
    "    model.add(tf.keras.layers.Dense(vocab_size))\n",
    "  \n",
    "    return model"
   ]
  },
  {
   "cell_type": "code",
   "execution_count": 26,
   "id": "9a3d2677",
   "metadata": {
    "execution": {
     "iopub.execute_input": "2022-05-23T08:39:36.543175Z",
     "iopub.status.busy": "2022-05-23T08:39:36.542938Z",
     "iopub.status.idle": "2022-05-23T08:39:36.770144Z",
     "shell.execute_reply": "2022-05-23T08:39:36.769240Z"
    },
    "id": "XoPwxyAPEg6z",
    "papermill": {
     "duration": 0.292709,
     "end_time": "2022-05-23T08:39:36.773527",
     "exception": false,
     "start_time": "2022-05-23T08:39:36.480818",
     "status": "completed"
    },
    "tags": []
   },
   "outputs": [],
   "source": [
    "model = build_model(vocab_size, embedding_dim, rnn_units, BATCH_SIZE)"
   ]
  },
  {
   "cell_type": "code",
   "execution_count": 27,
   "id": "a830f295",
   "metadata": {
    "execution": {
     "iopub.execute_input": "2022-05-23T08:39:36.991947Z",
     "iopub.status.busy": "2022-05-23T08:39:36.991533Z",
     "iopub.status.idle": "2022-05-23T08:39:37.006651Z",
     "shell.execute_reply": "2022-05-23T08:39:36.999674Z"
    },
    "id": "iLnlZFgU55bQ",
    "outputId": "eeece968-3a2a-4652-a0b7-d8f6944cdbc2",
    "papermill": {
     "duration": 0.123976,
     "end_time": "2022-05-23T08:39:37.009330",
     "exception": false,
     "start_time": "2022-05-23T08:39:36.885354",
     "status": "completed"
    },
    "tags": []
   },
   "outputs": [
    {
     "name": "stdout",
     "output_type": "stream",
     "text": [
      "Model: \"sequential_1\"\n",
      "_________________________________________________________________\n",
      "Layer (type)                 Output Shape              Param #   \n",
      "=================================================================\n",
      "embedding_1 (Embedding)      (64, None, 256)           18432     \n",
      "_________________________________________________________________\n",
      "lstm (LSTM)                  (64, None, 1024)          5246976   \n",
      "_________________________________________________________________\n",
      "dense (Dense)                (64, None, 72)            73800     \n",
      "=================================================================\n",
      "Total params: 5,339,208\n",
      "Trainable params: 5,339,208\n",
      "Non-trainable params: 0\n",
      "_________________________________________________________________\n"
     ]
    }
   ],
   "source": [
    "model.summary()"
   ]
  },
  {
   "cell_type": "code",
   "execution_count": 28,
   "id": "4af9aee9",
   "metadata": {
    "execution": {
     "iopub.execute_input": "2022-05-23T08:39:37.225582Z",
     "iopub.status.busy": "2022-05-23T08:39:37.225069Z",
     "iopub.status.idle": "2022-05-23T08:39:38.175665Z",
     "shell.execute_reply": "2022-05-23T08:39:38.174907Z"
    },
    "id": "CcaO_rO_8-GH",
    "outputId": "21830f00-dc89-417a-81d8-8988354235f4",
    "papermill": {
     "duration": 1.055327,
     "end_time": "2022-05-23T08:39:38.177643",
     "exception": false,
     "start_time": "2022-05-23T08:39:37.122316",
     "status": "completed"
    },
    "tags": []
   },
   "outputs": [
    {
     "data": {
      "image/png": "[encoded data removed]",
      "text/plain": [
       "<IPython.core.display.Image object>"
      ]
     },
     "execution_count": 28,
     "metadata": {},
     "output_type": "execute_result"
    }
   ],
   "source": [
    "tf.keras.utils.plot_model(\n",
    "    model,\n",
    "    show_shapes=True,\n",
    "    show_layer_names=True,\n",
    ")"
   ]
  },
  {
   "cell_type": "markdown",
   "id": "15d4cde3",
   "metadata": {
    "id": "JpL9idwZV6fL",
    "papermill": {
     "duration": 0.060838,
     "end_time": "2022-05-23T08:39:38.300573",
     "exception": false,
     "start_time": "2022-05-23T08:39:38.239735",
     "status": "completed"
    },
    "tags": []
   },
   "source": [
    "For each character the model looks up the embedding, runs the GRU one timestep with the embedding as input, and applies the dense layer to generate logits predicting the log-likelihood of the next character:\n",
    "\n",
    "![Model architecture](https://www.tensorflow.org/tutorials/text/images/text_generation_training.png)\n",
    "\n",
    "Image source: [Text generation with an RNN](https://www.tensorflow.org/tutorials/text/text_generation) notebook."
   ]
  },
  {
   "cell_type": "markdown",
   "id": "a0e0851f",
   "metadata": {
    "id": "Npruiy2RAPkt",
    "papermill": {
     "duration": 0.061478,
     "end_time": "2022-05-23T08:39:38.424907",
     "exception": false,
     "start_time": "2022-05-23T08:39:38.363429",
     "status": "completed"
    },
    "tags": []
   },
   "source": [
    "## Try the model"
   ]
  },
  {
   "cell_type": "code",
   "execution_count": 29,
   "id": "9088834d",
   "metadata": {
    "execution": {
     "iopub.execute_input": "2022-05-23T08:39:38.550030Z",
     "iopub.status.busy": "2022-05-23T08:39:38.549278Z",
     "iopub.status.idle": "2022-05-23T08:39:40.456865Z",
     "shell.execute_reply": "2022-05-23T08:39:40.456102Z"
    },
    "id": "E4DCLA0GASL1",
    "outputId": "eba67358-d6b9-4b42-a2f1-dc6ed3e0708c",
    "papermill": {
     "duration": 1.971981,
     "end_time": "2022-05-23T08:39:40.458986",
     "exception": false,
     "start_time": "2022-05-23T08:39:38.487005",
     "status": "completed"
    },
    "tags": []
   },
   "outputs": [
    {
     "name": "stderr",
     "output_type": "stream",
     "text": [
      "2022-05-23 08:39:39.402864: I tensorflow/stream_executor/cuda/cuda_dnn.cc:369] Loaded cuDNN version 8005\n"
     ]
    },
    {
     "name": "stdout",
     "output_type": "stream",
     "text": [
      "(64, 50, 72) # (batch_size, sequence_length, vocab_size)\n"
     ]
    }
   ],
   "source": [
    "for input_example_batch, target_example_batch in dataset.take(1):\n",
    "    example_batch_predictions = model(input_example_batch)\n",
    "    print(example_batch_predictions.shape, \"# (batch_size, sequence_length, vocab_size)\")\n"
   ]
  },
  {
   "cell_type": "markdown",
   "id": "f4ef6646",
   "metadata": {
    "id": "MWebJXU9CEPd",
    "papermill": {
     "duration": 0.06206,
     "end_time": "2022-05-23T08:39:40.583175",
     "exception": false,
     "start_time": "2022-05-23T08:39:40.521115",
     "status": "completed"
    },
    "tags": []
   },
   "source": [
    "To get actual predictions from the model we need to sample from the output distribution, to get actual character indices. This distribution is defined by the logits over the character vocabulary."
   ]
  },
  {
   "cell_type": "code",
   "execution_count": 30,
   "id": "3547898c",
   "metadata": {
    "execution": {
     "iopub.execute_input": "2022-05-23T08:39:40.708390Z",
     "iopub.status.busy": "2022-05-23T08:39:40.707909Z",
     "iopub.status.idle": "2022-05-23T08:39:40.716006Z",
     "shell.execute_reply": "2022-05-23T08:39:40.715174Z"
    },
    "id": "Y4Jgo-iECFWI",
    "outputId": "a59cb406-3813-4fb0-8297-6862a73f2499",
    "papermill": {
     "duration": 0.073725,
     "end_time": "2022-05-23T08:39:40.718821",
     "exception": false,
     "start_time": "2022-05-23T08:39:40.645096",
     "status": "completed"
    },
    "tags": []
   },
   "outputs": [
    {
     "name": "stdout",
     "output_type": "stream",
     "text": [
      "Prediction for the 1st letter of the batch 1st sequense:\n",
      "tf.Tensor(\n",
      "[ 3.4286914e-04 -7.0970890e-04 -1.8843340e-03  1.3587663e-03\n",
      "  2.0607812e-03 -1.9137338e-03  3.7788774e-03  1.2951236e-03\n",
      " -8.3451504e-03  7.0643574e-03 -1.5798046e-03  3.0917618e-03\n",
      "  3.0413009e-03  3.4555472e-03 -2.1191796e-03 -6.2189612e-04\n",
      " -9.7300031e-04  1.5206985e-03 -5.0611068e-03 -2.9033830e-03\n",
      " -1.4781738e-03 -1.2032903e-03 -6.3025570e-03 -2.3691647e-03\n",
      " -4.2372448e-03  3.7622254e-03 -1.3424564e-03  1.8094911e-03\n",
      "  8.3191163e-04 -1.9841667e-03  3.9063999e-04  9.8453253e-05\n",
      "  9.6485019e-07 -1.4414068e-03 -3.0653870e-03  1.0982149e-03\n",
      " -2.4784927e-04  1.2783397e-03 -2.8680810e-03  1.5567864e-03\n",
      "  3.4941686e-03 -1.2138329e-03 -4.6627419e-03  1.7158947e-03\n",
      "  1.2707440e-03  1.6377692e-04  1.4980047e-03  1.0535447e-04\n",
      " -6.8296614e-04 -2.9475382e-04 -5.9443498e-03  1.8273829e-03\n",
      " -6.6252444e-03 -2.9879571e-03  5.6220358e-03 -1.7000287e-03\n",
      "  3.6486653e-03 -7.5566745e-04 -4.6120072e-03 -2.2988063e-03\n",
      " -4.2275265e-03 -9.8239793e-04 -1.6611409e-03  2.8898958e-03\n",
      " -9.7087165e-04  3.0271874e-03  7.0729502e-04  2.0578224e-04\n",
      "  9.2202108e-03  1.9398506e-03 -2.3490819e-04 -2.3269055e-03], shape=(72,), dtype=float32)\n"
     ]
    }
   ],
   "source": [
    "print('Prediction for the 1st letter of the batch 1st sequense:')\n",
    "print(example_batch_predictions[0, 0])"
   ]
  },
  {
   "cell_type": "code",
   "execution_count": 31,
   "id": "bf485bcc",
   "metadata": {
    "execution": {
     "iopub.execute_input": "2022-05-23T08:39:40.854509Z",
     "iopub.status.busy": "2022-05-23T08:39:40.854260Z",
     "iopub.status.idle": "2022-05-23T08:39:40.863582Z",
     "shell.execute_reply": "2022-05-23T08:39:40.862848Z"
    },
    "id": "0dOr0MwFHlRb",
    "outputId": "f8dc2264-a19a-4887-f964-9086a95b14a4",
    "papermill": {
     "duration": 0.077257,
     "end_time": "2022-05-23T08:39:40.865309",
     "exception": false,
     "start_time": "2022-05-23T08:39:40.788052",
     "status": "completed"
    },
    "tags": []
   },
   "outputs": [
    {
     "name": "stdout",
     "output_type": "stream",
     "text": [
      "tf.Tensor([[2 0 0 2 2]], shape=(1, 5), dtype=int64)\n"
     ]
    }
   ],
   "source": [
    "# Quick overview of how tf.random.categorical() works.\n",
    "\n",
    "# logits is 2-D Tensor with shape [batch_size, num_classes].\n",
    "# Each slice [i, :] represents the unnormalized log-probabilities for all classes.\n",
    "# In the example below we say that the probability for class \"0\" is low but the\n",
    "# probability for class \"2\" is much higher.\n",
    "tmp_logits = [\n",
    "  [-0.95, 0, 0.95],\n",
    "];\n",
    "\n",
    "# Let's generate 5 samples. Each sample is a class index. Class probabilities \n",
    "# are being taken into account (we expect to see more samples of class \"2\").\n",
    "tmp_samples = tf.random.categorical(\n",
    "    logits=tmp_logits,\n",
    "    num_samples=5\n",
    ")\n",
    "\n",
    "print(tmp_samples)"
   ]
  },
  {
   "cell_type": "code",
   "execution_count": 32,
   "id": "f38d4d2b",
   "metadata": {
    "execution": {
     "iopub.execute_input": "2022-05-23T08:39:40.994123Z",
     "iopub.status.busy": "2022-05-23T08:39:40.993861Z",
     "iopub.status.idle": "2022-05-23T08:39:41.000150Z",
     "shell.execute_reply": "2022-05-23T08:39:40.999428Z"
    },
    "id": "JPzr0r4zCgS3",
    "outputId": "23e7516b-1753-402a-bc61-8a8988e49f18",
    "papermill": {
     "duration": 0.073668,
     "end_time": "2022-05-23T08:39:41.002349",
     "exception": false,
     "start_time": "2022-05-23T08:39:40.928681",
     "status": "completed"
    },
    "tags": []
   },
   "outputs": [
    {
     "data": {
      "text/plain": [
       "TensorShape([50, 1])"
      ]
     },
     "execution_count": 32,
     "metadata": {},
     "output_type": "execute_result"
    }
   ],
   "source": [
    "sampled_indices = tf.random.categorical(\n",
    "    logits=example_batch_predictions[0],\n",
    "    num_samples=1\n",
    ")\n",
    "\n",
    "sampled_indices.shape"
   ]
  },
  {
   "cell_type": "code",
   "execution_count": 33,
   "id": "57fb9cff",
   "metadata": {
    "execution": {
     "iopub.execute_input": "2022-05-23T08:39:41.135282Z",
     "iopub.status.busy": "2022-05-23T08:39:41.134649Z",
     "iopub.status.idle": "2022-05-23T08:39:41.142052Z",
     "shell.execute_reply": "2022-05-23T08:39:41.141253Z"
    },
    "id": "YaA7DclID8dz",
    "outputId": "08a3c58b-e331-4f91-8e3f-be2649a85f48",
    "papermill": {
     "duration": 0.075569,
     "end_time": "2022-05-23T08:39:41.144043",
     "exception": false,
     "start_time": "2022-05-23T08:39:41.068474",
     "status": "completed"
    },
    "tags": []
   },
   "outputs": [
    {
     "data": {
      "text/plain": [
       "(50,)"
      ]
     },
     "execution_count": 33,
     "metadata": {},
     "output_type": "execute_result"
    }
   ],
   "source": [
    "sampled_indices = tf.squeeze(\n",
    "    input=sampled_indices,\n",
    "    axis=-1\n",
    ").numpy()\n",
    "\n",
    "sampled_indices.shape"
   ]
  },
  {
   "cell_type": "code",
   "execution_count": 34,
   "id": "6314c2fa",
   "metadata": {
    "execution": {
     "iopub.execute_input": "2022-05-23T08:39:41.278060Z",
     "iopub.status.busy": "2022-05-23T08:39:41.277430Z",
     "iopub.status.idle": "2022-05-23T08:39:41.282943Z",
     "shell.execute_reply": "2022-05-23T08:39:41.282247Z"
    },
    "id": "_ubGQ0gVENhB",
    "outputId": "4ab910cf-06e6-4fd1-c751-746d79d895d0",
    "papermill": {
     "duration": 0.07373,
     "end_time": "2022-05-23T08:39:41.284631",
     "exception": false,
     "start_time": "2022-05-23T08:39:41.210901",
     "status": "completed"
    },
    "tags": []
   },
   "outputs": [
    {
     "data": {
      "text/plain": [
       "array([47, 31, 23, 44,  0, 18, 32,  5, 50, 44, 11, 21, 55, 61, 26, 47, 45,\n",
       "       23,  2, 51, 58,  2, 56,  7, 15, 65, 19, 56, 64, 63,  9, 28, 38,  5,\n",
       "       25, 20, 36, 22, 70,  6, 32, 49, 16, 53, 62, 14, 11, 27, 28, 36])"
      ]
     },
     "execution_count": 34,
     "metadata": {},
     "output_type": "execute_result"
    }
   ],
   "source": [
    "sampled_indices"
   ]
  },
  {
   "cell_type": "code",
   "execution_count": 35,
   "id": "d8a9cbb7",
   "metadata": {
    "execution": {
     "iopub.execute_input": "2022-05-23T08:39:41.420139Z",
     "iopub.status.busy": "2022-05-23T08:39:41.419877Z",
     "iopub.status.idle": "2022-05-23T08:39:41.427830Z",
     "shell.execute_reply": "2022-05-23T08:39:41.426711Z"
    },
    "id": "Gi9HOzw9EajS",
    "outputId": "aa7dc69f-63ad-4273-b2df-e6cc8eada7cd",
    "papermill": {
     "duration": 0.079133,
     "end_time": "2022-05-23T08:39:41.429644",
     "exception": false,
     "start_time": "2022-05-23T08:39:41.350511",
     "status": "completed"
    },
    "tags": []
   },
   "outputs": [
    {
     "name": "stdout",
     "output_type": "stream",
     "text": [
      "Input:\n",
      " '\\nNo matter where you may go\\nYou know my heart will'\n",
      "\n",
      "Next char prediction:\n",
      " 'fQIc\\nDR(ic2GntLfdI!jq!o,AxEowv.NY(KFVH…)RhBlu?2MNV'\n"
     ]
    }
   ],
   "source": [
    "print('Input:\\n', repr(''.join(index2char[input_example_batch[0]])))\n",
    "print()\n",
    "print('Next char prediction:\\n', repr(''.join(index2char[sampled_indices])))"
   ]
  },
  {
   "cell_type": "code",
   "execution_count": 36,
   "id": "9cb41adb",
   "metadata": {
    "execution": {
     "iopub.execute_input": "2022-05-23T08:39:41.566584Z",
     "iopub.status.busy": "2022-05-23T08:39:41.566296Z",
     "iopub.status.idle": "2022-05-23T08:39:41.578827Z",
     "shell.execute_reply": "2022-05-23T08:39:41.577990Z"
    },
    "id": "b87e0lsYMTsv",
    "outputId": "75c7e1bf-b2d5-4f15-cba7-0ae5f8765327",
    "papermill": {
     "duration": 0.085558,
     "end_time": "2022-05-23T08:39:41.581124",
     "exception": false,
     "start_time": "2022-05-23T08:39:41.495566",
     "status": "completed"
    },
    "tags": []
   },
   "outputs": [
    {
     "name": "stdout",
     "output_type": "stream",
     "text": [
      "Prediction  0\n",
      "  input: 0 ('\\n')\n",
      "  next predicted: 61 ('f')\n",
      "Prediction  1\n",
      "  input: 28 ('N')\n",
      "  next predicted: 61 ('Q')\n",
      "Prediction  2\n",
      "  input: 56 ('o')\n",
      "  next predicted: 61 ('I')\n",
      "Prediction  3\n",
      "  input: 1 (' ')\n",
      "  next predicted: 61 ('c')\n",
      "Prediction  4\n",
      "  input: 54 ('m')\n",
      "  next predicted: 61 ('\\n')\n"
     ]
    }
   ],
   "source": [
    "for i, (input_idx, sample_idx) in enumerate(zip(input_example_batch[0][:5], sampled_indices[:5])):\n",
    "    print('Prediction {:2d}'.format(i))\n",
    "    print('  input: {} ({:s})'.format(input_idx, repr(index2char[input_idx])))\n",
    "    print('  next predicted: {} ({:s})'.format(target_idx, repr(index2char[sample_idx])))"
   ]
  },
  {
   "cell_type": "markdown",
   "id": "77145a42",
   "metadata": {
    "id": "LqcBufKEE_p6",
    "papermill": {
     "duration": 0.066915,
     "end_time": "2022-05-23T08:39:41.717684",
     "exception": false,
     "start_time": "2022-05-23T08:39:41.650769",
     "status": "completed"
    },
    "tags": []
   },
   "source": [
    "## Train the model\n",
    "\n",
    "At this point the problem can be treated as a standard classification problem. Given the previous RNN state, and the input this time step, predict the class of the next character."
   ]
  },
  {
   "cell_type": "markdown",
   "id": "9306b6f8",
   "metadata": {
    "id": "l4s0-PvrFub5",
    "papermill": {
     "duration": 0.066157,
     "end_time": "2022-05-23T08:39:41.854041",
     "exception": false,
     "start_time": "2022-05-23T08:39:41.787884",
     "status": "completed"
    },
    "tags": []
   },
   "source": [
    "### Attach an optimizer, and a loss function"
   ]
  },
  {
   "cell_type": "code",
   "execution_count": 37,
   "id": "4d212505",
   "metadata": {
    "execution": {
     "iopub.execute_input": "2022-05-23T08:39:41.985595Z",
     "iopub.status.busy": "2022-05-23T08:39:41.985339Z",
     "iopub.status.idle": "2022-05-23T08:39:42.009093Z",
     "shell.execute_reply": "2022-05-23T08:39:42.008336Z"
    },
    "id": "UOEUUm6JE95a",
    "outputId": "ba94797c-e3c6-4d71-ac44-2cf76f7b2843",
    "papermill": {
     "duration": 0.092,
     "end_time": "2022-05-23T08:39:42.011563",
     "exception": false,
     "start_time": "2022-05-23T08:39:41.919563",
     "status": "completed"
    },
    "tags": []
   },
   "outputs": [
    {
     "name": "stdout",
     "output_type": "stream",
     "text": [
      "Prediction shape:  (64, 50, 72)  # (batch_size, sequence_length, vocab_size)\n",
      "scalar_loss:       4.278083\n"
     ]
    }
   ],
   "source": [
    "# An objective function.\n",
    "# The function is any callable with the signature scalar_loss = fn(y_true, y_pred).\n",
    "def loss(labels, logits):\n",
    "    return tf.keras.losses.sparse_categorical_crossentropy(\n",
    "      y_true=labels,\n",
    "      y_pred=logits,\n",
    "      from_logits=True\n",
    "    )\n",
    "\n",
    "example_batch_loss = loss(target_example_batch, example_batch_predictions)\n",
    "\n",
    "print(\"Prediction shape: \", example_batch_predictions.shape, \" # (batch_size, sequence_length, vocab_size)\")\n",
    "print(\"scalar_loss:      \", example_batch_loss.numpy().mean())"
   ]
  },
  {
   "cell_type": "code",
   "execution_count": 38,
   "id": "4b854e3f",
   "metadata": {
    "execution": {
     "iopub.execute_input": "2022-05-23T08:39:42.142148Z",
     "iopub.status.busy": "2022-05-23T08:39:42.141560Z",
     "iopub.status.idle": "2022-05-23T08:39:42.152758Z",
     "shell.execute_reply": "2022-05-23T08:39:42.152134Z"
    },
    "id": "SXhJsB6eFgrJ",
    "papermill": {
     "duration": 0.077604,
     "end_time": "2022-05-23T08:39:42.154372",
     "exception": false,
     "start_time": "2022-05-23T08:39:42.076768",
     "status": "completed"
    },
    "tags": []
   },
   "outputs": [],
   "source": [
    "adam_optimizer = tf.keras.optimizers.Adam(learning_rate=0.001)\n",
    "model.compile(\n",
    "    optimizer=adam_optimizer,\n",
    "    loss=loss\n",
    ")"
   ]
  },
  {
   "cell_type": "markdown",
   "id": "7444c945",
   "metadata": {
    "id": "MK3Cf-xZFwL4",
    "papermill": {
     "duration": 0.063626,
     "end_time": "2022-05-23T08:39:42.281936",
     "exception": false,
     "start_time": "2022-05-23T08:39:42.218310",
     "status": "completed"
    },
    "tags": []
   },
   "source": [
    "### Configure checkpoints"
   ]
  },
  {
   "cell_type": "code",
   "execution_count": 39,
   "id": "ac318e1d",
   "metadata": {
    "execution": {
     "iopub.execute_input": "2022-05-23T08:39:42.411625Z",
     "iopub.status.busy": "2022-05-23T08:39:42.410935Z",
     "iopub.status.idle": "2022-05-23T08:39:42.416511Z",
     "shell.execute_reply": "2022-05-23T08:39:42.415710Z"
    },
    "id": "LUhXnHPJFy5q",
    "papermill": {
     "duration": 0.072896,
     "end_time": "2022-05-23T08:39:42.418229",
     "exception": false,
     "start_time": "2022-05-23T08:39:42.345333",
     "status": "completed"
    },
    "tags": []
   },
   "outputs": [],
   "source": [
    "# Directory where the checkpoints will be saved.\n",
    "checkpoint_dir = 'tmp/checkpoints'\n",
    "os.makedirs(checkpoint_dir, exist_ok=True)\n",
    "\n",
    "# Name of the checkpoint files\n",
    "checkpoint_prefix = os.path.join(checkpoint_dir, 'ckpt_{epoch}')\n",
    "\n",
    "checkpoint_callback=tf.keras.callbacks.ModelCheckpoint(\n",
    "    filepath=checkpoint_prefix,\n",
    "    save_weights_only=True\n",
    ")"
   ]
  },
  {
   "cell_type": "markdown",
   "id": "ba6869d4",
   "metadata": {
    "id": "oFg9MFJoGZWf",
    "papermill": {
     "duration": 0.064252,
     "end_time": "2022-05-23T08:39:42.546450",
     "exception": false,
     "start_time": "2022-05-23T08:39:42.482198",
     "status": "completed"
    },
    "tags": []
   },
   "source": [
    "### Execute the training"
   ]
  },
  {
   "cell_type": "code",
   "execution_count": 40,
   "id": "8b20d321",
   "metadata": {
    "execution": {
     "iopub.execute_input": "2022-05-23T08:39:42.675348Z",
     "iopub.status.busy": "2022-05-23T08:39:42.675081Z",
     "iopub.status.idle": "2022-05-23T08:39:42.678442Z",
     "shell.execute_reply": "2022-05-23T08:39:42.677761Z"
    },
    "id": "AVk-pARPGaja",
    "papermill": {
     "duration": 0.069431,
     "end_time": "2022-05-23T08:39:42.680059",
     "exception": false,
     "start_time": "2022-05-23T08:39:42.610628",
     "status": "completed"
    },
    "tags": []
   },
   "outputs": [],
   "source": [
    "EPOCHS=100"
   ]
  },
  {
   "cell_type": "code",
   "execution_count": 41,
   "id": "6c3dcc6a",
   "metadata": {
    "execution": {
     "iopub.execute_input": "2022-05-23T08:39:42.809230Z",
     "iopub.status.busy": "2022-05-23T08:39:42.808715Z",
     "iopub.status.idle": "2022-05-23T08:41:07.357990Z",
     "shell.execute_reply": "2022-05-23T08:41:07.357251Z"
    },
    "id": "y0rveBdAGeEz",
    "outputId": "2449548c-5ca4-4340-df15-9cdf1714dcbc",
    "papermill": {
     "duration": 84.616482,
     "end_time": "2022-05-23T08:41:07.360507",
     "exception": false,
     "start_time": "2022-05-23T08:39:42.744025",
     "status": "completed"
    },
    "tags": []
   },
   "outputs": [
    {
     "name": "stdout",
     "output_type": "stream",
     "text": [
      "Epoch 1/100\n",
      "14/14 [==============================] - 2s 27ms/step - loss: 3.8056\n",
      "Epoch 2/100\n",
      "14/14 [==============================] - 0s 27ms/step - loss: 3.1288\n",
      "Epoch 3/100\n",
      "14/14 [==============================] - 0s 28ms/step - loss: 3.0286\n",
      "Epoch 4/100\n",
      "14/14 [==============================] - 1s 29ms/step - loss: 2.9106\n",
      "Epoch 5/100\n",
      "14/14 [==============================] - 0s 27ms/step - loss: 2.7608\n",
      "Epoch 6/100\n",
      "14/14 [==============================] - 1s 29ms/step - loss: 2.6012\n",
      "Epoch 7/100\n",
      "14/14 [==============================] - 0s 27ms/step - loss: 2.4569\n",
      "Epoch 8/100\n",
      "14/14 [==============================] - 0s 27ms/step - loss: 2.3505\n",
      "Epoch 9/100\n",
      "14/14 [==============================] - 0s 27ms/step - loss: 2.2693\n",
      "Epoch 10/100\n",
      "14/14 [==============================] - 0s 27ms/step - loss: 2.2127\n",
      "Epoch 11/100\n",
      "14/14 [==============================] - 0s 27ms/step - loss: 2.1612\n",
      "Epoch 12/100\n",
      "14/14 [==============================] - 0s 27ms/step - loss: 2.1120\n",
      "Epoch 13/100\n",
      "14/14 [==============================] - 0s 27ms/step - loss: 2.0639\n",
      "Epoch 14/100\n",
      "14/14 [==============================] - 0s 27ms/step - loss: 2.0221\n",
      "Epoch 15/100\n",
      "14/14 [==============================] - 1s 27ms/step - loss: 1.9725\n",
      "Epoch 16/100\n",
      "14/14 [==============================] - 0s 27ms/step - loss: 1.9274\n",
      "Epoch 17/100\n",
      "14/14 [==============================] - 0s 26ms/step - loss: 1.8846\n",
      "Epoch 18/100\n",
      "14/14 [==============================] - 0s 26ms/step - loss: 1.8407\n",
      "Epoch 19/100\n",
      "14/14 [==============================] - 0s 27ms/step - loss: 1.7962\n",
      "Epoch 20/100\n",
      "14/14 [==============================] - 0s 27ms/step - loss: 1.7595\n",
      "Epoch 21/100\n",
      "14/14 [==============================] - 0s 27ms/step - loss: 1.7148\n",
      "Epoch 22/100\n",
      "14/14 [==============================] - 0s 27ms/step - loss: 1.6782\n",
      "Epoch 23/100\n",
      "14/14 [==============================] - 1s 35ms/step - loss: 1.6378\n",
      "Epoch 24/100\n",
      "14/14 [==============================] - 1s 28ms/step - loss: 1.6056\n",
      "Epoch 25/100\n",
      "14/14 [==============================] - 0s 27ms/step - loss: 1.5676\n",
      "Epoch 26/100\n",
      "14/14 [==============================] - 0s 26ms/step - loss: 1.5331\n",
      "Epoch 27/100\n",
      "14/14 [==============================] - 0s 27ms/step - loss: 1.5052\n",
      "Epoch 28/100\n",
      "14/14 [==============================] - 0s 27ms/step - loss: 1.4712\n",
      "Epoch 29/100\n",
      "14/14 [==============================] - 0s 27ms/step - loss: 1.4408\n",
      "Epoch 30/100\n",
      "14/14 [==============================] - 0s 27ms/step - loss: 1.4109\n",
      "Epoch 31/100\n",
      "14/14 [==============================] - 1s 32ms/step - loss: 1.3827\n",
      "Epoch 32/100\n",
      "14/14 [==============================] - 0s 27ms/step - loss: 1.3490\n",
      "Epoch 33/100\n",
      "14/14 [==============================] - 0s 26ms/step - loss: 1.3211\n",
      "Epoch 34/100\n",
      "14/14 [==============================] - 0s 27ms/step - loss: 1.2977\n",
      "Epoch 35/100\n",
      "14/14 [==============================] - 1s 34ms/step - loss: 1.2748\n",
      "Epoch 36/100\n",
      "14/14 [==============================] - 0s 26ms/step - loss: 1.2417\n",
      "Epoch 37/100\n",
      "14/14 [==============================] - 0s 26ms/step - loss: 1.2135\n",
      "Epoch 38/100\n",
      "14/14 [==============================] - 0s 27ms/step - loss: 1.1883\n",
      "Epoch 39/100\n",
      "14/14 [==============================] - 0s 27ms/step - loss: 1.1646\n",
      "Epoch 40/100\n",
      "14/14 [==============================] - 0s 27ms/step - loss: 1.1350\n",
      "Epoch 41/100\n",
      "14/14 [==============================] - 0s 27ms/step - loss: 1.1080\n",
      "Epoch 42/100\n",
      "14/14 [==============================] - 1s 29ms/step - loss: 1.0814\n",
      "Epoch 43/100\n",
      "14/14 [==============================] - 0s 26ms/step - loss: 1.0487\n",
      "Epoch 44/100\n",
      "14/14 [==============================] - 0s 26ms/step - loss: 1.0267\n",
      "Epoch 45/100\n",
      "14/14 [==============================] - 0s 27ms/step - loss: 1.0017\n",
      "Epoch 46/100\n",
      "14/14 [==============================] - 1s 27ms/step - loss: 0.9724\n",
      "Epoch 47/100\n",
      "14/14 [==============================] - 1s 28ms/step - loss: 0.9496\n",
      "Epoch 48/100\n",
      "14/14 [==============================] - 0s 27ms/step - loss: 0.9216\n",
      "Epoch 49/100\n",
      "14/14 [==============================] - 0s 27ms/step - loss: 0.8939\n",
      "Epoch 50/100\n",
      "14/14 [==============================] - 0s 27ms/step - loss: 0.8706\n",
      "Epoch 51/100\n",
      "14/14 [==============================] - 0s 26ms/step - loss: 0.8475\n",
      "Epoch 52/100\n",
      "14/14 [==============================] - 0s 27ms/step - loss: 0.8275\n",
      "Epoch 53/100\n",
      "14/14 [==============================] - 0s 26ms/step - loss: 0.8019\n",
      "Epoch 54/100\n",
      "14/14 [==============================] - 1s 30ms/step - loss: 0.7716\n",
      "Epoch 55/100\n",
      "14/14 [==============================] - 0s 26ms/step - loss: 0.7473\n",
      "Epoch 56/100\n",
      "14/14 [==============================] - 0s 27ms/step - loss: 0.7264\n",
      "Epoch 57/100\n",
      "14/14 [==============================] - 0s 26ms/step - loss: 0.7031\n",
      "Epoch 58/100\n",
      "14/14 [==============================] - 0s 26ms/step - loss: 0.6791\n",
      "Epoch 59/100\n",
      "14/14 [==============================] - 0s 27ms/step - loss: 0.6628\n",
      "Epoch 60/100\n",
      "14/14 [==============================] - 0s 26ms/step - loss: 0.6395\n",
      "Epoch 61/100\n",
      "14/14 [==============================] - 1s 34ms/step - loss: 0.6231\n",
      "Epoch 62/100\n",
      "14/14 [==============================] - 0s 27ms/step - loss: 0.6056\n",
      "Epoch 63/100\n",
      "14/14 [==============================] - 0s 27ms/step - loss: 0.5797\n",
      "Epoch 64/100\n",
      "14/14 [==============================] - 0s 26ms/step - loss: 0.5649\n",
      "Epoch 65/100\n",
      "14/14 [==============================] - 0s 27ms/step - loss: 0.5517\n",
      "Epoch 66/100\n",
      "14/14 [==============================] - 0s 26ms/step - loss: 0.5331\n",
      "Epoch 67/100\n",
      "14/14 [==============================] - 0s 26ms/step - loss: 0.5186\n",
      "Epoch 68/100\n",
      "14/14 [==============================] - 0s 27ms/step - loss: 0.5036\n",
      "Epoch 69/100\n",
      "14/14 [==============================] - 1s 30ms/step - loss: 0.4942\n",
      "Epoch 70/100\n",
      "14/14 [==============================] - 0s 27ms/step - loss: 0.4830\n",
      "Epoch 71/100\n",
      "14/14 [==============================] - 0s 27ms/step - loss: 0.4687\n",
      "Epoch 72/100\n",
      "14/14 [==============================] - 0s 26ms/step - loss: 0.4591\n",
      "Epoch 73/100\n",
      "14/14 [==============================] - 0s 26ms/step - loss: 0.4436\n",
      "Epoch 74/100\n",
      "14/14 [==============================] - 0s 26ms/step - loss: 0.4344\n",
      "Epoch 75/100\n",
      "14/14 [==============================] - 1s 37ms/step - loss: 0.4210\n",
      "Epoch 76/100\n",
      "14/14 [==============================] - 1s 27ms/step - loss: 0.4117\n",
      "Epoch 77/100\n",
      "14/14 [==============================] - 0s 28ms/step - loss: 0.4117\n",
      "Epoch 78/100\n",
      "14/14 [==============================] - 0s 27ms/step - loss: 0.3974\n",
      "Epoch 79/100\n",
      "14/14 [==============================] - 0s 26ms/step - loss: 0.3934\n",
      "Epoch 80/100\n",
      "14/14 [==============================] - 0s 26ms/step - loss: 0.3849\n",
      "Epoch 81/100\n",
      "14/14 [==============================] - 0s 28ms/step - loss: 0.3771\n",
      "Epoch 82/100\n",
      "14/14 [==============================] - 0s 27ms/step - loss: 0.3682\n",
      "Epoch 83/100\n",
      "14/14 [==============================] - 0s 26ms/step - loss: 0.3597\n",
      "Epoch 84/100\n",
      "14/14 [==============================] - 1s 29ms/step - loss: 0.3596\n",
      "Epoch 85/100\n",
      "14/14 [==============================] - 0s 27ms/step - loss: 0.3514\n",
      "Epoch 86/100\n",
      "14/14 [==============================] - 0s 27ms/step - loss: 0.3440\n",
      "Epoch 87/100\n",
      "14/14 [==============================] - 0s 26ms/step - loss: 0.3409\n",
      "Epoch 88/100\n",
      "14/14 [==============================] - 0s 26ms/step - loss: 0.3358\n",
      "Epoch 89/100\n",
      "14/14 [==============================] - 0s 26ms/step - loss: 0.3277\n",
      "Epoch 90/100\n",
      "14/14 [==============================] - 1s 27ms/step - loss: 0.3276\n",
      "Epoch 91/100\n",
      "14/14 [==============================] - 0s 27ms/step - loss: 0.3256\n",
      "Epoch 92/100\n",
      "14/14 [==============================] - 0s 26ms/step - loss: 0.3207\n",
      "Epoch 93/100\n",
      "14/14 [==============================] - 0s 27ms/step - loss: 0.3162\n",
      "Epoch 94/100\n",
      "14/14 [==============================] - 0s 27ms/step - loss: 0.3112\n",
      "Epoch 95/100\n",
      "14/14 [==============================] - 0s 26ms/step - loss: 0.3082\n",
      "Epoch 96/100\n",
      "14/14 [==============================] - 0s 26ms/step - loss: 0.3122\n",
      "Epoch 97/100\n",
      "14/14 [==============================] - 0s 26ms/step - loss: 0.3008\n",
      "Epoch 98/100\n",
      "14/14 [==============================] - 1s 26ms/step - loss: 0.2972\n",
      "Epoch 99/100\n",
      "14/14 [==============================] - 0s 28ms/step - loss: 0.2943\n",
      "Epoch 100/100\n",
      "14/14 [==============================] - 0s 27ms/step - loss: 0.2973\n"
     ]
    }
   ],
   "source": [
    "history = model.fit(\n",
    "  x=dataset,\n",
    "  epochs=EPOCHS,\n",
    "  callbacks=[\n",
    "    checkpoint_callback\n",
    "  ]\n",
    ")"
   ]
  },
  {
   "cell_type": "code",
   "execution_count": 42,
   "id": "8f4c1c97",
   "metadata": {
    "execution": {
     "iopub.execute_input": "2022-05-23T08:41:08.026629Z",
     "iopub.status.busy": "2022-05-23T08:41:08.026388Z",
     "iopub.status.idle": "2022-05-23T08:41:08.031464Z",
     "shell.execute_reply": "2022-05-23T08:41:08.030790Z"
    },
    "id": "mLdnOyvzMggJ",
    "papermill": {
     "duration": 0.338797,
     "end_time": "2022-05-23T08:41:08.033054",
     "exception": false,
     "start_time": "2022-05-23T08:41:07.694257",
     "status": "completed"
    },
    "tags": []
   },
   "outputs": [],
   "source": [
    "def render_training_history(training_history):\n",
    "    loss = training_history.history['loss']\n",
    "    plt.title('Loss')\n",
    "    plt.xlabel('Epoch')\n",
    "    plt.ylabel('Loss')\n",
    "    plt.plot(loss, label='Training set')\n",
    "    plt.legend()\n",
    "    plt.grid(linestyle='--', linewidth=1, alpha=0.5)\n",
    "    plt.show()"
   ]
  },
  {
   "cell_type": "code",
   "execution_count": 43,
   "id": "fc373eea",
   "metadata": {
    "execution": {
     "iopub.execute_input": "2022-05-23T08:41:08.694169Z",
     "iopub.status.busy": "2022-05-23T08:41:08.693922Z",
     "iopub.status.idle": "2022-05-23T08:41:09.109869Z",
     "shell.execute_reply": "2022-05-23T08:41:09.109221Z"
    },
    "id": "4Ghveem_OQBV",
    "outputId": "f4fcc0aa-4509-4330-a88b-1f5863c354d2",
    "papermill": {
     "duration": 0.748747,
     "end_time": "2022-05-23T08:41:09.111790",
     "exception": false,
     "start_time": "2022-05-23T08:41:08.363043",
     "status": "completed"
    },
    "tags": []
   },
   "outputs": [
    {
     "data": {
      "image/png": "[encoded data removed]",
      "text/plain": [
       "<Figure size 432x288 with 1 Axes>"
      ]
     },
     "metadata": {
      "needs_background": "light"
     },
     "output_type": "display_data"
    }
   ],
   "source": [
    "render_training_history(history)"
   ]
  },
  {
   "cell_type": "markdown",
   "id": "1a215930",
   "metadata": {
    "id": "X-dhNP2OG2EM",
    "papermill": {
     "duration": 0.336523,
     "end_time": "2022-05-23T08:41:09.796628",
     "exception": false,
     "start_time": "2022-05-23T08:41:09.460105",
     "status": "completed"
    },
    "tags": []
   },
   "source": [
    "## Generate text"
   ]
  },
  {
   "cell_type": "markdown",
   "id": "f8eb282c",
   "metadata": {
    "id": "SU_YfP6sG3NC",
    "papermill": {
     "duration": 0.335744,
     "end_time": "2022-05-23T08:41:10.469582",
     "exception": false,
     "start_time": "2022-05-23T08:41:10.133838",
     "status": "completed"
    },
    "tags": []
   },
   "source": [
    "### Restore the latest checkpoint\n",
    "\n",
    "To keep this prediction step simple, use a batch size of 1.\n",
    "\n",
    "Because of the way the RNN state is passed from timestep to timestep, the model only accepts a fixed batch size once built.\n",
    "\n",
    "To run the model with a different `batch_size`, we need to rebuild the model and restore the weights from the checkpoint."
   ]
  },
  {
   "cell_type": "code",
   "execution_count": 44,
   "id": "9bda592b",
   "metadata": {
    "execution": {
     "iopub.execute_input": "2022-05-23T08:41:12.010935Z",
     "iopub.status.busy": "2022-05-23T08:41:12.010655Z",
     "iopub.status.idle": "2022-05-23T08:41:12.018539Z",
     "shell.execute_reply": "2022-05-23T08:41:12.017739Z"
    },
    "id": "BlG8o3wiG6f2",
    "outputId": "031b45e0-fcdf-4ab6-b7e9-e167b29800c9",
    "papermill": {
     "duration": 0.345809,
     "end_time": "2022-05-23T08:41:12.020328",
     "exception": false,
     "start_time": "2022-05-23T08:41:11.674519",
     "status": "completed"
    },
    "tags": []
   },
   "outputs": [
    {
     "data": {
      "text/plain": [
       "'tmp/checkpoints/ckpt_100'"
      ]
     },
     "execution_count": 44,
     "metadata": {},
     "output_type": "execute_result"
    }
   ],
   "source": [
    "tf.train.latest_checkpoint(checkpoint_dir)"
   ]
  },
  {
   "cell_type": "code",
   "execution_count": 45,
   "id": "885cf39e",
   "metadata": {
    "execution": {
     "iopub.execute_input": "2022-05-23T08:41:12.695671Z",
     "iopub.status.busy": "2022-05-23T08:41:12.695095Z",
     "iopub.status.idle": "2022-05-23T08:41:12.922366Z",
     "shell.execute_reply": "2022-05-23T08:41:12.921630Z"
    },
    "id": "l7evN0LvH01P",
    "papermill": {
     "duration": 0.565801,
     "end_time": "2022-05-23T08:41:12.924428",
     "exception": false,
     "start_time": "2022-05-23T08:41:12.358627",
     "status": "completed"
    },
    "tags": []
   },
   "outputs": [],
   "source": [
    "simplified_batch_size = 1\n",
    "\n",
    "model = build_model(vocab_size, embedding_dim, rnn_units, batch_size=1)\n",
    "\n",
    "model.load_weights(tf.train.latest_checkpoint(checkpoint_dir))\n",
    "\n",
    "model.build(tf.TensorShape([simplified_batch_size, None]))"
   ]
  },
  {
   "cell_type": "code",
   "execution_count": 46,
   "id": "313e681f",
   "metadata": {
    "execution": {
     "iopub.execute_input": "2022-05-23T08:41:13.588714Z",
     "iopub.status.busy": "2022-05-23T08:41:13.588463Z",
     "iopub.status.idle": "2022-05-23T08:41:13.596860Z",
     "shell.execute_reply": "2022-05-23T08:41:13.596055Z"
    },
    "id": "Y3eduDtZI9zQ",
    "outputId": "95ccdb2f-f059-4be2-ee85-3541f422c7ea",
    "papermill": {
     "duration": 0.342085,
     "end_time": "2022-05-23T08:41:13.599063",
     "exception": false,
     "start_time": "2022-05-23T08:41:13.256978",
     "status": "completed"
    },
    "tags": []
   },
   "outputs": [
    {
     "name": "stdout",
     "output_type": "stream",
     "text": [
      "Model: \"sequential_2\"\n",
      "_________________________________________________________________\n",
      "Layer (type)                 Output Shape              Param #   \n",
      "=================================================================\n",
      "embedding_2 (Embedding)      (1, None, 256)            18432     \n",
      "_________________________________________________________________\n",
      "lstm_1 (LSTM)                (1, None, 1024)           5246976   \n",
      "_________________________________________________________________\n",
      "dense_1 (Dense)              (1, None, 72)             73800     \n",
      "=================================================================\n",
      "Total params: 5,339,208\n",
      "Trainable params: 5,339,208\n",
      "Non-trainable params: 0\n",
      "_________________________________________________________________\n"
     ]
    }
   ],
   "source": [
    "model.summary()"
   ]
  },
  {
   "cell_type": "markdown",
   "id": "79b41d67",
   "metadata": {
    "id": "euNvAtr4JC3A",
    "papermill": {
     "duration": 0.332523,
     "end_time": "2022-05-23T08:41:14.297551",
     "exception": false,
     "start_time": "2022-05-23T08:41:13.965028",
     "status": "completed"
    },
    "tags": []
   },
   "source": [
    "### The prediction loop\n",
    "\n",
    "The following code block generates the text:\n",
    "\n",
    "- It Starts by choosing a start string, initializing the RNN state and setting the number of characters to generate.\n",
    "\n",
    "- Get the prediction distribution of the next character using the start string and the RNN state.\n",
    "\n",
    "- Then, use a categorical distribution to calculate the index of the predicted character. Use this predicted character as our next input to the model.\n",
    "\n",
    "- The RNN state returned by the model is fed back into the model so that it now has more context, instead than only one character. After predicting the next character, the modified RNN states are again fed back into the model, which is how it learns as it gets more context from the previously predicted characters.\n",
    "\n",
    "![Prediction loop](https://www.tensorflow.org/tutorials/text/images/text_generation_sampling.png)\n",
    "\n",
    "Image source: [Text generation with an RNN](https://www.tensorflow.org/tutorials/text/text_generation) notebook."
   ]
  },
  {
   "cell_type": "code",
   "execution_count": 47,
   "id": "b2aedb63",
   "metadata": {
    "execution": {
     "iopub.execute_input": "2022-05-23T08:41:15.197660Z",
     "iopub.status.busy": "2022-05-23T08:41:15.197046Z",
     "iopub.status.idle": "2022-05-23T08:41:15.205480Z",
     "shell.execute_reply": "2022-05-23T08:41:15.204813Z"
    },
    "id": "bOqdqGouJFf_",
    "papermill": {
     "duration": 0.343034,
     "end_time": "2022-05-23T08:41:15.207161",
     "exception": false,
     "start_time": "2022-05-23T08:41:14.864127",
     "status": "completed"
    },
    "tags": []
   },
   "outputs": [],
   "source": [
    "# num_generate\n",
    "# - number of characters to generate.\n",
    "#\n",
    "# temperature\n",
    "# - Low temperatures results in more predictable text.\n",
    "# - Higher temperatures results in more surprising text.\n",
    "# - Experiment to find the best setting.\n",
    "def generate_text(model, start_string, num_generate = 1000, temperature=1.0):\n",
    "    # Evaluation step (generating text using the learned model)\n",
    "\n",
    "    # Converting our start string to numbers (vectorizing).\n",
    "    input_indices = [char2index[s] for s in start_string]\n",
    "    input_indices = tf.expand_dims(input_indices, 0)\n",
    "\n",
    "    # Empty string to store our results.\n",
    "    text_generated = []\n",
    "\n",
    "    # Here batch size == 1.\n",
    "    model.reset_states()\n",
    "    for char_index in range(num_generate):\n",
    "        predictions = model(input_indices)\n",
    "        # remove the batch dimension\n",
    "        predictions = tf.squeeze(predictions, 0)\n",
    "\n",
    "        # Using a categorical distribution to predict the character returned by the model.\n",
    "        predictions = predictions / temperature\n",
    "        predicted_id = tf.random.categorical(\n",
    "        predictions,\n",
    "        num_samples=1\n",
    "        )[-1,0].numpy()\n",
    "\n",
    "        # We pass the predicted character as the next input to the model\n",
    "        # along with the previous hidden state.\n",
    "        input_indices = tf.expand_dims([predicted_id], 0)\n",
    "\n",
    "        text_generated.append(index2char[predicted_id])\n",
    "\n",
    "    return (start_string + ''.join(text_generated))"
   ]
  },
  {
   "cell_type": "code",
   "execution_count": 48,
   "id": "7870801d",
   "metadata": {
    "execution": {
     "iopub.execute_input": "2022-05-23T08:41:17.005676Z",
     "iopub.status.busy": "2022-05-23T08:41:17.005318Z",
     "iopub.status.idle": "2022-05-23T08:41:17.475720Z",
     "shell.execute_reply": "2022-05-23T08:41:17.474197Z"
    },
    "id": "Z-8e8P60J5Pg",
    "outputId": "25240489-3063-4bdd-b203-ef14886d1e60",
    "papermill": {
     "duration": 1.939743,
     "end_time": "2022-05-23T08:41:17.478223",
     "exception": false,
     "start_time": "2022-05-23T08:41:15.538480",
     "status": "completed"
    },
    "tags": []
   },
   "outputs": [
    {
     "name": "stdout",
     "output_type": "stream",
     "text": [
      "Singapore strong and free\n",
      "We have a grateful for\n",
      "So come and sing\n",
      "Sing a song strong and freeIt’s thery and br\n"
     ]
    }
   ],
   "source": [
    "# Generate the text with default temperature (1.0).\n",
    "print(generate_text(model, start_string=u\"Singapore \", num_generate=100))"
   ]
  },
  {
   "cell_type": "code",
   "execution_count": 49,
   "id": "98c46a02",
   "metadata": {
    "execution": {
     "iopub.execute_input": "2022-05-23T08:41:18.148411Z",
     "iopub.status.busy": "2022-05-23T08:41:18.147600Z",
     "iopub.status.idle": "2022-05-23T08:41:22.501515Z",
     "shell.execute_reply": "2022-05-23T08:41:22.499386Z"
    },
    "id": "wq_NlwWJSdix",
    "outputId": "408ecde5-0646-4eda-902e-071e4f123417",
    "papermill": {
     "duration": 4.690637,
     "end_time": "2022-05-23T08:41:22.503273",
     "exception": false,
     "start_time": "2022-05-23T08:41:17.812636",
     "status": "completed"
    },
    "tags": []
   },
   "outputs": [
    {
     "name": "stdout",
     "output_type": "stream",
     "text": [
      "Singapore story\n",
      "Is, we hell 1\n",
      "So you, a, we belong.\n",
      "Nothing in this world cano\n",
      "One pass in the sun\n",
      "With our hourss on\n",
      "Reled un drarmHomeRauny\n",
      "Pabildreaporeifu heartborid together everybodd the lis forevoreRead we've city\n",
      "Kyon this is where we are Singapore\n",
      "We're a nation't thy flees of your goals stand\n",
      "And ievery shories Lew berstace, where nen't really stays be unizerI we are Singapore\n",
      "Stand uprow we'lld a hopebe and pis\n",
      "Bet a spree e ve\n",
      "It'll be that we won’t be thI kincows worldI't Make it, but we win\n",
      "Whis is prepared the day ways\n",
      "Warm sunfuthe it, as one big lawedpechibe\n",
      "Andonpore\n",
      "Fhere\n",
      "Thate)\n",
      "Oh, oh, oh, oh, oh, oh, oh)\n",
      "Mabybond see\n",
      "A prop ofavle march\n",
      "It runIt stald, into my ho\n",
      "A land op eOrustant, we will reach whe cryto yourself up, my grieMom, your getere Life,\n",
      "Nothink in this land\n",
      "We knew\n",
      "Like the colours of ye, Lenadny\n",
      "FleThere harplove andivion dreams, friend\n",
      "One people, ore gration, duenporfelle\n",
      "Mornizery sem\n",
      "Compen falleve with the world what Singap\n",
      "We make I havely Qushe ven\n",
      "I but\n"
     ]
    }
   ],
   "source": [
    "# Generate the text with higher temperature to get more unexpected results.\n",
    "print(generate_text(model, start_string=u\"Singapore \", temperature=1.5))"
   ]
  },
  {
   "cell_type": "markdown",
   "id": "34b78b98",
   "metadata": {
    "id": "0hh80MqEO_XI",
    "papermill": {
     "duration": 0.332708,
     "end_time": "2022-05-23T08:41:23.169036",
     "exception": false,
     "start_time": "2022-05-23T08:41:22.836328",
     "status": "completed"
    },
    "tags": []
   },
   "source": [
    "## Save the model"
   ]
  },
  {
   "cell_type": "code",
   "execution_count": 50,
   "id": "32ef733d",
   "metadata": {
    "execution": {
     "iopub.execute_input": "2022-05-23T08:41:23.932319Z",
     "iopub.status.busy": "2022-05-23T08:41:23.931971Z",
     "iopub.status.idle": "2022-05-23T08:41:24.007226Z",
     "shell.execute_reply": "2022-05-23T08:41:24.006481Z"
    },
    "id": "VPE98xa8PA-u",
    "papermill": {
     "duration": 0.502564,
     "end_time": "2022-05-23T08:41:24.011072",
     "exception": false,
     "start_time": "2022-05-23T08:41:23.508508",
     "status": "completed"
    },
    "tags": []
   },
   "outputs": [],
   "source": [
    "model_name = 'text_generation_shakespeare_rnn.h5'\n",
    "model.save(model_name, save_format='h5')"
   ]
  },
  {
   "cell_type": "markdown",
   "id": "30e2ff78",
   "metadata": {
    "id": "WYP08xbbTNKp",
    "papermill": {
     "duration": 0.537497,
     "end_time": "2022-05-23T08:41:25.098252",
     "exception": false,
     "start_time": "2022-05-23T08:41:24.560755",
     "status": "completed"
    },
    "tags": []
   },
   "source": [
    "## Converting the model to web-format\n",
    "\n",
    "To use this model on the web we need to convert it into the format that will be understandable by [tensorflowjs](https://www.tensorflow.org/js). To do so we may use [tfjs-converter](https://github.com/tensorflow/tfjs/tree/master/tfjs-converter) as following:\n",
    "\n",
    "```\n",
    "tensorflowjs_converter --input_format keras \\\n",
    "  ./experiments/text_generation_shakespeare_rnn/text_generation_shakespeare_rnn.h5 \\\n",
    "  ./demos/public/models/text_generation_shakespeare_rnn\n",
    "```\n",
    "\n",
    "You find this experiment in the [Demo app](https://trekhleb.github.io/machine-learning-experiments) and play around with it right in you browser to see how the model performs in real life."
   ]
  }
 ],
 "metadata": {
  "kernelspec": {
   "display_name": "Python 3",
   "language": "python",
   "name": "python3"
  },
  "language_info": {
   "codemirror_mode": {
    "name": "ipython",
    "version": 3
   },
   "file_extension": ".py",
   "mimetype": "text/x-python",
   "name": "python",
   "nbconvert_exporter": "python",
   "pygments_lexer": "ipython3",
   "version": "3.7.12"
  },
  "papermill": {
   "default_parameters": {},
   "duration": 133.64903,
   "end_time": "2022-05-23T08:41:28.980457",
   "environment_variables": {},
   "exception": null,
   "input_path": "__notebook__.ipynb",
   "output_path": "__notebook__.ipynb",
   "parameters": {},
   "start_time": "2022-05-23T08:39:15.331427",
   "version": "2.3.4"
  }
 },
 "nbformat": 4,
 "nbformat_minor": 5
}
