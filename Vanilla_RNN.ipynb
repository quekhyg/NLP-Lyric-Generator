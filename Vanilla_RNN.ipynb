{
  "nbformat": 4,
  "nbformat_minor": 0,
  "metadata": {
    "colab": {
      "name": "Vanilla RNN.ipynb",
      "provenance": [],
      "collapsed_sections": []
    },
    "kernelspec": {
      "name": "python3",
      "display_name": "Python 3"
    },
    "language_info": {
      "name": "python"
    }
  },
  "cells": [
    {
      "cell_type": "code",
      "execution_count": 1,
      "metadata": {
        "colab": {
          "base_uri": "https://localhost:8080/"
        },
        "id": "wgFfi9cLM0a2",
        "outputId": "4c4e153e-4284-4e6d-ab3a-d20b967db43b"
      },
      "outputs": [
        {
          "output_type": "stream",
          "name": "stdout",
          "text": [
            "Mounted at /content/drive\n",
            "/content/drive/.shortcut-targets-by-id/1MmY0pN1b5xL_C2CijM9ImcFM-UFt4bwr/NLP project\n"
          ]
        }
      ],
      "source": [
        "from google.colab import drive\n",
        "drive.mount('/content/drive')\n",
        "%cd /content/drive/MyDrive/NLP\\ project/"
      ]
    },
    {
      "cell_type": "code",
      "source": [
        "#import packages\n",
        "import pandas as pd\n",
        "import numpy as np\n",
        "import os\n",
        "import sys \n",
        "from keras.models import Sequential\n",
        "from keras.layers import LSTM, Activation, Flatten, Dropout, Dense, Embedding, TimeDistributed, SimpleRNN\n",
        "from keras.callbacks import ModelCheckpoint\n",
        "from keras.utils import np_utils"
      ],
      "metadata": {
        "id": "EhWNN_xcPCKQ"
      },
      "execution_count": 2,
      "outputs": []
    },
    {
      "cell_type": "markdown",
      "source": [
        "Data Preprocessing"
      ],
      "metadata": {
        "id": "Kd3vKrZvbYrC"
      }
    },
    {
      "cell_type": "code",
      "source": [
        "path = \"./songs_edit_revised/\"\n",
        "corpus = ''\n",
        "\n",
        "all_files = os.listdir(path)\n",
        "for file in all_files:\n",
        "  with open(os.path.join(path, file)) as f:\n",
        "    text = f.read()\n",
        "    corpus+= '\\n\\n'+ text\n"
      ],
      "metadata": {
        "id": "4APv66HUPQTK"
      },
      "execution_count": 3,
      "outputs": []
    },
    {
      "cell_type": "code",
      "source": [
        "components = corpus.split('\\n\\n')"
      ],
      "metadata": {
        "id": "HB-1Ie88sMSF"
      },
      "execution_count": 4,
      "outputs": []
    },
    {
      "cell_type": "code",
      "source": [
        "print(len(components))"
      ],
      "metadata": {
        "colab": {
          "base_uri": "https://localhost:8080/"
        },
        "id": "PBSAP7OLsRDK",
        "outputId": "ffd3fabb-6f1a-4433-8415-e85b5d2a8f05"
      },
      "execution_count": 5,
      "outputs": [
        {
          "output_type": "stream",
          "name": "stdout",
          "text": [
            "288\n"
          ]
        }
      ]
    },
    {
      "cell_type": "code",
      "source": [
        "substring = \"<VERSE>\"\n",
        "verse_list = [string.split('\\n') for string in components if substring in string]\n",
        "\n",
        "for song in verse_list:\n",
        "  song.pop(0)\n",
        "\n",
        "# new_verse_list = [item for sublist in verse_list for item in sublist]\n",
        "# new_verse_list[:5]"
      ],
      "metadata": {
        "id": "y8JVmhsPP1aU"
      },
      "execution_count": 6,
      "outputs": []
    },
    {
      "cell_type": "code",
      "source": [
        "substring = \"<CHORUS>\"\n",
        "chorus_list = [string.split('\\n') for string in components if substring in string]\n",
        "for song in chorus_list:\n",
        "  song.pop(0)\n",
        "\n",
        "# new_chorus_list = [item for sublist in chorus_list for item in sublist]\n",
        "# new_chorus_list[:5]\n"
      ],
      "metadata": {
        "id": "Y0xD6YthNTjS"
      },
      "execution_count": 7,
      "outputs": []
    },
    {
      "cell_type": "code",
      "source": [
        "substring = \"<PRECHORUS>\"\n",
        "pre_list = [string.split('\\n') for string in components if substring in string]\n",
        "for song in pre_list:\n",
        "  song.pop(0)\n",
        "\n",
        "# new_pre_list = [item for sublist in pre_list for item in sublist]\n",
        "# new_pre_list[:5]\n",
        "\n"
      ],
      "metadata": {
        "id": "bDJHQxzSP55c"
      },
      "execution_count": 8,
      "outputs": []
    },
    {
      "cell_type": "code",
      "source": [
        "substring = \"<BRIDGE>\"\n",
        "bridge_list = [string.split('\\n') for string in components if substring in string]\n",
        "for song in bridge_list:\n",
        "  song.pop(0)\n",
        "\n",
        "# new_bridge_list = [item for sublist in bridge_list for item in sublist]\n",
        "# new_bridge_list[:5]"
      ],
      "metadata": {
        "id": "EvMrHTrmP9sN"
      },
      "execution_count": 9,
      "outputs": []
    },
    {
      "cell_type": "code",
      "source": [
        "substring = \"<OTHERS>\"\n",
        "others_list = [string.split('\\n') for string in components if substring in string]\n",
        "for song in others_list:\n",
        "  song.pop(0)\n",
        "\n",
        "# new_others_list = [item for sublist in others_list for item in sublist]\n",
        "# new_others_list[:5]"
      ],
      "metadata": {
        "id": "vRoLuTa8QeKn"
      },
      "execution_count": 10,
      "outputs": []
    },
    {
      "cell_type": "markdown",
      "source": [
        "Generating lyrics for VERSE"
      ],
      "metadata": {
        "id": "a7glFx4Lh63h"
      }
    },
    {
      "cell_type": "code",
      "source": [
        "verse_df = pd.DataFrame(\n",
        "    {'verse': verse_list})\n",
        "\n",
        "verse_df['verse'] = verse_df['verse'].str.join(', ')\n",
        "pd.options.display.max_colwidth = 500\n",
        "verse_df.head()"
      ],
      "metadata": {
        "colab": {
          "base_uri": "https://localhost:8080/",
          "height": 354
        },
        "id": "fjX4K8HFseBN",
        "outputId": "ddab8c18-6010-4cde-ac9b-a02f5995aca0"
      },
      "execution_count": 11,
      "outputs": [
        {
          "output_type": "execute_result",
          "data": {
            "text/plain": [
              "                                                                                                                                                                                                                                                                                                                                                    verse\n",
              "0  Will you make this island, Amazing in all ways, Surprises every corner, Delightful nights and days, Will you take this country, And turn it from a place, To a home that greets you, With smiles on every face, Will you come on this brave journey, Will you help to make it real, Will you write us grand new stories, Songs that everyone will feel\n",
              "1                                                                                                         Will you take this city, And turn it from a place, To a home that greets you, With smiles on every face, Will you come on this brave journey, Will you help to make it real, Will you write us grand new stories, Songs that everyone will feel\n",
              "2                                                                                                                                                                   Wake up, she said, Look it’s a beautiful day, Downstairs to the kitchen door, And then away, Into the light, Morning feeling lives on, Come the clouds, the moon, And morning is gone\n",
              "3                                                                                                                                Born today some years ago, And had a happy childhood, But I fell in love and out, Nothing changed, Lived a life of nothing much, But then how much can one expect?, So there you are, My life has gone, But I’m the same\n",
              "4                                                                                                                                                              Get up, he said, Hurry or you might be late, Everyday you hurry off to keep your days, Learn something new, What are you hoping to prove?, Make some money, Find a wife, Have a kid or two"
            ],
            "text/html": [
              "\n",
              "  <div id=\"df-182c09d7-6c02-4346-b8f9-8ed6cd317174\">\n",
              "    <div class=\"colab-df-container\">\n",
              "      <div>\n",
              "<style scoped>\n",
              "    .dataframe tbody tr th:only-of-type {\n",
              "        vertical-align: middle;\n",
              "    }\n",
              "\n",
              "    .dataframe tbody tr th {\n",
              "        vertical-align: top;\n",
              "    }\n",
              "\n",
              "    .dataframe thead th {\n",
              "        text-align: right;\n",
              "    }\n",
              "</style>\n",
              "<table border=\"1\" class=\"dataframe\">\n",
              "  <thead>\n",
              "    <tr style=\"text-align: right;\">\n",
              "      <th></th>\n",
              "      <th>verse</th>\n",
              "    </tr>\n",
              "  </thead>\n",
              "  <tbody>\n",
              "    <tr>\n",
              "      <th>0</th>\n",
              "      <td>Will you make this island, Amazing in all ways, Surprises every corner, Delightful nights and days, Will you take this country, And turn it from a place, To a home that greets you, With smiles on every face, Will you come on this brave journey, Will you help to make it real, Will you write us grand new stories, Songs that everyone will feel</td>\n",
              "    </tr>\n",
              "    <tr>\n",
              "      <th>1</th>\n",
              "      <td>Will you take this city, And turn it from a place, To a home that greets you, With smiles on every face, Will you come on this brave journey, Will you help to make it real, Will you write us grand new stories, Songs that everyone will feel</td>\n",
              "    </tr>\n",
              "    <tr>\n",
              "      <th>2</th>\n",
              "      <td>Wake up, she said, Look it’s a beautiful day, Downstairs to the kitchen door, And then away, Into the light, Morning feeling lives on, Come the clouds, the moon, And morning is gone</td>\n",
              "    </tr>\n",
              "    <tr>\n",
              "      <th>3</th>\n",
              "      <td>Born today some years ago, And had a happy childhood, But I fell in love and out, Nothing changed, Lived a life of nothing much, But then how much can one expect?, So there you are, My life has gone, But I’m the same</td>\n",
              "    </tr>\n",
              "    <tr>\n",
              "      <th>4</th>\n",
              "      <td>Get up, he said, Hurry or you might be late, Everyday you hurry off to keep your days, Learn something new, What are you hoping to prove?, Make some money, Find a wife, Have a kid or two</td>\n",
              "    </tr>\n",
              "  </tbody>\n",
              "</table>\n",
              "</div>\n",
              "      <button class=\"colab-df-convert\" onclick=\"convertToInteractive('df-182c09d7-6c02-4346-b8f9-8ed6cd317174')\"\n",
              "              title=\"Convert this dataframe to an interactive table.\"\n",
              "              style=\"display:none;\">\n",
              "        \n",
              "  <svg xmlns=\"http://www.w3.org/2000/svg\" height=\"24px\"viewBox=\"0 0 24 24\"\n",
              "       width=\"24px\">\n",
              "    <path d=\"M0 0h24v24H0V0z\" fill=\"none\"/>\n",
              "    <path d=\"M18.56 5.44l.94 2.06.94-2.06 2.06-.94-2.06-.94-.94-2.06-.94 2.06-2.06.94zm-11 1L8.5 8.5l.94-2.06 2.06-.94-2.06-.94L8.5 2.5l-.94 2.06-2.06.94zm10 10l.94 2.06.94-2.06 2.06-.94-2.06-.94-.94-2.06-.94 2.06-2.06.94z\"/><path d=\"M17.41 7.96l-1.37-1.37c-.4-.4-.92-.59-1.43-.59-.52 0-1.04.2-1.43.59L10.3 9.45l-7.72 7.72c-.78.78-.78 2.05 0 2.83L4 21.41c.39.39.9.59 1.41.59.51 0 1.02-.2 1.41-.59l7.78-7.78 2.81-2.81c.8-.78.8-2.07 0-2.86zM5.41 20L4 18.59l7.72-7.72 1.47 1.35L5.41 20z\"/>\n",
              "  </svg>\n",
              "      </button>\n",
              "      \n",
              "  <style>\n",
              "    .colab-df-container {\n",
              "      display:flex;\n",
              "      flex-wrap:wrap;\n",
              "      gap: 12px;\n",
              "    }\n",
              "\n",
              "    .colab-df-convert {\n",
              "      background-color: #E8F0FE;\n",
              "      border: none;\n",
              "      border-radius: 50%;\n",
              "      cursor: pointer;\n",
              "      display: none;\n",
              "      fill: #1967D2;\n",
              "      height: 32px;\n",
              "      padding: 0 0 0 0;\n",
              "      width: 32px;\n",
              "    }\n",
              "\n",
              "    .colab-df-convert:hover {\n",
              "      background-color: #E2EBFA;\n",
              "      box-shadow: 0px 1px 2px rgba(60, 64, 67, 0.3), 0px 1px 3px 1px rgba(60, 64, 67, 0.15);\n",
              "      fill: #174EA6;\n",
              "    }\n",
              "\n",
              "    [theme=dark] .colab-df-convert {\n",
              "      background-color: #3B4455;\n",
              "      fill: #D2E3FC;\n",
              "    }\n",
              "\n",
              "    [theme=dark] .colab-df-convert:hover {\n",
              "      background-color: #434B5C;\n",
              "      box-shadow: 0px 1px 3px 1px rgba(0, 0, 0, 0.15);\n",
              "      filter: drop-shadow(0px 1px 2px rgba(0, 0, 0, 0.3));\n",
              "      fill: #FFFFFF;\n",
              "    }\n",
              "  </style>\n",
              "\n",
              "      <script>\n",
              "        const buttonEl =\n",
              "          document.querySelector('#df-182c09d7-6c02-4346-b8f9-8ed6cd317174 button.colab-df-convert');\n",
              "        buttonEl.style.display =\n",
              "          google.colab.kernel.accessAllowed ? 'block' : 'none';\n",
              "\n",
              "        async function convertToInteractive(key) {\n",
              "          const element = document.querySelector('#df-182c09d7-6c02-4346-b8f9-8ed6cd317174');\n",
              "          const dataTable =\n",
              "            await google.colab.kernel.invokeFunction('convertToInteractive',\n",
              "                                                     [key], {});\n",
              "          if (!dataTable) return;\n",
              "\n",
              "          const docLinkHtml = 'Like what you see? Visit the ' +\n",
              "            '<a target=\"_blank\" href=https://colab.research.google.com/notebooks/data_table.ipynb>data table notebook</a>'\n",
              "            + ' to learn more about interactive tables.';\n",
              "          element.innerHTML = '';\n",
              "          dataTable['output_type'] = 'display_data';\n",
              "          await google.colab.output.renderOutput(dataTable, element);\n",
              "          const docLink = document.createElement('div');\n",
              "          docLink.innerHTML = docLinkHtml;\n",
              "          element.appendChild(docLink);\n",
              "        }\n",
              "      </script>\n",
              "    </div>\n",
              "  </div>\n",
              "  "
            ]
          },
          "metadata": {},
          "execution_count": 11
        }
      ]
    },
    {
      "cell_type": "code",
      "source": [
        "from google.colab import files\n",
        "src = list(files.upload().values())[0]\n",
        "open('utilities.py','wb').write(src)\n",
        "import utilities as U"
      ],
      "metadata": {
        "colab": {
          "resources": {
            "http://localhost:8080/nbextensions/google.colab/files.js": {
              "data": "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",
              "ok": true,
              "headers": [
                [
                  "content-type",
                  "application/javascript"
                ]
              ],
              "status": 200,
              "status_text": ""
            }
          },
          "base_uri": "https://localhost:8080/",
          "height": 74
        },
        "id": "QOqvOtUsR3My",
        "outputId": "30450fc5-a81c-4a5a-ff04-73f5971184c1"
      },
      "execution_count": 12,
      "outputs": [
        {
          "output_type": "display_data",
          "data": {
            "text/plain": [
              "<IPython.core.display.HTML object>"
            ],
            "text/html": [
              "\n",
              "     <input type=\"file\" id=\"files-41e10761-c114-44d9-b58f-6c452862ce83\" name=\"files[]\" multiple disabled\n",
              "        style=\"border:none\" />\n",
              "     <output id=\"result-41e10761-c114-44d9-b58f-6c452862ce83\">\n",
              "      Upload widget is only available when the cell has been executed in the\n",
              "      current browser session. Please rerun this cell to enable.\n",
              "      </output>\n",
              "      <script src=\"/nbextensions/google.colab/files.js\"></script> "
            ]
          },
          "metadata": {}
        },
        {
          "output_type": "stream",
          "name": "stdout",
          "text": [
            "Saving utilities.py to utilities (1).py\n"
          ]
        }
      ]
    },
    {
      "cell_type": "code",
      "source": [
        "\"\"\"\n",
        "Remove punctuations, decontractions, emojis and URLs\n",
        "\"\"\"\n",
        "\n",
        "verse_df['verse'] = verse_df.apply(lambda row : U.remove_punct(row['verse']), axis=1)\n",
        "verse_df['verse'] = verse_df.apply(lambda row : U.remove_url(row['verse']), axis=1)\n",
        "verse_df['verse'] = verse_df.apply(lambda row : U.remove_emoji(row['verse']), axis=1)\n",
        "verse_df['verse'] = verse_df.apply(lambda row : U.decontraction(row['verse']), axis=1)\n",
        "verse_df['verse']=  verse_df.apply(lambda row : row['verse'].lower(), axis=1)\n",
        "verse_df.head()"
      ],
      "metadata": {
        "colab": {
          "base_uri": "https://localhost:8080/",
          "height": 354
        },
        "id": "7yIThjqZmXlF",
        "outputId": "eb8fa308-a708-469f-bed1-6e986775a808"
      },
      "execution_count": 13,
      "outputs": [
        {
          "output_type": "execute_result",
          "data": {
            "text/plain": [
              "                                                                                                                                                                                                                                                                                                                                         verse\n",
              "0  will you make this island amazing in all ways surprises every corner delightful nights and days will you take this country and turn it from a place to a home that greets you with smiles on every face will you come on this brave journey will you help to make it real will you write us grand new stories songs that everyone will feel\n",
              "1                                                                                                     will you take this city and turn it from a place to a home that greets you with smiles on every face will you come on this brave journey will you help to make it real will you write us grand new stories songs that everyone will feel\n",
              "2                                                                                                                                                                  wake up she said look its a beautiful day downstairs to the kitchen door and then away into the light morning feeling lives on come the clouds the moon and morning is gone\n",
              "3                                                                                                                               born today some years ago and had a happy childhood but i fell in love and out nothing changed lived a life of nothing much but then how much can one expect so there you are my life has gone but im the same\n",
              "4                                                                                                                                                            get up he said hurry or you might be late everyday you hurry off to keep your days learn something new what are you hoping to prove make some money find a wife have a kid or two"
            ],
            "text/html": [
              "\n",
              "  <div id=\"df-9a8115a9-7f93-490e-a7d7-db3302bee5cd\">\n",
              "    <div class=\"colab-df-container\">\n",
              "      <div>\n",
              "<style scoped>\n",
              "    .dataframe tbody tr th:only-of-type {\n",
              "        vertical-align: middle;\n",
              "    }\n",
              "\n",
              "    .dataframe tbody tr th {\n",
              "        vertical-align: top;\n",
              "    }\n",
              "\n",
              "    .dataframe thead th {\n",
              "        text-align: right;\n",
              "    }\n",
              "</style>\n",
              "<table border=\"1\" class=\"dataframe\">\n",
              "  <thead>\n",
              "    <tr style=\"text-align: right;\">\n",
              "      <th></th>\n",
              "      <th>verse</th>\n",
              "    </tr>\n",
              "  </thead>\n",
              "  <tbody>\n",
              "    <tr>\n",
              "      <th>0</th>\n",
              "      <td>will you make this island amazing in all ways surprises every corner delightful nights and days will you take this country and turn it from a place to a home that greets you with smiles on every face will you come on this brave journey will you help to make it real will you write us grand new stories songs that everyone will feel</td>\n",
              "    </tr>\n",
              "    <tr>\n",
              "      <th>1</th>\n",
              "      <td>will you take this city and turn it from a place to a home that greets you with smiles on every face will you come on this brave journey will you help to make it real will you write us grand new stories songs that everyone will feel</td>\n",
              "    </tr>\n",
              "    <tr>\n",
              "      <th>2</th>\n",
              "      <td>wake up she said look its a beautiful day downstairs to the kitchen door and then away into the light morning feeling lives on come the clouds the moon and morning is gone</td>\n",
              "    </tr>\n",
              "    <tr>\n",
              "      <th>3</th>\n",
              "      <td>born today some years ago and had a happy childhood but i fell in love and out nothing changed lived a life of nothing much but then how much can one expect so there you are my life has gone but im the same</td>\n",
              "    </tr>\n",
              "    <tr>\n",
              "      <th>4</th>\n",
              "      <td>get up he said hurry or you might be late everyday you hurry off to keep your days learn something new what are you hoping to prove make some money find a wife have a kid or two</td>\n",
              "    </tr>\n",
              "  </tbody>\n",
              "</table>\n",
              "</div>\n",
              "      <button class=\"colab-df-convert\" onclick=\"convertToInteractive('df-9a8115a9-7f93-490e-a7d7-db3302bee5cd')\"\n",
              "              title=\"Convert this dataframe to an interactive table.\"\n",
              "              style=\"display:none;\">\n",
              "        \n",
              "  <svg xmlns=\"http://www.w3.org/2000/svg\" height=\"24px\"viewBox=\"0 0 24 24\"\n",
              "       width=\"24px\">\n",
              "    <path d=\"M0 0h24v24H0V0z\" fill=\"none\"/>\n",
              "    <path d=\"M18.56 5.44l.94 2.06.94-2.06 2.06-.94-2.06-.94-.94-2.06-.94 2.06-2.06.94zm-11 1L8.5 8.5l.94-2.06 2.06-.94-2.06-.94L8.5 2.5l-.94 2.06-2.06.94zm10 10l.94 2.06.94-2.06 2.06-.94-2.06-.94-.94-2.06-.94 2.06-2.06.94z\"/><path d=\"M17.41 7.96l-1.37-1.37c-.4-.4-.92-.59-1.43-.59-.52 0-1.04.2-1.43.59L10.3 9.45l-7.72 7.72c-.78.78-.78 2.05 0 2.83L4 21.41c.39.39.9.59 1.41.59.51 0 1.02-.2 1.41-.59l7.78-7.78 2.81-2.81c.8-.78.8-2.07 0-2.86zM5.41 20L4 18.59l7.72-7.72 1.47 1.35L5.41 20z\"/>\n",
              "  </svg>\n",
              "      </button>\n",
              "      \n",
              "  <style>\n",
              "    .colab-df-container {\n",
              "      display:flex;\n",
              "      flex-wrap:wrap;\n",
              "      gap: 12px;\n",
              "    }\n",
              "\n",
              "    .colab-df-convert {\n",
              "      background-color: #E8F0FE;\n",
              "      border: none;\n",
              "      border-radius: 50%;\n",
              "      cursor: pointer;\n",
              "      display: none;\n",
              "      fill: #1967D2;\n",
              "      height: 32px;\n",
              "      padding: 0 0 0 0;\n",
              "      width: 32px;\n",
              "    }\n",
              "\n",
              "    .colab-df-convert:hover {\n",
              "      background-color: #E2EBFA;\n",
              "      box-shadow: 0px 1px 2px rgba(60, 64, 67, 0.3), 0px 1px 3px 1px rgba(60, 64, 67, 0.15);\n",
              "      fill: #174EA6;\n",
              "    }\n",
              "\n",
              "    [theme=dark] .colab-df-convert {\n",
              "      background-color: #3B4455;\n",
              "      fill: #D2E3FC;\n",
              "    }\n",
              "\n",
              "    [theme=dark] .colab-df-convert:hover {\n",
              "      background-color: #434B5C;\n",
              "      box-shadow: 0px 1px 3px 1px rgba(0, 0, 0, 0.15);\n",
              "      filter: drop-shadow(0px 1px 2px rgba(0, 0, 0, 0.3));\n",
              "      fill: #FFFFFF;\n",
              "    }\n",
              "  </style>\n",
              "\n",
              "      <script>\n",
              "        const buttonEl =\n",
              "          document.querySelector('#df-9a8115a9-7f93-490e-a7d7-db3302bee5cd button.colab-df-convert');\n",
              "        buttonEl.style.display =\n",
              "          google.colab.kernel.accessAllowed ? 'block' : 'none';\n",
              "\n",
              "        async function convertToInteractive(key) {\n",
              "          const element = document.querySelector('#df-9a8115a9-7f93-490e-a7d7-db3302bee5cd');\n",
              "          const dataTable =\n",
              "            await google.colab.kernel.invokeFunction('convertToInteractive',\n",
              "                                                     [key], {});\n",
              "          if (!dataTable) return;\n",
              "\n",
              "          const docLinkHtml = 'Like what you see? Visit the ' +\n",
              "            '<a target=\"_blank\" href=https://colab.research.google.com/notebooks/data_table.ipynb>data table notebook</a>'\n",
              "            + ' to learn more about interactive tables.';\n",
              "          element.innerHTML = '';\n",
              "          dataTable['output_type'] = 'display_data';\n",
              "          await google.colab.output.renderOutput(dataTable, element);\n",
              "          const docLink = document.createElement('div');\n",
              "          docLink.innerHTML = docLinkHtml;\n",
              "          element.appendChild(docLink);\n",
              "        }\n",
              "      </script>\n",
              "    </div>\n",
              "  </div>\n",
              "  "
            ]
          },
          "metadata": {},
          "execution_count": 13
        }
      ]
    },
    {
      "cell_type": "code",
      "source": [
        "verses = verse_df['verse'].tolist()"
      ],
      "metadata": {
        "id": "033ltAmo25ky"
      },
      "execution_count": 14,
      "outputs": []
    },
    {
      "cell_type": "code",
      "source": [
        "verses[:10]"
      ],
      "metadata": {
        "colab": {
          "base_uri": "https://localhost:8080/"
        },
        "id": "K3c3lQScEH4k",
        "outputId": "de4c056b-a306-45f2-cd27-ec85e1d74ee5"
      },
      "execution_count": 15,
      "outputs": [
        {
          "output_type": "execute_result",
          "data": {
            "text/plain": [
              "['will you make this island amazing in all ways surprises every corner delightful nights and days will you take this country and turn it from a place to a home that greets you with smiles on every face will you come on this brave journey will you help to make it real will you write us grand new stories songs that everyone will feel',\n",
              " 'will you take this city and turn it from a place to a home that greets you with smiles on every face will you come on this brave journey will you help to make it real will you write us grand new stories songs that everyone will feel',\n",
              " 'wake up she said look its a beautiful day downstairs to the kitchen door and then away into the light morning feeling lives on come the clouds the moon and morning is gone',\n",
              " 'born today some years ago and had a happy childhood but i fell in love and out nothing changed lived a life of nothing much but then how much can one expect so there you are my life has gone but im the same',\n",
              " 'get up he said hurry or you might be late everyday you hurry off to keep your days learn something new what are you hoping to prove make some money find a wife have a kid or two',\n",
              " 'thinking back i like to dream of things i would have done if i were braver then again im not whats there to do maybe if i had another chance id go into my past and make my life a better one for me and you',\n",
              " 'when its time and i must close ill write a book and sign it x and send it to some true romance type magazine somewhere then the world will read of me and say there lived a hero but too late my friends and enemies i guess life isnt fair',\n",
              " 'verse this is a place youll be amazed where children play where best friends stay have different tastes live different ways the smile on your face can bring us closer every day',\n",
              " 'this is a place our common space we share our dreams one goal we chase come join our pace well win the race when were together we can make miracles come our way',\n",
              " 'this is the place our common space we share our dreams one goal we chase come join our pace well win the race heres where i belong where i know that love is there for me']"
            ]
          },
          "metadata": {},
          "execution_count": 15
        }
      ]
    },
    {
      "cell_type": "code",
      "source": [
        "# Save verses in .txt file\n",
        "with open('verses.txt', 'w',encoding=\"utf-8\") as filehandle:  \n",
        "    for listitem in verses:\n",
        "        filehandle.write('%s\\n' % listitem)"
      ],
      "metadata": {
        "id": "ZXavEGDzoN85"
      },
      "execution_count": 16,
      "outputs": []
    },
    {
      "cell_type": "code",
      "source": [
        "textFileName = 'verses.txt'\n",
        "raw_text = open(textFileName, encoding = 'UTF-8').read()"
      ],
      "metadata": {
        "id": "2-R5ytF93GXO"
      },
      "execution_count": 17,
      "outputs": []
    },
    {
      "cell_type": "markdown",
      "source": [
        "Reference: https://colab.research.google.com/drive/1wlZXZBvOo93pAmTtEUeTlPsgAP4D1bLA#scrollTo=WsWUvqD0sGsX"
      ],
      "metadata": {
        "id": "jaMzKov03cht"
      }
    },
    {
      "cell_type": "code",
      "source": [
        "# Mapping chars to ints\n",
        "#Make two dictionaries: one to convert chars to ints , the other to convert ints back to chars\n",
        "\n",
        "#create a list of sorted unique characters\n",
        "chars = sorted(list(set(raw_text)))\n",
        "int_chars = dict((i, c) for i, c in enumerate(chars))\n",
        "chars_int = dict((c, i) for i, c in enumerate(chars))\n",
        "\n",
        "# int_chars = dict((i, c) for i, c in enumerate(chars))\n",
        "# chars_int = dict((i, c) for c, i in enumerate(chars))"
      ],
      "metadata": {
        "id": "w0b3hBbz3INg"
      },
      "execution_count": 18,
      "outputs": []
    },
    {
      "cell_type": "code",
      "source": [
        "# Get number of chars and vocab in our text :\n",
        "n_chars = len(raw_text)\n",
        "n_vocab = len(chars)"
      ],
      "metadata": {
        "id": "8zvpj46I3MAn"
      },
      "execution_count": 19,
      "outputs": []
    },
    {
      "cell_type": "code",
      "source": [
        "print('Total Characters : ' , n_chars) # number of all the characters in verses.txt\n",
        "print('Total Vocab : ', n_vocab) # number of unique characters"
      ],
      "metadata": {
        "colab": {
          "base_uri": "https://localhost:8080/"
        },
        "id": "QmDS2ulV3Yq6",
        "outputId": "17bf8ff6-52d6-4fbd-dbe7-860839b3d9d0"
      },
      "execution_count": 20,
      "outputs": [
        {
          "output_type": "stream",
          "name": "stdout",
          "text": [
            "Total Characters :  22309\n",
            "Total Vocab :  28\n"
          ]
        }
      ]
    },
    {
      "cell_type": "code",
      "source": [
        "#make samples and labels\n",
        "# process the dataset:\n",
        "seq_len = 100\n",
        "data_X = []\n",
        "data_y = []\n",
        "\n",
        "for i in range(0, n_chars - seq_len, 1):\n",
        "    # Input sequence(will be used as samples)\n",
        "    seq_in  = raw_text[i:i+seq_len]\n",
        "    # Output sequence (will be used as target)\n",
        "    seq_out = raw_text[i + seq_len]\n",
        "    # Store samples in data_X\n",
        "    data_X.append([chars_int[char] for char in seq_in])\n",
        "    # Store targets in data_y\n",
        "    data_y.append(chars_int[seq_out])\n",
        "n_patterns = len(data_X)\n",
        "print( 'Total Patterns : ', n_patterns)"
      ],
      "metadata": {
        "colab": {
          "base_uri": "https://localhost:8080/"
        },
        "id": "4GJjWyvb3i2V",
        "outputId": "f8767a8f-c0c3-410c-c104-1229a521ae58"
      },
      "execution_count": 21,
      "outputs": [
        {
          "output_type": "stream",
          "name": "stdout",
          "text": [
            "Total Patterns :  22209\n"
          ]
        }
      ]
    },
    {
      "cell_type": "code",
      "source": [
        "\"\"\"\n",
        "prepare the samples and labels to be ready to go into our model.\n",
        "\n",
        "- Reshape the samples\n",
        "- Normalize them\n",
        "- One hot encode the output targets\n",
        "\"\"\"\n",
        "\n",
        "# Reshape X to be suitable to go into RNN :\n",
        "X = np.reshape(data_X , (n_patterns, seq_len, 1))\n",
        "# Normalizing input data :\n",
        "X = X/ float(n_vocab)\n",
        "# One hot encode the output targets :\n",
        "y = np_utils.to_categorical(data_y)"
      ],
      "metadata": {
        "id": "qajB8-O03pk6"
      },
      "execution_count": 22,
      "outputs": []
    },
    {
      "cell_type": "markdown",
      "source": [
        "Build and Train RNN Model"
      ],
      "metadata": {
        "id": "UspFXJPm4Fne"
      }
    },
    {
      "cell_type": "code",
      "source": [
        "model = Sequential()\n",
        "\n",
        "#add output layer\n",
        "model.add(SimpleRNN(units=128, input_shape=(X.shape[1], X.shape[2]), activation=\"relu\"))\n",
        "model.add(Dense(y.shape[1]))\n",
        "model.add(Dropout(0.2, input_shape=(X.shape[1], X.shape[2])))\n",
        "model.add(Flatten())\n",
        "model.add(Dense(y.shape[1]))\n",
        "model.add(Activation('softmax'))\n",
        "model.compile(loss = 'categorical_crossentropy', optimizer = 'adam')"
      ],
      "metadata": {
        "id": "xMXH4IYK4AZD"
      },
      "execution_count": 23,
      "outputs": []
    },
    {
      "cell_type": "code",
      "source": [
        "model.summary()"
      ],
      "metadata": {
        "colab": {
          "base_uri": "https://localhost:8080/"
        },
        "id": "MhVkx1Bi5trr",
        "outputId": "4c364dcf-98e8-4ff4-8246-dd5ab6bb748e"
      },
      "execution_count": 24,
      "outputs": [
        {
          "output_type": "stream",
          "name": "stdout",
          "text": [
            "Model: \"sequential\"\n",
            "_________________________________________________________________\n",
            " Layer (type)                Output Shape              Param #   \n",
            "=================================================================\n",
            " simple_rnn (SimpleRNN)      (None, 128)               16640     \n",
            "                                                                 \n",
            " dense (Dense)               (None, 28)                3612      \n",
            "                                                                 \n",
            " dropout (Dropout)           (None, 28)                0         \n",
            "                                                                 \n",
            " flatten (Flatten)           (None, 28)                0         \n",
            "                                                                 \n",
            " dense_1 (Dense)             (None, 28)                812       \n",
            "                                                                 \n",
            " activation (Activation)     (None, 28)                0         \n",
            "                                                                 \n",
            "=================================================================\n",
            "Total params: 21,064\n",
            "Trainable params: 21,064\n",
            "Non-trainable params: 0\n",
            "_________________________________________________________________\n"
          ]
        }
      ]
    },
    {
      "cell_type": "code",
      "source": [
        "# Fit the model :\n",
        "model_params = {'epochs':20,\n",
        "                'batch_size':32,\n",
        "                #'callbacks':callbacks_list,\n",
        "                'verbose':1,\n",
        "                'validation_split':0.2,\n",
        "                'validation_data':None,\n",
        "                'shuffle': True,\n",
        "                'initial_epoch':0,\n",
        "                'steps_per_epoch':None,\n",
        "                'validation_steps':None}\n",
        "\n",
        "model.fit(X,\n",
        "          y,\n",
        "          epochs = model_params['epochs'],\n",
        "           batch_size = model_params['batch_size'],\n",
        "           #callbacks= model_params['callbacks'],\n",
        "           verbose = model_params['verbose'],\n",
        "           validation_split = model_params['validation_split'],\n",
        "           validation_data = model_params['validation_data'],\n",
        "           shuffle = model_params['shuffle'],\n",
        "           initial_epoch = model_params['initial_epoch'],\n",
        "           steps_per_epoch = model_params['steps_per_epoch'],\n",
        "           validation_steps = model_params['validation_steps'])"
      ],
      "metadata": {
        "colab": {
          "base_uri": "https://localhost:8080/"
        },
        "id": "eVDH0SP856td",
        "outputId": "67d70944-d410-4483-db3d-ab6b559e6a7a"
      },
      "execution_count": 25,
      "outputs": [
        {
          "output_type": "stream",
          "name": "stdout",
          "text": [
            "Epoch 1/20\n",
            "556/556 [==============================] - 20s 33ms/step - loss: 2.8337 - val_loss: 2.7388\n",
            "Epoch 2/20\n",
            "556/556 [==============================] - 18s 32ms/step - loss: 2.7063 - val_loss: 2.6747\n",
            "Epoch 3/20\n",
            "556/556 [==============================] - 18s 32ms/step - loss: 2.6364 - val_loss: 2.6126\n",
            "Epoch 4/20\n",
            "556/556 [==============================] - 18s 32ms/step - loss: 2.5828 - val_loss: 2.5761\n",
            "Epoch 5/20\n",
            "556/556 [==============================] - 18s 32ms/step - loss: 2.5455 - val_loss: 2.5546\n",
            "Epoch 6/20\n",
            "556/556 [==============================] - 18s 32ms/step - loss: 2.5138 - val_loss: 2.5384\n",
            "Epoch 7/20\n",
            "556/556 [==============================] - 18s 32ms/step - loss: 2.4904 - val_loss: 2.5230\n",
            "Epoch 8/20\n",
            "556/556 [==============================] - 18s 32ms/step - loss: 2.4660 - val_loss: 2.5144\n",
            "Epoch 9/20\n",
            "556/556 [==============================] - 23s 42ms/step - loss: 2.4463 - val_loss: 2.5127\n",
            "Epoch 10/20\n",
            "556/556 [==============================] - 18s 33ms/step - loss: 2.4185 - val_loss: 2.4963\n",
            "Epoch 11/20\n",
            "556/556 [==============================] - 17s 31ms/step - loss: 2.3937 - val_loss: 2.4904\n",
            "Epoch 12/20\n",
            "556/556 [==============================] - 20s 36ms/step - loss: 2.3677 - val_loss: 2.4864\n",
            "Epoch 13/20\n",
            "556/556 [==============================] - 38s 68ms/step - loss: 2.3492 - val_loss: 2.4732\n",
            "Epoch 14/20\n",
            "556/556 [==============================] - 31s 56ms/step - loss: 2.3215 - val_loss: 2.4846\n",
            "Epoch 15/20\n",
            "556/556 [==============================] - 25s 45ms/step - loss: 2.3012 - val_loss: 2.4945\n",
            "Epoch 16/20\n",
            "556/556 [==============================] - 24s 42ms/step - loss: 2.2777 - val_loss: 2.4678\n",
            "Epoch 17/20\n",
            "556/556 [==============================] - 20s 36ms/step - loss: 2.2603 - val_loss: 2.4606\n",
            "Epoch 18/20\n",
            "556/556 [==============================] - 20s 37ms/step - loss: 2.2401 - val_loss: 2.4687\n",
            "Epoch 19/20\n",
            "556/556 [==============================] - 30s 55ms/step - loss: 2.2236 - val_loss: 2.4709\n",
            "Epoch 20/20\n",
            "556/556 [==============================] - 18s 32ms/step - loss: 2.2043 - val_loss: 2.4731\n"
          ]
        },
        {
          "output_type": "execute_result",
          "data": {
            "text/plain": [
              "<keras.callbacks.History at 0x7f8aa78a5410>"
            ]
          },
          "metadata": {},
          "execution_count": 25
        }
      ]
    },
    {
      "cell_type": "code",
      "source": [
        "# The function to generate text from model\n",
        "def Lyrics_Generator(starter,Ch_count): #,temperature=1.0):\n",
        "    generated= \"\"\n",
        "    starter = starter \n",
        "    seed=[chars_int[char] for char in starter]\n",
        "    generated += starter \n",
        "    # Generating new text of given length\n",
        "    for i in range(Ch_count):\n",
        "        seed=[chars_int[char] for char in starter]\n",
        "        x_pred = np.reshape(seed, (1, len(seed), 1))\n",
        "        x_pred = x_pred/ float(n_vocab)\n",
        "        prediction = model.predict(x_pred, verbose=0)[0]  \n",
        "        # Getting the index of the next most probable index\n",
        "        prediction = np.asarray(prediction).astype('float64')\n",
        "        prediction = np.log(prediction) / 1.0 \n",
        "        exp_preds = np.exp(prediction)\n",
        "        prediction = exp_preds / np.sum(exp_preds)\n",
        "        probas = np.random.multinomial(1, prediction, 1)\n",
        "        index = np.argmax(prediction)\n",
        "        next_char = int_chars[index]  \n",
        "        # Generating new text\n",
        "        generated += next_char\n",
        "        starter = starter[1:] + next_char\n",
        "       \n",
        "    return generated"
      ],
      "metadata": {
        "id": "HTZaMC__rJDT"
      },
      "execution_count": 48,
      "outputs": []
    },
    {
      "cell_type": "code",
      "source": [
        "#Generating a verse from the model\n",
        "verse_1 = Lyrics_Generator(\"my island home\", 100)\n",
        "#Let's have a look at the verse\n",
        "verse_1"
      ],
      "metadata": {
        "colab": {
          "base_uri": "https://localhost:8080/",
          "height": 36
        },
        "id": "gvus3FxNsj2q",
        "outputId": "5ef19e44-f0b1-488d-e0be-9e6500067d58"
      },
      "execution_count": 51,
      "outputs": [
        {
          "output_type": "execute_result",
          "data": {
            "text/plain": [
              "'my island home th ther weacan wo hane toe ther we can to tee te cane toe ther we can to tee te cane toe ther we ca'"
            ],
            "application/vnd.google.colaboratory.intrinsic+json": {
              "type": "string"
            }
          },
          "metadata": {},
          "execution_count": 51
        }
      ]
    },
    {
      "cell_type": "code",
      "source": [
        "''' Failed Method 2 of generating lyrics '''\n",
        "# # set a random seed :\n",
        "# # start = np.random.randint(0, len(data_X)-1)\n",
        "# # pattern = data_X[start]\n",
        "# # print('Seed : ')\n",
        "# # print(\"\\\"\",''.join([int_chars[value] for value in pattern]), \"\\\"\\n\")\n",
        "# # print(len(pattern))\n",
        "# '''\n",
        "# The default method is to use a seed to generate starting sentence.\n",
        "# For greater flexibility, I implemented the below code so that we can manually include our input word/sentence\n",
        "# '''\n",
        "\n",
        "# input = 'singapore is my island home'\n",
        "# char_list = [char for char in input]\n",
        "# pattern = []\n",
        "\n",
        "# for c in char_list:\n",
        "#   for k, v in int_chars.items():\n",
        "#     if c == v:\n",
        "#       pattern.append(k)\n",
        "\n",
        "\n",
        "# # How many characters you want to generate\n",
        "# # generated_characters = 100\n",
        "# generated_characters = len(pattern)\n",
        "\n",
        "# # Generate Characters :\n",
        "# for i in range(generated_characters):\n",
        "#     x = np.reshape(pattern, ( 1, len(pattern), 1))\n",
        "#     x = x / float(n_vocab)\n",
        "#     prediction = model.predict(x,verbose = 0)\n",
        "#     index = np.argmax(prediction)\n",
        "#     result = int_chars[index]\n",
        "#     #seq_in = [int_chars[value] for value in pattern]\n",
        "#     sys.stdout.write(result)\n",
        "#     pattern.append(index)\n",
        "#     pattern = pattern[1:len(pattern)]\n",
        "# print('\\n\\nDone')"
      ],
      "metadata": {
        "colab": {
          "base_uri": "https://localhost:8080/"
        },
        "id": "aBwdGAE-63de",
        "outputId": "8147cbe5-f1aa-478a-b355-6facfe99fcf7"
      },
      "execution_count": 45,
      "outputs": [
        {
          "output_type": "stream",
          "name": "stdout",
          "text": [
            " th the sear we can to hane\n",
            "\n",
            "Done\n"
          ]
        }
      ]
    },
    {
      "cell_type": "markdown",
      "source": [
        "Generating lyrics for CHORUS"
      ],
      "metadata": {
        "id": "KVcdb7byjICA"
      }
    },
    {
      "cell_type": "code",
      "source": [
        "chorus_df = pd.DataFrame(\n",
        "    {'chorus': chorus_list})\n",
        "\n",
        "chorus_df['chorus'] = chorus_df['chorus'].str.join(', ')\n",
        "chorus_df.head()"
      ],
      "metadata": {
        "colab": {
          "base_uri": "https://localhost:8080/",
          "height": 337
        },
        "outputId": "bd1cbb51-ce32-4041-9b1a-5e6949623431",
        "id": "hxdX3EtsjZad"
      },
      "execution_count": 53,
      "outputs": [
        {
          "output_type": "execute_result",
          "data": {
            "text/plain": [
              "                                                                                                                                                                                                                                                       chorus\n",
              "0                So will you swim the current, Will you scale new heights, Will you make it happen, Will you let your dreams take flight, And will you make the difference, Will you seize the day, Will you live each moment, Will you dare to find new ways\n",
              "1                So will you swim the current, Will you scale new heights, Will you make it happen, Will you let your dreams take flight, And will you make the difference, Will you seize the day, Will you live each moment, Will you dare to find new ways\n",
              "2                                                                    Just my life story, Minute by second a story, That goes on forever with each breath that I take, This is my life story, Uneventfullest story, That ages with each year and birthday cake\n",
              "3                                                                    Just my life story, Minute by second a story, That goes on forever with each breath that I take, This is my life story, Uneventfullest story, That ages with each year and birthday cake\n",
              "4  This is where we'll see, Familiar faces from our neighbourhood, This is where we'll share, The stories dating back to our childhood, It's here where I'll find, Your hand to lift me up, When I fall, It's here where I am sure, I'm safe, I won't be lost"
            ],
            "text/html": [
              "\n",
              "  <div id=\"df-59605d19-7415-47bc-a574-dabbbc316195\">\n",
              "    <div class=\"colab-df-container\">\n",
              "      <div>\n",
              "<style scoped>\n",
              "    .dataframe tbody tr th:only-of-type {\n",
              "        vertical-align: middle;\n",
              "    }\n",
              "\n",
              "    .dataframe tbody tr th {\n",
              "        vertical-align: top;\n",
              "    }\n",
              "\n",
              "    .dataframe thead th {\n",
              "        text-align: right;\n",
              "    }\n",
              "</style>\n",
              "<table border=\"1\" class=\"dataframe\">\n",
              "  <thead>\n",
              "    <tr style=\"text-align: right;\">\n",
              "      <th></th>\n",
              "      <th>chorus</th>\n",
              "    </tr>\n",
              "  </thead>\n",
              "  <tbody>\n",
              "    <tr>\n",
              "      <th>0</th>\n",
              "      <td>So will you swim the current, Will you scale new heights, Will you make it happen, Will you let your dreams take flight, And will you make the difference, Will you seize the day, Will you live each moment, Will you dare to find new ways</td>\n",
              "    </tr>\n",
              "    <tr>\n",
              "      <th>1</th>\n",
              "      <td>So will you swim the current, Will you scale new heights, Will you make it happen, Will you let your dreams take flight, And will you make the difference, Will you seize the day, Will you live each moment, Will you dare to find new ways</td>\n",
              "    </tr>\n",
              "    <tr>\n",
              "      <th>2</th>\n",
              "      <td>Just my life story, Minute by second a story, That goes on forever with each breath that I take, This is my life story, Uneventfullest story, That ages with each year and birthday cake</td>\n",
              "    </tr>\n",
              "    <tr>\n",
              "      <th>3</th>\n",
              "      <td>Just my life story, Minute by second a story, That goes on forever with each breath that I take, This is my life story, Uneventfullest story, That ages with each year and birthday cake</td>\n",
              "    </tr>\n",
              "    <tr>\n",
              "      <th>4</th>\n",
              "      <td>This is where we'll see, Familiar faces from our neighbourhood, This is where we'll share, The stories dating back to our childhood, It's here where I'll find, Your hand to lift me up, When I fall, It's here where I am sure, I'm safe, I won't be lost</td>\n",
              "    </tr>\n",
              "  </tbody>\n",
              "</table>\n",
              "</div>\n",
              "      <button class=\"colab-df-convert\" onclick=\"convertToInteractive('df-59605d19-7415-47bc-a574-dabbbc316195')\"\n",
              "              title=\"Convert this dataframe to an interactive table.\"\n",
              "              style=\"display:none;\">\n",
              "        \n",
              "  <svg xmlns=\"http://www.w3.org/2000/svg\" height=\"24px\"viewBox=\"0 0 24 24\"\n",
              "       width=\"24px\">\n",
              "    <path d=\"M0 0h24v24H0V0z\" fill=\"none\"/>\n",
              "    <path d=\"M18.56 5.44l.94 2.06.94-2.06 2.06-.94-2.06-.94-.94-2.06-.94 2.06-2.06.94zm-11 1L8.5 8.5l.94-2.06 2.06-.94-2.06-.94L8.5 2.5l-.94 2.06-2.06.94zm10 10l.94 2.06.94-2.06 2.06-.94-2.06-.94-.94-2.06-.94 2.06-2.06.94z\"/><path d=\"M17.41 7.96l-1.37-1.37c-.4-.4-.92-.59-1.43-.59-.52 0-1.04.2-1.43.59L10.3 9.45l-7.72 7.72c-.78.78-.78 2.05 0 2.83L4 21.41c.39.39.9.59 1.41.59.51 0 1.02-.2 1.41-.59l7.78-7.78 2.81-2.81c.8-.78.8-2.07 0-2.86zM5.41 20L4 18.59l7.72-7.72 1.47 1.35L5.41 20z\"/>\n",
              "  </svg>\n",
              "      </button>\n",
              "      \n",
              "  <style>\n",
              "    .colab-df-container {\n",
              "      display:flex;\n",
              "      flex-wrap:wrap;\n",
              "      gap: 12px;\n",
              "    }\n",
              "\n",
              "    .colab-df-convert {\n",
              "      background-color: #E8F0FE;\n",
              "      border: none;\n",
              "      border-radius: 50%;\n",
              "      cursor: pointer;\n",
              "      display: none;\n",
              "      fill: #1967D2;\n",
              "      height: 32px;\n",
              "      padding: 0 0 0 0;\n",
              "      width: 32px;\n",
              "    }\n",
              "\n",
              "    .colab-df-convert:hover {\n",
              "      background-color: #E2EBFA;\n",
              "      box-shadow: 0px 1px 2px rgba(60, 64, 67, 0.3), 0px 1px 3px 1px rgba(60, 64, 67, 0.15);\n",
              "      fill: #174EA6;\n",
              "    }\n",
              "\n",
              "    [theme=dark] .colab-df-convert {\n",
              "      background-color: #3B4455;\n",
              "      fill: #D2E3FC;\n",
              "    }\n",
              "\n",
              "    [theme=dark] .colab-df-convert:hover {\n",
              "      background-color: #434B5C;\n",
              "      box-shadow: 0px 1px 3px 1px rgba(0, 0, 0, 0.15);\n",
              "      filter: drop-shadow(0px 1px 2px rgba(0, 0, 0, 0.3));\n",
              "      fill: #FFFFFF;\n",
              "    }\n",
              "  </style>\n",
              "\n",
              "      <script>\n",
              "        const buttonEl =\n",
              "          document.querySelector('#df-59605d19-7415-47bc-a574-dabbbc316195 button.colab-df-convert');\n",
              "        buttonEl.style.display =\n",
              "          google.colab.kernel.accessAllowed ? 'block' : 'none';\n",
              "\n",
              "        async function convertToInteractive(key) {\n",
              "          const element = document.querySelector('#df-59605d19-7415-47bc-a574-dabbbc316195');\n",
              "          const dataTable =\n",
              "            await google.colab.kernel.invokeFunction('convertToInteractive',\n",
              "                                                     [key], {});\n",
              "          if (!dataTable) return;\n",
              "\n",
              "          const docLinkHtml = 'Like what you see? Visit the ' +\n",
              "            '<a target=\"_blank\" href=https://colab.research.google.com/notebooks/data_table.ipynb>data table notebook</a>'\n",
              "            + ' to learn more about interactive tables.';\n",
              "          element.innerHTML = '';\n",
              "          dataTable['output_type'] = 'display_data';\n",
              "          await google.colab.output.renderOutput(dataTable, element);\n",
              "          const docLink = document.createElement('div');\n",
              "          docLink.innerHTML = docLinkHtml;\n",
              "          element.appendChild(docLink);\n",
              "        }\n",
              "      </script>\n",
              "    </div>\n",
              "  </div>\n",
              "  "
            ]
          },
          "metadata": {},
          "execution_count": 53
        }
      ]
    },
    {
      "cell_type": "code",
      "source": [
        "\"\"\"\n",
        "Remove punctuations, decontractions, emojis and URLs\n",
        "\"\"\"\n",
        "\n",
        "chorus_df['chorus'] = chorus_df.apply(lambda row : U.remove_punct(row['chorus']), axis=1)\n",
        "chorus_df['chorus'] = chorus_df.apply(lambda row : U.remove_url(row['chorus']), axis=1)\n",
        "chorus_df['chorus'] = chorus_df.apply(lambda row : U.remove_emoji(row['chorus']), axis=1)\n",
        "chorus_df['chorus'] = chorus_df.apply(lambda row : U.decontraction(row['chorus']), axis=1)\n",
        "chorus_df['chorus']=  chorus_df.apply(lambda row : row['chorus'].lower(), axis=1)\n",
        "chorus_df.head()"
      ],
      "metadata": {
        "colab": {
          "base_uri": "https://localhost:8080/",
          "height": 337
        },
        "outputId": "69473293-d18f-450b-c6c9-5effe2dc675c",
        "id": "BkO1xpm_jZag"
      },
      "execution_count": 54,
      "outputs": [
        {
          "output_type": "execute_result",
          "data": {
            "text/plain": [
              "                                                                                                                                                                                                                                       chorus\n",
              "0       so will you swim the current will you scale new heights will you make it happen will you let your dreams take flight and will you make the difference will you seize the day will you live each moment will you dare to find new ways\n",
              "1       so will you swim the current will you scale new heights will you make it happen will you let your dreams take flight and will you make the difference will you seize the day will you live each moment will you dare to find new ways\n",
              "2                                                         just my life story minute by second a story that goes on forever with each breath that i take this is my life story uneventfullest story that ages with each year and birthday cake\n",
              "3                                                         just my life story minute by second a story that goes on forever with each breath that i take this is my life story uneventfullest story that ages with each year and birthday cake\n",
              "4  this is where well see familiar faces from our neighbourhood this is where well share the stories dating back to our childhood its here where ill find your hand to lift me up when i fall its here where i am sure im safe i wont be lost"
            ],
            "text/html": [
              "\n",
              "  <div id=\"df-737355a2-1dd6-472e-9c1f-95de07f570b1\">\n",
              "    <div class=\"colab-df-container\">\n",
              "      <div>\n",
              "<style scoped>\n",
              "    .dataframe tbody tr th:only-of-type {\n",
              "        vertical-align: middle;\n",
              "    }\n",
              "\n",
              "    .dataframe tbody tr th {\n",
              "        vertical-align: top;\n",
              "    }\n",
              "\n",
              "    .dataframe thead th {\n",
              "        text-align: right;\n",
              "    }\n",
              "</style>\n",
              "<table border=\"1\" class=\"dataframe\">\n",
              "  <thead>\n",
              "    <tr style=\"text-align: right;\">\n",
              "      <th></th>\n",
              "      <th>chorus</th>\n",
              "    </tr>\n",
              "  </thead>\n",
              "  <tbody>\n",
              "    <tr>\n",
              "      <th>0</th>\n",
              "      <td>so will you swim the current will you scale new heights will you make it happen will you let your dreams take flight and will you make the difference will you seize the day will you live each moment will you dare to find new ways</td>\n",
              "    </tr>\n",
              "    <tr>\n",
              "      <th>1</th>\n",
              "      <td>so will you swim the current will you scale new heights will you make it happen will you let your dreams take flight and will you make the difference will you seize the day will you live each moment will you dare to find new ways</td>\n",
              "    </tr>\n",
              "    <tr>\n",
              "      <th>2</th>\n",
              "      <td>just my life story minute by second a story that goes on forever with each breath that i take this is my life story uneventfullest story that ages with each year and birthday cake</td>\n",
              "    </tr>\n",
              "    <tr>\n",
              "      <th>3</th>\n",
              "      <td>just my life story minute by second a story that goes on forever with each breath that i take this is my life story uneventfullest story that ages with each year and birthday cake</td>\n",
              "    </tr>\n",
              "    <tr>\n",
              "      <th>4</th>\n",
              "      <td>this is where well see familiar faces from our neighbourhood this is where well share the stories dating back to our childhood its here where ill find your hand to lift me up when i fall its here where i am sure im safe i wont be lost</td>\n",
              "    </tr>\n",
              "  </tbody>\n",
              "</table>\n",
              "</div>\n",
              "      <button class=\"colab-df-convert\" onclick=\"convertToInteractive('df-737355a2-1dd6-472e-9c1f-95de07f570b1')\"\n",
              "              title=\"Convert this dataframe to an interactive table.\"\n",
              "              style=\"display:none;\">\n",
              "        \n",
              "  <svg xmlns=\"http://www.w3.org/2000/svg\" height=\"24px\"viewBox=\"0 0 24 24\"\n",
              "       width=\"24px\">\n",
              "    <path d=\"M0 0h24v24H0V0z\" fill=\"none\"/>\n",
              "    <path d=\"M18.56 5.44l.94 2.06.94-2.06 2.06-.94-2.06-.94-.94-2.06-.94 2.06-2.06.94zm-11 1L8.5 8.5l.94-2.06 2.06-.94-2.06-.94L8.5 2.5l-.94 2.06-2.06.94zm10 10l.94 2.06.94-2.06 2.06-.94-2.06-.94-.94-2.06-.94 2.06-2.06.94z\"/><path d=\"M17.41 7.96l-1.37-1.37c-.4-.4-.92-.59-1.43-.59-.52 0-1.04.2-1.43.59L10.3 9.45l-7.72 7.72c-.78.78-.78 2.05 0 2.83L4 21.41c.39.39.9.59 1.41.59.51 0 1.02-.2 1.41-.59l7.78-7.78 2.81-2.81c.8-.78.8-2.07 0-2.86zM5.41 20L4 18.59l7.72-7.72 1.47 1.35L5.41 20z\"/>\n",
              "  </svg>\n",
              "      </button>\n",
              "      \n",
              "  <style>\n",
              "    .colab-df-container {\n",
              "      display:flex;\n",
              "      flex-wrap:wrap;\n",
              "      gap: 12px;\n",
              "    }\n",
              "\n",
              "    .colab-df-convert {\n",
              "      background-color: #E8F0FE;\n",
              "      border: none;\n",
              "      border-radius: 50%;\n",
              "      cursor: pointer;\n",
              "      display: none;\n",
              "      fill: #1967D2;\n",
              "      height: 32px;\n",
              "      padding: 0 0 0 0;\n",
              "      width: 32px;\n",
              "    }\n",
              "\n",
              "    .colab-df-convert:hover {\n",
              "      background-color: #E2EBFA;\n",
              "      box-shadow: 0px 1px 2px rgba(60, 64, 67, 0.3), 0px 1px 3px 1px rgba(60, 64, 67, 0.15);\n",
              "      fill: #174EA6;\n",
              "    }\n",
              "\n",
              "    [theme=dark] .colab-df-convert {\n",
              "      background-color: #3B4455;\n",
              "      fill: #D2E3FC;\n",
              "    }\n",
              "\n",
              "    [theme=dark] .colab-df-convert:hover {\n",
              "      background-color: #434B5C;\n",
              "      box-shadow: 0px 1px 3px 1px rgba(0, 0, 0, 0.15);\n",
              "      filter: drop-shadow(0px 1px 2px rgba(0, 0, 0, 0.3));\n",
              "      fill: #FFFFFF;\n",
              "    }\n",
              "  </style>\n",
              "\n",
              "      <script>\n",
              "        const buttonEl =\n",
              "          document.querySelector('#df-737355a2-1dd6-472e-9c1f-95de07f570b1 button.colab-df-convert');\n",
              "        buttonEl.style.display =\n",
              "          google.colab.kernel.accessAllowed ? 'block' : 'none';\n",
              "\n",
              "        async function convertToInteractive(key) {\n",
              "          const element = document.querySelector('#df-737355a2-1dd6-472e-9c1f-95de07f570b1');\n",
              "          const dataTable =\n",
              "            await google.colab.kernel.invokeFunction('convertToInteractive',\n",
              "                                                     [key], {});\n",
              "          if (!dataTable) return;\n",
              "\n",
              "          const docLinkHtml = 'Like what you see? Visit the ' +\n",
              "            '<a target=\"_blank\" href=https://colab.research.google.com/notebooks/data_table.ipynb>data table notebook</a>'\n",
              "            + ' to learn more about interactive tables.';\n",
              "          element.innerHTML = '';\n",
              "          dataTable['output_type'] = 'display_data';\n",
              "          await google.colab.output.renderOutput(dataTable, element);\n",
              "          const docLink = document.createElement('div');\n",
              "          docLink.innerHTML = docLinkHtml;\n",
              "          element.appendChild(docLink);\n",
              "        }\n",
              "      </script>\n",
              "    </div>\n",
              "  </div>\n",
              "  "
            ]
          },
          "metadata": {},
          "execution_count": 54
        }
      ]
    },
    {
      "cell_type": "code",
      "source": [
        "choruses = chorus_df['chorus'].tolist()"
      ],
      "metadata": {
        "id": "vfLgkZltjZag"
      },
      "execution_count": 55,
      "outputs": []
    },
    {
      "cell_type": "code",
      "source": [
        "choruses[:10]"
      ],
      "metadata": {
        "colab": {
          "base_uri": "https://localhost:8080/"
        },
        "outputId": "4d8e6408-38ec-49e7-9640-ff84df2b44b5",
        "id": "zvDYF3FgjZag"
      },
      "execution_count": 56,
      "outputs": [
        {
          "output_type": "execute_result",
          "data": {
            "text/plain": [
              "['so will you swim the current will you scale new heights will you make it happen will you let your dreams take flight and will you make the difference will you seize the day will you live each moment will you dare to find new ways',\n",
              " 'so will you swim the current will you scale new heights will you make it happen will you let your dreams take flight and will you make the difference will you seize the day will you live each moment will you dare to find new ways',\n",
              " 'just my life story minute by second a story that goes on forever with each breath that i take this is my life story uneventfullest story that ages with each year and birthday cake',\n",
              " 'just my life story minute by second a story that goes on forever with each breath that i take this is my life story uneventfullest story that ages with each year and birthday cake',\n",
              " 'this is where well see familiar faces from our neighbourhood this is where well share the stories dating back to our childhood its here where ill find your hand to lift me up when i fall its here where i am sure im safe i wont be lost',\n",
              " 'this is where well stand as one to build a home for you and me this is where well join our hands to grow the fruits of harmony when you and i put our hearts together well stand the test for this is where we belong well give our best',\n",
              " 'this is where well see familiar faces from our neighbourhood this is where well share the stories dating back to our childhood its here where ill find your hand to lift me up when i fall its here where i am sure im safe i wont be lost',\n",
              " 'this is where well stand as one to build a home for you and me this is where well join our hands to grow the fruits of harmony when you and i put our hearts together well stand the test for this is where we belong well give our best',\n",
              " 'lets reach out for the skies with wings we soar up high our dreams well all achieve well make our destiny lets reach out for the skies with wings we soar up high our dreams well all achieve lets soar and reach for the skies',\n",
              " 'lets reach out for the skies with wings we soar up high our dreams well all achieve well make our destiny lets reach out for the skies with wings we soar up high our dreams well all achieve lets soar and reach for the skies our dreams well all achieve lets soar and reach for the skies we can touch the skies']"
            ]
          },
          "metadata": {},
          "execution_count": 56
        }
      ]
    },
    {
      "cell_type": "code",
      "source": [
        "# Save verses in .txt file\n",
        "with open('choruses.txt', 'w',encoding=\"utf-8\") as filehandle:  \n",
        "    for listitem in choruses:\n",
        "        filehandle.write('%s\\n' % listitem)"
      ],
      "metadata": {
        "id": "PIUnIKo3jZah"
      },
      "execution_count": 57,
      "outputs": []
    },
    {
      "cell_type": "code",
      "source": [
        "textFileName = 'choruses.txt'\n",
        "raw_text_chorus = open(textFileName, encoding = 'UTF-8').read()"
      ],
      "metadata": {
        "id": "JtKyyF_1jZah"
      },
      "execution_count": 58,
      "outputs": []
    },
    {
      "cell_type": "code",
      "source": [
        "# Mapping chars to ints\n",
        "#Make two dictionaries: one to convert chars to ints , the other to convert ints back to chars\n",
        "chars = sorted(list(set(raw_text_chorus)))\n",
        "int_chars = dict((i, c) for i, c in enumerate(chars))\n",
        "chars_int = dict((c, i) for i, c in enumerate(chars))\n",
        "\n",
        "# int_chars = dict((i, c) for i, c in enumerate(chars))\n",
        "# chars_int = dict((i, c) for c, i in enumerate(chars))"
      ],
      "metadata": {
        "id": "ysITobh3jZah"
      },
      "execution_count": 66,
      "outputs": []
    },
    {
      "cell_type": "code",
      "source": [
        "# Get number of chars and vocab in our text :\n",
        "n_chars = len(raw_text_chorus)\n",
        "n_vocab = len(chars)"
      ],
      "metadata": {
        "id": "lRgt3wcWjZah"
      },
      "execution_count": 67,
      "outputs": []
    },
    {
      "cell_type": "code",
      "source": [
        "print('Total Characters : ' , n_chars) # number of all the characters in verses.txt\n",
        "print('Total Vocab : ', n_vocab) # number of unique characters"
      ],
      "metadata": {
        "colab": {
          "base_uri": "https://localhost:8080/"
        },
        "outputId": "55386304-5a6d-49e4-8d25-aa76660835de",
        "id": "BwMB4D_hjZah"
      },
      "execution_count": 68,
      "outputs": [
        {
          "output_type": "stream",
          "name": "stdout",
          "text": [
            "Total Characters :  26142\n",
            "Total Vocab :  27\n"
          ]
        }
      ]
    },
    {
      "cell_type": "code",
      "source": [
        "#make samples and labels\n",
        "# process the dataset:\n",
        "seq_len = 100\n",
        "data_X = []\n",
        "data_y = []\n",
        "\n",
        "for i in range(0, n_chars - seq_len, 1):\n",
        "    # Input Sequeance(will be used as samples)\n",
        "    seq_in  = raw_text_chorus[i:i+seq_len]\n",
        "    # Output sequence (will be used as target)\n",
        "    seq_out = raw_text_chorus[i + seq_len]\n",
        "    # Store samples in data_X\n",
        "    data_X.append([chars_int[char] for char in seq_in])\n",
        "    # Store targets in data_y\n",
        "    data_y.append(chars_int[seq_out])\n",
        "n_patterns = len(data_X)\n",
        "print( 'Total Patterns : ', n_patterns)"
      ],
      "metadata": {
        "colab": {
          "base_uri": "https://localhost:8080/"
        },
        "outputId": "8a330c8b-5b8d-4704-f3d1-80af601c31a3",
        "id": "ziMA6b1BjZai"
      },
      "execution_count": 70,
      "outputs": [
        {
          "output_type": "stream",
          "name": "stdout",
          "text": [
            "Total Patterns :  26042\n"
          ]
        }
      ]
    },
    {
      "cell_type": "code",
      "source": [
        "\"\"\"\n",
        "prepare the samples and labels to be ready to go into our model.\n",
        "\n",
        "- Reshape the samples\n",
        "- Normalize them\n",
        "- One hot encode the output targets\n",
        "\"\"\"\n",
        "\n",
        "# Reshape X to be suitable to go into RNN :\n",
        "X = np.reshape(data_X , (n_patterns, seq_len, 1))\n",
        "# Normalizing input data :\n",
        "X = X/ float(n_vocab)\n",
        "# One hot encode the output targets :\n",
        "y = np_utils.to_categorical(data_y)"
      ],
      "metadata": {
        "id": "_ckJKMtijZai"
      },
      "execution_count": 71,
      "outputs": []
    },
    {
      "cell_type": "markdown",
      "source": [
        "Build and Train RNN Model"
      ],
      "metadata": {
        "id": "6YXb7IPYjZai"
      }
    },
    {
      "cell_type": "code",
      "source": [
        "model_chorus = Sequential()\n",
        "\n",
        "#add output layer\n",
        "model_chorus.add(SimpleRNN(units=128, input_shape=(X.shape[1], X.shape[2]), activation=\"relu\"))\n",
        "model_chorus.add(Dense(y.shape[1]))\n",
        "model_chorus.add(Dropout(0.2, input_shape=(X.shape[1], X.shape[2])))\n",
        "model_chorus.add(Flatten())\n",
        "model_chorus.add(Dense(y.shape[1]))\n",
        "model_chorus.add(Activation('softmax'))\n",
        "model_chorus.compile(loss = 'categorical_crossentropy', optimizer = 'adam')"
      ],
      "metadata": {
        "id": "lo0FH-ZXjZai"
      },
      "execution_count": 72,
      "outputs": []
    },
    {
      "cell_type": "code",
      "source": [
        "model_chorus.summary()"
      ],
      "metadata": {
        "colab": {
          "base_uri": "https://localhost:8080/"
        },
        "outputId": "5e5d1d46-d87b-44dd-9e76-c189a3db485c",
        "id": "NnFDG7KWjZai"
      },
      "execution_count": 73,
      "outputs": [
        {
          "output_type": "stream",
          "name": "stdout",
          "text": [
            "Model: \"sequential_1\"\n",
            "_________________________________________________________________\n",
            " Layer (type)                Output Shape              Param #   \n",
            "=================================================================\n",
            " simple_rnn_1 (SimpleRNN)    (None, 128)               16640     \n",
            "                                                                 \n",
            " dense_2 (Dense)             (None, 27)                3483      \n",
            "                                                                 \n",
            " dropout_1 (Dropout)         (None, 27)                0         \n",
            "                                                                 \n",
            " flatten_1 (Flatten)         (None, 27)                0         \n",
            "                                                                 \n",
            " dense_3 (Dense)             (None, 27)                756       \n",
            "                                                                 \n",
            " activation_1 (Activation)   (None, 27)                0         \n",
            "                                                                 \n",
            "=================================================================\n",
            "Total params: 20,879\n",
            "Trainable params: 20,879\n",
            "Non-trainable params: 0\n",
            "_________________________________________________________________\n"
          ]
        }
      ]
    },
    {
      "cell_type": "code",
      "source": [
        "# Fit the model :\n",
        "model_params = {'epochs':20,\n",
        "                'batch_size':32,\n",
        "                #'callbacks':callbacks_list,\n",
        "                'verbose':1,\n",
        "                'validation_split':0.2,\n",
        "                'validation_data':None,\n",
        "                'shuffle': True,\n",
        "                'initial_epoch':0,\n",
        "                'steps_per_epoch':None,\n",
        "                'validation_steps':None}\n",
        "\n",
        "model_chorus.fit(X,\n",
        "          y,\n",
        "          epochs = model_params['epochs'],\n",
        "           batch_size = model_params['batch_size'],\n",
        "           #callbacks= model_params['callbacks'],\n",
        "           verbose = model_params['verbose'],\n",
        "           validation_split = model_params['validation_split'],\n",
        "           validation_data = model_params['validation_data'],\n",
        "           shuffle = model_params['shuffle'],\n",
        "           initial_epoch = model_params['initial_epoch'],\n",
        "           steps_per_epoch = model_params['steps_per_epoch'],\n",
        "           validation_steps = model_params['validation_steps'])"
      ],
      "metadata": {
        "colab": {
          "base_uri": "https://localhost:8080/"
        },
        "outputId": "40688bfc-b113-46ea-dda1-5567b24871d3",
        "id": "UeNtlkWUjZai"
      },
      "execution_count": 74,
      "outputs": [
        {
          "output_type": "stream",
          "name": "stdout",
          "text": [
            "Epoch 1/20\n",
            "652/652 [==============================] - 26s 38ms/step - loss: 2.7692 - val_loss: 2.6756\n",
            "Epoch 2/20\n",
            "652/652 [==============================] - 25s 39ms/step - loss: 2.5562 - val_loss: 2.6030\n",
            "Epoch 3/20\n",
            "652/652 [==============================] - 21s 32ms/step - loss: 2.4315 - val_loss: 2.5747\n",
            "Epoch 4/20\n",
            "652/652 [==============================] - 21s 32ms/step - loss: 2.3438 - val_loss: 2.5665\n",
            "Epoch 5/20\n",
            "652/652 [==============================] - 20s 31ms/step - loss: 2.2565 - val_loss: 2.5157\n",
            "Epoch 6/20\n",
            "652/652 [==============================] - 21s 32ms/step - loss: 2.1882 - val_loss: 2.5100\n",
            "Epoch 7/20\n",
            "652/652 [==============================] - 22s 33ms/step - loss: 2.1154 - val_loss: 2.5563\n",
            "Epoch 8/20\n",
            "652/652 [==============================] - 26s 40ms/step - loss: 2.0528 - val_loss: 2.4941\n",
            "Epoch 9/20\n",
            "652/652 [==============================] - 21s 33ms/step - loss: 1.9914 - val_loss: 2.5202\n",
            "Epoch 10/20\n",
            "652/652 [==============================] - 21s 32ms/step - loss: 1.9409 - val_loss: 2.5537\n",
            "Epoch 11/20\n",
            "652/652 [==============================] - 21s 32ms/step - loss: 1.8946 - val_loss: 2.5330\n",
            "Epoch 12/20\n",
            "652/652 [==============================] - 21s 32ms/step - loss: 1.8349 - val_loss: 2.5582\n",
            "Epoch 13/20\n",
            "652/652 [==============================] - 21s 32ms/step - loss: 1.8019 - val_loss: 2.5652\n",
            "Epoch 14/20\n",
            "652/652 [==============================] - 21s 32ms/step - loss: 1.7661 - val_loss: 2.5159\n",
            "Epoch 15/20\n",
            "652/652 [==============================] - 21s 32ms/step - loss: 1.7297 - val_loss: 2.5887\n",
            "Epoch 16/20\n",
            "652/652 [==============================] - 21s 32ms/step - loss: 1.7018 - val_loss: 2.5056\n",
            "Epoch 17/20\n",
            "652/652 [==============================] - 21s 32ms/step - loss: 1.6761 - val_loss: 2.5933\n",
            "Epoch 18/20\n",
            "652/652 [==============================] - 21s 33ms/step - loss: 1.6364 - val_loss: 2.5588\n",
            "Epoch 19/20\n",
            "652/652 [==============================] - 21s 32ms/step - loss: 1.6216 - val_loss: 2.6007\n",
            "Epoch 20/20\n",
            "652/652 [==============================] - 21s 33ms/step - loss: 1.6024 - val_loss: 2.5886\n"
          ]
        },
        {
          "output_type": "execute_result",
          "data": {
            "text/plain": [
              "<keras.callbacks.History at 0x7f8aa68bfa90>"
            ]
          },
          "metadata": {},
          "execution_count": 74
        }
      ]
    },
    {
      "cell_type": "code",
      "source": [
        "chorus_1 = Lyrics_Generator(\"the singaporean dream\", 100)\n",
        "#Let's have a look at the verse\n",
        "chorus_1"
      ],
      "metadata": {
        "colab": {
          "base_uri": "https://localhost:8080/",
          "height": 36
        },
        "id": "yXiuas9HuPwV",
        "outputId": "537967cc-b321-4b82-ce1b-6ad05bb70dca"
      },
      "execution_count": 79,
      "outputs": [
        {
          "output_type": "execute_result",
          "data": {
            "text/plain": [
              "'the singaporean dreame te the se can tou tee tor ther we can to hane the tene the sene the ther whar we can to tee se te '"
            ],
            "application/vnd.google.colaboratory.intrinsic+json": {
              "type": "string"
            }
          },
          "metadata": {},
          "execution_count": 79
        }
      ]
    }
  ]
}