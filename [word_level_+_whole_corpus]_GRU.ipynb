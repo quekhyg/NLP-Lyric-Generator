{
  "nbformat": 4,
  "nbformat_minor": 0,
  "metadata": {
    "colab": {
      "name": "[word level + whole corpus] GRU.ipynb",
      "provenance": [],
      "collapsed_sections": [],
      "include_colab_link": true
    },
    "kernelspec": {
      "name": "python3",
      "display_name": "Python 3"
    },
    "language_info": {
      "name": "python"
    }
  },
  "cells": [
    {
      "cell_type": "markdown",
      "metadata": {
        "id": "view-in-github",
        "colab_type": "text"
      },
      "source": [
        "<a href=\"https://colab.research.google.com/github/quekhyg/NLP-Lyric-Generator/blob/main/%5Bword_level_%2B_whole_corpus%5D_GRU.ipynb\" target=\"_parent\"><img src=\"https://colab.research.google.com/assets/colab-badge.svg\" alt=\"Open In Colab\"/></a>"
      ]
    },
    {
      "cell_type": "code",
      "execution_count": 2,
      "metadata": {
        "id": "wgFfi9cLM0a2",
        "colab": {
          "base_uri": "https://localhost:8080/"
        },
        "outputId": "3c81b467-71de-4c21-cf17-725bed0e3d42"
      },
      "outputs": [
        {
          "output_type": "stream",
          "name": "stdout",
          "text": [
            "Mounted at /content/drive\n",
            "/content/drive/.shortcut-targets-by-id/1MmY0pN1b5xL_C2CijM9ImcFM-UFt4bwr/NLP project\n"
          ]
        }
      ],
      "source": [
        "from google.colab import drive\n",
        "drive.mount('/content/drive')\n",
        "%cd /content/drive/MyDrive/Colab Notebooks/SMU_MITB_NLP/NLP project/"
      ]
    },
    {
      "cell_type": "code",
      "source": [
        "#import packages\n",
        "import pandas as pd\n",
        "import numpy as np\n",
        "import os\n",
        "import sys \n",
        "from keras.models import Sequential\n",
        "from keras.layers import Activation, Flatten, Dropout, Dense, Embedding, TimeDistributed, GRU\n",
        "from keras.callbacks import ModelCheckpoint\n",
        "from keras.utils import np_utils"
      ],
      "metadata": {
        "id": "EhWNN_xcPCKQ"
      },
      "execution_count": 1,
      "outputs": []
    },
    {
      "cell_type": "markdown",
      "source": [
        "Data Preprocessing"
      ],
      "metadata": {
        "id": "Kd3vKrZvbYrC"
      }
    },
    {
      "cell_type": "code",
      "source": [
        "path = \"./songs_edit_revised/\"\n",
        "corpus = ''\n",
        "\n",
        "all_files = os.listdir(path)\n",
        "for file in all_files:\n",
        "  with open(os.path.join(path, file)) as f:\n",
        "    text = f.read()\n",
        "    corpus+= '\\n\\n'+ text"
      ],
      "metadata": {
        "id": "4APv66HUPQTK"
      },
      "execution_count": 3,
      "outputs": []
    },
    {
      "cell_type": "code",
      "source": [
        "components = corpus.split('\\n\\n')"
      ],
      "metadata": {
        "id": "HB-1Ie88sMSF"
      },
      "execution_count": 4,
      "outputs": []
    },
    {
      "cell_type": "code",
      "source": [
        "print(len(components))"
      ],
      "metadata": {
        "colab": {
          "base_uri": "https://localhost:8080/"
        },
        "id": "PBSAP7OLsRDK",
        "outputId": "4220cee3-260c-408e-b783-7b824ca50da3"
      },
      "execution_count": 5,
      "outputs": [
        {
          "output_type": "stream",
          "name": "stdout",
          "text": [
            "288\n"
          ]
        }
      ]
    },
    {
      "cell_type": "code",
      "source": [
        "corpus_list = [string.split('\\n') for string in components]\n",
        "#corpus_list[:10]\n",
        "for song in corpus_list:\n",
        "  song.pop(0)"
      ],
      "metadata": {
        "id": "Im4ruOD77Dx5"
      },
      "execution_count": 6,
      "outputs": []
    },
    {
      "cell_type": "code",
      "source": [
        "corpus_list[:10]"
      ],
      "metadata": {
        "colab": {
          "base_uri": "https://localhost:8080/"
        },
        "id": "bwz7dYKX7W9w",
        "outputId": "b5b5c2fe-6f78-475a-f31f-135a2b9eba29"
      },
      "execution_count": 7,
      "outputs": [
        {
          "output_type": "execute_result",
          "data": {
            "text/plain": [
              "[[],\n",
              " ['Will you make this island',\n",
              "  'Amazing in all ways',\n",
              "  'Surprises every corner',\n",
              "  'Delightful nights and days',\n",
              "  'Will you take this country',\n",
              "  'And turn it from a place',\n",
              "  'To a home that greets you',\n",
              "  'With smiles on every face',\n",
              "  'Will you come on this brave journey',\n",
              "  'Will you help to make it real',\n",
              "  'Will you write us grand new stories',\n",
              "  'Songs that everyone will feel'],\n",
              " ['So will you swim the current',\n",
              "  'Will you scale new heights',\n",
              "  'Will you make it happen',\n",
              "  'Will you let your dreams take flight',\n",
              "  'And will you make the difference',\n",
              "  'Will you seize the day',\n",
              "  'Will you live each moment',\n",
              "  'Will you dare to find new ways'],\n",
              " ['Will you take this city',\n",
              "  'And turn it from a place',\n",
              "  'To a home that greets you',\n",
              "  'With smiles on every face',\n",
              "  'Will you come on this brave journey',\n",
              "  'Will you help to make it real',\n",
              "  'Will you write us grand new stories',\n",
              "  'Songs that everyone will feel'],\n",
              " ['So will you swim the current',\n",
              "  'Will you scale new heights',\n",
              "  'Will you make it happen',\n",
              "  'Will you let your dreams take flight',\n",
              "  'And will you make the difference',\n",
              "  'Will you seize the day',\n",
              "  'Will you live each moment',\n",
              "  'Will you dare to find new ways'],\n",
              " ['Dare to find', 'Dare to find', 'Dare to find', 'New ways'],\n",
              " ['Wake up, she said',\n",
              "  'Look it’s a beautiful day',\n",
              "  'Downstairs to the kitchen door',\n",
              "  'And then away',\n",
              "  'Into the light',\n",
              "  'Morning feeling lives on',\n",
              "  'Come the clouds, the moon',\n",
              "  'And morning is gone'],\n",
              " ['Born today some years ago',\n",
              "  'And had a happy childhood',\n",
              "  'But I fell in love and out',\n",
              "  'Nothing changed',\n",
              "  'Lived a life of nothing much',\n",
              "  'But then how much can one expect?',\n",
              "  'So there you are',\n",
              "  'My life has gone',\n",
              "  'But I’m the same'],\n",
              " ['Just my life story',\n",
              "  'Minute by second a story',\n",
              "  'That goes on forever with each breath that I take',\n",
              "  'This is my life story',\n",
              "  'Uneventfullest story',\n",
              "  'That ages with each year and birthday cake'],\n",
              " ['Get up, he said',\n",
              "  'Hurry or you might be late',\n",
              "  'Everyday you hurry off to keep your days',\n",
              "  'Learn something new',\n",
              "  'What are you hoping to prove?',\n",
              "  'Make some money',\n",
              "  'Find a wife',\n",
              "  'Have a kid or two']]"
            ]
          },
          "metadata": {},
          "execution_count": 7
        }
      ]
    },
    {
      "cell_type": "code",
      "source": [
        "df = pd.DataFrame({'song': corpus_list})\n",
        "\n",
        "df['song'] = df['song'].str.join(', ')\n",
        "pd.options.display.max_colwidth = 500\n",
        "df=df.iloc[1:] \n",
        "df.head()"
      ],
      "metadata": {
        "colab": {
          "base_uri": "https://localhost:8080/",
          "height": 268
        },
        "id": "aRmxBE4472Xe",
        "outputId": "e3323a37-81c8-413c-983a-c289261869cd"
      },
      "execution_count": 8,
      "outputs": [
        {
          "output_type": "execute_result",
          "data": {
            "text/plain": [
              "                                                                                                                                                                                                                                                                                                                                                     song\n",
              "1  Will you make this island, Amazing in all ways, Surprises every corner, Delightful nights and days, Will you take this country, And turn it from a place, To a home that greets you, With smiles on every face, Will you come on this brave journey, Will you help to make it real, Will you write us grand new stories, Songs that everyone will feel\n",
              "2                                                                                                            So will you swim the current, Will you scale new heights, Will you make it happen, Will you let your dreams take flight, And will you make the difference, Will you seize the day, Will you live each moment, Will you dare to find new ways\n",
              "3                                                                                                         Will you take this city, And turn it from a place, To a home that greets you, With smiles on every face, Will you come on this brave journey, Will you help to make it real, Will you write us grand new stories, Songs that everyone will feel\n",
              "4                                                                                                            So will you swim the current, Will you scale new heights, Will you make it happen, Will you let your dreams take flight, And will you make the difference, Will you seize the day, Will you live each moment, Will you dare to find new ways\n",
              "5                                                                                                                                                                                                                                                                                                      Dare to find, Dare to find, Dare to find, New ways"
            ],
            "text/html": [
              "\n",
              "  <div id=\"df-d781523a-b816-4510-aa9a-94c604c9a58b\">\n",
              "    <div class=\"colab-df-container\">\n",
              "      <div>\n",
              "<style scoped>\n",
              "    .dataframe tbody tr th:only-of-type {\n",
              "        vertical-align: middle;\n",
              "    }\n",
              "\n",
              "    .dataframe tbody tr th {\n",
              "        vertical-align: top;\n",
              "    }\n",
              "\n",
              "    .dataframe thead th {\n",
              "        text-align: right;\n",
              "    }\n",
              "</style>\n",
              "<table border=\"1\" class=\"dataframe\">\n",
              "  <thead>\n",
              "    <tr style=\"text-align: right;\">\n",
              "      <th></th>\n",
              "      <th>song</th>\n",
              "    </tr>\n",
              "  </thead>\n",
              "  <tbody>\n",
              "    <tr>\n",
              "      <th>1</th>\n",
              "      <td>Will you make this island, Amazing in all ways, Surprises every corner, Delightful nights and days, Will you take this country, And turn it from a place, To a home that greets you, With smiles on every face, Will you come on this brave journey, Will you help to make it real, Will you write us grand new stories, Songs that everyone will feel</td>\n",
              "    </tr>\n",
              "    <tr>\n",
              "      <th>2</th>\n",
              "      <td>So will you swim the current, Will you scale new heights, Will you make it happen, Will you let your dreams take flight, And will you make the difference, Will you seize the day, Will you live each moment, Will you dare to find new ways</td>\n",
              "    </tr>\n",
              "    <tr>\n",
              "      <th>3</th>\n",
              "      <td>Will you take this city, And turn it from a place, To a home that greets you, With smiles on every face, Will you come on this brave journey, Will you help to make it real, Will you write us grand new stories, Songs that everyone will feel</td>\n",
              "    </tr>\n",
              "    <tr>\n",
              "      <th>4</th>\n",
              "      <td>So will you swim the current, Will you scale new heights, Will you make it happen, Will you let your dreams take flight, And will you make the difference, Will you seize the day, Will you live each moment, Will you dare to find new ways</td>\n",
              "    </tr>\n",
              "    <tr>\n",
              "      <th>5</th>\n",
              "      <td>Dare to find, Dare to find, Dare to find, New ways</td>\n",
              "    </tr>\n",
              "  </tbody>\n",
              "</table>\n",
              "</div>\n",
              "      <button class=\"colab-df-convert\" onclick=\"convertToInteractive('df-d781523a-b816-4510-aa9a-94c604c9a58b')\"\n",
              "              title=\"Convert this dataframe to an interactive table.\"\n",
              "              style=\"display:none;\">\n",
              "        \n",
              "  <svg xmlns=\"http://www.w3.org/2000/svg\" height=\"24px\"viewBox=\"0 0 24 24\"\n",
              "       width=\"24px\">\n",
              "    <path d=\"M0 0h24v24H0V0z\" fill=\"none\"/>\n",
              "    <path d=\"M18.56 5.44l.94 2.06.94-2.06 2.06-.94-2.06-.94-.94-2.06-.94 2.06-2.06.94zm-11 1L8.5 8.5l.94-2.06 2.06-.94-2.06-.94L8.5 2.5l-.94 2.06-2.06.94zm10 10l.94 2.06.94-2.06 2.06-.94-2.06-.94-.94-2.06-.94 2.06-2.06.94z\"/><path d=\"M17.41 7.96l-1.37-1.37c-.4-.4-.92-.59-1.43-.59-.52 0-1.04.2-1.43.59L10.3 9.45l-7.72 7.72c-.78.78-.78 2.05 0 2.83L4 21.41c.39.39.9.59 1.41.59.51 0 1.02-.2 1.41-.59l7.78-7.78 2.81-2.81c.8-.78.8-2.07 0-2.86zM5.41 20L4 18.59l7.72-7.72 1.47 1.35L5.41 20z\"/>\n",
              "  </svg>\n",
              "      </button>\n",
              "      \n",
              "  <style>\n",
              "    .colab-df-container {\n",
              "      display:flex;\n",
              "      flex-wrap:wrap;\n",
              "      gap: 12px;\n",
              "    }\n",
              "\n",
              "    .colab-df-convert {\n",
              "      background-color: #E8F0FE;\n",
              "      border: none;\n",
              "      border-radius: 50%;\n",
              "      cursor: pointer;\n",
              "      display: none;\n",
              "      fill: #1967D2;\n",
              "      height: 32px;\n",
              "      padding: 0 0 0 0;\n",
              "      width: 32px;\n",
              "    }\n",
              "\n",
              "    .colab-df-convert:hover {\n",
              "      background-color: #E2EBFA;\n",
              "      box-shadow: 0px 1px 2px rgba(60, 64, 67, 0.3), 0px 1px 3px 1px rgba(60, 64, 67, 0.15);\n",
              "      fill: #174EA6;\n",
              "    }\n",
              "\n",
              "    [theme=dark] .colab-df-convert {\n",
              "      background-color: #3B4455;\n",
              "      fill: #D2E3FC;\n",
              "    }\n",
              "\n",
              "    [theme=dark] .colab-df-convert:hover {\n",
              "      background-color: #434B5C;\n",
              "      box-shadow: 0px 1px 3px 1px rgba(0, 0, 0, 0.15);\n",
              "      filter: drop-shadow(0px 1px 2px rgba(0, 0, 0, 0.3));\n",
              "      fill: #FFFFFF;\n",
              "    }\n",
              "  </style>\n",
              "\n",
              "      <script>\n",
              "        const buttonEl =\n",
              "          document.querySelector('#df-d781523a-b816-4510-aa9a-94c604c9a58b button.colab-df-convert');\n",
              "        buttonEl.style.display =\n",
              "          google.colab.kernel.accessAllowed ? 'block' : 'none';\n",
              "\n",
              "        async function convertToInteractive(key) {\n",
              "          const element = document.querySelector('#df-d781523a-b816-4510-aa9a-94c604c9a58b');\n",
              "          const dataTable =\n",
              "            await google.colab.kernel.invokeFunction('convertToInteractive',\n",
              "                                                     [key], {});\n",
              "          if (!dataTable) return;\n",
              "\n",
              "          const docLinkHtml = 'Like what you see? Visit the ' +\n",
              "            '<a target=\"_blank\" href=https://colab.research.google.com/notebooks/data_table.ipynb>data table notebook</a>'\n",
              "            + ' to learn more about interactive tables.';\n",
              "          element.innerHTML = '';\n",
              "          dataTable['output_type'] = 'display_data';\n",
              "          await google.colab.output.renderOutput(dataTable, element);\n",
              "          const docLink = document.createElement('div');\n",
              "          docLink.innerHTML = docLinkHtml;\n",
              "          element.appendChild(docLink);\n",
              "        }\n",
              "      </script>\n",
              "    </div>\n",
              "  </div>\n",
              "  "
            ]
          },
          "metadata": {},
          "execution_count": 8
        }
      ]
    },
    {
      "cell_type": "markdown",
      "source": [
        "Generating lyrics for VERSE"
      ],
      "metadata": {
        "id": "a7glFx4Lh63h"
      }
    },
    {
      "cell_type": "code",
      "source": [
        "#To run this cell if utilities.py is not in the same folder - this will upload utilities.py\n",
        "# from google.colab import files\n",
        "# src = list(files.upload().values())[0]\n",
        "# open('utilities.py','wb').write(src)\n",
        "# import utilities as U"
      ],
      "metadata": {
        "id": "QOqvOtUsR3My"
      },
      "execution_count": 20,
      "outputs": []
    },
    {
      "cell_type": "code",
      "source": [
        "import utilities as U"
      ],
      "metadata": {
        "id": "e457DkWf5I0W"
      },
      "execution_count": 11,
      "outputs": []
    },
    {
      "cell_type": "code",
      "source": [
        "\"\"\"\n",
        "Remove punctuations, decontractions, emojis and URLs\n",
        "\"\"\"\n",
        "\n",
        "df['song'] = df.apply(lambda row : U.remove_punct(row['song']), axis=1)\n",
        "df['song'] = df.apply(lambda row : U.remove_url(row['song']), axis=1)\n",
        "df['song'] = df.apply(lambda row : U.remove_emoji(row['song']), axis=1)\n",
        "df['song'] = df.apply(lambda row : U.decontraction(row['song']), axis=1)\n",
        "df['song']=  df.apply(lambda row : row['song'].lower(), axis=1)\n",
        "df.head()"
      ],
      "metadata": {
        "colab": {
          "base_uri": "https://localhost:8080/",
          "height": 268
        },
        "id": "7yIThjqZmXlF",
        "outputId": "e4b20d11-8c6a-4009-bdae-3575e54153f7"
      },
      "execution_count": 12,
      "outputs": [
        {
          "output_type": "execute_result",
          "data": {
            "text/plain": [
              "                                                                                                                                                                                                                                                                                                                                          song\n",
              "1  will you make this island amazing in all ways surprises every corner delightful nights and days will you take this country and turn it from a place to a home that greets you with smiles on every face will you come on this brave journey will you help to make it real will you write us grand new stories songs that everyone will feel\n",
              "2                                                                                                        so will you swim the current will you scale new heights will you make it happen will you let your dreams take flight and will you make the difference will you seize the day will you live each moment will you dare to find new ways\n",
              "3                                                                                                     will you take this city and turn it from a place to a home that greets you with smiles on every face will you come on this brave journey will you help to make it real will you write us grand new stories songs that everyone will feel\n",
              "4                                                                                                        so will you swim the current will you scale new heights will you make it happen will you let your dreams take flight and will you make the difference will you seize the day will you live each moment will you dare to find new ways\n",
              "5                                                                                                                                                                                                                                                                                              dare to find dare to find dare to find new ways"
            ],
            "text/html": [
              "\n",
              "  <div id=\"df-fba67403-d8af-4dba-8153-3b2191ba65cf\">\n",
              "    <div class=\"colab-df-container\">\n",
              "      <div>\n",
              "<style scoped>\n",
              "    .dataframe tbody tr th:only-of-type {\n",
              "        vertical-align: middle;\n",
              "    }\n",
              "\n",
              "    .dataframe tbody tr th {\n",
              "        vertical-align: top;\n",
              "    }\n",
              "\n",
              "    .dataframe thead th {\n",
              "        text-align: right;\n",
              "    }\n",
              "</style>\n",
              "<table border=\"1\" class=\"dataframe\">\n",
              "  <thead>\n",
              "    <tr style=\"text-align: right;\">\n",
              "      <th></th>\n",
              "      <th>song</th>\n",
              "    </tr>\n",
              "  </thead>\n",
              "  <tbody>\n",
              "    <tr>\n",
              "      <th>1</th>\n",
              "      <td>will you make this island amazing in all ways surprises every corner delightful nights and days will you take this country and turn it from a place to a home that greets you with smiles on every face will you come on this brave journey will you help to make it real will you write us grand new stories songs that everyone will feel</td>\n",
              "    </tr>\n",
              "    <tr>\n",
              "      <th>2</th>\n",
              "      <td>so will you swim the current will you scale new heights will you make it happen will you let your dreams take flight and will you make the difference will you seize the day will you live each moment will you dare to find new ways</td>\n",
              "    </tr>\n",
              "    <tr>\n",
              "      <th>3</th>\n",
              "      <td>will you take this city and turn it from a place to a home that greets you with smiles on every face will you come on this brave journey will you help to make it real will you write us grand new stories songs that everyone will feel</td>\n",
              "    </tr>\n",
              "    <tr>\n",
              "      <th>4</th>\n",
              "      <td>so will you swim the current will you scale new heights will you make it happen will you let your dreams take flight and will you make the difference will you seize the day will you live each moment will you dare to find new ways</td>\n",
              "    </tr>\n",
              "    <tr>\n",
              "      <th>5</th>\n",
              "      <td>dare to find dare to find dare to find new ways</td>\n",
              "    </tr>\n",
              "  </tbody>\n",
              "</table>\n",
              "</div>\n",
              "      <button class=\"colab-df-convert\" onclick=\"convertToInteractive('df-fba67403-d8af-4dba-8153-3b2191ba65cf')\"\n",
              "              title=\"Convert this dataframe to an interactive table.\"\n",
              "              style=\"display:none;\">\n",
              "        \n",
              "  <svg xmlns=\"http://www.w3.org/2000/svg\" height=\"24px\"viewBox=\"0 0 24 24\"\n",
              "       width=\"24px\">\n",
              "    <path d=\"M0 0h24v24H0V0z\" fill=\"none\"/>\n",
              "    <path d=\"M18.56 5.44l.94 2.06.94-2.06 2.06-.94-2.06-.94-.94-2.06-.94 2.06-2.06.94zm-11 1L8.5 8.5l.94-2.06 2.06-.94-2.06-.94L8.5 2.5l-.94 2.06-2.06.94zm10 10l.94 2.06.94-2.06 2.06-.94-2.06-.94-.94-2.06-.94 2.06-2.06.94z\"/><path d=\"M17.41 7.96l-1.37-1.37c-.4-.4-.92-.59-1.43-.59-.52 0-1.04.2-1.43.59L10.3 9.45l-7.72 7.72c-.78.78-.78 2.05 0 2.83L4 21.41c.39.39.9.59 1.41.59.51 0 1.02-.2 1.41-.59l7.78-7.78 2.81-2.81c.8-.78.8-2.07 0-2.86zM5.41 20L4 18.59l7.72-7.72 1.47 1.35L5.41 20z\"/>\n",
              "  </svg>\n",
              "      </button>\n",
              "      \n",
              "  <style>\n",
              "    .colab-df-container {\n",
              "      display:flex;\n",
              "      flex-wrap:wrap;\n",
              "      gap: 12px;\n",
              "    }\n",
              "\n",
              "    .colab-df-convert {\n",
              "      background-color: #E8F0FE;\n",
              "      border: none;\n",
              "      border-radius: 50%;\n",
              "      cursor: pointer;\n",
              "      display: none;\n",
              "      fill: #1967D2;\n",
              "      height: 32px;\n",
              "      padding: 0 0 0 0;\n",
              "      width: 32px;\n",
              "    }\n",
              "\n",
              "    .colab-df-convert:hover {\n",
              "      background-color: #E2EBFA;\n",
              "      box-shadow: 0px 1px 2px rgba(60, 64, 67, 0.3), 0px 1px 3px 1px rgba(60, 64, 67, 0.15);\n",
              "      fill: #174EA6;\n",
              "    }\n",
              "\n",
              "    [theme=dark] .colab-df-convert {\n",
              "      background-color: #3B4455;\n",
              "      fill: #D2E3FC;\n",
              "    }\n",
              "\n",
              "    [theme=dark] .colab-df-convert:hover {\n",
              "      background-color: #434B5C;\n",
              "      box-shadow: 0px 1px 3px 1px rgba(0, 0, 0, 0.15);\n",
              "      filter: drop-shadow(0px 1px 2px rgba(0, 0, 0, 0.3));\n",
              "      fill: #FFFFFF;\n",
              "    }\n",
              "  </style>\n",
              "\n",
              "      <script>\n",
              "        const buttonEl =\n",
              "          document.querySelector('#df-fba67403-d8af-4dba-8153-3b2191ba65cf button.colab-df-convert');\n",
              "        buttonEl.style.display =\n",
              "          google.colab.kernel.accessAllowed ? 'block' : 'none';\n",
              "\n",
              "        async function convertToInteractive(key) {\n",
              "          const element = document.querySelector('#df-fba67403-d8af-4dba-8153-3b2191ba65cf');\n",
              "          const dataTable =\n",
              "            await google.colab.kernel.invokeFunction('convertToInteractive',\n",
              "                                                     [key], {});\n",
              "          if (!dataTable) return;\n",
              "\n",
              "          const docLinkHtml = 'Like what you see? Visit the ' +\n",
              "            '<a target=\"_blank\" href=https://colab.research.google.com/notebooks/data_table.ipynb>data table notebook</a>'\n",
              "            + ' to learn more about interactive tables.';\n",
              "          element.innerHTML = '';\n",
              "          dataTable['output_type'] = 'display_data';\n",
              "          await google.colab.output.renderOutput(dataTable, element);\n",
              "          const docLink = document.createElement('div');\n",
              "          docLink.innerHTML = docLinkHtml;\n",
              "          element.appendChild(docLink);\n",
              "        }\n",
              "      </script>\n",
              "    </div>\n",
              "  </div>\n",
              "  "
            ]
          },
          "metadata": {},
          "execution_count": 12
        }
      ]
    },
    {
      "cell_type": "code",
      "source": [
        "songs = df['song'].tolist()"
      ],
      "metadata": {
        "id": "033ltAmo25ky"
      },
      "execution_count": 13,
      "outputs": []
    },
    {
      "cell_type": "code",
      "source": [
        "songs[:10]"
      ],
      "metadata": {
        "colab": {
          "base_uri": "https://localhost:8080/"
        },
        "id": "K3c3lQScEH4k",
        "outputId": "8804970d-1cbf-4e33-e20a-640bb921b8fe"
      },
      "execution_count": 14,
      "outputs": [
        {
          "output_type": "execute_result",
          "data": {
            "text/plain": [
              "['will you make this island amazing in all ways surprises every corner delightful nights and days will you take this country and turn it from a place to a home that greets you with smiles on every face will you come on this brave journey will you help to make it real will you write us grand new stories songs that everyone will feel',\n",
              " 'so will you swim the current will you scale new heights will you make it happen will you let your dreams take flight and will you make the difference will you seize the day will you live each moment will you dare to find new ways',\n",
              " 'will you take this city and turn it from a place to a home that greets you with smiles on every face will you come on this brave journey will you help to make it real will you write us grand new stories songs that everyone will feel',\n",
              " 'so will you swim the current will you scale new heights will you make it happen will you let your dreams take flight and will you make the difference will you seize the day will you live each moment will you dare to find new ways',\n",
              " 'dare to find dare to find dare to find new ways',\n",
              " 'wake up she said look its a beautiful day downstairs to the kitchen door and then away into the light morning feeling lives on come the clouds the moon and morning is gone',\n",
              " 'born today some years ago and had a happy childhood but i fell in love and out nothing changed lived a life of nothing much but then how much can one expect so there you are my life has gone but im the same',\n",
              " 'just my life story minute by second a story that goes on forever with each breath that i take this is my life story uneventfullest story that ages with each year and birthday cake',\n",
              " 'get up he said hurry or you might be late everyday you hurry off to keep your days learn something new what are you hoping to prove make some money find a wife have a kid or two',\n",
              " 'thinking back i like to dream of things i would have done if i were braver then again im not whats there to do maybe if i had another chance id go into my past and make my life a better one for me and you']"
            ]
          },
          "metadata": {},
          "execution_count": 14
        }
      ]
    },
    {
      "cell_type": "code",
      "source": [
        "# Save verses in .txt file\n",
        "with open('songs.txt', 'w',encoding=\"utf-8\") as filehandle:  \n",
        "    for listitem in songs:\n",
        "        filehandle.write('%s\\n' % listitem)"
      ],
      "metadata": {
        "id": "ZXavEGDzoN85"
      },
      "execution_count": 15,
      "outputs": []
    },
    {
      "cell_type": "code",
      "source": [
        "textFileName = 'songs.txt'\n",
        "raw_text = open(textFileName, encoding = 'UTF-8').read()"
      ],
      "metadata": {
        "id": "2-R5ytF93GXO"
      },
      "execution_count": 16,
      "outputs": []
    },
    {
      "cell_type": "markdown",
      "source": [
        "Word-Level Lyrics Generation"
      ],
      "metadata": {
        "id": "Tg0mzhJRPAWU"
      }
    },
    {
      "cell_type": "code",
      "source": [
        "\"\"\"\n",
        "Generate song.\n",
        "Reference: https://predictivehacks.com/word-based-text-generation/\n",
        "\"\"\"\n",
        "from keras.preprocessing.text import Tokenizer\n",
        "from keras.preprocessing.sequence import pad_sequences\n",
        "from keras import regularizers\n",
        "import keras.utils as ku \n",
        "\n",
        "tokenizer = Tokenizer()\n",
        "\n",
        "corpus = raw_text.lower().split(\"\\n\")\n",
        "tokenizer.fit_on_texts(corpus)\n",
        "total_words = len(tokenizer.word_index) + 1\n",
        " \n",
        "# create input sequences using list of tokens\n",
        "input_sequences = []\n",
        "for line in corpus:\n",
        "    token_list = tokenizer.texts_to_sequences([line])[0]\n",
        "    for i in range(1, len(token_list)):\n",
        "        n_gram_sequence = token_list[:i+1]\n",
        "        input_sequences.append(n_gram_sequence)\n",
        " \n",
        " \n",
        "# pad sequences \n",
        "max_sequence_len = max([len(x) for x in input_sequences])\n",
        "input_sequences = np.array(pad_sequences(input_sequences, maxlen=max_sequence_len, padding='pre'))\n",
        " \n",
        "# create predictors and label\n",
        "predictors, label = input_sequences[:,:-1],input_sequences[:,-1]\n",
        " \n",
        "label = ku.np_utils.to_categorical(label, num_classes=total_words)\n",
        " \n",
        " \n",
        "model = Sequential()\n",
        "model.add(Embedding(total_words, 100, input_length=max_sequence_len-1))\n",
        "model.add(Dropout(0.2))\n",
        "model.add(GRU(128))\n",
        "model.add(Dense(total_words/2, activation='relu', kernel_regularizer=regularizers.l2(0.01)))\n",
        "model.add(Dense(total_words, activation='softmax'))\n",
        "model.compile(loss='categorical_crossentropy', optimizer='adam', metrics=['accuracy'])\n",
        "print(model.summary())"
      ],
      "metadata": {
        "colab": {
          "base_uri": "https://localhost:8080/"
        },
        "id": "zurth2_-PBvJ",
        "outputId": "a25b5b72-9cea-4f2f-b2e2-c6e72a88a578"
      },
      "execution_count": 27,
      "outputs": [
        {
          "output_type": "stream",
          "name": "stdout",
          "text": [
            "Model: \"sequential_2\"\n",
            "_________________________________________________________________\n",
            " Layer (type)                Output Shape              Param #   \n",
            "=================================================================\n",
            " embedding_2 (Embedding)     (None, 97, 100)           107000    \n",
            "                                                                 \n",
            " dropout_2 (Dropout)         (None, 97, 100)           0         \n",
            "                                                                 \n",
            " gru_3 (GRU)                 (None, 128)               88320     \n",
            "                                                                 \n",
            " dense_2 (Dense)             (None, 535)               69015     \n",
            "                                                                 \n",
            " dense_3 (Dense)             (None, 1070)              573520    \n",
            "                                                                 \n",
            "=================================================================\n",
            "Total params: 837,855\n",
            "Trainable params: 837,855\n",
            "Non-trainable params: 0\n",
            "_________________________________________________________________\n",
            "None\n"
          ]
        }
      ]
    },
    {
      "cell_type": "code",
      "source": [
        "'''\n",
        "Neutral input seeds:\n",
        "Whenever I think back \n",
        "And so this I know \n",
        "'''\n",
        "\n",
        "seed_text = \"whenever i think back\"\n",
        "next_words = 100\n",
        "\n",
        "def generateLyrics(seed_text, model):\n",
        "  next_words = 100   \n",
        "  for _ in range(next_words):\n",
        "      token_list = tokenizer.texts_to_sequences([seed_text])[0]\n",
        "      token_list = pad_sequences([token_list], maxlen=max_sequence_len-1, padding='pre')\n",
        "      predicted=np.argmax(model.predict(token_list, verbose=0) ,axis=1)\n",
        "\n",
        "      output_word = \"\"\n",
        "      for word, index in tokenizer.word_index.items():\n",
        "          if index == predicted:\n",
        "              output_word = word\n",
        "              # break\n",
        "      seed_text += \" \" + output_word\n",
        "  return seed_text\n",
        "\n",
        "lyrics_list=[]\n",
        "lyrics = generateLyrics(seed_text, model)\n",
        "lyrics_list.append(lyrics)\n",
        "lyrics_list"
      ],
      "metadata": {
        "colab": {
          "base_uri": "https://localhost:8080/"
        },
        "id": "R3K611MbTCLP",
        "outputId": "6b13d8e6-5efa-4fc4-e62c-62f2ea6b9e0c"
      },
      "execution_count": 18,
      "outputs": [
        {
          "output_type": "execute_result",
          "data": {
            "text/plain": [
              "['whenever i think back shining lamp lights play singaporeans goal unfurled put unity afar unity here oh goal began based sing gonna seems seems religion seems undivided try religion brings soar smile religion take place place weak id spring seems seems religion seems undivided religion brings soar take bright pick shining under blessing jewel ben based ours youve vast vast singaporeans aloud brings soar smile religion take place place weak adore such real harmony lions downs downs hours religion seems religion carry unity take bright stay firm id guess based youre shining story story seems told won won won won won won won won']"
            ]
          },
          "metadata": {},
          "execution_count": 18
        }
      ]
    },
    {
      "cell_type": "code",
      "source": [
        "#Save Results to text file\n",
        "outputdf=pd.DataFrame(lyrics_list)\n",
        "outputdf.to_csv(\"whenever i think back_GRU.txt\", header=False, \n",
        "                index=False, encoding=\"utf-8\")\n",
        "\n",
        "from google.colab import files\n",
        "files.download(\"whenever i think back_GRU.txt\")"
      ],
      "metadata": {
        "colab": {
          "base_uri": "https://localhost:8080/",
          "height": 17
        },
        "id": "jFn_s2RDHJIY",
        "outputId": "eddcfa8b-d039-4849-c2da-54c2bec60f36"
      },
      "execution_count": 19,
      "outputs": [
        {
          "output_type": "display_data",
          "data": {
            "text/plain": [
              "<IPython.core.display.Javascript object>"
            ],
            "application/javascript": [
              "\n",
              "    async function download(id, filename, size) {\n",
              "      if (!google.colab.kernel.accessAllowed) {\n",
              "        return;\n",
              "      }\n",
              "      const div = document.createElement('div');\n",
              "      const label = document.createElement('label');\n",
              "      label.textContent = `Downloading \"${filename}\": `;\n",
              "      div.appendChild(label);\n",
              "      const progress = document.createElement('progress');\n",
              "      progress.max = size;\n",
              "      div.appendChild(progress);\n",
              "      document.body.appendChild(div);\n",
              "\n",
              "      const buffers = [];\n",
              "      let downloaded = 0;\n",
              "\n",
              "      const channel = await google.colab.kernel.comms.open(id);\n",
              "      // Send a message to notify the kernel that we're ready.\n",
              "      channel.send({})\n",
              "\n",
              "      for await (const message of channel.messages) {\n",
              "        // Send a message to notify the kernel that we're ready.\n",
              "        channel.send({})\n",
              "        if (message.buffers) {\n",
              "          for (const buffer of message.buffers) {\n",
              "            buffers.push(buffer);\n",
              "            downloaded += buffer.byteLength;\n",
              "            progress.value = downloaded;\n",
              "          }\n",
              "        }\n",
              "      }\n",
              "      const blob = new Blob(buffers, {type: 'application/binary'});\n",
              "      const a = document.createElement('a');\n",
              "      a.href = window.URL.createObjectURL(blob);\n",
              "      a.download = filename;\n",
              "      div.appendChild(a);\n",
              "      a.click();\n",
              "      div.remove();\n",
              "    }\n",
              "  "
            ]
          },
          "metadata": {}
        },
        {
          "output_type": "display_data",
          "data": {
            "text/plain": [
              "<IPython.core.display.Javascript object>"
            ],
            "application/javascript": [
              "download(\"download_5552b939-a0e8-45a9-a09d-a66737ac1c76\", \"whenever i think back_GRU.txt\", 633)"
            ]
          },
          "metadata": {}
        }
      ]
    },
    {
      "cell_type": "code",
      "source": [
        "seed_text = \"and so this I know\"\n",
        "lyrics_list=[]\n",
        "lyrics = generateLyrics(seed_text, model)\n",
        "lyrics_list.append(lyrics)\n",
        "lyrics_list"
      ],
      "metadata": {
        "colab": {
          "base_uri": "https://localhost:8080/"
        },
        "id": "vl2gVfz4C6iJ",
        "outputId": "ae59adb8-3e0b-48de-fb9e-eb6a318bf991"
      },
      "execution_count": 21,
      "outputs": [
        {
          "output_type": "execute_result",
          "data": {
            "text/plain": [
              "['and so this I know gonna here seems seems religion seems undivided religion brings soar take bright pick shining under blessing jewel ben based ours youve vast vast singaporeans aloud brings soar smile religion take place place weak adore such real harmony lions downs downs hours religion seems religion carry unity take bright stay firm id guess based youre shining story story seems told won won won won won won won won won won won won won won won won won won won won won won won won won won won won won won won won won won won won won won won won won']"
            ]
          },
          "metadata": {},
          "execution_count": 21
        }
      ]
    },
    {
      "cell_type": "code",
      "source": [
        "#Save Results to text file\n",
        "outputdf=pd.DataFrame(lyrics_list)\n",
        "outputdf.to_csv(\"and so this I know_GRU.txt\", header=False, index=False, encoding=\"utf-8\")\n",
        "files.download(\"and so this I know_GRU.txt\")"
      ],
      "metadata": {
        "colab": {
          "base_uri": "https://localhost:8080/",
          "height": 17
        },
        "id": "DAseHPiSJUkW",
        "outputId": "ee37845c-8e28-404e-cfdb-214405c5c675"
      },
      "execution_count": 22,
      "outputs": [
        {
          "output_type": "display_data",
          "data": {
            "text/plain": [
              "<IPython.core.display.Javascript object>"
            ],
            "application/javascript": [
              "\n",
              "    async function download(id, filename, size) {\n",
              "      if (!google.colab.kernel.accessAllowed) {\n",
              "        return;\n",
              "      }\n",
              "      const div = document.createElement('div');\n",
              "      const label = document.createElement('label');\n",
              "      label.textContent = `Downloading \"${filename}\": `;\n",
              "      div.appendChild(label);\n",
              "      const progress = document.createElement('progress');\n",
              "      progress.max = size;\n",
              "      div.appendChild(progress);\n",
              "      document.body.appendChild(div);\n",
              "\n",
              "      const buffers = [];\n",
              "      let downloaded = 0;\n",
              "\n",
              "      const channel = await google.colab.kernel.comms.open(id);\n",
              "      // Send a message to notify the kernel that we're ready.\n",
              "      channel.send({})\n",
              "\n",
              "      for await (const message of channel.messages) {\n",
              "        // Send a message to notify the kernel that we're ready.\n",
              "        channel.send({})\n",
              "        if (message.buffers) {\n",
              "          for (const buffer of message.buffers) {\n",
              "            buffers.push(buffer);\n",
              "            downloaded += buffer.byteLength;\n",
              "            progress.value = downloaded;\n",
              "          }\n",
              "        }\n",
              "      }\n",
              "      const blob = new Blob(buffers, {type: 'application/binary'});\n",
              "      const a = document.createElement('a');\n",
              "      a.href = window.URL.createObjectURL(blob);\n",
              "      a.download = filename;\n",
              "      div.appendChild(a);\n",
              "      a.click();\n",
              "      div.remove();\n",
              "    }\n",
              "  "
            ]
          },
          "metadata": {}
        },
        {
          "output_type": "display_data",
          "data": {
            "text/plain": [
              "<IPython.core.display.Javascript object>"
            ],
            "application/javascript": [
              "download(\"download_d78d64a5-8bd0-4ab2-8b00-65c761f1a3a6\", \"and so this I know_GRU.txt\", 555)"
            ]
          },
          "metadata": {}
        }
      ]
    },
    {
      "cell_type": "code",
      "source": [
        "'''\n",
        "Negative input seeds:\n",
        "I am tired of being what you want me to be \n",
        "Feeling so faithless, lost under the surface \n",
        "'''\n",
        "\n",
        "seed_text = \"i am tired of being what you want me to be\"\n",
        "lyrics_list=[]\n",
        "lyrics = generateLyrics(seed_text, model)\n",
        "lyrics_list.append(lyrics)\n",
        "lyrics_list"
      ],
      "metadata": {
        "colab": {
          "base_uri": "https://localhost:8080/"
        },
        "id": "kze_WrQpE4X1",
        "outputId": "99c5020b-bae6-4c90-bd69-8357a584f2c3"
      },
      "execution_count": 23,
      "outputs": [
        {
          "output_type": "execute_result",
          "data": {
            "text/plain": [
              "['i am tired of being what you want me to be once singaporeans thousand lions town painted religion brings soar smile chains religion take place place undivided know gonna here seems seems seems religion seems undivided religion brings soar take bright pick shining under blessing jewel ben based ours youve vast vast singaporeans aloud brings soar smile religion take place place weak adore such real harmony lions downs downs hours religion seems religion carry unity take bright stay firm id guess based youre shining story story seems told won won won won won won won won won won won won won won won won won won won won won won won']"
            ]
          },
          "metadata": {},
          "execution_count": 23
        }
      ]
    },
    {
      "cell_type": "code",
      "source": [
        "#Save Results to text file\n",
        "outputdf=pd.DataFrame(lyrics_list)\n",
        "outputdf.to_csv(\"i am tired of being what you want me to be_GRU.txt\", header=False, index=False, encoding=\"utf-8\")\n",
        "files.download(\"i am tired of being what you want me to be_GRU.txt\")"
      ],
      "metadata": {
        "colab": {
          "base_uri": "https://localhost:8080/",
          "height": 17
        },
        "id": "oo8jPZNeRRym",
        "outputId": "5af7897f-bc32-42dd-854e-a793ef8033cc"
      },
      "execution_count": 24,
      "outputs": [
        {
          "output_type": "display_data",
          "data": {
            "text/plain": [
              "<IPython.core.display.Javascript object>"
            ],
            "application/javascript": [
              "\n",
              "    async function download(id, filename, size) {\n",
              "      if (!google.colab.kernel.accessAllowed) {\n",
              "        return;\n",
              "      }\n",
              "      const div = document.createElement('div');\n",
              "      const label = document.createElement('label');\n",
              "      label.textContent = `Downloading \"${filename}\": `;\n",
              "      div.appendChild(label);\n",
              "      const progress = document.createElement('progress');\n",
              "      progress.max = size;\n",
              "      div.appendChild(progress);\n",
              "      document.body.appendChild(div);\n",
              "\n",
              "      const buffers = [];\n",
              "      let downloaded = 0;\n",
              "\n",
              "      const channel = await google.colab.kernel.comms.open(id);\n",
              "      // Send a message to notify the kernel that we're ready.\n",
              "      channel.send({})\n",
              "\n",
              "      for await (const message of channel.messages) {\n",
              "        // Send a message to notify the kernel that we're ready.\n",
              "        channel.send({})\n",
              "        if (message.buffers) {\n",
              "          for (const buffer of message.buffers) {\n",
              "            buffers.push(buffer);\n",
              "            downloaded += buffer.byteLength;\n",
              "            progress.value = downloaded;\n",
              "          }\n",
              "        }\n",
              "      }\n",
              "      const blob = new Blob(buffers, {type: 'application/binary'});\n",
              "      const a = document.createElement('a');\n",
              "      a.href = window.URL.createObjectURL(blob);\n",
              "      a.download = filename;\n",
              "      div.appendChild(a);\n",
              "      a.click();\n",
              "      div.remove();\n",
              "    }\n",
              "  "
            ]
          },
          "metadata": {}
        },
        {
          "output_type": "display_data",
          "data": {
            "text/plain": [
              "<IPython.core.display.Javascript object>"
            ],
            "application/javascript": [
              "download(\"download_4e316c91-c036-478f-93be-90c28fb45681\", \"i am tired of being what you want me to be_GRU.txt\", 634)"
            ]
          },
          "metadata": {}
        }
      ]
    },
    {
      "cell_type": "code",
      "source": [
        "seed_text = \"feeling so faithless lost under the surface\"\n",
        "lyrics_list=[]\n",
        "lyrics = generateLyrics(seed_text, model)\n",
        "lyrics_list.append(lyrics)\n",
        "lyrics_list"
      ],
      "metadata": {
        "colab": {
          "base_uri": "https://localhost:8080/"
        },
        "id": "WeMZLO0PFJ6z",
        "outputId": "9898766c-309b-48e8-cbe0-628286e4687d"
      },
      "execution_count": 25,
      "outputs": [
        {
          "output_type": "execute_result",
          "data": {
            "text/plain": [
              "['feeling so faithless lost under the surface listening listening religion seems religion brings soar take under blessing inspiration place place place weak adore across heat won won won won won won won won won won won won won won won won won won won won won won won won won won won won won won won won won won won won won won won won won won won won won won won won won won won won won won won won won won won won won won won won won won won won won won won won won won won won won won won won won won']"
            ]
          },
          "metadata": {},
          "execution_count": 25
        }
      ]
    },
    {
      "cell_type": "code",
      "source": [
        "#Save Results to text file\n",
        "outputdf=pd.DataFrame(lyrics_list)\n",
        "outputdf.to_csv(\"feeling so faithless lost under the surface_GRU.txt\", header=False, index=False, encoding=\"utf-8\")\n",
        "files.download(\"feeling so faithless lost under the surface_GRU.txt\")"
      ],
      "metadata": {
        "colab": {
          "base_uri": "https://localhost:8080/",
          "height": 17
        },
        "id": "gyTeFltaRhTf",
        "outputId": "b96704ce-3a4e-4c64-dc3e-fdc847d0ae2b"
      },
      "execution_count": 28,
      "outputs": [
        {
          "output_type": "display_data",
          "data": {
            "text/plain": [
              "<IPython.core.display.Javascript object>"
            ],
            "application/javascript": [
              "\n",
              "    async function download(id, filename, size) {\n",
              "      if (!google.colab.kernel.accessAllowed) {\n",
              "        return;\n",
              "      }\n",
              "      const div = document.createElement('div');\n",
              "      const label = document.createElement('label');\n",
              "      label.textContent = `Downloading \"${filename}\": `;\n",
              "      div.appendChild(label);\n",
              "      const progress = document.createElement('progress');\n",
              "      progress.max = size;\n",
              "      div.appendChild(progress);\n",
              "      document.body.appendChild(div);\n",
              "\n",
              "      const buffers = [];\n",
              "      let downloaded = 0;\n",
              "\n",
              "      const channel = await google.colab.kernel.comms.open(id);\n",
              "      // Send a message to notify the kernel that we're ready.\n",
              "      channel.send({})\n",
              "\n",
              "      for await (const message of channel.messages) {\n",
              "        // Send a message to notify the kernel that we're ready.\n",
              "        channel.send({})\n",
              "        if (message.buffers) {\n",
              "          for (const buffer of message.buffers) {\n",
              "            buffers.push(buffer);\n",
              "            downloaded += buffer.byteLength;\n",
              "            progress.value = downloaded;\n",
              "          }\n",
              "        }\n",
              "      }\n",
              "      const blob = new Blob(buffers, {type: 'application/binary'});\n",
              "      const a = document.createElement('a');\n",
              "      a.href = window.URL.createObjectURL(blob);\n",
              "      a.download = filename;\n",
              "      div.appendChild(a);\n",
              "      a.click();\n",
              "      div.remove();\n",
              "    }\n",
              "  "
            ]
          },
          "metadata": {}
        },
        {
          "output_type": "display_data",
          "data": {
            "text/plain": [
              "<IPython.core.display.Javascript object>"
            ],
            "application/javascript": [
              "download(\"download_3d593d26-2748-4bb4-804e-af71b68958a6\", \"feeling so faithless lost under the surface_GRU.txt\", 501)"
            ]
          },
          "metadata": {}
        }
      ]
    },
    {
      "cell_type": "code",
      "source": [
        "'''\n",
        "Positive input seeds:\n",
        "Relight our fire, we will find our way \n",
        "We will rise stronger together  \n",
        "'''\n",
        "seed_text = \"relight our fire we will find our way\"\n",
        "lyrics_list=[]\n",
        "lyrics = generateLyrics(seed_text, model)\n",
        "lyrics_list.append(lyrics)\n",
        "lyrics_list"
      ],
      "metadata": {
        "colab": {
          "base_uri": "https://localhost:8080/"
        },
        "id": "hBrLAZhnFZUY",
        "outputId": "b41fa226-8ba2-4d1a-f142-fae6dc2e758d"
      },
      "execution_count": 29,
      "outputs": [
        {
          "output_type": "execute_result",
          "data": {
            "text/plain": [
              "['relight our fire we will find our way stood very stronger easy price fly price passing storys forever freedom finding understand streams nights about stood very minds wait minds breathe possible well im little strong nothings up very down higher gold chapter gold possible began across minds easy minds minds wait minds ill nights nights celebrate uk celebrations up freedom finding chance thankful thankful oh esplanade blessing across evening nights wall celebrate higher gold gold chapter gold amazing you chapter gold selfexplanatory freedom colleagues gold gold amazing down gold amazing gold down contribute neighbourhood cannot aheads signs despair bell you selfexplanatory used as gold amazing down gold amazing']"
            ]
          },
          "metadata": {},
          "execution_count": 29
        }
      ]
    },
    {
      "cell_type": "code",
      "source": [
        "#Save Results to text file\n",
        "outputdf=pd.DataFrame(lyrics_list)\n",
        "outputdf.to_csv(\"relight our fire we will find our way_GRU.txt\", header=False, index=False, encoding=\"utf-8\")\n",
        "files.download(\"relight our fire we will find our way_GRU.txt\")"
      ],
      "metadata": {
        "colab": {
          "base_uri": "https://localhost:8080/",
          "height": 17
        },
        "id": "DDo8VK7LRvvP",
        "outputId": "f66ccfec-7bda-46ed-8779-a3d392469977"
      },
      "execution_count": 30,
      "outputs": [
        {
          "output_type": "display_data",
          "data": {
            "text/plain": [
              "<IPython.core.display.Javascript object>"
            ],
            "application/javascript": [
              "\n",
              "    async function download(id, filename, size) {\n",
              "      if (!google.colab.kernel.accessAllowed) {\n",
              "        return;\n",
              "      }\n",
              "      const div = document.createElement('div');\n",
              "      const label = document.createElement('label');\n",
              "      label.textContent = `Downloading \"${filename}\": `;\n",
              "      div.appendChild(label);\n",
              "      const progress = document.createElement('progress');\n",
              "      progress.max = size;\n",
              "      div.appendChild(progress);\n",
              "      document.body.appendChild(div);\n",
              "\n",
              "      const buffers = [];\n",
              "      let downloaded = 0;\n",
              "\n",
              "      const channel = await google.colab.kernel.comms.open(id);\n",
              "      // Send a message to notify the kernel that we're ready.\n",
              "      channel.send({})\n",
              "\n",
              "      for await (const message of channel.messages) {\n",
              "        // Send a message to notify the kernel that we're ready.\n",
              "        channel.send({})\n",
              "        if (message.buffers) {\n",
              "          for (const buffer of message.buffers) {\n",
              "            buffers.push(buffer);\n",
              "            downloaded += buffer.byteLength;\n",
              "            progress.value = downloaded;\n",
              "          }\n",
              "        }\n",
              "      }\n",
              "      const blob = new Blob(buffers, {type: 'application/binary'});\n",
              "      const a = document.createElement('a');\n",
              "      a.href = window.URL.createObjectURL(blob);\n",
              "      a.download = filename;\n",
              "      div.appendChild(a);\n",
              "      a.click();\n",
              "      div.remove();\n",
              "    }\n",
              "  "
            ]
          },
          "metadata": {}
        },
        {
          "output_type": "display_data",
          "data": {
            "text/plain": [
              "<IPython.core.display.Javascript object>"
            ],
            "application/javascript": [
              "download(\"download_44c4c521-9af7-418f-8d73-3b471321acaf\", \"relight our fire we will find our way_GRU.txt\", 720)"
            ]
          },
          "metadata": {}
        }
      ]
    },
    {
      "cell_type": "code",
      "source": [
        "seed_text = \"we will rise stronger together\"\n",
        "lyrics_list=[]\n",
        "lyrics = generateLyrics(seed_text, model)\n",
        "lyrics_list.append(lyrics)\n",
        "lyrics_list"
      ],
      "metadata": {
        "colab": {
          "base_uri": "https://localhost:8080/"
        },
        "id": "9P13ZjZAGq57",
        "outputId": "84d846bd-c76e-49ef-9108-af46b9e81b72"
      },
      "execution_count": 31,
      "outputs": [
        {
          "output_type": "execute_result",
          "data": {
            "text/plain": [
              "['we will rise stronger together easy lights cant nights uneventfullest uk play celebrations up freedom freedom finding finding chance sunny im im regardless im im im im im im im im im im im im im im im im im im im im im im im im im im im im im im im im im im im im im im im im im im im im im im im im im im im im im im im im im im im im im im im im im im im im im im im im im im im im im im im im im im']"
            ]
          },
          "metadata": {},
          "execution_count": 31
        }
      ]
    },
    {
      "cell_type": "code",
      "source": [
        "#Save Results to text file\n",
        "outputdf=pd.DataFrame(lyrics_list)\n",
        "outputdf.to_csv(\"we will rise stronger together_GRU.txt\", header=False, index=False, encoding=\"utf-8\")\n",
        "files.download(\"we will rise stronger together_GRU.txt\")"
      ],
      "metadata": {
        "colab": {
          "base_uri": "https://localhost:8080/",
          "height": 17
        },
        "id": "grUvJ3CUR7iq",
        "outputId": "30bc453b-38c4-480e-df37-49afe265843e"
      },
      "execution_count": 32,
      "outputs": [
        {
          "output_type": "display_data",
          "data": {
            "text/plain": [
              "<IPython.core.display.Javascript object>"
            ],
            "application/javascript": [
              "\n",
              "    async function download(id, filename, size) {\n",
              "      if (!google.colab.kernel.accessAllowed) {\n",
              "        return;\n",
              "      }\n",
              "      const div = document.createElement('div');\n",
              "      const label = document.createElement('label');\n",
              "      label.textContent = `Downloading \"${filename}\": `;\n",
              "      div.appendChild(label);\n",
              "      const progress = document.createElement('progress');\n",
              "      progress.max = size;\n",
              "      div.appendChild(progress);\n",
              "      document.body.appendChild(div);\n",
              "\n",
              "      const buffers = [];\n",
              "      let downloaded = 0;\n",
              "\n",
              "      const channel = await google.colab.kernel.comms.open(id);\n",
              "      // Send a message to notify the kernel that we're ready.\n",
              "      channel.send({})\n",
              "\n",
              "      for await (const message of channel.messages) {\n",
              "        // Send a message to notify the kernel that we're ready.\n",
              "        channel.send({})\n",
              "        if (message.buffers) {\n",
              "          for (const buffer of message.buffers) {\n",
              "            buffers.push(buffer);\n",
              "            downloaded += buffer.byteLength;\n",
              "            progress.value = downloaded;\n",
              "          }\n",
              "        }\n",
              "      }\n",
              "      const blob = new Blob(buffers, {type: 'application/binary'});\n",
              "      const a = document.createElement('a');\n",
              "      a.href = window.URL.createObjectURL(blob);\n",
              "      a.download = filename;\n",
              "      div.appendChild(a);\n",
              "      a.click();\n",
              "      div.remove();\n",
              "    }\n",
              "  "
            ]
          },
          "metadata": {}
        },
        {
          "output_type": "display_data",
          "data": {
            "text/plain": [
              "<IPython.core.display.Javascript object>"
            ],
            "application/javascript": [
              "download(\"download_f704b50c-3a60-4c30-a47f-af0a48a32ce1\", \"we will rise stronger together_GRU.txt\", 402)"
            ]
          },
          "metadata": {}
        }
      ]
    },
    {
      "cell_type": "code",
      "source": [
        ""
      ],
      "metadata": {
        "id": "B_Y8POWz64xe"
      },
      "execution_count": null,
      "outputs": []
    }
  ]
}